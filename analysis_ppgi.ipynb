{
 "cells": [
  {
   "cell_type": "code",
   "execution_count": 26,
   "metadata": {},
   "outputs": [],
   "source": [
    "import pandas as pd\n",
    "import numpy as np\n",
    "import matplotlib.pyplot as plt\n",
    "import plotly.express as px\n",
    "import plotly.graph_objects as go\n",
    "\n",
    "pd.set_option('display.max_rows', 500)\n",
    "pd.set_option('display.max_columns', 500)\n",
    "pd.set_option('display.width', 1000)"
   ]
  },
  {
   "cell_type": "markdown",
   "metadata": {},
   "source": [
    "## Load dataset"
   ]
  },
  {
   "cell_type": "code",
   "execution_count": 28,
   "metadata": {},
   "outputs": [],
   "source": [
    "df = pd.read_csv('data/hist_ppgi.csv', sep=';',encoding='latin-1')"
   ]
  },
  {
   "cell_type": "markdown",
   "metadata": {},
   "source": [
    "### Data preprocessing: removing irrelevant attributes from raw data"
   ]
  },
  {
   "cell_type": "code",
   "execution_count": 29,
   "metadata": {},
   "outputs": [
    {
     "data": {
      "text/html": [
       "<div>\n",
       "<style scoped>\n",
       "    .dataframe tbody tr th:only-of-type {\n",
       "        vertical-align: middle;\n",
       "    }\n",
       "\n",
       "    .dataframe tbody tr th {\n",
       "        vertical-align: top;\n",
       "    }\n",
       "\n",
       "    .dataframe thead th {\n",
       "        text-align: right;\n",
       "    }\n",
       "</style>\n",
       "<table border=\"1\" class=\"dataframe\">\n",
       "  <thead>\n",
       "    <tr style=\"text-align: right;\">\n",
       "      <th></th>\n",
       "      <th>Período</th>\n",
       "      <th>Código da Disciplina</th>\n",
       "      <th>Disciplina</th>\n",
       "      <th>Turma</th>\n",
       "      <th>Menção</th>\n",
       "      <th>Modalidade</th>\n",
       "    </tr>\n",
       "  </thead>\n",
       "  <tbody>\n",
       "    <tr>\n",
       "      <th>0</th>\n",
       "      <td>20102</td>\n",
       "      <td>316261</td>\n",
       "      <td>Tópicos em Engenharia de Software             ...</td>\n",
       "      <td>A</td>\n",
       "      <td>SS</td>\n",
       "      <td>OPT</td>\n",
       "    </tr>\n",
       "    <tr>\n",
       "      <th>1</th>\n",
       "      <td>20102</td>\n",
       "      <td>316440</td>\n",
       "      <td>Sistemas Distribuídos                         ...</td>\n",
       "      <td>A</td>\n",
       "      <td>MS</td>\n",
       "      <td>OPT</td>\n",
       "    </tr>\n",
       "    <tr>\n",
       "      <th>2</th>\n",
       "      <td>20102</td>\n",
       "      <td>316032</td>\n",
       "      <td>Inteligência Artificial 2                     ...</td>\n",
       "      <td>A</td>\n",
       "      <td>SS</td>\n",
       "      <td>OPT</td>\n",
       "    </tr>\n",
       "    <tr>\n",
       "      <th>3</th>\n",
       "      <td>20102</td>\n",
       "      <td>316504</td>\n",
       "      <td>Tópicos em Fundamentos e Métodos de Computação...</td>\n",
       "      <td>A</td>\n",
       "      <td>MS</td>\n",
       "      <td>OPT</td>\n",
       "    </tr>\n",
       "    <tr>\n",
       "      <th>4</th>\n",
       "      <td>20102</td>\n",
       "      <td>316296</td>\n",
       "      <td>Teoria da Computação                          ...</td>\n",
       "      <td>A</td>\n",
       "      <td>MM</td>\n",
       "      <td>OBR</td>\n",
       "    </tr>\n",
       "  </tbody>\n",
       "</table>\n",
       "</div>"
      ],
      "text/plain": [
       "   Período  Código da Disciplina                                         Disciplina Turma Menção Modalidade\n",
       "0    20102                316261  Tópicos em Engenharia de Software             ...    A      SS        OPT\n",
       "1    20102                316440  Sistemas Distribuídos                         ...    A      MS        OPT\n",
       "2    20102                316032  Inteligência Artificial 2                     ...    A      SS        OPT\n",
       "3    20102                316504  Tópicos em Fundamentos e Métodos de Computação...    A      MS        OPT\n",
       "4    20102                316296  Teoria da Computação                          ...    A      MM        OBR"
      ]
     },
     "execution_count": 29,
     "metadata": {},
     "output_type": "execute_result"
    }
   ],
   "source": [
    "df = df.drop(['Nome','Matrícula','Curso','Código do Curso','Código da Opção','Nível'], axis=1)\n",
    "\n",
    "nroInstances,nroAttributes = df.shape\n",
    "\n",
    "df.head()"
   ]
  },
  {
   "cell_type": "markdown",
   "metadata": {},
   "source": [
    "### Group all courses of PPGI"
   ]
  },
  {
   "cell_type": "code",
   "execution_count": 32,
   "metadata": {},
   "outputs": [
    {
     "data": {
      "application/vnd.plotly.v1+json": {
       "config": {
        "plotlyServerURL": "https://plot.ly"
       },
       "data": [
        {
         "domain": {
          "x": [
           0,
           1
          ],
          "y": [
           0,
           1
          ]
         },
         "hovertemplate": "Disciplina=%{label}<extra></extra>",
         "labels": [
          "Tópicos em Engenharia de Software                                     ",
          "Sistemas Distribuídos                                                 ",
          "Inteligência Artificial 2                                             ",
          "Tópicos em Fundamentos e Métodos de Computação                        ",
          "Teoria da Computação                                                  ",
          "Tópicos em Fundamentos e Métodos de Computação                        ",
          "Teoria da Computação                                                  ",
          "Tópicos em Sistemas de Computação                                     ",
          "Processamento de Sinais                                               ",
          "Teoria da Computação                                                  ",
          "Tópicos em Engenharia de Software                                     ",
          "Seminário                                                             ",
          "Tópicos em Fundamentos e Métodos de Computação                        ",
          "Proficiência em Inglês                                                ",
          "Inteligência Artificial 2                                             ",
          "Teoria da Computação                                                  ",
          "Sistemas Distribuídos                                                 ",
          "Proficiência em Inglês                                                ",
          "Geometria Diferencial                                                 ",
          "Seminário de Computação                                               ",
          "Teoria da Computação                                                  ",
          "Tópicos em Fundamentos e Métodos de Computação                        ",
          "Teoria da Computação                                                  ",
          "Tópicos em Fundamentos e Métodos de Computação                        ",
          "Teoria da Computação                                                  ",
          "Ecologia de Paisagens                                                 ",
          "Processamento de Imagens Digitais                                     ",
          "Tópicos em Fundamentos e Métodos de Computação                        ",
          "Tópicos em Engenharia de Software                                     ",
          "Inteligência Artificial 2                                             ",
          "Teoria da Computação                                                  ",
          "Sistemas Distribuídos                                                 ",
          "Teoria dos Grupos Finitos 2                                           ",
          "Tópicos em Fundamentos e Métodos de Computação                        ",
          "Tópicos em Engenharia de Software                                     ",
          "Teoria da Computação                                                  ",
          "Engenharia de Software 2                                              ",
          "Sistemas Multiagentes                                                 ",
          "Inteligência Artificial 1                                             ",
          "Sistemas Multiagentes                                                 ",
          "Inteligência Artificial 1                                             ",
          "Projeto e Complexidade de Algoritmos                                  ",
          "Engenharia de Software 1                                              ",
          "Engenharia de Software 2                                              ",
          "Tópicos em Engenharia de Software                                     ",
          "Fundamentos de Sistemas Computacionais                                ",
          "Tópicos em Fundamentos e Métodos de Computação                        ",
          "Proficiência em Inglês                                                ",
          "Sistemas Multiagentes                                                 ",
          "Instrumentação Eletromédica                                           ",
          "Projeto de Equipamentos Médicos                                       ",
          "Fundamentos de Sistemas Computacionais                                ",
          "Tópicos em Sistemas de Computação                                     ",
          "Tópicos em Fundamentos e Métodos de Computação                        ",
          "Tópicos de Pesquisa em Informática                                    ",
          "Sistemas Multiagentes                                                 ",
          "Fundamentos de Sistemas Computacionais                                ",
          "Projeto e Complexidade de Algoritmos                                  ",
          "Seminário                                                             ",
          "Criptografia                                                          ",
          "Criptografia e Segurança de Dados                                     ",
          "Seminário                                                             ",
          "Projeto e Complexidade de Algoritmos                                  ",
          "Teoria de Grupos Finitos                                              ",
          "Teoria de Grupos Finitos 1                                            ",
          "Proficiência em Inglês                                                ",
          "Sistemas Multiagentes                                                 ",
          "Seminário                                                             ",
          "Sistemas Multiagentes                                                 ",
          "Fundamentos de Sistemas Computacionais                                ",
          "Projeto e Complexidade de Algoritmos                                  ",
          "Fundamentos de Sistemas Computacionais                                ",
          "Projeto e Complexidade de Algoritmos                                  ",
          "Projeto e Complexidade de Algoritmos                                  ",
          "Tópicos em Fundamentos e Métodos de Computação                        ",
          "Seminário                                                             ",
          "Proficiência em Inglês                                                ",
          "Projeto e Complexidade de Algoritmos                                  ",
          "Fundamentos de Sistemas Computacionais                                ",
          "Projeto e Complexidade de Algoritmos                                  ",
          "Projeto e Complexidade de Algoritmos                                  ",
          "Fundamentos de Sistemas Computacionais                                ",
          "Proficiência em Inglês                                                ",
          "Sistemas Multiagentes                                                 ",
          "Projeto e Complexidade de Algoritmos                                  ",
          "Projeto e Complexidade de Algoritmos                                  ",
          "Tópicos de Pesquisa em Informática                                    ",
          "Tópicos Especiais em Métodos Quantitativos 2                          ",
          "Inteligência Artificial 2                                             ",
          "Tópicos em Engenharia de Software                                     ",
          "Seminário                                                             ",
          "Sistemas Multiagentes                                                 ",
          "Estágio de Docência no Ensino de Graduação em Ciência da Computação   ",
          "Seminário                                                             ",
          "Trabalho Individual em Fundamentos e Métodos de Computação            ",
          "Exame de Qualificação                                                 ",
          "Estudo Orientado em Instrumentação Biomédica 1                        ",
          "Arquiteturas VLSI                                                     ",
          "Estudo Orientado em Proc de Sinais Biomédicos e Imagens Médicas 1     ",
          "Tópicos em Fundamentos e Métodos de Computação                        ",
          "Redes de Computadores                                                 ",
          "Tópicos Especiais em Métodos Quantitativos 2                          ",
          "Trabalho Individual em Fundamentos e Métodos de Computação            ",
          "Álgebra Comutativa                                                    ",
          "Teoria da Computação                                                  ",
          "Estágio de Docência no Ensino de Graduação em Ciência da Computação   ",
          "Lógica Formal Aplicada                                                ",
          "Teoria da Computação                                                  ",
          "Processamento de Imagens Digitais                                     ",
          "Tópicos em Sistemas de Computação                                     ",
          "Tópicos em Fundamentos e Métodos de Computação                        ",
          "Tópicos em Engenharia de Software                                     ",
          "Tópicos de Pesquisa em Informática                                    ",
          "Seminário de Computação                                               ",
          "Tópicos de Pesquisa em Informática                                    ",
          "Teoria da Computação                                                  ",
          "Projeto e Complexidade de Algorítmos 2                                ",
          "Teoria da Computação                                                  ",
          "Teoria da Computação                                                  ",
          "Proficiência em Inglês                                                ",
          "Projeto e Complexidade de Algorítmos 2                                ",
          "Trabalho Individual em Fundamentos e Métodos de Computação            ",
          "Teoria da Computação                                                  ",
          "Teoria da Computação                                                  ",
          "Processamento de Imagens Digitais                                     ",
          "Processamento de Imagens Digitais                                     ",
          "Tópicos em Engenharia de Software                                     ",
          "Teoria da Computação                                                  ",
          "Redes de Computadores                                                 ",
          "Tópicos de Pesquisa em Informática                                    ",
          "Teoria da Computação                                                  ",
          "Projeto e Complexidade de Algorítmos 2                                ",
          "Exame de Qualificação                                                 ",
          "Teoria dos Jogos                                                      ",
          "Exame de Qualificação                                                 ",
          "Estágio de Docência no Ensino de Graduação em Ciência da Computação   ",
          "Fundamentos de Sistemas Computacionais                                ",
          "Trabalho Individual em Fundamentos e Métodos de Computação            ",
          "Exame de Qualificação                                                 ",
          "Inteligência Artificial 1                                             ",
          "Projeto e Complexidade de Algoritmos                                  ",
          "Seminário                                                             ",
          "Proficiência em Inglês                                                ",
          "Teoria dos Jogos                                                      ",
          "Tópicos em Sistemas de Computação                                     ",
          "Sistemas Multiagentes                                                 ",
          "Medida e Integração                                                   ",
          "Tópicos em Fundamentos e Métodos de Computação                        ",
          "Proficiência em Inglês                                                ",
          "Exame de Qualificação                                                 ",
          "Informação e Codificação                                              ",
          "Teoria da Computação                                                  ",
          "Inteligência Artificial 1                                             ",
          "Sistemas Multiagentes                                                 ",
          "Teoria da Computação                                                  ",
          "Fundamentos de Sistemas Computacionais                                ",
          "Processamento de Imagens Digitais                                     ",
          "Projeto e Complexidade de Algoritmos                                  ",
          "Reconhecimento de Padrões                                             ",
          "Tópicos em Sistemas de Computação                                     ",
          "Inteligência Artificial 1                                             ",
          "Tópicos em Engenharia de Software                                     ",
          "Projeto e Complexidade de Algoritmos                                  ",
          "Tópicos em Fundamentos e Métodos de Computação                        ",
          "Fundamentos de Sistemas Computacionais                                ",
          "Fundamentos de Sistemas Computacionais                                ",
          "Fundamentos de Sistemas Computacionais                                ",
          "Projeto e Complexidade de Algoritmos                                  ",
          "Teoria dos Jogos                                                      ",
          "Inteligência Artificial 1                                             ",
          "Fundamentos de Sistemas Computacionais                                ",
          "Projeto e Complexidade de Algoritmos                                  ",
          "Fundamentos de Sistemas Computacionais                                ",
          "Projeto e Complexidade de Algoritmos                                  ",
          "Processamento de Sinais                                               ",
          "Fundamentos de Sistemas Computacionais                                ",
          "Projeto e Complexidade de Algoritmos                                  ",
          "Tópicos em Sistemas de Computação                                     ",
          "Fundamentos de Sistemas Computacionais                                ",
          "Seminário                                                             ",
          "Tópicos em Sistemas de Computação                                     ",
          "Projeto e Complexidade de Algoritmos                                  ",
          "Sistemas Multiagentes                                                 ",
          "Teoria da Computação                                                  ",
          "Fundamentos de Sistemas Computacionais                                ",
          "Processamento de Imagens Digitais                                     ",
          "Projeto e Complexidade de Algoritmos                                  ",
          "Reconhecimento de Padrões                                             ",
          "Tópicos em Sistemas de Computação                                     ",
          "Fundamentos de Sistemas Computacionais                                ",
          "Fundamentos de Sistemas Computacionais                                ",
          "Fundamentos de Sistemas Computacionais                                ",
          "Projeto e Complexidade de Algoritmos                                  ",
          "Trabalho Individual em Sistemas de Computação                         ",
          "Sistemas Distribuídos                                                 ",
          "Tópicos em Fundamentos e Métodos de Computação                        ",
          "Exame de Qualificação                                                 ",
          "Trabalho Individual em Sistemas de Computação                         ",
          "Estágio de Docência no Ensino de Graduação em Ciência da Computação   ",
          "Trabalho Individual em Fundamentos e Métodos de Computação            ",
          "Tópicos de Pesquisa em Informática                                    ",
          "Trabalho Individual em Sistemas de Computação                         ",
          "Proficiência em Inglês                                                ",
          "Processamento Digital de Sinais                                       ",
          "Trabalho Individual em Fundamentos e Métodos de Computação            ",
          "Sistemas Distribuídos                                                 ",
          "Tópicos em Sistemas de Computação                                     ",
          "Tópicos em Fundamentos e Métodos de Computação                        ",
          "Inteligência Artificial 2                                             ",
          "Tópicos em Fundamentos e Métodos de Computação                        ",
          "Inteligência Artificial 2                                             ",
          "Engenharia de Software 1                                              ",
          "Tópicos em Engenharia de Software                                     ",
          "Teoria da Computação                                                  ",
          "Estágio de Docência no Ensino de Graduação em Ciência da Computação   ",
          "Sistemas Distribuídos                                                 ",
          "Estágio de Docência no Ensino de Graduação em Ciência da Computação   ",
          "Tópicos em Fundamentos e Métodos de Computação                        ",
          "Tópicos em Fundamentos e Métodos de Computação                        ",
          "Tópicos em Sistemas de Computação                                     ",
          "Teoria da Computação                                                  ",
          "Sistemas Distribuídos                                                 ",
          "Tópicos em Fundamentos e Métodos de Computação                        ",
          "Inteligência Artificial 2                                             ",
          "Teoria da Computação                                                  ",
          "Sistemas Digitais para Automação                                      ",
          "Teoria da Computação                                                  ",
          "Processamento de Imagens Digitais                                     ",
          "Teoria da Computação                                                  ",
          "Tópicos em Fundamentos e Métodos de Computação                        ",
          "Seminário                                                             ",
          "Apresentação de Grupos e Métodos Computacionais                       ",
          "Tópicos em Sistemas de Computação                                     ",
          "Processamento Digital de Sinais                                       ",
          "Tópicos em Fundamentos e Métodos de Computação                        ",
          "Tópicos em Sistemas de Computação                                     ",
          "Teoria da Computação                                                  ",
          "Sistemas Digitais para Automação                                      ",
          "Estágio de Docência no Ensino de Graduação em Ciência da Computação   ",
          "Fundamentos de Sistemas Computacionais                                ",
          "Projeto e Complexidade de Algoritmos                                  ",
          "Exame de Qualificação                                                 ",
          "Tópicos em Sistemas de Computação                                     ",
          "Trabalho Individual em Fundamentos e Métodos de Computação            ",
          "Estágio de Docência no Ensino de Graduação em Ciência da Computação   ",
          "Engenharia de Software 2                                              ",
          "Fundamentos de Sistemas Computacionais                                ",
          "Tópicos em Fundamentos e Métodos de Computação                        ",
          "Proficiência em Inglês                                                ",
          "Projeto e Complexidade de Algoritmos                                  ",
          "Tópicos em Fundamentos e Métodos de Computação                        ",
          "Delineamento e Análise de Experimentos                                ",
          "Engenharia de Software 2                                              ",
          "Estágio de Docência no Ensino de Graduação em Ciência da Computação   ",
          "Projeto e Complexidade de Algoritmos                                  ",
          "Estágio de Docência no Ensino de Graduação em Ciência da Computação   ",
          "Inteligência Artificial 1                                             ",
          "Modelos em Ecologia                                                   ",
          "Tópicos em Sistemas de Computação                                     ",
          "Proficiência em Inglês                                                ",
          "Inteligência Artificial 1                                             ",
          "Tópicos em Sistemas de Computação                                     ",
          "Tópicos em Fundamentos e Métodos de Computação                        ",
          "Fundamentos de Sistemas Computacionais                                ",
          "Tópicos em Fundamentos e Métodos de Computação                        ",
          "Seminário                                                             ",
          "Tópicos em Sistemas de Computação                                     ",
          "Fundamentos de Sistemas Computacionais                                ",
          "Projeto e Complexidade de Algoritmos                                  ",
          "Engenharia de Software 2                                              ",
          "Tópicos em Fundamentos e Métodos de Computação                        ",
          "Tópicos em Fundamentos e Métodos de Computação                        ",
          "Fundamentos de Sistemas Computacionais                                ",
          "Projeto e Complexidade de Algoritmos                                  ",
          "Fundamentos de Sistemas Computacionais                                ",
          "Projeto e Complexidade de Algoritmos                                  ",
          "Fundamentos de Sistemas Computacionais                                ",
          "Inteligência Artificial 1                                             ",
          "Fundamentos de Sistemas Computacionais                                ",
          "Projeto e Complexidade de Algoritmos                                  ",
          "Tópicos em Redes de Comunicação 1                                     ",
          "Tópicos em Teleinformática                                            ",
          "Processos Estocásticos                                                ",
          "Projeto e Complexidade de Algoritmos                                  ",
          "Tópicos em Sistemas de Computação                                     ",
          "Tópicos em Fundamentos e Métodos de Computação                        ",
          "Tópicos em Fundamentos e Métodos de Computação                        ",
          "Exame de Qualificação                                                 ",
          "Estágio de Docência no Ensino de Graduação em Ciência da Computação   ",
          "Exame de Qualificação                                                 ",
          "Teoria da Informação                                                  ",
          "Estágio de Docência no Ensino de Graduação em Ciência da Computação   ",
          "Exame de Qualificação                                                 ",
          "Seminário                                                             ",
          "Trabalho Individual em Fundamentos e Métodos de Computação            ",
          "Estágio de Docência no Ensino de Graduação em Ciência da Computação   ",
          "Seminário                                                             ",
          "Sistemas Multiagentes                                                 ",
          "Teoria da Computação                                                  ",
          "Seminário                                                             ",
          "Trabalho Individual em Sistemas de Computação                         ",
          "Inteligência Artificial 2                                             ",
          "Arquiteturas VLSI                                                     ",
          "Inteligência Artificial 2                                             ",
          "Estágio de Docência no Ensino de Graduação em Ciência da Computação   ",
          "Proficiência em Inglês                                                ",
          "Introdução à Probabilidade e Aplicações                               ",
          "Inteligência Artificial 2                                             ",
          "Tópicos em Fundamentos e Métodos de Computação                        ",
          "Seminário                                                             ",
          "Tópicos em Fundamentos e Métodos de Computação                        ",
          "Teoria da Computação                                                  ",
          "Tópicos em Fundamentos e Métodos de Computação                        ",
          "Sistemas Multiagentes                                                 ",
          "Algoritmos e Estruturas de Dados                                      ",
          "Fundamentos de Banco de Dados                                         ",
          "Análise Estatística de Dados e Informações                            ",
          "Mineração de Dados                                                    ",
          "Teoria da Computação                                                  ",
          "Teoria da Computação                                                  ",
          "Estágio de Docência no Ensino de Graduação em Ciência da Computação   ",
          "Teoria da Computação                                                  ",
          "Teoria da Computação                                                  ",
          "Teoria da Computação                                                  ",
          "Inteligência Artificial 2                                             ",
          "Teoria da Computação                                                  ",
          "Teoria da Computação                                                  ",
          "Lógica Formal e Computacional                                         ",
          "Teoria da Informação                                                  ",
          "Teoria da Computação                                                  ",
          "Processamento de Imagens Digitais                                     ",
          "Processamento Digital de Sinais                                       ",
          "Tópicos em Engenharia de Software                                     ",
          "Inteligência Artificial 1                                             ",
          "Inteligência Artificial 2                                             ",
          "Inteligência Artificial 2                                             ",
          "Proficiência em Inglês                                                ",
          "Estágio de Docência no Ensino de Graduação em Ciência da Computação   ",
          "Exame de Qualificação                                                 ",
          "Estágio de Docência no Ensino de Graduação em Ciência da Computação   ",
          "Métodos Estatísticos 1                                                ",
          "Fundamentos de Sistemas Computacionais                                ",
          "Criptografia                                                          ",
          "Criptografia e Segurança de Dados                                     ",
          "Exame de Qualificação                                                 ",
          "Fundamentos de Sistemas Computacionais                                ",
          "Proficiência em Inglês                                                ",
          "Lógica Formal e Computacional                                         ",
          "Trabalho Individual em Fundamentos e Métodos de Computação            ",
          "Fundamentos de Sistemas Computacionais                                ",
          "Tópicos em Fundamentos e Métodos de Computação                        ",
          "Estágio de Docência no Ensino de Graduação em Ciência da Computação   ",
          "Proficiência em Inglês                                                ",
          "Seminário                                                             ",
          "Trabalho Individual em Fundamentos e Métodos de Computação            ",
          "Exame de Qualificação                                                 ",
          "Estágio de Docência no Ensino de Graduação em Ciência da Computação   ",
          "Estágio de Docência no Ensino de Graduação em Ciência da Computação   ",
          "Seminário                                                             ",
          "Proficiência em Inglês                                                ",
          "Lógica Formal e Computacional                                         ",
          "Engenharia de Software 2                                              ",
          "Estágio de Docência no Ensino de Graduação em Ciência da Computação   ",
          "Tópicos em Fundamentos e Métodos de Computação                        ",
          "Fundamentos de Sistemas Computacionais                                ",
          "Tópicos em Fundamentos e Métodos de Computação                        ",
          "Teoria da Computação                                                  ",
          "Programação Paralela                                                  ",
          "Projeto e Complexidade de Algoritmos                                  ",
          "Tópicos em Sistemas de Computação                                     ",
          "Proficiência em Inglês                                                ",
          "Tópicos Avançados em Sistemas de Computação                           ",
          "Inteligência Artificial 1                                             ",
          "Estágio de Docência no Ensino de Graduação em Ciência da Computação   ",
          "Projeto e Complexidade de Algoritmos                                  ",
          "Proficiência em Inglês                                                ",
          "Lógica Formal e Computacional                                         ",
          "Estágio de Docência no Ensino de Graduação em Ciência da Computação   ",
          "Proficiência em Inglês                                                ",
          "Métodos Estatísticos 1                                                ",
          "Inteligência Artificial 1                                             ",
          "Proficiência em Inglês                                                ",
          "Projeto e Complexidade de Algoritmos                                  ",
          "Sistemas Multiagentes                                                 ",
          "Sistemas Multiagentes                                                 ",
          "Proficiência em Inglês                                                ",
          "Lógica Formal e Computacional                                         ",
          "Inteligência Artificial 1                                             ",
          "Engenharia de Requisitos                                              ",
          "Arquitetura e Desenho de Software                                     ",
          "Construção de Software                                                ",
          "Verificação, Validação e Testes de Software                           ",
          "Tópicos Avançados em Engenharia de Software                           ",
          "Seminário                                                             ",
          "Fundamentos de Sistemas Computacionais                                ",
          "Seminário                                                             ",
          "Sistemas Multiagentes                                                 ",
          "Fundamentos de Sistemas Computacionais                                ",
          "Projeto e Complexidade de Algoritmos                                  ",
          "Tópicos em Sistemas de Computação                                     ",
          "Fundamentos de Sistemas Computacionais                                ",
          "Projeto e Complexidade de Algoritmos                                  ",
          "Projeto e Complexidade de Algoritmos                                  ",
          "Trabalho Individual em Fundamentos e Métodos de Computação            ",
          "Engenharia de Software 2                                              ",
          "Fundamentos de Sistemas Computacionais                                ",
          "Criptografia                                                          ",
          "Criptografia e Segurança de Dados                                     ",
          "Fundamentos de Sistemas Computacionais                                ",
          "Projeto e Complexidade de Algoritmos                                  ",
          "Projeto e Complexidade de Algoritmos                                  ",
          "Fundamentos de Sistemas Computacionais                                ",
          "Tópicos em Fundamentos e Métodos de Computação                        ",
          "Inteligência Artificial 1                                             ",
          "Lógica Formal e Computacional                                         ",
          "Lógica Formal e Computacional                                         ",
          "Inteligência Artificial 2                                             ",
          "Proficiência em Inglês                                                ",
          "Tópicos em Fundamentos e Métodos de Computação                        ",
          "Tópicos em Fundamentos e Métodos de Computação                        ",
          "Exame de Qualificação                                                 ",
          "Trabalho Individual em Fundamentos e Métodos de Computação            ",
          "Exame de Qualificação                                                 ",
          "Programação Paralela                                                  ",
          "Exame de Qualificação                                                 ",
          "Sistemas Distribuídos                                                 ",
          "Sistemas Distribuídos                                                 ",
          "Estágio de Docência no Ensino de Graduação em Ciência da Computação   ",
          "Arquiteturas VLSI                                                     ",
          "Processamento de Imagens                                              ",
          "Tópicos em Fundamentos e Métodos de Computação                        ",
          "Programação Paralela                                                  ",
          "Tópicos em Fundamentos e Métodos de Computação                        ",
          "Sistemas Distribuídos                                                 ",
          "Estágio de Docência no Ensino de Graduação em Ciência da Computação   ",
          "Delineamento e Análise de Experimentos                                ",
          "Tópicos em Sistemas de Computação                                     ",
          "Polonês 1                                                             ",
          "Inteligência Artificial 1                                             ",
          "Proficiência em Inglês                                                ",
          "Trabalho Individual em Sistemas de Computação                         ",
          "Inteligência Artificial 1                                             ",
          "Engenharia de Software 1                                              ",
          "Engenharia de Software 2                                              ",
          "Tópicos em Engenharia de Software                                     ",
          "Estágio de Docência no Ensino de Graduação em Ciência da Computação   ",
          "Seminário                                                             ",
          "Sistemas Distribuídos                                                 ",
          "Tópicos em Fundamentos e Métodos de Computação                        ",
          "Estágio de Docência no Ensino de Graduação em Ciência da Computação   ",
          "Estágio de Docência no Ensino de Graduação em Ciência da Computação   ",
          "Tópicos em Fundamentos e Métodos de Computação                        ",
          "Teoria da Computação                                                  ",
          "Sistemas Distribuídos                                                 ",
          "Tópicos em Fundamentos e Métodos de Computação                        ",
          "Teoria da Computação                                                  ",
          "Arquiteturas VLSI                                                     ",
          "Programação Paralela                                                  ",
          "Estágio de Docência no Ensino de Graduação em Ciência da Computação   ",
          "Seminário                                                             ",
          "Tópicos em Fundamentos e Métodos de Computação                        ",
          "Teoria da Computação                                                  ",
          "Proficiência em Inglês                                                ",
          "Estágio de Docência no Ensino de Graduação em Ciência da Computação   ",
          "Tópicos em Fundamentos e Métodos de Computação                        ",
          "Proficiência em Inglês                                                ",
          "Tópicos em Engenharia de Software                                     ",
          "Teoria da Computação                                                  ",
          "Seminário                                                             ",
          "Seminário                                                             ",
          "Sistemas Distribuídos                                                 ",
          "Tópicos em Fundamentos e Métodos de Computação                        ",
          "Teoria da Computação                                                  ",
          "Estágio de Docência no Ensino de Graduação em Ciência da Computação   ",
          "Tópicos em Fundamentos e Métodos de Computação                        ",
          "Sistemas Distribuídos                                                 ",
          "Criptografia                                                          ",
          "Criptografia e Segurança de Dados                                     ",
          "Introdução aos Sistemas Inteligentes                                  ",
          "Tópicos em Fundamentos e Métodos de Computação                        ",
          "Fundamentos de Sistemas Computacionais                                ",
          "Projeto e Complexidade de Algoritmos                                  ",
          "Exame de Qualificação                                                 ",
          "Seminário                                                             ",
          "Estágio de Docência no Ensino de Graduação em Ciência da Computação   ",
          "Trabalho Individual em Fundamentos e Métodos de Computação            ",
          "Tópicos em Sistemas de Computação                                     ",
          "Trabalho Individual em Fundamentos e Métodos de Computação            ",
          "Exame de Qualificação                                                 ",
          "Trabalho Individual em Sistemas de Computação                         ",
          "Trabalho Individual em Fundamentos e Métodos de Computação            ",
          "Proficiência em Inglês                                                ",
          "Linguagens Declarativas                                               ",
          "Linguagens Para Inteligencia Artificial                               ",
          "Seminário                                                             ",
          "Trabalho Individual em Sistemas de Computação                         ",
          "Programação Paralela                                                  ",
          "Tópicos em Fundamentos e Métodos de Computação                        ",
          "Proficiência em Inglês                                                ",
          "Teoria da Computação                                                  ",
          "Proficiência em Inglês                                                ",
          "Tópicos em Formalismos de Computação                                  ",
          "Visão Computacional                                                   ",
          "Fundamentos de Sistemas Computacionais                                ",
          "Projeto e Complexidade de Algoritmos                                  ",
          "Tópicos em Fundamentos e Métodos de Computação                        ",
          "Proficiência em Inglês                                                ",
          "Estágio de Docência no Ensino de Graduação em Ciência da Computação   ",
          "Seminário                                                             ",
          "Proficiência em Inglês                                                ",
          "Trabalho Individual em Sistemas de Computação                         ",
          "Proficiência em Inglês                                                ",
          "Programação Paralela                                                  ",
          "Fundamentos de Sistema de Informações Geográficas                     ",
          "Estágio de Docência no Ensino de Graduação em Ciência da Computação   ",
          "Seminário                                                             ",
          "Tópicos em Fundamentos e Métodos de Computação                        ",
          "Proficiência em Inglês                                                ",
          "Teoria da Computação                                                  ",
          "Projeto e Complexidade de Algoritmos                                  ",
          "Tópicos em Sistemas de Computação                                     ",
          "Estágio de Docência no Ensino de Graduação em Ciência da Computação   ",
          "Tópicos em Fundamentos e Métodos de Computação                        ",
          "Projeto e Complexidade de Algoritmos                                  ",
          "Tópicos em Formalismos de Computação                                  ",
          "Projeto e Complexidade de Algoritmos                                  ",
          "Fundamentos de Sistemas Computacionais                                ",
          "Projeto e Complexidade de Algoritmos                                  ",
          "Sistemas Multiagentes                                                 ",
          "Fundamentos de Sistemas Computacionais                                ",
          "Sistemas Multiagentes                                                 ",
          "Tópicos em Sistemas de Computação                                     ",
          "Programação Paralela                                                  ",
          "Fundamentos de Sistemas Computacionais                                ",
          "Projeto e Complexidade de Algoritmos                                  ",
          "Proficiência em Inglês                                                ",
          "Tópicos em Formalismos de Computação                                  ",
          "Tópicos em Fundamentos e Métodos da Computação                        ",
          "Sistemas Operacionais                                                 ",
          "Exame de Qualificação                                                 ",
          "Exame de Qualificação                                                 ",
          "Seminário                                                             ",
          "Exame de Qualificação                                                 ",
          "Estágio de Docência no Ensino de Graduação em Ciência da Computação   ",
          "Trabalho Individual em Sistemas de Computação                         ",
          "Exame de Qualificação                                                 ",
          "Fundamentos de Sistemas Computacionais                                ",
          "Seminário                                                             ",
          "Exame de Qualificação                                                 ",
          "Seminário                                                             ",
          "Seminário                                                             ",
          "Tópicos em Sistemas de Computação                                     ",
          "Tópicos em Fundamentos e Métodos de Computação                        ",
          "Trabalho Individual em Fundamentos e Métodos de Computação            ",
          "Tópicos em Engenharia de Software                                     ",
          "Fundamentos de Sistemas Computacionais                                ",
          "Estágio de Docência no Ensino de Graduação em Ciência da Computação   ",
          "Seminário                                                             ",
          "Processos Estocásticos                                                ",
          "Inteligência Artificial 2                                             ",
          "Teoria da Computação                                                  ",
          "Estágio de Docência no Ensino de Graduação em Ciência da Computação   ",
          "Tópicos em Fundamentos e Métodos de Computação                        ",
          "Estágio de Docência no Ensino de Graduação em Ciência da Computação   ",
          "Fundamentos de Sistemas Computacionais                                ",
          "Tópicos em Fundamentos e Métodos de Computação                        ",
          "Sistemas Multiagentes                                                 ",
          "Tópicos em Fundamentos e Métodos de Computação                        ",
          "Trabalho Individual em Fundamentos e Métodos de Computação            ",
          "Programação Paralela                                                  ",
          "Fundamentos de Sistemas Computacionais                                ",
          "Programação Paralela                                                  ",
          "Fundamentos de Sistemas Computacionais                                ",
          "Algoritmos e Estruturas de Dados                                      ",
          "Fundamentos de Banco de Dados                                         ",
          "Análise Estatística de Dados e Informações                            ",
          "Mineração de Dados                                                    ",
          "Gestão de Projetos de TI                                              ",
          "Tópicos em Fundamentos e Métodos de Computação                        ",
          "Exame de Qualificação                                                 ",
          "Tópicos em Sistemas de Computação                                     ",
          "Tópicos em Fundamentos e Métodos de Computação                        ",
          "Tópicos em Sistemas de Computação                                     ",
          "Tópicos em Fundamentos e Métodos de Computação                        ",
          "Seminário                                                             ",
          "Tópicos em Sistemas de Computação                                     ",
          "Proficiência em Inglês                                                ",
          "Seminário                                                             ",
          "Trabalho Individual em Fundamentos e Métodos de Computação            ",
          "Exame de Qualificação                                                 ",
          "Estágio de Docência no Ensino de Graduação em Ciência da Computação   ",
          "Exame de Qualificação                                                 ",
          "Teoria de Prova                                                       ",
          "Exame de Qualificação                                                 ",
          "Exame de Qualificação                                                 ",
          "Trabalho Individual em Fundamentos e Métodos de Computação            ",
          "Exame de Qualificação                                                 ",
          "Sistemas Distribuídos                                                 ",
          "Projeto e Complexidade de Algoritmos                                  ",
          "Trabalho Individual em Fundamentos e Métodos de Computação            ",
          "Estágio de Docência no Ensino de Graduação em Ciência da Computação   ",
          "Tópicos em Sistemas de Computação                                     ",
          "Trabalho Individual em Fundamentos e Métodos de Computação            ",
          "Seminário                                                             ",
          "Seminário                                                             ",
          "Estágio de Docência no Ensino de Graduação em Ciência da Computação   ",
          "Inteligência Artificial 1                                             ",
          "Projeto e Complexidade de Algoritmos                                  ",
          "Projeto e Complexidade de Algoritmos                                  ",
          "Tópicos em Sistemas de Computação                                     ",
          "Sistemas Distribuídos                                                 ",
          "Proficiência em Inglês                                                ",
          "Seminário                                                             ",
          "Sistemas Distribuídos                                                 ",
          "Tópicos em Sistemas de Computação                                     ",
          "Fundamentos de Sistemas Computacionais                                ",
          "Projeto e Complexidade de Algoritmos                                  ",
          "Seminário                                                             ",
          "Processamento de Imagens                                              ",
          "Tópicos em Sistemas de Computação                                     ",
          "Fundamentos de Computação Gráfica e Visual                            ",
          "Teoria da Computação                                                  ",
          "Programação Paralela                                                  ",
          "Fundamentos de Sistemas Computacionais                                ",
          "Projeto e Complexidade de Algoritmos                                  ",
          "Sistemas Distribuídos                                                 ",
          "Tópicos em Fundamentos e Métodos de Computação                        ",
          "Proficiência em Inglês                                                ",
          "Teoria da Computação                                                  ",
          "Fundamentos de Sistemas Computacionais                                ",
          "Tópicos em Sistemas de Computação                                     ",
          "Sistemas Multiagentes                                                 ",
          "Fundamentos de Sistemas Computacionais                                ",
          "Seminário                                                             ",
          "Sistemas Multiagentes                                                 ",
          "Sistemas Distribuídos                                                 ",
          "Estágio de Docência no Ensino de Graduação em Ciência da Computação   ",
          "Tópicos em Sistemas de Computação                                     ",
          "Sistemas Distribuídos                                                 ",
          "Banco de Dados Massivos                                               ",
          "Métodos Computacionais Intensivos para Mineração de Dados             ",
          "Mineração de Dados Massivos                                           ",
          "Noções Básicas de Seleção de Amostras                                 ",
          "Tópicos Avançados em Mineração de Dados                               ",
          "Fundamentos de Sistemas Computacionais                                ",
          "Projeto e Complexidade de Algoritmos                                  ",
          "Proficiência em Inglês                                                ",
          "Inteligência Artificial 1                                             ",
          "Estágio de Docência no Ensino de Graduação em Ciência da Computação   ",
          "Seminário                                                             ",
          "Projeto e Complexidade de Algoritmos                                  ",
          "Sistemas Multiagentes                                                 ",
          "Inteligência Artificial 1                                             ",
          "Treinamento e Desenvolvimento de Pessoal                              ",
          "Fundamentos de Sistemas Computacionais                                ",
          "Projeto e Complexidade de Algoritmos                                  ",
          "Sistemas Multiagentes                                                 ",
          "Projeto e Complexidade de Algoritmos                                  ",
          "Tópicos em Sistemas de Computação                                     ",
          "Proficiência em Inglês                                                ",
          "Projeto e Complexidade de Algoritmos                                  ",
          "Tópicos em Sistemas de Computação                                     ",
          "Fundamentos de Sistemas Computacionais                                ",
          "Sistemas Distribuídos                                                 ",
          "Fundamentos de Sistemas Computacionais                                ",
          "Projeto e Complexidade de Algoritmos                                  ",
          "Seminário                                                             ",
          "Tópicos em Fundamentos e Métodos de Computação                        ",
          "Estágio de Docência no Ensino de Graduação em Ciência da Computação   ",
          "Seminário                                                             ",
          "Proficiência em Inglês                                                ",
          "Fundamentos de Sistemas Computacionais                                ",
          "Projeto e Complexidade de Algoritmos                                  ",
          "Estágio de Docência no Ensino de Graduação em Ciência da Computação   ",
          "Trabalho Individual em Sistemas de Computação                         ",
          "Trabalho Individual em Sistemas de Computação                         ",
          "Programação Paralela                                                  ",
          "Estágio de Docência no Ensino de Graduação em Ciência da Computação   ",
          "Trabalho Individual em Fundamentos e Métodos de Computação            ",
          "Exame de Qualificação                                                 ",
          "Exame de Qualificação                                                 ",
          "Exame de Qualificação                                                 ",
          "Seminário                                                             ",
          "Trabalho Individual em Sistemas de Computação                         ",
          "Proficiência em Inglês                                                ",
          "Inteligência Artificial 2                                             ",
          "Proficiência em Inglês                                                ",
          "Fundamentos de Sistemas Computacionais                                ",
          "Seminário                                                             ",
          "Tópicos em Fundamentos e Métodos de Computação                        ",
          "Programação Paralela                                                  ",
          "Inteligência Artificial 2                                             ",
          "Tópicos em Fundamentos e Métodos de Computação                        ",
          "Trabalho Individual em Sistemas de Computação                         ",
          "Proficiência em Inglês                                                ",
          "Tópicos Avançados em Sistemas Mecatrônicos 2                          ",
          "Programação Paralela                                                  ",
          "Tópicos em Sistemas de Computação                                     ",
          "Tópicos em Fundamentos e Métodos de Computação                        ",
          "Proficiência em Inglês                                                ",
          "Arquiteturas VLSI                                                     ",
          "Tópicos em Fundamentos e Métodos de Computação                        ",
          "Teoria da Computação                                                  ",
          "Tópicos em Fundamentos e Métodos de Computação                        ",
          "Seminário                                                             ",
          "Tópicos em Sistemas de Computação                                     ",
          "Fundamentos de Sistemas Computacionais                                ",
          "Tópicos em Sistemas de Computação                                     ",
          "Proficiência em Inglês                                                ",
          "Estágio de Docência no Ensino de Graduação em Ciência da Computação   ",
          "Tópicos em Fundamentos e Métodos de Computação                        ",
          "Tópicos em Sistemas de Computação                                     ",
          "Inteligência Artificial 2                                             ",
          "Estágio de Docência no Ensino de Graduação em Ciência da Computação   ",
          "Seminário                                                             ",
          "Tópicos em Fundamentos e Métodos de Computação                        ",
          "Fundamentos de Sistemas Computacionais                                ",
          "Programação Paralela                                                  ",
          "Tópicos em Fundamentos e Métodos de Computação                        ",
          "Fundamentos de Sistemas Computacionais                                ",
          "Programação Paralela                                                  ",
          "Fundamentos de Sistemas Computacionais                                ",
          "Teoria da Computação                                                  ",
          "Tópicos em Sistemas de Computação                                     ",
          "Inteligência Artificial 2                                             ",
          "Estágio de Docência no Ensino de Graduação em Ciência da Computação   ",
          "Algoritmos e Estruturas de Dados                                      ",
          "Fundamentos de Banco de Dados                                         ",
          "Análise Estatística de Dados e Informações                            ",
          "Mineração de Dados                                                    ",
          "Fundamentos em Pesquisa Operacional                                   ",
          "Gestão de Projetos de TI                                              ",
          "Estágio de Docência no Ensino de Graduação em Ciência da Computação   ",
          "Seminário                                                             ",
          "Programação Paralela                                                  ",
          "Tópicos em Gestão Ambiental 1                                         ",
          "Tópicos Especiais em Gestão Ambiental                                 ",
          "Seminário                                                             ",
          "Trabalho Individual em Sistemas de Computação                         ",
          "Trabalho Individual em Fundamentos e Métodos de Computação            ",
          "Trabalho Individual em Fundamentos e Métodos de Computação            ",
          "Trabalho Individual em Sistemas de Computação                         ",
          "Exame de Qualificação                                                 ",
          "Exame de Qualificação                                                 ",
          "Trabalho Individual em Fundamentos e Métodos de Computação            ",
          "Sistemas Distribuídos                                                 ",
          "Trabalho Individual em Sistemas de Computação                         ",
          "Inteligência Artificial 1                                             ",
          "Tópicos em Gestão Ambiental 1                                         ",
          "Tópicos Especiais em Gestão Ambiental                                 ",
          "Modelagem e Verificação de Sistemas Integrados em Silício             ",
          "Trabalho Individual em Sistemas de Computação                         ",
          "Estágio de Docência no Ensino de Graduação em Ciência da Computação   ",
          "Teoria dos Jogos                                                      ",
          "Estágio de Docência no Ensino de Graduação em Ciência da Computação   ",
          "Trabalho Individual em Sistemas de Computação                         ",
          "Estágio de Docência no Ensino de Graduação em Ciência da Computação   ",
          "Lógica Formal e Computacional                                         ",
          "Estágio de Docência no Ensino de Graduação em Ciência da Computação   ",
          "Sistemas Distribuídos                                                 ",
          "Tópicos em Sistemas de Computação                                     ",
          "Tópicos em Fundamentos e Métodos de Computação                        ",
          "Trabalho Individual em Fundamentos e Métodos de Computação            ",
          "Introdução a Lógica Formal                                            ",
          "Lógica Clássica e Extensões                                           ",
          "Trabalho Individual em Sistemas de Computação                         ",
          "Fundamentos de Sistemas Computacionais                                ",
          "Sistemas Distribuídos                                                 ",
          "Sistemas Distribuídos                                                 ",
          "Seminário                                                             ",
          "Sistemas Distribuídos                                                 ",
          "Seminário                                                             ",
          "Estágio de Docência no Ensino de Graduação em Ciência da Computação   ",
          "Seminário                                                             ",
          "Redes de Acesso                                                       ",
          "Convergência de Redes                                                 ",
          "Armazenamento e Gerenciamento de Informações                          ",
          "Tópicos em Sistemas Distribuídos                                      ",
          "Tópicos Avançados em Infraestrutura de TI                             ",
          "Pesquisa em Infraestrutura de TI                                      ",
          "Trabalho Individual em Fundamentos e Métodos de Computação            ",
          "Seminário                                                             ",
          "Tópicos em Sistemas de Computação                                     ",
          "Arquitetura e Desenho de Software                                     ",
          "Construção de Software                                                ",
          "Proficiência em Inglês                                                ",
          "Exame de Qualificação                                                 ",
          "Proficiência em Inglês                                                ",
          "Exame de Qualificação                                                 ",
          "Exame de Qualificação                                                 ",
          "Exame de Qualificação                                                 ",
          "Trabalho Individual em Sistemas de Computação                         ",
          "Proficiência em Inglês                                                ",
          "Inteligência Artificial 2                                             ",
          "Proficiência em Inglês                                                ",
          "Trabalho Individual em Fundamentos e Métodos de Computação            ",
          "Exame de Qualificação                                                 ",
          "Teoria da Computação                                                  ",
          "Trabalho Individual em Sistemas de Computação                         ",
          "Proficiência em Inglês                                                ",
          "Trabalho Individual em Sistemas de Computação                         ",
          "Proficiência em Inglês                                                ",
          "Exame de Qualificação                                                 ",
          "Seminário                                                             ",
          "Fundamentos de Sistemas Computacionais                                ",
          "Seminário                                                             ",
          "Teoria da Computação                                                  ",
          "Proficiência em Inglês                                                ",
          "Estágio de Docência no Ensino de Graduação em Ciência da Computação   ",
          "Linguagens Declarativas                                               ",
          "Linguagens Para Inteligencia Artificial                               ",
          "Seminário                                                             ",
          "Estágio de Docência no Ensino de Graduação em Ciência da Computação   ",
          "Seminário                                                             ",
          "Linguagens Declarativas                                               ",
          "Linguagens Para Inteligencia Artificial                               ",
          "Estágio de Docência no Ensino de Graduação em Ciência da Computação   ",
          "Proficiência em Inglês                                                ",
          "Trabalho Individual em Sistemas de Computação                         ",
          "Inteligência Artificial 2                                             ",
          "Teoria da Computação                                                  ",
          "Fundamentos de Sistemas Computacionais                                ",
          "Projeto e Complexidade de Algoritmos                                  ",
          "Tópicos em Fundamentos e Métodos de Computação                        ",
          "Proficiência em Inglês                                                ",
          "Inteligência Artificial 1                                             ",
          "Teoria da Computação                                                  ",
          "Estágio de Docência no Ensino de Graduação em Ciência da Computação   ",
          "Fundamentos de Sistemas Computacionais                                ",
          "Projeto e Complexidade de Algoritmos                                  ",
          "Seminário                                                             ",
          "Tópicos em Sistemas de Computação                                     ",
          "Inteligência Artificial 2                                             ",
          "Seminário                                                             ",
          "Linguagens Declarativas                                               ",
          "Linguagens Para Inteligencia Artificial                               ",
          "Linguagens Declarativas                                               ",
          "Linguagens Para Inteligencia Artificial                               ",
          "Teoria da Computação                                                  ",
          "Fundamentos de Sistemas Computacionais                                ",
          "Proficiência em Inglês                                                ",
          "Tópicos Avançados em Sistemas Mecatrônicos 2                          ",
          "Inteligência Artificial 2                                             ",
          "Linguagens Declarativas                                               ",
          "Linguagens Para Inteligencia Artificial                               ",
          "Fundamentos de Sistemas Computacionais                                ",
          "Algoritmos e Estruturas de Dados                                      ",
          "Fundamentos de Banco de Dados                                         ",
          "Mineração de Dados                                                    ",
          "Algoritmos e Estruturas de Dados                                      ",
          "Fundamentos de Banco de Dados                                         ",
          "Mineração de Dados                                                    ",
          "Tópicos Especiais em Comunicação e Mediação da Informação             ",
          "Seminário                                                             ",
          "Estágio de Docência no Ensino de Graduação em Ciência da Computação   ",
          "Exame de Qualificação                                                 ",
          "Trabalho Individual em Sistemas de Computação                         ",
          "Exame de Qualificação                                                 ",
          "Seminário                                                             ",
          "Exame de Qualificação                                                 ",
          "Inteligência Artificial 1                                             ",
          "Exame de Qualificação                                                 ",
          "Projeto e Complexidade de Algoritmos                                  ",
          "Fundamentos de Sistemas Computacionais                                ",
          "Tópicos em Formalismos de Computação                                  ",
          "Estágio de Docência no Ensino de Graduação em Ciência da Computação   ",
          "Projeto e Complexidade de Algoritmos                                  ",
          "Tópicos em Engenharia de Software                                     ",
          "Inteligência Artificial 1                                             ",
          "Seminário                                                             ",
          "Inteligência Artificial 1                                             ",
          "Estágio de Docência no Ensino de Graduação em Ciência da Computação   ",
          "Seminário                                                             ",
          "Trabalho Individual em Sistemas de Computação                         ",
          "Estágio de Docência no Ensino de Graduação em Ciência da Computação   ",
          "Tópicos em Sistemas de Computação                                     ",
          "Trabalho Individual em Sistemas de Computação                         ",
          "Estágio de Docência no Ensino de Graduação em Ciência da Computação   ",
          "Tópicos em Sistemas de Computação                                     ",
          "Proficiência em Inglês                                                ",
          "Inteligência Artificial 1                                             ",
          "Fundamentos de Sistemas Computacionais                                ",
          "Tópicos em Sistemas de Computação                                     ",
          "Inteligência Artificial 1                                             ",
          "Tópicos em Formalismos de Computação                                  ",
          "Tópicos em Formalismos de Computação                                  ",
          "Projeto e Complexidade de Algoritmos                                  ",
          "Seminário                                                             ",
          "Tópicos em Formalismos de Computação                                  ",
          "Tópicos em Sistemas de Computação                                     ",
          "Estágio de Docência no Ensino de Graduação em Ciência da Computação   ",
          "Fundamentos de Sistemas Computacionais                                ",
          "Projeto e Complexidade de Algoritmos                                  ",
          "Seminário                                                             ",
          "Tópicos em Sistemas de Computação                                     ",
          "Tópicos em Fundamentos e Métodos de Computação                        ",
          "Tópicos de Pesquisa em Informática                                    ",
          "Tópicos Avançados em Sistemas de Computação                           ",
          "Processamento Digital de Sinais                                       ",
          "Inteligência Artificial 1                                             ",
          "Tópicos em Formalismos de Computação                                  ",
          "Estágio de Docência no Ensino de Graduação em Ciência da Computação   ",
          "Fundamentos de Sistemas Computacionais                                ",
          "Projeto e Complexidade de Algoritmos                                  ",
          "Tópicos em Engenharia de Software                                     ",
          "Fundamentos de Sistemas Computacionais                                ",
          "Projeto e Complexidade de Algoritmos                                  ",
          "Seminário                                                             ",
          "Tópicos em Formalismos de Computação                                  ",
          "Seminário                                                             ",
          "Teoria da Computação                                                  ",
          "Fundamentos de Sistemas Computacionais                                ",
          "Projeto e Complexidade de Algoritmos                                  ",
          "Arquiteturas VLSI                                                     ",
          "Seminário                                                             ",
          "Processamento de Imagens                                              ",
          "Tópicos em Sistemas de Computação                                     ",
          "Tópicos Avançados em Sistemas de Computação                           ",
          "Trabalho Individual em Sistemas de Computação                         ",
          "Inteligência Artificial 1                                             ",
          "Estágio de Docência no Ensino de Graduação em Ciência da Computação   ",
          "Trabalho Individual em Sistemas de Computação                         ",
          "Projeto e Complexidade de Algoritmos                                  ",
          "Inteligência Artificial 1                                             ",
          "Tópicos Avançados em Sistemas Mecatrônicos 1                          ",
          "Projeto e Complexidade de Algoritmos                                  ",
          "Trabalho Individual em Fundamentos e Métodos de Computação            ",
          "Engenharia de Requisitos                                              ",
          "Verificação, Validação e Testes de Software                           ",
          "Tópicos Avançados em Engenharia de Software                           ",
          "Engenharia de Requisitos                                              ",
          "Arquitetura e Desenho de Software                                     ",
          "Construção de Software                                                ",
          "Verificação, Validação e Testes de Software                           ",
          "Tópicos Avançados em Engenharia de Software                           ",
          "Exame de Qualificação                                                 ",
          "Exame de Qualificação                                                 ",
          "Inteligência Artificial 2                                             ",
          "Seminário de Computação                                               ",
          "Projeto e Complexidade de Algoritmos                                  ",
          "Seminário                                                             ",
          "Proficiência em Inglês                                                ",
          "Estágio de Docência no Ensino de Graduação em Ciência da Computação   ",
          "Seminário                                                             ",
          "Tópicos em Banco de Dados                                             ",
          "Estágio de Docência no Ensino de Graduação em Ciência da Computação   ",
          "Processos Estocásticos                                                ",
          "Teoria da Computação                                                  ",
          "Projeto e Complexidade de Algoritmos                                  ",
          "Proficiência em Inglês                                                ",
          "Engenharia de Software 1                                              ",
          "Teoria da Computação                                                  ",
          "Trabalho Individual em Fundamentos e Métodos de Computação            ",
          "Inteligência Artificial 2                                             ",
          "Trabalho Individual em Fundamentos e Métodos de Computação            ",
          "Teoria da Computação                                                  ",
          "Projeto e Complexidade de Algoritmos                                  ",
          "Trabalho Individual em Fundamentos e Métodos de Computação            ",
          "Inteligência Artificial 2                                             ",
          "Proficiência em Inglês                                                ",
          "Teoria da Computação                                                  ",
          "Estágio de Docência no Ensino de Graduação em Ciência da Computação   ",
          "Seminário                                                             ",
          "Proficiência em Inglês                                                ",
          "Teoria da Computação                                                  ",
          "Estágio de Docência no Ensino de Graduação em Ciência da Computação   ",
          "Tópicos em Fundamentos e Métodos de Computação                        ",
          "Proficiência em Inglês                                                ",
          "Engenharia de Software 2                                              ",
          "Teoria da Computação                                                  ",
          "Seminário                                                             ",
          "Trabalho Individual em Fundamentos e Métodos de Computação            ",
          "Proficiência em Inglês                                                ",
          "Engenharia de Software 2                                              ",
          "Teoria da Computação                                                  ",
          "Proficiência em Inglês                                                ",
          "Estágio de Docência no Ensino de Graduação em Ciência da Computação   ",
          "Trabalho Individual em Sistemas de Computação                         ",
          "Tópicos Avançados em Sistemas Mecatrônicos 1                          ",
          "Teoria da Computação                                                  ",
          "Tópicos em Sistemas de Computação                                     ",
          "Teoria da Computação                                                  ",
          "Estágio de Docência no Ensino de Graduação em Ciência da Computação   ",
          "Projeto e Complexidade de Algoritmos                                  ",
          "Tópicos em Sistemas de Computação                                     ",
          "Teoria da Computação                                                  ",
          "Estágio de Docência no Ensino de Graduação em Ciência da Computação   ",
          "Tópicos em Fundamentos e Métodos de Computação                        ",
          "Teoria da Computação                                                  ",
          "Inteligência Artificial 2                                             ",
          "Inteligência Artificial 2                                             ",
          "Proficiência em Inglês                                                ",
          "Exame de Qualificação                                                 ",
          "Teoria de Prova                                                       ",
          "Exame de Qualificação                                                 ",
          "Exame de Qualificação                                                 ",
          "Teoria de Prova                                                       ",
          "Exame de Qualificação                                                 ",
          "Sistemas Distribuídos                                                 ",
          "Trabalho Individual em Sistemas de Computação                         ",
          "Trabalho Individual em Sistemas de Computação                         ",
          "Tópicos em Banco de Dados                                             ",
          "Trabalho Individual em Fundamentos e Métodos de Computação            ",
          "Trabalho Individual em Fundamentos e Métodos de Computação            ",
          "Sistemas Distribuídos                                                 ",
          "Sistemas Distribuídos                                                 ",
          "Estágio de Docência no Ensino de Graduação em Ciência da Computação   ",
          "Tópicos em Sistemas de Computação                                     ",
          "Tópicos em Sistemas de Computação                                     ",
          "Trabalho Individual em Sistemas de Computação                         ",
          "Trabalho Individual em Fundamentos e Métodos de Computação            ",
          "Teoria da Computação                                                  ",
          "Teoria da Computação                                                  ",
          "Projeto e Complexidade de Algoritmos                                  ",
          "Sistemas Distribuídos                                                 ",
          "Inteligência Artificial 1                                             ",
          "Tópicos em Engenharia de Software                                     ",
          "Teoria da Computação                                                  ",
          "Estágio de Docência no Ensino de Graduação em Ciência da Computação   ",
          "Projeto e Complexidade de Algoritmos                                  ",
          "Seminário                                                             ",
          "Tópicos em Sistemas de Computação                                     ",
          "Tópicos em Banco de Dados                                             ",
          "Inteligência Artificial 1                                             ",
          "Projeto e Complexidade de Algoritmos                                  ",
          "Estágio de Docência no Ensino de Graduação em Ciência da Computação   ",
          "Seminário                                                             ",
          "Tópicos em Banco de Dados                                             ",
          "Sistemas Distribuídos                                                 ",
          "Tópicos em Sistemas de Computação                                     ",
          "Teoria da Computação                                                  ",
          "Projeto e Complexidade de Algoritmos                                  ",
          "Projeto e Complexidade de Algorítmos 2                                ",
          "Inteligência Artificial 1                                             ",
          "Seminário                                                             ",
          "Processamento de Imagens                                              ",
          "Proficiência em Inglês                                                ",
          "Teoria da Computação                                                  ",
          "Projeto e Complexidade de Algoritmos                                  ",
          "Arquiteturas VLSI                                                     ",
          "Seminário                                                             ",
          "Processamento de Imagens                                              ",
          "Proficiência em Inglês                                                ",
          "Modelagem e Verificação de Sistemas Integrados em Silício             ",
          "Tópicos Avançados em Sistemas de Computação                           ",
          "Teoria da Computação                                                  ",
          "Projeto e Complexidade de Algoritmos                                  ",
          "Sistemas Distribuídos                                                 ",
          "Tópicos em Formalismos de Computação                                  ",
          "Tópicos em Sistemas de Computação                                     ",
          "Tópicos em Fundamentos e Métodos de Computação                        ",
          "Proficiência em Inglês                                                ",
          "Tópicos Avançados em Sistemas de Computação                           ",
          "Inteligência Artificial 1                                             ",
          "Teoria da Computação                                                  ",
          "Projeto e Complexidade de Algoritmos                                  ",
          "Seminário                                                             ",
          "Tópicos em Sistemas de Computação                                     ",
          "Tópicos em Fundamentos e Métodos de Computação                        ",
          "Tópicos Avançados em Sistemas de Computação                           ",
          "Tópicos em Banco de Dados                                             ",
          "Seminário                                                             ",
          "Sistemas Distribuídos                                                 ",
          "Inteligência Artificial 1                                             ",
          "Inteligência Artificial 2                                             ",
          "Teoria da Computação                                                  ",
          "Projeto e Complexidade de Algoritmos                                  ",
          "Seminário                                                             ",
          "Processamento de Imagens                                              ",
          "Tópicos em Sistemas de Computação                                     ",
          "Projeto e Complexidade de Algoritmos                                  ",
          "Projeto e Complexidade de Algoritmos                                  ",
          "Seminário                                                             ",
          "Processamento de Imagens                                              ",
          "Tópicos em Fundamentos e Métodos de Computação                        ",
          "Tópicos de Pesquisa em Informática                                    ",
          "Tópicos Avançados em Sistemas de Computação                           ",
          "Trabalho Individual em Fundamentos e Métodos de Computação            ",
          "Proficiência em Inglês                                                ",
          "Mineração de Dados Massivos                                           ",
          "Projeto e Complexidade de Algoritmos                                  ",
          "Exame de Qualificação                                                 ",
          "Trabalho Individual em Sistemas de Computação                         ",
          "Exame de Qualificação                                                 ",
          "Exame de Qualificação                                                 ",
          "Exame de Qualificação                                                 ",
          "Exame de Qualificação                                                 ",
          "Seminário                                                             ",
          "Trabalho Individual em Sistemas de Computação                         ",
          "Exame de Qualificação                                                 ",
          "Tópicos em Engenharia de Software                                     ",
          "Estágio de Docência no Ensino de Graduação em Ciência da Computação   ",
          "Trabalho Individual em Fundamentos e Métodos de Computação            ",
          "Exame de Qualificação                                                 ",
          "Exame de Qualificação                                                 ",
          "Teoria da Computação                                                  ",
          "Inteligência Artificial 2                                             ",
          "Tópicos em Engenharia de Software                                     ",
          "Proficiência em Inglês                                                ",
          "Teoria da Computação                                                  ",
          "Seminário                                                             ",
          "Fundamentos de Sistemas Computacionais                                ",
          "Tópicos em Fundamentos e Métodos de Computação                        ",
          "Proficiência em Inglês                                                ",
          "Inteligência Artificial 2                                             ",
          "Engenharia de Software 1                                              ",
          "Exame de Qualificação                                                 ",
          "Trabalho Individual em Fundamentos e Métodos de Computação            ",
          "Proficiência em Inglês                                                ",
          "Trabalho Individual em Sistemas de Computação                         ",
          "Fundamentos de Sistemas Computacionais                                ",
          "Fundamentos de Sistemas Computacionais                                ",
          "Tópicos em Sistemas de Computação                                     ",
          "Inteligência Artificial 2                                             ",
          "Fundamentos de Sistemas Computacionais                                ",
          "Fundamentos de Sistemas Computacionais                                ",
          "Seminário                                                             ",
          "Tópicos em Sistemas de Computação                                     ",
          "Processos Estocásticos                                                ",
          "Fundamentos de Sistemas Computacionais                                ",
          "Proficiência em Inglês                                                ",
          "Teoria da Computação                                                  ",
          "Fundamentos de Sistemas Computacionais                                ",
          "Estágio de Docência no Ensino de Graduação em Ciência da Computação   ",
          "Fundamentos de Sistemas Computacionais                                ",
          "Proficiência em Inglês                                                ",
          "Inteligência Artificial 2                                             ",
          "Fundamentos de Sistemas Computacionais                                ",
          "Proficiência em Inglês                                                ",
          "Estágio de Docência no Ensino de Graduação em Ciência da Computação   ",
          "Teoria da Computação                                                  ",
          "Fundamentos de Sistemas Computacionais                                ",
          "Seminário                                                             ",
          "Inteligência Artificial 2                                             ",
          "Fundamentos de Sistemas Computacionais                                ",
          "Proficiência em Inglês                                                ",
          "Projeto e Complexidade de Algoritmos                                  ",
          "Tópicos em Sistemas de Computação                                     ",
          "Teoria da Computação                                                  ",
          "Inteligência Artificial 2                                             ",
          "Fundamentos de Sistemas Computacionais                                ",
          "Tópicos em Engenharia de Software                                     ",
          "Seminário                                                             ",
          "Teoria da Computação                                                  ",
          "Estágio de Docência no Ensino de Graduação em Ciência da Computação   "
         ],
         "legendgroup": "",
         "name": "",
         "showlegend": true,
         "type": "pie"
        }
       ],
       "layout": {
        "legend": {
         "tracegroupgap": 0
        },
        "template": {
         "data": {
          "bar": [
           {
            "error_x": {
             "color": "#2a3f5f"
            },
            "error_y": {
             "color": "#2a3f5f"
            },
            "marker": {
             "line": {
              "color": "#E5ECF6",
              "width": 0.5
             }
            },
            "type": "bar"
           }
          ],
          "barpolar": [
           {
            "marker": {
             "line": {
              "color": "#E5ECF6",
              "width": 0.5
             }
            },
            "type": "barpolar"
           }
          ],
          "carpet": [
           {
            "aaxis": {
             "endlinecolor": "#2a3f5f",
             "gridcolor": "white",
             "linecolor": "white",
             "minorgridcolor": "white",
             "startlinecolor": "#2a3f5f"
            },
            "baxis": {
             "endlinecolor": "#2a3f5f",
             "gridcolor": "white",
             "linecolor": "white",
             "minorgridcolor": "white",
             "startlinecolor": "#2a3f5f"
            },
            "type": "carpet"
           }
          ],
          "choropleth": [
           {
            "colorbar": {
             "outlinewidth": 0,
             "ticks": ""
            },
            "type": "choropleth"
           }
          ],
          "contour": [
           {
            "colorbar": {
             "outlinewidth": 0,
             "ticks": ""
            },
            "colorscale": [
             [
              0,
              "#0d0887"
             ],
             [
              0.1111111111111111,
              "#46039f"
             ],
             [
              0.2222222222222222,
              "#7201a8"
             ],
             [
              0.3333333333333333,
              "#9c179e"
             ],
             [
              0.4444444444444444,
              "#bd3786"
             ],
             [
              0.5555555555555556,
              "#d8576b"
             ],
             [
              0.6666666666666666,
              "#ed7953"
             ],
             [
              0.7777777777777778,
              "#fb9f3a"
             ],
             [
              0.8888888888888888,
              "#fdca26"
             ],
             [
              1,
              "#f0f921"
             ]
            ],
            "type": "contour"
           }
          ],
          "contourcarpet": [
           {
            "colorbar": {
             "outlinewidth": 0,
             "ticks": ""
            },
            "type": "contourcarpet"
           }
          ],
          "heatmap": [
           {
            "colorbar": {
             "outlinewidth": 0,
             "ticks": ""
            },
            "colorscale": [
             [
              0,
              "#0d0887"
             ],
             [
              0.1111111111111111,
              "#46039f"
             ],
             [
              0.2222222222222222,
              "#7201a8"
             ],
             [
              0.3333333333333333,
              "#9c179e"
             ],
             [
              0.4444444444444444,
              "#bd3786"
             ],
             [
              0.5555555555555556,
              "#d8576b"
             ],
             [
              0.6666666666666666,
              "#ed7953"
             ],
             [
              0.7777777777777778,
              "#fb9f3a"
             ],
             [
              0.8888888888888888,
              "#fdca26"
             ],
             [
              1,
              "#f0f921"
             ]
            ],
            "type": "heatmap"
           }
          ],
          "heatmapgl": [
           {
            "colorbar": {
             "outlinewidth": 0,
             "ticks": ""
            },
            "colorscale": [
             [
              0,
              "#0d0887"
             ],
             [
              0.1111111111111111,
              "#46039f"
             ],
             [
              0.2222222222222222,
              "#7201a8"
             ],
             [
              0.3333333333333333,
              "#9c179e"
             ],
             [
              0.4444444444444444,
              "#bd3786"
             ],
             [
              0.5555555555555556,
              "#d8576b"
             ],
             [
              0.6666666666666666,
              "#ed7953"
             ],
             [
              0.7777777777777778,
              "#fb9f3a"
             ],
             [
              0.8888888888888888,
              "#fdca26"
             ],
             [
              1,
              "#f0f921"
             ]
            ],
            "type": "heatmapgl"
           }
          ],
          "histogram": [
           {
            "marker": {
             "colorbar": {
              "outlinewidth": 0,
              "ticks": ""
             }
            },
            "type": "histogram"
           }
          ],
          "histogram2d": [
           {
            "colorbar": {
             "outlinewidth": 0,
             "ticks": ""
            },
            "colorscale": [
             [
              0,
              "#0d0887"
             ],
             [
              0.1111111111111111,
              "#46039f"
             ],
             [
              0.2222222222222222,
              "#7201a8"
             ],
             [
              0.3333333333333333,
              "#9c179e"
             ],
             [
              0.4444444444444444,
              "#bd3786"
             ],
             [
              0.5555555555555556,
              "#d8576b"
             ],
             [
              0.6666666666666666,
              "#ed7953"
             ],
             [
              0.7777777777777778,
              "#fb9f3a"
             ],
             [
              0.8888888888888888,
              "#fdca26"
             ],
             [
              1,
              "#f0f921"
             ]
            ],
            "type": "histogram2d"
           }
          ],
          "histogram2dcontour": [
           {
            "colorbar": {
             "outlinewidth": 0,
             "ticks": ""
            },
            "colorscale": [
             [
              0,
              "#0d0887"
             ],
             [
              0.1111111111111111,
              "#46039f"
             ],
             [
              0.2222222222222222,
              "#7201a8"
             ],
             [
              0.3333333333333333,
              "#9c179e"
             ],
             [
              0.4444444444444444,
              "#bd3786"
             ],
             [
              0.5555555555555556,
              "#d8576b"
             ],
             [
              0.6666666666666666,
              "#ed7953"
             ],
             [
              0.7777777777777778,
              "#fb9f3a"
             ],
             [
              0.8888888888888888,
              "#fdca26"
             ],
             [
              1,
              "#f0f921"
             ]
            ],
            "type": "histogram2dcontour"
           }
          ],
          "mesh3d": [
           {
            "colorbar": {
             "outlinewidth": 0,
             "ticks": ""
            },
            "type": "mesh3d"
           }
          ],
          "parcoords": [
           {
            "line": {
             "colorbar": {
              "outlinewidth": 0,
              "ticks": ""
             }
            },
            "type": "parcoords"
           }
          ],
          "pie": [
           {
            "automargin": true,
            "type": "pie"
           }
          ],
          "scatter": [
           {
            "marker": {
             "colorbar": {
              "outlinewidth": 0,
              "ticks": ""
             }
            },
            "type": "scatter"
           }
          ],
          "scatter3d": [
           {
            "line": {
             "colorbar": {
              "outlinewidth": 0,
              "ticks": ""
             }
            },
            "marker": {
             "colorbar": {
              "outlinewidth": 0,
              "ticks": ""
             }
            },
            "type": "scatter3d"
           }
          ],
          "scattercarpet": [
           {
            "marker": {
             "colorbar": {
              "outlinewidth": 0,
              "ticks": ""
             }
            },
            "type": "scattercarpet"
           }
          ],
          "scattergeo": [
           {
            "marker": {
             "colorbar": {
              "outlinewidth": 0,
              "ticks": ""
             }
            },
            "type": "scattergeo"
           }
          ],
          "scattergl": [
           {
            "marker": {
             "colorbar": {
              "outlinewidth": 0,
              "ticks": ""
             }
            },
            "type": "scattergl"
           }
          ],
          "scattermapbox": [
           {
            "marker": {
             "colorbar": {
              "outlinewidth": 0,
              "ticks": ""
             }
            },
            "type": "scattermapbox"
           }
          ],
          "scatterpolar": [
           {
            "marker": {
             "colorbar": {
              "outlinewidth": 0,
              "ticks": ""
             }
            },
            "type": "scatterpolar"
           }
          ],
          "scatterpolargl": [
           {
            "marker": {
             "colorbar": {
              "outlinewidth": 0,
              "ticks": ""
             }
            },
            "type": "scatterpolargl"
           }
          ],
          "scatterternary": [
           {
            "marker": {
             "colorbar": {
              "outlinewidth": 0,
              "ticks": ""
             }
            },
            "type": "scatterternary"
           }
          ],
          "surface": [
           {
            "colorbar": {
             "outlinewidth": 0,
             "ticks": ""
            },
            "colorscale": [
             [
              0,
              "#0d0887"
             ],
             [
              0.1111111111111111,
              "#46039f"
             ],
             [
              0.2222222222222222,
              "#7201a8"
             ],
             [
              0.3333333333333333,
              "#9c179e"
             ],
             [
              0.4444444444444444,
              "#bd3786"
             ],
             [
              0.5555555555555556,
              "#d8576b"
             ],
             [
              0.6666666666666666,
              "#ed7953"
             ],
             [
              0.7777777777777778,
              "#fb9f3a"
             ],
             [
              0.8888888888888888,
              "#fdca26"
             ],
             [
              1,
              "#f0f921"
             ]
            ],
            "type": "surface"
           }
          ],
          "table": [
           {
            "cells": {
             "fill": {
              "color": "#EBF0F8"
             },
             "line": {
              "color": "white"
             }
            },
            "header": {
             "fill": {
              "color": "#C8D4E3"
             },
             "line": {
              "color": "white"
             }
            },
            "type": "table"
           }
          ]
         },
         "layout": {
          "annotationdefaults": {
           "arrowcolor": "#2a3f5f",
           "arrowhead": 0,
           "arrowwidth": 1
          },
          "coloraxis": {
           "colorbar": {
            "outlinewidth": 0,
            "ticks": ""
           }
          },
          "colorscale": {
           "diverging": [
            [
             0,
             "#8e0152"
            ],
            [
             0.1,
             "#c51b7d"
            ],
            [
             0.2,
             "#de77ae"
            ],
            [
             0.3,
             "#f1b6da"
            ],
            [
             0.4,
             "#fde0ef"
            ],
            [
             0.5,
             "#f7f7f7"
            ],
            [
             0.6,
             "#e6f5d0"
            ],
            [
             0.7,
             "#b8e186"
            ],
            [
             0.8,
             "#7fbc41"
            ],
            [
             0.9,
             "#4d9221"
            ],
            [
             1,
             "#276419"
            ]
           ],
           "sequential": [
            [
             0,
             "#0d0887"
            ],
            [
             0.1111111111111111,
             "#46039f"
            ],
            [
             0.2222222222222222,
             "#7201a8"
            ],
            [
             0.3333333333333333,
             "#9c179e"
            ],
            [
             0.4444444444444444,
             "#bd3786"
            ],
            [
             0.5555555555555556,
             "#d8576b"
            ],
            [
             0.6666666666666666,
             "#ed7953"
            ],
            [
             0.7777777777777778,
             "#fb9f3a"
            ],
            [
             0.8888888888888888,
             "#fdca26"
            ],
            [
             1,
             "#f0f921"
            ]
           ],
           "sequentialminus": [
            [
             0,
             "#0d0887"
            ],
            [
             0.1111111111111111,
             "#46039f"
            ],
            [
             0.2222222222222222,
             "#7201a8"
            ],
            [
             0.3333333333333333,
             "#9c179e"
            ],
            [
             0.4444444444444444,
             "#bd3786"
            ],
            [
             0.5555555555555556,
             "#d8576b"
            ],
            [
             0.6666666666666666,
             "#ed7953"
            ],
            [
             0.7777777777777778,
             "#fb9f3a"
            ],
            [
             0.8888888888888888,
             "#fdca26"
            ],
            [
             1,
             "#f0f921"
            ]
           ]
          },
          "colorway": [
           "#636efa",
           "#EF553B",
           "#00cc96",
           "#ab63fa",
           "#FFA15A",
           "#19d3f3",
           "#FF6692",
           "#B6E880",
           "#FF97FF",
           "#FECB52"
          ],
          "font": {
           "color": "#2a3f5f"
          },
          "geo": {
           "bgcolor": "white",
           "lakecolor": "white",
           "landcolor": "#E5ECF6",
           "showlakes": true,
           "showland": true,
           "subunitcolor": "white"
          },
          "hoverlabel": {
           "align": "left"
          },
          "hovermode": "closest",
          "mapbox": {
           "style": "light"
          },
          "paper_bgcolor": "white",
          "plot_bgcolor": "#E5ECF6",
          "polar": {
           "angularaxis": {
            "gridcolor": "white",
            "linecolor": "white",
            "ticks": ""
           },
           "bgcolor": "#E5ECF6",
           "radialaxis": {
            "gridcolor": "white",
            "linecolor": "white",
            "ticks": ""
           }
          },
          "scene": {
           "xaxis": {
            "backgroundcolor": "#E5ECF6",
            "gridcolor": "white",
            "gridwidth": 2,
            "linecolor": "white",
            "showbackground": true,
            "ticks": "",
            "zerolinecolor": "white"
           },
           "yaxis": {
            "backgroundcolor": "#E5ECF6",
            "gridcolor": "white",
            "gridwidth": 2,
            "linecolor": "white",
            "showbackground": true,
            "ticks": "",
            "zerolinecolor": "white"
           },
           "zaxis": {
            "backgroundcolor": "#E5ECF6",
            "gridcolor": "white",
            "gridwidth": 2,
            "linecolor": "white",
            "showbackground": true,
            "ticks": "",
            "zerolinecolor": "white"
           }
          },
          "shapedefaults": {
           "line": {
            "color": "#2a3f5f"
           }
          },
          "ternary": {
           "aaxis": {
            "gridcolor": "white",
            "linecolor": "white",
            "ticks": ""
           },
           "baxis": {
            "gridcolor": "white",
            "linecolor": "white",
            "ticks": ""
           },
           "bgcolor": "#E5ECF6",
           "caxis": {
            "gridcolor": "white",
            "linecolor": "white",
            "ticks": ""
           }
          },
          "title": {
           "x": 0.05
          },
          "xaxis": {
           "automargin": true,
           "gridcolor": "white",
           "linecolor": "white",
           "ticks": "",
           "title": {
            "standoff": 15
           },
           "zerolinecolor": "white",
           "zerolinewidth": 2
          },
          "yaxis": {
           "automargin": true,
           "gridcolor": "white",
           "linecolor": "white",
           "ticks": "",
           "title": {
            "standoff": 15
           },
           "zerolinecolor": "white",
           "zerolinewidth": 2
          }
         }
        },
        "title": {
         "text": "Matrículas nas disciplinas cursadas"
        }
       }
      },
      "text/html": [
       "<div>\n",
       "        \n",
       "        \n",
       "            <div id=\"df8fcd94-c11f-4082-ba56-087dacee53ed\" class=\"plotly-graph-div\" style=\"height:525px; width:100%;\"></div>\n",
       "            <script type=\"text/javascript\">\n",
       "                require([\"plotly\"], function(Plotly) {\n",
       "                    window.PLOTLYENV=window.PLOTLYENV || {};\n",
       "                    \n",
       "                if (document.getElementById(\"df8fcd94-c11f-4082-ba56-087dacee53ed\")) {\n",
       "                    Plotly.newPlot(\n",
       "                        'df8fcd94-c11f-4082-ba56-087dacee53ed',\n",
       "                        [{\"domain\": {\"x\": [0.0, 1.0], \"y\": [0.0, 1.0]}, \"hovertemplate\": \"Disciplina=%{label}<extra></extra>\", \"labels\": [\"T\\u00f3picos em Engenharia de Software                                     \", \"Sistemas Distribu\\u00eddos                                                 \", \"Intelig\\u00eancia Artificial 2                                             \", \"T\\u00f3picos em Fundamentos e M\\u00e9todos de Computa\\u00e7\\u00e3o                        \", \"Teoria da Computa\\u00e7\\u00e3o                                                  \", \"T\\u00f3picos em Fundamentos e M\\u00e9todos de Computa\\u00e7\\u00e3o                        \", \"Teoria da Computa\\u00e7\\u00e3o                                                  \", \"T\\u00f3picos em Sistemas de Computa\\u00e7\\u00e3o                                     \", \"Processamento de Sinais                                               \", \"Teoria da Computa\\u00e7\\u00e3o                                                  \", \"T\\u00f3picos em Engenharia de Software                                     \", \"Semin\\u00e1rio                                                             \", \"T\\u00f3picos em Fundamentos e M\\u00e9todos de Computa\\u00e7\\u00e3o                        \", \"Profici\\u00eancia em Ingl\\u00eas                                                \", \"Intelig\\u00eancia Artificial 2                                             \", \"Teoria da Computa\\u00e7\\u00e3o                                                  \", \"Sistemas Distribu\\u00eddos                                                 \", \"Profici\\u00eancia em Ingl\\u00eas                                                \", \"Geometria Diferencial                                                 \", \"Semin\\u00e1rio de Computa\\u00e7\\u00e3o                                               \", \"Teoria da Computa\\u00e7\\u00e3o                                                  \", \"T\\u00f3picos em Fundamentos e M\\u00e9todos de Computa\\u00e7\\u00e3o                        \", \"Teoria da Computa\\u00e7\\u00e3o                                                  \", \"T\\u00f3picos em Fundamentos e M\\u00e9todos de Computa\\u00e7\\u00e3o                        \", \"Teoria da Computa\\u00e7\\u00e3o                                                  \", \"Ecologia de Paisagens                                                 \", \"Processamento de Imagens Digitais                                     \", \"T\\u00f3picos em Fundamentos e M\\u00e9todos de Computa\\u00e7\\u00e3o                        \", \"T\\u00f3picos em Engenharia de Software                                     \", \"Intelig\\u00eancia Artificial 2                                             \", \"Teoria da Computa\\u00e7\\u00e3o                                                  \", \"Sistemas Distribu\\u00eddos                                                 \", \"Teoria dos Grupos Finitos 2                                           \", \"T\\u00f3picos em Fundamentos e M\\u00e9todos de Computa\\u00e7\\u00e3o                        \", \"T\\u00f3picos em Engenharia de Software                                     \", \"Teoria da Computa\\u00e7\\u00e3o                                                  \", \"Engenharia de Software 2                                              \", \"Sistemas Multiagentes                                                 \", \"Intelig\\u00eancia Artificial 1                                             \", \"Sistemas Multiagentes                                                 \", \"Intelig\\u00eancia Artificial 1                                             \", \"Projeto e Complexidade de Algoritmos                                  \", \"Engenharia de Software 1                                              \", \"Engenharia de Software 2                                              \", \"T\\u00f3picos em Engenharia de Software                                     \", \"Fundamentos de Sistemas Computacionais                                \", \"T\\u00f3picos em Fundamentos e M\\u00e9todos de Computa\\u00e7\\u00e3o                        \", \"Profici\\u00eancia em Ingl\\u00eas                                                \", \"Sistemas Multiagentes                                                 \", \"Instrumenta\\u00e7\\u00e3o Eletrom\\u00e9dica                                           \", \"Projeto de Equipamentos M\\u00e9dicos                                       \", \"Fundamentos de Sistemas Computacionais                                \", \"T\\u00f3picos em Sistemas de Computa\\u00e7\\u00e3o                                     \", \"T\\u00f3picos em Fundamentos e M\\u00e9todos de Computa\\u00e7\\u00e3o                        \", \"T\\u00f3picos de Pesquisa em Inform\\u00e1tica                                    \", \"Sistemas Multiagentes                                                 \", \"Fundamentos de Sistemas Computacionais                                \", \"Projeto e Complexidade de Algoritmos                                  \", \"Semin\\u00e1rio                                                             \", \"Criptografia                                                          \", \"Criptografia e Seguran\\u00e7a de Dados                                     \", \"Semin\\u00e1rio                                                             \", \"Projeto e Complexidade de Algoritmos                                  \", \"Teoria de Grupos Finitos                                              \", \"Teoria de Grupos Finitos 1                                            \", \"Profici\\u00eancia em Ingl\\u00eas                                                \", \"Sistemas Multiagentes                                                 \", \"Semin\\u00e1rio                                                             \", \"Sistemas Multiagentes                                                 \", \"Fundamentos de Sistemas Computacionais                                \", \"Projeto e Complexidade de Algoritmos                                  \", \"Fundamentos de Sistemas Computacionais                                \", \"Projeto e Complexidade de Algoritmos                                  \", \"Projeto e Complexidade de Algoritmos                                  \", \"T\\u00f3picos em Fundamentos e M\\u00e9todos de Computa\\u00e7\\u00e3o                        \", \"Semin\\u00e1rio                                                             \", \"Profici\\u00eancia em Ingl\\u00eas                                                \", \"Projeto e Complexidade de Algoritmos                                  \", \"Fundamentos de Sistemas Computacionais                                \", \"Projeto e Complexidade de Algoritmos                                  \", \"Projeto e Complexidade de Algoritmos                                  \", \"Fundamentos de Sistemas Computacionais                                \", \"Profici\\u00eancia em Ingl\\u00eas                                                \", \"Sistemas Multiagentes                                                 \", \"Projeto e Complexidade de Algoritmos                                  \", \"Projeto e Complexidade de Algoritmos                                  \", \"T\\u00f3picos de Pesquisa em Inform\\u00e1tica                                    \", \"T\\u00f3picos Especiais em M\\u00e9todos Quantitativos 2                          \", \"Intelig\\u00eancia Artificial 2                                             \", \"T\\u00f3picos em Engenharia de Software                                     \", \"Semin\\u00e1rio                                                             \", \"Sistemas Multiagentes                                                 \", \"Est\\u00e1gio de Doc\\u00eancia no Ensino de Gradua\\u00e7\\u00e3o em Ci\\u00eancia da Computa\\u00e7\\u00e3o   \", \"Semin\\u00e1rio                                                             \", \"Trabalho Individual em Fundamentos e M\\u00e9todos de Computa\\u00e7\\u00e3o            \", \"Exame de Qualifica\\u00e7\\u00e3o                                                 \", \"Estudo Orientado em Instrumenta\\u00e7\\u00e3o Biom\\u00e9dica 1                        \", \"Arquiteturas VLSI                                                     \", \"Estudo Orientado em Proc de Sinais Biom\\u00e9dicos e Imagens M\\u00e9dicas 1     \", \"T\\u00f3picos em Fundamentos e M\\u00e9todos de Computa\\u00e7\\u00e3o                        \", \"Redes de Computadores                                                 \", \"T\\u00f3picos Especiais em M\\u00e9todos Quantitativos 2                          \", \"Trabalho Individual em Fundamentos e M\\u00e9todos de Computa\\u00e7\\u00e3o            \", \"\\u00c1lgebra Comutativa                                                    \", \"Teoria da Computa\\u00e7\\u00e3o                                                  \", \"Est\\u00e1gio de Doc\\u00eancia no Ensino de Gradua\\u00e7\\u00e3o em Ci\\u00eancia da Computa\\u00e7\\u00e3o   \", \"L\\u00f3gica Formal Aplicada                                                \", \"Teoria da Computa\\u00e7\\u00e3o                                                  \", \"Processamento de Imagens Digitais                                     \", \"T\\u00f3picos em Sistemas de Computa\\u00e7\\u00e3o                                     \", \"T\\u00f3picos em Fundamentos e M\\u00e9todos de Computa\\u00e7\\u00e3o                        \", \"T\\u00f3picos em Engenharia de Software                                     \", \"T\\u00f3picos de Pesquisa em Inform\\u00e1tica                                    \", \"Semin\\u00e1rio de Computa\\u00e7\\u00e3o                                               \", \"T\\u00f3picos de Pesquisa em Inform\\u00e1tica                                    \", \"Teoria da Computa\\u00e7\\u00e3o                                                  \", \"Projeto e Complexidade de Algor\\u00edtmos 2                                \", \"Teoria da Computa\\u00e7\\u00e3o                                                  \", \"Teoria da Computa\\u00e7\\u00e3o                                                  \", \"Profici\\u00eancia em Ingl\\u00eas                                                \", \"Projeto e Complexidade de Algor\\u00edtmos 2                                \", \"Trabalho Individual em Fundamentos e M\\u00e9todos de Computa\\u00e7\\u00e3o            \", \"Teoria da Computa\\u00e7\\u00e3o                                                  \", \"Teoria da Computa\\u00e7\\u00e3o                                                  \", \"Processamento de Imagens Digitais                                     \", \"Processamento de Imagens Digitais                                     \", \"T\\u00f3picos em Engenharia de Software                                     \", \"Teoria da Computa\\u00e7\\u00e3o                                                  \", \"Redes de Computadores                                                 \", \"T\\u00f3picos de Pesquisa em Inform\\u00e1tica                                    \", \"Teoria da Computa\\u00e7\\u00e3o                                                  \", \"Projeto e Complexidade de Algor\\u00edtmos 2                                \", \"Exame de Qualifica\\u00e7\\u00e3o                                                 \", \"Teoria dos Jogos                                                      \", \"Exame de Qualifica\\u00e7\\u00e3o                                                 \", \"Est\\u00e1gio de Doc\\u00eancia no Ensino de Gradua\\u00e7\\u00e3o em Ci\\u00eancia da Computa\\u00e7\\u00e3o   \", \"Fundamentos de Sistemas Computacionais                                \", \"Trabalho Individual em Fundamentos e M\\u00e9todos de Computa\\u00e7\\u00e3o            \", \"Exame de Qualifica\\u00e7\\u00e3o                                                 \", \"Intelig\\u00eancia Artificial 1                                             \", \"Projeto e Complexidade de Algoritmos                                  \", \"Semin\\u00e1rio                                                             \", \"Profici\\u00eancia em Ingl\\u00eas                                                \", \"Teoria dos Jogos                                                      \", \"T\\u00f3picos em Sistemas de Computa\\u00e7\\u00e3o                                     \", \"Sistemas Multiagentes                                                 \", \"Medida e Integra\\u00e7\\u00e3o                                                   \", \"T\\u00f3picos em Fundamentos e M\\u00e9todos de Computa\\u00e7\\u00e3o                        \", \"Profici\\u00eancia em Ingl\\u00eas                                                \", \"Exame de Qualifica\\u00e7\\u00e3o                                                 \", \"Informa\\u00e7\\u00e3o e Codifica\\u00e7\\u00e3o                                              \", \"Teoria da Computa\\u00e7\\u00e3o                                                  \", \"Intelig\\u00eancia Artificial 1                                             \", \"Sistemas Multiagentes                                                 \", \"Teoria da Computa\\u00e7\\u00e3o                                                  \", \"Fundamentos de Sistemas Computacionais                                \", \"Processamento de Imagens Digitais                                     \", \"Projeto e Complexidade de Algoritmos                                  \", \"Reconhecimento de Padr\\u00f5es                                             \", \"T\\u00f3picos em Sistemas de Computa\\u00e7\\u00e3o                                     \", \"Intelig\\u00eancia Artificial 1                                             \", \"T\\u00f3picos em Engenharia de Software                                     \", \"Projeto e Complexidade de Algoritmos                                  \", \"T\\u00f3picos em Fundamentos e M\\u00e9todos de Computa\\u00e7\\u00e3o                        \", \"Fundamentos de Sistemas Computacionais                                \", \"Fundamentos de Sistemas Computacionais                                \", \"Fundamentos de Sistemas Computacionais                                \", \"Projeto e Complexidade de Algoritmos                                  \", \"Teoria dos Jogos                                                      \", \"Intelig\\u00eancia Artificial 1                                             \", \"Fundamentos de Sistemas Computacionais                                \", \"Projeto e Complexidade de Algoritmos                                  \", \"Fundamentos de Sistemas Computacionais                                \", \"Projeto e Complexidade de Algoritmos                                  \", \"Processamento de Sinais                                               \", \"Fundamentos de Sistemas Computacionais                                \", \"Projeto e Complexidade de Algoritmos                                  \", \"T\\u00f3picos em Sistemas de Computa\\u00e7\\u00e3o                                     \", \"Fundamentos de Sistemas Computacionais                                \", \"Semin\\u00e1rio                                                             \", \"T\\u00f3picos em Sistemas de Computa\\u00e7\\u00e3o                                     \", \"Projeto e Complexidade de Algoritmos                                  \", \"Sistemas Multiagentes                                                 \", \"Teoria da Computa\\u00e7\\u00e3o                                                  \", \"Fundamentos de Sistemas Computacionais                                \", \"Processamento de Imagens Digitais                                     \", \"Projeto e Complexidade de Algoritmos                                  \", \"Reconhecimento de Padr\\u00f5es                                             \", \"T\\u00f3picos em Sistemas de Computa\\u00e7\\u00e3o                                     \", \"Fundamentos de Sistemas Computacionais                                \", \"Fundamentos de Sistemas Computacionais                                \", \"Fundamentos de Sistemas Computacionais                                \", \"Projeto e Complexidade de Algoritmos                                  \", \"Trabalho Individual em Sistemas de Computa\\u00e7\\u00e3o                         \", \"Sistemas Distribu\\u00eddos                                                 \", \"T\\u00f3picos em Fundamentos e M\\u00e9todos de Computa\\u00e7\\u00e3o                        \", \"Exame de Qualifica\\u00e7\\u00e3o                                                 \", \"Trabalho Individual em Sistemas de Computa\\u00e7\\u00e3o                         \", \"Est\\u00e1gio de Doc\\u00eancia no Ensino de Gradua\\u00e7\\u00e3o em Ci\\u00eancia da Computa\\u00e7\\u00e3o   \", \"Trabalho Individual em Fundamentos e M\\u00e9todos de Computa\\u00e7\\u00e3o            \", \"T\\u00f3picos de Pesquisa em Inform\\u00e1tica                                    \", \"Trabalho Individual em Sistemas de Computa\\u00e7\\u00e3o                         \", \"Profici\\u00eancia em Ingl\\u00eas                                                \", \"Processamento Digital de Sinais                                       \", \"Trabalho Individual em Fundamentos e M\\u00e9todos de Computa\\u00e7\\u00e3o            \", \"Sistemas Distribu\\u00eddos                                                 \", \"T\\u00f3picos em Sistemas de Computa\\u00e7\\u00e3o                                     \", \"T\\u00f3picos em Fundamentos e M\\u00e9todos de Computa\\u00e7\\u00e3o                        \", \"Intelig\\u00eancia Artificial 2                                             \", \"T\\u00f3picos em Fundamentos e M\\u00e9todos de Computa\\u00e7\\u00e3o                        \", \"Intelig\\u00eancia Artificial 2                                             \", \"Engenharia de Software 1                                              \", \"T\\u00f3picos em Engenharia de Software                                     \", \"Teoria da Computa\\u00e7\\u00e3o                                                  \", \"Est\\u00e1gio de Doc\\u00eancia no Ensino de Gradua\\u00e7\\u00e3o em Ci\\u00eancia da Computa\\u00e7\\u00e3o   \", \"Sistemas Distribu\\u00eddos                                                 \", \"Est\\u00e1gio de Doc\\u00eancia no Ensino de Gradua\\u00e7\\u00e3o em Ci\\u00eancia da Computa\\u00e7\\u00e3o   \", \"T\\u00f3picos em Fundamentos e M\\u00e9todos de Computa\\u00e7\\u00e3o                        \", \"T\\u00f3picos em Fundamentos e M\\u00e9todos de Computa\\u00e7\\u00e3o                        \", \"T\\u00f3picos em Sistemas de Computa\\u00e7\\u00e3o                                     \", \"Teoria da Computa\\u00e7\\u00e3o                                                  \", \"Sistemas Distribu\\u00eddos                                                 \", \"T\\u00f3picos em Fundamentos e M\\u00e9todos de Computa\\u00e7\\u00e3o                        \", \"Intelig\\u00eancia Artificial 2                                             \", \"Teoria da Computa\\u00e7\\u00e3o                                                  \", \"Sistemas Digitais para Automa\\u00e7\\u00e3o                                      \", \"Teoria da Computa\\u00e7\\u00e3o                                                  \", \"Processamento de Imagens Digitais                                     \", \"Teoria da Computa\\u00e7\\u00e3o                                                  \", \"T\\u00f3picos em Fundamentos e M\\u00e9todos de Computa\\u00e7\\u00e3o                        \", \"Semin\\u00e1rio                                                             \", \"Apresenta\\u00e7\\u00e3o de Grupos e M\\u00e9todos Computacionais                       \", \"T\\u00f3picos em Sistemas de Computa\\u00e7\\u00e3o                                     \", \"Processamento Digital de Sinais                                       \", \"T\\u00f3picos em Fundamentos e M\\u00e9todos de Computa\\u00e7\\u00e3o                        \", \"T\\u00f3picos em Sistemas de Computa\\u00e7\\u00e3o                                     \", \"Teoria da Computa\\u00e7\\u00e3o                                                  \", \"Sistemas Digitais para Automa\\u00e7\\u00e3o                                      \", \"Est\\u00e1gio de Doc\\u00eancia no Ensino de Gradua\\u00e7\\u00e3o em Ci\\u00eancia da Computa\\u00e7\\u00e3o   \", \"Fundamentos de Sistemas Computacionais                                \", \"Projeto e Complexidade de Algoritmos                                  \", \"Exame de Qualifica\\u00e7\\u00e3o                                                 \", \"T\\u00f3picos em Sistemas de Computa\\u00e7\\u00e3o                                     \", \"Trabalho Individual em Fundamentos e M\\u00e9todos de Computa\\u00e7\\u00e3o            \", \"Est\\u00e1gio de Doc\\u00eancia no Ensino de Gradua\\u00e7\\u00e3o em Ci\\u00eancia da Computa\\u00e7\\u00e3o   \", \"Engenharia de Software 2                                              \", \"Fundamentos de Sistemas Computacionais                                \", \"T\\u00f3picos em Fundamentos e M\\u00e9todos de Computa\\u00e7\\u00e3o                        \", \"Profici\\u00eancia em Ingl\\u00eas                                                \", \"Projeto e Complexidade de Algoritmos                                  \", \"T\\u00f3picos em Fundamentos e M\\u00e9todos de Computa\\u00e7\\u00e3o                        \", \"Delineamento e An\\u00e1lise de Experimentos                                \", \"Engenharia de Software 2                                              \", \"Est\\u00e1gio de Doc\\u00eancia no Ensino de Gradua\\u00e7\\u00e3o em Ci\\u00eancia da Computa\\u00e7\\u00e3o   \", \"Projeto e Complexidade de Algoritmos                                  \", \"Est\\u00e1gio de Doc\\u00eancia no Ensino de Gradua\\u00e7\\u00e3o em Ci\\u00eancia da Computa\\u00e7\\u00e3o   \", \"Intelig\\u00eancia Artificial 1                                             \", \"Modelos em Ecologia                                                   \", \"T\\u00f3picos em Sistemas de Computa\\u00e7\\u00e3o                                     \", \"Profici\\u00eancia em Ingl\\u00eas                                                \", \"Intelig\\u00eancia Artificial 1                                             \", \"T\\u00f3picos em Sistemas de Computa\\u00e7\\u00e3o                                     \", \"T\\u00f3picos em Fundamentos e M\\u00e9todos de Computa\\u00e7\\u00e3o                        \", \"Fundamentos de Sistemas Computacionais                                \", \"T\\u00f3picos em Fundamentos e M\\u00e9todos de Computa\\u00e7\\u00e3o                        \", \"Semin\\u00e1rio                                                             \", \"T\\u00f3picos em Sistemas de Computa\\u00e7\\u00e3o                                     \", \"Fundamentos de Sistemas Computacionais                                \", \"Projeto e Complexidade de Algoritmos                                  \", \"Engenharia de Software 2                                              \", \"T\\u00f3picos em Fundamentos e M\\u00e9todos de Computa\\u00e7\\u00e3o                        \", \"T\\u00f3picos em Fundamentos e M\\u00e9todos de Computa\\u00e7\\u00e3o                        \", \"Fundamentos de Sistemas Computacionais                                \", \"Projeto e Complexidade de Algoritmos                                  \", \"Fundamentos de Sistemas Computacionais                                \", \"Projeto e Complexidade de Algoritmos                                  \", \"Fundamentos de Sistemas Computacionais                                \", \"Intelig\\u00eancia Artificial 1                                             \", \"Fundamentos de Sistemas Computacionais                                \", \"Projeto e Complexidade de Algoritmos                                  \", \"T\\u00f3picos em Redes de Comunica\\u00e7\\u00e3o 1                                     \", \"T\\u00f3picos em Teleinform\\u00e1tica                                            \", \"Processos Estoc\\u00e1sticos                                                \", \"Projeto e Complexidade de Algoritmos                                  \", \"T\\u00f3picos em Sistemas de Computa\\u00e7\\u00e3o                                     \", \"T\\u00f3picos em Fundamentos e M\\u00e9todos de Computa\\u00e7\\u00e3o                        \", \"T\\u00f3picos em Fundamentos e M\\u00e9todos de Computa\\u00e7\\u00e3o                        \", \"Exame de Qualifica\\u00e7\\u00e3o                                                 \", \"Est\\u00e1gio de Doc\\u00eancia no Ensino de Gradua\\u00e7\\u00e3o em Ci\\u00eancia da Computa\\u00e7\\u00e3o   \", \"Exame de Qualifica\\u00e7\\u00e3o                                                 \", \"Teoria da Informa\\u00e7\\u00e3o                                                  \", \"Est\\u00e1gio de Doc\\u00eancia no Ensino de Gradua\\u00e7\\u00e3o em Ci\\u00eancia da Computa\\u00e7\\u00e3o   \", \"Exame de Qualifica\\u00e7\\u00e3o                                                 \", \"Semin\\u00e1rio                                                             \", \"Trabalho Individual em Fundamentos e M\\u00e9todos de Computa\\u00e7\\u00e3o            \", \"Est\\u00e1gio de Doc\\u00eancia no Ensino de Gradua\\u00e7\\u00e3o em Ci\\u00eancia da Computa\\u00e7\\u00e3o   \", \"Semin\\u00e1rio                                                             \", \"Sistemas Multiagentes                                                 \", \"Teoria da Computa\\u00e7\\u00e3o                                                  \", \"Semin\\u00e1rio                                                             \", \"Trabalho Individual em Sistemas de Computa\\u00e7\\u00e3o                         \", \"Intelig\\u00eancia Artificial 2                                             \", \"Arquiteturas VLSI                                                     \", \"Intelig\\u00eancia Artificial 2                                             \", \"Est\\u00e1gio de Doc\\u00eancia no Ensino de Gradua\\u00e7\\u00e3o em Ci\\u00eancia da Computa\\u00e7\\u00e3o   \", \"Profici\\u00eancia em Ingl\\u00eas                                                \", \"Introdu\\u00e7\\u00e3o \\u00e0 Probabilidade e Aplica\\u00e7\\u00f5es                               \", \"Intelig\\u00eancia Artificial 2                                             \", \"T\\u00f3picos em Fundamentos e M\\u00e9todos de Computa\\u00e7\\u00e3o                        \", \"Semin\\u00e1rio                                                             \", \"T\\u00f3picos em Fundamentos e M\\u00e9todos de Computa\\u00e7\\u00e3o                        \", \"Teoria da Computa\\u00e7\\u00e3o                                                  \", \"T\\u00f3picos em Fundamentos e M\\u00e9todos de Computa\\u00e7\\u00e3o                        \", \"Sistemas Multiagentes                                                 \", \"Algoritmos e Estruturas de Dados                                      \", \"Fundamentos de Banco de Dados                                         \", \"An\\u00e1lise Estat\\u00edstica de Dados e Informa\\u00e7\\u00f5es                            \", \"Minera\\u00e7\\u00e3o de Dados                                                    \", \"Teoria da Computa\\u00e7\\u00e3o                                                  \", \"Teoria da Computa\\u00e7\\u00e3o                                                  \", \"Est\\u00e1gio de Doc\\u00eancia no Ensino de Gradua\\u00e7\\u00e3o em Ci\\u00eancia da Computa\\u00e7\\u00e3o   \", \"Teoria da Computa\\u00e7\\u00e3o                                                  \", \"Teoria da Computa\\u00e7\\u00e3o                                                  \", \"Teoria da Computa\\u00e7\\u00e3o                                                  \", \"Intelig\\u00eancia Artificial 2                                             \", \"Teoria da Computa\\u00e7\\u00e3o                                                  \", \"Teoria da Computa\\u00e7\\u00e3o                                                  \", \"L\\u00f3gica Formal e Computacional                                         \", \"Teoria da Informa\\u00e7\\u00e3o                                                  \", \"Teoria da Computa\\u00e7\\u00e3o                                                  \", \"Processamento de Imagens Digitais                                     \", \"Processamento Digital de Sinais                                       \", \"T\\u00f3picos em Engenharia de Software                                     \", \"Intelig\\u00eancia Artificial 1                                             \", \"Intelig\\u00eancia Artificial 2                                             \", \"Intelig\\u00eancia Artificial 2                                             \", \"Profici\\u00eancia em Ingl\\u00eas                                                \", \"Est\\u00e1gio de Doc\\u00eancia no Ensino de Gradua\\u00e7\\u00e3o em Ci\\u00eancia da Computa\\u00e7\\u00e3o   \", \"Exame de Qualifica\\u00e7\\u00e3o                                                 \", \"Est\\u00e1gio de Doc\\u00eancia no Ensino de Gradua\\u00e7\\u00e3o em Ci\\u00eancia da Computa\\u00e7\\u00e3o   \", \"M\\u00e9todos Estat\\u00edsticos 1                                                \", \"Fundamentos de Sistemas Computacionais                                \", \"Criptografia                                                          \", \"Criptografia e Seguran\\u00e7a de Dados                                     \", \"Exame de Qualifica\\u00e7\\u00e3o                                                 \", \"Fundamentos de Sistemas Computacionais                                \", \"Profici\\u00eancia em Ingl\\u00eas                                                \", \"L\\u00f3gica Formal e Computacional                                         \", \"Trabalho Individual em Fundamentos e M\\u00e9todos de Computa\\u00e7\\u00e3o            \", \"Fundamentos de Sistemas Computacionais                                \", \"T\\u00f3picos em Fundamentos e M\\u00e9todos de Computa\\u00e7\\u00e3o                        \", \"Est\\u00e1gio de Doc\\u00eancia no Ensino de Gradua\\u00e7\\u00e3o em Ci\\u00eancia da Computa\\u00e7\\u00e3o   \", \"Profici\\u00eancia em Ingl\\u00eas                                                \", \"Semin\\u00e1rio                                                             \", \"Trabalho Individual em Fundamentos e M\\u00e9todos de Computa\\u00e7\\u00e3o            \", \"Exame de Qualifica\\u00e7\\u00e3o                                                 \", \"Est\\u00e1gio de Doc\\u00eancia no Ensino de Gradua\\u00e7\\u00e3o em Ci\\u00eancia da Computa\\u00e7\\u00e3o   \", \"Est\\u00e1gio de Doc\\u00eancia no Ensino de Gradua\\u00e7\\u00e3o em Ci\\u00eancia da Computa\\u00e7\\u00e3o   \", \"Semin\\u00e1rio                                                             \", \"Profici\\u00eancia em Ingl\\u00eas                                                \", \"L\\u00f3gica Formal e Computacional                                         \", \"Engenharia de Software 2                                              \", \"Est\\u00e1gio de Doc\\u00eancia no Ensino de Gradua\\u00e7\\u00e3o em Ci\\u00eancia da Computa\\u00e7\\u00e3o   \", \"T\\u00f3picos em Fundamentos e M\\u00e9todos de Computa\\u00e7\\u00e3o                        \", \"Fundamentos de Sistemas Computacionais                                \", \"T\\u00f3picos em Fundamentos e M\\u00e9todos de Computa\\u00e7\\u00e3o                        \", \"Teoria da Computa\\u00e7\\u00e3o                                                  \", \"Programa\\u00e7\\u00e3o Paralela                                                  \", \"Projeto e Complexidade de Algoritmos                                  \", \"T\\u00f3picos em Sistemas de Computa\\u00e7\\u00e3o                                     \", \"Profici\\u00eancia em Ingl\\u00eas                                                \", \"T\\u00f3picos Avan\\u00e7ados em Sistemas de Computa\\u00e7\\u00e3o                           \", \"Intelig\\u00eancia Artificial 1                                             \", \"Est\\u00e1gio de Doc\\u00eancia no Ensino de Gradua\\u00e7\\u00e3o em Ci\\u00eancia da Computa\\u00e7\\u00e3o   \", \"Projeto e Complexidade de Algoritmos                                  \", \"Profici\\u00eancia em Ingl\\u00eas                                                \", \"L\\u00f3gica Formal e Computacional                                         \", \"Est\\u00e1gio de Doc\\u00eancia no Ensino de Gradua\\u00e7\\u00e3o em Ci\\u00eancia da Computa\\u00e7\\u00e3o   \", \"Profici\\u00eancia em Ingl\\u00eas                                                \", \"M\\u00e9todos Estat\\u00edsticos 1                                                \", \"Intelig\\u00eancia Artificial 1                                             \", \"Profici\\u00eancia em Ingl\\u00eas                                                \", \"Projeto e Complexidade de Algoritmos                                  \", \"Sistemas Multiagentes                                                 \", \"Sistemas Multiagentes                                                 \", \"Profici\\u00eancia em Ingl\\u00eas                                                \", \"L\\u00f3gica Formal e Computacional                                         \", \"Intelig\\u00eancia Artificial 1                                             \", \"Engenharia de Requisitos                                              \", \"Arquitetura e Desenho de Software                                     \", \"Constru\\u00e7\\u00e3o de Software                                                \", \"Verifica\\u00e7\\u00e3o, Valida\\u00e7\\u00e3o e Testes de Software                           \", \"T\\u00f3picos Avan\\u00e7ados em Engenharia de Software                           \", \"Semin\\u00e1rio                                                             \", \"Fundamentos de Sistemas Computacionais                                \", \"Semin\\u00e1rio                                                             \", \"Sistemas Multiagentes                                                 \", \"Fundamentos de Sistemas Computacionais                                \", \"Projeto e Complexidade de Algoritmos                                  \", \"T\\u00f3picos em Sistemas de Computa\\u00e7\\u00e3o                                     \", \"Fundamentos de Sistemas Computacionais                                \", \"Projeto e Complexidade de Algoritmos                                  \", \"Projeto e Complexidade de Algoritmos                                  \", \"Trabalho Individual em Fundamentos e M\\u00e9todos de Computa\\u00e7\\u00e3o            \", \"Engenharia de Software 2                                              \", \"Fundamentos de Sistemas Computacionais                                \", \"Criptografia                                                          \", \"Criptografia e Seguran\\u00e7a de Dados                                     \", \"Fundamentos de Sistemas Computacionais                                \", \"Projeto e Complexidade de Algoritmos                                  \", \"Projeto e Complexidade de Algoritmos                                  \", \"Fundamentos de Sistemas Computacionais                                \", \"T\\u00f3picos em Fundamentos e M\\u00e9todos de Computa\\u00e7\\u00e3o                        \", \"Intelig\\u00eancia Artificial 1                                             \", \"L\\u00f3gica Formal e Computacional                                         \", \"L\\u00f3gica Formal e Computacional                                         \", \"Intelig\\u00eancia Artificial 2                                             \", \"Profici\\u00eancia em Ingl\\u00eas                                                \", \"T\\u00f3picos em Fundamentos e M\\u00e9todos de Computa\\u00e7\\u00e3o                        \", \"T\\u00f3picos em Fundamentos e M\\u00e9todos de Computa\\u00e7\\u00e3o                        \", \"Exame de Qualifica\\u00e7\\u00e3o                                                 \", \"Trabalho Individual em Fundamentos e M\\u00e9todos de Computa\\u00e7\\u00e3o            \", \"Exame de Qualifica\\u00e7\\u00e3o                                                 \", \"Programa\\u00e7\\u00e3o Paralela                                                  \", \"Exame de Qualifica\\u00e7\\u00e3o                                                 \", \"Sistemas Distribu\\u00eddos                                                 \", \"Sistemas Distribu\\u00eddos                                                 \", \"Est\\u00e1gio de Doc\\u00eancia no Ensino de Gradua\\u00e7\\u00e3o em Ci\\u00eancia da Computa\\u00e7\\u00e3o   \", \"Arquiteturas VLSI                                                     \", \"Processamento de Imagens                                              \", \"T\\u00f3picos em Fundamentos e M\\u00e9todos de Computa\\u00e7\\u00e3o                        \", \"Programa\\u00e7\\u00e3o Paralela                                                  \", \"T\\u00f3picos em Fundamentos e M\\u00e9todos de Computa\\u00e7\\u00e3o                        \", \"Sistemas Distribu\\u00eddos                                                 \", \"Est\\u00e1gio de Doc\\u00eancia no Ensino de Gradua\\u00e7\\u00e3o em Ci\\u00eancia da Computa\\u00e7\\u00e3o   \", \"Delineamento e An\\u00e1lise de Experimentos                                \", \"T\\u00f3picos em Sistemas de Computa\\u00e7\\u00e3o                                     \", \"Polon\\u00eas 1                                                             \", \"Intelig\\u00eancia Artificial 1                                             \", \"Profici\\u00eancia em Ingl\\u00eas                                                \", \"Trabalho Individual em Sistemas de Computa\\u00e7\\u00e3o                         \", \"Intelig\\u00eancia Artificial 1                                             \", \"Engenharia de Software 1                                              \", \"Engenharia de Software 2                                              \", \"T\\u00f3picos em Engenharia de Software                                     \", \"Est\\u00e1gio de Doc\\u00eancia no Ensino de Gradua\\u00e7\\u00e3o em Ci\\u00eancia da Computa\\u00e7\\u00e3o   \", \"Semin\\u00e1rio                                                             \", \"Sistemas Distribu\\u00eddos                                                 \", \"T\\u00f3picos em Fundamentos e M\\u00e9todos de Computa\\u00e7\\u00e3o                        \", \"Est\\u00e1gio de Doc\\u00eancia no Ensino de Gradua\\u00e7\\u00e3o em Ci\\u00eancia da Computa\\u00e7\\u00e3o   \", \"Est\\u00e1gio de Doc\\u00eancia no Ensino de Gradua\\u00e7\\u00e3o em Ci\\u00eancia da Computa\\u00e7\\u00e3o   \", \"T\\u00f3picos em Fundamentos e M\\u00e9todos de Computa\\u00e7\\u00e3o                        \", \"Teoria da Computa\\u00e7\\u00e3o                                                  \", \"Sistemas Distribu\\u00eddos                                                 \", \"T\\u00f3picos em Fundamentos e M\\u00e9todos de Computa\\u00e7\\u00e3o                        \", \"Teoria da Computa\\u00e7\\u00e3o                                                  \", \"Arquiteturas VLSI                                                     \", \"Programa\\u00e7\\u00e3o Paralela                                                  \", \"Est\\u00e1gio de Doc\\u00eancia no Ensino de Gradua\\u00e7\\u00e3o em Ci\\u00eancia da Computa\\u00e7\\u00e3o   \", \"Semin\\u00e1rio                                                             \", \"T\\u00f3picos em Fundamentos e M\\u00e9todos de Computa\\u00e7\\u00e3o                        \", \"Teoria da Computa\\u00e7\\u00e3o                                                  \", \"Profici\\u00eancia em Ingl\\u00eas                                                \", \"Est\\u00e1gio de Doc\\u00eancia no Ensino de Gradua\\u00e7\\u00e3o em Ci\\u00eancia da Computa\\u00e7\\u00e3o   \", \"T\\u00f3picos em Fundamentos e M\\u00e9todos de Computa\\u00e7\\u00e3o                        \", \"Profici\\u00eancia em Ingl\\u00eas                                                \", \"T\\u00f3picos em Engenharia de Software                                     \", \"Teoria da Computa\\u00e7\\u00e3o                                                  \", \"Semin\\u00e1rio                                                             \", \"Semin\\u00e1rio                                                             \", \"Sistemas Distribu\\u00eddos                                                 \", \"T\\u00f3picos em Fundamentos e M\\u00e9todos de Computa\\u00e7\\u00e3o                        \", \"Teoria da Computa\\u00e7\\u00e3o                                                  \", \"Est\\u00e1gio de Doc\\u00eancia no Ensino de Gradua\\u00e7\\u00e3o em Ci\\u00eancia da Computa\\u00e7\\u00e3o   \", \"T\\u00f3picos em Fundamentos e M\\u00e9todos de Computa\\u00e7\\u00e3o                        \", \"Sistemas Distribu\\u00eddos                                                 \", \"Criptografia                                                          \", \"Criptografia e Seguran\\u00e7a de Dados                                     \", \"Introdu\\u00e7\\u00e3o aos Sistemas Inteligentes                                  \", \"T\\u00f3picos em Fundamentos e M\\u00e9todos de Computa\\u00e7\\u00e3o                        \", \"Fundamentos de Sistemas Computacionais                                \", \"Projeto e Complexidade de Algoritmos                                  \", \"Exame de Qualifica\\u00e7\\u00e3o                                                 \", \"Semin\\u00e1rio                                                             \", \"Est\\u00e1gio de Doc\\u00eancia no Ensino de Gradua\\u00e7\\u00e3o em Ci\\u00eancia da Computa\\u00e7\\u00e3o   \", \"Trabalho Individual em Fundamentos e M\\u00e9todos de Computa\\u00e7\\u00e3o            \", \"T\\u00f3picos em Sistemas de Computa\\u00e7\\u00e3o                                     \", \"Trabalho Individual em Fundamentos e M\\u00e9todos de Computa\\u00e7\\u00e3o            \", \"Exame de Qualifica\\u00e7\\u00e3o                                                 \", \"Trabalho Individual em Sistemas de Computa\\u00e7\\u00e3o                         \", \"Trabalho Individual em Fundamentos e M\\u00e9todos de Computa\\u00e7\\u00e3o            \", \"Profici\\u00eancia em Ingl\\u00eas                                                \", \"Linguagens Declarativas                                               \", \"Linguagens Para Inteligencia Artificial                               \", \"Semin\\u00e1rio                                                             \", \"Trabalho Individual em Sistemas de Computa\\u00e7\\u00e3o                         \", \"Programa\\u00e7\\u00e3o Paralela                                                  \", \"T\\u00f3picos em Fundamentos e M\\u00e9todos de Computa\\u00e7\\u00e3o                        \", \"Profici\\u00eancia em Ingl\\u00eas                                                \", \"Teoria da Computa\\u00e7\\u00e3o                                                  \", \"Profici\\u00eancia em Ingl\\u00eas                                                \", \"T\\u00f3picos em Formalismos de Computa\\u00e7\\u00e3o                                  \", \"Vis\\u00e3o Computacional                                                   \", \"Fundamentos de Sistemas Computacionais                                \", \"Projeto e Complexidade de Algoritmos                                  \", \"T\\u00f3picos em Fundamentos e M\\u00e9todos de Computa\\u00e7\\u00e3o                        \", \"Profici\\u00eancia em Ingl\\u00eas                                                \", \"Est\\u00e1gio de Doc\\u00eancia no Ensino de Gradua\\u00e7\\u00e3o em Ci\\u00eancia da Computa\\u00e7\\u00e3o   \", \"Semin\\u00e1rio                                                             \", \"Profici\\u00eancia em Ingl\\u00eas                                                \", \"Trabalho Individual em Sistemas de Computa\\u00e7\\u00e3o                         \", \"Profici\\u00eancia em Ingl\\u00eas                                                \", \"Programa\\u00e7\\u00e3o Paralela                                                  \", \"Fundamentos de Sistema de Informa\\u00e7\\u00f5es Geogr\\u00e1ficas                     \", \"Est\\u00e1gio de Doc\\u00eancia no Ensino de Gradua\\u00e7\\u00e3o em Ci\\u00eancia da Computa\\u00e7\\u00e3o   \", \"Semin\\u00e1rio                                                             \", \"T\\u00f3picos em Fundamentos e M\\u00e9todos de Computa\\u00e7\\u00e3o                        \", \"Profici\\u00eancia em Ingl\\u00eas                                                \", \"Teoria da Computa\\u00e7\\u00e3o                                                  \", \"Projeto e Complexidade de Algoritmos                                  \", \"T\\u00f3picos em Sistemas de Computa\\u00e7\\u00e3o                                     \", \"Est\\u00e1gio de Doc\\u00eancia no Ensino de Gradua\\u00e7\\u00e3o em Ci\\u00eancia da Computa\\u00e7\\u00e3o   \", \"T\\u00f3picos em Fundamentos e M\\u00e9todos de Computa\\u00e7\\u00e3o                        \", \"Projeto e Complexidade de Algoritmos                                  \", \"T\\u00f3picos em Formalismos de Computa\\u00e7\\u00e3o                                  \", \"Projeto e Complexidade de Algoritmos                                  \", \"Fundamentos de Sistemas Computacionais                                \", \"Projeto e Complexidade de Algoritmos                                  \", \"Sistemas Multiagentes                                                 \", \"Fundamentos de Sistemas Computacionais                                \", \"Sistemas Multiagentes                                                 \", \"T\\u00f3picos em Sistemas de Computa\\u00e7\\u00e3o                                     \", \"Programa\\u00e7\\u00e3o Paralela                                                  \", \"Fundamentos de Sistemas Computacionais                                \", \"Projeto e Complexidade de Algoritmos                                  \", \"Profici\\u00eancia em Ingl\\u00eas                                                \", \"T\\u00f3picos em Formalismos de Computa\\u00e7\\u00e3o                                  \", \"T\\u00f3picos em Fundamentos e M\\u00e9todos da Computa\\u00e7\\u00e3o                        \", \"Sistemas Operacionais                                                 \", \"Exame de Qualifica\\u00e7\\u00e3o                                                 \", \"Exame de Qualifica\\u00e7\\u00e3o                                                 \", \"Semin\\u00e1rio                                                             \", \"Exame de Qualifica\\u00e7\\u00e3o                                                 \", \"Est\\u00e1gio de Doc\\u00eancia no Ensino de Gradua\\u00e7\\u00e3o em Ci\\u00eancia da Computa\\u00e7\\u00e3o   \", \"Trabalho Individual em Sistemas de Computa\\u00e7\\u00e3o                         \", \"Exame de Qualifica\\u00e7\\u00e3o                                                 \", \"Fundamentos de Sistemas Computacionais                                \", \"Semin\\u00e1rio                                                             \", \"Exame de Qualifica\\u00e7\\u00e3o                                                 \", \"Semin\\u00e1rio                                                             \", \"Semin\\u00e1rio                                                             \", \"T\\u00f3picos em Sistemas de Computa\\u00e7\\u00e3o                                     \", \"T\\u00f3picos em Fundamentos e M\\u00e9todos de Computa\\u00e7\\u00e3o                        \", \"Trabalho Individual em Fundamentos e M\\u00e9todos de Computa\\u00e7\\u00e3o            \", \"T\\u00f3picos em Engenharia de Software                                     \", \"Fundamentos de Sistemas Computacionais                                \", \"Est\\u00e1gio de Doc\\u00eancia no Ensino de Gradua\\u00e7\\u00e3o em Ci\\u00eancia da Computa\\u00e7\\u00e3o   \", \"Semin\\u00e1rio                                                             \", \"Processos Estoc\\u00e1sticos                                                \", \"Intelig\\u00eancia Artificial 2                                             \", \"Teoria da Computa\\u00e7\\u00e3o                                                  \", \"Est\\u00e1gio de Doc\\u00eancia no Ensino de Gradua\\u00e7\\u00e3o em Ci\\u00eancia da Computa\\u00e7\\u00e3o   \", \"T\\u00f3picos em Fundamentos e M\\u00e9todos de Computa\\u00e7\\u00e3o                        \", \"Est\\u00e1gio de Doc\\u00eancia no Ensino de Gradua\\u00e7\\u00e3o em Ci\\u00eancia da Computa\\u00e7\\u00e3o   \", \"Fundamentos de Sistemas Computacionais                                \", \"T\\u00f3picos em Fundamentos e M\\u00e9todos de Computa\\u00e7\\u00e3o                        \", \"Sistemas Multiagentes                                                 \", \"T\\u00f3picos em Fundamentos e M\\u00e9todos de Computa\\u00e7\\u00e3o                        \", \"Trabalho Individual em Fundamentos e M\\u00e9todos de Computa\\u00e7\\u00e3o            \", \"Programa\\u00e7\\u00e3o Paralela                                                  \", \"Fundamentos de Sistemas Computacionais                                \", \"Programa\\u00e7\\u00e3o Paralela                                                  \", \"Fundamentos de Sistemas Computacionais                                \", \"Algoritmos e Estruturas de Dados                                      \", \"Fundamentos de Banco de Dados                                         \", \"An\\u00e1lise Estat\\u00edstica de Dados e Informa\\u00e7\\u00f5es                            \", \"Minera\\u00e7\\u00e3o de Dados                                                    \", \"Gest\\u00e3o de Projetos de TI                                              \", \"T\\u00f3picos em Fundamentos e M\\u00e9todos de Computa\\u00e7\\u00e3o                        \", \"Exame de Qualifica\\u00e7\\u00e3o                                                 \", \"T\\u00f3picos em Sistemas de Computa\\u00e7\\u00e3o                                     \", \"T\\u00f3picos em Fundamentos e M\\u00e9todos de Computa\\u00e7\\u00e3o                        \", \"T\\u00f3picos em Sistemas de Computa\\u00e7\\u00e3o                                     \", \"T\\u00f3picos em Fundamentos e M\\u00e9todos de Computa\\u00e7\\u00e3o                        \", \"Semin\\u00e1rio                                                             \", \"T\\u00f3picos em Sistemas de Computa\\u00e7\\u00e3o                                     \", \"Profici\\u00eancia em Ingl\\u00eas                                                \", \"Semin\\u00e1rio                                                             \", \"Trabalho Individual em Fundamentos e M\\u00e9todos de Computa\\u00e7\\u00e3o            \", \"Exame de Qualifica\\u00e7\\u00e3o                                                 \", \"Est\\u00e1gio de Doc\\u00eancia no Ensino de Gradua\\u00e7\\u00e3o em Ci\\u00eancia da Computa\\u00e7\\u00e3o   \", \"Exame de Qualifica\\u00e7\\u00e3o                                                 \", \"Teoria de Prova                                                       \", \"Exame de Qualifica\\u00e7\\u00e3o                                                 \", \"Exame de Qualifica\\u00e7\\u00e3o                                                 \", \"Trabalho Individual em Fundamentos e M\\u00e9todos de Computa\\u00e7\\u00e3o            \", \"Exame de Qualifica\\u00e7\\u00e3o                                                 \", \"Sistemas Distribu\\u00eddos                                                 \", \"Projeto e Complexidade de Algoritmos                                  \", \"Trabalho Individual em Fundamentos e M\\u00e9todos de Computa\\u00e7\\u00e3o            \", \"Est\\u00e1gio de Doc\\u00eancia no Ensino de Gradua\\u00e7\\u00e3o em Ci\\u00eancia da Computa\\u00e7\\u00e3o   \", \"T\\u00f3picos em Sistemas de Computa\\u00e7\\u00e3o                                     \", \"Trabalho Individual em Fundamentos e M\\u00e9todos de Computa\\u00e7\\u00e3o            \", \"Semin\\u00e1rio                                                             \", \"Semin\\u00e1rio                                                             \", \"Est\\u00e1gio de Doc\\u00eancia no Ensino de Gradua\\u00e7\\u00e3o em Ci\\u00eancia da Computa\\u00e7\\u00e3o   \", \"Intelig\\u00eancia Artificial 1                                             \", \"Projeto e Complexidade de Algoritmos                                  \", \"Projeto e Complexidade de Algoritmos                                  \", \"T\\u00f3picos em Sistemas de Computa\\u00e7\\u00e3o                                     \", \"Sistemas Distribu\\u00eddos                                                 \", \"Profici\\u00eancia em Ingl\\u00eas                                                \", \"Semin\\u00e1rio                                                             \", \"Sistemas Distribu\\u00eddos                                                 \", \"T\\u00f3picos em Sistemas de Computa\\u00e7\\u00e3o                                     \", \"Fundamentos de Sistemas Computacionais                                \", \"Projeto e Complexidade de Algoritmos                                  \", \"Semin\\u00e1rio                                                             \", \"Processamento de Imagens                                              \", \"T\\u00f3picos em Sistemas de Computa\\u00e7\\u00e3o                                     \", \"Fundamentos de Computa\\u00e7\\u00e3o Gr\\u00e1fica e Visual                            \", \"Teoria da Computa\\u00e7\\u00e3o                                                  \", \"Programa\\u00e7\\u00e3o Paralela                                                  \", \"Fundamentos de Sistemas Computacionais                                \", \"Projeto e Complexidade de Algoritmos                                  \", \"Sistemas Distribu\\u00eddos                                                 \", \"T\\u00f3picos em Fundamentos e M\\u00e9todos de Computa\\u00e7\\u00e3o                        \", \"Profici\\u00eancia em Ingl\\u00eas                                                \", \"Teoria da Computa\\u00e7\\u00e3o                                                  \", \"Fundamentos de Sistemas Computacionais                                \", \"T\\u00f3picos em Sistemas de Computa\\u00e7\\u00e3o                                     \", \"Sistemas Multiagentes                                                 \", \"Fundamentos de Sistemas Computacionais                                \", \"Semin\\u00e1rio                                                             \", \"Sistemas Multiagentes                                                 \", \"Sistemas Distribu\\u00eddos                                                 \", \"Est\\u00e1gio de Doc\\u00eancia no Ensino de Gradua\\u00e7\\u00e3o em Ci\\u00eancia da Computa\\u00e7\\u00e3o   \", \"T\\u00f3picos em Sistemas de Computa\\u00e7\\u00e3o                                     \", \"Sistemas Distribu\\u00eddos                                                 \", \"Banco de Dados Massivos                                               \", \"M\\u00e9todos Computacionais Intensivos para Minera\\u00e7\\u00e3o de Dados             \", \"Minera\\u00e7\\u00e3o de Dados Massivos                                           \", \"No\\u00e7\\u00f5es B\\u00e1sicas de Sele\\u00e7\\u00e3o de Amostras                                 \", \"T\\u00f3picos Avan\\u00e7ados em Minera\\u00e7\\u00e3o de Dados                               \", \"Fundamentos de Sistemas Computacionais                                \", \"Projeto e Complexidade de Algoritmos                                  \", \"Profici\\u00eancia em Ingl\\u00eas                                                \", \"Intelig\\u00eancia Artificial 1                                             \", \"Est\\u00e1gio de Doc\\u00eancia no Ensino de Gradua\\u00e7\\u00e3o em Ci\\u00eancia da Computa\\u00e7\\u00e3o   \", \"Semin\\u00e1rio                                                             \", \"Projeto e Complexidade de Algoritmos                                  \", \"Sistemas Multiagentes                                                 \", \"Intelig\\u00eancia Artificial 1                                             \", \"Treinamento e Desenvolvimento de Pessoal                              \", \"Fundamentos de Sistemas Computacionais                                \", \"Projeto e Complexidade de Algoritmos                                  \", \"Sistemas Multiagentes                                                 \", \"Projeto e Complexidade de Algoritmos                                  \", \"T\\u00f3picos em Sistemas de Computa\\u00e7\\u00e3o                                     \", \"Profici\\u00eancia em Ingl\\u00eas                                                \", \"Projeto e Complexidade de Algoritmos                                  \", \"T\\u00f3picos em Sistemas de Computa\\u00e7\\u00e3o                                     \", \"Fundamentos de Sistemas Computacionais                                \", \"Sistemas Distribu\\u00eddos                                                 \", \"Fundamentos de Sistemas Computacionais                                \", \"Projeto e Complexidade de Algoritmos                                  \", \"Semin\\u00e1rio                                                             \", \"T\\u00f3picos em Fundamentos e M\\u00e9todos de Computa\\u00e7\\u00e3o                        \", \"Est\\u00e1gio de Doc\\u00eancia no Ensino de Gradua\\u00e7\\u00e3o em Ci\\u00eancia da Computa\\u00e7\\u00e3o   \", \"Semin\\u00e1rio                                                             \", \"Profici\\u00eancia em Ingl\\u00eas                                                \", \"Fundamentos de Sistemas Computacionais                                \", \"Projeto e Complexidade de Algoritmos                                  \", \"Est\\u00e1gio de Doc\\u00eancia no Ensino de Gradua\\u00e7\\u00e3o em Ci\\u00eancia da Computa\\u00e7\\u00e3o   \", \"Trabalho Individual em Sistemas de Computa\\u00e7\\u00e3o                         \", \"Trabalho Individual em Sistemas de Computa\\u00e7\\u00e3o                         \", \"Programa\\u00e7\\u00e3o Paralela                                                  \", \"Est\\u00e1gio de Doc\\u00eancia no Ensino de Gradua\\u00e7\\u00e3o em Ci\\u00eancia da Computa\\u00e7\\u00e3o   \", \"Trabalho Individual em Fundamentos e M\\u00e9todos de Computa\\u00e7\\u00e3o            \", \"Exame de Qualifica\\u00e7\\u00e3o                                                 \", \"Exame de Qualifica\\u00e7\\u00e3o                                                 \", \"Exame de Qualifica\\u00e7\\u00e3o                                                 \", \"Semin\\u00e1rio                                                             \", \"Trabalho Individual em Sistemas de Computa\\u00e7\\u00e3o                         \", \"Profici\\u00eancia em Ingl\\u00eas                                                \", \"Intelig\\u00eancia Artificial 2                                             \", \"Profici\\u00eancia em Ingl\\u00eas                                                \", \"Fundamentos de Sistemas Computacionais                                \", \"Semin\\u00e1rio                                                             \", \"T\\u00f3picos em Fundamentos e M\\u00e9todos de Computa\\u00e7\\u00e3o                        \", \"Programa\\u00e7\\u00e3o Paralela                                                  \", \"Intelig\\u00eancia Artificial 2                                             \", \"T\\u00f3picos em Fundamentos e M\\u00e9todos de Computa\\u00e7\\u00e3o                        \", \"Trabalho Individual em Sistemas de Computa\\u00e7\\u00e3o                         \", \"Profici\\u00eancia em Ingl\\u00eas                                                \", \"T\\u00f3picos Avan\\u00e7ados em Sistemas Mecatr\\u00f4nicos 2                          \", \"Programa\\u00e7\\u00e3o Paralela                                                  \", \"T\\u00f3picos em Sistemas de Computa\\u00e7\\u00e3o                                     \", \"T\\u00f3picos em Fundamentos e M\\u00e9todos de Computa\\u00e7\\u00e3o                        \", \"Profici\\u00eancia em Ingl\\u00eas                                                \", \"Arquiteturas VLSI                                                     \", \"T\\u00f3picos em Fundamentos e M\\u00e9todos de Computa\\u00e7\\u00e3o                        \", \"Teoria da Computa\\u00e7\\u00e3o                                                  \", \"T\\u00f3picos em Fundamentos e M\\u00e9todos de Computa\\u00e7\\u00e3o                        \", \"Semin\\u00e1rio                                                             \", \"T\\u00f3picos em Sistemas de Computa\\u00e7\\u00e3o                                     \", \"Fundamentos de Sistemas Computacionais                                \", \"T\\u00f3picos em Sistemas de Computa\\u00e7\\u00e3o                                     \", \"Profici\\u00eancia em Ingl\\u00eas                                                \", \"Est\\u00e1gio de Doc\\u00eancia no Ensino de Gradua\\u00e7\\u00e3o em Ci\\u00eancia da Computa\\u00e7\\u00e3o   \", \"T\\u00f3picos em Fundamentos e M\\u00e9todos de Computa\\u00e7\\u00e3o                        \", \"T\\u00f3picos em Sistemas de Computa\\u00e7\\u00e3o                                     \", \"Intelig\\u00eancia Artificial 2                                             \", \"Est\\u00e1gio de Doc\\u00eancia no Ensino de Gradua\\u00e7\\u00e3o em Ci\\u00eancia da Computa\\u00e7\\u00e3o   \", \"Semin\\u00e1rio                                                             \", \"T\\u00f3picos em Fundamentos e M\\u00e9todos de Computa\\u00e7\\u00e3o                        \", \"Fundamentos de Sistemas Computacionais                                \", \"Programa\\u00e7\\u00e3o Paralela                                                  \", \"T\\u00f3picos em Fundamentos e M\\u00e9todos de Computa\\u00e7\\u00e3o                        \", \"Fundamentos de Sistemas Computacionais                                \", \"Programa\\u00e7\\u00e3o Paralela                                                  \", \"Fundamentos de Sistemas Computacionais                                \", \"Teoria da Computa\\u00e7\\u00e3o                                                  \", \"T\\u00f3picos em Sistemas de Computa\\u00e7\\u00e3o                                     \", \"Intelig\\u00eancia Artificial 2                                             \", \"Est\\u00e1gio de Doc\\u00eancia no Ensino de Gradua\\u00e7\\u00e3o em Ci\\u00eancia da Computa\\u00e7\\u00e3o   \", \"Algoritmos e Estruturas de Dados                                      \", \"Fundamentos de Banco de Dados                                         \", \"An\\u00e1lise Estat\\u00edstica de Dados e Informa\\u00e7\\u00f5es                            \", \"Minera\\u00e7\\u00e3o de Dados                                                    \", \"Fundamentos em Pesquisa Operacional                                   \", \"Gest\\u00e3o de Projetos de TI                                              \", \"Est\\u00e1gio de Doc\\u00eancia no Ensino de Gradua\\u00e7\\u00e3o em Ci\\u00eancia da Computa\\u00e7\\u00e3o   \", \"Semin\\u00e1rio                                                             \", \"Programa\\u00e7\\u00e3o Paralela                                                  \", \"T\\u00f3picos em Gest\\u00e3o Ambiental 1                                         \", \"T\\u00f3picos Especiais em Gest\\u00e3o Ambiental                                 \", \"Semin\\u00e1rio                                                             \", \"Trabalho Individual em Sistemas de Computa\\u00e7\\u00e3o                         \", \"Trabalho Individual em Fundamentos e M\\u00e9todos de Computa\\u00e7\\u00e3o            \", \"Trabalho Individual em Fundamentos e M\\u00e9todos de Computa\\u00e7\\u00e3o            \", \"Trabalho Individual em Sistemas de Computa\\u00e7\\u00e3o                         \", \"Exame de Qualifica\\u00e7\\u00e3o                                                 \", \"Exame de Qualifica\\u00e7\\u00e3o                                                 \", \"Trabalho Individual em Fundamentos e M\\u00e9todos de Computa\\u00e7\\u00e3o            \", \"Sistemas Distribu\\u00eddos                                                 \", \"Trabalho Individual em Sistemas de Computa\\u00e7\\u00e3o                         \", \"Intelig\\u00eancia Artificial 1                                             \", \"T\\u00f3picos em Gest\\u00e3o Ambiental 1                                         \", \"T\\u00f3picos Especiais em Gest\\u00e3o Ambiental                                 \", \"Modelagem e Verifica\\u00e7\\u00e3o de Sistemas Integrados em Sil\\u00edcio             \", \"Trabalho Individual em Sistemas de Computa\\u00e7\\u00e3o                         \", \"Est\\u00e1gio de Doc\\u00eancia no Ensino de Gradua\\u00e7\\u00e3o em Ci\\u00eancia da Computa\\u00e7\\u00e3o   \", \"Teoria dos Jogos                                                      \", \"Est\\u00e1gio de Doc\\u00eancia no Ensino de Gradua\\u00e7\\u00e3o em Ci\\u00eancia da Computa\\u00e7\\u00e3o   \", \"Trabalho Individual em Sistemas de Computa\\u00e7\\u00e3o                         \", \"Est\\u00e1gio de Doc\\u00eancia no Ensino de Gradua\\u00e7\\u00e3o em Ci\\u00eancia da Computa\\u00e7\\u00e3o   \", \"L\\u00f3gica Formal e Computacional                                         \", \"Est\\u00e1gio de Doc\\u00eancia no Ensino de Gradua\\u00e7\\u00e3o em Ci\\u00eancia da Computa\\u00e7\\u00e3o   \", \"Sistemas Distribu\\u00eddos                                                 \", \"T\\u00f3picos em Sistemas de Computa\\u00e7\\u00e3o                                     \", \"T\\u00f3picos em Fundamentos e M\\u00e9todos de Computa\\u00e7\\u00e3o                        \", \"Trabalho Individual em Fundamentos e M\\u00e9todos de Computa\\u00e7\\u00e3o            \", \"Introdu\\u00e7\\u00e3o a L\\u00f3gica Formal                                            \", \"L\\u00f3gica Cl\\u00e1ssica e Extens\\u00f5es                                           \", \"Trabalho Individual em Sistemas de Computa\\u00e7\\u00e3o                         \", \"Fundamentos de Sistemas Computacionais                                \", \"Sistemas Distribu\\u00eddos                                                 \", \"Sistemas Distribu\\u00eddos                                                 \", \"Semin\\u00e1rio                                                             \", \"Sistemas Distribu\\u00eddos                                                 \", \"Semin\\u00e1rio                                                             \", \"Est\\u00e1gio de Doc\\u00eancia no Ensino de Gradua\\u00e7\\u00e3o em Ci\\u00eancia da Computa\\u00e7\\u00e3o   \", \"Semin\\u00e1rio                                                             \", \"Redes de Acesso                                                       \", \"Converg\\u00eancia de Redes                                                 \", \"Armazenamento e Gerenciamento de Informa\\u00e7\\u00f5es                          \", \"T\\u00f3picos em Sistemas Distribu\\u00eddos                                      \", \"T\\u00f3picos Avan\\u00e7ados em Infraestrutura de TI                             \", \"Pesquisa em Infraestrutura de TI                                      \", \"Trabalho Individual em Fundamentos e M\\u00e9todos de Computa\\u00e7\\u00e3o            \", \"Semin\\u00e1rio                                                             \", \"T\\u00f3picos em Sistemas de Computa\\u00e7\\u00e3o                                     \", \"Arquitetura e Desenho de Software                                     \", \"Constru\\u00e7\\u00e3o de Software                                                \", \"Profici\\u00eancia em Ingl\\u00eas                                                \", \"Exame de Qualifica\\u00e7\\u00e3o                                                 \", \"Profici\\u00eancia em Ingl\\u00eas                                                \", \"Exame de Qualifica\\u00e7\\u00e3o                                                 \", \"Exame de Qualifica\\u00e7\\u00e3o                                                 \", \"Exame de Qualifica\\u00e7\\u00e3o                                                 \", \"Trabalho Individual em Sistemas de Computa\\u00e7\\u00e3o                         \", \"Profici\\u00eancia em Ingl\\u00eas                                                \", \"Intelig\\u00eancia Artificial 2                                             \", \"Profici\\u00eancia em Ingl\\u00eas                                                \", \"Trabalho Individual em Fundamentos e M\\u00e9todos de Computa\\u00e7\\u00e3o            \", \"Exame de Qualifica\\u00e7\\u00e3o                                                 \", \"Teoria da Computa\\u00e7\\u00e3o                                                  \", \"Trabalho Individual em Sistemas de Computa\\u00e7\\u00e3o                         \", \"Profici\\u00eancia em Ingl\\u00eas                                                \", \"Trabalho Individual em Sistemas de Computa\\u00e7\\u00e3o                         \", \"Profici\\u00eancia em Ingl\\u00eas                                                \", \"Exame de Qualifica\\u00e7\\u00e3o                                                 \", \"Semin\\u00e1rio                                                             \", \"Fundamentos de Sistemas Computacionais                                \", \"Semin\\u00e1rio                                                             \", \"Teoria da Computa\\u00e7\\u00e3o                                                  \", \"Profici\\u00eancia em Ingl\\u00eas                                                \", \"Est\\u00e1gio de Doc\\u00eancia no Ensino de Gradua\\u00e7\\u00e3o em Ci\\u00eancia da Computa\\u00e7\\u00e3o   \", \"Linguagens Declarativas                                               \", \"Linguagens Para Inteligencia Artificial                               \", \"Semin\\u00e1rio                                                             \", \"Est\\u00e1gio de Doc\\u00eancia no Ensino de Gradua\\u00e7\\u00e3o em Ci\\u00eancia da Computa\\u00e7\\u00e3o   \", \"Semin\\u00e1rio                                                             \", \"Linguagens Declarativas                                               \", \"Linguagens Para Inteligencia Artificial                               \", \"Est\\u00e1gio de Doc\\u00eancia no Ensino de Gradua\\u00e7\\u00e3o em Ci\\u00eancia da Computa\\u00e7\\u00e3o   \", \"Profici\\u00eancia em Ingl\\u00eas                                                \", \"Trabalho Individual em Sistemas de Computa\\u00e7\\u00e3o                         \", \"Intelig\\u00eancia Artificial 2                                             \", \"Teoria da Computa\\u00e7\\u00e3o                                                  \", \"Fundamentos de Sistemas Computacionais                                \", \"Projeto e Complexidade de Algoritmos                                  \", \"T\\u00f3picos em Fundamentos e M\\u00e9todos de Computa\\u00e7\\u00e3o                        \", \"Profici\\u00eancia em Ingl\\u00eas                                                \", \"Intelig\\u00eancia Artificial 1                                             \", \"Teoria da Computa\\u00e7\\u00e3o                                                  \", \"Est\\u00e1gio de Doc\\u00eancia no Ensino de Gradua\\u00e7\\u00e3o em Ci\\u00eancia da Computa\\u00e7\\u00e3o   \", \"Fundamentos de Sistemas Computacionais                                \", \"Projeto e Complexidade de Algoritmos                                  \", \"Semin\\u00e1rio                                                             \", \"T\\u00f3picos em Sistemas de Computa\\u00e7\\u00e3o                                     \", \"Intelig\\u00eancia Artificial 2                                             \", \"Semin\\u00e1rio                                                             \", \"Linguagens Declarativas                                               \", \"Linguagens Para Inteligencia Artificial                               \", \"Linguagens Declarativas                                               \", \"Linguagens Para Inteligencia Artificial                               \", \"Teoria da Computa\\u00e7\\u00e3o                                                  \", \"Fundamentos de Sistemas Computacionais                                \", \"Profici\\u00eancia em Ingl\\u00eas                                                \", \"T\\u00f3picos Avan\\u00e7ados em Sistemas Mecatr\\u00f4nicos 2                          \", \"Intelig\\u00eancia Artificial 2                                             \", \"Linguagens Declarativas                                               \", \"Linguagens Para Inteligencia Artificial                               \", \"Fundamentos de Sistemas Computacionais                                \", \"Algoritmos e Estruturas de Dados                                      \", \"Fundamentos de Banco de Dados                                         \", \"Minera\\u00e7\\u00e3o de Dados                                                    \", \"Algoritmos e Estruturas de Dados                                      \", \"Fundamentos de Banco de Dados                                         \", \"Minera\\u00e7\\u00e3o de Dados                                                    \", \"T\\u00f3picos Especiais em Comunica\\u00e7\\u00e3o e Media\\u00e7\\u00e3o da Informa\\u00e7\\u00e3o             \", \"Semin\\u00e1rio                                                             \", \"Est\\u00e1gio de Doc\\u00eancia no Ensino de Gradua\\u00e7\\u00e3o em Ci\\u00eancia da Computa\\u00e7\\u00e3o   \", \"Exame de Qualifica\\u00e7\\u00e3o                                                 \", \"Trabalho Individual em Sistemas de Computa\\u00e7\\u00e3o                         \", \"Exame de Qualifica\\u00e7\\u00e3o                                                 \", \"Semin\\u00e1rio                                                             \", \"Exame de Qualifica\\u00e7\\u00e3o                                                 \", \"Intelig\\u00eancia Artificial 1                                             \", \"Exame de Qualifica\\u00e7\\u00e3o                                                 \", \"Projeto e Complexidade de Algoritmos                                  \", \"Fundamentos de Sistemas Computacionais                                \", \"T\\u00f3picos em Formalismos de Computa\\u00e7\\u00e3o                                  \", \"Est\\u00e1gio de Doc\\u00eancia no Ensino de Gradua\\u00e7\\u00e3o em Ci\\u00eancia da Computa\\u00e7\\u00e3o   \", \"Projeto e Complexidade de Algoritmos                                  \", \"T\\u00f3picos em Engenharia de Software                                     \", \"Intelig\\u00eancia Artificial 1                                             \", \"Semin\\u00e1rio                                                             \", \"Intelig\\u00eancia Artificial 1                                             \", \"Est\\u00e1gio de Doc\\u00eancia no Ensino de Gradua\\u00e7\\u00e3o em Ci\\u00eancia da Computa\\u00e7\\u00e3o   \", \"Semin\\u00e1rio                                                             \", \"Trabalho Individual em Sistemas de Computa\\u00e7\\u00e3o                         \", \"Est\\u00e1gio de Doc\\u00eancia no Ensino de Gradua\\u00e7\\u00e3o em Ci\\u00eancia da Computa\\u00e7\\u00e3o   \", \"T\\u00f3picos em Sistemas de Computa\\u00e7\\u00e3o                                     \", \"Trabalho Individual em Sistemas de Computa\\u00e7\\u00e3o                         \", \"Est\\u00e1gio de Doc\\u00eancia no Ensino de Gradua\\u00e7\\u00e3o em Ci\\u00eancia da Computa\\u00e7\\u00e3o   \", \"T\\u00f3picos em Sistemas de Computa\\u00e7\\u00e3o                                     \", \"Profici\\u00eancia em Ingl\\u00eas                                                \", \"Intelig\\u00eancia Artificial 1                                             \", \"Fundamentos de Sistemas Computacionais                                \", \"T\\u00f3picos em Sistemas de Computa\\u00e7\\u00e3o                                     \", \"Intelig\\u00eancia Artificial 1                                             \", \"T\\u00f3picos em Formalismos de Computa\\u00e7\\u00e3o                                  \", \"T\\u00f3picos em Formalismos de Computa\\u00e7\\u00e3o                                  \", \"Projeto e Complexidade de Algoritmos                                  \", \"Semin\\u00e1rio                                                             \", \"T\\u00f3picos em Formalismos de Computa\\u00e7\\u00e3o                                  \", \"T\\u00f3picos em Sistemas de Computa\\u00e7\\u00e3o                                     \", \"Est\\u00e1gio de Doc\\u00eancia no Ensino de Gradua\\u00e7\\u00e3o em Ci\\u00eancia da Computa\\u00e7\\u00e3o   \", \"Fundamentos de Sistemas Computacionais                                \", \"Projeto e Complexidade de Algoritmos                                  \", \"Semin\\u00e1rio                                                             \", \"T\\u00f3picos em Sistemas de Computa\\u00e7\\u00e3o                                     \", \"T\\u00f3picos em Fundamentos e M\\u00e9todos de Computa\\u00e7\\u00e3o                        \", \"T\\u00f3picos de Pesquisa em Inform\\u00e1tica                                    \", \"T\\u00f3picos Avan\\u00e7ados em Sistemas de Computa\\u00e7\\u00e3o                           \", \"Processamento Digital de Sinais                                       \", \"Intelig\\u00eancia Artificial 1                                             \", \"T\\u00f3picos em Formalismos de Computa\\u00e7\\u00e3o                                  \", \"Est\\u00e1gio de Doc\\u00eancia no Ensino de Gradua\\u00e7\\u00e3o em Ci\\u00eancia da Computa\\u00e7\\u00e3o   \", \"Fundamentos de Sistemas Computacionais                                \", \"Projeto e Complexidade de Algoritmos                                  \", \"T\\u00f3picos em Engenharia de Software                                     \", \"Fundamentos de Sistemas Computacionais                                \", \"Projeto e Complexidade de Algoritmos                                  \", \"Semin\\u00e1rio                                                             \", \"T\\u00f3picos em Formalismos de Computa\\u00e7\\u00e3o                                  \", \"Semin\\u00e1rio                                                             \", \"Teoria da Computa\\u00e7\\u00e3o                                                  \", \"Fundamentos de Sistemas Computacionais                                \", \"Projeto e Complexidade de Algoritmos                                  \", \"Arquiteturas VLSI                                                     \", \"Semin\\u00e1rio                                                             \", \"Processamento de Imagens                                              \", \"T\\u00f3picos em Sistemas de Computa\\u00e7\\u00e3o                                     \", \"T\\u00f3picos Avan\\u00e7ados em Sistemas de Computa\\u00e7\\u00e3o                           \", \"Trabalho Individual em Sistemas de Computa\\u00e7\\u00e3o                         \", \"Intelig\\u00eancia Artificial 1                                             \", \"Est\\u00e1gio de Doc\\u00eancia no Ensino de Gradua\\u00e7\\u00e3o em Ci\\u00eancia da Computa\\u00e7\\u00e3o   \", \"Trabalho Individual em Sistemas de Computa\\u00e7\\u00e3o                         \", \"Projeto e Complexidade de Algoritmos                                  \", \"Intelig\\u00eancia Artificial 1                                             \", \"T\\u00f3picos Avan\\u00e7ados em Sistemas Mecatr\\u00f4nicos 1                          \", \"Projeto e Complexidade de Algoritmos                                  \", \"Trabalho Individual em Fundamentos e M\\u00e9todos de Computa\\u00e7\\u00e3o            \", \"Engenharia de Requisitos                                              \", \"Verifica\\u00e7\\u00e3o, Valida\\u00e7\\u00e3o e Testes de Software                           \", \"T\\u00f3picos Avan\\u00e7ados em Engenharia de Software                           \", \"Engenharia de Requisitos                                              \", \"Arquitetura e Desenho de Software                                     \", \"Constru\\u00e7\\u00e3o de Software                                                \", \"Verifica\\u00e7\\u00e3o, Valida\\u00e7\\u00e3o e Testes de Software                           \", \"T\\u00f3picos Avan\\u00e7ados em Engenharia de Software                           \", \"Exame de Qualifica\\u00e7\\u00e3o                                                 \", \"Exame de Qualifica\\u00e7\\u00e3o                                                 \", \"Intelig\\u00eancia Artificial 2                                             \", \"Semin\\u00e1rio de Computa\\u00e7\\u00e3o                                               \", \"Projeto e Complexidade de Algoritmos                                  \", \"Semin\\u00e1rio                                                             \", \"Profici\\u00eancia em Ingl\\u00eas                                                \", \"Est\\u00e1gio de Doc\\u00eancia no Ensino de Gradua\\u00e7\\u00e3o em Ci\\u00eancia da Computa\\u00e7\\u00e3o   \", \"Semin\\u00e1rio                                                             \", \"T\\u00f3picos em Banco de Dados                                             \", \"Est\\u00e1gio de Doc\\u00eancia no Ensino de Gradua\\u00e7\\u00e3o em Ci\\u00eancia da Computa\\u00e7\\u00e3o   \", \"Processos Estoc\\u00e1sticos                                                \", \"Teoria da Computa\\u00e7\\u00e3o                                                  \", \"Projeto e Complexidade de Algoritmos                                  \", \"Profici\\u00eancia em Ingl\\u00eas                                                \", \"Engenharia de Software 1                                              \", \"Teoria da Computa\\u00e7\\u00e3o                                                  \", \"Trabalho Individual em Fundamentos e M\\u00e9todos de Computa\\u00e7\\u00e3o            \", \"Intelig\\u00eancia Artificial 2                                             \", \"Trabalho Individual em Fundamentos e M\\u00e9todos de Computa\\u00e7\\u00e3o            \", \"Teoria da Computa\\u00e7\\u00e3o                                                  \", \"Projeto e Complexidade de Algoritmos                                  \", \"Trabalho Individual em Fundamentos e M\\u00e9todos de Computa\\u00e7\\u00e3o            \", \"Intelig\\u00eancia Artificial 2                                             \", \"Profici\\u00eancia em Ingl\\u00eas                                                \", \"Teoria da Computa\\u00e7\\u00e3o                                                  \", \"Est\\u00e1gio de Doc\\u00eancia no Ensino de Gradua\\u00e7\\u00e3o em Ci\\u00eancia da Computa\\u00e7\\u00e3o   \", \"Semin\\u00e1rio                                                             \", \"Profici\\u00eancia em Ingl\\u00eas                                                \", \"Teoria da Computa\\u00e7\\u00e3o                                                  \", \"Est\\u00e1gio de Doc\\u00eancia no Ensino de Gradua\\u00e7\\u00e3o em Ci\\u00eancia da Computa\\u00e7\\u00e3o   \", \"T\\u00f3picos em Fundamentos e M\\u00e9todos de Computa\\u00e7\\u00e3o                        \", \"Profici\\u00eancia em Ingl\\u00eas                                                \", \"Engenharia de Software 2                                              \", \"Teoria da Computa\\u00e7\\u00e3o                                                  \", \"Semin\\u00e1rio                                                             \", \"Trabalho Individual em Fundamentos e M\\u00e9todos de Computa\\u00e7\\u00e3o            \", \"Profici\\u00eancia em Ingl\\u00eas                                                \", \"Engenharia de Software 2                                              \", \"Teoria da Computa\\u00e7\\u00e3o                                                  \", \"Profici\\u00eancia em Ingl\\u00eas                                                \", \"Est\\u00e1gio de Doc\\u00eancia no Ensino de Gradua\\u00e7\\u00e3o em Ci\\u00eancia da Computa\\u00e7\\u00e3o   \", \"Trabalho Individual em Sistemas de Computa\\u00e7\\u00e3o                         \", \"T\\u00f3picos Avan\\u00e7ados em Sistemas Mecatr\\u00f4nicos 1                          \", \"Teoria da Computa\\u00e7\\u00e3o                                                  \", \"T\\u00f3picos em Sistemas de Computa\\u00e7\\u00e3o                                     \", \"Teoria da Computa\\u00e7\\u00e3o                                                  \", \"Est\\u00e1gio de Doc\\u00eancia no Ensino de Gradua\\u00e7\\u00e3o em Ci\\u00eancia da Computa\\u00e7\\u00e3o   \", \"Projeto e Complexidade de Algoritmos                                  \", \"T\\u00f3picos em Sistemas de Computa\\u00e7\\u00e3o                                     \", \"Teoria da Computa\\u00e7\\u00e3o                                                  \", \"Est\\u00e1gio de Doc\\u00eancia no Ensino de Gradua\\u00e7\\u00e3o em Ci\\u00eancia da Computa\\u00e7\\u00e3o   \", \"T\\u00f3picos em Fundamentos e M\\u00e9todos de Computa\\u00e7\\u00e3o                        \", \"Teoria da Computa\\u00e7\\u00e3o                                                  \", \"Intelig\\u00eancia Artificial 2                                             \", \"Intelig\\u00eancia Artificial 2                                             \", \"Profici\\u00eancia em Ingl\\u00eas                                                \", \"Exame de Qualifica\\u00e7\\u00e3o                                                 \", \"Teoria de Prova                                                       \", \"Exame de Qualifica\\u00e7\\u00e3o                                                 \", \"Exame de Qualifica\\u00e7\\u00e3o                                                 \", \"Teoria de Prova                                                       \", \"Exame de Qualifica\\u00e7\\u00e3o                                                 \", \"Sistemas Distribu\\u00eddos                                                 \", \"Trabalho Individual em Sistemas de Computa\\u00e7\\u00e3o                         \", \"Trabalho Individual em Sistemas de Computa\\u00e7\\u00e3o                         \", \"T\\u00f3picos em Banco de Dados                                             \", \"Trabalho Individual em Fundamentos e M\\u00e9todos de Computa\\u00e7\\u00e3o            \", \"Trabalho Individual em Fundamentos e M\\u00e9todos de Computa\\u00e7\\u00e3o            \", \"Sistemas Distribu\\u00eddos                                                 \", \"Sistemas Distribu\\u00eddos                                                 \", \"Est\\u00e1gio de Doc\\u00eancia no Ensino de Gradua\\u00e7\\u00e3o em Ci\\u00eancia da Computa\\u00e7\\u00e3o   \", \"T\\u00f3picos em Sistemas de Computa\\u00e7\\u00e3o                                     \", \"T\\u00f3picos em Sistemas de Computa\\u00e7\\u00e3o                                     \", \"Trabalho Individual em Sistemas de Computa\\u00e7\\u00e3o                         \", \"Trabalho Individual em Fundamentos e M\\u00e9todos de Computa\\u00e7\\u00e3o            \", \"Teoria da Computa\\u00e7\\u00e3o                                                  \", \"Teoria da Computa\\u00e7\\u00e3o                                                  \", \"Projeto e Complexidade de Algoritmos                                  \", \"Sistemas Distribu\\u00eddos                                                 \", \"Intelig\\u00eancia Artificial 1                                             \", \"T\\u00f3picos em Engenharia de Software                                     \", \"Teoria da Computa\\u00e7\\u00e3o                                                  \", \"Est\\u00e1gio de Doc\\u00eancia no Ensino de Gradua\\u00e7\\u00e3o em Ci\\u00eancia da Computa\\u00e7\\u00e3o   \", \"Projeto e Complexidade de Algoritmos                                  \", \"Semin\\u00e1rio                                                             \", \"T\\u00f3picos em Sistemas de Computa\\u00e7\\u00e3o                                     \", \"T\\u00f3picos em Banco de Dados                                             \", \"Intelig\\u00eancia Artificial 1                                             \", \"Projeto e Complexidade de Algoritmos                                  \", \"Est\\u00e1gio de Doc\\u00eancia no Ensino de Gradua\\u00e7\\u00e3o em Ci\\u00eancia da Computa\\u00e7\\u00e3o   \", \"Semin\\u00e1rio                                                             \", \"T\\u00f3picos em Banco de Dados                                             \", \"Sistemas Distribu\\u00eddos                                                 \", \"T\\u00f3picos em Sistemas de Computa\\u00e7\\u00e3o                                     \", \"Teoria da Computa\\u00e7\\u00e3o                                                  \", \"Projeto e Complexidade de Algoritmos                                  \", \"Projeto e Complexidade de Algor\\u00edtmos 2                                \", \"Intelig\\u00eancia Artificial 1                                             \", \"Semin\\u00e1rio                                                             \", \"Processamento de Imagens                                              \", \"Profici\\u00eancia em Ingl\\u00eas                                                \", \"Teoria da Computa\\u00e7\\u00e3o                                                  \", \"Projeto e Complexidade de Algoritmos                                  \", \"Arquiteturas VLSI                                                     \", \"Semin\\u00e1rio                                                             \", \"Processamento de Imagens                                              \", \"Profici\\u00eancia em Ingl\\u00eas                                                \", \"Modelagem e Verifica\\u00e7\\u00e3o de Sistemas Integrados em Sil\\u00edcio             \", \"T\\u00f3picos Avan\\u00e7ados em Sistemas de Computa\\u00e7\\u00e3o                           \", \"Teoria da Computa\\u00e7\\u00e3o                                                  \", \"Projeto e Complexidade de Algoritmos                                  \", \"Sistemas Distribu\\u00eddos                                                 \", \"T\\u00f3picos em Formalismos de Computa\\u00e7\\u00e3o                                  \", \"T\\u00f3picos em Sistemas de Computa\\u00e7\\u00e3o                                     \", \"T\\u00f3picos em Fundamentos e M\\u00e9todos de Computa\\u00e7\\u00e3o                        \", \"Profici\\u00eancia em Ingl\\u00eas                                                \", \"T\\u00f3picos Avan\\u00e7ados em Sistemas de Computa\\u00e7\\u00e3o                           \", \"Intelig\\u00eancia Artificial 1                                             \", \"Teoria da Computa\\u00e7\\u00e3o                                                  \", \"Projeto e Complexidade de Algoritmos                                  \", \"Semin\\u00e1rio                                                             \", \"T\\u00f3picos em Sistemas de Computa\\u00e7\\u00e3o                                     \", \"T\\u00f3picos em Fundamentos e M\\u00e9todos de Computa\\u00e7\\u00e3o                        \", \"T\\u00f3picos Avan\\u00e7ados em Sistemas de Computa\\u00e7\\u00e3o                           \", \"T\\u00f3picos em Banco de Dados                                             \", \"Semin\\u00e1rio                                                             \", \"Sistemas Distribu\\u00eddos                                                 \", \"Intelig\\u00eancia Artificial 1                                             \", \"Intelig\\u00eancia Artificial 2                                             \", \"Teoria da Computa\\u00e7\\u00e3o                                                  \", \"Projeto e Complexidade de Algoritmos                                  \", \"Semin\\u00e1rio                                                             \", \"Processamento de Imagens                                              \", \"T\\u00f3picos em Sistemas de Computa\\u00e7\\u00e3o                                     \", \"Projeto e Complexidade de Algoritmos                                  \", \"Projeto e Complexidade de Algoritmos                                  \", \"Semin\\u00e1rio                                                             \", \"Processamento de Imagens                                              \", \"T\\u00f3picos em Fundamentos e M\\u00e9todos de Computa\\u00e7\\u00e3o                        \", \"T\\u00f3picos de Pesquisa em Inform\\u00e1tica                                    \", \"T\\u00f3picos Avan\\u00e7ados em Sistemas de Computa\\u00e7\\u00e3o                           \", \"Trabalho Individual em Fundamentos e M\\u00e9todos de Computa\\u00e7\\u00e3o            \", \"Profici\\u00eancia em Ingl\\u00eas                                                \", \"Minera\\u00e7\\u00e3o de Dados Massivos                                           \", \"Projeto e Complexidade de Algoritmos                                  \", \"Exame de Qualifica\\u00e7\\u00e3o                                                 \", \"Trabalho Individual em Sistemas de Computa\\u00e7\\u00e3o                         \", \"Exame de Qualifica\\u00e7\\u00e3o                                                 \", \"Exame de Qualifica\\u00e7\\u00e3o                                                 \", \"Exame de Qualifica\\u00e7\\u00e3o                                                 \", \"Exame de Qualifica\\u00e7\\u00e3o                                                 \", \"Semin\\u00e1rio                                                             \", \"Trabalho Individual em Sistemas de Computa\\u00e7\\u00e3o                         \", \"Exame de Qualifica\\u00e7\\u00e3o                                                 \", \"T\\u00f3picos em Engenharia de Software                                     \", \"Est\\u00e1gio de Doc\\u00eancia no Ensino de Gradua\\u00e7\\u00e3o em Ci\\u00eancia da Computa\\u00e7\\u00e3o   \", \"Trabalho Individual em Fundamentos e M\\u00e9todos de Computa\\u00e7\\u00e3o            \", \"Exame de Qualifica\\u00e7\\u00e3o                                                 \", \"Exame de Qualifica\\u00e7\\u00e3o                                                 \", \"Teoria da Computa\\u00e7\\u00e3o                                                  \", \"Intelig\\u00eancia Artificial 2                                             \", \"T\\u00f3picos em Engenharia de Software                                     \", \"Profici\\u00eancia em Ingl\\u00eas                                                \", \"Teoria da Computa\\u00e7\\u00e3o                                                  \", \"Semin\\u00e1rio                                                             \", \"Fundamentos de Sistemas Computacionais                                \", \"T\\u00f3picos em Fundamentos e M\\u00e9todos de Computa\\u00e7\\u00e3o                        \", \"Profici\\u00eancia em Ingl\\u00eas                                                \", \"Intelig\\u00eancia Artificial 2                                             \", \"Engenharia de Software 1                                              \", \"Exame de Qualifica\\u00e7\\u00e3o                                                 \", \"Trabalho Individual em Fundamentos e M\\u00e9todos de Computa\\u00e7\\u00e3o            \", \"Profici\\u00eancia em Ingl\\u00eas                                                \", \"Trabalho Individual em Sistemas de Computa\\u00e7\\u00e3o                         \", \"Fundamentos de Sistemas Computacionais                                \", \"Fundamentos de Sistemas Computacionais                                \", \"T\\u00f3picos em Sistemas de Computa\\u00e7\\u00e3o                                     \", \"Intelig\\u00eancia Artificial 2                                             \", \"Fundamentos de Sistemas Computacionais                                \", \"Fundamentos de Sistemas Computacionais                                \", \"Semin\\u00e1rio                                                             \", \"T\\u00f3picos em Sistemas de Computa\\u00e7\\u00e3o                                     \", \"Processos Estoc\\u00e1sticos                                                \", \"Fundamentos de Sistemas Computacionais                                \", \"Profici\\u00eancia em Ingl\\u00eas                                                \", \"Teoria da Computa\\u00e7\\u00e3o                                                  \", \"Fundamentos de Sistemas Computacionais                                \", \"Est\\u00e1gio de Doc\\u00eancia no Ensino de Gradua\\u00e7\\u00e3o em Ci\\u00eancia da Computa\\u00e7\\u00e3o   \", \"Fundamentos de Sistemas Computacionais                                \", \"Profici\\u00eancia em Ingl\\u00eas                                                \", \"Intelig\\u00eancia Artificial 2                                             \", \"Fundamentos de Sistemas Computacionais                                \", \"Profici\\u00eancia em Ingl\\u00eas                                                \", \"Est\\u00e1gio de Doc\\u00eancia no Ensino de Gradua\\u00e7\\u00e3o em Ci\\u00eancia da Computa\\u00e7\\u00e3o   \", \"Teoria da Computa\\u00e7\\u00e3o                                                  \", \"Fundamentos de Sistemas Computacionais                                \", \"Semin\\u00e1rio                                                             \", \"Intelig\\u00eancia Artificial 2                                             \", \"Fundamentos de Sistemas Computacionais                                \", \"Profici\\u00eancia em Ingl\\u00eas                                                \", \"Projeto e Complexidade de Algoritmos                                  \", \"T\\u00f3picos em Sistemas de Computa\\u00e7\\u00e3o                                     \", \"Teoria da Computa\\u00e7\\u00e3o                                                  \", \"Intelig\\u00eancia Artificial 2                                             \", \"Fundamentos de Sistemas Computacionais                                \", \"T\\u00f3picos em Engenharia de Software                                     \", \"Semin\\u00e1rio                                                             \", \"Teoria da Computa\\u00e7\\u00e3o                                                  \", \"Est\\u00e1gio de Doc\\u00eancia no Ensino de Gradua\\u00e7\\u00e3o em Ci\\u00eancia da Computa\\u00e7\\u00e3o   \"], \"legendgroup\": \"\", \"name\": \"\", \"showlegend\": true, \"type\": \"pie\"}],\n",
       "                        {\"legend\": {\"tracegroupgap\": 0}, \"template\": {\"data\": {\"bar\": [{\"error_x\": {\"color\": \"#2a3f5f\"}, \"error_y\": {\"color\": \"#2a3f5f\"}, \"marker\": {\"line\": {\"color\": \"#E5ECF6\", \"width\": 0.5}}, \"type\": \"bar\"}], \"barpolar\": [{\"marker\": {\"line\": {\"color\": \"#E5ECF6\", \"width\": 0.5}}, \"type\": \"barpolar\"}], \"carpet\": [{\"aaxis\": {\"endlinecolor\": \"#2a3f5f\", \"gridcolor\": \"white\", \"linecolor\": \"white\", \"minorgridcolor\": \"white\", \"startlinecolor\": \"#2a3f5f\"}, \"baxis\": {\"endlinecolor\": \"#2a3f5f\", \"gridcolor\": \"white\", \"linecolor\": \"white\", \"minorgridcolor\": \"white\", \"startlinecolor\": \"#2a3f5f\"}, \"type\": \"carpet\"}], \"choropleth\": [{\"colorbar\": {\"outlinewidth\": 0, \"ticks\": \"\"}, \"type\": \"choropleth\"}], \"contour\": [{\"colorbar\": {\"outlinewidth\": 0, \"ticks\": \"\"}, \"colorscale\": [[0.0, \"#0d0887\"], [0.1111111111111111, \"#46039f\"], [0.2222222222222222, \"#7201a8\"], [0.3333333333333333, \"#9c179e\"], [0.4444444444444444, \"#bd3786\"], [0.5555555555555556, \"#d8576b\"], [0.6666666666666666, \"#ed7953\"], [0.7777777777777778, \"#fb9f3a\"], [0.8888888888888888, \"#fdca26\"], [1.0, \"#f0f921\"]], \"type\": \"contour\"}], \"contourcarpet\": [{\"colorbar\": {\"outlinewidth\": 0, \"ticks\": \"\"}, \"type\": \"contourcarpet\"}], \"heatmap\": [{\"colorbar\": {\"outlinewidth\": 0, \"ticks\": \"\"}, \"colorscale\": [[0.0, \"#0d0887\"], [0.1111111111111111, \"#46039f\"], [0.2222222222222222, \"#7201a8\"], [0.3333333333333333, \"#9c179e\"], [0.4444444444444444, \"#bd3786\"], [0.5555555555555556, \"#d8576b\"], [0.6666666666666666, \"#ed7953\"], [0.7777777777777778, \"#fb9f3a\"], [0.8888888888888888, \"#fdca26\"], [1.0, \"#f0f921\"]], \"type\": \"heatmap\"}], \"heatmapgl\": [{\"colorbar\": {\"outlinewidth\": 0, \"ticks\": \"\"}, \"colorscale\": [[0.0, \"#0d0887\"], [0.1111111111111111, \"#46039f\"], [0.2222222222222222, \"#7201a8\"], [0.3333333333333333, \"#9c179e\"], [0.4444444444444444, \"#bd3786\"], [0.5555555555555556, \"#d8576b\"], [0.6666666666666666, \"#ed7953\"], [0.7777777777777778, \"#fb9f3a\"], [0.8888888888888888, \"#fdca26\"], [1.0, \"#f0f921\"]], \"type\": \"heatmapgl\"}], \"histogram\": [{\"marker\": {\"colorbar\": {\"outlinewidth\": 0, \"ticks\": \"\"}}, \"type\": \"histogram\"}], \"histogram2d\": [{\"colorbar\": {\"outlinewidth\": 0, \"ticks\": \"\"}, \"colorscale\": [[0.0, \"#0d0887\"], [0.1111111111111111, \"#46039f\"], [0.2222222222222222, \"#7201a8\"], [0.3333333333333333, \"#9c179e\"], [0.4444444444444444, \"#bd3786\"], [0.5555555555555556, \"#d8576b\"], [0.6666666666666666, \"#ed7953\"], [0.7777777777777778, \"#fb9f3a\"], [0.8888888888888888, \"#fdca26\"], [1.0, \"#f0f921\"]], \"type\": \"histogram2d\"}], \"histogram2dcontour\": [{\"colorbar\": {\"outlinewidth\": 0, \"ticks\": \"\"}, \"colorscale\": [[0.0, \"#0d0887\"], [0.1111111111111111, \"#46039f\"], [0.2222222222222222, \"#7201a8\"], [0.3333333333333333, \"#9c179e\"], [0.4444444444444444, \"#bd3786\"], [0.5555555555555556, \"#d8576b\"], [0.6666666666666666, \"#ed7953\"], [0.7777777777777778, \"#fb9f3a\"], [0.8888888888888888, \"#fdca26\"], [1.0, \"#f0f921\"]], \"type\": \"histogram2dcontour\"}], \"mesh3d\": [{\"colorbar\": {\"outlinewidth\": 0, \"ticks\": \"\"}, \"type\": \"mesh3d\"}], \"parcoords\": [{\"line\": {\"colorbar\": {\"outlinewidth\": 0, \"ticks\": \"\"}}, \"type\": \"parcoords\"}], \"pie\": [{\"automargin\": true, \"type\": \"pie\"}], \"scatter\": [{\"marker\": {\"colorbar\": {\"outlinewidth\": 0, \"ticks\": \"\"}}, \"type\": \"scatter\"}], \"scatter3d\": [{\"line\": {\"colorbar\": {\"outlinewidth\": 0, \"ticks\": \"\"}}, \"marker\": {\"colorbar\": {\"outlinewidth\": 0, \"ticks\": \"\"}}, \"type\": \"scatter3d\"}], \"scattercarpet\": [{\"marker\": {\"colorbar\": {\"outlinewidth\": 0, \"ticks\": \"\"}}, \"type\": \"scattercarpet\"}], \"scattergeo\": [{\"marker\": {\"colorbar\": {\"outlinewidth\": 0, \"ticks\": \"\"}}, \"type\": \"scattergeo\"}], \"scattergl\": [{\"marker\": {\"colorbar\": {\"outlinewidth\": 0, \"ticks\": \"\"}}, \"type\": \"scattergl\"}], \"scattermapbox\": [{\"marker\": {\"colorbar\": {\"outlinewidth\": 0, \"ticks\": \"\"}}, \"type\": \"scattermapbox\"}], \"scatterpolar\": [{\"marker\": {\"colorbar\": {\"outlinewidth\": 0, \"ticks\": \"\"}}, \"type\": \"scatterpolar\"}], \"scatterpolargl\": [{\"marker\": {\"colorbar\": {\"outlinewidth\": 0, \"ticks\": \"\"}}, \"type\": \"scatterpolargl\"}], \"scatterternary\": [{\"marker\": {\"colorbar\": {\"outlinewidth\": 0, \"ticks\": \"\"}}, \"type\": \"scatterternary\"}], \"surface\": [{\"colorbar\": {\"outlinewidth\": 0, \"ticks\": \"\"}, \"colorscale\": [[0.0, \"#0d0887\"], [0.1111111111111111, \"#46039f\"], [0.2222222222222222, \"#7201a8\"], [0.3333333333333333, \"#9c179e\"], [0.4444444444444444, \"#bd3786\"], [0.5555555555555556, \"#d8576b\"], [0.6666666666666666, \"#ed7953\"], [0.7777777777777778, \"#fb9f3a\"], [0.8888888888888888, \"#fdca26\"], [1.0, \"#f0f921\"]], \"type\": \"surface\"}], \"table\": [{\"cells\": {\"fill\": {\"color\": \"#EBF0F8\"}, \"line\": {\"color\": \"white\"}}, \"header\": {\"fill\": {\"color\": \"#C8D4E3\"}, \"line\": {\"color\": \"white\"}}, \"type\": \"table\"}]}, \"layout\": {\"annotationdefaults\": {\"arrowcolor\": \"#2a3f5f\", \"arrowhead\": 0, \"arrowwidth\": 1}, \"coloraxis\": {\"colorbar\": {\"outlinewidth\": 0, \"ticks\": \"\"}}, \"colorscale\": {\"diverging\": [[0, \"#8e0152\"], [0.1, \"#c51b7d\"], [0.2, \"#de77ae\"], [0.3, \"#f1b6da\"], [0.4, \"#fde0ef\"], [0.5, \"#f7f7f7\"], [0.6, \"#e6f5d0\"], [0.7, \"#b8e186\"], [0.8, \"#7fbc41\"], [0.9, \"#4d9221\"], [1, \"#276419\"]], \"sequential\": [[0.0, \"#0d0887\"], [0.1111111111111111, \"#46039f\"], [0.2222222222222222, \"#7201a8\"], [0.3333333333333333, \"#9c179e\"], [0.4444444444444444, \"#bd3786\"], [0.5555555555555556, \"#d8576b\"], [0.6666666666666666, \"#ed7953\"], [0.7777777777777778, \"#fb9f3a\"], [0.8888888888888888, \"#fdca26\"], [1.0, \"#f0f921\"]], \"sequentialminus\": [[0.0, \"#0d0887\"], [0.1111111111111111, \"#46039f\"], [0.2222222222222222, \"#7201a8\"], [0.3333333333333333, \"#9c179e\"], [0.4444444444444444, \"#bd3786\"], [0.5555555555555556, \"#d8576b\"], [0.6666666666666666, \"#ed7953\"], [0.7777777777777778, \"#fb9f3a\"], [0.8888888888888888, \"#fdca26\"], [1.0, \"#f0f921\"]]}, \"colorway\": [\"#636efa\", \"#EF553B\", \"#00cc96\", \"#ab63fa\", \"#FFA15A\", \"#19d3f3\", \"#FF6692\", \"#B6E880\", \"#FF97FF\", \"#FECB52\"], \"font\": {\"color\": \"#2a3f5f\"}, \"geo\": {\"bgcolor\": \"white\", \"lakecolor\": \"white\", \"landcolor\": \"#E5ECF6\", \"showlakes\": true, \"showland\": true, \"subunitcolor\": \"white\"}, \"hoverlabel\": {\"align\": \"left\"}, \"hovermode\": \"closest\", \"mapbox\": {\"style\": \"light\"}, \"paper_bgcolor\": \"white\", \"plot_bgcolor\": \"#E5ECF6\", \"polar\": {\"angularaxis\": {\"gridcolor\": \"white\", \"linecolor\": \"white\", \"ticks\": \"\"}, \"bgcolor\": \"#E5ECF6\", \"radialaxis\": {\"gridcolor\": \"white\", \"linecolor\": \"white\", \"ticks\": \"\"}}, \"scene\": {\"xaxis\": {\"backgroundcolor\": \"#E5ECF6\", \"gridcolor\": \"white\", \"gridwidth\": 2, \"linecolor\": \"white\", \"showbackground\": true, \"ticks\": \"\", \"zerolinecolor\": \"white\"}, \"yaxis\": {\"backgroundcolor\": \"#E5ECF6\", \"gridcolor\": \"white\", \"gridwidth\": 2, \"linecolor\": \"white\", \"showbackground\": true, \"ticks\": \"\", \"zerolinecolor\": \"white\"}, \"zaxis\": {\"backgroundcolor\": \"#E5ECF6\", \"gridcolor\": \"white\", \"gridwidth\": 2, \"linecolor\": \"white\", \"showbackground\": true, \"ticks\": \"\", \"zerolinecolor\": \"white\"}}, \"shapedefaults\": {\"line\": {\"color\": \"#2a3f5f\"}}, \"ternary\": {\"aaxis\": {\"gridcolor\": \"white\", \"linecolor\": \"white\", \"ticks\": \"\"}, \"baxis\": {\"gridcolor\": \"white\", \"linecolor\": \"white\", \"ticks\": \"\"}, \"bgcolor\": \"#E5ECF6\", \"caxis\": {\"gridcolor\": \"white\", \"linecolor\": \"white\", \"ticks\": \"\"}}, \"title\": {\"x\": 0.05}, \"xaxis\": {\"automargin\": true, \"gridcolor\": \"white\", \"linecolor\": \"white\", \"ticks\": \"\", \"title\": {\"standoff\": 15}, \"zerolinecolor\": \"white\", \"zerolinewidth\": 2}, \"yaxis\": {\"automargin\": true, \"gridcolor\": \"white\", \"linecolor\": \"white\", \"ticks\": \"\", \"title\": {\"standoff\": 15}, \"zerolinecolor\": \"white\", \"zerolinewidth\": 2}}}, \"title\": {\"text\": \"Matr\\u00edculas nas disciplinas cursadas\"}},\n",
       "                        {\"responsive\": true}\n",
       "                    ).then(function(){\n",
       "                            \n",
       "var gd = document.getElementById('df8fcd94-c11f-4082-ba56-087dacee53ed');\n",
       "var x = new MutationObserver(function (mutations, observer) {{\n",
       "        var display = window.getComputedStyle(gd).display;\n",
       "        if (!display || display === 'none') {{\n",
       "            console.log([gd, 'removed!']);\n",
       "            Plotly.purge(gd);\n",
       "            observer.disconnect();\n",
       "        }}\n",
       "}});\n",
       "\n",
       "// Listen for the removal of the full notebook cells\n",
       "var notebookContainer = gd.closest('#notebook-container');\n",
       "if (notebookContainer) {{\n",
       "    x.observe(notebookContainer, {childList: true});\n",
       "}}\n",
       "\n",
       "// Listen for the clearing of the current output cell\n",
       "var outputEl = gd.closest('.output');\n",
       "if (outputEl) {{\n",
       "    x.observe(outputEl, {childList: true});\n",
       "}}\n",
       "\n",
       "                        })\n",
       "                };\n",
       "                });\n",
       "            </script>\n",
       "        </div>"
      ]
     },
     "metadata": {},
     "output_type": "display_data"
    }
   ],
   "source": [
    "disciplinas = df.groupby(['Disciplina', 'Código da Disciplina','Turma']).size()\n",
    "\n",
    "fig = px.pie(df, names='Disciplina', title='Matrículas nas disciplinas cursadas')\n",
    "fig.show()"
   ]
  },
  {
   "cell_type": "code",
   "execution_count": 34,
   "metadata": {},
   "outputs": [
    {
     "data": {
      "application/vnd.plotly.v1+json": {
       "config": {
        "plotlyServerURL": "https://plot.ly"
       },
       "data": [
        {
         "domain": {
          "x": [
           0,
           1
          ],
          "y": [
           0,
           1
          ]
         },
         "hovertemplate": "Disciplina=%{label}<extra></extra>",
         "labels": [
          "Teoria da Computação                                                  ",
          "Teoria da Computação                                                  ",
          "Tópicos em Sistemas de Computação                                     ",
          "Processamento de Sinais                                               ",
          "Inteligência Artificial 2                                             ",
          "Sistemas Distribuídos                                                 ",
          "Teoria da Computação                                                  ",
          "Teoria da Computação                                                  ",
          "Inteligência Artificial 2                                             ",
          "Teoria da Computação                                                  ",
          "Teoria da Computação                                                  ",
          "Inteligência Artificial 1                                             ",
          "Projeto e Complexidade de Algoritmos                                  ",
          "Projeto e Complexidade de Algoritmos                                  ",
          "Teoria de Grupos Finitos                                              ",
          "Teoria de Grupos Finitos 1                                            ",
          "Fundamentos de Sistemas Computacionais                                ",
          "Fundamentos de Sistemas Computacionais                                ",
          "Projeto e Complexidade de Algoritmos                                  ",
          "Fundamentos de Sistemas Computacionais                                ",
          "Estudo Orientado em Instrumentação Biomédica 1                        ",
          "Teoria da Computação                                                  ",
          "Teoria da Computação                                                  ",
          "Teoria da Computação                                                  ",
          "Teoria da Computação                                                  ",
          "Processamento de Imagens Digitais                                     ",
          "Redes de Computadores                                                 ",
          "Fundamentos de Sistemas Computacionais                                ",
          "Projeto e Complexidade de Algoritmos                                  ",
          "Projeto e Complexidade de Algoritmos                                  ",
          "Fundamentos de Sistemas Computacionais                                ",
          "Sistemas Distribuídos                                                 ",
          "Teoria da Computação                                                  ",
          "Fundamentos de Sistemas Computacionais                                ",
          "Projeto e Complexidade de Algoritmos                                  ",
          "Fundamentos de Sistemas Computacionais                                ",
          "Projeto e Complexidade de Algoritmos                                  ",
          "Projeto e Complexidade de Algoritmos                                  ",
          "Fundamentos de Sistemas Computacionais                                ",
          "Projeto e Complexidade de Algoritmos                                  ",
          "Introdução à Probabilidade e Aplicações                               ",
          "Tópicos em Fundamentos e Métodos de Computação                        ",
          "Mineração de Dados                                                    ",
          "Teoria da Computação                                                  ",
          "Teoria da Computação                                                  ",
          "Teoria da Computação                                                  ",
          "Teoria da Computação                                                  ",
          "Teoria da Computação                                                  ",
          "Trabalho Individual em Fundamentos e Métodos de Computação            ",
          "Fundamentos de Sistemas Computacionais                                ",
          "Tópicos em Fundamentos e Métodos de Computação                        ",
          "Seminário                                                             ",
          "Inteligência Artificial 1                                             ",
          "Lógica Formal e Computacional                                         ",
          "Fundamentos de Sistemas Computacionais                                ",
          "Projeto e Complexidade de Algoritmos                                  ",
          "Lógica Formal e Computacional                                         ",
          "Sistemas Distribuídos                                                 ",
          "Teoria da Computação                                                  ",
          "Teoria da Computação                                                  ",
          "Teoria da Computação                                                  ",
          "Fundamentos de Sistemas Computacionais                                ",
          "Projeto e Complexidade de Algoritmos                                  ",
          "Teoria da Computação                                                  ",
          "Projeto e Complexidade de Algoritmos                                  ",
          "Fundamentos de Sistemas Computacionais                                ",
          "Projeto e Complexidade de Algoritmos                                  ",
          "Projeto e Complexidade de Algoritmos                                  ",
          "Tópicos em Sistemas de Computação                                     ",
          "Fundamentos de Sistemas Computacionais                                ",
          "Fundamentos de Sistemas Computacionais                                ",
          "Sistemas Multiagentes                                                 ",
          "Trabalho Individual em Fundamentos e Métodos de Computação            ",
          "Projeto e Complexidade de Algoritmos                                  ",
          "Tópicos em Sistemas de Computação                                     ",
          "Sistemas Distribuídos                                                 ",
          "Fundamentos de Sistemas Computacionais                                ",
          "Projeto e Complexidade de Algoritmos                                  ",
          "Projeto e Complexidade de Algoritmos                                  ",
          "Fundamentos de Sistemas Computacionais                                ",
          "Projeto e Complexidade de Algoritmos                                  ",
          "Fundamentos de Sistemas Computacionais                                ",
          "Projeto e Complexidade de Algoritmos                                  ",
          "Teoria da Computação                                                  ",
          "Tópicos em Fundamentos e Métodos de Computação                        ",
          "Fundamentos de Sistemas Computacionais                                ",
          "Teoria da Computação                                                  ",
          "Trabalho Individual em Fundamentos e Métodos de Computação            ",
          "Estágio de Docência no Ensino de Graduação em Ciência da Computação   ",
          "Lógica Formal e Computacional                                         ",
          "Sistemas Distribuídos                                                 ",
          "Fundamentos de Sistemas Computacionais                                ",
          "Sistemas Distribuídos                                                 ",
          "Tópicos em Sistemas de Computação                                     ",
          "Fundamentos de Sistemas Computacionais                                ",
          "Fundamentos de Sistemas Computacionais                                ",
          "Tópicos Avançados em Sistemas Mecatrônicos 2                          ",
          "Fundamentos de Sistemas Computacionais                                ",
          "Algoritmos e Estruturas de Dados                                      ",
          "Mineração de Dados                                                    ",
          "Mineração de Dados                                                    ",
          "Fundamentos de Sistemas Computacionais                                ",
          "Projeto e Complexidade de Algoritmos                                  ",
          "Projeto e Complexidade de Algoritmos                                  ",
          "Construção de Software                                                ",
          "Projeto e Complexidade de Algoritmos                                  ",
          "Trabalho Individual em Fundamentos e Métodos de Computação            ",
          "Teoria da Computação                                                  ",
          "Teoria da Computação                                                  ",
          "Teoria de Prova                                                       ",
          "Teoria da Computação                                                  ",
          "Inteligência Artificial 1                                             ",
          "Processamento de Imagens                                              ",
          "Modelagem e Verificação de Sistemas Integrados em Silício             ",
          "Teoria da Computação                                                  ",
          "Projeto e Complexidade de Algoritmos                                  ",
          "Sistemas Distribuídos                                                 ",
          "Projeto e Complexidade de Algoritmos                                  ",
          "Projeto e Complexidade de Algoritmos                                  ",
          "Teoria da Computação                                                  ",
          "Fundamentos de Sistemas Computacionais                                ",
          "Tópicos em Sistemas de Computação                                     ",
          "Fundamentos de Sistemas Computacionais                                ",
          "Teoria da Computação                                                  ",
          "Fundamentos de Sistemas Computacionais                                ",
          "Fundamentos de Sistemas Computacionais                                ",
          "Fundamentos de Sistemas Computacionais                                "
         ],
         "legendgroup": "",
         "name": "",
         "showlegend": true,
         "type": "pie"
        }
       ],
       "layout": {
        "legend": {
         "tracegroupgap": 0
        },
        "template": {
         "data": {
          "bar": [
           {
            "error_x": {
             "color": "#2a3f5f"
            },
            "error_y": {
             "color": "#2a3f5f"
            },
            "marker": {
             "line": {
              "color": "#E5ECF6",
              "width": 0.5
             }
            },
            "type": "bar"
           }
          ],
          "barpolar": [
           {
            "marker": {
             "line": {
              "color": "#E5ECF6",
              "width": 0.5
             }
            },
            "type": "barpolar"
           }
          ],
          "carpet": [
           {
            "aaxis": {
             "endlinecolor": "#2a3f5f",
             "gridcolor": "white",
             "linecolor": "white",
             "minorgridcolor": "white",
             "startlinecolor": "#2a3f5f"
            },
            "baxis": {
             "endlinecolor": "#2a3f5f",
             "gridcolor": "white",
             "linecolor": "white",
             "minorgridcolor": "white",
             "startlinecolor": "#2a3f5f"
            },
            "type": "carpet"
           }
          ],
          "choropleth": [
           {
            "colorbar": {
             "outlinewidth": 0,
             "ticks": ""
            },
            "type": "choropleth"
           }
          ],
          "contour": [
           {
            "colorbar": {
             "outlinewidth": 0,
             "ticks": ""
            },
            "colorscale": [
             [
              0,
              "#0d0887"
             ],
             [
              0.1111111111111111,
              "#46039f"
             ],
             [
              0.2222222222222222,
              "#7201a8"
             ],
             [
              0.3333333333333333,
              "#9c179e"
             ],
             [
              0.4444444444444444,
              "#bd3786"
             ],
             [
              0.5555555555555556,
              "#d8576b"
             ],
             [
              0.6666666666666666,
              "#ed7953"
             ],
             [
              0.7777777777777778,
              "#fb9f3a"
             ],
             [
              0.8888888888888888,
              "#fdca26"
             ],
             [
              1,
              "#f0f921"
             ]
            ],
            "type": "contour"
           }
          ],
          "contourcarpet": [
           {
            "colorbar": {
             "outlinewidth": 0,
             "ticks": ""
            },
            "type": "contourcarpet"
           }
          ],
          "heatmap": [
           {
            "colorbar": {
             "outlinewidth": 0,
             "ticks": ""
            },
            "colorscale": [
             [
              0,
              "#0d0887"
             ],
             [
              0.1111111111111111,
              "#46039f"
             ],
             [
              0.2222222222222222,
              "#7201a8"
             ],
             [
              0.3333333333333333,
              "#9c179e"
             ],
             [
              0.4444444444444444,
              "#bd3786"
             ],
             [
              0.5555555555555556,
              "#d8576b"
             ],
             [
              0.6666666666666666,
              "#ed7953"
             ],
             [
              0.7777777777777778,
              "#fb9f3a"
             ],
             [
              0.8888888888888888,
              "#fdca26"
             ],
             [
              1,
              "#f0f921"
             ]
            ],
            "type": "heatmap"
           }
          ],
          "heatmapgl": [
           {
            "colorbar": {
             "outlinewidth": 0,
             "ticks": ""
            },
            "colorscale": [
             [
              0,
              "#0d0887"
             ],
             [
              0.1111111111111111,
              "#46039f"
             ],
             [
              0.2222222222222222,
              "#7201a8"
             ],
             [
              0.3333333333333333,
              "#9c179e"
             ],
             [
              0.4444444444444444,
              "#bd3786"
             ],
             [
              0.5555555555555556,
              "#d8576b"
             ],
             [
              0.6666666666666666,
              "#ed7953"
             ],
             [
              0.7777777777777778,
              "#fb9f3a"
             ],
             [
              0.8888888888888888,
              "#fdca26"
             ],
             [
              1,
              "#f0f921"
             ]
            ],
            "type": "heatmapgl"
           }
          ],
          "histogram": [
           {
            "marker": {
             "colorbar": {
              "outlinewidth": 0,
              "ticks": ""
             }
            },
            "type": "histogram"
           }
          ],
          "histogram2d": [
           {
            "colorbar": {
             "outlinewidth": 0,
             "ticks": ""
            },
            "colorscale": [
             [
              0,
              "#0d0887"
             ],
             [
              0.1111111111111111,
              "#46039f"
             ],
             [
              0.2222222222222222,
              "#7201a8"
             ],
             [
              0.3333333333333333,
              "#9c179e"
             ],
             [
              0.4444444444444444,
              "#bd3786"
             ],
             [
              0.5555555555555556,
              "#d8576b"
             ],
             [
              0.6666666666666666,
              "#ed7953"
             ],
             [
              0.7777777777777778,
              "#fb9f3a"
             ],
             [
              0.8888888888888888,
              "#fdca26"
             ],
             [
              1,
              "#f0f921"
             ]
            ],
            "type": "histogram2d"
           }
          ],
          "histogram2dcontour": [
           {
            "colorbar": {
             "outlinewidth": 0,
             "ticks": ""
            },
            "colorscale": [
             [
              0,
              "#0d0887"
             ],
             [
              0.1111111111111111,
              "#46039f"
             ],
             [
              0.2222222222222222,
              "#7201a8"
             ],
             [
              0.3333333333333333,
              "#9c179e"
             ],
             [
              0.4444444444444444,
              "#bd3786"
             ],
             [
              0.5555555555555556,
              "#d8576b"
             ],
             [
              0.6666666666666666,
              "#ed7953"
             ],
             [
              0.7777777777777778,
              "#fb9f3a"
             ],
             [
              0.8888888888888888,
              "#fdca26"
             ],
             [
              1,
              "#f0f921"
             ]
            ],
            "type": "histogram2dcontour"
           }
          ],
          "mesh3d": [
           {
            "colorbar": {
             "outlinewidth": 0,
             "ticks": ""
            },
            "type": "mesh3d"
           }
          ],
          "parcoords": [
           {
            "line": {
             "colorbar": {
              "outlinewidth": 0,
              "ticks": ""
             }
            },
            "type": "parcoords"
           }
          ],
          "pie": [
           {
            "automargin": true,
            "type": "pie"
           }
          ],
          "scatter": [
           {
            "marker": {
             "colorbar": {
              "outlinewidth": 0,
              "ticks": ""
             }
            },
            "type": "scatter"
           }
          ],
          "scatter3d": [
           {
            "line": {
             "colorbar": {
              "outlinewidth": 0,
              "ticks": ""
             }
            },
            "marker": {
             "colorbar": {
              "outlinewidth": 0,
              "ticks": ""
             }
            },
            "type": "scatter3d"
           }
          ],
          "scattercarpet": [
           {
            "marker": {
             "colorbar": {
              "outlinewidth": 0,
              "ticks": ""
             }
            },
            "type": "scattercarpet"
           }
          ],
          "scattergeo": [
           {
            "marker": {
             "colorbar": {
              "outlinewidth": 0,
              "ticks": ""
             }
            },
            "type": "scattergeo"
           }
          ],
          "scattergl": [
           {
            "marker": {
             "colorbar": {
              "outlinewidth": 0,
              "ticks": ""
             }
            },
            "type": "scattergl"
           }
          ],
          "scattermapbox": [
           {
            "marker": {
             "colorbar": {
              "outlinewidth": 0,
              "ticks": ""
             }
            },
            "type": "scattermapbox"
           }
          ],
          "scatterpolar": [
           {
            "marker": {
             "colorbar": {
              "outlinewidth": 0,
              "ticks": ""
             }
            },
            "type": "scatterpolar"
           }
          ],
          "scatterpolargl": [
           {
            "marker": {
             "colorbar": {
              "outlinewidth": 0,
              "ticks": ""
             }
            },
            "type": "scatterpolargl"
           }
          ],
          "scatterternary": [
           {
            "marker": {
             "colorbar": {
              "outlinewidth": 0,
              "ticks": ""
             }
            },
            "type": "scatterternary"
           }
          ],
          "surface": [
           {
            "colorbar": {
             "outlinewidth": 0,
             "ticks": ""
            },
            "colorscale": [
             [
              0,
              "#0d0887"
             ],
             [
              0.1111111111111111,
              "#46039f"
             ],
             [
              0.2222222222222222,
              "#7201a8"
             ],
             [
              0.3333333333333333,
              "#9c179e"
             ],
             [
              0.4444444444444444,
              "#bd3786"
             ],
             [
              0.5555555555555556,
              "#d8576b"
             ],
             [
              0.6666666666666666,
              "#ed7953"
             ],
             [
              0.7777777777777778,
              "#fb9f3a"
             ],
             [
              0.8888888888888888,
              "#fdca26"
             ],
             [
              1,
              "#f0f921"
             ]
            ],
            "type": "surface"
           }
          ],
          "table": [
           {
            "cells": {
             "fill": {
              "color": "#EBF0F8"
             },
             "line": {
              "color": "white"
             }
            },
            "header": {
             "fill": {
              "color": "#C8D4E3"
             },
             "line": {
              "color": "white"
             }
            },
            "type": "table"
           }
          ]
         },
         "layout": {
          "annotationdefaults": {
           "arrowcolor": "#2a3f5f",
           "arrowhead": 0,
           "arrowwidth": 1
          },
          "coloraxis": {
           "colorbar": {
            "outlinewidth": 0,
            "ticks": ""
           }
          },
          "colorscale": {
           "diverging": [
            [
             0,
             "#8e0152"
            ],
            [
             0.1,
             "#c51b7d"
            ],
            [
             0.2,
             "#de77ae"
            ],
            [
             0.3,
             "#f1b6da"
            ],
            [
             0.4,
             "#fde0ef"
            ],
            [
             0.5,
             "#f7f7f7"
            ],
            [
             0.6,
             "#e6f5d0"
            ],
            [
             0.7,
             "#b8e186"
            ],
            [
             0.8,
             "#7fbc41"
            ],
            [
             0.9,
             "#4d9221"
            ],
            [
             1,
             "#276419"
            ]
           ],
           "sequential": [
            [
             0,
             "#0d0887"
            ],
            [
             0.1111111111111111,
             "#46039f"
            ],
            [
             0.2222222222222222,
             "#7201a8"
            ],
            [
             0.3333333333333333,
             "#9c179e"
            ],
            [
             0.4444444444444444,
             "#bd3786"
            ],
            [
             0.5555555555555556,
             "#d8576b"
            ],
            [
             0.6666666666666666,
             "#ed7953"
            ],
            [
             0.7777777777777778,
             "#fb9f3a"
            ],
            [
             0.8888888888888888,
             "#fdca26"
            ],
            [
             1,
             "#f0f921"
            ]
           ],
           "sequentialminus": [
            [
             0,
             "#0d0887"
            ],
            [
             0.1111111111111111,
             "#46039f"
            ],
            [
             0.2222222222222222,
             "#7201a8"
            ],
            [
             0.3333333333333333,
             "#9c179e"
            ],
            [
             0.4444444444444444,
             "#bd3786"
            ],
            [
             0.5555555555555556,
             "#d8576b"
            ],
            [
             0.6666666666666666,
             "#ed7953"
            ],
            [
             0.7777777777777778,
             "#fb9f3a"
            ],
            [
             0.8888888888888888,
             "#fdca26"
            ],
            [
             1,
             "#f0f921"
            ]
           ]
          },
          "colorway": [
           "#636efa",
           "#EF553B",
           "#00cc96",
           "#ab63fa",
           "#FFA15A",
           "#19d3f3",
           "#FF6692",
           "#B6E880",
           "#FF97FF",
           "#FECB52"
          ],
          "font": {
           "color": "#2a3f5f"
          },
          "geo": {
           "bgcolor": "white",
           "lakecolor": "white",
           "landcolor": "#E5ECF6",
           "showlakes": true,
           "showland": true,
           "subunitcolor": "white"
          },
          "hoverlabel": {
           "align": "left"
          },
          "hovermode": "closest",
          "mapbox": {
           "style": "light"
          },
          "paper_bgcolor": "white",
          "plot_bgcolor": "#E5ECF6",
          "polar": {
           "angularaxis": {
            "gridcolor": "white",
            "linecolor": "white",
            "ticks": ""
           },
           "bgcolor": "#E5ECF6",
           "radialaxis": {
            "gridcolor": "white",
            "linecolor": "white",
            "ticks": ""
           }
          },
          "scene": {
           "xaxis": {
            "backgroundcolor": "#E5ECF6",
            "gridcolor": "white",
            "gridwidth": 2,
            "linecolor": "white",
            "showbackground": true,
            "ticks": "",
            "zerolinecolor": "white"
           },
           "yaxis": {
            "backgroundcolor": "#E5ECF6",
            "gridcolor": "white",
            "gridwidth": 2,
            "linecolor": "white",
            "showbackground": true,
            "ticks": "",
            "zerolinecolor": "white"
           },
           "zaxis": {
            "backgroundcolor": "#E5ECF6",
            "gridcolor": "white",
            "gridwidth": 2,
            "linecolor": "white",
            "showbackground": true,
            "ticks": "",
            "zerolinecolor": "white"
           }
          },
          "shapedefaults": {
           "line": {
            "color": "#2a3f5f"
           }
          },
          "ternary": {
           "aaxis": {
            "gridcolor": "white",
            "linecolor": "white",
            "ticks": ""
           },
           "baxis": {
            "gridcolor": "white",
            "linecolor": "white",
            "ticks": ""
           },
           "bgcolor": "#E5ECF6",
           "caxis": {
            "gridcolor": "white",
            "linecolor": "white",
            "ticks": ""
           }
          },
          "title": {
           "x": 0.05
          },
          "xaxis": {
           "automargin": true,
           "gridcolor": "white",
           "linecolor": "white",
           "ticks": "",
           "title": {
            "standoff": 15
           },
           "zerolinecolor": "white",
           "zerolinewidth": 2
          },
          "yaxis": {
           "automargin": true,
           "gridcolor": "white",
           "linecolor": "white",
           "ticks": "",
           "title": {
            "standoff": 15
           },
           "zerolinecolor": "white",
           "zerolinewidth": 2
          }
         }
        },
        "title": {
         "text": "Matrículas em disciplinas que obtiveram menção MM"
        }
       }
      },
      "text/html": [
       "<div>\n",
       "        \n",
       "        \n",
       "            <div id=\"07df4ed0-b4fc-4c53-95af-9acb1b52c88a\" class=\"plotly-graph-div\" style=\"height:525px; width:100%;\"></div>\n",
       "            <script type=\"text/javascript\">\n",
       "                require([\"plotly\"], function(Plotly) {\n",
       "                    window.PLOTLYENV=window.PLOTLYENV || {};\n",
       "                    \n",
       "                if (document.getElementById(\"07df4ed0-b4fc-4c53-95af-9acb1b52c88a\")) {\n",
       "                    Plotly.newPlot(\n",
       "                        '07df4ed0-b4fc-4c53-95af-9acb1b52c88a',\n",
       "                        [{\"domain\": {\"x\": [0.0, 1.0], \"y\": [0.0, 1.0]}, \"hovertemplate\": \"Disciplina=%{label}<extra></extra>\", \"labels\": [\"Teoria da Computa\\u00e7\\u00e3o                                                  \", \"Teoria da Computa\\u00e7\\u00e3o                                                  \", \"T\\u00f3picos em Sistemas de Computa\\u00e7\\u00e3o                                     \", \"Processamento de Sinais                                               \", \"Intelig\\u00eancia Artificial 2                                             \", \"Sistemas Distribu\\u00eddos                                                 \", \"Teoria da Computa\\u00e7\\u00e3o                                                  \", \"Teoria da Computa\\u00e7\\u00e3o                                                  \", \"Intelig\\u00eancia Artificial 2                                             \", \"Teoria da Computa\\u00e7\\u00e3o                                                  \", \"Teoria da Computa\\u00e7\\u00e3o                                                  \", \"Intelig\\u00eancia Artificial 1                                             \", \"Projeto e Complexidade de Algoritmos                                  \", \"Projeto e Complexidade de Algoritmos                                  \", \"Teoria de Grupos Finitos                                              \", \"Teoria de Grupos Finitos 1                                            \", \"Fundamentos de Sistemas Computacionais                                \", \"Fundamentos de Sistemas Computacionais                                \", \"Projeto e Complexidade de Algoritmos                                  \", \"Fundamentos de Sistemas Computacionais                                \", \"Estudo Orientado em Instrumenta\\u00e7\\u00e3o Biom\\u00e9dica 1                        \", \"Teoria da Computa\\u00e7\\u00e3o                                                  \", \"Teoria da Computa\\u00e7\\u00e3o                                                  \", \"Teoria da Computa\\u00e7\\u00e3o                                                  \", \"Teoria da Computa\\u00e7\\u00e3o                                                  \", \"Processamento de Imagens Digitais                                     \", \"Redes de Computadores                                                 \", \"Fundamentos de Sistemas Computacionais                                \", \"Projeto e Complexidade de Algoritmos                                  \", \"Projeto e Complexidade de Algoritmos                                  \", \"Fundamentos de Sistemas Computacionais                                \", \"Sistemas Distribu\\u00eddos                                                 \", \"Teoria da Computa\\u00e7\\u00e3o                                                  \", \"Fundamentos de Sistemas Computacionais                                \", \"Projeto e Complexidade de Algoritmos                                  \", \"Fundamentos de Sistemas Computacionais                                \", \"Projeto e Complexidade de Algoritmos                                  \", \"Projeto e Complexidade de Algoritmos                                  \", \"Fundamentos de Sistemas Computacionais                                \", \"Projeto e Complexidade de Algoritmos                                  \", \"Introdu\\u00e7\\u00e3o \\u00e0 Probabilidade e Aplica\\u00e7\\u00f5es                               \", \"T\\u00f3picos em Fundamentos e M\\u00e9todos de Computa\\u00e7\\u00e3o                        \", \"Minera\\u00e7\\u00e3o de Dados                                                    \", \"Teoria da Computa\\u00e7\\u00e3o                                                  \", \"Teoria da Computa\\u00e7\\u00e3o                                                  \", \"Teoria da Computa\\u00e7\\u00e3o                                                  \", \"Teoria da Computa\\u00e7\\u00e3o                                                  \", \"Teoria da Computa\\u00e7\\u00e3o                                                  \", \"Trabalho Individual em Fundamentos e M\\u00e9todos de Computa\\u00e7\\u00e3o            \", \"Fundamentos de Sistemas Computacionais                                \", \"T\\u00f3picos em Fundamentos e M\\u00e9todos de Computa\\u00e7\\u00e3o                        \", \"Semin\\u00e1rio                                                             \", \"Intelig\\u00eancia Artificial 1                                             \", \"L\\u00f3gica Formal e Computacional                                         \", \"Fundamentos de Sistemas Computacionais                                \", \"Projeto e Complexidade de Algoritmos                                  \", \"L\\u00f3gica Formal e Computacional                                         \", \"Sistemas Distribu\\u00eddos                                                 \", \"Teoria da Computa\\u00e7\\u00e3o                                                  \", \"Teoria da Computa\\u00e7\\u00e3o                                                  \", \"Teoria da Computa\\u00e7\\u00e3o                                                  \", \"Fundamentos de Sistemas Computacionais                                \", \"Projeto e Complexidade de Algoritmos                                  \", \"Teoria da Computa\\u00e7\\u00e3o                                                  \", \"Projeto e Complexidade de Algoritmos                                  \", \"Fundamentos de Sistemas Computacionais                                \", \"Projeto e Complexidade de Algoritmos                                  \", \"Projeto e Complexidade de Algoritmos                                  \", \"T\\u00f3picos em Sistemas de Computa\\u00e7\\u00e3o                                     \", \"Fundamentos de Sistemas Computacionais                                \", \"Fundamentos de Sistemas Computacionais                                \", \"Sistemas Multiagentes                                                 \", \"Trabalho Individual em Fundamentos e M\\u00e9todos de Computa\\u00e7\\u00e3o            \", \"Projeto e Complexidade de Algoritmos                                  \", \"T\\u00f3picos em Sistemas de Computa\\u00e7\\u00e3o                                     \", \"Sistemas Distribu\\u00eddos                                                 \", \"Fundamentos de Sistemas Computacionais                                \", \"Projeto e Complexidade de Algoritmos                                  \", \"Projeto e Complexidade de Algoritmos                                  \", \"Fundamentos de Sistemas Computacionais                                \", \"Projeto e Complexidade de Algoritmos                                  \", \"Fundamentos de Sistemas Computacionais                                \", \"Projeto e Complexidade de Algoritmos                                  \", \"Teoria da Computa\\u00e7\\u00e3o                                                  \", \"T\\u00f3picos em Fundamentos e M\\u00e9todos de Computa\\u00e7\\u00e3o                        \", \"Fundamentos de Sistemas Computacionais                                \", \"Teoria da Computa\\u00e7\\u00e3o                                                  \", \"Trabalho Individual em Fundamentos e M\\u00e9todos de Computa\\u00e7\\u00e3o            \", \"Est\\u00e1gio de Doc\\u00eancia no Ensino de Gradua\\u00e7\\u00e3o em Ci\\u00eancia da Computa\\u00e7\\u00e3o   \", \"L\\u00f3gica Formal e Computacional                                         \", \"Sistemas Distribu\\u00eddos                                                 \", \"Fundamentos de Sistemas Computacionais                                \", \"Sistemas Distribu\\u00eddos                                                 \", \"T\\u00f3picos em Sistemas de Computa\\u00e7\\u00e3o                                     \", \"Fundamentos de Sistemas Computacionais                                \", \"Fundamentos de Sistemas Computacionais                                \", \"T\\u00f3picos Avan\\u00e7ados em Sistemas Mecatr\\u00f4nicos 2                          \", \"Fundamentos de Sistemas Computacionais                                \", \"Algoritmos e Estruturas de Dados                                      \", \"Minera\\u00e7\\u00e3o de Dados                                                    \", \"Minera\\u00e7\\u00e3o de Dados                                                    \", \"Fundamentos de Sistemas Computacionais                                \", \"Projeto e Complexidade de Algoritmos                                  \", \"Projeto e Complexidade de Algoritmos                                  \", \"Constru\\u00e7\\u00e3o de Software                                                \", \"Projeto e Complexidade de Algoritmos                                  \", \"Trabalho Individual em Fundamentos e M\\u00e9todos de Computa\\u00e7\\u00e3o            \", \"Teoria da Computa\\u00e7\\u00e3o                                                  \", \"Teoria da Computa\\u00e7\\u00e3o                                                  \", \"Teoria de Prova                                                       \", \"Teoria da Computa\\u00e7\\u00e3o                                                  \", \"Intelig\\u00eancia Artificial 1                                             \", \"Processamento de Imagens                                              \", \"Modelagem e Verifica\\u00e7\\u00e3o de Sistemas Integrados em Sil\\u00edcio             \", \"Teoria da Computa\\u00e7\\u00e3o                                                  \", \"Projeto e Complexidade de Algoritmos                                  \", \"Sistemas Distribu\\u00eddos                                                 \", \"Projeto e Complexidade de Algoritmos                                  \", \"Projeto e Complexidade de Algoritmos                                  \", \"Teoria da Computa\\u00e7\\u00e3o                                                  \", \"Fundamentos de Sistemas Computacionais                                \", \"T\\u00f3picos em Sistemas de Computa\\u00e7\\u00e3o                                     \", \"Fundamentos de Sistemas Computacionais                                \", \"Teoria da Computa\\u00e7\\u00e3o                                                  \", \"Fundamentos de Sistemas Computacionais                                \", \"Fundamentos de Sistemas Computacionais                                \", \"Fundamentos de Sistemas Computacionais                                \"], \"legendgroup\": \"\", \"name\": \"\", \"showlegend\": true, \"type\": \"pie\"}],\n",
       "                        {\"legend\": {\"tracegroupgap\": 0}, \"template\": {\"data\": {\"bar\": [{\"error_x\": {\"color\": \"#2a3f5f\"}, \"error_y\": {\"color\": \"#2a3f5f\"}, \"marker\": {\"line\": {\"color\": \"#E5ECF6\", \"width\": 0.5}}, \"type\": \"bar\"}], \"barpolar\": [{\"marker\": {\"line\": {\"color\": \"#E5ECF6\", \"width\": 0.5}}, \"type\": \"barpolar\"}], \"carpet\": [{\"aaxis\": {\"endlinecolor\": \"#2a3f5f\", \"gridcolor\": \"white\", \"linecolor\": \"white\", \"minorgridcolor\": \"white\", \"startlinecolor\": \"#2a3f5f\"}, \"baxis\": {\"endlinecolor\": \"#2a3f5f\", \"gridcolor\": \"white\", \"linecolor\": \"white\", \"minorgridcolor\": \"white\", \"startlinecolor\": \"#2a3f5f\"}, \"type\": \"carpet\"}], \"choropleth\": [{\"colorbar\": {\"outlinewidth\": 0, \"ticks\": \"\"}, \"type\": \"choropleth\"}], \"contour\": [{\"colorbar\": {\"outlinewidth\": 0, \"ticks\": \"\"}, \"colorscale\": [[0.0, \"#0d0887\"], [0.1111111111111111, \"#46039f\"], [0.2222222222222222, \"#7201a8\"], [0.3333333333333333, \"#9c179e\"], [0.4444444444444444, \"#bd3786\"], [0.5555555555555556, \"#d8576b\"], [0.6666666666666666, \"#ed7953\"], [0.7777777777777778, \"#fb9f3a\"], [0.8888888888888888, \"#fdca26\"], [1.0, \"#f0f921\"]], \"type\": \"contour\"}], \"contourcarpet\": [{\"colorbar\": {\"outlinewidth\": 0, \"ticks\": \"\"}, \"type\": \"contourcarpet\"}], \"heatmap\": [{\"colorbar\": {\"outlinewidth\": 0, \"ticks\": \"\"}, \"colorscale\": [[0.0, \"#0d0887\"], [0.1111111111111111, \"#46039f\"], [0.2222222222222222, \"#7201a8\"], [0.3333333333333333, \"#9c179e\"], [0.4444444444444444, \"#bd3786\"], [0.5555555555555556, \"#d8576b\"], [0.6666666666666666, \"#ed7953\"], [0.7777777777777778, \"#fb9f3a\"], [0.8888888888888888, \"#fdca26\"], [1.0, \"#f0f921\"]], \"type\": \"heatmap\"}], \"heatmapgl\": [{\"colorbar\": {\"outlinewidth\": 0, \"ticks\": \"\"}, \"colorscale\": [[0.0, \"#0d0887\"], [0.1111111111111111, \"#46039f\"], [0.2222222222222222, \"#7201a8\"], [0.3333333333333333, \"#9c179e\"], [0.4444444444444444, \"#bd3786\"], [0.5555555555555556, \"#d8576b\"], [0.6666666666666666, \"#ed7953\"], [0.7777777777777778, \"#fb9f3a\"], [0.8888888888888888, \"#fdca26\"], [1.0, \"#f0f921\"]], \"type\": \"heatmapgl\"}], \"histogram\": [{\"marker\": {\"colorbar\": {\"outlinewidth\": 0, \"ticks\": \"\"}}, \"type\": \"histogram\"}], \"histogram2d\": [{\"colorbar\": {\"outlinewidth\": 0, \"ticks\": \"\"}, \"colorscale\": [[0.0, \"#0d0887\"], [0.1111111111111111, \"#46039f\"], [0.2222222222222222, \"#7201a8\"], [0.3333333333333333, \"#9c179e\"], [0.4444444444444444, \"#bd3786\"], [0.5555555555555556, \"#d8576b\"], [0.6666666666666666, \"#ed7953\"], [0.7777777777777778, \"#fb9f3a\"], [0.8888888888888888, \"#fdca26\"], [1.0, \"#f0f921\"]], \"type\": \"histogram2d\"}], \"histogram2dcontour\": [{\"colorbar\": {\"outlinewidth\": 0, \"ticks\": \"\"}, \"colorscale\": [[0.0, \"#0d0887\"], [0.1111111111111111, \"#46039f\"], [0.2222222222222222, \"#7201a8\"], [0.3333333333333333, \"#9c179e\"], [0.4444444444444444, \"#bd3786\"], [0.5555555555555556, \"#d8576b\"], [0.6666666666666666, \"#ed7953\"], [0.7777777777777778, \"#fb9f3a\"], [0.8888888888888888, \"#fdca26\"], [1.0, \"#f0f921\"]], \"type\": \"histogram2dcontour\"}], \"mesh3d\": [{\"colorbar\": {\"outlinewidth\": 0, \"ticks\": \"\"}, \"type\": \"mesh3d\"}], \"parcoords\": [{\"line\": {\"colorbar\": {\"outlinewidth\": 0, \"ticks\": \"\"}}, \"type\": \"parcoords\"}], \"pie\": [{\"automargin\": true, \"type\": \"pie\"}], \"scatter\": [{\"marker\": {\"colorbar\": {\"outlinewidth\": 0, \"ticks\": \"\"}}, \"type\": \"scatter\"}], \"scatter3d\": [{\"line\": {\"colorbar\": {\"outlinewidth\": 0, \"ticks\": \"\"}}, \"marker\": {\"colorbar\": {\"outlinewidth\": 0, \"ticks\": \"\"}}, \"type\": \"scatter3d\"}], \"scattercarpet\": [{\"marker\": {\"colorbar\": {\"outlinewidth\": 0, \"ticks\": \"\"}}, \"type\": \"scattercarpet\"}], \"scattergeo\": [{\"marker\": {\"colorbar\": {\"outlinewidth\": 0, \"ticks\": \"\"}}, \"type\": \"scattergeo\"}], \"scattergl\": [{\"marker\": {\"colorbar\": {\"outlinewidth\": 0, \"ticks\": \"\"}}, \"type\": \"scattergl\"}], \"scattermapbox\": [{\"marker\": {\"colorbar\": {\"outlinewidth\": 0, \"ticks\": \"\"}}, \"type\": \"scattermapbox\"}], \"scatterpolar\": [{\"marker\": {\"colorbar\": {\"outlinewidth\": 0, \"ticks\": \"\"}}, \"type\": \"scatterpolar\"}], \"scatterpolargl\": [{\"marker\": {\"colorbar\": {\"outlinewidth\": 0, \"ticks\": \"\"}}, \"type\": \"scatterpolargl\"}], \"scatterternary\": [{\"marker\": {\"colorbar\": {\"outlinewidth\": 0, \"ticks\": \"\"}}, \"type\": \"scatterternary\"}], \"surface\": [{\"colorbar\": {\"outlinewidth\": 0, \"ticks\": \"\"}, \"colorscale\": [[0.0, \"#0d0887\"], [0.1111111111111111, \"#46039f\"], [0.2222222222222222, \"#7201a8\"], [0.3333333333333333, \"#9c179e\"], [0.4444444444444444, \"#bd3786\"], [0.5555555555555556, \"#d8576b\"], [0.6666666666666666, \"#ed7953\"], [0.7777777777777778, \"#fb9f3a\"], [0.8888888888888888, \"#fdca26\"], [1.0, \"#f0f921\"]], \"type\": \"surface\"}], \"table\": [{\"cells\": {\"fill\": {\"color\": \"#EBF0F8\"}, \"line\": {\"color\": \"white\"}}, \"header\": {\"fill\": {\"color\": \"#C8D4E3\"}, \"line\": {\"color\": \"white\"}}, \"type\": \"table\"}]}, \"layout\": {\"annotationdefaults\": {\"arrowcolor\": \"#2a3f5f\", \"arrowhead\": 0, \"arrowwidth\": 1}, \"coloraxis\": {\"colorbar\": {\"outlinewidth\": 0, \"ticks\": \"\"}}, \"colorscale\": {\"diverging\": [[0, \"#8e0152\"], [0.1, \"#c51b7d\"], [0.2, \"#de77ae\"], [0.3, \"#f1b6da\"], [0.4, \"#fde0ef\"], [0.5, \"#f7f7f7\"], [0.6, \"#e6f5d0\"], [0.7, \"#b8e186\"], [0.8, \"#7fbc41\"], [0.9, \"#4d9221\"], [1, \"#276419\"]], \"sequential\": [[0.0, \"#0d0887\"], [0.1111111111111111, \"#46039f\"], [0.2222222222222222, \"#7201a8\"], [0.3333333333333333, \"#9c179e\"], [0.4444444444444444, \"#bd3786\"], [0.5555555555555556, \"#d8576b\"], [0.6666666666666666, \"#ed7953\"], [0.7777777777777778, \"#fb9f3a\"], [0.8888888888888888, \"#fdca26\"], [1.0, \"#f0f921\"]], \"sequentialminus\": [[0.0, \"#0d0887\"], [0.1111111111111111, \"#46039f\"], [0.2222222222222222, \"#7201a8\"], [0.3333333333333333, \"#9c179e\"], [0.4444444444444444, \"#bd3786\"], [0.5555555555555556, \"#d8576b\"], [0.6666666666666666, \"#ed7953\"], [0.7777777777777778, \"#fb9f3a\"], [0.8888888888888888, \"#fdca26\"], [1.0, \"#f0f921\"]]}, \"colorway\": [\"#636efa\", \"#EF553B\", \"#00cc96\", \"#ab63fa\", \"#FFA15A\", \"#19d3f3\", \"#FF6692\", \"#B6E880\", \"#FF97FF\", \"#FECB52\"], \"font\": {\"color\": \"#2a3f5f\"}, \"geo\": {\"bgcolor\": \"white\", \"lakecolor\": \"white\", \"landcolor\": \"#E5ECF6\", \"showlakes\": true, \"showland\": true, \"subunitcolor\": \"white\"}, \"hoverlabel\": {\"align\": \"left\"}, \"hovermode\": \"closest\", \"mapbox\": {\"style\": \"light\"}, \"paper_bgcolor\": \"white\", \"plot_bgcolor\": \"#E5ECF6\", \"polar\": {\"angularaxis\": {\"gridcolor\": \"white\", \"linecolor\": \"white\", \"ticks\": \"\"}, \"bgcolor\": \"#E5ECF6\", \"radialaxis\": {\"gridcolor\": \"white\", \"linecolor\": \"white\", \"ticks\": \"\"}}, \"scene\": {\"xaxis\": {\"backgroundcolor\": \"#E5ECF6\", \"gridcolor\": \"white\", \"gridwidth\": 2, \"linecolor\": \"white\", \"showbackground\": true, \"ticks\": \"\", \"zerolinecolor\": \"white\"}, \"yaxis\": {\"backgroundcolor\": \"#E5ECF6\", \"gridcolor\": \"white\", \"gridwidth\": 2, \"linecolor\": \"white\", \"showbackground\": true, \"ticks\": \"\", \"zerolinecolor\": \"white\"}, \"zaxis\": {\"backgroundcolor\": \"#E5ECF6\", \"gridcolor\": \"white\", \"gridwidth\": 2, \"linecolor\": \"white\", \"showbackground\": true, \"ticks\": \"\", \"zerolinecolor\": \"white\"}}, \"shapedefaults\": {\"line\": {\"color\": \"#2a3f5f\"}}, \"ternary\": {\"aaxis\": {\"gridcolor\": \"white\", \"linecolor\": \"white\", \"ticks\": \"\"}, \"baxis\": {\"gridcolor\": \"white\", \"linecolor\": \"white\", \"ticks\": \"\"}, \"bgcolor\": \"#E5ECF6\", \"caxis\": {\"gridcolor\": \"white\", \"linecolor\": \"white\", \"ticks\": \"\"}}, \"title\": {\"x\": 0.05}, \"xaxis\": {\"automargin\": true, \"gridcolor\": \"white\", \"linecolor\": \"white\", \"ticks\": \"\", \"title\": {\"standoff\": 15}, \"zerolinecolor\": \"white\", \"zerolinewidth\": 2}, \"yaxis\": {\"automargin\": true, \"gridcolor\": \"white\", \"linecolor\": \"white\", \"ticks\": \"\", \"title\": {\"standoff\": 15}, \"zerolinecolor\": \"white\", \"zerolinewidth\": 2}}}, \"title\": {\"text\": \"Matr\\u00edculas em disciplinas que obtiveram men\\u00e7\\u00e3o MM\"}},\n",
       "                        {\"responsive\": true}\n",
       "                    ).then(function(){\n",
       "                            \n",
       "var gd = document.getElementById('07df4ed0-b4fc-4c53-95af-9acb1b52c88a');\n",
       "var x = new MutationObserver(function (mutations, observer) {{\n",
       "        var display = window.getComputedStyle(gd).display;\n",
       "        if (!display || display === 'none') {{\n",
       "            console.log([gd, 'removed!']);\n",
       "            Plotly.purge(gd);\n",
       "            observer.disconnect();\n",
       "        }}\n",
       "}});\n",
       "\n",
       "// Listen for the removal of the full notebook cells\n",
       "var notebookContainer = gd.closest('#notebook-container');\n",
       "if (notebookContainer) {{\n",
       "    x.observe(notebookContainer, {childList: true});\n",
       "}}\n",
       "\n",
       "// Listen for the clearing of the current output cell\n",
       "var outputEl = gd.closest('.output');\n",
       "if (outputEl) {{\n",
       "    x.observe(outputEl, {childList: true});\n",
       "}}\n",
       "\n",
       "                        })\n",
       "                };\n",
       "                });\n",
       "            </script>\n",
       "        </div>"
      ]
     },
     "metadata": {},
     "output_type": "display_data"
    }
   ],
   "source": [
    "dfmm = df[df.Menção == 'MM']\n",
    "\n",
    "fig = px.pie(dfmm, names='Disciplina', title='Matrículas em disciplinas que obtiveram menção MM')\n",
    "fig.show()"
   ]
  },
  {
   "cell_type": "code",
   "execution_count": 35,
   "metadata": {},
   "outputs": [
    {
     "data": {
      "application/vnd.plotly.v1+json": {
       "config": {
        "plotlyServerURL": "https://plot.ly"
       },
       "data": [
        {
         "domain": {
          "x": [
           0,
           1
          ],
          "y": [
           0,
           1
          ]
         },
         "hovertemplate": "Menção=%{label}<extra></extra>",
         "labels": [
          "SS",
          "MS",
          "SS",
          "MS",
          "MM",
          "MS",
          "MM",
          "MM",
          "MM",
          "MS",
          "MS",
          "SS",
          "MS",
          "AP",
          "MM",
          "MS",
          "MM",
          "AP",
          "MS",
          "SS",
          "MS",
          "MS",
          "MM",
          "SS",
          "MM",
          "SS",
          "MS",
          "MS",
          "SS",
          "MM",
          "MM",
          "MS",
          "SS",
          "MS",
          "MS",
          "MM",
          "SS",
          "SS",
          "CC",
          "CC",
          "MM",
          "MM",
          "CC",
          "CC",
          "CC",
          "MI",
          "CC",
          "AP",
          "MS",
          "MS",
          "MS",
          "MS",
          "CC",
          "CC",
          "CC",
          "SS",
          "MS",
          "MS",
          "SS",
          "SS",
          "SS",
          "MS",
          "MM",
          "MM",
          "MM",
          "AP",
          "MS",
          "MS",
          "SS",
          "MM",
          "MS",
          "MM",
          "MM",
          "SS",
          "SS",
          "SS",
          "AP",
          "MS",
          "MM",
          "MS",
          "MS",
          "MS",
          "AP",
          "MS",
          "MS",
          "SS",
          "SS",
          "MS",
          "CC",
          "MS",
          "SS",
          "CC",
          "TR",
          "SS",
          "SS",
          "AP",
          "MM",
          "MS",
          "SS",
          "CC",
          "MI",
          "MS",
          "SS",
          "SS",
          "SS",
          "SS",
          "CC",
          "MI",
          "CC",
          "CC",
          "CC",
          "MS",
          "MS",
          "SS",
          "MS",
          "MM",
          "MS",
          "MM",
          "MS",
          "AP",
          "SS",
          "SS",
          "MM",
          "MM",
          "MM",
          "MS",
          "MS",
          "MS",
          "MM",
          "MS",
          "MS",
          "SS",
          "AP",
          "TR",
          "AP",
          "SS",
          "MM",
          "SS",
          "AP",
          "SS",
          "MM",
          "SS",
          "DP",
          "TR",
          "SS",
          "MS",
          "SS",
          "SS",
          "AP",
          "AP",
          "MS",
          "CC",
          "SS",
          "SS",
          "CC",
          "CC",
          "CC",
          "MS",
          "CC",
          "MS",
          "SS",
          "MS",
          "MM",
          "SS",
          "MS",
          "MS",
          "MS",
          "MS",
          "SS",
          "SS",
          "MS",
          "MS",
          "MS",
          "MS",
          "SS",
          "MS",
          "MS",
          "SS",
          "MS",
          "SS",
          "SS",
          "MS",
          "SS",
          "CC",
          "CC",
          "CC",
          "MS",
          "CC",
          "MS",
          "MM",
          "MS",
          "MS",
          "MS",
          "SS",
          "MS",
          "SS",
          "AP",
          "SS",
          "SS",
          "SS",
          "SS",
          "SS",
          "AP",
          "MS",
          "SS",
          "MM",
          "MS",
          "SS",
          "MS",
          "MS",
          "CC",
          "CC",
          "SS",
          "MM",
          "SS",
          "CC",
          "SS",
          "SS",
          "SS",
          "MS",
          "MS",
          "SS",
          "MS",
          "MS",
          "MS",
          "MS",
          "MS",
          "SS",
          "MS",
          "SS",
          "SS",
          "SS",
          "SS",
          "MS",
          "MS",
          "MS",
          "MS",
          "MS",
          "SS",
          "MM",
          "MM",
          "AP",
          "SS",
          "SS",
          "SS",
          "SS",
          "MM",
          "SS",
          "AP",
          "MS",
          "SS",
          "SS",
          "SS",
          "SS",
          "MM",
          "SS",
          "SS",
          "SS",
          "SS",
          "AP",
          "SS",
          "SS",
          "MS",
          "MS",
          "SS",
          "SS",
          "MS",
          "MS",
          "MS",
          "SS",
          "SS",
          "SS",
          "MS",
          "MM",
          "MM",
          "MS",
          "MS",
          "SS",
          "SS",
          "MM",
          "SS",
          "SS",
          "MS",
          "MS",
          "SS",
          "SS",
          "SS",
          "AP",
          "SS",
          "AP",
          "SS",
          "SS",
          "AP",
          "SS",
          "SS",
          "SS",
          "SS",
          "MS",
          "MS",
          "SS",
          "MS",
          "SS",
          "SS",
          "SS",
          "SS",
          "AP",
          "MM",
          "SS",
          "MM",
          "SS",
          "SS",
          "MS",
          "MS",
          "MS",
          "SS",
          "SS",
          "SS",
          "MM",
          "MM",
          "MM",
          "SS",
          "SS",
          "MM",
          "MM",
          "SS",
          "MM",
          "SS",
          "SS",
          "SS",
          "MS",
          "SS",
          "SS",
          "SS",
          "SS",
          "MS",
          "MS",
          "DP",
          "SS",
          "AP",
          "SS",
          "MS",
          "TR",
          "SS",
          "SS",
          "AP",
          "MS",
          "AP",
          "SS",
          "MM",
          "MM",
          "MM",
          "SS",
          "DP",
          "SS",
          "SS",
          "AP",
          "MS",
          "SS",
          "MM",
          "AP",
          "MS",
          "SS",
          "SS",
          "SS",
          "MI",
          "MI",
          "CC",
          "CC",
          "CC",
          "SS",
          "AP",
          "CC",
          "CC",
          "SS",
          "MS",
          "AP",
          "MS",
          "SS",
          "AP",
          "MS",
          "MM",
          "AP",
          "SR",
          "SR",
          "MS",
          "AP",
          "MM",
          "SS",
          "SS",
          "SS",
          "SS",
          "SS",
          "SS",
          "MS",
          "MS",
          "SS",
          "SS",
          "MS",
          "MS",
          "SS",
          "MM",
          "MS",
          "MS",
          "SS",
          "SS",
          "MS",
          "SS",
          "SS",
          "MS",
          "MS",
          "MM",
          "MS",
          "SS",
          "MS",
          "MS",
          "MM",
          "SS",
          "DP",
          "MS",
          "SS",
          "AP",
          "SS",
          "AP",
          "MS",
          "AP",
          "MM",
          "SS",
          "SS",
          "MS",
          "MS",
          "MS",
          "TR",
          "SS",
          "MS",
          "SS",
          "SS",
          "MS",
          "SS",
          "SS",
          "DP",
          "SS",
          "SS",
          "CC",
          "CC",
          "CC",
          "SS",
          "SS",
          "MS",
          "CC",
          "SS",
          "SS",
          "MS",
          "MM",
          "MS",
          "SS",
          "MM",
          "MS",
          "SS",
          "SS",
          "SS",
          "SS",
          "MS",
          "DP",
          "SS",
          "SS",
          "AP",
          "SS",
          "SS",
          "MS",
          "SS",
          "MS",
          "SS",
          "MM",
          "SS",
          "SS",
          "SS",
          "MS",
          "MS",
          "SS",
          "SS",
          "MM",
          "MM",
          "AP",
          "SS",
          "SS",
          "SS",
          "SS",
          "SS",
          "AP",
          "SS",
          "SS",
          "DP",
          "SS",
          "SS",
          "SS",
          "SS",
          "SS",
          "SS",
          "AP",
          "MM",
          "AP",
          "SS",
          "MS",
          "MS",
          "CC",
          "CC",
          "CC",
          "SS",
          "MS",
          "CC",
          "SS",
          "DP",
          "SS",
          "MS",
          "SS",
          "SS",
          "SS",
          "CC",
          "SS",
          "MM",
          "SS",
          "SS",
          "SS",
          "MS",
          "MS",
          "MS",
          "MM",
          "MM",
          "MS",
          "MS",
          "MS",
          "SS",
          "SS",
          "MS",
          "MM",
          "AP",
          "SS",
          "MS",
          "SS",
          "AP",
          "AP",
          "SS",
          "AP",
          "SS",
          "SS",
          "AP",
          "MS",
          "SS",
          "AP",
          "SS",
          "SS",
          "MM",
          "SS",
          "SS",
          "SS",
          "MM",
          "SS",
          "SS",
          "MS",
          "SS",
          "MS",
          "SS",
          "SS",
          "SS",
          "MM",
          "SS",
          "MM",
          "SS",
          "SS",
          "MS",
          "MS",
          "MS",
          "MS",
          "MS",
          "MS",
          "MS",
          "MS",
          "SS",
          "MS",
          "AP",
          "SS",
          "SS",
          "SS",
          "SS",
          "SS",
          "SS",
          "DP",
          "SS",
          "SS",
          "AP",
          "SS",
          "AP",
          "SS",
          "AP",
          "AP",
          "SS",
          "AP",
          "MS",
          "MS",
          "MS",
          "SS",
          "SS",
          "MM",
          "TR",
          "MS",
          "SS",
          "SS",
          "MS",
          "MM",
          "SS",
          "MS",
          "AP",
          "SS",
          "MS",
          "MS",
          "MS",
          "CC",
          "MS",
          "MS",
          "MM",
          "CC",
          "CC",
          "CC",
          "MS",
          "CC",
          "MM",
          "CC",
          "AP",
          "II",
          "MM",
          "SS",
          "SS",
          "MI",
          "MS",
          "TR",
          "SS",
          "SS",
          "SS",
          "MS",
          "SS",
          "SS",
          "SS",
          "SS",
          "SS",
          "MS",
          "MM",
          "AP",
          "SS",
          "SS",
          "SS",
          "MS",
          "SS",
          "SS",
          "SS",
          "SS",
          "MS",
          "SS",
          "MM",
          "MS",
          "AP",
          "MS",
          "MS",
          "MM",
          "MS",
          "MS",
          "MM",
          "SS",
          "CC",
          "SS",
          "SS",
          "AP",
          "MM",
          "MM",
          "SS",
          "SS",
          "SS",
          "SS",
          "SS",
          "SS",
          "AP",
          "AP",
          "AP",
          "MS",
          "SS",
          "AP",
          "SS",
          "AP",
          "MS",
          "SS",
          "SR",
          "SS",
          "MS",
          "MS",
          "SS",
          "AP",
          "MS",
          "MS",
          "CC",
          "SS",
          "AP",
          "MS",
          "MS",
          "MM",
          "MM",
          "SS",
          "SS",
          "MI",
          "SS",
          "AP",
          "SS",
          "MS",
          "SS",
          "SS",
          "SS",
          "SS",
          "SS",
          "MS",
          "SS",
          "SS",
          "MM",
          "MS",
          "MS",
          "MM",
          "MS",
          "SS",
          "SS",
          "MS",
          "SS",
          "MS",
          "MS",
          "SS",
          "SS",
          "SS",
          "SS",
          "SS",
          "SS",
          "SS",
          "SS",
          "SS",
          "SS",
          "SS",
          "SS",
          "AP",
          "AP",
          "MM",
          "MS",
          "SS",
          "SS",
          "SS",
          "SS",
          "SS",
          "SS",
          "SS",
          "MS",
          "SS",
          "SS",
          "MM",
          "MM",
          "SS",
          "MM",
          "MS",
          "SS",
          "SS",
          "MS",
          "MS",
          "SS",
          "MM",
          "MM",
          "MS",
          "MS",
          "MS",
          "SS",
          "SS",
          "MS",
          "MS",
          "SS",
          "SS",
          "SS",
          "MS",
          "SS",
          "SS",
          "SS",
          "MM",
          "MS",
          "SS",
          "AP",
          "AP",
          "AP",
          "AP",
          "AP",
          "AP",
          "SS",
          "AP",
          "SS",
          "AP",
          "SS",
          "AP",
          "MS",
          "MS",
          "AP",
          "SS",
          "AP",
          "AP",
          "SS",
          "MM",
          "SS",
          "MS",
          "AP",
          "SS",
          "MS",
          "MS",
          "MS",
          "SS",
          "SS",
          "SS",
          "SS",
          "SS",
          "AP",
          "SS",
          "SS",
          "CC",
          "CC",
          "CC",
          "CC",
          "AP",
          "CC",
          "CC",
          "SS",
          "MS",
          "CC",
          "SS",
          "CC",
          "SS",
          "SS",
          "MS",
          "MS",
          "MS",
          "MS",
          "MS",
          "MM",
          "AP",
          "MM",
          "SS",
          "MS",
          "MS",
          "MM",
          "MM",
          "SS",
          "MM",
          "MS",
          "SS",
          "MM",
          "SS",
          "SS",
          "SS",
          "AP",
          "SS",
          "AP",
          "MS",
          "AP",
          "MS",
          "AP",
          "II",
          "MM",
          "MS",
          "SS",
          "SS",
          "SS",
          "TR",
          "SS",
          "SS",
          "SS",
          "MS",
          "SS",
          "SS",
          "SS",
          "SS",
          "SS",
          "SS",
          "AP",
          "MS",
          "MS",
          "SS",
          "SS",
          "MS",
          "SS",
          "II",
          "MS",
          "SS",
          "CC",
          "SS",
          "MS",
          "MM",
          "SS",
          "CC",
          "CC",
          "CC",
          "CC",
          "CC",
          "MS",
          "MS",
          "SS",
          "SR",
          "II",
          "SS",
          "SS",
          "MS",
          "SS",
          "MS",
          "SS",
          "CC",
          "SS",
          "CC",
          "CC",
          "SS",
          "CC",
          "SS",
          "CC",
          "SS",
          "MS",
          "SS",
          "SS",
          "MI",
          "MS",
          "MS",
          "MM",
          "MS",
          "SS",
          "SS",
          "SS",
          "SS",
          "SS",
          "MM",
          "SS",
          "SS",
          "AP",
          "AP",
          "MS",
          "SS",
          "MM",
          "MS",
          "AP",
          "SS",
          "MS",
          "SS",
          "SS",
          "MS",
          "SS",
          "SS",
          "AP",
          "SS",
          "MS",
          "SS",
          "SS",
          "MM",
          "MM",
          "CC",
          "SS",
          "SS",
          "AP",
          "MS",
          "SS",
          "SS",
          "AP",
          "MS",
          "SS",
          "SS",
          "AP",
          "SS",
          "MS",
          "SS",
          "SS",
          "AP",
          "MS",
          "MM",
          "AP",
          "SS",
          "SS",
          "MS",
          "MS",
          "SS",
          "MS",
          "SS",
          "MS",
          "SS",
          "MS",
          "SS",
          "SS",
          "SS",
          "MS",
          "MS",
          "AP",
          "AP",
          "MM",
          "RP",
          "AP",
          "MS",
          "AP",
          "MS",
          "SS",
          "SS",
          "SS",
          "SS",
          "SS",
          "MI",
          "MS",
          "SS",
          "SS",
          "MS",
          "MI",
          "SS",
          "II",
          "MM",
          "MS",
          "MS",
          "MS",
          "CC",
          "CC",
          "SS",
          "CC",
          "SS",
          "CC",
          "SS",
          "MM",
          "MS",
          "SS",
          "SS",
          "SS",
          "MS",
          "MS",
          "MI",
          "CC",
          "CC",
          "MS",
          "SS",
          "MM",
          "AP",
          "CC",
          "CC",
          "CC",
          "SS",
          "CC",
          "AP",
          "MM",
          "CC",
          "MM",
          "MM",
          "CC",
          "CC",
          "TR",
          "CC",
          "AP",
          "CC",
          "CC",
          "CC",
          "MS",
          "SS",
          "CC",
          "CC",
          "CC",
          "CC",
          "SS",
          "MM",
          "CC",
          "CC",
          "CC",
          "CC",
          "SS",
          "CC",
          "MS",
          "SR",
          "MM",
          "SS",
          "CC",
          "CC",
          "CC",
          "CC",
          "SS",
          "AP",
          "MS",
          "MM",
          "AP",
          "SS",
          "AP",
          "AP",
          "AP",
          "AP",
          "SS",
          "SS",
          "AP",
          "MS",
          "SS",
          "MS",
          "AP",
          "AP",
          "MM",
          "MS",
          "SS",
          "AP",
          "MS",
          "MS",
          "MS",
          "MS",
          "AP",
          "MS",
          "SS",
          "AP",
          "SS",
          "AP",
          "SS",
          "MS",
          "MM",
          "MM",
          "SS",
          "MS",
          "MM",
          "SS",
          "CC",
          "II",
          "MI",
          "AP",
          "MM",
          "MS",
          "SS",
          "MS",
          "CC",
          "MS",
          "MM",
          "AP",
          "SS",
          "TR",
          "MS",
          "MS",
          "MS",
          "MM",
          "AP",
          "MS",
          "MS",
          "MS",
          "SS",
          "MM",
          "MS",
          "SS",
          "SR",
          "SS"
         ],
         "legendgroup": "",
         "name": "",
         "showlegend": true,
         "type": "pie"
        }
       ],
       "layout": {
        "legend": {
         "tracegroupgap": 0
        },
        "template": {
         "data": {
          "bar": [
           {
            "error_x": {
             "color": "#2a3f5f"
            },
            "error_y": {
             "color": "#2a3f5f"
            },
            "marker": {
             "line": {
              "color": "#E5ECF6",
              "width": 0.5
             }
            },
            "type": "bar"
           }
          ],
          "barpolar": [
           {
            "marker": {
             "line": {
              "color": "#E5ECF6",
              "width": 0.5
             }
            },
            "type": "barpolar"
           }
          ],
          "carpet": [
           {
            "aaxis": {
             "endlinecolor": "#2a3f5f",
             "gridcolor": "white",
             "linecolor": "white",
             "minorgridcolor": "white",
             "startlinecolor": "#2a3f5f"
            },
            "baxis": {
             "endlinecolor": "#2a3f5f",
             "gridcolor": "white",
             "linecolor": "white",
             "minorgridcolor": "white",
             "startlinecolor": "#2a3f5f"
            },
            "type": "carpet"
           }
          ],
          "choropleth": [
           {
            "colorbar": {
             "outlinewidth": 0,
             "ticks": ""
            },
            "type": "choropleth"
           }
          ],
          "contour": [
           {
            "colorbar": {
             "outlinewidth": 0,
             "ticks": ""
            },
            "colorscale": [
             [
              0,
              "#0d0887"
             ],
             [
              0.1111111111111111,
              "#46039f"
             ],
             [
              0.2222222222222222,
              "#7201a8"
             ],
             [
              0.3333333333333333,
              "#9c179e"
             ],
             [
              0.4444444444444444,
              "#bd3786"
             ],
             [
              0.5555555555555556,
              "#d8576b"
             ],
             [
              0.6666666666666666,
              "#ed7953"
             ],
             [
              0.7777777777777778,
              "#fb9f3a"
             ],
             [
              0.8888888888888888,
              "#fdca26"
             ],
             [
              1,
              "#f0f921"
             ]
            ],
            "type": "contour"
           }
          ],
          "contourcarpet": [
           {
            "colorbar": {
             "outlinewidth": 0,
             "ticks": ""
            },
            "type": "contourcarpet"
           }
          ],
          "heatmap": [
           {
            "colorbar": {
             "outlinewidth": 0,
             "ticks": ""
            },
            "colorscale": [
             [
              0,
              "#0d0887"
             ],
             [
              0.1111111111111111,
              "#46039f"
             ],
             [
              0.2222222222222222,
              "#7201a8"
             ],
             [
              0.3333333333333333,
              "#9c179e"
             ],
             [
              0.4444444444444444,
              "#bd3786"
             ],
             [
              0.5555555555555556,
              "#d8576b"
             ],
             [
              0.6666666666666666,
              "#ed7953"
             ],
             [
              0.7777777777777778,
              "#fb9f3a"
             ],
             [
              0.8888888888888888,
              "#fdca26"
             ],
             [
              1,
              "#f0f921"
             ]
            ],
            "type": "heatmap"
           }
          ],
          "heatmapgl": [
           {
            "colorbar": {
             "outlinewidth": 0,
             "ticks": ""
            },
            "colorscale": [
             [
              0,
              "#0d0887"
             ],
             [
              0.1111111111111111,
              "#46039f"
             ],
             [
              0.2222222222222222,
              "#7201a8"
             ],
             [
              0.3333333333333333,
              "#9c179e"
             ],
             [
              0.4444444444444444,
              "#bd3786"
             ],
             [
              0.5555555555555556,
              "#d8576b"
             ],
             [
              0.6666666666666666,
              "#ed7953"
             ],
             [
              0.7777777777777778,
              "#fb9f3a"
             ],
             [
              0.8888888888888888,
              "#fdca26"
             ],
             [
              1,
              "#f0f921"
             ]
            ],
            "type": "heatmapgl"
           }
          ],
          "histogram": [
           {
            "marker": {
             "colorbar": {
              "outlinewidth": 0,
              "ticks": ""
             }
            },
            "type": "histogram"
           }
          ],
          "histogram2d": [
           {
            "colorbar": {
             "outlinewidth": 0,
             "ticks": ""
            },
            "colorscale": [
             [
              0,
              "#0d0887"
             ],
             [
              0.1111111111111111,
              "#46039f"
             ],
             [
              0.2222222222222222,
              "#7201a8"
             ],
             [
              0.3333333333333333,
              "#9c179e"
             ],
             [
              0.4444444444444444,
              "#bd3786"
             ],
             [
              0.5555555555555556,
              "#d8576b"
             ],
             [
              0.6666666666666666,
              "#ed7953"
             ],
             [
              0.7777777777777778,
              "#fb9f3a"
             ],
             [
              0.8888888888888888,
              "#fdca26"
             ],
             [
              1,
              "#f0f921"
             ]
            ],
            "type": "histogram2d"
           }
          ],
          "histogram2dcontour": [
           {
            "colorbar": {
             "outlinewidth": 0,
             "ticks": ""
            },
            "colorscale": [
             [
              0,
              "#0d0887"
             ],
             [
              0.1111111111111111,
              "#46039f"
             ],
             [
              0.2222222222222222,
              "#7201a8"
             ],
             [
              0.3333333333333333,
              "#9c179e"
             ],
             [
              0.4444444444444444,
              "#bd3786"
             ],
             [
              0.5555555555555556,
              "#d8576b"
             ],
             [
              0.6666666666666666,
              "#ed7953"
             ],
             [
              0.7777777777777778,
              "#fb9f3a"
             ],
             [
              0.8888888888888888,
              "#fdca26"
             ],
             [
              1,
              "#f0f921"
             ]
            ],
            "type": "histogram2dcontour"
           }
          ],
          "mesh3d": [
           {
            "colorbar": {
             "outlinewidth": 0,
             "ticks": ""
            },
            "type": "mesh3d"
           }
          ],
          "parcoords": [
           {
            "line": {
             "colorbar": {
              "outlinewidth": 0,
              "ticks": ""
             }
            },
            "type": "parcoords"
           }
          ],
          "pie": [
           {
            "automargin": true,
            "type": "pie"
           }
          ],
          "scatter": [
           {
            "marker": {
             "colorbar": {
              "outlinewidth": 0,
              "ticks": ""
             }
            },
            "type": "scatter"
           }
          ],
          "scatter3d": [
           {
            "line": {
             "colorbar": {
              "outlinewidth": 0,
              "ticks": ""
             }
            },
            "marker": {
             "colorbar": {
              "outlinewidth": 0,
              "ticks": ""
             }
            },
            "type": "scatter3d"
           }
          ],
          "scattercarpet": [
           {
            "marker": {
             "colorbar": {
              "outlinewidth": 0,
              "ticks": ""
             }
            },
            "type": "scattercarpet"
           }
          ],
          "scattergeo": [
           {
            "marker": {
             "colorbar": {
              "outlinewidth": 0,
              "ticks": ""
             }
            },
            "type": "scattergeo"
           }
          ],
          "scattergl": [
           {
            "marker": {
             "colorbar": {
              "outlinewidth": 0,
              "ticks": ""
             }
            },
            "type": "scattergl"
           }
          ],
          "scattermapbox": [
           {
            "marker": {
             "colorbar": {
              "outlinewidth": 0,
              "ticks": ""
             }
            },
            "type": "scattermapbox"
           }
          ],
          "scatterpolar": [
           {
            "marker": {
             "colorbar": {
              "outlinewidth": 0,
              "ticks": ""
             }
            },
            "type": "scatterpolar"
           }
          ],
          "scatterpolargl": [
           {
            "marker": {
             "colorbar": {
              "outlinewidth": 0,
              "ticks": ""
             }
            },
            "type": "scatterpolargl"
           }
          ],
          "scatterternary": [
           {
            "marker": {
             "colorbar": {
              "outlinewidth": 0,
              "ticks": ""
             }
            },
            "type": "scatterternary"
           }
          ],
          "surface": [
           {
            "colorbar": {
             "outlinewidth": 0,
             "ticks": ""
            },
            "colorscale": [
             [
              0,
              "#0d0887"
             ],
             [
              0.1111111111111111,
              "#46039f"
             ],
             [
              0.2222222222222222,
              "#7201a8"
             ],
             [
              0.3333333333333333,
              "#9c179e"
             ],
             [
              0.4444444444444444,
              "#bd3786"
             ],
             [
              0.5555555555555556,
              "#d8576b"
             ],
             [
              0.6666666666666666,
              "#ed7953"
             ],
             [
              0.7777777777777778,
              "#fb9f3a"
             ],
             [
              0.8888888888888888,
              "#fdca26"
             ],
             [
              1,
              "#f0f921"
             ]
            ],
            "type": "surface"
           }
          ],
          "table": [
           {
            "cells": {
             "fill": {
              "color": "#EBF0F8"
             },
             "line": {
              "color": "white"
             }
            },
            "header": {
             "fill": {
              "color": "#C8D4E3"
             },
             "line": {
              "color": "white"
             }
            },
            "type": "table"
           }
          ]
         },
         "layout": {
          "annotationdefaults": {
           "arrowcolor": "#2a3f5f",
           "arrowhead": 0,
           "arrowwidth": 1
          },
          "coloraxis": {
           "colorbar": {
            "outlinewidth": 0,
            "ticks": ""
           }
          },
          "colorscale": {
           "diverging": [
            [
             0,
             "#8e0152"
            ],
            [
             0.1,
             "#c51b7d"
            ],
            [
             0.2,
             "#de77ae"
            ],
            [
             0.3,
             "#f1b6da"
            ],
            [
             0.4,
             "#fde0ef"
            ],
            [
             0.5,
             "#f7f7f7"
            ],
            [
             0.6,
             "#e6f5d0"
            ],
            [
             0.7,
             "#b8e186"
            ],
            [
             0.8,
             "#7fbc41"
            ],
            [
             0.9,
             "#4d9221"
            ],
            [
             1,
             "#276419"
            ]
           ],
           "sequential": [
            [
             0,
             "#0d0887"
            ],
            [
             0.1111111111111111,
             "#46039f"
            ],
            [
             0.2222222222222222,
             "#7201a8"
            ],
            [
             0.3333333333333333,
             "#9c179e"
            ],
            [
             0.4444444444444444,
             "#bd3786"
            ],
            [
             0.5555555555555556,
             "#d8576b"
            ],
            [
             0.6666666666666666,
             "#ed7953"
            ],
            [
             0.7777777777777778,
             "#fb9f3a"
            ],
            [
             0.8888888888888888,
             "#fdca26"
            ],
            [
             1,
             "#f0f921"
            ]
           ],
           "sequentialminus": [
            [
             0,
             "#0d0887"
            ],
            [
             0.1111111111111111,
             "#46039f"
            ],
            [
             0.2222222222222222,
             "#7201a8"
            ],
            [
             0.3333333333333333,
             "#9c179e"
            ],
            [
             0.4444444444444444,
             "#bd3786"
            ],
            [
             0.5555555555555556,
             "#d8576b"
            ],
            [
             0.6666666666666666,
             "#ed7953"
            ],
            [
             0.7777777777777778,
             "#fb9f3a"
            ],
            [
             0.8888888888888888,
             "#fdca26"
            ],
            [
             1,
             "#f0f921"
            ]
           ]
          },
          "colorway": [
           "#636efa",
           "#EF553B",
           "#00cc96",
           "#ab63fa",
           "#FFA15A",
           "#19d3f3",
           "#FF6692",
           "#B6E880",
           "#FF97FF",
           "#FECB52"
          ],
          "font": {
           "color": "#2a3f5f"
          },
          "geo": {
           "bgcolor": "white",
           "lakecolor": "white",
           "landcolor": "#E5ECF6",
           "showlakes": true,
           "showland": true,
           "subunitcolor": "white"
          },
          "hoverlabel": {
           "align": "left"
          },
          "hovermode": "closest",
          "mapbox": {
           "style": "light"
          },
          "paper_bgcolor": "white",
          "plot_bgcolor": "#E5ECF6",
          "polar": {
           "angularaxis": {
            "gridcolor": "white",
            "linecolor": "white",
            "ticks": ""
           },
           "bgcolor": "#E5ECF6",
           "radialaxis": {
            "gridcolor": "white",
            "linecolor": "white",
            "ticks": ""
           }
          },
          "scene": {
           "xaxis": {
            "backgroundcolor": "#E5ECF6",
            "gridcolor": "white",
            "gridwidth": 2,
            "linecolor": "white",
            "showbackground": true,
            "ticks": "",
            "zerolinecolor": "white"
           },
           "yaxis": {
            "backgroundcolor": "#E5ECF6",
            "gridcolor": "white",
            "gridwidth": 2,
            "linecolor": "white",
            "showbackground": true,
            "ticks": "",
            "zerolinecolor": "white"
           },
           "zaxis": {
            "backgroundcolor": "#E5ECF6",
            "gridcolor": "white",
            "gridwidth": 2,
            "linecolor": "white",
            "showbackground": true,
            "ticks": "",
            "zerolinecolor": "white"
           }
          },
          "shapedefaults": {
           "line": {
            "color": "#2a3f5f"
           }
          },
          "ternary": {
           "aaxis": {
            "gridcolor": "white",
            "linecolor": "white",
            "ticks": ""
           },
           "baxis": {
            "gridcolor": "white",
            "linecolor": "white",
            "ticks": ""
           },
           "bgcolor": "#E5ECF6",
           "caxis": {
            "gridcolor": "white",
            "linecolor": "white",
            "ticks": ""
           }
          },
          "title": {
           "x": 0.05
          },
          "xaxis": {
           "automargin": true,
           "gridcolor": "white",
           "linecolor": "white",
           "ticks": "",
           "title": {
            "standoff": 15
           },
           "zerolinecolor": "white",
           "zerolinewidth": 2
          },
          "yaxis": {
           "automargin": true,
           "gridcolor": "white",
           "linecolor": "white",
           "ticks": "",
           "title": {
            "standoff": 15
           },
           "zerolinecolor": "white",
           "zerolinewidth": 2
          }
         }
        },
        "title": {
         "text": "Todas as menções"
        }
       }
      },
      "text/html": [
       "<div>\n",
       "        \n",
       "        \n",
       "            <div id=\"3fa1ab05-fb2d-4b1c-9c47-d210c46dc1bf\" class=\"plotly-graph-div\" style=\"height:525px; width:100%;\"></div>\n",
       "            <script type=\"text/javascript\">\n",
       "                require([\"plotly\"], function(Plotly) {\n",
       "                    window.PLOTLYENV=window.PLOTLYENV || {};\n",
       "                    \n",
       "                if (document.getElementById(\"3fa1ab05-fb2d-4b1c-9c47-d210c46dc1bf\")) {\n",
       "                    Plotly.newPlot(\n",
       "                        '3fa1ab05-fb2d-4b1c-9c47-d210c46dc1bf',\n",
       "                        [{\"domain\": {\"x\": [0.0, 1.0], \"y\": [0.0, 1.0]}, \"hovertemplate\": \"Men\\u00e7\\u00e3o=%{label}<extra></extra>\", \"labels\": [\"SS\", \"MS\", \"SS\", \"MS\", \"MM\", \"MS\", \"MM\", \"MM\", \"MM\", \"MS\", \"MS\", \"SS\", \"MS\", \"AP\", \"MM\", \"MS\", \"MM\", \"AP\", \"MS\", \"SS\", \"MS\", \"MS\", \"MM\", \"SS\", \"MM\", \"SS\", \"MS\", \"MS\", \"SS\", \"MM\", \"MM\", \"MS\", \"SS\", \"MS\", \"MS\", \"MM\", \"SS\", \"SS\", \"CC\", \"CC\", \"MM\", \"MM\", \"CC\", \"CC\", \"CC\", \"MI\", \"CC\", \"AP\", \"MS\", \"MS\", \"MS\", \"MS\", \"CC\", \"CC\", \"CC\", \"SS\", \"MS\", \"MS\", \"SS\", \"SS\", \"SS\", \"MS\", \"MM\", \"MM\", \"MM\", \"AP\", \"MS\", \"MS\", \"SS\", \"MM\", \"MS\", \"MM\", \"MM\", \"SS\", \"SS\", \"SS\", \"AP\", \"MS\", \"MM\", \"MS\", \"MS\", \"MS\", \"AP\", \"MS\", \"MS\", \"SS\", \"SS\", \"MS\", \"CC\", \"MS\", \"SS\", \"CC\", \"TR\", \"SS\", \"SS\", \"AP\", \"MM\", \"MS\", \"SS\", \"CC\", \"MI\", \"MS\", \"SS\", \"SS\", \"SS\", \"SS\", \"CC\", \"MI\", \"CC\", \"CC\", \"CC\", \"MS\", \"MS\", \"SS\", \"MS\", \"MM\", \"MS\", \"MM\", \"MS\", \"AP\", \"SS\", \"SS\", \"MM\", \"MM\", \"MM\", \"MS\", \"MS\", \"MS\", \"MM\", \"MS\", \"MS\", \"SS\", \"AP\", \"TR\", \"AP\", \"SS\", \"MM\", \"SS\", \"AP\", \"SS\", \"MM\", \"SS\", \"DP\", \"TR\", \"SS\", \"MS\", \"SS\", \"SS\", \"AP\", \"AP\", \"MS\", \"CC\", \"SS\", \"SS\", \"CC\", \"CC\", \"CC\", \"MS\", \"CC\", \"MS\", \"SS\", \"MS\", \"MM\", \"SS\", \"MS\", \"MS\", \"MS\", \"MS\", \"SS\", \"SS\", \"MS\", \"MS\", \"MS\", \"MS\", \"SS\", \"MS\", \"MS\", \"SS\", \"MS\", \"SS\", \"SS\", \"MS\", \"SS\", \"CC\", \"CC\", \"CC\", \"MS\", \"CC\", \"MS\", \"MM\", \"MS\", \"MS\", \"MS\", \"SS\", \"MS\", \"SS\", \"AP\", \"SS\", \"SS\", \"SS\", \"SS\", \"SS\", \"AP\", \"MS\", \"SS\", \"MM\", \"MS\", \"SS\", \"MS\", \"MS\", \"CC\", \"CC\", \"SS\", \"MM\", \"SS\", \"CC\", \"SS\", \"SS\", \"SS\", \"MS\", \"MS\", \"SS\", \"MS\", \"MS\", \"MS\", \"MS\", \"MS\", \"SS\", \"MS\", \"SS\", \"SS\", \"SS\", \"SS\", \"MS\", \"MS\", \"MS\", \"MS\", \"MS\", \"SS\", \"MM\", \"MM\", \"AP\", \"SS\", \"SS\", \"SS\", \"SS\", \"MM\", \"SS\", \"AP\", \"MS\", \"SS\", \"SS\", \"SS\", \"SS\", \"MM\", \"SS\", \"SS\", \"SS\", \"SS\", \"AP\", \"SS\", \"SS\", \"MS\", \"MS\", \"SS\", \"SS\", \"MS\", \"MS\", \"MS\", \"SS\", \"SS\", \"SS\", \"MS\", \"MM\", \"MM\", \"MS\", \"MS\", \"SS\", \"SS\", \"MM\", \"SS\", \"SS\", \"MS\", \"MS\", \"SS\", \"SS\", \"SS\", \"AP\", \"SS\", \"AP\", \"SS\", \"SS\", \"AP\", \"SS\", \"SS\", \"SS\", \"SS\", \"MS\", \"MS\", \"SS\", \"MS\", \"SS\", \"SS\", \"SS\", \"SS\", \"AP\", \"MM\", \"SS\", \"MM\", \"SS\", \"SS\", \"MS\", \"MS\", \"MS\", \"SS\", \"SS\", \"SS\", \"MM\", \"MM\", \"MM\", \"SS\", \"SS\", \"MM\", \"MM\", \"SS\", \"MM\", \"SS\", \"SS\", \"SS\", \"MS\", \"SS\", \"SS\", \"SS\", \"SS\", \"MS\", \"MS\", \"DP\", \"SS\", \"AP\", \"SS\", \"MS\", \"TR\", \"SS\", \"SS\", \"AP\", \"MS\", \"AP\", \"SS\", \"MM\", \"MM\", \"MM\", \"SS\", \"DP\", \"SS\", \"SS\", \"AP\", \"MS\", \"SS\", \"MM\", \"AP\", \"MS\", \"SS\", \"SS\", \"SS\", \"MI\", \"MI\", \"CC\", \"CC\", \"CC\", \"SS\", \"AP\", \"CC\", \"CC\", \"SS\", \"MS\", \"AP\", \"MS\", \"SS\", \"AP\", \"MS\", \"MM\", \"AP\", \"SR\", \"SR\", \"MS\", \"AP\", \"MM\", \"SS\", \"SS\", \"SS\", \"SS\", \"SS\", \"SS\", \"MS\", \"MS\", \"SS\", \"SS\", \"MS\", \"MS\", \"SS\", \"MM\", \"MS\", \"MS\", \"SS\", \"SS\", \"MS\", \"SS\", \"SS\", \"MS\", \"MS\", \"MM\", \"MS\", \"SS\", \"MS\", \"MS\", \"MM\", \"SS\", \"DP\", \"MS\", \"SS\", \"AP\", \"SS\", \"AP\", \"MS\", \"AP\", \"MM\", \"SS\", \"SS\", \"MS\", \"MS\", \"MS\", \"TR\", \"SS\", \"MS\", \"SS\", \"SS\", \"MS\", \"SS\", \"SS\", \"DP\", \"SS\", \"SS\", \"CC\", \"CC\", \"CC\", \"SS\", \"SS\", \"MS\", \"CC\", \"SS\", \"SS\", \"MS\", \"MM\", \"MS\", \"SS\", \"MM\", \"MS\", \"SS\", \"SS\", \"SS\", \"SS\", \"MS\", \"DP\", \"SS\", \"SS\", \"AP\", \"SS\", \"SS\", \"MS\", \"SS\", \"MS\", \"SS\", \"MM\", \"SS\", \"SS\", \"SS\", \"MS\", \"MS\", \"SS\", \"SS\", \"MM\", \"MM\", \"AP\", \"SS\", \"SS\", \"SS\", \"SS\", \"SS\", \"AP\", \"SS\", \"SS\", \"DP\", \"SS\", \"SS\", \"SS\", \"SS\", \"SS\", \"SS\", \"AP\", \"MM\", \"AP\", \"SS\", \"MS\", \"MS\", \"CC\", \"CC\", \"CC\", \"SS\", \"MS\", \"CC\", \"SS\", \"DP\", \"SS\", \"MS\", \"SS\", \"SS\", \"SS\", \"CC\", \"SS\", \"MM\", \"SS\", \"SS\", \"SS\", \"MS\", \"MS\", \"MS\", \"MM\", \"MM\", \"MS\", \"MS\", \"MS\", \"SS\", \"SS\", \"MS\", \"MM\", \"AP\", \"SS\", \"MS\", \"SS\", \"AP\", \"AP\", \"SS\", \"AP\", \"SS\", \"SS\", \"AP\", \"MS\", \"SS\", \"AP\", \"SS\", \"SS\", \"MM\", \"SS\", \"SS\", \"SS\", \"MM\", \"SS\", \"SS\", \"MS\", \"SS\", \"MS\", \"SS\", \"SS\", \"SS\", \"MM\", \"SS\", \"MM\", \"SS\", \"SS\", \"MS\", \"MS\", \"MS\", \"MS\", \"MS\", \"MS\", \"MS\", \"MS\", \"SS\", \"MS\", \"AP\", \"SS\", \"SS\", \"SS\", \"SS\", \"SS\", \"SS\", \"DP\", \"SS\", \"SS\", \"AP\", \"SS\", \"AP\", \"SS\", \"AP\", \"AP\", \"SS\", \"AP\", \"MS\", \"MS\", \"MS\", \"SS\", \"SS\", \"MM\", \"TR\", \"MS\", \"SS\", \"SS\", \"MS\", \"MM\", \"SS\", \"MS\", \"AP\", \"SS\", \"MS\", \"MS\", \"MS\", \"CC\", \"MS\", \"MS\", \"MM\", \"CC\", \"CC\", \"CC\", \"MS\", \"CC\", \"MM\", \"CC\", \"AP\", \"II\", \"MM\", \"SS\", \"SS\", \"MI\", \"MS\", \"TR\", \"SS\", \"SS\", \"SS\", \"MS\", \"SS\", \"SS\", \"SS\", \"SS\", \"SS\", \"MS\", \"MM\", \"AP\", \"SS\", \"SS\", \"SS\", \"MS\", \"SS\", \"SS\", \"SS\", \"SS\", \"MS\", \"SS\", \"MM\", \"MS\", \"AP\", \"MS\", \"MS\", \"MM\", \"MS\", \"MS\", \"MM\", \"SS\", \"CC\", \"SS\", \"SS\", \"AP\", \"MM\", \"MM\", \"SS\", \"SS\", \"SS\", \"SS\", \"SS\", \"SS\", \"AP\", \"AP\", \"AP\", \"MS\", \"SS\", \"AP\", \"SS\", \"AP\", \"MS\", \"SS\", \"SR\", \"SS\", \"MS\", \"MS\", \"SS\", \"AP\", \"MS\", \"MS\", \"CC\", \"SS\", \"AP\", \"MS\", \"MS\", \"MM\", \"MM\", \"SS\", \"SS\", \"MI\", \"SS\", \"AP\", \"SS\", \"MS\", \"SS\", \"SS\", \"SS\", \"SS\", \"SS\", \"MS\", \"SS\", \"SS\", \"MM\", \"MS\", \"MS\", \"MM\", \"MS\", \"SS\", \"SS\", \"MS\", \"SS\", \"MS\", \"MS\", \"SS\", \"SS\", \"SS\", \"SS\", \"SS\", \"SS\", \"SS\", \"SS\", \"SS\", \"SS\", \"SS\", \"SS\", \"AP\", \"AP\", \"MM\", \"MS\", \"SS\", \"SS\", \"SS\", \"SS\", \"SS\", \"SS\", \"SS\", \"MS\", \"SS\", \"SS\", \"MM\", \"MM\", \"SS\", \"MM\", \"MS\", \"SS\", \"SS\", \"MS\", \"MS\", \"SS\", \"MM\", \"MM\", \"MS\", \"MS\", \"MS\", \"SS\", \"SS\", \"MS\", \"MS\", \"SS\", \"SS\", \"SS\", \"MS\", \"SS\", \"SS\", \"SS\", \"MM\", \"MS\", \"SS\", \"AP\", \"AP\", \"AP\", \"AP\", \"AP\", \"AP\", \"SS\", \"AP\", \"SS\", \"AP\", \"SS\", \"AP\", \"MS\", \"MS\", \"AP\", \"SS\", \"AP\", \"AP\", \"SS\", \"MM\", \"SS\", \"MS\", \"AP\", \"SS\", \"MS\", \"MS\", \"MS\", \"SS\", \"SS\", \"SS\", \"SS\", \"SS\", \"AP\", \"SS\", \"SS\", \"CC\", \"CC\", \"CC\", \"CC\", \"AP\", \"CC\", \"CC\", \"SS\", \"MS\", \"CC\", \"SS\", \"CC\", \"SS\", \"SS\", \"MS\", \"MS\", \"MS\", \"MS\", \"MS\", \"MM\", \"AP\", \"MM\", \"SS\", \"MS\", \"MS\", \"MM\", \"MM\", \"SS\", \"MM\", \"MS\", \"SS\", \"MM\", \"SS\", \"SS\", \"SS\", \"AP\", \"SS\", \"AP\", \"MS\", \"AP\", \"MS\", \"AP\", \"II\", \"MM\", \"MS\", \"SS\", \"SS\", \"SS\", \"TR\", \"SS\", \"SS\", \"SS\", \"MS\", \"SS\", \"SS\", \"SS\", \"SS\", \"SS\", \"SS\", \"AP\", \"MS\", \"MS\", \"SS\", \"SS\", \"MS\", \"SS\", \"II\", \"MS\", \"SS\", \"CC\", \"SS\", \"MS\", \"MM\", \"SS\", \"CC\", \"CC\", \"CC\", \"CC\", \"CC\", \"MS\", \"MS\", \"SS\", \"SR\", \"II\", \"SS\", \"SS\", \"MS\", \"SS\", \"MS\", \"SS\", \"CC\", \"SS\", \"CC\", \"CC\", \"SS\", \"CC\", \"SS\", \"CC\", \"SS\", \"MS\", \"SS\", \"SS\", \"MI\", \"MS\", \"MS\", \"MM\", \"MS\", \"SS\", \"SS\", \"SS\", \"SS\", \"SS\", \"MM\", \"SS\", \"SS\", \"AP\", \"AP\", \"MS\", \"SS\", \"MM\", \"MS\", \"AP\", \"SS\", \"MS\", \"SS\", \"SS\", \"MS\", \"SS\", \"SS\", \"AP\", \"SS\", \"MS\", \"SS\", \"SS\", \"MM\", \"MM\", \"CC\", \"SS\", \"SS\", \"AP\", \"MS\", \"SS\", \"SS\", \"AP\", \"MS\", \"SS\", \"SS\", \"AP\", \"SS\", \"MS\", \"SS\", \"SS\", \"AP\", \"MS\", \"MM\", \"AP\", \"SS\", \"SS\", \"MS\", \"MS\", \"SS\", \"MS\", \"SS\", \"MS\", \"SS\", \"MS\", \"SS\", \"SS\", \"SS\", \"MS\", \"MS\", \"AP\", \"AP\", \"MM\", \"RP\", \"AP\", \"MS\", \"AP\", \"MS\", \"SS\", \"SS\", \"SS\", \"SS\", \"SS\", \"MI\", \"MS\", \"SS\", \"SS\", \"MS\", \"MI\", \"SS\", \"II\", \"MM\", \"MS\", \"MS\", \"MS\", \"CC\", \"CC\", \"SS\", \"CC\", \"SS\", \"CC\", \"SS\", \"MM\", \"MS\", \"SS\", \"SS\", \"SS\", \"MS\", \"MS\", \"MI\", \"CC\", \"CC\", \"MS\", \"SS\", \"MM\", \"AP\", \"CC\", \"CC\", \"CC\", \"SS\", \"CC\", \"AP\", \"MM\", \"CC\", \"MM\", \"MM\", \"CC\", \"CC\", \"TR\", \"CC\", \"AP\", \"CC\", \"CC\", \"CC\", \"MS\", \"SS\", \"CC\", \"CC\", \"CC\", \"CC\", \"SS\", \"MM\", \"CC\", \"CC\", \"CC\", \"CC\", \"SS\", \"CC\", \"MS\", \"SR\", \"MM\", \"SS\", \"CC\", \"CC\", \"CC\", \"CC\", \"SS\", \"AP\", \"MS\", \"MM\", \"AP\", \"SS\", \"AP\", \"AP\", \"AP\", \"AP\", \"SS\", \"SS\", \"AP\", \"MS\", \"SS\", \"MS\", \"AP\", \"AP\", \"MM\", \"MS\", \"SS\", \"AP\", \"MS\", \"MS\", \"MS\", \"MS\", \"AP\", \"MS\", \"SS\", \"AP\", \"SS\", \"AP\", \"SS\", \"MS\", \"MM\", \"MM\", \"SS\", \"MS\", \"MM\", \"SS\", \"CC\", \"II\", \"MI\", \"AP\", \"MM\", \"MS\", \"SS\", \"MS\", \"CC\", \"MS\", \"MM\", \"AP\", \"SS\", \"TR\", \"MS\", \"MS\", \"MS\", \"MM\", \"AP\", \"MS\", \"MS\", \"MS\", \"SS\", \"MM\", \"MS\", \"SS\", \"SR\", \"SS\"], \"legendgroup\": \"\", \"name\": \"\", \"showlegend\": true, \"type\": \"pie\"}],\n",
       "                        {\"legend\": {\"tracegroupgap\": 0}, \"template\": {\"data\": {\"bar\": [{\"error_x\": {\"color\": \"#2a3f5f\"}, \"error_y\": {\"color\": \"#2a3f5f\"}, \"marker\": {\"line\": {\"color\": \"#E5ECF6\", \"width\": 0.5}}, \"type\": \"bar\"}], \"barpolar\": [{\"marker\": {\"line\": {\"color\": \"#E5ECF6\", \"width\": 0.5}}, \"type\": \"barpolar\"}], \"carpet\": [{\"aaxis\": {\"endlinecolor\": \"#2a3f5f\", \"gridcolor\": \"white\", \"linecolor\": \"white\", \"minorgridcolor\": \"white\", \"startlinecolor\": \"#2a3f5f\"}, \"baxis\": {\"endlinecolor\": \"#2a3f5f\", \"gridcolor\": \"white\", \"linecolor\": \"white\", \"minorgridcolor\": \"white\", \"startlinecolor\": \"#2a3f5f\"}, \"type\": \"carpet\"}], \"choropleth\": [{\"colorbar\": {\"outlinewidth\": 0, \"ticks\": \"\"}, \"type\": \"choropleth\"}], \"contour\": [{\"colorbar\": {\"outlinewidth\": 0, \"ticks\": \"\"}, \"colorscale\": [[0.0, \"#0d0887\"], [0.1111111111111111, \"#46039f\"], [0.2222222222222222, \"#7201a8\"], [0.3333333333333333, \"#9c179e\"], [0.4444444444444444, \"#bd3786\"], [0.5555555555555556, \"#d8576b\"], [0.6666666666666666, \"#ed7953\"], [0.7777777777777778, \"#fb9f3a\"], [0.8888888888888888, \"#fdca26\"], [1.0, \"#f0f921\"]], \"type\": \"contour\"}], \"contourcarpet\": [{\"colorbar\": {\"outlinewidth\": 0, \"ticks\": \"\"}, \"type\": \"contourcarpet\"}], \"heatmap\": [{\"colorbar\": {\"outlinewidth\": 0, \"ticks\": \"\"}, \"colorscale\": [[0.0, \"#0d0887\"], [0.1111111111111111, \"#46039f\"], [0.2222222222222222, \"#7201a8\"], [0.3333333333333333, \"#9c179e\"], [0.4444444444444444, \"#bd3786\"], [0.5555555555555556, \"#d8576b\"], [0.6666666666666666, \"#ed7953\"], [0.7777777777777778, \"#fb9f3a\"], [0.8888888888888888, \"#fdca26\"], [1.0, \"#f0f921\"]], \"type\": \"heatmap\"}], \"heatmapgl\": [{\"colorbar\": {\"outlinewidth\": 0, \"ticks\": \"\"}, \"colorscale\": [[0.0, \"#0d0887\"], [0.1111111111111111, \"#46039f\"], [0.2222222222222222, \"#7201a8\"], [0.3333333333333333, \"#9c179e\"], [0.4444444444444444, \"#bd3786\"], [0.5555555555555556, \"#d8576b\"], [0.6666666666666666, \"#ed7953\"], [0.7777777777777778, \"#fb9f3a\"], [0.8888888888888888, \"#fdca26\"], [1.0, \"#f0f921\"]], \"type\": \"heatmapgl\"}], \"histogram\": [{\"marker\": {\"colorbar\": {\"outlinewidth\": 0, \"ticks\": \"\"}}, \"type\": \"histogram\"}], \"histogram2d\": [{\"colorbar\": {\"outlinewidth\": 0, \"ticks\": \"\"}, \"colorscale\": [[0.0, \"#0d0887\"], [0.1111111111111111, \"#46039f\"], [0.2222222222222222, \"#7201a8\"], [0.3333333333333333, \"#9c179e\"], [0.4444444444444444, \"#bd3786\"], [0.5555555555555556, \"#d8576b\"], [0.6666666666666666, \"#ed7953\"], [0.7777777777777778, \"#fb9f3a\"], [0.8888888888888888, \"#fdca26\"], [1.0, \"#f0f921\"]], \"type\": \"histogram2d\"}], \"histogram2dcontour\": [{\"colorbar\": {\"outlinewidth\": 0, \"ticks\": \"\"}, \"colorscale\": [[0.0, \"#0d0887\"], [0.1111111111111111, \"#46039f\"], [0.2222222222222222, \"#7201a8\"], [0.3333333333333333, \"#9c179e\"], [0.4444444444444444, \"#bd3786\"], [0.5555555555555556, \"#d8576b\"], [0.6666666666666666, \"#ed7953\"], [0.7777777777777778, \"#fb9f3a\"], [0.8888888888888888, \"#fdca26\"], [1.0, \"#f0f921\"]], \"type\": \"histogram2dcontour\"}], \"mesh3d\": [{\"colorbar\": {\"outlinewidth\": 0, \"ticks\": \"\"}, \"type\": \"mesh3d\"}], \"parcoords\": [{\"line\": {\"colorbar\": {\"outlinewidth\": 0, \"ticks\": \"\"}}, \"type\": \"parcoords\"}], \"pie\": [{\"automargin\": true, \"type\": \"pie\"}], \"scatter\": [{\"marker\": {\"colorbar\": {\"outlinewidth\": 0, \"ticks\": \"\"}}, \"type\": \"scatter\"}], \"scatter3d\": [{\"line\": {\"colorbar\": {\"outlinewidth\": 0, \"ticks\": \"\"}}, \"marker\": {\"colorbar\": {\"outlinewidth\": 0, \"ticks\": \"\"}}, \"type\": \"scatter3d\"}], \"scattercarpet\": [{\"marker\": {\"colorbar\": {\"outlinewidth\": 0, \"ticks\": \"\"}}, \"type\": \"scattercarpet\"}], \"scattergeo\": [{\"marker\": {\"colorbar\": {\"outlinewidth\": 0, \"ticks\": \"\"}}, \"type\": \"scattergeo\"}], \"scattergl\": [{\"marker\": {\"colorbar\": {\"outlinewidth\": 0, \"ticks\": \"\"}}, \"type\": \"scattergl\"}], \"scattermapbox\": [{\"marker\": {\"colorbar\": {\"outlinewidth\": 0, \"ticks\": \"\"}}, \"type\": \"scattermapbox\"}], \"scatterpolar\": [{\"marker\": {\"colorbar\": {\"outlinewidth\": 0, \"ticks\": \"\"}}, \"type\": \"scatterpolar\"}], \"scatterpolargl\": [{\"marker\": {\"colorbar\": {\"outlinewidth\": 0, \"ticks\": \"\"}}, \"type\": \"scatterpolargl\"}], \"scatterternary\": [{\"marker\": {\"colorbar\": {\"outlinewidth\": 0, \"ticks\": \"\"}}, \"type\": \"scatterternary\"}], \"surface\": [{\"colorbar\": {\"outlinewidth\": 0, \"ticks\": \"\"}, \"colorscale\": [[0.0, \"#0d0887\"], [0.1111111111111111, \"#46039f\"], [0.2222222222222222, \"#7201a8\"], [0.3333333333333333, \"#9c179e\"], [0.4444444444444444, \"#bd3786\"], [0.5555555555555556, \"#d8576b\"], [0.6666666666666666, \"#ed7953\"], [0.7777777777777778, \"#fb9f3a\"], [0.8888888888888888, \"#fdca26\"], [1.0, \"#f0f921\"]], \"type\": \"surface\"}], \"table\": [{\"cells\": {\"fill\": {\"color\": \"#EBF0F8\"}, \"line\": {\"color\": \"white\"}}, \"header\": {\"fill\": {\"color\": \"#C8D4E3\"}, \"line\": {\"color\": \"white\"}}, \"type\": \"table\"}]}, \"layout\": {\"annotationdefaults\": {\"arrowcolor\": \"#2a3f5f\", \"arrowhead\": 0, \"arrowwidth\": 1}, \"coloraxis\": {\"colorbar\": {\"outlinewidth\": 0, \"ticks\": \"\"}}, \"colorscale\": {\"diverging\": [[0, \"#8e0152\"], [0.1, \"#c51b7d\"], [0.2, \"#de77ae\"], [0.3, \"#f1b6da\"], [0.4, \"#fde0ef\"], [0.5, \"#f7f7f7\"], [0.6, \"#e6f5d0\"], [0.7, \"#b8e186\"], [0.8, \"#7fbc41\"], [0.9, \"#4d9221\"], [1, \"#276419\"]], \"sequential\": [[0.0, \"#0d0887\"], [0.1111111111111111, \"#46039f\"], [0.2222222222222222, \"#7201a8\"], [0.3333333333333333, \"#9c179e\"], [0.4444444444444444, \"#bd3786\"], [0.5555555555555556, \"#d8576b\"], [0.6666666666666666, \"#ed7953\"], [0.7777777777777778, \"#fb9f3a\"], [0.8888888888888888, \"#fdca26\"], [1.0, \"#f0f921\"]], \"sequentialminus\": [[0.0, \"#0d0887\"], [0.1111111111111111, \"#46039f\"], [0.2222222222222222, \"#7201a8\"], [0.3333333333333333, \"#9c179e\"], [0.4444444444444444, \"#bd3786\"], [0.5555555555555556, \"#d8576b\"], [0.6666666666666666, \"#ed7953\"], [0.7777777777777778, \"#fb9f3a\"], [0.8888888888888888, \"#fdca26\"], [1.0, \"#f0f921\"]]}, \"colorway\": [\"#636efa\", \"#EF553B\", \"#00cc96\", \"#ab63fa\", \"#FFA15A\", \"#19d3f3\", \"#FF6692\", \"#B6E880\", \"#FF97FF\", \"#FECB52\"], \"font\": {\"color\": \"#2a3f5f\"}, \"geo\": {\"bgcolor\": \"white\", \"lakecolor\": \"white\", \"landcolor\": \"#E5ECF6\", \"showlakes\": true, \"showland\": true, \"subunitcolor\": \"white\"}, \"hoverlabel\": {\"align\": \"left\"}, \"hovermode\": \"closest\", \"mapbox\": {\"style\": \"light\"}, \"paper_bgcolor\": \"white\", \"plot_bgcolor\": \"#E5ECF6\", \"polar\": {\"angularaxis\": {\"gridcolor\": \"white\", \"linecolor\": \"white\", \"ticks\": \"\"}, \"bgcolor\": \"#E5ECF6\", \"radialaxis\": {\"gridcolor\": \"white\", \"linecolor\": \"white\", \"ticks\": \"\"}}, \"scene\": {\"xaxis\": {\"backgroundcolor\": \"#E5ECF6\", \"gridcolor\": \"white\", \"gridwidth\": 2, \"linecolor\": \"white\", \"showbackground\": true, \"ticks\": \"\", \"zerolinecolor\": \"white\"}, \"yaxis\": {\"backgroundcolor\": \"#E5ECF6\", \"gridcolor\": \"white\", \"gridwidth\": 2, \"linecolor\": \"white\", \"showbackground\": true, \"ticks\": \"\", \"zerolinecolor\": \"white\"}, \"zaxis\": {\"backgroundcolor\": \"#E5ECF6\", \"gridcolor\": \"white\", \"gridwidth\": 2, \"linecolor\": \"white\", \"showbackground\": true, \"ticks\": \"\", \"zerolinecolor\": \"white\"}}, \"shapedefaults\": {\"line\": {\"color\": \"#2a3f5f\"}}, \"ternary\": {\"aaxis\": {\"gridcolor\": \"white\", \"linecolor\": \"white\", \"ticks\": \"\"}, \"baxis\": {\"gridcolor\": \"white\", \"linecolor\": \"white\", \"ticks\": \"\"}, \"bgcolor\": \"#E5ECF6\", \"caxis\": {\"gridcolor\": \"white\", \"linecolor\": \"white\", \"ticks\": \"\"}}, \"title\": {\"x\": 0.05}, \"xaxis\": {\"automargin\": true, \"gridcolor\": \"white\", \"linecolor\": \"white\", \"ticks\": \"\", \"title\": {\"standoff\": 15}, \"zerolinecolor\": \"white\", \"zerolinewidth\": 2}, \"yaxis\": {\"automargin\": true, \"gridcolor\": \"white\", \"linecolor\": \"white\", \"ticks\": \"\", \"title\": {\"standoff\": 15}, \"zerolinecolor\": \"white\", \"zerolinewidth\": 2}}}, \"title\": {\"text\": \"Todas as men\\u00e7\\u00f5es\"}},\n",
       "                        {\"responsive\": true}\n",
       "                    ).then(function(){\n",
       "                            \n",
       "var gd = document.getElementById('3fa1ab05-fb2d-4b1c-9c47-d210c46dc1bf');\n",
       "var x = new MutationObserver(function (mutations, observer) {{\n",
       "        var display = window.getComputedStyle(gd).display;\n",
       "        if (!display || display === 'none') {{\n",
       "            console.log([gd, 'removed!']);\n",
       "            Plotly.purge(gd);\n",
       "            observer.disconnect();\n",
       "        }}\n",
       "}});\n",
       "\n",
       "// Listen for the removal of the full notebook cells\n",
       "var notebookContainer = gd.closest('#notebook-container');\n",
       "if (notebookContainer) {{\n",
       "    x.observe(notebookContainer, {childList: true});\n",
       "}}\n",
       "\n",
       "// Listen for the clearing of the current output cell\n",
       "var outputEl = gd.closest('.output');\n",
       "if (outputEl) {{\n",
       "    x.observe(outputEl, {childList: true});\n",
       "}}\n",
       "\n",
       "                        })\n",
       "                };\n",
       "                });\n",
       "            </script>\n",
       "        </div>"
      ]
     },
     "metadata": {},
     "output_type": "display_data"
    }
   ],
   "source": [
    "fig = px.pie(df, names='Menção', title='Todas as menções')\n",
    "fig.show()"
   ]
  },
  {
   "cell_type": "code",
   "execution_count": 37,
   "metadata": {},
   "outputs": [
    {
     "data": {
      "application/vnd.plotly.v1+json": {
       "config": {
        "plotlyServerURL": "https://plot.ly"
       },
       "data": [
        {
         "domain": {
          "x": [
           0,
           1
          ],
          "y": [
           0,
           1
          ]
         },
         "hovertemplate": "Disciplina=%{label}<extra></extra>",
         "labels": [
          "Inteligência Artificial 1                                             ",
          "Sistemas Multiagentes                                                 ",
          "Engenharia de Software 1                                              ",
          "Engenharia de Software 2                                              ",
          "Tópicos em Engenharia de Software                                     ",
          "Tópicos em Fundamentos e Métodos de Computação                        ",
          "Tópicos em Sistemas de Computação                                     ",
          "Tópicos em Fundamentos e Métodos de Computação                        ",
          "Tópicos de Pesquisa em Informática                                    ",
          "Inteligência Artificial 2                                             ",
          "Sistemas Multiagentes                                                 ",
          "Tópicos em Fundamentos e Métodos de Computação                        ",
          "Lógica Formal Aplicada                                                ",
          "Processamento de Imagens Digitais                                     ",
          "Tópicos em Sistemas de Computação                                     ",
          "Tópicos em Fundamentos e Métodos de Computação                        ",
          "Teoria da Computação                                                  ",
          "Teoria da Computação                                                  ",
          "Fundamentos de Sistemas Computacionais                                ",
          "Processamento de Imagens Digitais                                     ",
          "Reconhecimento de Padrões                                             ",
          "Teoria da Computação                                                  ",
          "Fundamentos de Sistemas Computacionais                                ",
          "Processamento de Imagens Digitais                                     ",
          "Reconhecimento de Padrões                                             ",
          "Inteligência Artificial 2                                             ",
          "Engenharia de Software 1                                              ",
          "Sistemas Distribuídos                                                 ",
          "Teoria da Computação                                                  ",
          "Programação Paralela                                                  ",
          "Projeto e Complexidade de Algoritmos                                  ",
          "Tópicos Avançados em Sistemas de Computação                           ",
          "Inteligência Artificial 1                                             ",
          "Engenharia de Software 1                                              ",
          "Engenharia de Software 2                                              ",
          "Tópicos em Engenharia de Software                                     ",
          "Tópicos em Fundamentos e Métodos de Computação                        ",
          "Projeto e Complexidade de Algoritmos                                  ",
          "Tópicos em Fundamentos e Métodos de Computação                        ",
          "Proficiência em Inglês                                                ",
          "Proficiência em Inglês                                                ",
          "Proficiência em Inglês                                                ",
          "Projeto e Complexidade de Algoritmos                                  ",
          "Fundamentos de Computação Gráfica e Visual                            ",
          "Teoria da Computação                                                  ",
          "Programação Paralela                                                  ",
          "Projeto e Complexidade de Algoritmos                                  ",
          "Tópicos em Fundamentos e Métodos de Computação                        ",
          "Tópicos em Fundamentos e Métodos de Computação                        ",
          "Tópicos em Sistemas de Computação                                     ",
          "Teoria da Computação                                                  ",
          "Fundamentos de Sistemas Computacionais                                ",
          "Projeto e Complexidade de Algoritmos                                  ",
          "Tópicos em Fundamentos e Métodos de Computação                        ",
          "Inteligência Artificial 1                                             ",
          "Teoria da Computação                                                  ",
          "Projeto e Complexidade de Algoritmos                                  ",
          "Tópicos em Sistemas de Computação                                     ",
          "Tópicos em Sistemas de Computação                                     ",
          "Tópicos em Sistemas de Computação                                     ",
          "Tópicos em Fundamentos e Métodos de Computação                        ",
          "Tópicos de Pesquisa em Informática                                    ",
          "Tópicos Avançados em Sistemas de Computação                           ",
          "Processamento Digital de Sinais                                       ",
          "Teoria da Computação                                                  ",
          "Projeto e Complexidade de Algoritmos                                  ",
          "Arquiteturas VLSI                                                     ",
          "Processamento de Imagens                                              ",
          "Tópicos Avançados em Sistemas de Computação                           ",
          "Projeto e Complexidade de Algoritmos                                  ",
          "Tópicos em Engenharia de Software                                     ",
          "Teoria da Computação                                                  ",
          "Projeto e Complexidade de Algoritmos                                  ",
          "Tópicos em Sistemas de Computação                                     ",
          "Projeto e Complexidade de Algoritmos                                  ",
          "Projeto e Complexidade de Algorítmos 2                                ",
          "Teoria da Computação                                                  ",
          "Projeto e Complexidade de Algoritmos                                  ",
          "Arquiteturas VLSI                                                     ",
          "Processamento de Imagens                                              ",
          "Tópicos Avançados em Sistemas de Computação                           ",
          "Sistemas Distribuídos                                                 ",
          "Tópicos em Formalismos de Computação                                  ",
          "Tópicos em Fundamentos e Métodos de Computação                        ",
          "Tópicos Avançados em Sistemas de Computação                           ",
          "Inteligência Artificial 1                                             ",
          "Teoria da Computação                                                  ",
          "Tópicos em Sistemas de Computação                                     ",
          "Tópicos em Fundamentos e Métodos de Computação                        ",
          "Tópicos Avançados em Sistemas de Computação                           ",
          "Tópicos em Banco de Dados                                             ",
          "Inteligência Artificial 1                                             ",
          "Inteligência Artificial 2                                             ",
          "Teoria da Computação                                                  ",
          "Projeto e Complexidade de Algoritmos                                  ",
          "Processamento de Imagens                                              ",
          "Processamento de Imagens                                              ",
          "Tópicos em Fundamentos e Métodos de Computação                        ",
          "Tópicos de Pesquisa em Informática                                    ",
          "Tópicos Avançados em Sistemas de Computação                           ",
          "Tópicos em Sistemas de Computação                                     ",
          "Proficiência em Inglês                                                "
         ],
         "legendgroup": "",
         "name": "",
         "showlegend": true,
         "type": "pie"
        }
       ],
       "layout": {
        "legend": {
         "tracegroupgap": 0
        },
        "template": {
         "data": {
          "bar": [
           {
            "error_x": {
             "color": "#2a3f5f"
            },
            "error_y": {
             "color": "#2a3f5f"
            },
            "marker": {
             "line": {
              "color": "#E5ECF6",
              "width": 0.5
             }
            },
            "type": "bar"
           }
          ],
          "barpolar": [
           {
            "marker": {
             "line": {
              "color": "#E5ECF6",
              "width": 0.5
             }
            },
            "type": "barpolar"
           }
          ],
          "carpet": [
           {
            "aaxis": {
             "endlinecolor": "#2a3f5f",
             "gridcolor": "white",
             "linecolor": "white",
             "minorgridcolor": "white",
             "startlinecolor": "#2a3f5f"
            },
            "baxis": {
             "endlinecolor": "#2a3f5f",
             "gridcolor": "white",
             "linecolor": "white",
             "minorgridcolor": "white",
             "startlinecolor": "#2a3f5f"
            },
            "type": "carpet"
           }
          ],
          "choropleth": [
           {
            "colorbar": {
             "outlinewidth": 0,
             "ticks": ""
            },
            "type": "choropleth"
           }
          ],
          "contour": [
           {
            "colorbar": {
             "outlinewidth": 0,
             "ticks": ""
            },
            "colorscale": [
             [
              0,
              "#0d0887"
             ],
             [
              0.1111111111111111,
              "#46039f"
             ],
             [
              0.2222222222222222,
              "#7201a8"
             ],
             [
              0.3333333333333333,
              "#9c179e"
             ],
             [
              0.4444444444444444,
              "#bd3786"
             ],
             [
              0.5555555555555556,
              "#d8576b"
             ],
             [
              0.6666666666666666,
              "#ed7953"
             ],
             [
              0.7777777777777778,
              "#fb9f3a"
             ],
             [
              0.8888888888888888,
              "#fdca26"
             ],
             [
              1,
              "#f0f921"
             ]
            ],
            "type": "contour"
           }
          ],
          "contourcarpet": [
           {
            "colorbar": {
             "outlinewidth": 0,
             "ticks": ""
            },
            "type": "contourcarpet"
           }
          ],
          "heatmap": [
           {
            "colorbar": {
             "outlinewidth": 0,
             "ticks": ""
            },
            "colorscale": [
             [
              0,
              "#0d0887"
             ],
             [
              0.1111111111111111,
              "#46039f"
             ],
             [
              0.2222222222222222,
              "#7201a8"
             ],
             [
              0.3333333333333333,
              "#9c179e"
             ],
             [
              0.4444444444444444,
              "#bd3786"
             ],
             [
              0.5555555555555556,
              "#d8576b"
             ],
             [
              0.6666666666666666,
              "#ed7953"
             ],
             [
              0.7777777777777778,
              "#fb9f3a"
             ],
             [
              0.8888888888888888,
              "#fdca26"
             ],
             [
              1,
              "#f0f921"
             ]
            ],
            "type": "heatmap"
           }
          ],
          "heatmapgl": [
           {
            "colorbar": {
             "outlinewidth": 0,
             "ticks": ""
            },
            "colorscale": [
             [
              0,
              "#0d0887"
             ],
             [
              0.1111111111111111,
              "#46039f"
             ],
             [
              0.2222222222222222,
              "#7201a8"
             ],
             [
              0.3333333333333333,
              "#9c179e"
             ],
             [
              0.4444444444444444,
              "#bd3786"
             ],
             [
              0.5555555555555556,
              "#d8576b"
             ],
             [
              0.6666666666666666,
              "#ed7953"
             ],
             [
              0.7777777777777778,
              "#fb9f3a"
             ],
             [
              0.8888888888888888,
              "#fdca26"
             ],
             [
              1,
              "#f0f921"
             ]
            ],
            "type": "heatmapgl"
           }
          ],
          "histogram": [
           {
            "marker": {
             "colorbar": {
              "outlinewidth": 0,
              "ticks": ""
             }
            },
            "type": "histogram"
           }
          ],
          "histogram2d": [
           {
            "colorbar": {
             "outlinewidth": 0,
             "ticks": ""
            },
            "colorscale": [
             [
              0,
              "#0d0887"
             ],
             [
              0.1111111111111111,
              "#46039f"
             ],
             [
              0.2222222222222222,
              "#7201a8"
             ],
             [
              0.3333333333333333,
              "#9c179e"
             ],
             [
              0.4444444444444444,
              "#bd3786"
             ],
             [
              0.5555555555555556,
              "#d8576b"
             ],
             [
              0.6666666666666666,
              "#ed7953"
             ],
             [
              0.7777777777777778,
              "#fb9f3a"
             ],
             [
              0.8888888888888888,
              "#fdca26"
             ],
             [
              1,
              "#f0f921"
             ]
            ],
            "type": "histogram2d"
           }
          ],
          "histogram2dcontour": [
           {
            "colorbar": {
             "outlinewidth": 0,
             "ticks": ""
            },
            "colorscale": [
             [
              0,
              "#0d0887"
             ],
             [
              0.1111111111111111,
              "#46039f"
             ],
             [
              0.2222222222222222,
              "#7201a8"
             ],
             [
              0.3333333333333333,
              "#9c179e"
             ],
             [
              0.4444444444444444,
              "#bd3786"
             ],
             [
              0.5555555555555556,
              "#d8576b"
             ],
             [
              0.6666666666666666,
              "#ed7953"
             ],
             [
              0.7777777777777778,
              "#fb9f3a"
             ],
             [
              0.8888888888888888,
              "#fdca26"
             ],
             [
              1,
              "#f0f921"
             ]
            ],
            "type": "histogram2dcontour"
           }
          ],
          "mesh3d": [
           {
            "colorbar": {
             "outlinewidth": 0,
             "ticks": ""
            },
            "type": "mesh3d"
           }
          ],
          "parcoords": [
           {
            "line": {
             "colorbar": {
              "outlinewidth": 0,
              "ticks": ""
             }
            },
            "type": "parcoords"
           }
          ],
          "pie": [
           {
            "automargin": true,
            "type": "pie"
           }
          ],
          "scatter": [
           {
            "marker": {
             "colorbar": {
              "outlinewidth": 0,
              "ticks": ""
             }
            },
            "type": "scatter"
           }
          ],
          "scatter3d": [
           {
            "line": {
             "colorbar": {
              "outlinewidth": 0,
              "ticks": ""
             }
            },
            "marker": {
             "colorbar": {
              "outlinewidth": 0,
              "ticks": ""
             }
            },
            "type": "scatter3d"
           }
          ],
          "scattercarpet": [
           {
            "marker": {
             "colorbar": {
              "outlinewidth": 0,
              "ticks": ""
             }
            },
            "type": "scattercarpet"
           }
          ],
          "scattergeo": [
           {
            "marker": {
             "colorbar": {
              "outlinewidth": 0,
              "ticks": ""
             }
            },
            "type": "scattergeo"
           }
          ],
          "scattergl": [
           {
            "marker": {
             "colorbar": {
              "outlinewidth": 0,
              "ticks": ""
             }
            },
            "type": "scattergl"
           }
          ],
          "scattermapbox": [
           {
            "marker": {
             "colorbar": {
              "outlinewidth": 0,
              "ticks": ""
             }
            },
            "type": "scattermapbox"
           }
          ],
          "scatterpolar": [
           {
            "marker": {
             "colorbar": {
              "outlinewidth": 0,
              "ticks": ""
             }
            },
            "type": "scatterpolar"
           }
          ],
          "scatterpolargl": [
           {
            "marker": {
             "colorbar": {
              "outlinewidth": 0,
              "ticks": ""
             }
            },
            "type": "scatterpolargl"
           }
          ],
          "scatterternary": [
           {
            "marker": {
             "colorbar": {
              "outlinewidth": 0,
              "ticks": ""
             }
            },
            "type": "scatterternary"
           }
          ],
          "surface": [
           {
            "colorbar": {
             "outlinewidth": 0,
             "ticks": ""
            },
            "colorscale": [
             [
              0,
              "#0d0887"
             ],
             [
              0.1111111111111111,
              "#46039f"
             ],
             [
              0.2222222222222222,
              "#7201a8"
             ],
             [
              0.3333333333333333,
              "#9c179e"
             ],
             [
              0.4444444444444444,
              "#bd3786"
             ],
             [
              0.5555555555555556,
              "#d8576b"
             ],
             [
              0.6666666666666666,
              "#ed7953"
             ],
             [
              0.7777777777777778,
              "#fb9f3a"
             ],
             [
              0.8888888888888888,
              "#fdca26"
             ],
             [
              1,
              "#f0f921"
             ]
            ],
            "type": "surface"
           }
          ],
          "table": [
           {
            "cells": {
             "fill": {
              "color": "#EBF0F8"
             },
             "line": {
              "color": "white"
             }
            },
            "header": {
             "fill": {
              "color": "#C8D4E3"
             },
             "line": {
              "color": "white"
             }
            },
            "type": "table"
           }
          ]
         },
         "layout": {
          "annotationdefaults": {
           "arrowcolor": "#2a3f5f",
           "arrowhead": 0,
           "arrowwidth": 1
          },
          "coloraxis": {
           "colorbar": {
            "outlinewidth": 0,
            "ticks": ""
           }
          },
          "colorscale": {
           "diverging": [
            [
             0,
             "#8e0152"
            ],
            [
             0.1,
             "#c51b7d"
            ],
            [
             0.2,
             "#de77ae"
            ],
            [
             0.3,
             "#f1b6da"
            ],
            [
             0.4,
             "#fde0ef"
            ],
            [
             0.5,
             "#f7f7f7"
            ],
            [
             0.6,
             "#e6f5d0"
            ],
            [
             0.7,
             "#b8e186"
            ],
            [
             0.8,
             "#7fbc41"
            ],
            [
             0.9,
             "#4d9221"
            ],
            [
             1,
             "#276419"
            ]
           ],
           "sequential": [
            [
             0,
             "#0d0887"
            ],
            [
             0.1111111111111111,
             "#46039f"
            ],
            [
             0.2222222222222222,
             "#7201a8"
            ],
            [
             0.3333333333333333,
             "#9c179e"
            ],
            [
             0.4444444444444444,
             "#bd3786"
            ],
            [
             0.5555555555555556,
             "#d8576b"
            ],
            [
             0.6666666666666666,
             "#ed7953"
            ],
            [
             0.7777777777777778,
             "#fb9f3a"
            ],
            [
             0.8888888888888888,
             "#fdca26"
            ],
            [
             1,
             "#f0f921"
            ]
           ],
           "sequentialminus": [
            [
             0,
             "#0d0887"
            ],
            [
             0.1111111111111111,
             "#46039f"
            ],
            [
             0.2222222222222222,
             "#7201a8"
            ],
            [
             0.3333333333333333,
             "#9c179e"
            ],
            [
             0.4444444444444444,
             "#bd3786"
            ],
            [
             0.5555555555555556,
             "#d8576b"
            ],
            [
             0.6666666666666666,
             "#ed7953"
            ],
            [
             0.7777777777777778,
             "#fb9f3a"
            ],
            [
             0.8888888888888888,
             "#fdca26"
            ],
            [
             1,
             "#f0f921"
            ]
           ]
          },
          "colorway": [
           "#636efa",
           "#EF553B",
           "#00cc96",
           "#ab63fa",
           "#FFA15A",
           "#19d3f3",
           "#FF6692",
           "#B6E880",
           "#FF97FF",
           "#FECB52"
          ],
          "font": {
           "color": "#2a3f5f"
          },
          "geo": {
           "bgcolor": "white",
           "lakecolor": "white",
           "landcolor": "#E5ECF6",
           "showlakes": true,
           "showland": true,
           "subunitcolor": "white"
          },
          "hoverlabel": {
           "align": "left"
          },
          "hovermode": "closest",
          "mapbox": {
           "style": "light"
          },
          "paper_bgcolor": "white",
          "plot_bgcolor": "#E5ECF6",
          "polar": {
           "angularaxis": {
            "gridcolor": "white",
            "linecolor": "white",
            "ticks": ""
           },
           "bgcolor": "#E5ECF6",
           "radialaxis": {
            "gridcolor": "white",
            "linecolor": "white",
            "ticks": ""
           }
          },
          "scene": {
           "xaxis": {
            "backgroundcolor": "#E5ECF6",
            "gridcolor": "white",
            "gridwidth": 2,
            "linecolor": "white",
            "showbackground": true,
            "ticks": "",
            "zerolinecolor": "white"
           },
           "yaxis": {
            "backgroundcolor": "#E5ECF6",
            "gridcolor": "white",
            "gridwidth": 2,
            "linecolor": "white",
            "showbackground": true,
            "ticks": "",
            "zerolinecolor": "white"
           },
           "zaxis": {
            "backgroundcolor": "#E5ECF6",
            "gridcolor": "white",
            "gridwidth": 2,
            "linecolor": "white",
            "showbackground": true,
            "ticks": "",
            "zerolinecolor": "white"
           }
          },
          "shapedefaults": {
           "line": {
            "color": "#2a3f5f"
           }
          },
          "ternary": {
           "aaxis": {
            "gridcolor": "white",
            "linecolor": "white",
            "ticks": ""
           },
           "baxis": {
            "gridcolor": "white",
            "linecolor": "white",
            "ticks": ""
           },
           "bgcolor": "#E5ECF6",
           "caxis": {
            "gridcolor": "white",
            "linecolor": "white",
            "ticks": ""
           }
          },
          "title": {
           "x": 0.05
          },
          "xaxis": {
           "automargin": true,
           "gridcolor": "white",
           "linecolor": "white",
           "ticks": "",
           "title": {
            "standoff": 15
           },
           "zerolinecolor": "white",
           "zerolinewidth": 2
          },
          "yaxis": {
           "automargin": true,
           "gridcolor": "white",
           "linecolor": "white",
           "ticks": "",
           "title": {
            "standoff": 15
           },
           "zerolinecolor": "white",
           "zerolinewidth": 2
          }
         }
        },
        "title": {
         "text": "Disciplinas Credito Concedido"
        }
       }
      },
      "text/html": [
       "<div>\n",
       "        \n",
       "        \n",
       "            <div id=\"3cb399e8-079c-461d-b35d-8d26f3e02520\" class=\"plotly-graph-div\" style=\"height:525px; width:100%;\"></div>\n",
       "            <script type=\"text/javascript\">\n",
       "                require([\"plotly\"], function(Plotly) {\n",
       "                    window.PLOTLYENV=window.PLOTLYENV || {};\n",
       "                    \n",
       "                if (document.getElementById(\"3cb399e8-079c-461d-b35d-8d26f3e02520\")) {\n",
       "                    Plotly.newPlot(\n",
       "                        '3cb399e8-079c-461d-b35d-8d26f3e02520',\n",
       "                        [{\"domain\": {\"x\": [0.0, 1.0], \"y\": [0.0, 1.0]}, \"hovertemplate\": \"Disciplina=%{label}<extra></extra>\", \"labels\": [\"Intelig\\u00eancia Artificial 1                                             \", \"Sistemas Multiagentes                                                 \", \"Engenharia de Software 1                                              \", \"Engenharia de Software 2                                              \", \"T\\u00f3picos em Engenharia de Software                                     \", \"T\\u00f3picos em Fundamentos e M\\u00e9todos de Computa\\u00e7\\u00e3o                        \", \"T\\u00f3picos em Sistemas de Computa\\u00e7\\u00e3o                                     \", \"T\\u00f3picos em Fundamentos e M\\u00e9todos de Computa\\u00e7\\u00e3o                        \", \"T\\u00f3picos de Pesquisa em Inform\\u00e1tica                                    \", \"Intelig\\u00eancia Artificial 2                                             \", \"Sistemas Multiagentes                                                 \", \"T\\u00f3picos em Fundamentos e M\\u00e9todos de Computa\\u00e7\\u00e3o                        \", \"L\\u00f3gica Formal Aplicada                                                \", \"Processamento de Imagens Digitais                                     \", \"T\\u00f3picos em Sistemas de Computa\\u00e7\\u00e3o                                     \", \"T\\u00f3picos em Fundamentos e M\\u00e9todos de Computa\\u00e7\\u00e3o                        \", \"Teoria da Computa\\u00e7\\u00e3o                                                  \", \"Teoria da Computa\\u00e7\\u00e3o                                                  \", \"Fundamentos de Sistemas Computacionais                                \", \"Processamento de Imagens Digitais                                     \", \"Reconhecimento de Padr\\u00f5es                                             \", \"Teoria da Computa\\u00e7\\u00e3o                                                  \", \"Fundamentos de Sistemas Computacionais                                \", \"Processamento de Imagens Digitais                                     \", \"Reconhecimento de Padr\\u00f5es                                             \", \"Intelig\\u00eancia Artificial 2                                             \", \"Engenharia de Software 1                                              \", \"Sistemas Distribu\\u00eddos                                                 \", \"Teoria da Computa\\u00e7\\u00e3o                                                  \", \"Programa\\u00e7\\u00e3o Paralela                                                  \", \"Projeto e Complexidade de Algoritmos                                  \", \"T\\u00f3picos Avan\\u00e7ados em Sistemas de Computa\\u00e7\\u00e3o                           \", \"Intelig\\u00eancia Artificial 1                                             \", \"Engenharia de Software 1                                              \", \"Engenharia de Software 2                                              \", \"T\\u00f3picos em Engenharia de Software                                     \", \"T\\u00f3picos em Fundamentos e M\\u00e9todos de Computa\\u00e7\\u00e3o                        \", \"Projeto e Complexidade de Algoritmos                                  \", \"T\\u00f3picos em Fundamentos e M\\u00e9todos de Computa\\u00e7\\u00e3o                        \", \"Profici\\u00eancia em Ingl\\u00eas                                                \", \"Profici\\u00eancia em Ingl\\u00eas                                                \", \"Profici\\u00eancia em Ingl\\u00eas                                                \", \"Projeto e Complexidade de Algoritmos                                  \", \"Fundamentos de Computa\\u00e7\\u00e3o Gr\\u00e1fica e Visual                            \", \"Teoria da Computa\\u00e7\\u00e3o                                                  \", \"Programa\\u00e7\\u00e3o Paralela                                                  \", \"Projeto e Complexidade de Algoritmos                                  \", \"T\\u00f3picos em Fundamentos e M\\u00e9todos de Computa\\u00e7\\u00e3o                        \", \"T\\u00f3picos em Fundamentos e M\\u00e9todos de Computa\\u00e7\\u00e3o                        \", \"T\\u00f3picos em Sistemas de Computa\\u00e7\\u00e3o                                     \", \"Teoria da Computa\\u00e7\\u00e3o                                                  \", \"Fundamentos de Sistemas Computacionais                                \", \"Projeto e Complexidade de Algoritmos                                  \", \"T\\u00f3picos em Fundamentos e M\\u00e9todos de Computa\\u00e7\\u00e3o                        \", \"Intelig\\u00eancia Artificial 1                                             \", \"Teoria da Computa\\u00e7\\u00e3o                                                  \", \"Projeto e Complexidade de Algoritmos                                  \", \"T\\u00f3picos em Sistemas de Computa\\u00e7\\u00e3o                                     \", \"T\\u00f3picos em Sistemas de Computa\\u00e7\\u00e3o                                     \", \"T\\u00f3picos em Sistemas de Computa\\u00e7\\u00e3o                                     \", \"T\\u00f3picos em Fundamentos e M\\u00e9todos de Computa\\u00e7\\u00e3o                        \", \"T\\u00f3picos de Pesquisa em Inform\\u00e1tica                                    \", \"T\\u00f3picos Avan\\u00e7ados em Sistemas de Computa\\u00e7\\u00e3o                           \", \"Processamento Digital de Sinais                                       \", \"Teoria da Computa\\u00e7\\u00e3o                                                  \", \"Projeto e Complexidade de Algoritmos                                  \", \"Arquiteturas VLSI                                                     \", \"Processamento de Imagens                                              \", \"T\\u00f3picos Avan\\u00e7ados em Sistemas de Computa\\u00e7\\u00e3o                           \", \"Projeto e Complexidade de Algoritmos                                  \", \"T\\u00f3picos em Engenharia de Software                                     \", \"Teoria da Computa\\u00e7\\u00e3o                                                  \", \"Projeto e Complexidade de Algoritmos                                  \", \"T\\u00f3picos em Sistemas de Computa\\u00e7\\u00e3o                                     \", \"Projeto e Complexidade de Algoritmos                                  \", \"Projeto e Complexidade de Algor\\u00edtmos 2                                \", \"Teoria da Computa\\u00e7\\u00e3o                                                  \", \"Projeto e Complexidade de Algoritmos                                  \", \"Arquiteturas VLSI                                                     \", \"Processamento de Imagens                                              \", \"T\\u00f3picos Avan\\u00e7ados em Sistemas de Computa\\u00e7\\u00e3o                           \", \"Sistemas Distribu\\u00eddos                                                 \", \"T\\u00f3picos em Formalismos de Computa\\u00e7\\u00e3o                                  \", \"T\\u00f3picos em Fundamentos e M\\u00e9todos de Computa\\u00e7\\u00e3o                        \", \"T\\u00f3picos Avan\\u00e7ados em Sistemas de Computa\\u00e7\\u00e3o                           \", \"Intelig\\u00eancia Artificial 1                                             \", \"Teoria da Computa\\u00e7\\u00e3o                                                  \", \"T\\u00f3picos em Sistemas de Computa\\u00e7\\u00e3o                                     \", \"T\\u00f3picos em Fundamentos e M\\u00e9todos de Computa\\u00e7\\u00e3o                        \", \"T\\u00f3picos Avan\\u00e7ados em Sistemas de Computa\\u00e7\\u00e3o                           \", \"T\\u00f3picos em Banco de Dados                                             \", \"Intelig\\u00eancia Artificial 1                                             \", \"Intelig\\u00eancia Artificial 2                                             \", \"Teoria da Computa\\u00e7\\u00e3o                                                  \", \"Projeto e Complexidade de Algoritmos                                  \", \"Processamento de Imagens                                              \", \"Processamento de Imagens                                              \", \"T\\u00f3picos em Fundamentos e M\\u00e9todos de Computa\\u00e7\\u00e3o                        \", \"T\\u00f3picos de Pesquisa em Inform\\u00e1tica                                    \", \"T\\u00f3picos Avan\\u00e7ados em Sistemas de Computa\\u00e7\\u00e3o                           \", \"T\\u00f3picos em Sistemas de Computa\\u00e7\\u00e3o                                     \", \"Profici\\u00eancia em Ingl\\u00eas                                                \"], \"legendgroup\": \"\", \"name\": \"\", \"showlegend\": true, \"type\": \"pie\"}],\n",
       "                        {\"legend\": {\"tracegroupgap\": 0}, \"template\": {\"data\": {\"bar\": [{\"error_x\": {\"color\": \"#2a3f5f\"}, \"error_y\": {\"color\": \"#2a3f5f\"}, \"marker\": {\"line\": {\"color\": \"#E5ECF6\", \"width\": 0.5}}, \"type\": \"bar\"}], \"barpolar\": [{\"marker\": {\"line\": {\"color\": \"#E5ECF6\", \"width\": 0.5}}, \"type\": \"barpolar\"}], \"carpet\": [{\"aaxis\": {\"endlinecolor\": \"#2a3f5f\", \"gridcolor\": \"white\", \"linecolor\": \"white\", \"minorgridcolor\": \"white\", \"startlinecolor\": \"#2a3f5f\"}, \"baxis\": {\"endlinecolor\": \"#2a3f5f\", \"gridcolor\": \"white\", \"linecolor\": \"white\", \"minorgridcolor\": \"white\", \"startlinecolor\": \"#2a3f5f\"}, \"type\": \"carpet\"}], \"choropleth\": [{\"colorbar\": {\"outlinewidth\": 0, \"ticks\": \"\"}, \"type\": \"choropleth\"}], \"contour\": [{\"colorbar\": {\"outlinewidth\": 0, \"ticks\": \"\"}, \"colorscale\": [[0.0, \"#0d0887\"], [0.1111111111111111, \"#46039f\"], [0.2222222222222222, \"#7201a8\"], [0.3333333333333333, \"#9c179e\"], [0.4444444444444444, \"#bd3786\"], [0.5555555555555556, \"#d8576b\"], [0.6666666666666666, \"#ed7953\"], [0.7777777777777778, \"#fb9f3a\"], [0.8888888888888888, \"#fdca26\"], [1.0, \"#f0f921\"]], \"type\": \"contour\"}], \"contourcarpet\": [{\"colorbar\": {\"outlinewidth\": 0, \"ticks\": \"\"}, \"type\": \"contourcarpet\"}], \"heatmap\": [{\"colorbar\": {\"outlinewidth\": 0, \"ticks\": \"\"}, \"colorscale\": [[0.0, \"#0d0887\"], [0.1111111111111111, \"#46039f\"], [0.2222222222222222, \"#7201a8\"], [0.3333333333333333, \"#9c179e\"], [0.4444444444444444, \"#bd3786\"], [0.5555555555555556, \"#d8576b\"], [0.6666666666666666, \"#ed7953\"], [0.7777777777777778, \"#fb9f3a\"], [0.8888888888888888, \"#fdca26\"], [1.0, \"#f0f921\"]], \"type\": \"heatmap\"}], \"heatmapgl\": [{\"colorbar\": {\"outlinewidth\": 0, \"ticks\": \"\"}, \"colorscale\": [[0.0, \"#0d0887\"], [0.1111111111111111, \"#46039f\"], [0.2222222222222222, \"#7201a8\"], [0.3333333333333333, \"#9c179e\"], [0.4444444444444444, \"#bd3786\"], [0.5555555555555556, \"#d8576b\"], [0.6666666666666666, \"#ed7953\"], [0.7777777777777778, \"#fb9f3a\"], [0.8888888888888888, \"#fdca26\"], [1.0, \"#f0f921\"]], \"type\": \"heatmapgl\"}], \"histogram\": [{\"marker\": {\"colorbar\": {\"outlinewidth\": 0, \"ticks\": \"\"}}, \"type\": \"histogram\"}], \"histogram2d\": [{\"colorbar\": {\"outlinewidth\": 0, \"ticks\": \"\"}, \"colorscale\": [[0.0, \"#0d0887\"], [0.1111111111111111, \"#46039f\"], [0.2222222222222222, \"#7201a8\"], [0.3333333333333333, \"#9c179e\"], [0.4444444444444444, \"#bd3786\"], [0.5555555555555556, \"#d8576b\"], [0.6666666666666666, \"#ed7953\"], [0.7777777777777778, \"#fb9f3a\"], [0.8888888888888888, \"#fdca26\"], [1.0, \"#f0f921\"]], \"type\": \"histogram2d\"}], \"histogram2dcontour\": [{\"colorbar\": {\"outlinewidth\": 0, \"ticks\": \"\"}, \"colorscale\": [[0.0, \"#0d0887\"], [0.1111111111111111, \"#46039f\"], [0.2222222222222222, \"#7201a8\"], [0.3333333333333333, \"#9c179e\"], [0.4444444444444444, \"#bd3786\"], [0.5555555555555556, \"#d8576b\"], [0.6666666666666666, \"#ed7953\"], [0.7777777777777778, \"#fb9f3a\"], [0.8888888888888888, \"#fdca26\"], [1.0, \"#f0f921\"]], \"type\": \"histogram2dcontour\"}], \"mesh3d\": [{\"colorbar\": {\"outlinewidth\": 0, \"ticks\": \"\"}, \"type\": \"mesh3d\"}], \"parcoords\": [{\"line\": {\"colorbar\": {\"outlinewidth\": 0, \"ticks\": \"\"}}, \"type\": \"parcoords\"}], \"pie\": [{\"automargin\": true, \"type\": \"pie\"}], \"scatter\": [{\"marker\": {\"colorbar\": {\"outlinewidth\": 0, \"ticks\": \"\"}}, \"type\": \"scatter\"}], \"scatter3d\": [{\"line\": {\"colorbar\": {\"outlinewidth\": 0, \"ticks\": \"\"}}, \"marker\": {\"colorbar\": {\"outlinewidth\": 0, \"ticks\": \"\"}}, \"type\": \"scatter3d\"}], \"scattercarpet\": [{\"marker\": {\"colorbar\": {\"outlinewidth\": 0, \"ticks\": \"\"}}, \"type\": \"scattercarpet\"}], \"scattergeo\": [{\"marker\": {\"colorbar\": {\"outlinewidth\": 0, \"ticks\": \"\"}}, \"type\": \"scattergeo\"}], \"scattergl\": [{\"marker\": {\"colorbar\": {\"outlinewidth\": 0, \"ticks\": \"\"}}, \"type\": \"scattergl\"}], \"scattermapbox\": [{\"marker\": {\"colorbar\": {\"outlinewidth\": 0, \"ticks\": \"\"}}, \"type\": \"scattermapbox\"}], \"scatterpolar\": [{\"marker\": {\"colorbar\": {\"outlinewidth\": 0, \"ticks\": \"\"}}, \"type\": \"scatterpolar\"}], \"scatterpolargl\": [{\"marker\": {\"colorbar\": {\"outlinewidth\": 0, \"ticks\": \"\"}}, \"type\": \"scatterpolargl\"}], \"scatterternary\": [{\"marker\": {\"colorbar\": {\"outlinewidth\": 0, \"ticks\": \"\"}}, \"type\": \"scatterternary\"}], \"surface\": [{\"colorbar\": {\"outlinewidth\": 0, \"ticks\": \"\"}, \"colorscale\": [[0.0, \"#0d0887\"], [0.1111111111111111, \"#46039f\"], [0.2222222222222222, \"#7201a8\"], [0.3333333333333333, \"#9c179e\"], [0.4444444444444444, \"#bd3786\"], [0.5555555555555556, \"#d8576b\"], [0.6666666666666666, \"#ed7953\"], [0.7777777777777778, \"#fb9f3a\"], [0.8888888888888888, \"#fdca26\"], [1.0, \"#f0f921\"]], \"type\": \"surface\"}], \"table\": [{\"cells\": {\"fill\": {\"color\": \"#EBF0F8\"}, \"line\": {\"color\": \"white\"}}, \"header\": {\"fill\": {\"color\": \"#C8D4E3\"}, \"line\": {\"color\": \"white\"}}, \"type\": \"table\"}]}, \"layout\": {\"annotationdefaults\": {\"arrowcolor\": \"#2a3f5f\", \"arrowhead\": 0, \"arrowwidth\": 1}, \"coloraxis\": {\"colorbar\": {\"outlinewidth\": 0, \"ticks\": \"\"}}, \"colorscale\": {\"diverging\": [[0, \"#8e0152\"], [0.1, \"#c51b7d\"], [0.2, \"#de77ae\"], [0.3, \"#f1b6da\"], [0.4, \"#fde0ef\"], [0.5, \"#f7f7f7\"], [0.6, \"#e6f5d0\"], [0.7, \"#b8e186\"], [0.8, \"#7fbc41\"], [0.9, \"#4d9221\"], [1, \"#276419\"]], \"sequential\": [[0.0, \"#0d0887\"], [0.1111111111111111, \"#46039f\"], [0.2222222222222222, \"#7201a8\"], [0.3333333333333333, \"#9c179e\"], [0.4444444444444444, \"#bd3786\"], [0.5555555555555556, \"#d8576b\"], [0.6666666666666666, \"#ed7953\"], [0.7777777777777778, \"#fb9f3a\"], [0.8888888888888888, \"#fdca26\"], [1.0, \"#f0f921\"]], \"sequentialminus\": [[0.0, \"#0d0887\"], [0.1111111111111111, \"#46039f\"], [0.2222222222222222, \"#7201a8\"], [0.3333333333333333, \"#9c179e\"], [0.4444444444444444, \"#bd3786\"], [0.5555555555555556, \"#d8576b\"], [0.6666666666666666, \"#ed7953\"], [0.7777777777777778, \"#fb9f3a\"], [0.8888888888888888, \"#fdca26\"], [1.0, \"#f0f921\"]]}, \"colorway\": [\"#636efa\", \"#EF553B\", \"#00cc96\", \"#ab63fa\", \"#FFA15A\", \"#19d3f3\", \"#FF6692\", \"#B6E880\", \"#FF97FF\", \"#FECB52\"], \"font\": {\"color\": \"#2a3f5f\"}, \"geo\": {\"bgcolor\": \"white\", \"lakecolor\": \"white\", \"landcolor\": \"#E5ECF6\", \"showlakes\": true, \"showland\": true, \"subunitcolor\": \"white\"}, \"hoverlabel\": {\"align\": \"left\"}, \"hovermode\": \"closest\", \"mapbox\": {\"style\": \"light\"}, \"paper_bgcolor\": \"white\", \"plot_bgcolor\": \"#E5ECF6\", \"polar\": {\"angularaxis\": {\"gridcolor\": \"white\", \"linecolor\": \"white\", \"ticks\": \"\"}, \"bgcolor\": \"#E5ECF6\", \"radialaxis\": {\"gridcolor\": \"white\", \"linecolor\": \"white\", \"ticks\": \"\"}}, \"scene\": {\"xaxis\": {\"backgroundcolor\": \"#E5ECF6\", \"gridcolor\": \"white\", \"gridwidth\": 2, \"linecolor\": \"white\", \"showbackground\": true, \"ticks\": \"\", \"zerolinecolor\": \"white\"}, \"yaxis\": {\"backgroundcolor\": \"#E5ECF6\", \"gridcolor\": \"white\", \"gridwidth\": 2, \"linecolor\": \"white\", \"showbackground\": true, \"ticks\": \"\", \"zerolinecolor\": \"white\"}, \"zaxis\": {\"backgroundcolor\": \"#E5ECF6\", \"gridcolor\": \"white\", \"gridwidth\": 2, \"linecolor\": \"white\", \"showbackground\": true, \"ticks\": \"\", \"zerolinecolor\": \"white\"}}, \"shapedefaults\": {\"line\": {\"color\": \"#2a3f5f\"}}, \"ternary\": {\"aaxis\": {\"gridcolor\": \"white\", \"linecolor\": \"white\", \"ticks\": \"\"}, \"baxis\": {\"gridcolor\": \"white\", \"linecolor\": \"white\", \"ticks\": \"\"}, \"bgcolor\": \"#E5ECF6\", \"caxis\": {\"gridcolor\": \"white\", \"linecolor\": \"white\", \"ticks\": \"\"}}, \"title\": {\"x\": 0.05}, \"xaxis\": {\"automargin\": true, \"gridcolor\": \"white\", \"linecolor\": \"white\", \"ticks\": \"\", \"title\": {\"standoff\": 15}, \"zerolinecolor\": \"white\", \"zerolinewidth\": 2}, \"yaxis\": {\"automargin\": true, \"gridcolor\": \"white\", \"linecolor\": \"white\", \"ticks\": \"\", \"title\": {\"standoff\": 15}, \"zerolinecolor\": \"white\", \"zerolinewidth\": 2}}}, \"title\": {\"text\": \"Disciplinas Credito Concedido\"}},\n",
       "                        {\"responsive\": true}\n",
       "                    ).then(function(){\n",
       "                            \n",
       "var gd = document.getElementById('3cb399e8-079c-461d-b35d-8d26f3e02520');\n",
       "var x = new MutationObserver(function (mutations, observer) {{\n",
       "        var display = window.getComputedStyle(gd).display;\n",
       "        if (!display || display === 'none') {{\n",
       "            console.log([gd, 'removed!']);\n",
       "            Plotly.purge(gd);\n",
       "            observer.disconnect();\n",
       "        }}\n",
       "}});\n",
       "\n",
       "// Listen for the removal of the full notebook cells\n",
       "var notebookContainer = gd.closest('#notebook-container');\n",
       "if (notebookContainer) {{\n",
       "    x.observe(notebookContainer, {childList: true});\n",
       "}}\n",
       "\n",
       "// Listen for the clearing of the current output cell\n",
       "var outputEl = gd.closest('.output');\n",
       "if (outputEl) {{\n",
       "    x.observe(outputEl, {childList: true});\n",
       "}}\n",
       "\n",
       "                        })\n",
       "                };\n",
       "                });\n",
       "            </script>\n",
       "        </div>"
      ]
     },
     "metadata": {},
     "output_type": "display_data"
    }
   ],
   "source": [
    "dfcc = df[df.Menção == 'CC']\n",
    "\n",
    "fig = px.pie(dfcc, names='Disciplina', title='Disciplinas Credito Concedido')\n",
    "fig.show()"
   ]
  },
  {
   "cell_type": "markdown",
   "metadata": {},
   "source": [
    "## Análise das matrículas resultantes em reprovações, desistências e trancamentos"
   ]
  },
  {
   "cell_type": "code",
   "execution_count": 38,
   "metadata": {},
   "outputs": [
    {
     "data": {
      "application/vnd.plotly.v1+json": {
       "config": {
        "plotlyServerURL": "https://plot.ly"
       },
       "data": [
        {
         "domain": {
          "x": [
           0,
           1
          ],
          "y": [
           0,
           1
          ]
         },
         "hovertemplate": "Disciplina=%{label}<extra></extra>",
         "labels": [
          "Fundamentos de Sistemas Computacionais                                ",
          "Estágio de Docência no Ensino de Graduação em Ciência da Computação   ",
          "Redes de Computadores                                                 ",
          "Teoria da Computação                                                  ",
          "Teoria dos Jogos                                                      ",
          "Teoria dos Jogos                                                      ",
          "Fundamentos de Sistemas Computacionais                                ",
          "Fundamentos de Sistemas Computacionais                                ",
          "Tópicos em Fundamentos e Métodos de Computação                        ",
          "Projeto e Complexidade de Algoritmos                                  ",
          "Sistemas Multiagentes                                                 ",
          "Programação Paralela                                                  ",
          "Seminário                                                             ",
          "Teoria da Computação                                                  ",
          "Fundamentos de Sistemas Computacionais                                ",
          "Sistemas Multiagentes                                                 ",
          "Tópicos em Fundamentos e Métodos de Computação                        ",
          "Fundamentos de Sistemas Computacionais                                ",
          "Projeto e Complexidade de Algoritmos                                  ",
          "Inteligência Artificial 1                                             ",
          "Projeto e Complexidade de Algoritmos                                  ",
          "Fundamentos de Sistemas Computacionais                                ",
          "Projeto e Complexidade de Algoritmos                                  ",
          "Projeto e Complexidade de Algoritmos                                  ",
          "Sistemas Distribuídos                                                 ",
          "Trabalho Individual em Sistemas de Computação                         ",
          "Teoria da Computação                                                  ",
          "Teoria da Computação                                                  ",
          "Tópicos em Sistemas de Computação                                     ",
          "Projeto e Complexidade de Algoritmos                                  ",
          "Processos Estocásticos                                                ",
          "Fundamentos de Sistemas Computacionais                                ",
          "Teoria da Computação                                                  ",
          "Teoria da Computação                                                  "
         ],
         "legendgroup": "",
         "name": "",
         "showlegend": true,
         "type": "pie"
        }
       ],
       "layout": {
        "legend": {
         "tracegroupgap": 0
        },
        "template": {
         "data": {
          "bar": [
           {
            "error_x": {
             "color": "#2a3f5f"
            },
            "error_y": {
             "color": "#2a3f5f"
            },
            "marker": {
             "line": {
              "color": "#E5ECF6",
              "width": 0.5
             }
            },
            "type": "bar"
           }
          ],
          "barpolar": [
           {
            "marker": {
             "line": {
              "color": "#E5ECF6",
              "width": 0.5
             }
            },
            "type": "barpolar"
           }
          ],
          "carpet": [
           {
            "aaxis": {
             "endlinecolor": "#2a3f5f",
             "gridcolor": "white",
             "linecolor": "white",
             "minorgridcolor": "white",
             "startlinecolor": "#2a3f5f"
            },
            "baxis": {
             "endlinecolor": "#2a3f5f",
             "gridcolor": "white",
             "linecolor": "white",
             "minorgridcolor": "white",
             "startlinecolor": "#2a3f5f"
            },
            "type": "carpet"
           }
          ],
          "choropleth": [
           {
            "colorbar": {
             "outlinewidth": 0,
             "ticks": ""
            },
            "type": "choropleth"
           }
          ],
          "contour": [
           {
            "colorbar": {
             "outlinewidth": 0,
             "ticks": ""
            },
            "colorscale": [
             [
              0,
              "#0d0887"
             ],
             [
              0.1111111111111111,
              "#46039f"
             ],
             [
              0.2222222222222222,
              "#7201a8"
             ],
             [
              0.3333333333333333,
              "#9c179e"
             ],
             [
              0.4444444444444444,
              "#bd3786"
             ],
             [
              0.5555555555555556,
              "#d8576b"
             ],
             [
              0.6666666666666666,
              "#ed7953"
             ],
             [
              0.7777777777777778,
              "#fb9f3a"
             ],
             [
              0.8888888888888888,
              "#fdca26"
             ],
             [
              1,
              "#f0f921"
             ]
            ],
            "type": "contour"
           }
          ],
          "contourcarpet": [
           {
            "colorbar": {
             "outlinewidth": 0,
             "ticks": ""
            },
            "type": "contourcarpet"
           }
          ],
          "heatmap": [
           {
            "colorbar": {
             "outlinewidth": 0,
             "ticks": ""
            },
            "colorscale": [
             [
              0,
              "#0d0887"
             ],
             [
              0.1111111111111111,
              "#46039f"
             ],
             [
              0.2222222222222222,
              "#7201a8"
             ],
             [
              0.3333333333333333,
              "#9c179e"
             ],
             [
              0.4444444444444444,
              "#bd3786"
             ],
             [
              0.5555555555555556,
              "#d8576b"
             ],
             [
              0.6666666666666666,
              "#ed7953"
             ],
             [
              0.7777777777777778,
              "#fb9f3a"
             ],
             [
              0.8888888888888888,
              "#fdca26"
             ],
             [
              1,
              "#f0f921"
             ]
            ],
            "type": "heatmap"
           }
          ],
          "heatmapgl": [
           {
            "colorbar": {
             "outlinewidth": 0,
             "ticks": ""
            },
            "colorscale": [
             [
              0,
              "#0d0887"
             ],
             [
              0.1111111111111111,
              "#46039f"
             ],
             [
              0.2222222222222222,
              "#7201a8"
             ],
             [
              0.3333333333333333,
              "#9c179e"
             ],
             [
              0.4444444444444444,
              "#bd3786"
             ],
             [
              0.5555555555555556,
              "#d8576b"
             ],
             [
              0.6666666666666666,
              "#ed7953"
             ],
             [
              0.7777777777777778,
              "#fb9f3a"
             ],
             [
              0.8888888888888888,
              "#fdca26"
             ],
             [
              1,
              "#f0f921"
             ]
            ],
            "type": "heatmapgl"
           }
          ],
          "histogram": [
           {
            "marker": {
             "colorbar": {
              "outlinewidth": 0,
              "ticks": ""
             }
            },
            "type": "histogram"
           }
          ],
          "histogram2d": [
           {
            "colorbar": {
             "outlinewidth": 0,
             "ticks": ""
            },
            "colorscale": [
             [
              0,
              "#0d0887"
             ],
             [
              0.1111111111111111,
              "#46039f"
             ],
             [
              0.2222222222222222,
              "#7201a8"
             ],
             [
              0.3333333333333333,
              "#9c179e"
             ],
             [
              0.4444444444444444,
              "#bd3786"
             ],
             [
              0.5555555555555556,
              "#d8576b"
             ],
             [
              0.6666666666666666,
              "#ed7953"
             ],
             [
              0.7777777777777778,
              "#fb9f3a"
             ],
             [
              0.8888888888888888,
              "#fdca26"
             ],
             [
              1,
              "#f0f921"
             ]
            ],
            "type": "histogram2d"
           }
          ],
          "histogram2dcontour": [
           {
            "colorbar": {
             "outlinewidth": 0,
             "ticks": ""
            },
            "colorscale": [
             [
              0,
              "#0d0887"
             ],
             [
              0.1111111111111111,
              "#46039f"
             ],
             [
              0.2222222222222222,
              "#7201a8"
             ],
             [
              0.3333333333333333,
              "#9c179e"
             ],
             [
              0.4444444444444444,
              "#bd3786"
             ],
             [
              0.5555555555555556,
              "#d8576b"
             ],
             [
              0.6666666666666666,
              "#ed7953"
             ],
             [
              0.7777777777777778,
              "#fb9f3a"
             ],
             [
              0.8888888888888888,
              "#fdca26"
             ],
             [
              1,
              "#f0f921"
             ]
            ],
            "type": "histogram2dcontour"
           }
          ],
          "mesh3d": [
           {
            "colorbar": {
             "outlinewidth": 0,
             "ticks": ""
            },
            "type": "mesh3d"
           }
          ],
          "parcoords": [
           {
            "line": {
             "colorbar": {
              "outlinewidth": 0,
              "ticks": ""
             }
            },
            "type": "parcoords"
           }
          ],
          "pie": [
           {
            "automargin": true,
            "type": "pie"
           }
          ],
          "scatter": [
           {
            "marker": {
             "colorbar": {
              "outlinewidth": 0,
              "ticks": ""
             }
            },
            "type": "scatter"
           }
          ],
          "scatter3d": [
           {
            "line": {
             "colorbar": {
              "outlinewidth": 0,
              "ticks": ""
             }
            },
            "marker": {
             "colorbar": {
              "outlinewidth": 0,
              "ticks": ""
             }
            },
            "type": "scatter3d"
           }
          ],
          "scattercarpet": [
           {
            "marker": {
             "colorbar": {
              "outlinewidth": 0,
              "ticks": ""
             }
            },
            "type": "scattercarpet"
           }
          ],
          "scattergeo": [
           {
            "marker": {
             "colorbar": {
              "outlinewidth": 0,
              "ticks": ""
             }
            },
            "type": "scattergeo"
           }
          ],
          "scattergl": [
           {
            "marker": {
             "colorbar": {
              "outlinewidth": 0,
              "ticks": ""
             }
            },
            "type": "scattergl"
           }
          ],
          "scattermapbox": [
           {
            "marker": {
             "colorbar": {
              "outlinewidth": 0,
              "ticks": ""
             }
            },
            "type": "scattermapbox"
           }
          ],
          "scatterpolar": [
           {
            "marker": {
             "colorbar": {
              "outlinewidth": 0,
              "ticks": ""
             }
            },
            "type": "scatterpolar"
           }
          ],
          "scatterpolargl": [
           {
            "marker": {
             "colorbar": {
              "outlinewidth": 0,
              "ticks": ""
             }
            },
            "type": "scatterpolargl"
           }
          ],
          "scatterternary": [
           {
            "marker": {
             "colorbar": {
              "outlinewidth": 0,
              "ticks": ""
             }
            },
            "type": "scatterternary"
           }
          ],
          "surface": [
           {
            "colorbar": {
             "outlinewidth": 0,
             "ticks": ""
            },
            "colorscale": [
             [
              0,
              "#0d0887"
             ],
             [
              0.1111111111111111,
              "#46039f"
             ],
             [
              0.2222222222222222,
              "#7201a8"
             ],
             [
              0.3333333333333333,
              "#9c179e"
             ],
             [
              0.4444444444444444,
              "#bd3786"
             ],
             [
              0.5555555555555556,
              "#d8576b"
             ],
             [
              0.6666666666666666,
              "#ed7953"
             ],
             [
              0.7777777777777778,
              "#fb9f3a"
             ],
             [
              0.8888888888888888,
              "#fdca26"
             ],
             [
              1,
              "#f0f921"
             ]
            ],
            "type": "surface"
           }
          ],
          "table": [
           {
            "cells": {
             "fill": {
              "color": "#EBF0F8"
             },
             "line": {
              "color": "white"
             }
            },
            "header": {
             "fill": {
              "color": "#C8D4E3"
             },
             "line": {
              "color": "white"
             }
            },
            "type": "table"
           }
          ]
         },
         "layout": {
          "annotationdefaults": {
           "arrowcolor": "#2a3f5f",
           "arrowhead": 0,
           "arrowwidth": 1
          },
          "coloraxis": {
           "colorbar": {
            "outlinewidth": 0,
            "ticks": ""
           }
          },
          "colorscale": {
           "diverging": [
            [
             0,
             "#8e0152"
            ],
            [
             0.1,
             "#c51b7d"
            ],
            [
             0.2,
             "#de77ae"
            ],
            [
             0.3,
             "#f1b6da"
            ],
            [
             0.4,
             "#fde0ef"
            ],
            [
             0.5,
             "#f7f7f7"
            ],
            [
             0.6,
             "#e6f5d0"
            ],
            [
             0.7,
             "#b8e186"
            ],
            [
             0.8,
             "#7fbc41"
            ],
            [
             0.9,
             "#4d9221"
            ],
            [
             1,
             "#276419"
            ]
           ],
           "sequential": [
            [
             0,
             "#0d0887"
            ],
            [
             0.1111111111111111,
             "#46039f"
            ],
            [
             0.2222222222222222,
             "#7201a8"
            ],
            [
             0.3333333333333333,
             "#9c179e"
            ],
            [
             0.4444444444444444,
             "#bd3786"
            ],
            [
             0.5555555555555556,
             "#d8576b"
            ],
            [
             0.6666666666666666,
             "#ed7953"
            ],
            [
             0.7777777777777778,
             "#fb9f3a"
            ],
            [
             0.8888888888888888,
             "#fdca26"
            ],
            [
             1,
             "#f0f921"
            ]
           ],
           "sequentialminus": [
            [
             0,
             "#0d0887"
            ],
            [
             0.1111111111111111,
             "#46039f"
            ],
            [
             0.2222222222222222,
             "#7201a8"
            ],
            [
             0.3333333333333333,
             "#9c179e"
            ],
            [
             0.4444444444444444,
             "#bd3786"
            ],
            [
             0.5555555555555556,
             "#d8576b"
            ],
            [
             0.6666666666666666,
             "#ed7953"
            ],
            [
             0.7777777777777778,
             "#fb9f3a"
            ],
            [
             0.8888888888888888,
             "#fdca26"
            ],
            [
             1,
             "#f0f921"
            ]
           ]
          },
          "colorway": [
           "#636efa",
           "#EF553B",
           "#00cc96",
           "#ab63fa",
           "#FFA15A",
           "#19d3f3",
           "#FF6692",
           "#B6E880",
           "#FF97FF",
           "#FECB52"
          ],
          "font": {
           "color": "#2a3f5f"
          },
          "geo": {
           "bgcolor": "white",
           "lakecolor": "white",
           "landcolor": "#E5ECF6",
           "showlakes": true,
           "showland": true,
           "subunitcolor": "white"
          },
          "hoverlabel": {
           "align": "left"
          },
          "hovermode": "closest",
          "mapbox": {
           "style": "light"
          },
          "paper_bgcolor": "white",
          "plot_bgcolor": "#E5ECF6",
          "polar": {
           "angularaxis": {
            "gridcolor": "white",
            "linecolor": "white",
            "ticks": ""
           },
           "bgcolor": "#E5ECF6",
           "radialaxis": {
            "gridcolor": "white",
            "linecolor": "white",
            "ticks": ""
           }
          },
          "scene": {
           "xaxis": {
            "backgroundcolor": "#E5ECF6",
            "gridcolor": "white",
            "gridwidth": 2,
            "linecolor": "white",
            "showbackground": true,
            "ticks": "",
            "zerolinecolor": "white"
           },
           "yaxis": {
            "backgroundcolor": "#E5ECF6",
            "gridcolor": "white",
            "gridwidth": 2,
            "linecolor": "white",
            "showbackground": true,
            "ticks": "",
            "zerolinecolor": "white"
           },
           "zaxis": {
            "backgroundcolor": "#E5ECF6",
            "gridcolor": "white",
            "gridwidth": 2,
            "linecolor": "white",
            "showbackground": true,
            "ticks": "",
            "zerolinecolor": "white"
           }
          },
          "shapedefaults": {
           "line": {
            "color": "#2a3f5f"
           }
          },
          "ternary": {
           "aaxis": {
            "gridcolor": "white",
            "linecolor": "white",
            "ticks": ""
           },
           "baxis": {
            "gridcolor": "white",
            "linecolor": "white",
            "ticks": ""
           },
           "bgcolor": "#E5ECF6",
           "caxis": {
            "gridcolor": "white",
            "linecolor": "white",
            "ticks": ""
           }
          },
          "title": {
           "x": 0.05
          },
          "xaxis": {
           "automargin": true,
           "gridcolor": "white",
           "linecolor": "white",
           "ticks": "",
           "title": {
            "standoff": 15
           },
           "zerolinecolor": "white",
           "zerolinewidth": 2
          },
          "yaxis": {
           "automargin": true,
           "gridcolor": "white",
           "linecolor": "white",
           "ticks": "",
           "title": {
            "standoff": 15
           },
           "zerolinecolor": "white",
           "zerolinewidth": 2
          }
         }
        },
        "title": {
         "text": "Disciplinas com maiores reprovacoes/desistencias/trancamentos"
        }
       }
      },
      "text/html": [
       "<div>\n",
       "        \n",
       "        \n",
       "            <div id=\"b89e12e8-117e-4fe1-8969-d1b23589c82f\" class=\"plotly-graph-div\" style=\"height:525px; width:100%;\"></div>\n",
       "            <script type=\"text/javascript\">\n",
       "                require([\"plotly\"], function(Plotly) {\n",
       "                    window.PLOTLYENV=window.PLOTLYENV || {};\n",
       "                    \n",
       "                if (document.getElementById(\"b89e12e8-117e-4fe1-8969-d1b23589c82f\")) {\n",
       "                    Plotly.newPlot(\n",
       "                        'b89e12e8-117e-4fe1-8969-d1b23589c82f',\n",
       "                        [{\"domain\": {\"x\": [0.0, 1.0], \"y\": [0.0, 1.0]}, \"hovertemplate\": \"Disciplina=%{label}<extra></extra>\", \"labels\": [\"Fundamentos de Sistemas Computacionais                                \", \"Est\\u00e1gio de Doc\\u00eancia no Ensino de Gradua\\u00e7\\u00e3o em Ci\\u00eancia da Computa\\u00e7\\u00e3o   \", \"Redes de Computadores                                                 \", \"Teoria da Computa\\u00e7\\u00e3o                                                  \", \"Teoria dos Jogos                                                      \", \"Teoria dos Jogos                                                      \", \"Fundamentos de Sistemas Computacionais                                \", \"Fundamentos de Sistemas Computacionais                                \", \"T\\u00f3picos em Fundamentos e M\\u00e9todos de Computa\\u00e7\\u00e3o                        \", \"Projeto e Complexidade de Algoritmos                                  \", \"Sistemas Multiagentes                                                 \", \"Programa\\u00e7\\u00e3o Paralela                                                  \", \"Semin\\u00e1rio                                                             \", \"Teoria da Computa\\u00e7\\u00e3o                                                  \", \"Fundamentos de Sistemas Computacionais                                \", \"Sistemas Multiagentes                                                 \", \"T\\u00f3picos em Fundamentos e M\\u00e9todos de Computa\\u00e7\\u00e3o                        \", \"Fundamentos de Sistemas Computacionais                                \", \"Projeto e Complexidade de Algoritmos                                  \", \"Intelig\\u00eancia Artificial 1                                             \", \"Projeto e Complexidade de Algoritmos                                  \", \"Fundamentos de Sistemas Computacionais                                \", \"Projeto e Complexidade de Algoritmos                                  \", \"Projeto e Complexidade de Algoritmos                                  \", \"Sistemas Distribu\\u00eddos                                                 \", \"Trabalho Individual em Sistemas de Computa\\u00e7\\u00e3o                         \", \"Teoria da Computa\\u00e7\\u00e3o                                                  \", \"Teoria da Computa\\u00e7\\u00e3o                                                  \", \"T\\u00f3picos em Sistemas de Computa\\u00e7\\u00e3o                                     \", \"Projeto e Complexidade de Algoritmos                                  \", \"Processos Estoc\\u00e1sticos                                                \", \"Fundamentos de Sistemas Computacionais                                \", \"Teoria da Computa\\u00e7\\u00e3o                                                  \", \"Teoria da Computa\\u00e7\\u00e3o                                                  \"], \"legendgroup\": \"\", \"name\": \"\", \"showlegend\": true, \"type\": \"pie\"}],\n",
       "                        {\"legend\": {\"tracegroupgap\": 0}, \"template\": {\"data\": {\"bar\": [{\"error_x\": {\"color\": \"#2a3f5f\"}, \"error_y\": {\"color\": \"#2a3f5f\"}, \"marker\": {\"line\": {\"color\": \"#E5ECF6\", \"width\": 0.5}}, \"type\": \"bar\"}], \"barpolar\": [{\"marker\": {\"line\": {\"color\": \"#E5ECF6\", \"width\": 0.5}}, \"type\": \"barpolar\"}], \"carpet\": [{\"aaxis\": {\"endlinecolor\": \"#2a3f5f\", \"gridcolor\": \"white\", \"linecolor\": \"white\", \"minorgridcolor\": \"white\", \"startlinecolor\": \"#2a3f5f\"}, \"baxis\": {\"endlinecolor\": \"#2a3f5f\", \"gridcolor\": \"white\", \"linecolor\": \"white\", \"minorgridcolor\": \"white\", \"startlinecolor\": \"#2a3f5f\"}, \"type\": \"carpet\"}], \"choropleth\": [{\"colorbar\": {\"outlinewidth\": 0, \"ticks\": \"\"}, \"type\": \"choropleth\"}], \"contour\": [{\"colorbar\": {\"outlinewidth\": 0, \"ticks\": \"\"}, \"colorscale\": [[0.0, \"#0d0887\"], [0.1111111111111111, \"#46039f\"], [0.2222222222222222, \"#7201a8\"], [0.3333333333333333, \"#9c179e\"], [0.4444444444444444, \"#bd3786\"], [0.5555555555555556, \"#d8576b\"], [0.6666666666666666, \"#ed7953\"], [0.7777777777777778, \"#fb9f3a\"], [0.8888888888888888, \"#fdca26\"], [1.0, \"#f0f921\"]], \"type\": \"contour\"}], \"contourcarpet\": [{\"colorbar\": {\"outlinewidth\": 0, \"ticks\": \"\"}, \"type\": \"contourcarpet\"}], \"heatmap\": [{\"colorbar\": {\"outlinewidth\": 0, \"ticks\": \"\"}, \"colorscale\": [[0.0, \"#0d0887\"], [0.1111111111111111, \"#46039f\"], [0.2222222222222222, \"#7201a8\"], [0.3333333333333333, \"#9c179e\"], [0.4444444444444444, \"#bd3786\"], [0.5555555555555556, \"#d8576b\"], [0.6666666666666666, \"#ed7953\"], [0.7777777777777778, \"#fb9f3a\"], [0.8888888888888888, \"#fdca26\"], [1.0, \"#f0f921\"]], \"type\": \"heatmap\"}], \"heatmapgl\": [{\"colorbar\": {\"outlinewidth\": 0, \"ticks\": \"\"}, \"colorscale\": [[0.0, \"#0d0887\"], [0.1111111111111111, \"#46039f\"], [0.2222222222222222, \"#7201a8\"], [0.3333333333333333, \"#9c179e\"], [0.4444444444444444, \"#bd3786\"], [0.5555555555555556, \"#d8576b\"], [0.6666666666666666, \"#ed7953\"], [0.7777777777777778, \"#fb9f3a\"], [0.8888888888888888, \"#fdca26\"], [1.0, \"#f0f921\"]], \"type\": \"heatmapgl\"}], \"histogram\": [{\"marker\": {\"colorbar\": {\"outlinewidth\": 0, \"ticks\": \"\"}}, \"type\": \"histogram\"}], \"histogram2d\": [{\"colorbar\": {\"outlinewidth\": 0, \"ticks\": \"\"}, \"colorscale\": [[0.0, \"#0d0887\"], [0.1111111111111111, \"#46039f\"], [0.2222222222222222, \"#7201a8\"], [0.3333333333333333, \"#9c179e\"], [0.4444444444444444, \"#bd3786\"], [0.5555555555555556, \"#d8576b\"], [0.6666666666666666, \"#ed7953\"], [0.7777777777777778, \"#fb9f3a\"], [0.8888888888888888, \"#fdca26\"], [1.0, \"#f0f921\"]], \"type\": \"histogram2d\"}], \"histogram2dcontour\": [{\"colorbar\": {\"outlinewidth\": 0, \"ticks\": \"\"}, \"colorscale\": [[0.0, \"#0d0887\"], [0.1111111111111111, \"#46039f\"], [0.2222222222222222, \"#7201a8\"], [0.3333333333333333, \"#9c179e\"], [0.4444444444444444, \"#bd3786\"], [0.5555555555555556, \"#d8576b\"], [0.6666666666666666, \"#ed7953\"], [0.7777777777777778, \"#fb9f3a\"], [0.8888888888888888, \"#fdca26\"], [1.0, \"#f0f921\"]], \"type\": \"histogram2dcontour\"}], \"mesh3d\": [{\"colorbar\": {\"outlinewidth\": 0, \"ticks\": \"\"}, \"type\": \"mesh3d\"}], \"parcoords\": [{\"line\": {\"colorbar\": {\"outlinewidth\": 0, \"ticks\": \"\"}}, \"type\": \"parcoords\"}], \"pie\": [{\"automargin\": true, \"type\": \"pie\"}], \"scatter\": [{\"marker\": {\"colorbar\": {\"outlinewidth\": 0, \"ticks\": \"\"}}, \"type\": \"scatter\"}], \"scatter3d\": [{\"line\": {\"colorbar\": {\"outlinewidth\": 0, \"ticks\": \"\"}}, \"marker\": {\"colorbar\": {\"outlinewidth\": 0, \"ticks\": \"\"}}, \"type\": \"scatter3d\"}], \"scattercarpet\": [{\"marker\": {\"colorbar\": {\"outlinewidth\": 0, \"ticks\": \"\"}}, \"type\": \"scattercarpet\"}], \"scattergeo\": [{\"marker\": {\"colorbar\": {\"outlinewidth\": 0, \"ticks\": \"\"}}, \"type\": \"scattergeo\"}], \"scattergl\": [{\"marker\": {\"colorbar\": {\"outlinewidth\": 0, \"ticks\": \"\"}}, \"type\": \"scattergl\"}], \"scattermapbox\": [{\"marker\": {\"colorbar\": {\"outlinewidth\": 0, \"ticks\": \"\"}}, \"type\": \"scattermapbox\"}], \"scatterpolar\": [{\"marker\": {\"colorbar\": {\"outlinewidth\": 0, \"ticks\": \"\"}}, \"type\": \"scatterpolar\"}], \"scatterpolargl\": [{\"marker\": {\"colorbar\": {\"outlinewidth\": 0, \"ticks\": \"\"}}, \"type\": \"scatterpolargl\"}], \"scatterternary\": [{\"marker\": {\"colorbar\": {\"outlinewidth\": 0, \"ticks\": \"\"}}, \"type\": \"scatterternary\"}], \"surface\": [{\"colorbar\": {\"outlinewidth\": 0, \"ticks\": \"\"}, \"colorscale\": [[0.0, \"#0d0887\"], [0.1111111111111111, \"#46039f\"], [0.2222222222222222, \"#7201a8\"], [0.3333333333333333, \"#9c179e\"], [0.4444444444444444, \"#bd3786\"], [0.5555555555555556, \"#d8576b\"], [0.6666666666666666, \"#ed7953\"], [0.7777777777777778, \"#fb9f3a\"], [0.8888888888888888, \"#fdca26\"], [1.0, \"#f0f921\"]], \"type\": \"surface\"}], \"table\": [{\"cells\": {\"fill\": {\"color\": \"#EBF0F8\"}, \"line\": {\"color\": \"white\"}}, \"header\": {\"fill\": {\"color\": \"#C8D4E3\"}, \"line\": {\"color\": \"white\"}}, \"type\": \"table\"}]}, \"layout\": {\"annotationdefaults\": {\"arrowcolor\": \"#2a3f5f\", \"arrowhead\": 0, \"arrowwidth\": 1}, \"coloraxis\": {\"colorbar\": {\"outlinewidth\": 0, \"ticks\": \"\"}}, \"colorscale\": {\"diverging\": [[0, \"#8e0152\"], [0.1, \"#c51b7d\"], [0.2, \"#de77ae\"], [0.3, \"#f1b6da\"], [0.4, \"#fde0ef\"], [0.5, \"#f7f7f7\"], [0.6, \"#e6f5d0\"], [0.7, \"#b8e186\"], [0.8, \"#7fbc41\"], [0.9, \"#4d9221\"], [1, \"#276419\"]], \"sequential\": [[0.0, \"#0d0887\"], [0.1111111111111111, \"#46039f\"], [0.2222222222222222, \"#7201a8\"], [0.3333333333333333, \"#9c179e\"], [0.4444444444444444, \"#bd3786\"], [0.5555555555555556, \"#d8576b\"], [0.6666666666666666, \"#ed7953\"], [0.7777777777777778, \"#fb9f3a\"], [0.8888888888888888, \"#fdca26\"], [1.0, \"#f0f921\"]], \"sequentialminus\": [[0.0, \"#0d0887\"], [0.1111111111111111, \"#46039f\"], [0.2222222222222222, \"#7201a8\"], [0.3333333333333333, \"#9c179e\"], [0.4444444444444444, \"#bd3786\"], [0.5555555555555556, \"#d8576b\"], [0.6666666666666666, \"#ed7953\"], [0.7777777777777778, \"#fb9f3a\"], [0.8888888888888888, \"#fdca26\"], [1.0, \"#f0f921\"]]}, \"colorway\": [\"#636efa\", \"#EF553B\", \"#00cc96\", \"#ab63fa\", \"#FFA15A\", \"#19d3f3\", \"#FF6692\", \"#B6E880\", \"#FF97FF\", \"#FECB52\"], \"font\": {\"color\": \"#2a3f5f\"}, \"geo\": {\"bgcolor\": \"white\", \"lakecolor\": \"white\", \"landcolor\": \"#E5ECF6\", \"showlakes\": true, \"showland\": true, \"subunitcolor\": \"white\"}, \"hoverlabel\": {\"align\": \"left\"}, \"hovermode\": \"closest\", \"mapbox\": {\"style\": \"light\"}, \"paper_bgcolor\": \"white\", \"plot_bgcolor\": \"#E5ECF6\", \"polar\": {\"angularaxis\": {\"gridcolor\": \"white\", \"linecolor\": \"white\", \"ticks\": \"\"}, \"bgcolor\": \"#E5ECF6\", \"radialaxis\": {\"gridcolor\": \"white\", \"linecolor\": \"white\", \"ticks\": \"\"}}, \"scene\": {\"xaxis\": {\"backgroundcolor\": \"#E5ECF6\", \"gridcolor\": \"white\", \"gridwidth\": 2, \"linecolor\": \"white\", \"showbackground\": true, \"ticks\": \"\", \"zerolinecolor\": \"white\"}, \"yaxis\": {\"backgroundcolor\": \"#E5ECF6\", \"gridcolor\": \"white\", \"gridwidth\": 2, \"linecolor\": \"white\", \"showbackground\": true, \"ticks\": \"\", \"zerolinecolor\": \"white\"}, \"zaxis\": {\"backgroundcolor\": \"#E5ECF6\", \"gridcolor\": \"white\", \"gridwidth\": 2, \"linecolor\": \"white\", \"showbackground\": true, \"ticks\": \"\", \"zerolinecolor\": \"white\"}}, \"shapedefaults\": {\"line\": {\"color\": \"#2a3f5f\"}}, \"ternary\": {\"aaxis\": {\"gridcolor\": \"white\", \"linecolor\": \"white\", \"ticks\": \"\"}, \"baxis\": {\"gridcolor\": \"white\", \"linecolor\": \"white\", \"ticks\": \"\"}, \"bgcolor\": \"#E5ECF6\", \"caxis\": {\"gridcolor\": \"white\", \"linecolor\": \"white\", \"ticks\": \"\"}}, \"title\": {\"x\": 0.05}, \"xaxis\": {\"automargin\": true, \"gridcolor\": \"white\", \"linecolor\": \"white\", \"ticks\": \"\", \"title\": {\"standoff\": 15}, \"zerolinecolor\": \"white\", \"zerolinewidth\": 2}, \"yaxis\": {\"automargin\": true, \"gridcolor\": \"white\", \"linecolor\": \"white\", \"ticks\": \"\", \"title\": {\"standoff\": 15}, \"zerolinecolor\": \"white\", \"zerolinewidth\": 2}}}, \"title\": {\"text\": \"Disciplinas com maiores reprovacoes/desistencias/trancamentos\"}},\n",
       "                        {\"responsive\": true}\n",
       "                    ).then(function(){\n",
       "                            \n",
       "var gd = document.getElementById('b89e12e8-117e-4fe1-8969-d1b23589c82f');\n",
       "var x = new MutationObserver(function (mutations, observer) {{\n",
       "        var display = window.getComputedStyle(gd).display;\n",
       "        if (!display || display === 'none') {{\n",
       "            console.log([gd, 'removed!']);\n",
       "            Plotly.purge(gd);\n",
       "            observer.disconnect();\n",
       "        }}\n",
       "}});\n",
       "\n",
       "// Listen for the removal of the full notebook cells\n",
       "var notebookContainer = gd.closest('#notebook-container');\n",
       "if (notebookContainer) {{\n",
       "    x.observe(notebookContainer, {childList: true});\n",
       "}}\n",
       "\n",
       "// Listen for the clearing of the current output cell\n",
       "var outputEl = gd.closest('.output');\n",
       "if (outputEl) {{\n",
       "    x.observe(outputEl, {childList: true});\n",
       "}}\n",
       "\n",
       "                        })\n",
       "                };\n",
       "                });\n",
       "            </script>\n",
       "        </div>"
      ]
     },
     "metadata": {},
     "output_type": "display_data"
    }
   ],
   "source": [
    "mi = df['Menção'] == \"MI\"\n",
    "\n",
    "ii = df['Menção'] == \"II\"\n",
    "\n",
    "sr = df['Menção'] == \"SR\"\n",
    "\n",
    "tr = df['Menção'] == \"TR\"\n",
    "\n",
    "dfrep = df[mi | ii | sr | tr]\n",
    "\n",
    "fig = px.pie(dfrep, names='Disciplina', title='Disciplinas com maiores reprovacoes/desistencias/trancamentos')\n",
    "fig.show()"
   ]
  },
  {
   "cell_type": "markdown",
   "metadata": {},
   "source": [
    "## Disciplinas com maior quantidade de matrículas não-aprovadas proporcionalmente ao número de matrículas"
   ]
  },
  {
   "cell_type": "code",
   "execution_count": 71,
   "metadata": {},
   "outputs": [
    {
     "name": "stdout",
     "output_type": "stream",
     "text": [
      "Disciplina\n",
      "Algoritmos e Estruturas de Dados                                           5\n",
      "Análise Estatística de Dados e Informações                                 3\n",
      "Apresentação de Grupos e Métodos Computacionais                            1\n",
      "Armazenamento e Gerenciamento de Informações                               1\n",
      "Arquitetura e Desenho de Software                                          3\n",
      "Arquiteturas VLSI                                                          5\n",
      "Banco de Dados Massivos                                                    1\n",
      "Construção de Software                                                     3\n",
      "Convergência de Redes                                                      1\n",
      "Criptografia                                                               4\n",
      "Criptografia e Segurança de Dados                                          4\n",
      "Delineamento e Análise de Experimentos                                     2\n",
      "Ecologia de Paisagens                                                      1\n",
      "Engenharia de Requisitos                                                   3\n",
      "Engenharia de Software 1                                                   2\n",
      "Engenharia de Software 2                                                   8\n",
      "Estudo Orientado em Instrumentação Biomédica 1                             1\n",
      "Estudo Orientado em Proc de Sinais Biomédicos e Imagens Médicas 1          1\n",
      "Estágio de Docência no Ensino de Graduação em Ciência da Computação       82\n",
      "Fundamentos de Banco de Dados                                              5\n",
      "Fundamentos de Sistema de Informações Geográficas                          1\n",
      "Fundamentos de Sistemas Computacionais                                    83\n",
      "Fundamentos em Pesquisa Operacional                                        1\n",
      "Geometria Diferencial                                                      1\n",
      "Gestão de Projetos de TI                                                   2\n",
      "Informação e Codificação                                                   1\n",
      "Instrumentação Eletromédica                                                1\n",
      "Inteligência Artificial 1                                                 29\n",
      "Inteligência Artificial 2                                                 32\n",
      "Introdução a Lógica Formal                                                 1\n",
      "Introdução aos Sistemas Inteligentes                                       1\n",
      "Introdução à Probabilidade e Aplicações                                    1\n",
      "Linguagens Declarativas                                                    6\n",
      "Linguagens Para Inteligencia Artificial                                    6\n",
      "Lógica Clássica e Extensões                                                1\n",
      "Lógica Formal e Computacional                                              8\n",
      "Medida e Integração                                                        1\n",
      "Mineração de Dados                                                         5\n",
      "Mineração de Dados Massivos                                                2\n",
      "Modelagem e Verificação de Sistemas Integrados em Silício                  2\n",
      "Modelos em Ecologia                                                        1\n",
      "Métodos Computacionais Intensivos para Mineração de Dados                  1\n",
      "Métodos Estatísticos 1                                                     2\n",
      "Noções Básicas de Seleção de Amostras                                      1\n",
      "Pesquisa em Infraestrutura de TI                                           1\n",
      "Polonês 1                                                                  1\n",
      "Processamento Digital de Sinais                                            3\n",
      "Processamento de Imagens                                                   3\n",
      "Processamento de Imagens Digitais                                          5\n",
      "Processamento de Sinais                                                    2\n",
      "Processos Estocásticos                                                     4\n",
      "Programação Paralela                                                      14\n",
      "Projeto de Equipamentos Médicos                                            1\n",
      "Projeto e Complexidade de Algoritmos                                      71\n",
      "Projeto e Complexidade de Algorítmos 2                                     3\n",
      "Redes de Acesso                                                            1\n",
      "Redes de Computadores                                                      2\n",
      "Seminário                                                                 84\n",
      "Seminário de Computação                                                    3\n",
      "Sistemas Digitais para Automação                                           2\n",
      "Sistemas Distribuídos                                                     31\n",
      "Sistemas Multiagentes                                                     21\n",
      "Sistemas Operacionais                                                      1\n",
      "Teoria da Computação                                                      69\n",
      "Teoria da Informação                                                       2\n",
      "Teoria de Grupos Finitos                                                   1\n",
      "Teoria de Grupos Finitos 1                                                 1\n",
      "Teoria de Prova                                                            3\n",
      "Teoria dos Grupos Finitos 2                                                1\n",
      "Teoria dos Jogos                                                           4\n",
      "Trabalho Individual em Fundamentos e Métodos de Computação                39\n",
      "Trabalho Individual em Sistemas de Computação                             35\n",
      "Treinamento e Desenvolvimento de Pessoal                                   1\n",
      "Tópicos Avançados em Engenharia de Software                                3\n",
      "Tópicos Avançados em Infraestrutura de TI                                  1\n",
      "Tópicos Avançados em Mineração de Dados                                    1\n",
      "Tópicos Avançados em Sistemas Mecatrônicos 1                               2\n",
      "Tópicos Avançados em Sistemas Mecatrônicos 2                               2\n",
      "Tópicos Especiais em Comunicação e Mediação da Informação                  1\n",
      "Tópicos Especiais em Gestão Ambiental                                      2\n",
      "Tópicos Especiais em Métodos Quantitativos 2                               2\n",
      "Tópicos de Pesquisa em Informática                                         5\n",
      "Tópicos em Banco de Dados                                                  4\n",
      "Tópicos em Engenharia de Software                                         17\n",
      "Tópicos em Formalismos de Computação                                       9\n",
      "Tópicos em Fundamentos e Métodos da Computação                             1\n",
      "Tópicos em Fundamentos e Métodos de Computação                            66\n",
      "Tópicos em Gestão Ambiental 1                                              2\n",
      "Tópicos em Redes de Comunicação 1                                          1\n",
      "Tópicos em Sistemas Distribuídos                                           1\n",
      "Tópicos em Sistemas de Computação                                         52\n",
      "Tópicos em Teleinformática                                                 1\n",
      "Verificação, Validação e Testes de Software                                3\n",
      "Visão Computacional                                                        1\n",
      "Álgebra Comutativa                                                         1\n",
      "dtype: int64\n"
     ]
    }
   ],
   "source": [
    "propdf = df;\n",
    "\n",
    "propdf = propdf.drop(['Período','Código da Disciplina','Turma','Modalidade'], axis=1)\n",
    "\n",
    "propdf = propdf[propdf.Menção != 'AP']\n",
    "\n",
    "propdf = propdf[propdf.Menção != 'CC']\n",
    "\n",
    "propdf = propdf[propdf.Menção != 'DP']\n",
    "\n",
    "propdf = propdf[propdf.Menção != 'RP']\n",
    "\n",
    "totalDisc = propdf.groupby(['Disciplina']).size()\n",
    "\n",
    "print(totalDisc)\n",
    "\n",
    "#prop = c / c.groupby(level=0).transform(\"sum\")\n",
    "\n",
    "#propdf['taxa_reprovacao'] = prop"
   ]
  },
  {
   "cell_type": "code",
   "execution_count": null,
   "metadata": {},
   "outputs": [],
   "source": [
    "## Q2"
   ]
  },
  {
   "cell_type": "code",
   "execution_count": 74,
   "metadata": {},
   "outputs": [
    {
     "name": "stdout",
     "output_type": "stream",
     "text": [
      "Disciplina                                                              Menção\n",
      "Algoritmos e Estruturas de Dados                                        MM        0.200000\n",
      "                                                                        MS        0.600000\n",
      "                                                                        SS        0.200000\n",
      "Análise Estatística de Dados e Informações                              MS        0.666667\n",
      "                                                                        SS        0.333333\n",
      "Apresentação de Grupos e Métodos Computacionais                         SS        1.000000\n",
      "Armazenamento e Gerenciamento de Informações                            SS        1.000000\n",
      "Arquitetura e Desenho de Software                                       MS        0.333333\n",
      "                                                                        SS        0.666667\n",
      "Arquiteturas VLSI                                                       MS        0.800000\n",
      "                                                                        SS        0.200000\n",
      "Banco de Dados Massivos                                                 SS        1.000000\n",
      "Construção de Software                                                  MM        0.333333\n",
      "                                                                        SS        0.666667\n",
      "Convergência de Redes                                                   SS        1.000000\n",
      "Criptografia                                                            MS        0.250000\n",
      "                                                                        SS        0.750000\n",
      "Criptografia e Segurança de Dados                                       MS        0.250000\n",
      "                                                                        SS        0.750000\n",
      "Delineamento e Análise de Experimentos                                  SS        1.000000\n",
      "Ecologia de Paisagens                                                   SS        1.000000\n",
      "Engenharia de Requisitos                                                SS        1.000000\n",
      "Engenharia de Software 1                                                SS        1.000000\n",
      "Engenharia de Software 2                                                MS        0.125000\n",
      "                                                                        SS        0.875000\n",
      "Estudo Orientado em Instrumentação Biomédica 1                          MM        1.000000\n",
      "Estudo Orientado em Proc de Sinais Biomédicos e Imagens Médicas 1       SS        1.000000\n",
      "Estágio de Docência no Ensino de Graduação em Ciência da Computação     MM        0.012195\n",
      "                                                                        MS        0.012195\n",
      "                                                                        SS        0.963415\n",
      "                                                                        TR        0.012195\n",
      "Fundamentos de Banco de Dados                                           MS        0.200000\n",
      "                                                                        SS        0.800000\n",
      "Fundamentos de Sistema de Informações Geográficas                       MS        1.000000\n",
      "Fundamentos de Sistemas Computacionais                                  MI        0.060241\n",
      "                                                                        MM        0.337349\n",
      "                                                                        MS        0.530120\n",
      "                                                                        SR        0.012048\n",
      "                                                                        SS        0.048193\n",
      "                                                                        TR        0.012048\n",
      "Fundamentos em Pesquisa Operacional                                     SS        1.000000\n",
      "Geometria Diferencial                                                   MS        1.000000\n",
      "Gestão de Projetos de TI                                                SS        1.000000\n",
      "Informação e Codificação                                                MS        1.000000\n",
      "Instrumentação Eletromédica                                             MS        1.000000\n",
      "Inteligência Artificial 1                                               MM        0.103448\n",
      "                                                                        MS        0.275862\n",
      "                                                                        SS        0.586207\n",
      "                                                                        TR        0.034483\n",
      "Inteligência Artificial 2                                               MM        0.062500\n",
      "                                                                        MS        0.375000\n",
      "                                                                        SS        0.562500\n",
      "Introdução a Lógica Formal                                              MS        1.000000\n",
      "Introdução aos Sistemas Inteligentes                                    SS        1.000000\n",
      "Introdução à Probabilidade e Aplicações                                 MM        1.000000\n",
      "Linguagens Declarativas                                                 MS        0.666667\n",
      "                                                                        SS        0.333333\n",
      "Linguagens Para Inteligencia Artificial                                 MS        0.666667\n",
      "                                                                        SS        0.333333\n",
      "Lógica Clássica e Extensões                                             MS        1.000000\n",
      "Lógica Formal e Computacional                                           MM        0.375000\n",
      "                                                                        MS        0.375000\n",
      "                                                                        SS        0.250000\n",
      "Medida e Integração                                                     SS        1.000000\n",
      "Mineração de Dados                                                      MM        0.600000\n",
      "                                                                        MS        0.400000\n",
      "Mineração de Dados Massivos                                             MS        0.500000\n",
      "                                                                        SS        0.500000\n",
      "Modelagem e Verificação de Sistemas Integrados em Silício               MM        0.500000\n",
      "                                                                        SS        0.500000\n",
      "Modelos em Ecologia                                                     SS        1.000000\n",
      "Métodos Computacionais Intensivos para Mineração de Dados               SS        1.000000\n",
      "Métodos Estatísticos 1                                                  MS        1.000000\n",
      "Noções Básicas de Seleção de Amostras                                   SS        1.000000\n",
      "Pesquisa em Infraestrutura de TI                                        SS        1.000000\n",
      "Polonês 1                                                               SS        1.000000\n",
      "Processamento Digital de Sinais                                         MS        0.666667\n",
      "                                                                        SS        0.333333\n",
      "Processamento de Imagens                                                MM        0.333333\n",
      "                                                                        MS        0.666667\n",
      "Processamento de Imagens Digitais                                       MM        0.200000\n",
      "                                                                        MS        0.400000\n",
      "                                                                        SS        0.400000\n",
      "Processamento de Sinais                                                 MM        0.500000\n",
      "                                                                        SS        0.500000\n",
      "Processos Estocásticos                                                  II        0.250000\n",
      "                                                                        MS        0.750000\n",
      "Programação Paralela                                                    MS        0.357143\n",
      "                                                                        SS        0.571429\n",
      "                                                                        TR        0.071429\n",
      "Projeto de Equipamentos Médicos                                         MS        1.000000\n",
      "Projeto e Complexidade de Algoritmos                                    II        0.042254\n",
      "                                                                        MI        0.014085\n",
      "                                                                        MM        0.352113\n",
      "                                                                        MS        0.507042\n",
      "                                                                        SR        0.028169\n",
      "                                                                        SS        0.056338\n",
      "Projeto e Complexidade de Algorítmos 2                                  MS        0.333333\n",
      "                                                                        SS        0.666667\n",
      "Redes de Acesso                                                         MS        1.000000\n",
      "Redes de Computadores                                                   MI        0.500000\n",
      "                                                                        MM        0.500000\n",
      "Seminário                                                               MM        0.011905\n",
      "                                                                        MS        0.226190\n",
      "                                                                        SS        0.750000\n",
      "                                                                        TR        0.011905\n",
      "Seminário de Computação                                                 SS        1.000000\n",
      "Sistemas Digitais para Automação                                        MS        1.000000\n",
      "Sistemas Distribuídos                                                   MI        0.032258\n",
      "                                                                        MM        0.225806\n",
      "                                                                        MS        0.612903\n",
      "                                                                        SS        0.129032\n",
      "Sistemas Multiagentes                                                   MM        0.047619\n",
      "                                                                        MS        0.428571\n",
      "                                                                        SR        0.047619\n",
      "                                                                        SS        0.428571\n",
      "                                                                        TR        0.047619\n",
      "Sistemas Operacionais                                                   SS        1.000000\n",
      "Teoria da Computação                                                    II        0.028986\n",
      "                                                                        MI        0.028986\n",
      "                                                                        MM        0.405797\n",
      "                                                                        MS        0.405797\n",
      "                                                                        SR        0.014493\n",
      "                                                                        SS        0.101449\n",
      "                                                                        TR        0.014493\n",
      "Teoria da Informação                                                    SS        1.000000\n",
      "Teoria de Grupos Finitos                                                MM        1.000000\n",
      "Teoria de Grupos Finitos 1                                              MM        1.000000\n",
      "Teoria de Prova                                                         MM        0.333333\n",
      "                                                                        MS        0.333333\n",
      "                                                                        SS        0.333333\n",
      "Teoria dos Grupos Finitos 2                                             SS        1.000000\n",
      "Teoria dos Jogos                                                        MS        0.250000\n",
      "                                                                        SS        0.250000\n",
      "                                                                        TR        0.500000\n",
      "Trabalho Individual em Fundamentos e Métodos de Computação              MM        0.102564\n",
      "                                                                        MS        0.076923\n",
      "                                                                        SS        0.820513\n",
      "Trabalho Individual em Sistemas de Computação                           MI        0.028571\n",
      "                                                                        MS        0.057143\n",
      "                                                                        SS        0.914286\n",
      "Treinamento e Desenvolvimento de Pessoal                                SS        1.000000\n",
      "Tópicos Avançados em Engenharia de Software                             SS        1.000000\n",
      "Tópicos Avançados em Infraestrutura de TI                               MS        1.000000\n",
      "Tópicos Avançados em Mineração de Dados                                 SS        1.000000\n",
      "Tópicos Avançados em Sistemas Mecatrônicos 1                            MS        1.000000\n",
      "Tópicos Avançados em Sistemas Mecatrônicos 2                            MM        0.500000\n",
      "                                                                        MS        0.500000\n",
      "Tópicos Especiais em Comunicação e Mediação da Informação               SS        1.000000\n",
      "Tópicos Especiais em Gestão Ambiental                                   SS        1.000000\n",
      "Tópicos Especiais em Métodos Quantitativos 2                            MS        1.000000\n",
      "Tópicos de Pesquisa em Informática                                      MS        0.600000\n",
      "                                                                        SS        0.400000\n",
      "Tópicos em Banco de Dados                                               SS        1.000000\n",
      "Tópicos em Engenharia de Software                                       MS        0.470588\n",
      "                                                                        SS        0.529412\n",
      "Tópicos em Formalismos de Computação                                    MS        0.555556\n",
      "                                                                        SS        0.444444\n",
      "Tópicos em Fundamentos e Métodos da Computação                          MS        1.000000\n",
      "Tópicos em Fundamentos e Métodos de Computação                          MI        0.015152\n",
      "                                                                        MM        0.045455\n",
      "                                                                        MS        0.287879\n",
      "                                                                        SR        0.015152\n",
      "                                                                        SS        0.636364\n",
      "Tópicos em Gestão Ambiental 1                                           SS        1.000000\n",
      "Tópicos em Redes de Comunicação 1                                       SS        1.000000\n",
      "Tópicos em Sistemas Distribuídos                                        SS        1.000000\n",
      "Tópicos em Sistemas de Computação                                       MM        0.096154\n",
      "                                                                        MS        0.307692\n",
      "                                                                        SS        0.576923\n",
      "                                                                        TR        0.019231\n",
      "Tópicos em Teleinformática                                              SS        1.000000\n",
      "Verificação, Validação e Testes de Software                             SS        1.000000\n",
      "Visão Computacional                                                     MS        1.000000\n",
      "Álgebra Comutativa                                                      SS        1.000000\n",
      "dtype: float64\n"
     ]
    }
   ],
   "source": [
    "prop = propdf.groupby(['Disciplina','Menção']).size() / propdf.groupby(['Disciplina']).size()\n",
    "\n",
    "print(prop)"
   ]
  },
  {
   "cell_type": "code",
   "execution_count": null,
   "metadata": {},
   "outputs": [],
   "source": []
  },
  {
   "cell_type": "markdown",
   "metadata": {},
   "source": [
    "### Drop course's name attribute (we refer them by their own IDs)"
   ]
  },
  {
   "cell_type": "code",
   "execution_count": 23,
   "metadata": {},
   "outputs": [],
   "source": [
    "precdf = df.drop(['Turma','Modalidade'], axis=1)\n",
    "\n",
    "precdf = precdf[precdf.Menção != 'AP']\n",
    "\n",
    "precdf = precdf[precdf.Menção != 'CC']\n",
    "\n",
    "precdf = precdf[precdf.Menção != 'DP']\n",
    "\n",
    "precdf = precdf[precdf.Menção != 'RP']"
   ]
  },
  {
   "cell_type": "code",
   "execution_count": 24,
   "metadata": {},
   "outputs": [
    {
     "data": {
      "application/vnd.plotly.v1+json": {
       "config": {
        "plotlyServerURL": "https://plot.ly"
       },
       "data": [
        {
         "domain": {
          "x": [
           0,
           1
          ],
          "y": [
           0,
           1
          ]
         },
         "hovertemplate": "Menção=%{label}<extra></extra>",
         "labels": [
          "SS",
          "MS",
          "SS",
          "MS",
          "MM",
          "MS",
          "MM",
          "MM",
          "MM",
          "MS",
          "MS",
          "SS",
          "MS",
          "MM",
          "MS",
          "MM",
          "MS",
          "SS",
          "MS",
          "MS",
          "MM",
          "SS",
          "MM",
          "SS",
          "MS",
          "MS",
          "SS",
          "MM",
          "MM",
          "MS",
          "SS",
          "MS",
          "MS",
          "MM",
          "SS",
          "SS",
          "MM",
          "MM",
          "MI",
          "MS",
          "MS",
          "MS",
          "MS",
          "SS",
          "MS",
          "MS",
          "SS",
          "SS",
          "SS",
          "MS",
          "MM",
          "MM",
          "MM",
          "MS",
          "MS",
          "SS",
          "MM",
          "MS",
          "MM",
          "MM",
          "SS",
          "SS",
          "SS",
          "MS",
          "MM",
          "MS",
          "MS",
          "MS",
          "MS",
          "MS",
          "SS",
          "SS",
          "MS",
          "MS",
          "SS",
          "TR",
          "SS",
          "SS",
          "MM",
          "MS",
          "SS",
          "MI",
          "MS",
          "SS",
          "SS",
          "SS",
          "SS",
          "MI",
          "MS",
          "MS",
          "SS",
          "MS",
          "MM",
          "MS",
          "MM",
          "MS",
          "SS",
          "SS",
          "MM",
          "MM",
          "MM",
          "MS",
          "MS",
          "MS",
          "MM",
          "MS",
          "MS",
          "SS",
          "TR",
          "SS",
          "MM",
          "SS",
          "SS",
          "MM",
          "SS",
          "TR",
          "SS",
          "MS",
          "SS",
          "SS",
          "MS",
          "SS",
          "SS",
          "MS",
          "MS",
          "SS",
          "MS",
          "MM",
          "SS",
          "MS",
          "MS",
          "MS",
          "MS",
          "SS",
          "SS",
          "MS",
          "MS",
          "MS",
          "MS",
          "SS",
          "MS",
          "MS",
          "SS",
          "MS",
          "SS",
          "SS",
          "MS",
          "SS",
          "MS",
          "MS",
          "MM",
          "MS",
          "MS",
          "MS",
          "SS",
          "MS",
          "SS",
          "SS",
          "SS",
          "SS",
          "SS",
          "SS",
          "MS",
          "SS",
          "MM",
          "MS",
          "SS",
          "MS",
          "MS",
          "SS",
          "MM",
          "SS",
          "SS",
          "SS",
          "SS",
          "MS",
          "MS",
          "SS",
          "MS",
          "MS",
          "MS",
          "MS",
          "MS",
          "SS",
          "MS",
          "SS",
          "SS",
          "SS",
          "SS",
          "MS",
          "MS",
          "MS",
          "MS",
          "MS",
          "SS",
          "MM",
          "MM",
          "SS",
          "SS",
          "SS",
          "SS",
          "MM",
          "SS",
          "MS",
          "SS",
          "SS",
          "SS",
          "SS",
          "MM",
          "SS",
          "SS",
          "SS",
          "SS",
          "SS",
          "SS",
          "MS",
          "MS",
          "SS",
          "SS",
          "MS",
          "MS",
          "MS",
          "SS",
          "SS",
          "SS",
          "MS",
          "MM",
          "MM",
          "MS",
          "MS",
          "SS",
          "SS",
          "MM",
          "SS",
          "SS",
          "MS",
          "MS",
          "SS",
          "SS",
          "SS",
          "SS",
          "SS",
          "SS",
          "SS",
          "SS",
          "SS",
          "SS",
          "MS",
          "MS",
          "SS",
          "MS",
          "SS",
          "SS",
          "SS",
          "SS",
          "MM",
          "SS",
          "MM",
          "SS",
          "SS",
          "MS",
          "MS",
          "MS",
          "SS",
          "SS",
          "SS",
          "MM",
          "MM",
          "MM",
          "SS",
          "SS",
          "MM",
          "MM",
          "SS",
          "MM",
          "SS",
          "SS",
          "SS",
          "MS",
          "SS",
          "SS",
          "SS",
          "SS",
          "MS",
          "MS",
          "SS",
          "SS",
          "MS",
          "TR",
          "SS",
          "SS",
          "MS",
          "SS",
          "MM",
          "MM",
          "MM",
          "SS",
          "SS",
          "SS",
          "MS",
          "SS",
          "MM",
          "MS",
          "SS",
          "SS",
          "SS",
          "MI",
          "MI",
          "SS",
          "SS",
          "MS",
          "MS",
          "SS",
          "MS",
          "MM",
          "SR",
          "SR",
          "MS",
          "MM",
          "SS",
          "SS",
          "SS",
          "SS",
          "SS",
          "SS",
          "MS",
          "MS",
          "SS",
          "SS",
          "MS",
          "MS",
          "SS",
          "MM",
          "MS",
          "MS",
          "SS",
          "SS",
          "MS",
          "SS",
          "SS",
          "MS",
          "MS",
          "MM",
          "MS",
          "SS",
          "MS",
          "MS",
          "MM",
          "SS",
          "MS",
          "SS",
          "SS",
          "MS",
          "MM",
          "SS",
          "SS",
          "MS",
          "MS",
          "MS",
          "TR",
          "SS",
          "MS",
          "SS",
          "SS",
          "MS",
          "SS",
          "SS",
          "SS",
          "SS",
          "SS",
          "SS",
          "MS",
          "SS",
          "SS",
          "MS",
          "MM",
          "MS",
          "SS",
          "MM",
          "MS",
          "SS",
          "SS",
          "SS",
          "SS",
          "MS",
          "SS",
          "SS",
          "SS",
          "SS",
          "MS",
          "SS",
          "MS",
          "SS",
          "MM",
          "SS",
          "SS",
          "SS",
          "MS",
          "MS",
          "SS",
          "SS",
          "MM",
          "MM",
          "SS",
          "SS",
          "SS",
          "SS",
          "SS",
          "SS",
          "SS",
          "SS",
          "SS",
          "SS",
          "SS",
          "SS",
          "SS",
          "MM",
          "SS",
          "MS",
          "MS",
          "SS",
          "MS",
          "SS",
          "SS",
          "MS",
          "SS",
          "SS",
          "SS",
          "SS",
          "MM",
          "SS",
          "SS",
          "SS",
          "MS",
          "MS",
          "MS",
          "MM",
          "MM",
          "MS",
          "MS",
          "MS",
          "SS",
          "SS",
          "MS",
          "MM",
          "SS",
          "MS",
          "SS",
          "SS",
          "SS",
          "SS",
          "MS",
          "SS",
          "SS",
          "SS",
          "MM",
          "SS",
          "SS",
          "SS",
          "MM",
          "SS",
          "SS",
          "MS",
          "SS",
          "MS",
          "SS",
          "SS",
          "SS",
          "MM",
          "SS",
          "MM",
          "SS",
          "SS",
          "MS",
          "MS",
          "MS",
          "MS",
          "MS",
          "MS",
          "MS",
          "MS",
          "SS",
          "MS",
          "SS",
          "SS",
          "SS",
          "SS",
          "SS",
          "SS",
          "SS",
          "SS",
          "SS",
          "SS",
          "SS",
          "MS",
          "MS",
          "MS",
          "SS",
          "SS",
          "MM",
          "TR",
          "MS",
          "SS",
          "SS",
          "MS",
          "MM",
          "SS",
          "MS",
          "SS",
          "MS",
          "MS",
          "MS",
          "MS",
          "MS",
          "MM",
          "MS",
          "MM",
          "II",
          "MM",
          "SS",
          "SS",
          "MI",
          "MS",
          "TR",
          "SS",
          "SS",
          "SS",
          "MS",
          "SS",
          "SS",
          "SS",
          "SS",
          "SS",
          "MS",
          "MM",
          "SS",
          "SS",
          "SS",
          "MS",
          "SS",
          "SS",
          "SS",
          "SS",
          "MS",
          "SS",
          "MM",
          "MS",
          "MS",
          "MS",
          "MM",
          "MS",
          "MS",
          "MM",
          "SS",
          "SS",
          "SS",
          "MM",
          "MM",
          "SS",
          "SS",
          "SS",
          "SS",
          "SS",
          "SS",
          "MS",
          "SS",
          "SS",
          "MS",
          "SS",
          "SR",
          "SS",
          "MS",
          "MS",
          "SS",
          "MS",
          "MS",
          "SS",
          "MS",
          "MS",
          "MM",
          "MM",
          "SS",
          "SS",
          "MI",
          "SS",
          "SS",
          "MS",
          "SS",
          "SS",
          "SS",
          "SS",
          "SS",
          "MS",
          "SS",
          "SS",
          "MM",
          "MS",
          "MS",
          "MM",
          "MS",
          "SS",
          "SS",
          "MS",
          "SS",
          "MS",
          "MS",
          "SS",
          "SS",
          "SS",
          "SS",
          "SS",
          "SS",
          "SS",
          "SS",
          "SS",
          "SS",
          "SS",
          "SS",
          "MM",
          "MS",
          "SS",
          "SS",
          "SS",
          "SS",
          "SS",
          "SS",
          "SS",
          "MS",
          "SS",
          "SS",
          "MM",
          "MM",
          "SS",
          "MM",
          "MS",
          "SS",
          "SS",
          "MS",
          "MS",
          "SS",
          "MM",
          "MM",
          "MS",
          "MS",
          "MS",
          "SS",
          "SS",
          "MS",
          "MS",
          "SS",
          "SS",
          "SS",
          "MS",
          "SS",
          "SS",
          "SS",
          "MM",
          "MS",
          "SS",
          "SS",
          "SS",
          "SS",
          "MS",
          "MS",
          "SS",
          "SS",
          "MM",
          "SS",
          "MS",
          "SS",
          "MS",
          "MS",
          "MS",
          "SS",
          "SS",
          "SS",
          "SS",
          "SS",
          "SS",
          "SS",
          "SS",
          "MS",
          "SS",
          "SS",
          "SS",
          "MS",
          "MS",
          "MS",
          "MS",
          "MS",
          "MM",
          "MM",
          "SS",
          "MS",
          "MS",
          "MM",
          "MM",
          "SS",
          "MM",
          "MS",
          "SS",
          "MM",
          "SS",
          "SS",
          "SS",
          "SS",
          "MS",
          "MS",
          "II",
          "MM",
          "MS",
          "SS",
          "SS",
          "SS",
          "TR",
          "SS",
          "SS",
          "SS",
          "MS",
          "SS",
          "SS",
          "SS",
          "SS",
          "SS",
          "SS",
          "MS",
          "MS",
          "SS",
          "SS",
          "MS",
          "SS",
          "II",
          "MS",
          "SS",
          "SS",
          "MS",
          "MM",
          "SS",
          "MS",
          "MS",
          "SS",
          "SR",
          "II",
          "SS",
          "SS",
          "MS",
          "SS",
          "MS",
          "SS",
          "SS",
          "SS",
          "SS",
          "SS",
          "MS",
          "SS",
          "SS",
          "MI",
          "MS",
          "MS",
          "MM",
          "MS",
          "SS",
          "SS",
          "SS",
          "SS",
          "SS",
          "MM",
          "SS",
          "SS",
          "MS",
          "SS",
          "MM",
          "MS",
          "SS",
          "MS",
          "SS",
          "SS",
          "MS",
          "SS",
          "SS",
          "SS",
          "MS",
          "SS",
          "SS",
          "MM",
          "MM",
          "SS",
          "SS",
          "MS",
          "SS",
          "SS",
          "MS",
          "SS",
          "SS",
          "SS",
          "MS",
          "SS",
          "SS",
          "MS",
          "MM",
          "SS",
          "SS",
          "MS",
          "MS",
          "SS",
          "MS",
          "SS",
          "MS",
          "SS",
          "MS",
          "SS",
          "SS",
          "SS",
          "MS",
          "MS",
          "MM",
          "MS",
          "MS",
          "SS",
          "SS",
          "SS",
          "SS",
          "SS",
          "MI",
          "MS",
          "SS",
          "SS",
          "MS",
          "MI",
          "SS",
          "II",
          "MM",
          "MS",
          "MS",
          "MS",
          "SS",
          "SS",
          "SS",
          "MM",
          "MS",
          "SS",
          "SS",
          "SS",
          "MS",
          "MS",
          "MI",
          "MS",
          "SS",
          "MM",
          "SS",
          "MM",
          "MM",
          "MM",
          "TR",
          "MS",
          "SS",
          "SS",
          "MM",
          "SS",
          "MS",
          "SR",
          "MM",
          "SS",
          "SS",
          "MS",
          "MM",
          "SS",
          "SS",
          "SS",
          "MS",
          "SS",
          "MS",
          "MM",
          "MS",
          "SS",
          "MS",
          "MS",
          "MS",
          "MS",
          "MS",
          "SS",
          "SS",
          "SS",
          "MS",
          "MM",
          "MM",
          "SS",
          "MS",
          "MM",
          "SS",
          "II",
          "MI",
          "MM",
          "MS",
          "SS",
          "MS",
          "MS",
          "MM",
          "SS",
          "TR",
          "MS",
          "MS",
          "MS",
          "MM",
          "MS",
          "MS",
          "MS",
          "SS",
          "MM",
          "MS",
          "SS",
          "SR",
          "SS"
         ],
         "legendgroup": "",
         "name": "",
         "showlegend": true,
         "type": "pie"
        }
       ],
       "layout": {
        "legend": {
         "tracegroupgap": 0
        },
        "template": {
         "data": {
          "bar": [
           {
            "error_x": {
             "color": "#2a3f5f"
            },
            "error_y": {
             "color": "#2a3f5f"
            },
            "marker": {
             "line": {
              "color": "#E5ECF6",
              "width": 0.5
             }
            },
            "type": "bar"
           }
          ],
          "barpolar": [
           {
            "marker": {
             "line": {
              "color": "#E5ECF6",
              "width": 0.5
             }
            },
            "type": "barpolar"
           }
          ],
          "carpet": [
           {
            "aaxis": {
             "endlinecolor": "#2a3f5f",
             "gridcolor": "white",
             "linecolor": "white",
             "minorgridcolor": "white",
             "startlinecolor": "#2a3f5f"
            },
            "baxis": {
             "endlinecolor": "#2a3f5f",
             "gridcolor": "white",
             "linecolor": "white",
             "minorgridcolor": "white",
             "startlinecolor": "#2a3f5f"
            },
            "type": "carpet"
           }
          ],
          "choropleth": [
           {
            "colorbar": {
             "outlinewidth": 0,
             "ticks": ""
            },
            "type": "choropleth"
           }
          ],
          "contour": [
           {
            "colorbar": {
             "outlinewidth": 0,
             "ticks": ""
            },
            "colorscale": [
             [
              0,
              "#0d0887"
             ],
             [
              0.1111111111111111,
              "#46039f"
             ],
             [
              0.2222222222222222,
              "#7201a8"
             ],
             [
              0.3333333333333333,
              "#9c179e"
             ],
             [
              0.4444444444444444,
              "#bd3786"
             ],
             [
              0.5555555555555556,
              "#d8576b"
             ],
             [
              0.6666666666666666,
              "#ed7953"
             ],
             [
              0.7777777777777778,
              "#fb9f3a"
             ],
             [
              0.8888888888888888,
              "#fdca26"
             ],
             [
              1,
              "#f0f921"
             ]
            ],
            "type": "contour"
           }
          ],
          "contourcarpet": [
           {
            "colorbar": {
             "outlinewidth": 0,
             "ticks": ""
            },
            "type": "contourcarpet"
           }
          ],
          "heatmap": [
           {
            "colorbar": {
             "outlinewidth": 0,
             "ticks": ""
            },
            "colorscale": [
             [
              0,
              "#0d0887"
             ],
             [
              0.1111111111111111,
              "#46039f"
             ],
             [
              0.2222222222222222,
              "#7201a8"
             ],
             [
              0.3333333333333333,
              "#9c179e"
             ],
             [
              0.4444444444444444,
              "#bd3786"
             ],
             [
              0.5555555555555556,
              "#d8576b"
             ],
             [
              0.6666666666666666,
              "#ed7953"
             ],
             [
              0.7777777777777778,
              "#fb9f3a"
             ],
             [
              0.8888888888888888,
              "#fdca26"
             ],
             [
              1,
              "#f0f921"
             ]
            ],
            "type": "heatmap"
           }
          ],
          "heatmapgl": [
           {
            "colorbar": {
             "outlinewidth": 0,
             "ticks": ""
            },
            "colorscale": [
             [
              0,
              "#0d0887"
             ],
             [
              0.1111111111111111,
              "#46039f"
             ],
             [
              0.2222222222222222,
              "#7201a8"
             ],
             [
              0.3333333333333333,
              "#9c179e"
             ],
             [
              0.4444444444444444,
              "#bd3786"
             ],
             [
              0.5555555555555556,
              "#d8576b"
             ],
             [
              0.6666666666666666,
              "#ed7953"
             ],
             [
              0.7777777777777778,
              "#fb9f3a"
             ],
             [
              0.8888888888888888,
              "#fdca26"
             ],
             [
              1,
              "#f0f921"
             ]
            ],
            "type": "heatmapgl"
           }
          ],
          "histogram": [
           {
            "marker": {
             "colorbar": {
              "outlinewidth": 0,
              "ticks": ""
             }
            },
            "type": "histogram"
           }
          ],
          "histogram2d": [
           {
            "colorbar": {
             "outlinewidth": 0,
             "ticks": ""
            },
            "colorscale": [
             [
              0,
              "#0d0887"
             ],
             [
              0.1111111111111111,
              "#46039f"
             ],
             [
              0.2222222222222222,
              "#7201a8"
             ],
             [
              0.3333333333333333,
              "#9c179e"
             ],
             [
              0.4444444444444444,
              "#bd3786"
             ],
             [
              0.5555555555555556,
              "#d8576b"
             ],
             [
              0.6666666666666666,
              "#ed7953"
             ],
             [
              0.7777777777777778,
              "#fb9f3a"
             ],
             [
              0.8888888888888888,
              "#fdca26"
             ],
             [
              1,
              "#f0f921"
             ]
            ],
            "type": "histogram2d"
           }
          ],
          "histogram2dcontour": [
           {
            "colorbar": {
             "outlinewidth": 0,
             "ticks": ""
            },
            "colorscale": [
             [
              0,
              "#0d0887"
             ],
             [
              0.1111111111111111,
              "#46039f"
             ],
             [
              0.2222222222222222,
              "#7201a8"
             ],
             [
              0.3333333333333333,
              "#9c179e"
             ],
             [
              0.4444444444444444,
              "#bd3786"
             ],
             [
              0.5555555555555556,
              "#d8576b"
             ],
             [
              0.6666666666666666,
              "#ed7953"
             ],
             [
              0.7777777777777778,
              "#fb9f3a"
             ],
             [
              0.8888888888888888,
              "#fdca26"
             ],
             [
              1,
              "#f0f921"
             ]
            ],
            "type": "histogram2dcontour"
           }
          ],
          "mesh3d": [
           {
            "colorbar": {
             "outlinewidth": 0,
             "ticks": ""
            },
            "type": "mesh3d"
           }
          ],
          "parcoords": [
           {
            "line": {
             "colorbar": {
              "outlinewidth": 0,
              "ticks": ""
             }
            },
            "type": "parcoords"
           }
          ],
          "pie": [
           {
            "automargin": true,
            "type": "pie"
           }
          ],
          "scatter": [
           {
            "marker": {
             "colorbar": {
              "outlinewidth": 0,
              "ticks": ""
             }
            },
            "type": "scatter"
           }
          ],
          "scatter3d": [
           {
            "line": {
             "colorbar": {
              "outlinewidth": 0,
              "ticks": ""
             }
            },
            "marker": {
             "colorbar": {
              "outlinewidth": 0,
              "ticks": ""
             }
            },
            "type": "scatter3d"
           }
          ],
          "scattercarpet": [
           {
            "marker": {
             "colorbar": {
              "outlinewidth": 0,
              "ticks": ""
             }
            },
            "type": "scattercarpet"
           }
          ],
          "scattergeo": [
           {
            "marker": {
             "colorbar": {
              "outlinewidth": 0,
              "ticks": ""
             }
            },
            "type": "scattergeo"
           }
          ],
          "scattergl": [
           {
            "marker": {
             "colorbar": {
              "outlinewidth": 0,
              "ticks": ""
             }
            },
            "type": "scattergl"
           }
          ],
          "scattermapbox": [
           {
            "marker": {
             "colorbar": {
              "outlinewidth": 0,
              "ticks": ""
             }
            },
            "type": "scattermapbox"
           }
          ],
          "scatterpolar": [
           {
            "marker": {
             "colorbar": {
              "outlinewidth": 0,
              "ticks": ""
             }
            },
            "type": "scatterpolar"
           }
          ],
          "scatterpolargl": [
           {
            "marker": {
             "colorbar": {
              "outlinewidth": 0,
              "ticks": ""
             }
            },
            "type": "scatterpolargl"
           }
          ],
          "scatterternary": [
           {
            "marker": {
             "colorbar": {
              "outlinewidth": 0,
              "ticks": ""
             }
            },
            "type": "scatterternary"
           }
          ],
          "surface": [
           {
            "colorbar": {
             "outlinewidth": 0,
             "ticks": ""
            },
            "colorscale": [
             [
              0,
              "#0d0887"
             ],
             [
              0.1111111111111111,
              "#46039f"
             ],
             [
              0.2222222222222222,
              "#7201a8"
             ],
             [
              0.3333333333333333,
              "#9c179e"
             ],
             [
              0.4444444444444444,
              "#bd3786"
             ],
             [
              0.5555555555555556,
              "#d8576b"
             ],
             [
              0.6666666666666666,
              "#ed7953"
             ],
             [
              0.7777777777777778,
              "#fb9f3a"
             ],
             [
              0.8888888888888888,
              "#fdca26"
             ],
             [
              1,
              "#f0f921"
             ]
            ],
            "type": "surface"
           }
          ],
          "table": [
           {
            "cells": {
             "fill": {
              "color": "#EBF0F8"
             },
             "line": {
              "color": "white"
             }
            },
            "header": {
             "fill": {
              "color": "#C8D4E3"
             },
             "line": {
              "color": "white"
             }
            },
            "type": "table"
           }
          ]
         },
         "layout": {
          "annotationdefaults": {
           "arrowcolor": "#2a3f5f",
           "arrowhead": 0,
           "arrowwidth": 1
          },
          "coloraxis": {
           "colorbar": {
            "outlinewidth": 0,
            "ticks": ""
           }
          },
          "colorscale": {
           "diverging": [
            [
             0,
             "#8e0152"
            ],
            [
             0.1,
             "#c51b7d"
            ],
            [
             0.2,
             "#de77ae"
            ],
            [
             0.3,
             "#f1b6da"
            ],
            [
             0.4,
             "#fde0ef"
            ],
            [
             0.5,
             "#f7f7f7"
            ],
            [
             0.6,
             "#e6f5d0"
            ],
            [
             0.7,
             "#b8e186"
            ],
            [
             0.8,
             "#7fbc41"
            ],
            [
             0.9,
             "#4d9221"
            ],
            [
             1,
             "#276419"
            ]
           ],
           "sequential": [
            [
             0,
             "#0d0887"
            ],
            [
             0.1111111111111111,
             "#46039f"
            ],
            [
             0.2222222222222222,
             "#7201a8"
            ],
            [
             0.3333333333333333,
             "#9c179e"
            ],
            [
             0.4444444444444444,
             "#bd3786"
            ],
            [
             0.5555555555555556,
             "#d8576b"
            ],
            [
             0.6666666666666666,
             "#ed7953"
            ],
            [
             0.7777777777777778,
             "#fb9f3a"
            ],
            [
             0.8888888888888888,
             "#fdca26"
            ],
            [
             1,
             "#f0f921"
            ]
           ],
           "sequentialminus": [
            [
             0,
             "#0d0887"
            ],
            [
             0.1111111111111111,
             "#46039f"
            ],
            [
             0.2222222222222222,
             "#7201a8"
            ],
            [
             0.3333333333333333,
             "#9c179e"
            ],
            [
             0.4444444444444444,
             "#bd3786"
            ],
            [
             0.5555555555555556,
             "#d8576b"
            ],
            [
             0.6666666666666666,
             "#ed7953"
            ],
            [
             0.7777777777777778,
             "#fb9f3a"
            ],
            [
             0.8888888888888888,
             "#fdca26"
            ],
            [
             1,
             "#f0f921"
            ]
           ]
          },
          "colorway": [
           "#636efa",
           "#EF553B",
           "#00cc96",
           "#ab63fa",
           "#FFA15A",
           "#19d3f3",
           "#FF6692",
           "#B6E880",
           "#FF97FF",
           "#FECB52"
          ],
          "font": {
           "color": "#2a3f5f"
          },
          "geo": {
           "bgcolor": "white",
           "lakecolor": "white",
           "landcolor": "#E5ECF6",
           "showlakes": true,
           "showland": true,
           "subunitcolor": "white"
          },
          "hoverlabel": {
           "align": "left"
          },
          "hovermode": "closest",
          "mapbox": {
           "style": "light"
          },
          "paper_bgcolor": "white",
          "plot_bgcolor": "#E5ECF6",
          "polar": {
           "angularaxis": {
            "gridcolor": "white",
            "linecolor": "white",
            "ticks": ""
           },
           "bgcolor": "#E5ECF6",
           "radialaxis": {
            "gridcolor": "white",
            "linecolor": "white",
            "ticks": ""
           }
          },
          "scene": {
           "xaxis": {
            "backgroundcolor": "#E5ECF6",
            "gridcolor": "white",
            "gridwidth": 2,
            "linecolor": "white",
            "showbackground": true,
            "ticks": "",
            "zerolinecolor": "white"
           },
           "yaxis": {
            "backgroundcolor": "#E5ECF6",
            "gridcolor": "white",
            "gridwidth": 2,
            "linecolor": "white",
            "showbackground": true,
            "ticks": "",
            "zerolinecolor": "white"
           },
           "zaxis": {
            "backgroundcolor": "#E5ECF6",
            "gridcolor": "white",
            "gridwidth": 2,
            "linecolor": "white",
            "showbackground": true,
            "ticks": "",
            "zerolinecolor": "white"
           }
          },
          "shapedefaults": {
           "line": {
            "color": "#2a3f5f"
           }
          },
          "ternary": {
           "aaxis": {
            "gridcolor": "white",
            "linecolor": "white",
            "ticks": ""
           },
           "baxis": {
            "gridcolor": "white",
            "linecolor": "white",
            "ticks": ""
           },
           "bgcolor": "#E5ECF6",
           "caxis": {
            "gridcolor": "white",
            "linecolor": "white",
            "ticks": ""
           }
          },
          "title": {
           "x": 0.05
          },
          "xaxis": {
           "automargin": true,
           "gridcolor": "white",
           "linecolor": "white",
           "ticks": "",
           "title": {
            "standoff": 15
           },
           "zerolinecolor": "white",
           "zerolinewidth": 2
          },
          "yaxis": {
           "automargin": true,
           "gridcolor": "white",
           "linecolor": "white",
           "ticks": "",
           "title": {
            "standoff": 15
           },
           "zerolinecolor": "white",
           "zerolinewidth": 2
          }
         }
        },
        "title": {
         "text": "Contabilizacao das Mencoes"
        }
       }
      },
      "text/html": [
       "<div>\n",
       "        \n",
       "        \n",
       "            <div id=\"db3dab2f-81d4-4585-9d9a-5aabc8241ac4\" class=\"plotly-graph-div\" style=\"height:525px; width:100%;\"></div>\n",
       "            <script type=\"text/javascript\">\n",
       "                require([\"plotly\"], function(Plotly) {\n",
       "                    window.PLOTLYENV=window.PLOTLYENV || {};\n",
       "                    \n",
       "                if (document.getElementById(\"db3dab2f-81d4-4585-9d9a-5aabc8241ac4\")) {\n",
       "                    Plotly.newPlot(\n",
       "                        'db3dab2f-81d4-4585-9d9a-5aabc8241ac4',\n",
       "                        [{\"domain\": {\"x\": [0.0, 1.0], \"y\": [0.0, 1.0]}, \"hovertemplate\": \"Men\\u00e7\\u00e3o=%{label}<extra></extra>\", \"labels\": [\"SS\", \"MS\", \"SS\", \"MS\", \"MM\", \"MS\", \"MM\", \"MM\", \"MM\", \"MS\", \"MS\", \"SS\", \"MS\", \"MM\", \"MS\", \"MM\", \"MS\", \"SS\", \"MS\", \"MS\", \"MM\", \"SS\", \"MM\", \"SS\", \"MS\", \"MS\", \"SS\", \"MM\", \"MM\", \"MS\", \"SS\", \"MS\", \"MS\", \"MM\", \"SS\", \"SS\", \"MM\", \"MM\", \"MI\", \"MS\", \"MS\", \"MS\", \"MS\", \"SS\", \"MS\", \"MS\", \"SS\", \"SS\", \"SS\", \"MS\", \"MM\", \"MM\", \"MM\", \"MS\", \"MS\", \"SS\", \"MM\", \"MS\", \"MM\", \"MM\", \"SS\", \"SS\", \"SS\", \"MS\", \"MM\", \"MS\", \"MS\", \"MS\", \"MS\", \"MS\", \"SS\", \"SS\", \"MS\", \"MS\", \"SS\", \"TR\", \"SS\", \"SS\", \"MM\", \"MS\", \"SS\", \"MI\", \"MS\", \"SS\", \"SS\", \"SS\", \"SS\", \"MI\", \"MS\", \"MS\", \"SS\", \"MS\", \"MM\", \"MS\", \"MM\", \"MS\", \"SS\", \"SS\", \"MM\", \"MM\", \"MM\", \"MS\", \"MS\", \"MS\", \"MM\", \"MS\", \"MS\", \"SS\", \"TR\", \"SS\", \"MM\", \"SS\", \"SS\", \"MM\", \"SS\", \"TR\", \"SS\", \"MS\", \"SS\", \"SS\", \"MS\", \"SS\", \"SS\", \"MS\", \"MS\", \"SS\", \"MS\", \"MM\", \"SS\", \"MS\", \"MS\", \"MS\", \"MS\", \"SS\", \"SS\", \"MS\", \"MS\", \"MS\", \"MS\", \"SS\", \"MS\", \"MS\", \"SS\", \"MS\", \"SS\", \"SS\", \"MS\", \"SS\", \"MS\", \"MS\", \"MM\", \"MS\", \"MS\", \"MS\", \"SS\", \"MS\", \"SS\", \"SS\", \"SS\", \"SS\", \"SS\", \"SS\", \"MS\", \"SS\", \"MM\", \"MS\", \"SS\", \"MS\", \"MS\", \"SS\", \"MM\", \"SS\", \"SS\", \"SS\", \"SS\", \"MS\", \"MS\", \"SS\", \"MS\", \"MS\", \"MS\", \"MS\", \"MS\", \"SS\", \"MS\", \"SS\", \"SS\", \"SS\", \"SS\", \"MS\", \"MS\", \"MS\", \"MS\", \"MS\", \"SS\", \"MM\", \"MM\", \"SS\", \"SS\", \"SS\", \"SS\", \"MM\", \"SS\", \"MS\", \"SS\", \"SS\", \"SS\", \"SS\", \"MM\", \"SS\", \"SS\", \"SS\", \"SS\", \"SS\", \"SS\", \"MS\", \"MS\", \"SS\", \"SS\", \"MS\", \"MS\", \"MS\", \"SS\", \"SS\", \"SS\", \"MS\", \"MM\", \"MM\", \"MS\", \"MS\", \"SS\", \"SS\", \"MM\", \"SS\", \"SS\", \"MS\", \"MS\", \"SS\", \"SS\", \"SS\", \"SS\", \"SS\", \"SS\", \"SS\", \"SS\", \"SS\", \"SS\", \"MS\", \"MS\", \"SS\", \"MS\", \"SS\", \"SS\", \"SS\", \"SS\", \"MM\", \"SS\", \"MM\", \"SS\", \"SS\", \"MS\", \"MS\", \"MS\", \"SS\", \"SS\", \"SS\", \"MM\", \"MM\", \"MM\", \"SS\", \"SS\", \"MM\", \"MM\", \"SS\", \"MM\", \"SS\", \"SS\", \"SS\", \"MS\", \"SS\", \"SS\", \"SS\", \"SS\", \"MS\", \"MS\", \"SS\", \"SS\", \"MS\", \"TR\", \"SS\", \"SS\", \"MS\", \"SS\", \"MM\", \"MM\", \"MM\", \"SS\", \"SS\", \"SS\", \"MS\", \"SS\", \"MM\", \"MS\", \"SS\", \"SS\", \"SS\", \"MI\", \"MI\", \"SS\", \"SS\", \"MS\", \"MS\", \"SS\", \"MS\", \"MM\", \"SR\", \"SR\", \"MS\", \"MM\", \"SS\", \"SS\", \"SS\", \"SS\", \"SS\", \"SS\", \"MS\", \"MS\", \"SS\", \"SS\", \"MS\", \"MS\", \"SS\", \"MM\", \"MS\", \"MS\", \"SS\", \"SS\", \"MS\", \"SS\", \"SS\", \"MS\", \"MS\", \"MM\", \"MS\", \"SS\", \"MS\", \"MS\", \"MM\", \"SS\", \"MS\", \"SS\", \"SS\", \"MS\", \"MM\", \"SS\", \"SS\", \"MS\", \"MS\", \"MS\", \"TR\", \"SS\", \"MS\", \"SS\", \"SS\", \"MS\", \"SS\", \"SS\", \"SS\", \"SS\", \"SS\", \"SS\", \"MS\", \"SS\", \"SS\", \"MS\", \"MM\", \"MS\", \"SS\", \"MM\", \"MS\", \"SS\", \"SS\", \"SS\", \"SS\", \"MS\", \"SS\", \"SS\", \"SS\", \"SS\", \"MS\", \"SS\", \"MS\", \"SS\", \"MM\", \"SS\", \"SS\", \"SS\", \"MS\", \"MS\", \"SS\", \"SS\", \"MM\", \"MM\", \"SS\", \"SS\", \"SS\", \"SS\", \"SS\", \"SS\", \"SS\", \"SS\", \"SS\", \"SS\", \"SS\", \"SS\", \"SS\", \"MM\", \"SS\", \"MS\", \"MS\", \"SS\", \"MS\", \"SS\", \"SS\", \"MS\", \"SS\", \"SS\", \"SS\", \"SS\", \"MM\", \"SS\", \"SS\", \"SS\", \"MS\", \"MS\", \"MS\", \"MM\", \"MM\", \"MS\", \"MS\", \"MS\", \"SS\", \"SS\", \"MS\", \"MM\", \"SS\", \"MS\", \"SS\", \"SS\", \"SS\", \"SS\", \"MS\", \"SS\", \"SS\", \"SS\", \"MM\", \"SS\", \"SS\", \"SS\", \"MM\", \"SS\", \"SS\", \"MS\", \"SS\", \"MS\", \"SS\", \"SS\", \"SS\", \"MM\", \"SS\", \"MM\", \"SS\", \"SS\", \"MS\", \"MS\", \"MS\", \"MS\", \"MS\", \"MS\", \"MS\", \"MS\", \"SS\", \"MS\", \"SS\", \"SS\", \"SS\", \"SS\", \"SS\", \"SS\", \"SS\", \"SS\", \"SS\", \"SS\", \"SS\", \"MS\", \"MS\", \"MS\", \"SS\", \"SS\", \"MM\", \"TR\", \"MS\", \"SS\", \"SS\", \"MS\", \"MM\", \"SS\", \"MS\", \"SS\", \"MS\", \"MS\", \"MS\", \"MS\", \"MS\", \"MM\", \"MS\", \"MM\", \"II\", \"MM\", \"SS\", \"SS\", \"MI\", \"MS\", \"TR\", \"SS\", \"SS\", \"SS\", \"MS\", \"SS\", \"SS\", \"SS\", \"SS\", \"SS\", \"MS\", \"MM\", \"SS\", \"SS\", \"SS\", \"MS\", \"SS\", \"SS\", \"SS\", \"SS\", \"MS\", \"SS\", \"MM\", \"MS\", \"MS\", \"MS\", \"MM\", \"MS\", \"MS\", \"MM\", \"SS\", \"SS\", \"SS\", \"MM\", \"MM\", \"SS\", \"SS\", \"SS\", \"SS\", \"SS\", \"SS\", \"MS\", \"SS\", \"SS\", \"MS\", \"SS\", \"SR\", \"SS\", \"MS\", \"MS\", \"SS\", \"MS\", \"MS\", \"SS\", \"MS\", \"MS\", \"MM\", \"MM\", \"SS\", \"SS\", \"MI\", \"SS\", \"SS\", \"MS\", \"SS\", \"SS\", \"SS\", \"SS\", \"SS\", \"MS\", \"SS\", \"SS\", \"MM\", \"MS\", \"MS\", \"MM\", \"MS\", \"SS\", \"SS\", \"MS\", \"SS\", \"MS\", \"MS\", \"SS\", \"SS\", \"SS\", \"SS\", \"SS\", \"SS\", \"SS\", \"SS\", \"SS\", \"SS\", \"SS\", \"SS\", \"MM\", \"MS\", \"SS\", \"SS\", \"SS\", \"SS\", \"SS\", \"SS\", \"SS\", \"MS\", \"SS\", \"SS\", \"MM\", \"MM\", \"SS\", \"MM\", \"MS\", \"SS\", \"SS\", \"MS\", \"MS\", \"SS\", \"MM\", \"MM\", \"MS\", \"MS\", \"MS\", \"SS\", \"SS\", \"MS\", \"MS\", \"SS\", \"SS\", \"SS\", \"MS\", \"SS\", \"SS\", \"SS\", \"MM\", \"MS\", \"SS\", \"SS\", \"SS\", \"SS\", \"MS\", \"MS\", \"SS\", \"SS\", \"MM\", \"SS\", \"MS\", \"SS\", \"MS\", \"MS\", \"MS\", \"SS\", \"SS\", \"SS\", \"SS\", \"SS\", \"SS\", \"SS\", \"SS\", \"MS\", \"SS\", \"SS\", \"SS\", \"MS\", \"MS\", \"MS\", \"MS\", \"MS\", \"MM\", \"MM\", \"SS\", \"MS\", \"MS\", \"MM\", \"MM\", \"SS\", \"MM\", \"MS\", \"SS\", \"MM\", \"SS\", \"SS\", \"SS\", \"SS\", \"MS\", \"MS\", \"II\", \"MM\", \"MS\", \"SS\", \"SS\", \"SS\", \"TR\", \"SS\", \"SS\", \"SS\", \"MS\", \"SS\", \"SS\", \"SS\", \"SS\", \"SS\", \"SS\", \"MS\", \"MS\", \"SS\", \"SS\", \"MS\", \"SS\", \"II\", \"MS\", \"SS\", \"SS\", \"MS\", \"MM\", \"SS\", \"MS\", \"MS\", \"SS\", \"SR\", \"II\", \"SS\", \"SS\", \"MS\", \"SS\", \"MS\", \"SS\", \"SS\", \"SS\", \"SS\", \"SS\", \"MS\", \"SS\", \"SS\", \"MI\", \"MS\", \"MS\", \"MM\", \"MS\", \"SS\", \"SS\", \"SS\", \"SS\", \"SS\", \"MM\", \"SS\", \"SS\", \"MS\", \"SS\", \"MM\", \"MS\", \"SS\", \"MS\", \"SS\", \"SS\", \"MS\", \"SS\", \"SS\", \"SS\", \"MS\", \"SS\", \"SS\", \"MM\", \"MM\", \"SS\", \"SS\", \"MS\", \"SS\", \"SS\", \"MS\", \"SS\", \"SS\", \"SS\", \"MS\", \"SS\", \"SS\", \"MS\", \"MM\", \"SS\", \"SS\", \"MS\", \"MS\", \"SS\", \"MS\", \"SS\", \"MS\", \"SS\", \"MS\", \"SS\", \"SS\", \"SS\", \"MS\", \"MS\", \"MM\", \"MS\", \"MS\", \"SS\", \"SS\", \"SS\", \"SS\", \"SS\", \"MI\", \"MS\", \"SS\", \"SS\", \"MS\", \"MI\", \"SS\", \"II\", \"MM\", \"MS\", \"MS\", \"MS\", \"SS\", \"SS\", \"SS\", \"MM\", \"MS\", \"SS\", \"SS\", \"SS\", \"MS\", \"MS\", \"MI\", \"MS\", \"SS\", \"MM\", \"SS\", \"MM\", \"MM\", \"MM\", \"TR\", \"MS\", \"SS\", \"SS\", \"MM\", \"SS\", \"MS\", \"SR\", \"MM\", \"SS\", \"SS\", \"MS\", \"MM\", \"SS\", \"SS\", \"SS\", \"MS\", \"SS\", \"MS\", \"MM\", \"MS\", \"SS\", \"MS\", \"MS\", \"MS\", \"MS\", \"MS\", \"SS\", \"SS\", \"SS\", \"MS\", \"MM\", \"MM\", \"SS\", \"MS\", \"MM\", \"SS\", \"II\", \"MI\", \"MM\", \"MS\", \"SS\", \"MS\", \"MS\", \"MM\", \"SS\", \"TR\", \"MS\", \"MS\", \"MS\", \"MM\", \"MS\", \"MS\", \"MS\", \"SS\", \"MM\", \"MS\", \"SS\", \"SR\", \"SS\"], \"legendgroup\": \"\", \"name\": \"\", \"showlegend\": true, \"type\": \"pie\"}],\n",
       "                        {\"legend\": {\"tracegroupgap\": 0}, \"template\": {\"data\": {\"bar\": [{\"error_x\": {\"color\": \"#2a3f5f\"}, \"error_y\": {\"color\": \"#2a3f5f\"}, \"marker\": {\"line\": {\"color\": \"#E5ECF6\", \"width\": 0.5}}, \"type\": \"bar\"}], \"barpolar\": [{\"marker\": {\"line\": {\"color\": \"#E5ECF6\", \"width\": 0.5}}, \"type\": \"barpolar\"}], \"carpet\": [{\"aaxis\": {\"endlinecolor\": \"#2a3f5f\", \"gridcolor\": \"white\", \"linecolor\": \"white\", \"minorgridcolor\": \"white\", \"startlinecolor\": \"#2a3f5f\"}, \"baxis\": {\"endlinecolor\": \"#2a3f5f\", \"gridcolor\": \"white\", \"linecolor\": \"white\", \"minorgridcolor\": \"white\", \"startlinecolor\": \"#2a3f5f\"}, \"type\": \"carpet\"}], \"choropleth\": [{\"colorbar\": {\"outlinewidth\": 0, \"ticks\": \"\"}, \"type\": \"choropleth\"}], \"contour\": [{\"colorbar\": {\"outlinewidth\": 0, \"ticks\": \"\"}, \"colorscale\": [[0.0, \"#0d0887\"], [0.1111111111111111, \"#46039f\"], [0.2222222222222222, \"#7201a8\"], [0.3333333333333333, \"#9c179e\"], [0.4444444444444444, \"#bd3786\"], [0.5555555555555556, \"#d8576b\"], [0.6666666666666666, \"#ed7953\"], [0.7777777777777778, \"#fb9f3a\"], [0.8888888888888888, \"#fdca26\"], [1.0, \"#f0f921\"]], \"type\": \"contour\"}], \"contourcarpet\": [{\"colorbar\": {\"outlinewidth\": 0, \"ticks\": \"\"}, \"type\": \"contourcarpet\"}], \"heatmap\": [{\"colorbar\": {\"outlinewidth\": 0, \"ticks\": \"\"}, \"colorscale\": [[0.0, \"#0d0887\"], [0.1111111111111111, \"#46039f\"], [0.2222222222222222, \"#7201a8\"], [0.3333333333333333, \"#9c179e\"], [0.4444444444444444, \"#bd3786\"], [0.5555555555555556, \"#d8576b\"], [0.6666666666666666, \"#ed7953\"], [0.7777777777777778, \"#fb9f3a\"], [0.8888888888888888, \"#fdca26\"], [1.0, \"#f0f921\"]], \"type\": \"heatmap\"}], \"heatmapgl\": [{\"colorbar\": {\"outlinewidth\": 0, \"ticks\": \"\"}, \"colorscale\": [[0.0, \"#0d0887\"], [0.1111111111111111, \"#46039f\"], [0.2222222222222222, \"#7201a8\"], [0.3333333333333333, \"#9c179e\"], [0.4444444444444444, \"#bd3786\"], [0.5555555555555556, \"#d8576b\"], [0.6666666666666666, \"#ed7953\"], [0.7777777777777778, \"#fb9f3a\"], [0.8888888888888888, \"#fdca26\"], [1.0, \"#f0f921\"]], \"type\": \"heatmapgl\"}], \"histogram\": [{\"marker\": {\"colorbar\": {\"outlinewidth\": 0, \"ticks\": \"\"}}, \"type\": \"histogram\"}], \"histogram2d\": [{\"colorbar\": {\"outlinewidth\": 0, \"ticks\": \"\"}, \"colorscale\": [[0.0, \"#0d0887\"], [0.1111111111111111, \"#46039f\"], [0.2222222222222222, \"#7201a8\"], [0.3333333333333333, \"#9c179e\"], [0.4444444444444444, \"#bd3786\"], [0.5555555555555556, \"#d8576b\"], [0.6666666666666666, \"#ed7953\"], [0.7777777777777778, \"#fb9f3a\"], [0.8888888888888888, \"#fdca26\"], [1.0, \"#f0f921\"]], \"type\": \"histogram2d\"}], \"histogram2dcontour\": [{\"colorbar\": {\"outlinewidth\": 0, \"ticks\": \"\"}, \"colorscale\": [[0.0, \"#0d0887\"], [0.1111111111111111, \"#46039f\"], [0.2222222222222222, \"#7201a8\"], [0.3333333333333333, \"#9c179e\"], [0.4444444444444444, \"#bd3786\"], [0.5555555555555556, \"#d8576b\"], [0.6666666666666666, \"#ed7953\"], [0.7777777777777778, \"#fb9f3a\"], [0.8888888888888888, \"#fdca26\"], [1.0, \"#f0f921\"]], \"type\": \"histogram2dcontour\"}], \"mesh3d\": [{\"colorbar\": {\"outlinewidth\": 0, \"ticks\": \"\"}, \"type\": \"mesh3d\"}], \"parcoords\": [{\"line\": {\"colorbar\": {\"outlinewidth\": 0, \"ticks\": \"\"}}, \"type\": \"parcoords\"}], \"pie\": [{\"automargin\": true, \"type\": \"pie\"}], \"scatter\": [{\"marker\": {\"colorbar\": {\"outlinewidth\": 0, \"ticks\": \"\"}}, \"type\": \"scatter\"}], \"scatter3d\": [{\"line\": {\"colorbar\": {\"outlinewidth\": 0, \"ticks\": \"\"}}, \"marker\": {\"colorbar\": {\"outlinewidth\": 0, \"ticks\": \"\"}}, \"type\": \"scatter3d\"}], \"scattercarpet\": [{\"marker\": {\"colorbar\": {\"outlinewidth\": 0, \"ticks\": \"\"}}, \"type\": \"scattercarpet\"}], \"scattergeo\": [{\"marker\": {\"colorbar\": {\"outlinewidth\": 0, \"ticks\": \"\"}}, \"type\": \"scattergeo\"}], \"scattergl\": [{\"marker\": {\"colorbar\": {\"outlinewidth\": 0, \"ticks\": \"\"}}, \"type\": \"scattergl\"}], \"scattermapbox\": [{\"marker\": {\"colorbar\": {\"outlinewidth\": 0, \"ticks\": \"\"}}, \"type\": \"scattermapbox\"}], \"scatterpolar\": [{\"marker\": {\"colorbar\": {\"outlinewidth\": 0, \"ticks\": \"\"}}, \"type\": \"scatterpolar\"}], \"scatterpolargl\": [{\"marker\": {\"colorbar\": {\"outlinewidth\": 0, \"ticks\": \"\"}}, \"type\": \"scatterpolargl\"}], \"scatterternary\": [{\"marker\": {\"colorbar\": {\"outlinewidth\": 0, \"ticks\": \"\"}}, \"type\": \"scatterternary\"}], \"surface\": [{\"colorbar\": {\"outlinewidth\": 0, \"ticks\": \"\"}, \"colorscale\": [[0.0, \"#0d0887\"], [0.1111111111111111, \"#46039f\"], [0.2222222222222222, \"#7201a8\"], [0.3333333333333333, \"#9c179e\"], [0.4444444444444444, \"#bd3786\"], [0.5555555555555556, \"#d8576b\"], [0.6666666666666666, \"#ed7953\"], [0.7777777777777778, \"#fb9f3a\"], [0.8888888888888888, \"#fdca26\"], [1.0, \"#f0f921\"]], \"type\": \"surface\"}], \"table\": [{\"cells\": {\"fill\": {\"color\": \"#EBF0F8\"}, \"line\": {\"color\": \"white\"}}, \"header\": {\"fill\": {\"color\": \"#C8D4E3\"}, \"line\": {\"color\": \"white\"}}, \"type\": \"table\"}]}, \"layout\": {\"annotationdefaults\": {\"arrowcolor\": \"#2a3f5f\", \"arrowhead\": 0, \"arrowwidth\": 1}, \"coloraxis\": {\"colorbar\": {\"outlinewidth\": 0, \"ticks\": \"\"}}, \"colorscale\": {\"diverging\": [[0, \"#8e0152\"], [0.1, \"#c51b7d\"], [0.2, \"#de77ae\"], [0.3, \"#f1b6da\"], [0.4, \"#fde0ef\"], [0.5, \"#f7f7f7\"], [0.6, \"#e6f5d0\"], [0.7, \"#b8e186\"], [0.8, \"#7fbc41\"], [0.9, \"#4d9221\"], [1, \"#276419\"]], \"sequential\": [[0.0, \"#0d0887\"], [0.1111111111111111, \"#46039f\"], [0.2222222222222222, \"#7201a8\"], [0.3333333333333333, \"#9c179e\"], [0.4444444444444444, \"#bd3786\"], [0.5555555555555556, \"#d8576b\"], [0.6666666666666666, \"#ed7953\"], [0.7777777777777778, \"#fb9f3a\"], [0.8888888888888888, \"#fdca26\"], [1.0, \"#f0f921\"]], \"sequentialminus\": [[0.0, \"#0d0887\"], [0.1111111111111111, \"#46039f\"], [0.2222222222222222, \"#7201a8\"], [0.3333333333333333, \"#9c179e\"], [0.4444444444444444, \"#bd3786\"], [0.5555555555555556, \"#d8576b\"], [0.6666666666666666, \"#ed7953\"], [0.7777777777777778, \"#fb9f3a\"], [0.8888888888888888, \"#fdca26\"], [1.0, \"#f0f921\"]]}, \"colorway\": [\"#636efa\", \"#EF553B\", \"#00cc96\", \"#ab63fa\", \"#FFA15A\", \"#19d3f3\", \"#FF6692\", \"#B6E880\", \"#FF97FF\", \"#FECB52\"], \"font\": {\"color\": \"#2a3f5f\"}, \"geo\": {\"bgcolor\": \"white\", \"lakecolor\": \"white\", \"landcolor\": \"#E5ECF6\", \"showlakes\": true, \"showland\": true, \"subunitcolor\": \"white\"}, \"hoverlabel\": {\"align\": \"left\"}, \"hovermode\": \"closest\", \"mapbox\": {\"style\": \"light\"}, \"paper_bgcolor\": \"white\", \"plot_bgcolor\": \"#E5ECF6\", \"polar\": {\"angularaxis\": {\"gridcolor\": \"white\", \"linecolor\": \"white\", \"ticks\": \"\"}, \"bgcolor\": \"#E5ECF6\", \"radialaxis\": {\"gridcolor\": \"white\", \"linecolor\": \"white\", \"ticks\": \"\"}}, \"scene\": {\"xaxis\": {\"backgroundcolor\": \"#E5ECF6\", \"gridcolor\": \"white\", \"gridwidth\": 2, \"linecolor\": \"white\", \"showbackground\": true, \"ticks\": \"\", \"zerolinecolor\": \"white\"}, \"yaxis\": {\"backgroundcolor\": \"#E5ECF6\", \"gridcolor\": \"white\", \"gridwidth\": 2, \"linecolor\": \"white\", \"showbackground\": true, \"ticks\": \"\", \"zerolinecolor\": \"white\"}, \"zaxis\": {\"backgroundcolor\": \"#E5ECF6\", \"gridcolor\": \"white\", \"gridwidth\": 2, \"linecolor\": \"white\", \"showbackground\": true, \"ticks\": \"\", \"zerolinecolor\": \"white\"}}, \"shapedefaults\": {\"line\": {\"color\": \"#2a3f5f\"}}, \"ternary\": {\"aaxis\": {\"gridcolor\": \"white\", \"linecolor\": \"white\", \"ticks\": \"\"}, \"baxis\": {\"gridcolor\": \"white\", \"linecolor\": \"white\", \"ticks\": \"\"}, \"bgcolor\": \"#E5ECF6\", \"caxis\": {\"gridcolor\": \"white\", \"linecolor\": \"white\", \"ticks\": \"\"}}, \"title\": {\"x\": 0.05}, \"xaxis\": {\"automargin\": true, \"gridcolor\": \"white\", \"linecolor\": \"white\", \"ticks\": \"\", \"title\": {\"standoff\": 15}, \"zerolinecolor\": \"white\", \"zerolinewidth\": 2}, \"yaxis\": {\"automargin\": true, \"gridcolor\": \"white\", \"linecolor\": \"white\", \"ticks\": \"\", \"title\": {\"standoff\": 15}, \"zerolinecolor\": \"white\", \"zerolinewidth\": 2}}}, \"title\": {\"text\": \"Contabilizacao das Mencoes\"}},\n",
       "                        {\"responsive\": true}\n",
       "                    ).then(function(){\n",
       "                            \n",
       "var gd = document.getElementById('db3dab2f-81d4-4585-9d9a-5aabc8241ac4');\n",
       "var x = new MutationObserver(function (mutations, observer) {{\n",
       "        var display = window.getComputedStyle(gd).display;\n",
       "        if (!display || display === 'none') {{\n",
       "            console.log([gd, 'removed!']);\n",
       "            Plotly.purge(gd);\n",
       "            observer.disconnect();\n",
       "        }}\n",
       "}});\n",
       "\n",
       "// Listen for the removal of the full notebook cells\n",
       "var notebookContainer = gd.closest('#notebook-container');\n",
       "if (notebookContainer) {{\n",
       "    x.observe(notebookContainer, {childList: true});\n",
       "}}\n",
       "\n",
       "// Listen for the clearing of the current output cell\n",
       "var outputEl = gd.closest('.output');\n",
       "if (outputEl) {{\n",
       "    x.observe(outputEl, {childList: true});\n",
       "}}\n",
       "\n",
       "                        })\n",
       "                };\n",
       "                });\n",
       "            </script>\n",
       "        </div>"
      ]
     },
     "metadata": {},
     "output_type": "display_data"
    }
   ],
   "source": [
    "mencoes = precdf.groupby(['Menção']).size()\n",
    "\n",
    "fig = px.pie(precdf, names='Menção', title='Contabilizacao das Mencoes')\n",
    "fig.show()"
   ]
  },
  {
   "cell_type": "code",
   "execution_count": null,
   "metadata": {},
   "outputs": [],
   "source": [
    "precdf = precdf.rename(columns={'Período':'periodo', 'Código da Disciplina': 'codigo_disciplina','Menção' : 'mencao'})\n",
    "\n",
    "precdf"
   ]
  },
  {
   "cell_type": "code",
   "execution_count": 7,
   "metadata": {},
   "outputs": [
    {
     "name": "stdout",
     "output_type": "stream",
     "text": [
      "Disciplina                                                              Código da Disciplina  Turma\n",
      "Algoritmos e Estruturas de Dados                                        301477                A         5\n",
      "Análise Estatística de Dados e Informações                              301566                A         3\n",
      "Apresentação de Grupos e Métodos Computacionais                         313629                A         1\n",
      "Armazenamento e Gerenciamento de Informações                            301841                A         1\n",
      "Arquitetura e Desenho de Software                                       301892                A         3\n",
      "Arquiteturas VLSI                                                       316407                          2\n",
      "                                                                                              A         5\n",
      "Banco de Dados Massivos                                                 311596                A         1\n",
      "Construção de Software                                                  301906                A         3\n",
      "Convergência de Redes                                                   301833                A         1\n",
      "Criptografia                                                            363723                A         4\n",
      "Criptografia e Segurança de Dados                                       363723                A         4\n",
      "Delineamento e Análise de Experimentos                                  315486                A         2\n",
      "Ecologia de Paisagens                                                   323543                A         1\n",
      "Engenharia de Requisitos                                                301884                A         3\n",
      "Engenharia de Software 1                                                316237                          3\n",
      "                                                                                              A         2\n",
      "Engenharia de Software 2                                                316245                          2\n",
      "                                                                                              A         6\n",
      "                                                                                              VA        2\n",
      "Estudo Orientado em Instrumentação Biomédica 1                          302881                B         1\n",
      "Estudo Orientado em Proc de Sinais Biomédicos e Imagens Médicas 1       395684                A         1\n",
      "Estágio de Docência no Ensino de Graduação em Ciência da Computação     316334                A        22\n",
      "                                                                                              AA        2\n",
      "                                                                                              AD        7\n",
      "                                                                                              AM        1\n",
      "                                                                                              B         2\n",
      "                                                                                              BE        3\n",
      "                                                                                              C         2\n",
      "                                                                                              D         3\n",
      "                                                                                              E         4\n",
      "                                                                                              EA        2\n",
      "                                                                                              F         4\n",
      "                                                                                              G         2\n",
      "                                                                                              GN        1\n",
      "                                                                                              GT        4\n",
      "                                                                                              H         2\n",
      "                                                                                              I         1\n",
      "                                                                                              J         2\n",
      "                                                                                              JB        1\n",
      "                                                                                              L         1\n",
      "                                                                                              M         2\n",
      "                                                                                              MA        2\n",
      "                                                                                              ME        2\n",
      "                                                                                              MH        3\n",
      "                                                                                              MR        2\n",
      "                                                                                              MW        2\n",
      "                                                                                              N         2\n",
      "                                                                                              RJ        1\n",
      "Exame de Qualificação                                                   316580                A        40\n",
      "                                                                                              Z         6\n",
      "                                                                                              ZZ       13\n",
      "Fundamentos de Banco de Dados                                           301558                A         5\n",
      "Fundamentos de Computação Gráfica e Visual                              365289                          1\n",
      "Fundamentos de Sistema de Informações Geográficas                       319341                A         1\n",
      "Fundamentos de Sistemas Computacionais                                  316377                          2\n",
      "                                                                                              A        84\n",
      "Fundamentos em Pesquisa Operacional                                     301809                A         1\n",
      "Geometria Diferencial                                                   313343                A         1\n",
      "Gestão de Projetos de TI                                                301817                A         2\n",
      "Informação e Codificação                                                363031                A         1\n",
      "Instrumentação Eletromédica                                             302848                A         1\n",
      "Inteligência Artificial 1                                               316024                          3\n",
      "                                                                                              A        31\n",
      "Inteligência Artificial 2                                               316032                          2\n",
      "                                                                                              A        33\n",
      "Introdução a Lógica Formal                                              313998                A         1\n",
      "Introdução aos Sistemas Inteligentes                                    366200                A         1\n",
      "Introdução à Probabilidade e Aplicações                                 313157                A         1\n",
      "Linguagens Declarativas                                                 316041                A         6\n",
      "Linguagens Para Inteligencia Artificial                                 316041                A         6\n",
      "Lógica Clássica e Extensões                                             313998                A         1\n",
      "Lógica Formal Aplicada                                                  316016                A         1\n",
      "Lógica Formal e Computacional                                           316601                A         8\n",
      "Medida e Integração                                                     313220                A         1\n",
      "Mineração de Dados                                                      301795                A         5\n",
      "Mineração de Dados Massivos                                             311642                A         2\n",
      "Modelagem e Verificação de Sistemas Integrados em Silício               316636                A         2\n",
      "Modelos em Ecologia                                                     322580                A         1\n",
      "Métodos Computacionais Intensivos para Mineração de Dados               311618                A         1\n",
      "Métodos Estatísticos 1                                                  315125                A         2\n",
      "Noções Básicas de Seleção de Amostras                                   311979                A         1\n",
      "Pesquisa em Infraestrutura de TI                                        301876                E         1\n",
      "Polonês 1                                                               150657                A         1\n",
      "Processamento Digital de Sinais                                         398420                          1\n",
      "                                                                                              A         3\n",
      "Processamento de Imagens                                                316466                          2\n",
      "                                                                                              A         5\n",
      "Processamento de Imagens Digitais                                       316385                          2\n",
      "                                                                                              A         6\n",
      "Processamento de Sinais                                                 363111                A         2\n",
      "Processos Estocásticos                                                  367354                A         4\n",
      "Proficiência em Inglês                                                  316547                          1\n",
      "                                                                                              A        51\n",
      "                                                                                              Z         2\n",
      "                                                                                              ZZ       21\n",
      "Programação Paralela                                                    316342                          2\n",
      "                                                                                              A        14\n",
      "Projeto de Equipamentos Médicos                                         302945                A         1\n",
      "Projeto e Complexidade de Algoritmos                                    316393                         10\n",
      "                                                                                              A        73\n",
      "Projeto e Complexidade de Algorítmos 2                                  316598                          1\n",
      "                                                                                              A         3\n",
      "Reconhecimento de Padrões                                               316474                          2\n",
      "Redes de Acesso                                                         301825                A         1\n",
      "Redes de Computadores                                                   363685                A         2\n",
      "Seminário                                                               316415                A        84\n",
      "Seminário de Computação                                                 313599                A         3\n",
      "Sistemas Digitais para Automação                                        364762                A         2\n",
      "Sistemas Distribuídos                                                   316440                          1\n",
      "                                                                                              A        32\n",
      "Sistemas Multiagentes                                                   316563                          1\n",
      "                                                                                              A        22\n",
      "Sistemas Operacionais                                                   363669                A         1\n",
      "Teoria da Computação                                                    316296                          8\n",
      "                                                                                              A        67\n",
      "                                                                                              M         6\n",
      "Teoria da Informação                                                    367443                A         2\n",
      "Teoria de Grupos Finitos                                                313131                A         1\n",
      "Teoria de Grupos Finitos 1                                              313131                A         1\n",
      "Teoria de Prova                                                         303666                A         3\n",
      "Teoria dos Grupos Finitos 2                                             313386                A         1\n",
      "Teoria dos Jogos                                                        333859                A         4\n",
      "Trabalho Individual em Fundamentos e Métodos de Computação              316521                A        10\n",
      "                                                                                              AA        1\n",
      "                                                                                              B         2\n",
      "                                                                                              C         2\n",
      "                                                                                              CG        1\n",
      "                                                                                              CR        3\n",
      "                                                                                              D         1\n",
      "                                                                                              E         2\n",
      "                                                                                              F         2\n",
      "                                                                                              GR        2\n",
      "                                                                                              LW        1\n",
      "                                                                                              M         2\n",
      "                                                                                              MA        2\n",
      "                                                                                              ME        2\n",
      "                                                                                              MH        2\n",
      "                                                                                              RA        1\n",
      "                                                                                              RB        1\n",
      "                                                                                              VA        2\n",
      "Trabalho Individual em Sistemas de Computação                           316512                A         4\n",
      "                                                                                              AB        1\n",
      "                                                                                              AD        3\n",
      "                                                                                              AL        1\n",
      "                                                                                              AM        2\n",
      "                                                                                              B         2\n",
      "                                                                                              C         1\n",
      "                                                                                              D         3\n",
      "                                                                                              EA        2\n",
      "                                                                                              GR        2\n",
      "                                                                                              GT        3\n",
      "                                                                                              JB        1\n",
      "                                                                                              MF        3\n",
      "                                                                                              MR        1\n",
      "                                                                                              RB        1\n",
      "                                                                                              RJ        3\n",
      "                                                                                              T         2\n",
      "Treinamento e Desenvolvimento de Pessoal                                325449                GA        1\n",
      "Tópicos Avançados em Engenharia de Software                             301922                A         3\n",
      "Tópicos Avançados em Infraestrutura de TI                               301868                A         1\n",
      "Tópicos Avançados em Mineração de Dados                                 311995                A         1\n",
      "Tópicos Avançados em Sistemas Mecatrônicos 1                            364592                A         1\n",
      "                                                                                              D         1\n",
      "Tópicos Avançados em Sistemas Mecatrônicos 2                            364606                A         2\n",
      "Tópicos Avançados em Sistemas de Computação                             316652                          4\n",
      "                                                                                              A         3\n",
      "Tópicos Especiais em Comunicação e Mediação da Informação               382752                A         1\n",
      "Tópicos Especiais em Gestão Ambiental                                   365726                A         2\n",
      "Tópicos Especiais em Métodos Quantitativos 2                            332801                A         2\n",
      "Tópicos de Pesquisa em Informática                                      316571                          1\n",
      "                                                                                              A         5\n",
      "                                                                                              B         2\n",
      "Tópicos em Banco de Dados                                               323641                A         5\n",
      "Tópicos em Engenharia de Software                                       316261                          3\n",
      "                                                                                              A        17\n",
      "Tópicos em Formalismos de Computação                                    316482                A         5\n",
      "                                                                                              B         5\n",
      "Tópicos em Fundamentos e Métodos da Computação                          318761                A         1\n",
      "Tópicos em Fundamentos e Métodos de Computação                          316504                          7\n",
      "                                                                                              A        41\n",
      "                                                                                              B         6\n",
      "                                                                                              C        15\n",
      "                                                                                              D         7\n",
      "                                                                                              E         3\n",
      "Tópicos em Gestão Ambiental 1                                           365726                A         2\n",
      "Tópicos em Redes de Comunicação 1                                       363715                A         1\n",
      "Tópicos em Sistemas Distribuídos                                        301850                A         1\n",
      "Tópicos em Sistemas de Computação                                       316491                          6\n",
      "                                                                                              A        29\n",
      "                                                                                              AA        1\n",
      "                                                                                              B         8\n",
      "                                                                                              BE        1\n",
      "                                                                                              C         8\n",
      "                                                                                              D         6\n",
      "                                                                                              RJ        1\n",
      "                                                                                              TC        1\n",
      "Tópicos em Teleinformática                                              363715                A         1\n",
      "Verificação, Validação e Testes de Software                             301914                A         3\n",
      "Visão Computacional                                                     364622                A         1\n",
      "Álgebra Comutativa                                                      314544                A         1\n",
      "dtype: int64\n"
     ]
    }
   ],
   "source": [
    "print(disciplinas)"
   ]
  },
  {
   "cell_type": "code",
   "execution_count": 8,
   "metadata": {},
   "outputs": [],
   "source": []
  },
  {
   "cell_type": "code",
   "execution_count": null,
   "metadata": {},
   "outputs": [],
   "source": [
    "mencoes = precdf.groupby(['Menção']).size()\n",
    "\n",
    "fig = px.pie(df, names='Menção', title='Contabilizacao das Mencoes')\n",
    "fig.show()"
   ]
  },
  {
   "cell_type": "code",
   "execution_count": 9,
   "metadata": {},
   "outputs": [
    {
     "name": "stdout",
     "output_type": "stream",
     "text": [
      "      periodo  codigo_disciplina  mencao\n",
      "0       20102             316261       5\n",
      "1       20102             316440       3\n",
      "2       20102             316032       5\n",
      "3       20102             316504       3\n",
      "4       20102             316296       2\n",
      "...       ...                ...     ...\n",
      "1140    20192             316377       2\n",
      "1141    20192             316261       3\n",
      "1142    20192             316415       5\n",
      "1143    20192             316296       4\n",
      "1144    20192             316334       5\n",
      "\n",
      "[913 rows x 3 columns]\n",
      "Index(['mencao'], dtype='object')\n"
     ]
    }
   ],
   "source": [
    "precdf['mencao'] = precdf['mencao'].astype('category')\n",
    "\n",
    "cat_columns = precdf.select_dtypes(['category']).columns\n",
    "\n",
    "precdf[cat_columns] = precdf[cat_columns].apply(lambda x: x.cat.codes)\n",
    "\n",
    "print(precdf)\n",
    "\n",
    "print(cat_columns)"
   ]
  },
  {
   "cell_type": "code",
   "execution_count": null,
   "metadata": {},
   "outputs": [],
   "source": []
  },
  {
   "cell_type": "markdown",
   "metadata": {},
   "source": [
    "### Dummy variables"
   ]
  },
  {
   "cell_type": "code",
   "execution_count": 10,
   "metadata": {},
   "outputs": [
    {
     "name": "stdout",
     "output_type": "stream",
     "text": [
      "mencao\n",
      "0      6\n",
      "1     12\n",
      "2    127\n",
      "3    297\n",
      "4      6\n",
      "5    455\n",
      "6     10\n",
      "dtype: int64\n",
      "\n",
      "Menção\n",
      "AP    120\n",
      "CC    102\n",
      "DP      9\n",
      "II      6\n",
      "MI     12\n",
      "MM    127\n",
      "MS    297\n",
      "RP      1\n",
      "SR      6\n",
      "SS    455\n",
      "TR     10\n",
      "dtype: int64\n"
     ]
    }
   ],
   "source": [
    "#pd.get_dummies(df, prefix=['Código da Disciplina'])\n",
    "mencoes = precdf.groupby(['mencao']).size()\n",
    "\n",
    "print(mencoes)\n",
    "\n",
    "mencoes = df.groupby(['Menção']).size()\n",
    "\n",
    "print()\n",
    "\n",
    "print(mencoes)"
   ]
  },
  {
   "cell_type": "markdown",
   "metadata": {},
   "source": [
    "### Visualization based on Parallel Coordinates"
   ]
  },
  {
   "cell_type": "code",
   "execution_count": 12,
   "metadata": {},
   "outputs": [
    {
     "data": {
      "application/vnd.plotly.v1+json": {
       "config": {
        "plotlyServerURL": "https://plot.ly"
       },
       "data": [
        {
         "dimensions": [
          {
           "label": "Período",
           "range": [
            20102,
            20192
           ],
           "values": [
            20102,
            20102,
            20102,
            20102,
            20102,
            20102,
            20102,
            20102,
            20102,
            20102,
            20102,
            20102,
            20102,
            20102,
            20102,
            20102,
            20102,
            20102,
            20102,
            20102,
            20102,
            20102,
            20102,
            20102,
            20102,
            20102,
            20102,
            20102,
            20102,
            20102,
            20102,
            20102,
            20102,
            20102,
            20111,
            20111,
            20111,
            20111,
            20111,
            20111,
            20111,
            20111,
            20111,
            20111,
            20111,
            20111,
            20111,
            20111,
            20111,
            20111,
            20111,
            20111,
            20111,
            20111,
            20111,
            20111,
            20111,
            20111,
            20111,
            20111,
            20111,
            20111,
            20111,
            20111,
            20111,
            20111,
            20111,
            20111,
            20111,
            20111,
            20111,
            20112,
            20112,
            20112,
            20112,
            20112,
            20112,
            20112,
            20112,
            20112,
            20112,
            20112,
            20112,
            20112,
            20112,
            20112,
            20112,
            20112,
            20112,
            20112,
            20112,
            20112,
            20112,
            20112,
            20112,
            20112,
            20112,
            20112,
            20112,
            20112,
            20112,
            20112,
            20112,
            20112,
            20112,
            20112,
            20112,
            20112,
            20121,
            20121,
            20121,
            20121,
            20121,
            20121,
            20121,
            20121,
            20121,
            20121,
            20121,
            20121,
            20121,
            20121,
            20121,
            20121,
            20121,
            20121,
            20121,
            20121,
            20121,
            20121,
            20121,
            20121,
            20121,
            20121,
            20121,
            20121,
            20121,
            20121,
            20121,
            20121,
            20121,
            20121,
            20121,
            20121,
            20121,
            20121,
            20121,
            20121,
            20121,
            20121,
            20121,
            20121,
            20121,
            20121,
            20122,
            20122,
            20122,
            20122,
            20122,
            20122,
            20122,
            20122,
            20122,
            20122,
            20122,
            20122,
            20122,
            20122,
            20122,
            20122,
            20122,
            20122,
            20122,
            20122,
            20122,
            20122,
            20122,
            20122,
            20122,
            20122,
            20122,
            20122,
            20122,
            20122,
            20122,
            20122,
            20122,
            20122,
            20122,
            20122,
            20122,
            20122,
            20122,
            20122,
            20131,
            20131,
            20131,
            20131,
            20131,
            20131,
            20131,
            20131,
            20131,
            20131,
            20131,
            20131,
            20131,
            20131,
            20131,
            20131,
            20131,
            20131,
            20131,
            20131,
            20131,
            20131,
            20131,
            20131,
            20131,
            20131,
            20131,
            20131,
            20131,
            20131,
            20131,
            20131,
            20131,
            20131,
            20131,
            20131,
            20131,
            20131,
            20131,
            20131,
            20131,
            20131,
            20131,
            20131,
            20131,
            20131,
            20132,
            20132,
            20132,
            20132,
            20132,
            20132,
            20132,
            20132,
            20132,
            20132,
            20132,
            20132,
            20132,
            20132,
            20132,
            20132,
            20132,
            20132,
            20132,
            20132,
            20132,
            20132,
            20132,
            20132,
            20132,
            20132,
            20132,
            20132,
            20132,
            20132,
            20132,
            20132,
            20132,
            20132,
            20132,
            20132,
            20132,
            20132,
            20132,
            20132,
            20132,
            20132,
            20132,
            20132,
            20132,
            20141,
            20141,
            20141,
            20141,
            20141,
            20141,
            20141,
            20141,
            20141,
            20141,
            20141,
            20141,
            20141,
            20141,
            20141,
            20141,
            20141,
            20141,
            20141,
            20141,
            20141,
            20141,
            20141,
            20141,
            20141,
            20141,
            20141,
            20141,
            20141,
            20141,
            20141,
            20141,
            20141,
            20141,
            20141,
            20141,
            20141,
            20141,
            20141,
            20141,
            20141,
            20141,
            20141,
            20141,
            20141,
            20141,
            20141,
            20141,
            20141,
            20141,
            20141,
            20141,
            20141,
            20141,
            20141,
            20141,
            20141,
            20141,
            20141,
            20141,
            20141,
            20141,
            20141,
            20142,
            20142,
            20142,
            20142,
            20142,
            20142,
            20142,
            20142,
            20142,
            20142,
            20142,
            20142,
            20142,
            20142,
            20142,
            20142,
            20142,
            20142,
            20142,
            20142,
            20142,
            20142,
            20142,
            20142,
            20142,
            20142,
            20142,
            20142,
            20142,
            20142,
            20142,
            20142,
            20142,
            20142,
            20142,
            20142,
            20142,
            20142,
            20142,
            20142,
            20142,
            20142,
            20142,
            20142,
            20142,
            20142,
            20142,
            20142,
            20142,
            20142,
            20142,
            20142,
            20142,
            20151,
            20151,
            20151,
            20151,
            20151,
            20151,
            20151,
            20151,
            20151,
            20151,
            20151,
            20151,
            20151,
            20151,
            20151,
            20151,
            20151,
            20151,
            20151,
            20151,
            20151,
            20151,
            20151,
            20151,
            20151,
            20151,
            20151,
            20151,
            20151,
            20151,
            20151,
            20151,
            20151,
            20151,
            20151,
            20151,
            20151,
            20151,
            20151,
            20151,
            20151,
            20151,
            20151,
            20151,
            20151,
            20151,
            20151,
            20152,
            20152,
            20152,
            20152,
            20152,
            20152,
            20152,
            20152,
            20152,
            20152,
            20152,
            20152,
            20152,
            20152,
            20152,
            20152,
            20152,
            20152,
            20152,
            20152,
            20152,
            20152,
            20152,
            20152,
            20152,
            20152,
            20152,
            20152,
            20152,
            20152,
            20152,
            20152,
            20152,
            20152,
            20152,
            20152,
            20152,
            20152,
            20152,
            20152,
            20152,
            20161,
            20161,
            20161,
            20161,
            20161,
            20161,
            20161,
            20161,
            20161,
            20161,
            20161,
            20161,
            20161,
            20161,
            20161,
            20161,
            20161,
            20161,
            20161,
            20161,
            20161,
            20161,
            20161,
            20161,
            20161,
            20161,
            20161,
            20161,
            20161,
            20161,
            20161,
            20161,
            20161,
            20161,
            20161,
            20161,
            20161,
            20161,
            20161,
            20161,
            20161,
            20161,
            20161,
            20161,
            20161,
            20161,
            20161,
            20161,
            20161,
            20161,
            20161,
            20161,
            20161,
            20161,
            20161,
            20161,
            20161,
            20161,
            20161,
            20161,
            20161,
            20161,
            20161,
            20161,
            20161,
            20161,
            20161,
            20161,
            20161,
            20161,
            20161,
            20162,
            20162,
            20162,
            20162,
            20162,
            20162,
            20162,
            20162,
            20162,
            20162,
            20162,
            20162,
            20162,
            20162,
            20162,
            20162,
            20162,
            20162,
            20162,
            20162,
            20162,
            20162,
            20162,
            20162,
            20162,
            20162,
            20162,
            20162,
            20162,
            20162,
            20162,
            20162,
            20162,
            20162,
            20162,
            20162,
            20162,
            20162,
            20162,
            20162,
            20162,
            20162,
            20162,
            20162,
            20162,
            20162,
            20162,
            20162,
            20162,
            20162,
            20162,
            20171,
            20171,
            20171,
            20171,
            20171,
            20171,
            20171,
            20171,
            20171,
            20171,
            20171,
            20171,
            20171,
            20171,
            20171,
            20171,
            20171,
            20171,
            20171,
            20171,
            20171,
            20171,
            20171,
            20171,
            20171,
            20171,
            20171,
            20171,
            20171,
            20171,
            20171,
            20171,
            20171,
            20171,
            20171,
            20171,
            20171,
            20171,
            20171,
            20171,
            20171,
            20171,
            20171,
            20171,
            20171,
            20171,
            20171,
            20171,
            20172,
            20172,
            20172,
            20172,
            20172,
            20172,
            20172,
            20172,
            20172,
            20172,
            20172,
            20172,
            20172,
            20172,
            20172,
            20172,
            20172,
            20172,
            20172,
            20172,
            20172,
            20172,
            20172,
            20172,
            20172,
            20172,
            20172,
            20172,
            20172,
            20172,
            20172,
            20172,
            20172,
            20172,
            20172,
            20172,
            20172,
            20172,
            20172,
            20172,
            20172,
            20172,
            20172,
            20181,
            20181,
            20181,
            20181,
            20181,
            20181,
            20181,
            20181,
            20181,
            20181,
            20181,
            20181,
            20181,
            20181,
            20181,
            20181,
            20181,
            20181,
            20181,
            20181,
            20181,
            20181,
            20181,
            20181,
            20181,
            20181,
            20181,
            20181,
            20181,
            20181,
            20181,
            20181,
            20181,
            20181,
            20181,
            20181,
            20181,
            20181,
            20181,
            20181,
            20181,
            20181,
            20181,
            20181,
            20181,
            20181,
            20181,
            20181,
            20181,
            20181,
            20181,
            20181,
            20181,
            20181,
            20181,
            20181,
            20181,
            20181,
            20181,
            20181,
            20181,
            20181,
            20181,
            20181,
            20181,
            20181,
            20181,
            20182,
            20182,
            20182,
            20182,
            20182,
            20182,
            20182,
            20182,
            20182,
            20182,
            20182,
            20182,
            20182,
            20182,
            20182,
            20182,
            20182,
            20182,
            20182,
            20182,
            20182,
            20182,
            20182,
            20182,
            20182,
            20182,
            20182,
            20182,
            20182,
            20182,
            20182,
            20182,
            20182,
            20182,
            20182,
            20182,
            20182,
            20182,
            20182,
            20182,
            20182,
            20182,
            20182,
            20182,
            20182,
            20182,
            20191,
            20191,
            20191,
            20191,
            20191,
            20191,
            20191,
            20191,
            20191,
            20191,
            20191,
            20191,
            20191,
            20191,
            20191,
            20191,
            20191,
            20191,
            20191,
            20191,
            20191,
            20191,
            20191,
            20191,
            20191,
            20191,
            20191,
            20191,
            20191,
            20191,
            20191,
            20191,
            20191,
            20191,
            20191,
            20191,
            20191,
            20191,
            20191,
            20191,
            20191,
            20191,
            20191,
            20191,
            20191,
            20191,
            20191,
            20191,
            20191,
            20191,
            20191,
            20192,
            20192,
            20192,
            20192,
            20192,
            20192,
            20192,
            20192,
            20192,
            20192,
            20192,
            20192,
            20192,
            20192,
            20192,
            20192,
            20192,
            20192,
            20192,
            20192,
            20192,
            20192,
            20192,
            20192,
            20192,
            20192,
            20192,
            20192,
            20192,
            20192,
            20192,
            20192,
            20192,
            20192,
            20192,
            20192,
            20192,
            20192,
            20192,
            20192,
            20192,
            20192,
            20192,
            20192,
            20192,
            20192,
            20192
           ]
          },
          {
           "label": "Código da Disciplina",
           "range": [
            300000,
            398420
           ],
           "values": [
            316261,
            316440,
            316032,
            316504,
            316296,
            316504,
            316296,
            316491,
            363111,
            316296,
            316261,
            316415,
            316504,
            316032,
            316296,
            316440,
            313343,
            313599,
            316296,
            316504,
            316296,
            316504,
            316296,
            323543,
            316385,
            316504,
            316261,
            316032,
            316296,
            316440,
            313386,
            316504,
            316261,
            316296,
            316245,
            316563,
            316024,
            316393,
            316377,
            316563,
            302848,
            302945,
            316377,
            316563,
            316377,
            316393,
            316415,
            363723,
            363723,
            316415,
            316393,
            313131,
            313131,
            316563,
            316415,
            316563,
            316377,
            316393,
            316377,
            316393,
            316393,
            316504,
            316415,
            316393,
            316377,
            316393,
            316393,
            316377,
            316563,
            316393,
            316393,
            316571,
            332801,
            316261,
            316415,
            316334,
            316415,
            316521,
            302881,
            316407,
            395684,
            363685,
            332801,
            316521,
            314544,
            316296,
            316334,
            316296,
            316261,
            316571,
            313599,
            316571,
            316296,
            316598,
            316296,
            316296,
            316598,
            316521,
            316296,
            316296,
            316385,
            316385,
            316261,
            316296,
            363685,
            316571,
            316296,
            316598,
            333859,
            316334,
            316377,
            316521,
            316024,
            316393,
            316415,
            333859,
            316491,
            316563,
            313220,
            316504,
            363031,
            316024,
            316563,
            316393,
            316491,
            316024,
            316261,
            316393,
            316504,
            316377,
            316377,
            316377,
            316393,
            333859,
            316024,
            316377,
            316393,
            316377,
            316393,
            363111,
            316377,
            316393,
            316491,
            316377,
            316415,
            316491,
            316393,
            316563,
            316393,
            316491,
            316377,
            316377,
            316377,
            316393,
            316512,
            316440,
            316504,
            316512,
            316334,
            316521,
            316571,
            316512,
            398420,
            316521,
            316440,
            316491,
            316504,
            316032,
            316504,
            316261,
            316296,
            316334,
            316334,
            316504,
            316504,
            316491,
            316296,
            316440,
            316504,
            316032,
            316296,
            364762,
            316296,
            316385,
            316296,
            316504,
            316415,
            313629,
            316491,
            398420,
            316504,
            316491,
            316296,
            364762,
            316334,
            316377,
            316393,
            316491,
            316521,
            316334,
            316245,
            316377,
            316504,
            316393,
            316504,
            315486,
            316245,
            316334,
            316393,
            316334,
            316024,
            322580,
            316491,
            316024,
            316491,
            316504,
            316377,
            316504,
            316415,
            316491,
            316377,
            316393,
            316245,
            316504,
            316504,
            316377,
            316393,
            316377,
            316393,
            316377,
            316024,
            316377,
            316393,
            363715,
            363715,
            367354,
            316393,
            316491,
            316504,
            316504,
            316334,
            367443,
            316334,
            316415,
            316521,
            316334,
            316415,
            316563,
            316296,
            316415,
            316512,
            316032,
            316407,
            316032,
            316334,
            313157,
            316032,
            316504,
            316415,
            316504,
            316296,
            316504,
            316563,
            301477,
            301558,
            301566,
            301795,
            316296,
            316296,
            316334,
            316296,
            316296,
            316296,
            316032,
            316296,
            316296,
            316601,
            367443,
            316296,
            316385,
            398420,
            316261,
            316024,
            316032,
            316032,
            316334,
            316334,
            315125,
            316377,
            363723,
            363723,
            316377,
            316601,
            316521,
            316377,
            316504,
            316334,
            316415,
            316521,
            316334,
            316334,
            316415,
            316601,
            316245,
            316334,
            316504,
            316377,
            316504,
            316491,
            316334,
            316393,
            316601,
            316334,
            315125,
            316024,
            316393,
            316563,
            316563,
            316601,
            316024,
            301884,
            301892,
            301906,
            301914,
            301922,
            316415,
            316377,
            316415,
            316563,
            316377,
            316393,
            316491,
            316377,
            316393,
            316393,
            316521,
            316245,
            316377,
            363723,
            363723,
            316377,
            316393,
            316393,
            316377,
            316504,
            316024,
            316601,
            316601,
            316032,
            316504,
            316504,
            316521,
            316342,
            316440,
            316440,
            316334,
            316407,
            316466,
            316504,
            316342,
            316504,
            316440,
            316334,
            315486,
            316491,
            150657,
            316024,
            316512,
            316024,
            316334,
            316415,
            316440,
            316334,
            316334,
            316504,
            316296,
            316440,
            316504,
            316296,
            316407,
            316342,
            316334,
            316415,
            316504,
            316296,
            316334,
            316504,
            316261,
            316296,
            316415,
            316415,
            316440,
            316504,
            316296,
            316334,
            316504,
            316440,
            363723,
            363723,
            366200,
            316504,
            316377,
            316393,
            316415,
            316334,
            316521,
            316491,
            316521,
            316512,
            316521,
            316041,
            316041,
            316415,
            316512,
            316342,
            316504,
            316296,
            316482,
            364622,
            316377,
            316334,
            316415,
            316512,
            316342,
            319341,
            316334,
            316415,
            316504,
            316296,
            316393,
            316491,
            316334,
            316504,
            316393,
            316482,
            316393,
            316377,
            316393,
            316563,
            316377,
            316563,
            316491,
            316342,
            316377,
            316393,
            316482,
            318761,
            363669,
            316415,
            316334,
            316512,
            316377,
            316415,
            316415,
            316415,
            316491,
            316504,
            316521,
            316261,
            316377,
            316334,
            316415,
            367354,
            316032,
            316296,
            316334,
            316504,
            316334,
            316377,
            316504,
            316563,
            316504,
            316521,
            316342,
            316377,
            316342,
            316377,
            301477,
            301558,
            301566,
            301795,
            301817,
            316504,
            316491,
            316504,
            316491,
            316504,
            316415,
            316491,
            316415,
            316521,
            316334,
            303666,
            316521,
            316440,
            316393,
            316521,
            316334,
            316491,
            316521,
            316415,
            316415,
            316334,
            316024,
            316393,
            316393,
            316491,
            316440,
            316415,
            316440,
            316491,
            316377,
            316415,
            316466,
            316491,
            316377,
            316440,
            316296,
            316377,
            316491,
            316563,
            316377,
            316415,
            316563,
            316440,
            316334,
            316491,
            316440,
            311596,
            311618,
            311642,
            311979,
            311995,
            316377,
            316393,
            316024,
            316334,
            316415,
            316393,
            316563,
            316024,
            325449,
            316377,
            316393,
            316563,
            316393,
            316491,
            316393,
            316491,
            316377,
            316440,
            316377,
            316393,
            316415,
            316334,
            316415,
            316377,
            316393,
            316334,
            316512,
            316512,
            316342,
            316334,
            316521,
            316415,
            316512,
            316032,
            316377,
            316415,
            316504,
            316342,
            316032,
            316504,
            316512,
            364606,
            316342,
            316504,
            316407,
            316504,
            316296,
            316504,
            316415,
            316491,
            316377,
            316491,
            316334,
            316504,
            316491,
            316032,
            316334,
            316415,
            316504,
            316377,
            316342,
            316504,
            316377,
            316342,
            316377,
            316296,
            316491,
            316032,
            316334,
            301477,
            301558,
            301566,
            301795,
            301809,
            301817,
            316334,
            316415,
            316342,
            365726,
            365726,
            316415,
            316512,
            316521,
            316521,
            316512,
            316521,
            316440,
            316512,
            316024,
            365726,
            365726,
            316636,
            316512,
            316334,
            333859,
            316334,
            316512,
            316334,
            316601,
            316334,
            316440,
            316491,
            316504,
            316521,
            313998,
            313998,
            316512,
            316377,
            316440,
            316440,
            316415,
            316440,
            316415,
            316334,
            316415,
            301825,
            301833,
            301841,
            301850,
            301868,
            301876,
            316521,
            316415,
            316491,
            301892,
            301906,
            316512,
            316032,
            316521,
            316296,
            316512,
            316512,
            316415,
            316377,
            316415,
            316296,
            316334,
            316041,
            316041,
            316415,
            316334,
            316415,
            316041,
            316041,
            316334,
            316512,
            316032,
            316334,
            316377,
            316415,
            316032,
            316415,
            316041,
            316041,
            316041,
            316041,
            316296,
            316377,
            364606,
            316032,
            316041,
            316041,
            316377,
            301477,
            301558,
            301795,
            301477,
            301558,
            301795,
            382752,
            316415,
            316334,
            316512,
            316415,
            316024,
            316393,
            316377,
            316482,
            316334,
            316393,
            316261,
            316024,
            316415,
            316024,
            316334,
            316415,
            316512,
            316334,
            316491,
            316512,
            316334,
            316491,
            316024,
            316377,
            316491,
            316024,
            316482,
            316482,
            316393,
            316415,
            316482,
            316334,
            316377,
            316393,
            316415,
            316024,
            316482,
            316334,
            316377,
            316393,
            316261,
            316377,
            316393,
            316415,
            316482,
            316415,
            316377,
            316415,
            316491,
            316512,
            316024,
            316334,
            316512,
            316393,
            316024,
            364592,
            316393,
            316521,
            301884,
            301914,
            301922,
            301884,
            301892,
            301906,
            301914,
            301922,
            316032,
            313599,
            316393,
            316415,
            316334,
            316415,
            323641,
            316334,
            367354,
            316296,
            316393,
            316237,
            316296,
            316521,
            316032,
            316521,
            316296,
            316521,
            316032,
            316296,
            316334,
            316415,
            316296,
            316334,
            316504,
            316245,
            316296,
            316415,
            316521,
            316245,
            316296,
            316334,
            316512,
            364592,
            316296,
            316491,
            316296,
            316334,
            316393,
            316491,
            316296,
            316334,
            316504,
            316296,
            316032,
            316032,
            303666,
            303666,
            316440,
            316512,
            316512,
            323641,
            316521,
            316521,
            316440,
            316440,
            316334,
            316491,
            316491,
            316512,
            316521,
            316296,
            316296,
            316393,
            316440,
            316024,
            316334,
            316415,
            323641,
            316024,
            316393,
            316334,
            316415,
            323641,
            316440,
            316491,
            316296,
            316024,
            316415,
            316466,
            316415,
            316636,
            316296,
            316393,
            316491,
            316393,
            316415,
            316415,
            316440,
            316415,
            316491,
            316393,
            316393,
            316415,
            316521,
            311642,
            316393,
            316512,
            316415,
            316512,
            316261,
            316334,
            316521,
            316296,
            316032,
            316261,
            316296,
            316415,
            316377,
            316504,
            316032,
            316237,
            316521,
            316512,
            316377,
            316377,
            316491,
            316032,
            316377,
            316377,
            316415,
            367354,
            316377,
            316296,
            316377,
            316334,
            316377,
            316032,
            316377,
            316334,
            316296,
            316377,
            316415,
            316032,
            316377,
            316393,
            316491,
            316296,
            316032,
            316377,
            316261,
            316415,
            316296,
            316334
           ]
          },
          {
           "label": "Menção",
           "range": [
            0,
            6
           ],
           "values": [
            5,
            3,
            5,
            3,
            2,
            3,
            2,
            2,
            2,
            3,
            3,
            5,
            3,
            2,
            3,
            2,
            3,
            5,
            3,
            3,
            2,
            5,
            2,
            5,
            3,
            3,
            5,
            2,
            2,
            3,
            5,
            3,
            3,
            2,
            5,
            5,
            2,
            2,
            1,
            3,
            3,
            3,
            3,
            5,
            3,
            3,
            5,
            5,
            5,
            3,
            2,
            2,
            2,
            3,
            3,
            5,
            2,
            3,
            2,
            2,
            5,
            5,
            5,
            3,
            2,
            3,
            3,
            3,
            3,
            3,
            5,
            5,
            3,
            3,
            5,
            6,
            5,
            5,
            2,
            3,
            5,
            1,
            3,
            5,
            5,
            5,
            5,
            1,
            3,
            3,
            5,
            3,
            2,
            3,
            2,
            3,
            5,
            5,
            2,
            2,
            2,
            3,
            3,
            3,
            2,
            3,
            3,
            5,
            6,
            5,
            2,
            5,
            5,
            2,
            5,
            6,
            5,
            3,
            5,
            5,
            3,
            5,
            5,
            3,
            3,
            5,
            3,
            2,
            5,
            3,
            3,
            3,
            3,
            5,
            5,
            3,
            3,
            3,
            3,
            5,
            3,
            3,
            5,
            3,
            5,
            5,
            3,
            5,
            3,
            3,
            2,
            3,
            3,
            3,
            5,
            3,
            5,
            5,
            5,
            5,
            5,
            5,
            3,
            5,
            2,
            3,
            5,
            3,
            3,
            5,
            2,
            5,
            5,
            5,
            5,
            3,
            3,
            5,
            3,
            3,
            3,
            3,
            3,
            5,
            3,
            5,
            5,
            5,
            5,
            3,
            3,
            3,
            3,
            3,
            5,
            2,
            2,
            5,
            5,
            5,
            5,
            2,
            5,
            3,
            5,
            5,
            5,
            5,
            2,
            5,
            5,
            5,
            5,
            5,
            5,
            3,
            3,
            5,
            5,
            3,
            3,
            3,
            5,
            5,
            5,
            3,
            2,
            2,
            3,
            3,
            5,
            5,
            2,
            5,
            5,
            3,
            3,
            5,
            5,
            5,
            5,
            5,
            5,
            5,
            5,
            5,
            5,
            3,
            3,
            5,
            3,
            5,
            5,
            5,
            5,
            2,
            5,
            2,
            5,
            5,
            3,
            3,
            3,
            5,
            5,
            5,
            2,
            2,
            2,
            5,
            5,
            2,
            2,
            5,
            2,
            5,
            5,
            5,
            3,
            5,
            5,
            5,
            5,
            3,
            3,
            5,
            5,
            3,
            6,
            5,
            5,
            3,
            5,
            2,
            2,
            2,
            5,
            5,
            5,
            3,
            5,
            2,
            3,
            5,
            5,
            5,
            1,
            1,
            5,
            5,
            3,
            3,
            5,
            3,
            2,
            4,
            4,
            3,
            2,
            5,
            5,
            5,
            5,
            5,
            5,
            3,
            3,
            5,
            5,
            3,
            3,
            5,
            2,
            3,
            3,
            5,
            5,
            3,
            5,
            5,
            3,
            3,
            2,
            3,
            5,
            3,
            3,
            2,
            5,
            3,
            5,
            5,
            3,
            2,
            5,
            5,
            3,
            3,
            3,
            6,
            5,
            3,
            5,
            5,
            3,
            5,
            5,
            5,
            5,
            5,
            5,
            3,
            5,
            5,
            3,
            2,
            3,
            5,
            2,
            3,
            5,
            5,
            5,
            5,
            3,
            5,
            5,
            5,
            5,
            3,
            5,
            3,
            5,
            2,
            5,
            5,
            5,
            3,
            3,
            5,
            5,
            2,
            2,
            5,
            5,
            5,
            5,
            5,
            5,
            5,
            5,
            5,
            5,
            5,
            5,
            5,
            2,
            5,
            3,
            3,
            5,
            3,
            5,
            5,
            3,
            5,
            5,
            5,
            5,
            2,
            5,
            5,
            5,
            3,
            3,
            3,
            2,
            2,
            3,
            3,
            3,
            5,
            5,
            3,
            2,
            5,
            3,
            5,
            5,
            5,
            5,
            3,
            5,
            5,
            5,
            2,
            5,
            5,
            5,
            2,
            5,
            5,
            3,
            5,
            3,
            5,
            5,
            5,
            2,
            5,
            2,
            5,
            5,
            3,
            3,
            3,
            3,
            3,
            3,
            3,
            3,
            5,
            3,
            5,
            5,
            5,
            5,
            5,
            5,
            5,
            5,
            5,
            5,
            5,
            3,
            3,
            3,
            5,
            5,
            2,
            6,
            3,
            5,
            5,
            3,
            2,
            5,
            3,
            5,
            3,
            3,
            3,
            3,
            3,
            2,
            3,
            2,
            0,
            2,
            5,
            5,
            1,
            3,
            6,
            5,
            5,
            5,
            3,
            5,
            5,
            5,
            5,
            5,
            3,
            2,
            5,
            5,
            5,
            3,
            5,
            5,
            5,
            5,
            3,
            5,
            2,
            3,
            3,
            3,
            2,
            3,
            3,
            2,
            5,
            5,
            5,
            2,
            2,
            5,
            5,
            5,
            5,
            5,
            5,
            3,
            5,
            5,
            3,
            5,
            4,
            5,
            3,
            3,
            5,
            3,
            3,
            5,
            3,
            3,
            2,
            2,
            5,
            5,
            1,
            5,
            5,
            3,
            5,
            5,
            5,
            5,
            5,
            3,
            5,
            5,
            2,
            3,
            3,
            2,
            3,
            5,
            5,
            3,
            5,
            3,
            3,
            5,
            5,
            5,
            5,
            5,
            5,
            5,
            5,
            5,
            5,
            5,
            5,
            2,
            3,
            5,
            5,
            5,
            5,
            5,
            5,
            5,
            3,
            5,
            5,
            2,
            2,
            5,
            2,
            3,
            5,
            5,
            3,
            3,
            5,
            2,
            2,
            3,
            3,
            3,
            5,
            5,
            3,
            3,
            5,
            5,
            5,
            3,
            5,
            5,
            5,
            2,
            3,
            5,
            5,
            5,
            5,
            3,
            3,
            5,
            5,
            2,
            5,
            3,
            5,
            3,
            3,
            3,
            5,
            5,
            5,
            5,
            5,
            5,
            5,
            5,
            3,
            5,
            5,
            5,
            3,
            3,
            3,
            3,
            3,
            2,
            2,
            5,
            3,
            3,
            2,
            2,
            5,
            2,
            3,
            5,
            2,
            5,
            5,
            5,
            5,
            3,
            3,
            0,
            2,
            3,
            5,
            5,
            5,
            6,
            5,
            5,
            5,
            3,
            5,
            5,
            5,
            5,
            5,
            5,
            3,
            3,
            5,
            5,
            3,
            5,
            0,
            3,
            5,
            5,
            3,
            2,
            5,
            3,
            3,
            5,
            4,
            0,
            5,
            5,
            3,
            5,
            3,
            5,
            5,
            5,
            5,
            5,
            3,
            5,
            5,
            1,
            3,
            3,
            2,
            3,
            5,
            5,
            5,
            5,
            5,
            2,
            5,
            5,
            3,
            5,
            2,
            3,
            5,
            3,
            5,
            5,
            3,
            5,
            5,
            5,
            3,
            5,
            5,
            2,
            2,
            5,
            5,
            3,
            5,
            5,
            3,
            5,
            5,
            5,
            3,
            5,
            5,
            3,
            2,
            5,
            5,
            3,
            3,
            5,
            3,
            5,
            3,
            5,
            3,
            5,
            5,
            5,
            3,
            3,
            2,
            3,
            3,
            5,
            5,
            5,
            5,
            5,
            1,
            3,
            5,
            5,
            3,
            1,
            5,
            0,
            2,
            3,
            3,
            3,
            5,
            5,
            5,
            2,
            3,
            5,
            5,
            5,
            3,
            3,
            1,
            3,
            5,
            2,
            5,
            2,
            2,
            2,
            6,
            3,
            5,
            5,
            2,
            5,
            3,
            4,
            2,
            5,
            5,
            3,
            2,
            5,
            5,
            5,
            3,
            5,
            3,
            2,
            3,
            5,
            3,
            3,
            3,
            3,
            3,
            5,
            5,
            5,
            3,
            2,
            2,
            5,
            3,
            2,
            5,
            0,
            1,
            2,
            3,
            5,
            3,
            3,
            2,
            5,
            6,
            3,
            3,
            3,
            2,
            3,
            3,
            3,
            5,
            2,
            3,
            5,
            4,
            5
           ]
          }
         ],
         "line": {
          "color": [
           5,
           3,
           5,
           3,
           2,
           3,
           2,
           2,
           2,
           3,
           3,
           5,
           3,
           2,
           3,
           2,
           3,
           5,
           3,
           3,
           2,
           5,
           2,
           5,
           3,
           3,
           5,
           2,
           2,
           3,
           5,
           3,
           3,
           2,
           5,
           5,
           2,
           2,
           1,
           3,
           3,
           3,
           3,
           5,
           3,
           3,
           5,
           5,
           5,
           3,
           2,
           2,
           2,
           3,
           3,
           5,
           2,
           3,
           2,
           2,
           5,
           5,
           5,
           3,
           2,
           3,
           3,
           3,
           3,
           3,
           5,
           5,
           3,
           3,
           5,
           6,
           5,
           5,
           2,
           3,
           5,
           1,
           3,
           5,
           5,
           5,
           5,
           1,
           3,
           3,
           5,
           3,
           2,
           3,
           2,
           3,
           5,
           5,
           2,
           2,
           2,
           3,
           3,
           3,
           2,
           3,
           3,
           5,
           6,
           5,
           2,
           5,
           5,
           2,
           5,
           6,
           5,
           3,
           5,
           5,
           3,
           5,
           5,
           3,
           3,
           5,
           3,
           2,
           5,
           3,
           3,
           3,
           3,
           5,
           5,
           3,
           3,
           3,
           3,
           5,
           3,
           3,
           5,
           3,
           5,
           5,
           3,
           5,
           3,
           3,
           2,
           3,
           3,
           3,
           5,
           3,
           5,
           5,
           5,
           5,
           5,
           5,
           3,
           5,
           2,
           3,
           5,
           3,
           3,
           5,
           2,
           5,
           5,
           5,
           5,
           3,
           3,
           5,
           3,
           3,
           3,
           3,
           3,
           5,
           3,
           5,
           5,
           5,
           5,
           3,
           3,
           3,
           3,
           3,
           5,
           2,
           2,
           5,
           5,
           5,
           5,
           2,
           5,
           3,
           5,
           5,
           5,
           5,
           2,
           5,
           5,
           5,
           5,
           5,
           5,
           3,
           3,
           5,
           5,
           3,
           3,
           3,
           5,
           5,
           5,
           3,
           2,
           2,
           3,
           3,
           5,
           5,
           2,
           5,
           5,
           3,
           3,
           5,
           5,
           5,
           5,
           5,
           5,
           5,
           5,
           5,
           5,
           3,
           3,
           5,
           3,
           5,
           5,
           5,
           5,
           2,
           5,
           2,
           5,
           5,
           3,
           3,
           3,
           5,
           5,
           5,
           2,
           2,
           2,
           5,
           5,
           2,
           2,
           5,
           2,
           5,
           5,
           5,
           3,
           5,
           5,
           5,
           5,
           3,
           3,
           5,
           5,
           3,
           6,
           5,
           5,
           3,
           5,
           2,
           2,
           2,
           5,
           5,
           5,
           3,
           5,
           2,
           3,
           5,
           5,
           5,
           1,
           1,
           5,
           5,
           3,
           3,
           5,
           3,
           2,
           4,
           4,
           3,
           2,
           5,
           5,
           5,
           5,
           5,
           5,
           3,
           3,
           5,
           5,
           3,
           3,
           5,
           2,
           3,
           3,
           5,
           5,
           3,
           5,
           5,
           3,
           3,
           2,
           3,
           5,
           3,
           3,
           2,
           5,
           3,
           5,
           5,
           3,
           2,
           5,
           5,
           3,
           3,
           3,
           6,
           5,
           3,
           5,
           5,
           3,
           5,
           5,
           5,
           5,
           5,
           5,
           3,
           5,
           5,
           3,
           2,
           3,
           5,
           2,
           3,
           5,
           5,
           5,
           5,
           3,
           5,
           5,
           5,
           5,
           3,
           5,
           3,
           5,
           2,
           5,
           5,
           5,
           3,
           3,
           5,
           5,
           2,
           2,
           5,
           5,
           5,
           5,
           5,
           5,
           5,
           5,
           5,
           5,
           5,
           5,
           5,
           2,
           5,
           3,
           3,
           5,
           3,
           5,
           5,
           3,
           5,
           5,
           5,
           5,
           2,
           5,
           5,
           5,
           3,
           3,
           3,
           2,
           2,
           3,
           3,
           3,
           5,
           5,
           3,
           2,
           5,
           3,
           5,
           5,
           5,
           5,
           3,
           5,
           5,
           5,
           2,
           5,
           5,
           5,
           2,
           5,
           5,
           3,
           5,
           3,
           5,
           5,
           5,
           2,
           5,
           2,
           5,
           5,
           3,
           3,
           3,
           3,
           3,
           3,
           3,
           3,
           5,
           3,
           5,
           5,
           5,
           5,
           5,
           5,
           5,
           5,
           5,
           5,
           5,
           3,
           3,
           3,
           5,
           5,
           2,
           6,
           3,
           5,
           5,
           3,
           2,
           5,
           3,
           5,
           3,
           3,
           3,
           3,
           3,
           2,
           3,
           2,
           0,
           2,
           5,
           5,
           1,
           3,
           6,
           5,
           5,
           5,
           3,
           5,
           5,
           5,
           5,
           5,
           3,
           2,
           5,
           5,
           5,
           3,
           5,
           5,
           5,
           5,
           3,
           5,
           2,
           3,
           3,
           3,
           2,
           3,
           3,
           2,
           5,
           5,
           5,
           2,
           2,
           5,
           5,
           5,
           5,
           5,
           5,
           3,
           5,
           5,
           3,
           5,
           4,
           5,
           3,
           3,
           5,
           3,
           3,
           5,
           3,
           3,
           2,
           2,
           5,
           5,
           1,
           5,
           5,
           3,
           5,
           5,
           5,
           5,
           5,
           3,
           5,
           5,
           2,
           3,
           3,
           2,
           3,
           5,
           5,
           3,
           5,
           3,
           3,
           5,
           5,
           5,
           5,
           5,
           5,
           5,
           5,
           5,
           5,
           5,
           5,
           2,
           3,
           5,
           5,
           5,
           5,
           5,
           5,
           5,
           3,
           5,
           5,
           2,
           2,
           5,
           2,
           3,
           5,
           5,
           3,
           3,
           5,
           2,
           2,
           3,
           3,
           3,
           5,
           5,
           3,
           3,
           5,
           5,
           5,
           3,
           5,
           5,
           5,
           2,
           3,
           5,
           5,
           5,
           5,
           3,
           3,
           5,
           5,
           2,
           5,
           3,
           5,
           3,
           3,
           3,
           5,
           5,
           5,
           5,
           5,
           5,
           5,
           5,
           3,
           5,
           5,
           5,
           3,
           3,
           3,
           3,
           3,
           2,
           2,
           5,
           3,
           3,
           2,
           2,
           5,
           2,
           3,
           5,
           2,
           5,
           5,
           5,
           5,
           3,
           3,
           0,
           2,
           3,
           5,
           5,
           5,
           6,
           5,
           5,
           5,
           3,
           5,
           5,
           5,
           5,
           5,
           5,
           3,
           3,
           5,
           5,
           3,
           5,
           0,
           3,
           5,
           5,
           3,
           2,
           5,
           3,
           3,
           5,
           4,
           0,
           5,
           5,
           3,
           5,
           3,
           5,
           5,
           5,
           5,
           5,
           3,
           5,
           5,
           1,
           3,
           3,
           2,
           3,
           5,
           5,
           5,
           5,
           5,
           2,
           5,
           5,
           3,
           5,
           2,
           3,
           5,
           3,
           5,
           5,
           3,
           5,
           5,
           5,
           3,
           5,
           5,
           2,
           2,
           5,
           5,
           3,
           5,
           5,
           3,
           5,
           5,
           5,
           3,
           5,
           5,
           3,
           2,
           5,
           5,
           3,
           3,
           5,
           3,
           5,
           3,
           5,
           3,
           5,
           5,
           5,
           3,
           3,
           2,
           3,
           3,
           5,
           5,
           5,
           5,
           5,
           1,
           3,
           5,
           5,
           3,
           1,
           5,
           0,
           2,
           3,
           3,
           3,
           5,
           5,
           5,
           2,
           3,
           5,
           5,
           5,
           3,
           3,
           1,
           3,
           5,
           2,
           5,
           2,
           2,
           2,
           6,
           3,
           5,
           5,
           2,
           5,
           3,
           4,
           2,
           5,
           5,
           3,
           2,
           5,
           5,
           5,
           3,
           5,
           3,
           2,
           3,
           5,
           3,
           3,
           3,
           3,
           3,
           5,
           5,
           5,
           3,
           2,
           2,
           5,
           3,
           2,
           5,
           0,
           1,
           2,
           3,
           5,
           3,
           3,
           2,
           5,
           6,
           3,
           3,
           3,
           2,
           3,
           3,
           3,
           5,
           2,
           3,
           5,
           4,
           5
          ],
          "colorscale": [
           [
            0,
            "red"
           ],
           [
            0.16666666666666666,
            "red"
           ],
           [
            0.3333333333333333,
            "pink"
           ],
           [
            0.5,
            "green"
           ],
           [
            0.6666666666666666,
            "yellow"
           ],
           [
            0.8333333333333334,
            "blue"
           ],
           [
            1,
            "black"
           ]
          ]
         },
         "type": "parcoords"
        }
       ],
       "layout": {
        "paper_bgcolor": "white",
        "plot_bgcolor": "white",
        "template": {
         "data": {
          "bar": [
           {
            "error_x": {
             "color": "#2a3f5f"
            },
            "error_y": {
             "color": "#2a3f5f"
            },
            "marker": {
             "line": {
              "color": "#E5ECF6",
              "width": 0.5
             }
            },
            "type": "bar"
           }
          ],
          "barpolar": [
           {
            "marker": {
             "line": {
              "color": "#E5ECF6",
              "width": 0.5
             }
            },
            "type": "barpolar"
           }
          ],
          "carpet": [
           {
            "aaxis": {
             "endlinecolor": "#2a3f5f",
             "gridcolor": "white",
             "linecolor": "white",
             "minorgridcolor": "white",
             "startlinecolor": "#2a3f5f"
            },
            "baxis": {
             "endlinecolor": "#2a3f5f",
             "gridcolor": "white",
             "linecolor": "white",
             "minorgridcolor": "white",
             "startlinecolor": "#2a3f5f"
            },
            "type": "carpet"
           }
          ],
          "choropleth": [
           {
            "colorbar": {
             "outlinewidth": 0,
             "ticks": ""
            },
            "type": "choropleth"
           }
          ],
          "contour": [
           {
            "colorbar": {
             "outlinewidth": 0,
             "ticks": ""
            },
            "colorscale": [
             [
              0,
              "#0d0887"
             ],
             [
              0.1111111111111111,
              "#46039f"
             ],
             [
              0.2222222222222222,
              "#7201a8"
             ],
             [
              0.3333333333333333,
              "#9c179e"
             ],
             [
              0.4444444444444444,
              "#bd3786"
             ],
             [
              0.5555555555555556,
              "#d8576b"
             ],
             [
              0.6666666666666666,
              "#ed7953"
             ],
             [
              0.7777777777777778,
              "#fb9f3a"
             ],
             [
              0.8888888888888888,
              "#fdca26"
             ],
             [
              1,
              "#f0f921"
             ]
            ],
            "type": "contour"
           }
          ],
          "contourcarpet": [
           {
            "colorbar": {
             "outlinewidth": 0,
             "ticks": ""
            },
            "type": "contourcarpet"
           }
          ],
          "heatmap": [
           {
            "colorbar": {
             "outlinewidth": 0,
             "ticks": ""
            },
            "colorscale": [
             [
              0,
              "#0d0887"
             ],
             [
              0.1111111111111111,
              "#46039f"
             ],
             [
              0.2222222222222222,
              "#7201a8"
             ],
             [
              0.3333333333333333,
              "#9c179e"
             ],
             [
              0.4444444444444444,
              "#bd3786"
             ],
             [
              0.5555555555555556,
              "#d8576b"
             ],
             [
              0.6666666666666666,
              "#ed7953"
             ],
             [
              0.7777777777777778,
              "#fb9f3a"
             ],
             [
              0.8888888888888888,
              "#fdca26"
             ],
             [
              1,
              "#f0f921"
             ]
            ],
            "type": "heatmap"
           }
          ],
          "heatmapgl": [
           {
            "colorbar": {
             "outlinewidth": 0,
             "ticks": ""
            },
            "colorscale": [
             [
              0,
              "#0d0887"
             ],
             [
              0.1111111111111111,
              "#46039f"
             ],
             [
              0.2222222222222222,
              "#7201a8"
             ],
             [
              0.3333333333333333,
              "#9c179e"
             ],
             [
              0.4444444444444444,
              "#bd3786"
             ],
             [
              0.5555555555555556,
              "#d8576b"
             ],
             [
              0.6666666666666666,
              "#ed7953"
             ],
             [
              0.7777777777777778,
              "#fb9f3a"
             ],
             [
              0.8888888888888888,
              "#fdca26"
             ],
             [
              1,
              "#f0f921"
             ]
            ],
            "type": "heatmapgl"
           }
          ],
          "histogram": [
           {
            "marker": {
             "colorbar": {
              "outlinewidth": 0,
              "ticks": ""
             }
            },
            "type": "histogram"
           }
          ],
          "histogram2d": [
           {
            "colorbar": {
             "outlinewidth": 0,
             "ticks": ""
            },
            "colorscale": [
             [
              0,
              "#0d0887"
             ],
             [
              0.1111111111111111,
              "#46039f"
             ],
             [
              0.2222222222222222,
              "#7201a8"
             ],
             [
              0.3333333333333333,
              "#9c179e"
             ],
             [
              0.4444444444444444,
              "#bd3786"
             ],
             [
              0.5555555555555556,
              "#d8576b"
             ],
             [
              0.6666666666666666,
              "#ed7953"
             ],
             [
              0.7777777777777778,
              "#fb9f3a"
             ],
             [
              0.8888888888888888,
              "#fdca26"
             ],
             [
              1,
              "#f0f921"
             ]
            ],
            "type": "histogram2d"
           }
          ],
          "histogram2dcontour": [
           {
            "colorbar": {
             "outlinewidth": 0,
             "ticks": ""
            },
            "colorscale": [
             [
              0,
              "#0d0887"
             ],
             [
              0.1111111111111111,
              "#46039f"
             ],
             [
              0.2222222222222222,
              "#7201a8"
             ],
             [
              0.3333333333333333,
              "#9c179e"
             ],
             [
              0.4444444444444444,
              "#bd3786"
             ],
             [
              0.5555555555555556,
              "#d8576b"
             ],
             [
              0.6666666666666666,
              "#ed7953"
             ],
             [
              0.7777777777777778,
              "#fb9f3a"
             ],
             [
              0.8888888888888888,
              "#fdca26"
             ],
             [
              1,
              "#f0f921"
             ]
            ],
            "type": "histogram2dcontour"
           }
          ],
          "mesh3d": [
           {
            "colorbar": {
             "outlinewidth": 0,
             "ticks": ""
            },
            "type": "mesh3d"
           }
          ],
          "parcoords": [
           {
            "line": {
             "colorbar": {
              "outlinewidth": 0,
              "ticks": ""
             }
            },
            "type": "parcoords"
           }
          ],
          "pie": [
           {
            "automargin": true,
            "type": "pie"
           }
          ],
          "scatter": [
           {
            "marker": {
             "colorbar": {
              "outlinewidth": 0,
              "ticks": ""
             }
            },
            "type": "scatter"
           }
          ],
          "scatter3d": [
           {
            "line": {
             "colorbar": {
              "outlinewidth": 0,
              "ticks": ""
             }
            },
            "marker": {
             "colorbar": {
              "outlinewidth": 0,
              "ticks": ""
             }
            },
            "type": "scatter3d"
           }
          ],
          "scattercarpet": [
           {
            "marker": {
             "colorbar": {
              "outlinewidth": 0,
              "ticks": ""
             }
            },
            "type": "scattercarpet"
           }
          ],
          "scattergeo": [
           {
            "marker": {
             "colorbar": {
              "outlinewidth": 0,
              "ticks": ""
             }
            },
            "type": "scattergeo"
           }
          ],
          "scattergl": [
           {
            "marker": {
             "colorbar": {
              "outlinewidth": 0,
              "ticks": ""
             }
            },
            "type": "scattergl"
           }
          ],
          "scattermapbox": [
           {
            "marker": {
             "colorbar": {
              "outlinewidth": 0,
              "ticks": ""
             }
            },
            "type": "scattermapbox"
           }
          ],
          "scatterpolar": [
           {
            "marker": {
             "colorbar": {
              "outlinewidth": 0,
              "ticks": ""
             }
            },
            "type": "scatterpolar"
           }
          ],
          "scatterpolargl": [
           {
            "marker": {
             "colorbar": {
              "outlinewidth": 0,
              "ticks": ""
             }
            },
            "type": "scatterpolargl"
           }
          ],
          "scatterternary": [
           {
            "marker": {
             "colorbar": {
              "outlinewidth": 0,
              "ticks": ""
             }
            },
            "type": "scatterternary"
           }
          ],
          "surface": [
           {
            "colorbar": {
             "outlinewidth": 0,
             "ticks": ""
            },
            "colorscale": [
             [
              0,
              "#0d0887"
             ],
             [
              0.1111111111111111,
              "#46039f"
             ],
             [
              0.2222222222222222,
              "#7201a8"
             ],
             [
              0.3333333333333333,
              "#9c179e"
             ],
             [
              0.4444444444444444,
              "#bd3786"
             ],
             [
              0.5555555555555556,
              "#d8576b"
             ],
             [
              0.6666666666666666,
              "#ed7953"
             ],
             [
              0.7777777777777778,
              "#fb9f3a"
             ],
             [
              0.8888888888888888,
              "#fdca26"
             ],
             [
              1,
              "#f0f921"
             ]
            ],
            "type": "surface"
           }
          ],
          "table": [
           {
            "cells": {
             "fill": {
              "color": "#EBF0F8"
             },
             "line": {
              "color": "white"
             }
            },
            "header": {
             "fill": {
              "color": "#C8D4E3"
             },
             "line": {
              "color": "white"
             }
            },
            "type": "table"
           }
          ]
         },
         "layout": {
          "annotationdefaults": {
           "arrowcolor": "#2a3f5f",
           "arrowhead": 0,
           "arrowwidth": 1
          },
          "coloraxis": {
           "colorbar": {
            "outlinewidth": 0,
            "ticks": ""
           }
          },
          "colorscale": {
           "diverging": [
            [
             0,
             "#8e0152"
            ],
            [
             0.1,
             "#c51b7d"
            ],
            [
             0.2,
             "#de77ae"
            ],
            [
             0.3,
             "#f1b6da"
            ],
            [
             0.4,
             "#fde0ef"
            ],
            [
             0.5,
             "#f7f7f7"
            ],
            [
             0.6,
             "#e6f5d0"
            ],
            [
             0.7,
             "#b8e186"
            ],
            [
             0.8,
             "#7fbc41"
            ],
            [
             0.9,
             "#4d9221"
            ],
            [
             1,
             "#276419"
            ]
           ],
           "sequential": [
            [
             0,
             "#0d0887"
            ],
            [
             0.1111111111111111,
             "#46039f"
            ],
            [
             0.2222222222222222,
             "#7201a8"
            ],
            [
             0.3333333333333333,
             "#9c179e"
            ],
            [
             0.4444444444444444,
             "#bd3786"
            ],
            [
             0.5555555555555556,
             "#d8576b"
            ],
            [
             0.6666666666666666,
             "#ed7953"
            ],
            [
             0.7777777777777778,
             "#fb9f3a"
            ],
            [
             0.8888888888888888,
             "#fdca26"
            ],
            [
             1,
             "#f0f921"
            ]
           ],
           "sequentialminus": [
            [
             0,
             "#0d0887"
            ],
            [
             0.1111111111111111,
             "#46039f"
            ],
            [
             0.2222222222222222,
             "#7201a8"
            ],
            [
             0.3333333333333333,
             "#9c179e"
            ],
            [
             0.4444444444444444,
             "#bd3786"
            ],
            [
             0.5555555555555556,
             "#d8576b"
            ],
            [
             0.6666666666666666,
             "#ed7953"
            ],
            [
             0.7777777777777778,
             "#fb9f3a"
            ],
            [
             0.8888888888888888,
             "#fdca26"
            ],
            [
             1,
             "#f0f921"
            ]
           ]
          },
          "colorway": [
           "#636efa",
           "#EF553B",
           "#00cc96",
           "#ab63fa",
           "#FFA15A",
           "#19d3f3",
           "#FF6692",
           "#B6E880",
           "#FF97FF",
           "#FECB52"
          ],
          "font": {
           "color": "#2a3f5f"
          },
          "geo": {
           "bgcolor": "white",
           "lakecolor": "white",
           "landcolor": "#E5ECF6",
           "showlakes": true,
           "showland": true,
           "subunitcolor": "white"
          },
          "hoverlabel": {
           "align": "left"
          },
          "hovermode": "closest",
          "mapbox": {
           "style": "light"
          },
          "paper_bgcolor": "white",
          "plot_bgcolor": "#E5ECF6",
          "polar": {
           "angularaxis": {
            "gridcolor": "white",
            "linecolor": "white",
            "ticks": ""
           },
           "bgcolor": "#E5ECF6",
           "radialaxis": {
            "gridcolor": "white",
            "linecolor": "white",
            "ticks": ""
           }
          },
          "scene": {
           "xaxis": {
            "backgroundcolor": "#E5ECF6",
            "gridcolor": "white",
            "gridwidth": 2,
            "linecolor": "white",
            "showbackground": true,
            "ticks": "",
            "zerolinecolor": "white"
           },
           "yaxis": {
            "backgroundcolor": "#E5ECF6",
            "gridcolor": "white",
            "gridwidth": 2,
            "linecolor": "white",
            "showbackground": true,
            "ticks": "",
            "zerolinecolor": "white"
           },
           "zaxis": {
            "backgroundcolor": "#E5ECF6",
            "gridcolor": "white",
            "gridwidth": 2,
            "linecolor": "white",
            "showbackground": true,
            "ticks": "",
            "zerolinecolor": "white"
           }
          },
          "shapedefaults": {
           "line": {
            "color": "#2a3f5f"
           }
          },
          "ternary": {
           "aaxis": {
            "gridcolor": "white",
            "linecolor": "white",
            "ticks": ""
           },
           "baxis": {
            "gridcolor": "white",
            "linecolor": "white",
            "ticks": ""
           },
           "bgcolor": "#E5ECF6",
           "caxis": {
            "gridcolor": "white",
            "linecolor": "white",
            "ticks": ""
           }
          },
          "title": {
           "x": 0.05
          },
          "xaxis": {
           "automargin": true,
           "gridcolor": "white",
           "linecolor": "white",
           "ticks": "",
           "title": {
            "standoff": 15
           },
           "zerolinecolor": "white",
           "zerolinewidth": 2
          },
          "yaxis": {
           "automargin": true,
           "gridcolor": "white",
           "linecolor": "white",
           "ticks": "",
           "title": {
            "standoff": 15
           },
           "zerolinecolor": "white",
           "zerolinewidth": 2
          }
         }
        }
       }
      },
      "text/html": [
       "<div>\n",
       "        \n",
       "        \n",
       "            <div id=\"22cac9aa-2605-45f1-a2fa-2a447c7b9ede\" class=\"plotly-graph-div\" style=\"height:525px; width:100%;\"></div>\n",
       "            <script type=\"text/javascript\">\n",
       "                require([\"plotly\"], function(Plotly) {\n",
       "                    window.PLOTLYENV=window.PLOTLYENV || {};\n",
       "                    \n",
       "                if (document.getElementById(\"22cac9aa-2605-45f1-a2fa-2a447c7b9ede\")) {\n",
       "                    Plotly.newPlot(\n",
       "                        '22cac9aa-2605-45f1-a2fa-2a447c7b9ede',\n",
       "                        [{\"dimensions\": [{\"label\": \"Per\\u00edodo\", \"range\": [20102, 20192], \"values\": [20102, 20102, 20102, 20102, 20102, 20102, 20102, 20102, 20102, 20102, 20102, 20102, 20102, 20102, 20102, 20102, 20102, 20102, 20102, 20102, 20102, 20102, 20102, 20102, 20102, 20102, 20102, 20102, 20102, 20102, 20102, 20102, 20102, 20102, 20111, 20111, 20111, 20111, 20111, 20111, 20111, 20111, 20111, 20111, 20111, 20111, 20111, 20111, 20111, 20111, 20111, 20111, 20111, 20111, 20111, 20111, 20111, 20111, 20111, 20111, 20111, 20111, 20111, 20111, 20111, 20111, 20111, 20111, 20111, 20111, 20111, 20112, 20112, 20112, 20112, 20112, 20112, 20112, 20112, 20112, 20112, 20112, 20112, 20112, 20112, 20112, 20112, 20112, 20112, 20112, 20112, 20112, 20112, 20112, 20112, 20112, 20112, 20112, 20112, 20112, 20112, 20112, 20112, 20112, 20112, 20112, 20112, 20112, 20121, 20121, 20121, 20121, 20121, 20121, 20121, 20121, 20121, 20121, 20121, 20121, 20121, 20121, 20121, 20121, 20121, 20121, 20121, 20121, 20121, 20121, 20121, 20121, 20121, 20121, 20121, 20121, 20121, 20121, 20121, 20121, 20121, 20121, 20121, 20121, 20121, 20121, 20121, 20121, 20121, 20121, 20121, 20121, 20121, 20121, 20122, 20122, 20122, 20122, 20122, 20122, 20122, 20122, 20122, 20122, 20122, 20122, 20122, 20122, 20122, 20122, 20122, 20122, 20122, 20122, 20122, 20122, 20122, 20122, 20122, 20122, 20122, 20122, 20122, 20122, 20122, 20122, 20122, 20122, 20122, 20122, 20122, 20122, 20122, 20122, 20131, 20131, 20131, 20131, 20131, 20131, 20131, 20131, 20131, 20131, 20131, 20131, 20131, 20131, 20131, 20131, 20131, 20131, 20131, 20131, 20131, 20131, 20131, 20131, 20131, 20131, 20131, 20131, 20131, 20131, 20131, 20131, 20131, 20131, 20131, 20131, 20131, 20131, 20131, 20131, 20131, 20131, 20131, 20131, 20131, 20131, 20132, 20132, 20132, 20132, 20132, 20132, 20132, 20132, 20132, 20132, 20132, 20132, 20132, 20132, 20132, 20132, 20132, 20132, 20132, 20132, 20132, 20132, 20132, 20132, 20132, 20132, 20132, 20132, 20132, 20132, 20132, 20132, 20132, 20132, 20132, 20132, 20132, 20132, 20132, 20132, 20132, 20132, 20132, 20132, 20132, 20141, 20141, 20141, 20141, 20141, 20141, 20141, 20141, 20141, 20141, 20141, 20141, 20141, 20141, 20141, 20141, 20141, 20141, 20141, 20141, 20141, 20141, 20141, 20141, 20141, 20141, 20141, 20141, 20141, 20141, 20141, 20141, 20141, 20141, 20141, 20141, 20141, 20141, 20141, 20141, 20141, 20141, 20141, 20141, 20141, 20141, 20141, 20141, 20141, 20141, 20141, 20141, 20141, 20141, 20141, 20141, 20141, 20141, 20141, 20141, 20141, 20141, 20141, 20142, 20142, 20142, 20142, 20142, 20142, 20142, 20142, 20142, 20142, 20142, 20142, 20142, 20142, 20142, 20142, 20142, 20142, 20142, 20142, 20142, 20142, 20142, 20142, 20142, 20142, 20142, 20142, 20142, 20142, 20142, 20142, 20142, 20142, 20142, 20142, 20142, 20142, 20142, 20142, 20142, 20142, 20142, 20142, 20142, 20142, 20142, 20142, 20142, 20142, 20142, 20142, 20142, 20151, 20151, 20151, 20151, 20151, 20151, 20151, 20151, 20151, 20151, 20151, 20151, 20151, 20151, 20151, 20151, 20151, 20151, 20151, 20151, 20151, 20151, 20151, 20151, 20151, 20151, 20151, 20151, 20151, 20151, 20151, 20151, 20151, 20151, 20151, 20151, 20151, 20151, 20151, 20151, 20151, 20151, 20151, 20151, 20151, 20151, 20151, 20152, 20152, 20152, 20152, 20152, 20152, 20152, 20152, 20152, 20152, 20152, 20152, 20152, 20152, 20152, 20152, 20152, 20152, 20152, 20152, 20152, 20152, 20152, 20152, 20152, 20152, 20152, 20152, 20152, 20152, 20152, 20152, 20152, 20152, 20152, 20152, 20152, 20152, 20152, 20152, 20152, 20161, 20161, 20161, 20161, 20161, 20161, 20161, 20161, 20161, 20161, 20161, 20161, 20161, 20161, 20161, 20161, 20161, 20161, 20161, 20161, 20161, 20161, 20161, 20161, 20161, 20161, 20161, 20161, 20161, 20161, 20161, 20161, 20161, 20161, 20161, 20161, 20161, 20161, 20161, 20161, 20161, 20161, 20161, 20161, 20161, 20161, 20161, 20161, 20161, 20161, 20161, 20161, 20161, 20161, 20161, 20161, 20161, 20161, 20161, 20161, 20161, 20161, 20161, 20161, 20161, 20161, 20161, 20161, 20161, 20161, 20161, 20162, 20162, 20162, 20162, 20162, 20162, 20162, 20162, 20162, 20162, 20162, 20162, 20162, 20162, 20162, 20162, 20162, 20162, 20162, 20162, 20162, 20162, 20162, 20162, 20162, 20162, 20162, 20162, 20162, 20162, 20162, 20162, 20162, 20162, 20162, 20162, 20162, 20162, 20162, 20162, 20162, 20162, 20162, 20162, 20162, 20162, 20162, 20162, 20162, 20162, 20162, 20171, 20171, 20171, 20171, 20171, 20171, 20171, 20171, 20171, 20171, 20171, 20171, 20171, 20171, 20171, 20171, 20171, 20171, 20171, 20171, 20171, 20171, 20171, 20171, 20171, 20171, 20171, 20171, 20171, 20171, 20171, 20171, 20171, 20171, 20171, 20171, 20171, 20171, 20171, 20171, 20171, 20171, 20171, 20171, 20171, 20171, 20171, 20171, 20172, 20172, 20172, 20172, 20172, 20172, 20172, 20172, 20172, 20172, 20172, 20172, 20172, 20172, 20172, 20172, 20172, 20172, 20172, 20172, 20172, 20172, 20172, 20172, 20172, 20172, 20172, 20172, 20172, 20172, 20172, 20172, 20172, 20172, 20172, 20172, 20172, 20172, 20172, 20172, 20172, 20172, 20172, 20181, 20181, 20181, 20181, 20181, 20181, 20181, 20181, 20181, 20181, 20181, 20181, 20181, 20181, 20181, 20181, 20181, 20181, 20181, 20181, 20181, 20181, 20181, 20181, 20181, 20181, 20181, 20181, 20181, 20181, 20181, 20181, 20181, 20181, 20181, 20181, 20181, 20181, 20181, 20181, 20181, 20181, 20181, 20181, 20181, 20181, 20181, 20181, 20181, 20181, 20181, 20181, 20181, 20181, 20181, 20181, 20181, 20181, 20181, 20181, 20181, 20181, 20181, 20181, 20181, 20181, 20181, 20182, 20182, 20182, 20182, 20182, 20182, 20182, 20182, 20182, 20182, 20182, 20182, 20182, 20182, 20182, 20182, 20182, 20182, 20182, 20182, 20182, 20182, 20182, 20182, 20182, 20182, 20182, 20182, 20182, 20182, 20182, 20182, 20182, 20182, 20182, 20182, 20182, 20182, 20182, 20182, 20182, 20182, 20182, 20182, 20182, 20182, 20191, 20191, 20191, 20191, 20191, 20191, 20191, 20191, 20191, 20191, 20191, 20191, 20191, 20191, 20191, 20191, 20191, 20191, 20191, 20191, 20191, 20191, 20191, 20191, 20191, 20191, 20191, 20191, 20191, 20191, 20191, 20191, 20191, 20191, 20191, 20191, 20191, 20191, 20191, 20191, 20191, 20191, 20191, 20191, 20191, 20191, 20191, 20191, 20191, 20191, 20191, 20192, 20192, 20192, 20192, 20192, 20192, 20192, 20192, 20192, 20192, 20192, 20192, 20192, 20192, 20192, 20192, 20192, 20192, 20192, 20192, 20192, 20192, 20192, 20192, 20192, 20192, 20192, 20192, 20192, 20192, 20192, 20192, 20192, 20192, 20192, 20192, 20192, 20192, 20192, 20192, 20192, 20192, 20192, 20192, 20192, 20192, 20192]}, {\"label\": \"C\\u00f3digo da Disciplina\", \"range\": [300000, 398420], \"values\": [316261, 316440, 316032, 316504, 316296, 316504, 316296, 316491, 363111, 316296, 316261, 316415, 316504, 316032, 316296, 316440, 313343, 313599, 316296, 316504, 316296, 316504, 316296, 323543, 316385, 316504, 316261, 316032, 316296, 316440, 313386, 316504, 316261, 316296, 316245, 316563, 316024, 316393, 316377, 316563, 302848, 302945, 316377, 316563, 316377, 316393, 316415, 363723, 363723, 316415, 316393, 313131, 313131, 316563, 316415, 316563, 316377, 316393, 316377, 316393, 316393, 316504, 316415, 316393, 316377, 316393, 316393, 316377, 316563, 316393, 316393, 316571, 332801, 316261, 316415, 316334, 316415, 316521, 302881, 316407, 395684, 363685, 332801, 316521, 314544, 316296, 316334, 316296, 316261, 316571, 313599, 316571, 316296, 316598, 316296, 316296, 316598, 316521, 316296, 316296, 316385, 316385, 316261, 316296, 363685, 316571, 316296, 316598, 333859, 316334, 316377, 316521, 316024, 316393, 316415, 333859, 316491, 316563, 313220, 316504, 363031, 316024, 316563, 316393, 316491, 316024, 316261, 316393, 316504, 316377, 316377, 316377, 316393, 333859, 316024, 316377, 316393, 316377, 316393, 363111, 316377, 316393, 316491, 316377, 316415, 316491, 316393, 316563, 316393, 316491, 316377, 316377, 316377, 316393, 316512, 316440, 316504, 316512, 316334, 316521, 316571, 316512, 398420, 316521, 316440, 316491, 316504, 316032, 316504, 316261, 316296, 316334, 316334, 316504, 316504, 316491, 316296, 316440, 316504, 316032, 316296, 364762, 316296, 316385, 316296, 316504, 316415, 313629, 316491, 398420, 316504, 316491, 316296, 364762, 316334, 316377, 316393, 316491, 316521, 316334, 316245, 316377, 316504, 316393, 316504, 315486, 316245, 316334, 316393, 316334, 316024, 322580, 316491, 316024, 316491, 316504, 316377, 316504, 316415, 316491, 316377, 316393, 316245, 316504, 316504, 316377, 316393, 316377, 316393, 316377, 316024, 316377, 316393, 363715, 363715, 367354, 316393, 316491, 316504, 316504, 316334, 367443, 316334, 316415, 316521, 316334, 316415, 316563, 316296, 316415, 316512, 316032, 316407, 316032, 316334, 313157, 316032, 316504, 316415, 316504, 316296, 316504, 316563, 301477, 301558, 301566, 301795, 316296, 316296, 316334, 316296, 316296, 316296, 316032, 316296, 316296, 316601, 367443, 316296, 316385, 398420, 316261, 316024, 316032, 316032, 316334, 316334, 315125, 316377, 363723, 363723, 316377, 316601, 316521, 316377, 316504, 316334, 316415, 316521, 316334, 316334, 316415, 316601, 316245, 316334, 316504, 316377, 316504, 316491, 316334, 316393, 316601, 316334, 315125, 316024, 316393, 316563, 316563, 316601, 316024, 301884, 301892, 301906, 301914, 301922, 316415, 316377, 316415, 316563, 316377, 316393, 316491, 316377, 316393, 316393, 316521, 316245, 316377, 363723, 363723, 316377, 316393, 316393, 316377, 316504, 316024, 316601, 316601, 316032, 316504, 316504, 316521, 316342, 316440, 316440, 316334, 316407, 316466, 316504, 316342, 316504, 316440, 316334, 315486, 316491, 150657, 316024, 316512, 316024, 316334, 316415, 316440, 316334, 316334, 316504, 316296, 316440, 316504, 316296, 316407, 316342, 316334, 316415, 316504, 316296, 316334, 316504, 316261, 316296, 316415, 316415, 316440, 316504, 316296, 316334, 316504, 316440, 363723, 363723, 366200, 316504, 316377, 316393, 316415, 316334, 316521, 316491, 316521, 316512, 316521, 316041, 316041, 316415, 316512, 316342, 316504, 316296, 316482, 364622, 316377, 316334, 316415, 316512, 316342, 319341, 316334, 316415, 316504, 316296, 316393, 316491, 316334, 316504, 316393, 316482, 316393, 316377, 316393, 316563, 316377, 316563, 316491, 316342, 316377, 316393, 316482, 318761, 363669, 316415, 316334, 316512, 316377, 316415, 316415, 316415, 316491, 316504, 316521, 316261, 316377, 316334, 316415, 367354, 316032, 316296, 316334, 316504, 316334, 316377, 316504, 316563, 316504, 316521, 316342, 316377, 316342, 316377, 301477, 301558, 301566, 301795, 301817, 316504, 316491, 316504, 316491, 316504, 316415, 316491, 316415, 316521, 316334, 303666, 316521, 316440, 316393, 316521, 316334, 316491, 316521, 316415, 316415, 316334, 316024, 316393, 316393, 316491, 316440, 316415, 316440, 316491, 316377, 316415, 316466, 316491, 316377, 316440, 316296, 316377, 316491, 316563, 316377, 316415, 316563, 316440, 316334, 316491, 316440, 311596, 311618, 311642, 311979, 311995, 316377, 316393, 316024, 316334, 316415, 316393, 316563, 316024, 325449, 316377, 316393, 316563, 316393, 316491, 316393, 316491, 316377, 316440, 316377, 316393, 316415, 316334, 316415, 316377, 316393, 316334, 316512, 316512, 316342, 316334, 316521, 316415, 316512, 316032, 316377, 316415, 316504, 316342, 316032, 316504, 316512, 364606, 316342, 316504, 316407, 316504, 316296, 316504, 316415, 316491, 316377, 316491, 316334, 316504, 316491, 316032, 316334, 316415, 316504, 316377, 316342, 316504, 316377, 316342, 316377, 316296, 316491, 316032, 316334, 301477, 301558, 301566, 301795, 301809, 301817, 316334, 316415, 316342, 365726, 365726, 316415, 316512, 316521, 316521, 316512, 316521, 316440, 316512, 316024, 365726, 365726, 316636, 316512, 316334, 333859, 316334, 316512, 316334, 316601, 316334, 316440, 316491, 316504, 316521, 313998, 313998, 316512, 316377, 316440, 316440, 316415, 316440, 316415, 316334, 316415, 301825, 301833, 301841, 301850, 301868, 301876, 316521, 316415, 316491, 301892, 301906, 316512, 316032, 316521, 316296, 316512, 316512, 316415, 316377, 316415, 316296, 316334, 316041, 316041, 316415, 316334, 316415, 316041, 316041, 316334, 316512, 316032, 316334, 316377, 316415, 316032, 316415, 316041, 316041, 316041, 316041, 316296, 316377, 364606, 316032, 316041, 316041, 316377, 301477, 301558, 301795, 301477, 301558, 301795, 382752, 316415, 316334, 316512, 316415, 316024, 316393, 316377, 316482, 316334, 316393, 316261, 316024, 316415, 316024, 316334, 316415, 316512, 316334, 316491, 316512, 316334, 316491, 316024, 316377, 316491, 316024, 316482, 316482, 316393, 316415, 316482, 316334, 316377, 316393, 316415, 316024, 316482, 316334, 316377, 316393, 316261, 316377, 316393, 316415, 316482, 316415, 316377, 316415, 316491, 316512, 316024, 316334, 316512, 316393, 316024, 364592, 316393, 316521, 301884, 301914, 301922, 301884, 301892, 301906, 301914, 301922, 316032, 313599, 316393, 316415, 316334, 316415, 323641, 316334, 367354, 316296, 316393, 316237, 316296, 316521, 316032, 316521, 316296, 316521, 316032, 316296, 316334, 316415, 316296, 316334, 316504, 316245, 316296, 316415, 316521, 316245, 316296, 316334, 316512, 364592, 316296, 316491, 316296, 316334, 316393, 316491, 316296, 316334, 316504, 316296, 316032, 316032, 303666, 303666, 316440, 316512, 316512, 323641, 316521, 316521, 316440, 316440, 316334, 316491, 316491, 316512, 316521, 316296, 316296, 316393, 316440, 316024, 316334, 316415, 323641, 316024, 316393, 316334, 316415, 323641, 316440, 316491, 316296, 316024, 316415, 316466, 316415, 316636, 316296, 316393, 316491, 316393, 316415, 316415, 316440, 316415, 316491, 316393, 316393, 316415, 316521, 311642, 316393, 316512, 316415, 316512, 316261, 316334, 316521, 316296, 316032, 316261, 316296, 316415, 316377, 316504, 316032, 316237, 316521, 316512, 316377, 316377, 316491, 316032, 316377, 316377, 316415, 367354, 316377, 316296, 316377, 316334, 316377, 316032, 316377, 316334, 316296, 316377, 316415, 316032, 316377, 316393, 316491, 316296, 316032, 316377, 316261, 316415, 316296, 316334]}, {\"label\": \"Men\\u00e7\\u00e3o\", \"range\": [0, 6], \"values\": [5, 3, 5, 3, 2, 3, 2, 2, 2, 3, 3, 5, 3, 2, 3, 2, 3, 5, 3, 3, 2, 5, 2, 5, 3, 3, 5, 2, 2, 3, 5, 3, 3, 2, 5, 5, 2, 2, 1, 3, 3, 3, 3, 5, 3, 3, 5, 5, 5, 3, 2, 2, 2, 3, 3, 5, 2, 3, 2, 2, 5, 5, 5, 3, 2, 3, 3, 3, 3, 3, 5, 5, 3, 3, 5, 6, 5, 5, 2, 3, 5, 1, 3, 5, 5, 5, 5, 1, 3, 3, 5, 3, 2, 3, 2, 3, 5, 5, 2, 2, 2, 3, 3, 3, 2, 3, 3, 5, 6, 5, 2, 5, 5, 2, 5, 6, 5, 3, 5, 5, 3, 5, 5, 3, 3, 5, 3, 2, 5, 3, 3, 3, 3, 5, 5, 3, 3, 3, 3, 5, 3, 3, 5, 3, 5, 5, 3, 5, 3, 3, 2, 3, 3, 3, 5, 3, 5, 5, 5, 5, 5, 5, 3, 5, 2, 3, 5, 3, 3, 5, 2, 5, 5, 5, 5, 3, 3, 5, 3, 3, 3, 3, 3, 5, 3, 5, 5, 5, 5, 3, 3, 3, 3, 3, 5, 2, 2, 5, 5, 5, 5, 2, 5, 3, 5, 5, 5, 5, 2, 5, 5, 5, 5, 5, 5, 3, 3, 5, 5, 3, 3, 3, 5, 5, 5, 3, 2, 2, 3, 3, 5, 5, 2, 5, 5, 3, 3, 5, 5, 5, 5, 5, 5, 5, 5, 5, 5, 3, 3, 5, 3, 5, 5, 5, 5, 2, 5, 2, 5, 5, 3, 3, 3, 5, 5, 5, 2, 2, 2, 5, 5, 2, 2, 5, 2, 5, 5, 5, 3, 5, 5, 5, 5, 3, 3, 5, 5, 3, 6, 5, 5, 3, 5, 2, 2, 2, 5, 5, 5, 3, 5, 2, 3, 5, 5, 5, 1, 1, 5, 5, 3, 3, 5, 3, 2, 4, 4, 3, 2, 5, 5, 5, 5, 5, 5, 3, 3, 5, 5, 3, 3, 5, 2, 3, 3, 5, 5, 3, 5, 5, 3, 3, 2, 3, 5, 3, 3, 2, 5, 3, 5, 5, 3, 2, 5, 5, 3, 3, 3, 6, 5, 3, 5, 5, 3, 5, 5, 5, 5, 5, 5, 3, 5, 5, 3, 2, 3, 5, 2, 3, 5, 5, 5, 5, 3, 5, 5, 5, 5, 3, 5, 3, 5, 2, 5, 5, 5, 3, 3, 5, 5, 2, 2, 5, 5, 5, 5, 5, 5, 5, 5, 5, 5, 5, 5, 5, 2, 5, 3, 3, 5, 3, 5, 5, 3, 5, 5, 5, 5, 2, 5, 5, 5, 3, 3, 3, 2, 2, 3, 3, 3, 5, 5, 3, 2, 5, 3, 5, 5, 5, 5, 3, 5, 5, 5, 2, 5, 5, 5, 2, 5, 5, 3, 5, 3, 5, 5, 5, 2, 5, 2, 5, 5, 3, 3, 3, 3, 3, 3, 3, 3, 5, 3, 5, 5, 5, 5, 5, 5, 5, 5, 5, 5, 5, 3, 3, 3, 5, 5, 2, 6, 3, 5, 5, 3, 2, 5, 3, 5, 3, 3, 3, 3, 3, 2, 3, 2, 0, 2, 5, 5, 1, 3, 6, 5, 5, 5, 3, 5, 5, 5, 5, 5, 3, 2, 5, 5, 5, 3, 5, 5, 5, 5, 3, 5, 2, 3, 3, 3, 2, 3, 3, 2, 5, 5, 5, 2, 2, 5, 5, 5, 5, 5, 5, 3, 5, 5, 3, 5, 4, 5, 3, 3, 5, 3, 3, 5, 3, 3, 2, 2, 5, 5, 1, 5, 5, 3, 5, 5, 5, 5, 5, 3, 5, 5, 2, 3, 3, 2, 3, 5, 5, 3, 5, 3, 3, 5, 5, 5, 5, 5, 5, 5, 5, 5, 5, 5, 5, 2, 3, 5, 5, 5, 5, 5, 5, 5, 3, 5, 5, 2, 2, 5, 2, 3, 5, 5, 3, 3, 5, 2, 2, 3, 3, 3, 5, 5, 3, 3, 5, 5, 5, 3, 5, 5, 5, 2, 3, 5, 5, 5, 5, 3, 3, 5, 5, 2, 5, 3, 5, 3, 3, 3, 5, 5, 5, 5, 5, 5, 5, 5, 3, 5, 5, 5, 3, 3, 3, 3, 3, 2, 2, 5, 3, 3, 2, 2, 5, 2, 3, 5, 2, 5, 5, 5, 5, 3, 3, 0, 2, 3, 5, 5, 5, 6, 5, 5, 5, 3, 5, 5, 5, 5, 5, 5, 3, 3, 5, 5, 3, 5, 0, 3, 5, 5, 3, 2, 5, 3, 3, 5, 4, 0, 5, 5, 3, 5, 3, 5, 5, 5, 5, 5, 3, 5, 5, 1, 3, 3, 2, 3, 5, 5, 5, 5, 5, 2, 5, 5, 3, 5, 2, 3, 5, 3, 5, 5, 3, 5, 5, 5, 3, 5, 5, 2, 2, 5, 5, 3, 5, 5, 3, 5, 5, 5, 3, 5, 5, 3, 2, 5, 5, 3, 3, 5, 3, 5, 3, 5, 3, 5, 5, 5, 3, 3, 2, 3, 3, 5, 5, 5, 5, 5, 1, 3, 5, 5, 3, 1, 5, 0, 2, 3, 3, 3, 5, 5, 5, 2, 3, 5, 5, 5, 3, 3, 1, 3, 5, 2, 5, 2, 2, 2, 6, 3, 5, 5, 2, 5, 3, 4, 2, 5, 5, 3, 2, 5, 5, 5, 3, 5, 3, 2, 3, 5, 3, 3, 3, 3, 3, 5, 5, 5, 3, 2, 2, 5, 3, 2, 5, 0, 1, 2, 3, 5, 3, 3, 2, 5, 6, 3, 3, 3, 2, 3, 3, 3, 5, 2, 3, 5, 4, 5]}], \"line\": {\"color\": [5, 3, 5, 3, 2, 3, 2, 2, 2, 3, 3, 5, 3, 2, 3, 2, 3, 5, 3, 3, 2, 5, 2, 5, 3, 3, 5, 2, 2, 3, 5, 3, 3, 2, 5, 5, 2, 2, 1, 3, 3, 3, 3, 5, 3, 3, 5, 5, 5, 3, 2, 2, 2, 3, 3, 5, 2, 3, 2, 2, 5, 5, 5, 3, 2, 3, 3, 3, 3, 3, 5, 5, 3, 3, 5, 6, 5, 5, 2, 3, 5, 1, 3, 5, 5, 5, 5, 1, 3, 3, 5, 3, 2, 3, 2, 3, 5, 5, 2, 2, 2, 3, 3, 3, 2, 3, 3, 5, 6, 5, 2, 5, 5, 2, 5, 6, 5, 3, 5, 5, 3, 5, 5, 3, 3, 5, 3, 2, 5, 3, 3, 3, 3, 5, 5, 3, 3, 3, 3, 5, 3, 3, 5, 3, 5, 5, 3, 5, 3, 3, 2, 3, 3, 3, 5, 3, 5, 5, 5, 5, 5, 5, 3, 5, 2, 3, 5, 3, 3, 5, 2, 5, 5, 5, 5, 3, 3, 5, 3, 3, 3, 3, 3, 5, 3, 5, 5, 5, 5, 3, 3, 3, 3, 3, 5, 2, 2, 5, 5, 5, 5, 2, 5, 3, 5, 5, 5, 5, 2, 5, 5, 5, 5, 5, 5, 3, 3, 5, 5, 3, 3, 3, 5, 5, 5, 3, 2, 2, 3, 3, 5, 5, 2, 5, 5, 3, 3, 5, 5, 5, 5, 5, 5, 5, 5, 5, 5, 3, 3, 5, 3, 5, 5, 5, 5, 2, 5, 2, 5, 5, 3, 3, 3, 5, 5, 5, 2, 2, 2, 5, 5, 2, 2, 5, 2, 5, 5, 5, 3, 5, 5, 5, 5, 3, 3, 5, 5, 3, 6, 5, 5, 3, 5, 2, 2, 2, 5, 5, 5, 3, 5, 2, 3, 5, 5, 5, 1, 1, 5, 5, 3, 3, 5, 3, 2, 4, 4, 3, 2, 5, 5, 5, 5, 5, 5, 3, 3, 5, 5, 3, 3, 5, 2, 3, 3, 5, 5, 3, 5, 5, 3, 3, 2, 3, 5, 3, 3, 2, 5, 3, 5, 5, 3, 2, 5, 5, 3, 3, 3, 6, 5, 3, 5, 5, 3, 5, 5, 5, 5, 5, 5, 3, 5, 5, 3, 2, 3, 5, 2, 3, 5, 5, 5, 5, 3, 5, 5, 5, 5, 3, 5, 3, 5, 2, 5, 5, 5, 3, 3, 5, 5, 2, 2, 5, 5, 5, 5, 5, 5, 5, 5, 5, 5, 5, 5, 5, 2, 5, 3, 3, 5, 3, 5, 5, 3, 5, 5, 5, 5, 2, 5, 5, 5, 3, 3, 3, 2, 2, 3, 3, 3, 5, 5, 3, 2, 5, 3, 5, 5, 5, 5, 3, 5, 5, 5, 2, 5, 5, 5, 2, 5, 5, 3, 5, 3, 5, 5, 5, 2, 5, 2, 5, 5, 3, 3, 3, 3, 3, 3, 3, 3, 5, 3, 5, 5, 5, 5, 5, 5, 5, 5, 5, 5, 5, 3, 3, 3, 5, 5, 2, 6, 3, 5, 5, 3, 2, 5, 3, 5, 3, 3, 3, 3, 3, 2, 3, 2, 0, 2, 5, 5, 1, 3, 6, 5, 5, 5, 3, 5, 5, 5, 5, 5, 3, 2, 5, 5, 5, 3, 5, 5, 5, 5, 3, 5, 2, 3, 3, 3, 2, 3, 3, 2, 5, 5, 5, 2, 2, 5, 5, 5, 5, 5, 5, 3, 5, 5, 3, 5, 4, 5, 3, 3, 5, 3, 3, 5, 3, 3, 2, 2, 5, 5, 1, 5, 5, 3, 5, 5, 5, 5, 5, 3, 5, 5, 2, 3, 3, 2, 3, 5, 5, 3, 5, 3, 3, 5, 5, 5, 5, 5, 5, 5, 5, 5, 5, 5, 5, 2, 3, 5, 5, 5, 5, 5, 5, 5, 3, 5, 5, 2, 2, 5, 2, 3, 5, 5, 3, 3, 5, 2, 2, 3, 3, 3, 5, 5, 3, 3, 5, 5, 5, 3, 5, 5, 5, 2, 3, 5, 5, 5, 5, 3, 3, 5, 5, 2, 5, 3, 5, 3, 3, 3, 5, 5, 5, 5, 5, 5, 5, 5, 3, 5, 5, 5, 3, 3, 3, 3, 3, 2, 2, 5, 3, 3, 2, 2, 5, 2, 3, 5, 2, 5, 5, 5, 5, 3, 3, 0, 2, 3, 5, 5, 5, 6, 5, 5, 5, 3, 5, 5, 5, 5, 5, 5, 3, 3, 5, 5, 3, 5, 0, 3, 5, 5, 3, 2, 5, 3, 3, 5, 4, 0, 5, 5, 3, 5, 3, 5, 5, 5, 5, 5, 3, 5, 5, 1, 3, 3, 2, 3, 5, 5, 5, 5, 5, 2, 5, 5, 3, 5, 2, 3, 5, 3, 5, 5, 3, 5, 5, 5, 3, 5, 5, 2, 2, 5, 5, 3, 5, 5, 3, 5, 5, 5, 3, 5, 5, 3, 2, 5, 5, 3, 3, 5, 3, 5, 3, 5, 3, 5, 5, 5, 3, 3, 2, 3, 3, 5, 5, 5, 5, 5, 1, 3, 5, 5, 3, 1, 5, 0, 2, 3, 3, 3, 5, 5, 5, 2, 3, 5, 5, 5, 3, 3, 1, 3, 5, 2, 5, 2, 2, 2, 6, 3, 5, 5, 2, 5, 3, 4, 2, 5, 5, 3, 2, 5, 5, 5, 3, 5, 3, 2, 3, 5, 3, 3, 3, 3, 3, 5, 5, 5, 3, 2, 2, 5, 3, 2, 5, 0, 1, 2, 3, 5, 3, 3, 2, 5, 6, 3, 3, 3, 2, 3, 3, 3, 5, 2, 3, 5, 4, 5], \"colorscale\": [[0.0, \"red\"], [0.16666666666666666, \"red\"], [0.3333333333333333, \"pink\"], [0.5, \"green\"], [0.6666666666666666, \"yellow\"], [0.8333333333333334, \"blue\"], [1.0, \"black\"]]}, \"type\": \"parcoords\"}],\n",
       "                        {\"paper_bgcolor\": \"white\", \"plot_bgcolor\": \"white\", \"template\": {\"data\": {\"bar\": [{\"error_x\": {\"color\": \"#2a3f5f\"}, \"error_y\": {\"color\": \"#2a3f5f\"}, \"marker\": {\"line\": {\"color\": \"#E5ECF6\", \"width\": 0.5}}, \"type\": \"bar\"}], \"barpolar\": [{\"marker\": {\"line\": {\"color\": \"#E5ECF6\", \"width\": 0.5}}, \"type\": \"barpolar\"}], \"carpet\": [{\"aaxis\": {\"endlinecolor\": \"#2a3f5f\", \"gridcolor\": \"white\", \"linecolor\": \"white\", \"minorgridcolor\": \"white\", \"startlinecolor\": \"#2a3f5f\"}, \"baxis\": {\"endlinecolor\": \"#2a3f5f\", \"gridcolor\": \"white\", \"linecolor\": \"white\", \"minorgridcolor\": \"white\", \"startlinecolor\": \"#2a3f5f\"}, \"type\": \"carpet\"}], \"choropleth\": [{\"colorbar\": {\"outlinewidth\": 0, \"ticks\": \"\"}, \"type\": \"choropleth\"}], \"contour\": [{\"colorbar\": {\"outlinewidth\": 0, \"ticks\": \"\"}, \"colorscale\": [[0.0, \"#0d0887\"], [0.1111111111111111, \"#46039f\"], [0.2222222222222222, \"#7201a8\"], [0.3333333333333333, \"#9c179e\"], [0.4444444444444444, \"#bd3786\"], [0.5555555555555556, \"#d8576b\"], [0.6666666666666666, \"#ed7953\"], [0.7777777777777778, \"#fb9f3a\"], [0.8888888888888888, \"#fdca26\"], [1.0, \"#f0f921\"]], \"type\": \"contour\"}], \"contourcarpet\": [{\"colorbar\": {\"outlinewidth\": 0, \"ticks\": \"\"}, \"type\": \"contourcarpet\"}], \"heatmap\": [{\"colorbar\": {\"outlinewidth\": 0, \"ticks\": \"\"}, \"colorscale\": [[0.0, \"#0d0887\"], [0.1111111111111111, \"#46039f\"], [0.2222222222222222, \"#7201a8\"], [0.3333333333333333, \"#9c179e\"], [0.4444444444444444, \"#bd3786\"], [0.5555555555555556, \"#d8576b\"], [0.6666666666666666, \"#ed7953\"], [0.7777777777777778, \"#fb9f3a\"], [0.8888888888888888, \"#fdca26\"], [1.0, \"#f0f921\"]], \"type\": \"heatmap\"}], \"heatmapgl\": [{\"colorbar\": {\"outlinewidth\": 0, \"ticks\": \"\"}, \"colorscale\": [[0.0, \"#0d0887\"], [0.1111111111111111, \"#46039f\"], [0.2222222222222222, \"#7201a8\"], [0.3333333333333333, \"#9c179e\"], [0.4444444444444444, \"#bd3786\"], [0.5555555555555556, \"#d8576b\"], [0.6666666666666666, \"#ed7953\"], [0.7777777777777778, \"#fb9f3a\"], [0.8888888888888888, \"#fdca26\"], [1.0, \"#f0f921\"]], \"type\": \"heatmapgl\"}], \"histogram\": [{\"marker\": {\"colorbar\": {\"outlinewidth\": 0, \"ticks\": \"\"}}, \"type\": \"histogram\"}], \"histogram2d\": [{\"colorbar\": {\"outlinewidth\": 0, \"ticks\": \"\"}, \"colorscale\": [[0.0, \"#0d0887\"], [0.1111111111111111, \"#46039f\"], [0.2222222222222222, \"#7201a8\"], [0.3333333333333333, \"#9c179e\"], [0.4444444444444444, \"#bd3786\"], [0.5555555555555556, \"#d8576b\"], [0.6666666666666666, \"#ed7953\"], [0.7777777777777778, \"#fb9f3a\"], [0.8888888888888888, \"#fdca26\"], [1.0, \"#f0f921\"]], \"type\": \"histogram2d\"}], \"histogram2dcontour\": [{\"colorbar\": {\"outlinewidth\": 0, \"ticks\": \"\"}, \"colorscale\": [[0.0, \"#0d0887\"], [0.1111111111111111, \"#46039f\"], [0.2222222222222222, \"#7201a8\"], [0.3333333333333333, \"#9c179e\"], [0.4444444444444444, \"#bd3786\"], [0.5555555555555556, \"#d8576b\"], [0.6666666666666666, \"#ed7953\"], [0.7777777777777778, \"#fb9f3a\"], [0.8888888888888888, \"#fdca26\"], [1.0, \"#f0f921\"]], \"type\": \"histogram2dcontour\"}], \"mesh3d\": [{\"colorbar\": {\"outlinewidth\": 0, \"ticks\": \"\"}, \"type\": \"mesh3d\"}], \"parcoords\": [{\"line\": {\"colorbar\": {\"outlinewidth\": 0, \"ticks\": \"\"}}, \"type\": \"parcoords\"}], \"pie\": [{\"automargin\": true, \"type\": \"pie\"}], \"scatter\": [{\"marker\": {\"colorbar\": {\"outlinewidth\": 0, \"ticks\": \"\"}}, \"type\": \"scatter\"}], \"scatter3d\": [{\"line\": {\"colorbar\": {\"outlinewidth\": 0, \"ticks\": \"\"}}, \"marker\": {\"colorbar\": {\"outlinewidth\": 0, \"ticks\": \"\"}}, \"type\": \"scatter3d\"}], \"scattercarpet\": [{\"marker\": {\"colorbar\": {\"outlinewidth\": 0, \"ticks\": \"\"}}, \"type\": \"scattercarpet\"}], \"scattergeo\": [{\"marker\": {\"colorbar\": {\"outlinewidth\": 0, \"ticks\": \"\"}}, \"type\": \"scattergeo\"}], \"scattergl\": [{\"marker\": {\"colorbar\": {\"outlinewidth\": 0, \"ticks\": \"\"}}, \"type\": \"scattergl\"}], \"scattermapbox\": [{\"marker\": {\"colorbar\": {\"outlinewidth\": 0, \"ticks\": \"\"}}, \"type\": \"scattermapbox\"}], \"scatterpolar\": [{\"marker\": {\"colorbar\": {\"outlinewidth\": 0, \"ticks\": \"\"}}, \"type\": \"scatterpolar\"}], \"scatterpolargl\": [{\"marker\": {\"colorbar\": {\"outlinewidth\": 0, \"ticks\": \"\"}}, \"type\": \"scatterpolargl\"}], \"scatterternary\": [{\"marker\": {\"colorbar\": {\"outlinewidth\": 0, \"ticks\": \"\"}}, \"type\": \"scatterternary\"}], \"surface\": [{\"colorbar\": {\"outlinewidth\": 0, \"ticks\": \"\"}, \"colorscale\": [[0.0, \"#0d0887\"], [0.1111111111111111, \"#46039f\"], [0.2222222222222222, \"#7201a8\"], [0.3333333333333333, \"#9c179e\"], [0.4444444444444444, \"#bd3786\"], [0.5555555555555556, \"#d8576b\"], [0.6666666666666666, \"#ed7953\"], [0.7777777777777778, \"#fb9f3a\"], [0.8888888888888888, \"#fdca26\"], [1.0, \"#f0f921\"]], \"type\": \"surface\"}], \"table\": [{\"cells\": {\"fill\": {\"color\": \"#EBF0F8\"}, \"line\": {\"color\": \"white\"}}, \"header\": {\"fill\": {\"color\": \"#C8D4E3\"}, \"line\": {\"color\": \"white\"}}, \"type\": \"table\"}]}, \"layout\": {\"annotationdefaults\": {\"arrowcolor\": \"#2a3f5f\", \"arrowhead\": 0, \"arrowwidth\": 1}, \"coloraxis\": {\"colorbar\": {\"outlinewidth\": 0, \"ticks\": \"\"}}, \"colorscale\": {\"diverging\": [[0, \"#8e0152\"], [0.1, \"#c51b7d\"], [0.2, \"#de77ae\"], [0.3, \"#f1b6da\"], [0.4, \"#fde0ef\"], [0.5, \"#f7f7f7\"], [0.6, \"#e6f5d0\"], [0.7, \"#b8e186\"], [0.8, \"#7fbc41\"], [0.9, \"#4d9221\"], [1, \"#276419\"]], \"sequential\": [[0.0, \"#0d0887\"], [0.1111111111111111, \"#46039f\"], [0.2222222222222222, \"#7201a8\"], [0.3333333333333333, \"#9c179e\"], [0.4444444444444444, \"#bd3786\"], [0.5555555555555556, \"#d8576b\"], [0.6666666666666666, \"#ed7953\"], [0.7777777777777778, \"#fb9f3a\"], [0.8888888888888888, \"#fdca26\"], [1.0, \"#f0f921\"]], \"sequentialminus\": [[0.0, \"#0d0887\"], [0.1111111111111111, \"#46039f\"], [0.2222222222222222, \"#7201a8\"], [0.3333333333333333, \"#9c179e\"], [0.4444444444444444, \"#bd3786\"], [0.5555555555555556, \"#d8576b\"], [0.6666666666666666, \"#ed7953\"], [0.7777777777777778, \"#fb9f3a\"], [0.8888888888888888, \"#fdca26\"], [1.0, \"#f0f921\"]]}, \"colorway\": [\"#636efa\", \"#EF553B\", \"#00cc96\", \"#ab63fa\", \"#FFA15A\", \"#19d3f3\", \"#FF6692\", \"#B6E880\", \"#FF97FF\", \"#FECB52\"], \"font\": {\"color\": \"#2a3f5f\"}, \"geo\": {\"bgcolor\": \"white\", \"lakecolor\": \"white\", \"landcolor\": \"#E5ECF6\", \"showlakes\": true, \"showland\": true, \"subunitcolor\": \"white\"}, \"hoverlabel\": {\"align\": \"left\"}, \"hovermode\": \"closest\", \"mapbox\": {\"style\": \"light\"}, \"paper_bgcolor\": \"white\", \"plot_bgcolor\": \"#E5ECF6\", \"polar\": {\"angularaxis\": {\"gridcolor\": \"white\", \"linecolor\": \"white\", \"ticks\": \"\"}, \"bgcolor\": \"#E5ECF6\", \"radialaxis\": {\"gridcolor\": \"white\", \"linecolor\": \"white\", \"ticks\": \"\"}}, \"scene\": {\"xaxis\": {\"backgroundcolor\": \"#E5ECF6\", \"gridcolor\": \"white\", \"gridwidth\": 2, \"linecolor\": \"white\", \"showbackground\": true, \"ticks\": \"\", \"zerolinecolor\": \"white\"}, \"yaxis\": {\"backgroundcolor\": \"#E5ECF6\", \"gridcolor\": \"white\", \"gridwidth\": 2, \"linecolor\": \"white\", \"showbackground\": true, \"ticks\": \"\", \"zerolinecolor\": \"white\"}, \"zaxis\": {\"backgroundcolor\": \"#E5ECF6\", \"gridcolor\": \"white\", \"gridwidth\": 2, \"linecolor\": \"white\", \"showbackground\": true, \"ticks\": \"\", \"zerolinecolor\": \"white\"}}, \"shapedefaults\": {\"line\": {\"color\": \"#2a3f5f\"}}, \"ternary\": {\"aaxis\": {\"gridcolor\": \"white\", \"linecolor\": \"white\", \"ticks\": \"\"}, \"baxis\": {\"gridcolor\": \"white\", \"linecolor\": \"white\", \"ticks\": \"\"}, \"bgcolor\": \"#E5ECF6\", \"caxis\": {\"gridcolor\": \"white\", \"linecolor\": \"white\", \"ticks\": \"\"}}, \"title\": {\"x\": 0.05}, \"xaxis\": {\"automargin\": true, \"gridcolor\": \"white\", \"linecolor\": \"white\", \"ticks\": \"\", \"title\": {\"standoff\": 15}, \"zerolinecolor\": \"white\", \"zerolinewidth\": 2}, \"yaxis\": {\"automargin\": true, \"gridcolor\": \"white\", \"linecolor\": \"white\", \"ticks\": \"\", \"title\": {\"standoff\": 15}, \"zerolinecolor\": \"white\", \"zerolinewidth\": 2}}}},\n",
       "                        {\"responsive\": true}\n",
       "                    ).then(function(){\n",
       "                            \n",
       "var gd = document.getElementById('22cac9aa-2605-45f1-a2fa-2a447c7b9ede');\n",
       "var x = new MutationObserver(function (mutations, observer) {{\n",
       "        var display = window.getComputedStyle(gd).display;\n",
       "        if (!display || display === 'none') {{\n",
       "            console.log([gd, 'removed!']);\n",
       "            Plotly.purge(gd);\n",
       "            observer.disconnect();\n",
       "        }}\n",
       "}});\n",
       "\n",
       "// Listen for the removal of the full notebook cells\n",
       "var notebookContainer = gd.closest('#notebook-container');\n",
       "if (notebookContainer) {{\n",
       "    x.observe(notebookContainer, {childList: true});\n",
       "}}\n",
       "\n",
       "// Listen for the clearing of the current output cell\n",
       "var outputEl = gd.closest('.output');\n",
       "if (outputEl) {{\n",
       "    x.observe(outputEl, {childList: true});\n",
       "}}\n",
       "\n",
       "                        })\n",
       "                };\n",
       "                });\n",
       "            </script>\n",
       "        </div>"
      ]
     },
     "metadata": {},
     "output_type": "display_data"
    }
   ],
   "source": [
    "fig = go.Figure(data=\n",
    "    go.Parcoords(\n",
    "        line = dict(color = precdf['mencao'],\n",
    "                     colorscale=[\"red\",\"red\",\"pink\",\"green\",\"yellow\",\"blue\",\"black\"]),\n",
    "        dimensions = list([\n",
    "            dict(range = [20102,20192],\n",
    "                label = 'Período', values = precdf['periodo']),\n",
    "            dict(range = [300000,398420],\n",
    "                label = 'Código da Disciplina', values = precdf['codigo_disciplina']),\n",
    "            dict(range = [0,6],\n",
    "                label = 'Menção', values = precdf['mencao'])\n",
    "        ])\n",
    "    )\n",
    ")\n",
    "\n",
    "fig.update_layout(\n",
    "    plot_bgcolor = 'white',\n",
    "    paper_bgcolor = 'white'\n",
    ")\n",
    "fig.show()\n",
    "\n",
    "#parallel_coordinates(precdf,'Menção',color=('#556270', '#4ECDC4', '#C7F464','#000000','#AAAAAA'))\n",
    "#plt.xlabel(\"Each Component of X is Shown on its Own Vertical Axis\")\n",
    "#plt.ylabel(\"Values\")\n",
    "#plt.title(\"Finding the Optimal Value of X\")\n",
    "#plt.show()"
   ]
  },
  {
   "cell_type": "code",
   "execution_count": 92,
   "metadata": {},
   "outputs": [
    {
     "name": "stdout",
     "output_type": "stream",
     "text": [
      "316261 Tópicos em Engenharia de Software                                     \n",
      "316440 Sistemas Distribuídos                                                 \n",
      "316032 Inteligência Artificial 2                                             \n",
      "316504 Tópicos em Fundamentos e Métodos de Computação                        \n",
      "316296 Teoria da Computação                                                  \n",
      "316491 Tópicos em Sistemas de Computação                                     \n",
      "363111 Processamento de Sinais                                               \n",
      "316415 Seminário                                                             \n",
      "316547 Proficiência em Inglês                                                \n",
      "313343 Geometria Diferencial                                                 \n",
      "313599 Seminário de Computação                                               \n",
      "323543 Ecologia de Paisagens                                                 \n",
      "316385 Processamento de Imagens Digitais                                     \n",
      "313386 Teoria dos Grupos Finitos 2                                           \n",
      "316245 Engenharia de Software 2                                              \n",
      "316563 Sistemas Multiagentes                                                 \n",
      "316024 Inteligência Artificial 1                                             \n",
      "316393 Projeto e Complexidade de Algoritmos                                  \n",
      "316237 Engenharia de Software 1                                              \n",
      "316377 Fundamentos de Sistemas Computacionais                                \n",
      "302848 Instrumentação Eletromédica                                           \n",
      "302945 Projeto de Equipamentos Médicos                                       \n",
      "316571 Tópicos de Pesquisa em Informática                                    \n",
      "363723 Criptografia                                                          \n",
      "313131 Criptografia e Segurança de Dados                                     \n",
      "332801 Teoria de Grupos Finitos                                              \n",
      "316334 Teoria de Grupos Finitos 1                                            \n",
      "316521 Tópicos Especiais em Métodos Quantitativos 2                          \n",
      "316580 Estágio de Docência no Ensino de Graduação em Ciência da Computação   \n",
      "302881 Trabalho Individual em Fundamentos e Métodos de Computação            \n",
      "316407 Exame de Qualificação                                                 \n",
      "395684 Estudo Orientado em Instrumentação Biomédica 1                        \n",
      "363685 Arquiteturas VLSI                                                     \n",
      "314544 Estudo Orientado em Proc de Sinais Biomédicos e Imagens Médicas 1     \n",
      "316016 Redes de Computadores                                                 \n",
      "316598 Álgebra Comutativa                                                    \n",
      "333859 Lógica Formal Aplicada                                                \n",
      "313220 Projeto e Complexidade de Algorítmos 2                                \n",
      "363031 Teoria dos Jogos                                                      \n",
      "316474 Medida e Integração                                                   \n",
      "316512 Informação e Codificação                                              \n",
      "398420 Reconhecimento de Padrões                                             \n",
      "364762 Trabalho Individual em Sistemas de Computação                         \n",
      "313629 Processamento Digital de Sinais                                       \n",
      "315486 Sistemas Digitais para Automação                                      \n",
      "322580 Apresentação de Grupos e Métodos Computacionais                       \n",
      "363715 Delineamento e Análise de Experimentos                                \n",
      "367354 Modelos em Ecologia                                                   \n",
      "367443 Tópicos em Redes de Comunicação 1                                     \n",
      "313157 Tópicos em Teleinformática                                            \n",
      "301477 Processos Estocásticos                                                \n",
      "301558 Teoria da Informação                                                  \n",
      "301566 Introdução à Probabilidade e Aplicações                               \n",
      "301795 Algoritmos e Estruturas de Dados                                      \n",
      "316601 Fundamentos de Banco de Dados                                         \n",
      "315125 Análise Estatística de Dados e Informações                            \n",
      "316342 Mineração de Dados                                                    \n",
      "316652 Lógica Formal e Computacional                                         \n",
      "301884 Métodos Estatísticos 1                                                \n",
      "301892 Programação Paralela                                                  \n",
      "301906 Tópicos Avançados em Sistemas de Computação                           \n",
      "301914 Engenharia de Requisitos                                              \n",
      "301922 Arquitetura e Desenho de Software                                     \n",
      "316466 Construção de Software                                                \n",
      "150657 Verificação, Validação e Testes de Software                           \n",
      "366200 Tópicos Avançados em Engenharia de Software                           \n",
      "316041 Processamento de Imagens                                              \n",
      "316482 Polonês 1                                                             \n",
      "364622 Introdução aos Sistemas Inteligentes                                  \n",
      "319341 Linguagens Declarativas                                               \n",
      "318761 Linguagens Para Inteligencia Artificial                               \n",
      "363669 Tópicos em Formalismos de Computação                                  \n",
      "301817 Visão Computacional                                                   \n",
      "303666 Fundamentos de Sistema de Informações Geográficas                     \n",
      "365289 Tópicos em Fundamentos e Métodos da Computação                        \n",
      "311596 Sistemas Operacionais                                                 \n",
      "311618 Gestão de Projetos de TI                                              \n",
      "311642 Teoria de Prova                                                       \n",
      "311979 Fundamentos de Computação Gráfica e Visual                            \n",
      "311995 Banco de Dados Massivos                                               \n",
      "325449 Métodos Computacionais Intensivos para Mineração de Dados             \n",
      "364606 Mineração de Dados Massivos                                           \n",
      "301809 Noções Básicas de Seleção de Amostras                                 \n",
      "365726 Tópicos Avançados em Mineração de Dados                               \n",
      "316636 Treinamento e Desenvolvimento de Pessoal                              \n",
      "313998 Tópicos Avançados em Sistemas Mecatrônicos 2                          \n",
      "301825 Fundamentos em Pesquisa Operacional                                   \n",
      "301833 Tópicos em Gestão Ambiental 1                                         \n",
      "301841 Tópicos Especiais em Gestão Ambiental                                 \n",
      "301850 Modelagem e Verificação de Sistemas Integrados em Silício             \n",
      "301868 Introdução a Lógica Formal                                            \n",
      "301876 Lógica Clássica e Extensões                                           \n",
      "382752 Redes de Acesso                                                       \n",
      "364592 Convergência de Redes                                                 \n",
      "323641 Armazenamento e Gerenciamento de Informações                          \n"
     ]
    },
    {
     "ename": "KeyError",
     "evalue": "95",
     "output_type": "error",
     "traceback": [
      "\u001b[0;31m---------------------------------------------------------------------------\u001b[0m",
      "\u001b[0;31mKeyError\u001b[0m                                  Traceback (most recent call last)",
      "\u001b[0;32m<ipython-input-92-259de43a4480>\u001b[0m in \u001b[0;36m<module>\u001b[0;34m()\u001b[0m\n\u001b[1;32m     23\u001b[0m \u001b[0;34m\u001b[0m\u001b[0m\n\u001b[1;32m     24\u001b[0m \u001b[0;32mfor\u001b[0m \u001b[0mi\u001b[0m \u001b[0;32min\u001b[0m \u001b[0mrange\u001b[0m\u001b[0;34m(\u001b[0m\u001b[0;36m0\u001b[0m\u001b[0;34m,\u001b[0m\u001b[0mlen\u001b[0m\u001b[0;34m(\u001b[0m\u001b[0mcourses\u001b[0m\u001b[0;34m)\u001b[0m\u001b[0;34m)\u001b[0m\u001b[0;34m:\u001b[0m\u001b[0;34m\u001b[0m\u001b[0;34m\u001b[0m\u001b[0m\n\u001b[0;32m---> 25\u001b[0;31m     \u001b[0mprint\u001b[0m\u001b[0;34m(\u001b[0m\u001b[0mstr\u001b[0m\u001b[0;34m(\u001b[0m\u001b[0mdiscCodes\u001b[0m\u001b[0;34m[\u001b[0m\u001b[0mi\u001b[0m\u001b[0;34m]\u001b[0m\u001b[0;34m)\u001b[0m\u001b[0;34m+\u001b[0m\u001b[0;34m' '\u001b[0m\u001b[0;34m+\u001b[0m\u001b[0mstr\u001b[0m\u001b[0;34m(\u001b[0m\u001b[0mdiscNames\u001b[0m\u001b[0;34m[\u001b[0m\u001b[0mi\u001b[0m\u001b[0;34m]\u001b[0m\u001b[0;34m)\u001b[0m\u001b[0;34m)\u001b[0m\u001b[0;34m\u001b[0m\u001b[0;34m\u001b[0m\u001b[0m\n\u001b[0m",
      "\u001b[0;31mKeyError\u001b[0m: 95"
     ]
    }
   ],
   "source": [
    "coursesArray = pd.unique(df['Disciplina'].values)\n",
    "courses = coursesArray.tolist()\n",
    "\n",
    "discNames = {}\n",
    "\n",
    "invdict = {}\n",
    "for i in range(0,len(courses)):\n",
    "    discNames[i] = courses[i]\n",
    "    invdict[courses[i]] = i\n",
    "\n",
    "#print(discNomes)\n",
    "\n",
    "codesArray = pd.unique(df['Código da Disciplina'].values)\n",
    "codes = codesArray.tolist()\n",
    "\n",
    "discCodes = {}\n",
    "\n",
    "invdict2 = {}\n",
    "for i in range(0,len(codes)):\n",
    "    discCodes[i] = codes[i]\n",
    "    invdict2[codes[i]] = i\n",
    "\n",
    "\n",
    "for i in range(0,len(courses)):\n",
    "    print(str(discCodes[i])+' '+str(discNames[i]))\n"
   ]
  },
  {
   "cell_type": "code",
   "execution_count": null,
   "metadata": {},
   "outputs": [],
   "source": []
  }
 ],
 "metadata": {
  "kernelspec": {
   "display_name": "Python 3",
   "language": "python",
   "name": "python3"
  },
  "language_info": {
   "codemirror_mode": {
    "name": "ipython",
    "version": 3
   },
   "file_extension": ".py",
   "mimetype": "text/x-python",
   "name": "python",
   "nbconvert_exporter": "python",
   "pygments_lexer": "ipython3",
   "version": "3.6.10"
  }
 },
 "nbformat": 4,
 "nbformat_minor": 2
}

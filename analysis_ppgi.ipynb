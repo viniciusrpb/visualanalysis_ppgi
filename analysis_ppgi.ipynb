{
 "cells": [
  {
   "cell_type": "code",
   "execution_count": 1,
   "metadata": {},
   "outputs": [],
   "source": [
    "import pandas as pd\n",
    "import numpy as np\n",
    "import matplotlib.pyplot as plt\n",
    "import plotly.express as px\n",
    "import plotly.graph_objects as go\n",
    "\n",
    "pd.set_option('display.max_rows', 500)\n",
    "pd.set_option('display.max_columns', 500)\n",
    "pd.set_option('display.width', 1000)"
   ]
  },
  {
   "cell_type": "markdown",
   "metadata": {},
   "source": [
    "## Load dataset"
   ]
  },
  {
   "cell_type": "code",
   "execution_count": 2,
   "metadata": {},
   "outputs": [],
   "source": [
    "df = pd.read_csv('data/hist_ppgi.csv', sep=';',encoding='latin-1')"
   ]
  },
  {
   "cell_type": "markdown",
   "metadata": {},
   "source": [
    "## Remover as disciplinas que não são relevantes no PPGI"
   ]
  },
  {
   "cell_type": "code",
   "execution_count": 3,
   "metadata": {},
   "outputs": [],
   "source": [
    "flag_ppgi = df['Código da Disciplina'] >= 316000\n",
    "\n",
    "flag_ppgi2 = df['Código da Disciplina'] < 317000\n",
    "\n",
    "df = df[flag_ppgi & flag_ppgi2]"
   ]
  },
  {
   "cell_type": "markdown",
   "metadata": {},
   "source": [
    "### Remove coluna do nome do aluno"
   ]
  },
  {
   "cell_type": "code",
   "execution_count": 4,
   "metadata": {},
   "outputs": [],
   "source": [
    "matricula = df['Matrícula']\n",
    "\n",
    "periodo = df['Período']\n",
    "\n",
    "matdisano = periodo // 10\n",
    "\n",
    "matdissem = periodo % 10\n",
    "\n",
    "semestre = (matricula // 100000)%10+1\n",
    "\n",
    "ingresso = 2000+(matricula // 10000000)\n",
    "\n",
    "#df['Ingresso'] = ingresso*10+semestre\n",
    "\n",
    "df['Tempo'] = (matdisano - ingresso)*2 + matdissem-semestre+1"
   ]
  },
  {
   "cell_type": "code",
   "execution_count": 5,
   "metadata": {},
   "outputs": [
    {
     "data": {
      "text/html": [
       "<div>\n",
       "<style scoped>\n",
       "    .dataframe tbody tr th:only-of-type {\n",
       "        vertical-align: middle;\n",
       "    }\n",
       "\n",
       "    .dataframe tbody tr th {\n",
       "        vertical-align: top;\n",
       "    }\n",
       "\n",
       "    .dataframe thead th {\n",
       "        text-align: right;\n",
       "    }\n",
       "</style>\n",
       "<table border=\"1\" class=\"dataframe\">\n",
       "  <thead>\n",
       "    <tr style=\"text-align: right;\">\n",
       "      <th></th>\n",
       "      <th>Período</th>\n",
       "      <th>Matrícula</th>\n",
       "      <th>Código da Disciplina</th>\n",
       "      <th>Disciplina</th>\n",
       "      <th>Menção</th>\n",
       "      <th>Tempo</th>\n",
       "    </tr>\n",
       "  </thead>\n",
       "  <tbody>\n",
       "    <tr>\n",
       "      <th>0</th>\n",
       "      <td>20102</td>\n",
       "      <td>100000541</td>\n",
       "      <td>316261</td>\n",
       "      <td>Tópicos em Engenharia de Software             ...</td>\n",
       "      <td>SS</td>\n",
       "      <td>2</td>\n",
       "    </tr>\n",
       "    <tr>\n",
       "      <th>1</th>\n",
       "      <td>20102</td>\n",
       "      <td>100000541</td>\n",
       "      <td>316440</td>\n",
       "      <td>Sistemas Distribuídos                         ...</td>\n",
       "      <td>MS</td>\n",
       "      <td>2</td>\n",
       "    </tr>\n",
       "    <tr>\n",
       "      <th>2</th>\n",
       "      <td>20102</td>\n",
       "      <td>100132855</td>\n",
       "      <td>316032</td>\n",
       "      <td>Inteligência Artificial 2                     ...</td>\n",
       "      <td>SS</td>\n",
       "      <td>1</td>\n",
       "    </tr>\n",
       "    <tr>\n",
       "      <th>3</th>\n",
       "      <td>20102</td>\n",
       "      <td>100132855</td>\n",
       "      <td>316504</td>\n",
       "      <td>Tópicos em Fundamentos e Métodos de Computação...</td>\n",
       "      <td>MS</td>\n",
       "      <td>1</td>\n",
       "    </tr>\n",
       "    <tr>\n",
       "      <th>4</th>\n",
       "      <td>20102</td>\n",
       "      <td>100132871</td>\n",
       "      <td>316296</td>\n",
       "      <td>Teoria da Computação                          ...</td>\n",
       "      <td>MM</td>\n",
       "      <td>1</td>\n",
       "    </tr>\n",
       "    <tr>\n",
       "      <th>...</th>\n",
       "      <td>...</td>\n",
       "      <td>...</td>\n",
       "      <td>...</td>\n",
       "      <td>...</td>\n",
       "      <td>...</td>\n",
       "      <td>...</td>\n",
       "    </tr>\n",
       "    <tr>\n",
       "      <th>1140</th>\n",
       "      <td>20192</td>\n",
       "      <td>190144661</td>\n",
       "      <td>316377</td>\n",
       "      <td>Fundamentos de Sistemas Computacionais        ...</td>\n",
       "      <td>MM</td>\n",
       "      <td>1</td>\n",
       "    </tr>\n",
       "    <tr>\n",
       "      <th>1141</th>\n",
       "      <td>20192</td>\n",
       "      <td>190144688</td>\n",
       "      <td>316261</td>\n",
       "      <td>Tópicos em Engenharia de Software             ...</td>\n",
       "      <td>MS</td>\n",
       "      <td>1</td>\n",
       "    </tr>\n",
       "    <tr>\n",
       "      <th>1142</th>\n",
       "      <td>20192</td>\n",
       "      <td>190144688</td>\n",
       "      <td>316415</td>\n",
       "      <td>Seminário                                     ...</td>\n",
       "      <td>SS</td>\n",
       "      <td>1</td>\n",
       "    </tr>\n",
       "    <tr>\n",
       "      <th>1143</th>\n",
       "      <td>20192</td>\n",
       "      <td>190147661</td>\n",
       "      <td>316296</td>\n",
       "      <td>Teoria da Computação                          ...</td>\n",
       "      <td>SR</td>\n",
       "      <td>1</td>\n",
       "    </tr>\n",
       "    <tr>\n",
       "      <th>1144</th>\n",
       "      <td>20192</td>\n",
       "      <td>190150611</td>\n",
       "      <td>316334</td>\n",
       "      <td>Estágio de Docência no Ensino de Graduação em ...</td>\n",
       "      <td>SS</td>\n",
       "      <td>1</td>\n",
       "    </tr>\n",
       "  </tbody>\n",
       "</table>\n",
       "<p>1016 rows × 6 columns</p>\n",
       "</div>"
      ],
      "text/plain": [
       "      Período  Matrícula  Código da Disciplina                                         Disciplina Menção  Tempo\n",
       "0       20102  100000541                316261  Tópicos em Engenharia de Software             ...     SS      2\n",
       "1       20102  100000541                316440  Sistemas Distribuídos                         ...     MS      2\n",
       "2       20102  100132855                316032  Inteligência Artificial 2                     ...     SS      1\n",
       "3       20102  100132855                316504  Tópicos em Fundamentos e Métodos de Computação...     MS      1\n",
       "4       20102  100132871                316296  Teoria da Computação                          ...     MM      1\n",
       "...       ...        ...                   ...                                                ...    ...    ...\n",
       "1140    20192  190144661                316377  Fundamentos de Sistemas Computacionais        ...     MM      1\n",
       "1141    20192  190144688                316261  Tópicos em Engenharia de Software             ...     MS      1\n",
       "1142    20192  190144688                316415  Seminário                                     ...     SS      1\n",
       "1143    20192  190147661                316296  Teoria da Computação                          ...     SR      1\n",
       "1144    20192  190150611                316334  Estágio de Docência no Ensino de Graduação em ...     SS      1\n",
       "\n",
       "[1016 rows x 6 columns]"
      ]
     },
     "execution_count": 5,
     "metadata": {},
     "output_type": "execute_result"
    }
   ],
   "source": [
    "df = df.drop(['Nome','Curso','Código do Curso','Modalidade','Turma','Código da Opção','Nível'], axis=1)\n",
    "\n",
    "nroInstances,nroAttributes = df.shape\n",
    "\n",
    "df"
   ]
  },
  {
   "cell_type": "markdown",
   "metadata": {},
   "source": [
    "## Erros de preenchimento"
   ]
  },
  {
   "cell_type": "code",
   "execution_count": 6,
   "metadata": {},
   "outputs": [
    {
     "data": {
      "text/html": [
       "<div>\n",
       "<style scoped>\n",
       "    .dataframe tbody tr th:only-of-type {\n",
       "        vertical-align: middle;\n",
       "    }\n",
       "\n",
       "    .dataframe tbody tr th {\n",
       "        vertical-align: top;\n",
       "    }\n",
       "\n",
       "    .dataframe thead th {\n",
       "        text-align: right;\n",
       "    }\n",
       "</style>\n",
       "<table border=\"1\" class=\"dataframe\">\n",
       "  <thead>\n",
       "    <tr style=\"text-align: right;\">\n",
       "      <th></th>\n",
       "      <th>Período</th>\n",
       "      <th>Matrícula</th>\n",
       "      <th>Código da Disciplina</th>\n",
       "      <th>Disciplina</th>\n",
       "      <th>Menção</th>\n",
       "      <th>Tempo</th>\n",
       "    </tr>\n",
       "  </thead>\n",
       "  <tbody>\n",
       "    <tr>\n",
       "      <th>11</th>\n",
       "      <td>20102</td>\n",
       "      <td>120048582</td>\n",
       "      <td>316415</td>\n",
       "      <td>Seminário                                     ...</td>\n",
       "      <td>SS</td>\n",
       "      <td>-2</td>\n",
       "    </tr>\n",
       "    <tr>\n",
       "      <th>12</th>\n",
       "      <td>20102</td>\n",
       "      <td>120048582</td>\n",
       "      <td>316504</td>\n",
       "      <td>Tópicos em Fundamentos e Métodos de Computação...</td>\n",
       "      <td>MS</td>\n",
       "      <td>-2</td>\n",
       "    </tr>\n",
       "    <tr>\n",
       "      <th>13</th>\n",
       "      <td>20102</td>\n",
       "      <td>120048582</td>\n",
       "      <td>316547</td>\n",
       "      <td>Proficiência em Inglês                        ...</td>\n",
       "      <td>AP</td>\n",
       "      <td>-2</td>\n",
       "    </tr>\n",
       "    <tr>\n",
       "      <th>14</th>\n",
       "      <td>20102</td>\n",
       "      <td>120099551</td>\n",
       "      <td>316032</td>\n",
       "      <td>Inteligência Artificial 2                     ...</td>\n",
       "      <td>MM</td>\n",
       "      <td>-2</td>\n",
       "    </tr>\n",
       "    <tr>\n",
       "      <th>15</th>\n",
       "      <td>20102</td>\n",
       "      <td>120099551</td>\n",
       "      <td>316296</td>\n",
       "      <td>Teoria da Computação                          ...</td>\n",
       "      <td>MS</td>\n",
       "      <td>-2</td>\n",
       "    </tr>\n",
       "    <tr>\n",
       "      <th>16</th>\n",
       "      <td>20102</td>\n",
       "      <td>120099551</td>\n",
       "      <td>316440</td>\n",
       "      <td>Sistemas Distribuídos                         ...</td>\n",
       "      <td>MM</td>\n",
       "      <td>-2</td>\n",
       "    </tr>\n",
       "    <tr>\n",
       "      <th>17</th>\n",
       "      <td>20102</td>\n",
       "      <td>120149796</td>\n",
       "      <td>316547</td>\n",
       "      <td>Proficiência em Inglês                        ...</td>\n",
       "      <td>AP</td>\n",
       "      <td>-3</td>\n",
       "    </tr>\n",
       "    <tr>\n",
       "      <th>20</th>\n",
       "      <td>20102</td>\n",
       "      <td>120178893</td>\n",
       "      <td>316296</td>\n",
       "      <td>Teoria da Computação                          ...</td>\n",
       "      <td>MS</td>\n",
       "      <td>-3</td>\n",
       "    </tr>\n",
       "    <tr>\n",
       "      <th>21</th>\n",
       "      <td>20102</td>\n",
       "      <td>130050652</td>\n",
       "      <td>316504</td>\n",
       "      <td>Tópicos em Fundamentos e Métodos de Computação...</td>\n",
       "      <td>MS</td>\n",
       "      <td>-4</td>\n",
       "    </tr>\n",
       "    <tr>\n",
       "      <th>22</th>\n",
       "      <td>20102</td>\n",
       "      <td>130051241</td>\n",
       "      <td>316296</td>\n",
       "      <td>Teoria da Computação                          ...</td>\n",
       "      <td>MM</td>\n",
       "      <td>-4</td>\n",
       "    </tr>\n",
       "    <tr>\n",
       "      <th>23</th>\n",
       "      <td>20102</td>\n",
       "      <td>130051241</td>\n",
       "      <td>316504</td>\n",
       "      <td>Tópicos em Fundamentos e Métodos de Computação...</td>\n",
       "      <td>SS</td>\n",
       "      <td>-4</td>\n",
       "    </tr>\n",
       "    <tr>\n",
       "      <th>24</th>\n",
       "      <td>20102</td>\n",
       "      <td>130051276</td>\n",
       "      <td>316296</td>\n",
       "      <td>Teoria da Computação                          ...</td>\n",
       "      <td>MM</td>\n",
       "      <td>-4</td>\n",
       "    </tr>\n",
       "    <tr>\n",
       "      <th>26</th>\n",
       "      <td>20102</td>\n",
       "      <td>130072222</td>\n",
       "      <td>316385</td>\n",
       "      <td>Processamento de Imagens Digitais             ...</td>\n",
       "      <td>MS</td>\n",
       "      <td>-4</td>\n",
       "    </tr>\n",
       "    <tr>\n",
       "      <th>27</th>\n",
       "      <td>20102</td>\n",
       "      <td>140069372</td>\n",
       "      <td>316504</td>\n",
       "      <td>Tópicos em Fundamentos e Métodos de Computação...</td>\n",
       "      <td>MS</td>\n",
       "      <td>-6</td>\n",
       "    </tr>\n",
       "    <tr>\n",
       "      <th>28</th>\n",
       "      <td>20102</td>\n",
       "      <td>140069381</td>\n",
       "      <td>316261</td>\n",
       "      <td>Tópicos em Engenharia de Software             ...</td>\n",
       "      <td>SS</td>\n",
       "      <td>-6</td>\n",
       "    </tr>\n",
       "    <tr>\n",
       "      <th>29</th>\n",
       "      <td>20102</td>\n",
       "      <td>140182713</td>\n",
       "      <td>316032</td>\n",
       "      <td>Inteligência Artificial 2                     ...</td>\n",
       "      <td>MM</td>\n",
       "      <td>-7</td>\n",
       "    </tr>\n",
       "    <tr>\n",
       "      <th>30</th>\n",
       "      <td>20102</td>\n",
       "      <td>140182713</td>\n",
       "      <td>316296</td>\n",
       "      <td>Teoria da Computação                          ...</td>\n",
       "      <td>MM</td>\n",
       "      <td>-7</td>\n",
       "    </tr>\n",
       "    <tr>\n",
       "      <th>31</th>\n",
       "      <td>20102</td>\n",
       "      <td>160063027</td>\n",
       "      <td>316440</td>\n",
       "      <td>Sistemas Distribuídos                         ...</td>\n",
       "      <td>MS</td>\n",
       "      <td>-10</td>\n",
       "    </tr>\n",
       "    <tr>\n",
       "      <th>33</th>\n",
       "      <td>20102</td>\n",
       "      <td>180061712</td>\n",
       "      <td>316504</td>\n",
       "      <td>Tópicos em Fundamentos e Métodos de Computação...</td>\n",
       "      <td>MS</td>\n",
       "      <td>-14</td>\n",
       "    </tr>\n",
       "    <tr>\n",
       "      <th>34</th>\n",
       "      <td>20102</td>\n",
       "      <td>190051582</td>\n",
       "      <td>316261</td>\n",
       "      <td>Tópicos em Engenharia de Software             ...</td>\n",
       "      <td>MS</td>\n",
       "      <td>-16</td>\n",
       "    </tr>\n",
       "    <tr>\n",
       "      <th>35</th>\n",
       "      <td>20102</td>\n",
       "      <td>190051582</td>\n",
       "      <td>316296</td>\n",
       "      <td>Teoria da Computação                          ...</td>\n",
       "      <td>MM</td>\n",
       "      <td>-16</td>\n",
       "    </tr>\n",
       "    <tr>\n",
       "      <th>62</th>\n",
       "      <td>20111</td>\n",
       "      <td>120149796</td>\n",
       "      <td>316393</td>\n",
       "      <td>Projeto e Complexidade de Algoritmos          ...</td>\n",
       "      <td>MM</td>\n",
       "      <td>-2</td>\n",
       "    </tr>\n",
       "    <tr>\n",
       "      <th>65</th>\n",
       "      <td>20111</td>\n",
       "      <td>130050652</td>\n",
       "      <td>316547</td>\n",
       "      <td>Proficiência em Inglês                        ...</td>\n",
       "      <td>AP</td>\n",
       "      <td>-3</td>\n",
       "    </tr>\n",
       "    <tr>\n",
       "      <th>66</th>\n",
       "      <td>20111</td>\n",
       "      <td>130050652</td>\n",
       "      <td>316563</td>\n",
       "      <td>Sistemas Multiagentes                         ...</td>\n",
       "      <td>MS</td>\n",
       "      <td>-3</td>\n",
       "    </tr>\n",
       "    <tr>\n",
       "      <th>67</th>\n",
       "      <td>20111</td>\n",
       "      <td>130051241</td>\n",
       "      <td>316415</td>\n",
       "      <td>Seminário                                     ...</td>\n",
       "      <td>MS</td>\n",
       "      <td>-3</td>\n",
       "    </tr>\n",
       "    <tr>\n",
       "      <th>68</th>\n",
       "      <td>20111</td>\n",
       "      <td>130051276</td>\n",
       "      <td>316563</td>\n",
       "      <td>Sistemas Multiagentes                         ...</td>\n",
       "      <td>SS</td>\n",
       "      <td>-3</td>\n",
       "    </tr>\n",
       "    <tr>\n",
       "      <th>69</th>\n",
       "      <td>20111</td>\n",
       "      <td>130063126</td>\n",
       "      <td>316377</td>\n",
       "      <td>Fundamentos de Sistemas Computacionais        ...</td>\n",
       "      <td>MM</td>\n",
       "      <td>-3</td>\n",
       "    </tr>\n",
       "    <tr>\n",
       "      <th>70</th>\n",
       "      <td>20111</td>\n",
       "      <td>130063126</td>\n",
       "      <td>316393</td>\n",
       "      <td>Projeto e Complexidade de Algoritmos          ...</td>\n",
       "      <td>MS</td>\n",
       "      <td>-3</td>\n",
       "    </tr>\n",
       "    <tr>\n",
       "      <th>71</th>\n",
       "      <td>20111</td>\n",
       "      <td>130072222</td>\n",
       "      <td>316377</td>\n",
       "      <td>Fundamentos de Sistemas Computacionais        ...</td>\n",
       "      <td>MM</td>\n",
       "      <td>-3</td>\n",
       "    </tr>\n",
       "    <tr>\n",
       "      <th>72</th>\n",
       "      <td>20111</td>\n",
       "      <td>130072222</td>\n",
       "      <td>316393</td>\n",
       "      <td>Projeto e Complexidade de Algoritmos          ...</td>\n",
       "      <td>MM</td>\n",
       "      <td>-3</td>\n",
       "    </tr>\n",
       "    <tr>\n",
       "      <th>73</th>\n",
       "      <td>20111</td>\n",
       "      <td>140069372</td>\n",
       "      <td>316393</td>\n",
       "      <td>Projeto e Complexidade de Algoritmos          ...</td>\n",
       "      <td>SS</td>\n",
       "      <td>-5</td>\n",
       "    </tr>\n",
       "    <tr>\n",
       "      <th>74</th>\n",
       "      <td>20111</td>\n",
       "      <td>140069372</td>\n",
       "      <td>316504</td>\n",
       "      <td>Tópicos em Fundamentos e Métodos de Computação...</td>\n",
       "      <td>SS</td>\n",
       "      <td>-5</td>\n",
       "    </tr>\n",
       "    <tr>\n",
       "      <th>75</th>\n",
       "      <td>20111</td>\n",
       "      <td>140069381</td>\n",
       "      <td>316415</td>\n",
       "      <td>Seminário                                     ...</td>\n",
       "      <td>SS</td>\n",
       "      <td>-5</td>\n",
       "    </tr>\n",
       "    <tr>\n",
       "      <th>76</th>\n",
       "      <td>20111</td>\n",
       "      <td>140069381</td>\n",
       "      <td>316547</td>\n",
       "      <td>Proficiência em Inglês                        ...</td>\n",
       "      <td>AP</td>\n",
       "      <td>-5</td>\n",
       "    </tr>\n",
       "    <tr>\n",
       "      <th>77</th>\n",
       "      <td>20111</td>\n",
       "      <td>140089471</td>\n",
       "      <td>316393</td>\n",
       "      <td>Projeto e Complexidade de Algoritmos          ...</td>\n",
       "      <td>MS</td>\n",
       "      <td>-5</td>\n",
       "    </tr>\n",
       "    <tr>\n",
       "      <th>78</th>\n",
       "      <td>20111</td>\n",
       "      <td>140182713</td>\n",
       "      <td>316377</td>\n",
       "      <td>Fundamentos de Sistemas Computacionais        ...</td>\n",
       "      <td>MM</td>\n",
       "      <td>-6</td>\n",
       "    </tr>\n",
       "    <tr>\n",
       "      <th>79</th>\n",
       "      <td>20111</td>\n",
       "      <td>140182713</td>\n",
       "      <td>316393</td>\n",
       "      <td>Projeto e Complexidade de Algoritmos          ...</td>\n",
       "      <td>MS</td>\n",
       "      <td>-6</td>\n",
       "    </tr>\n",
       "    <tr>\n",
       "      <th>80</th>\n",
       "      <td>20111</td>\n",
       "      <td>160062969</td>\n",
       "      <td>316393</td>\n",
       "      <td>Projeto e Complexidade de Algoritmos          ...</td>\n",
       "      <td>MS</td>\n",
       "      <td>-9</td>\n",
       "    </tr>\n",
       "    <tr>\n",
       "      <th>81</th>\n",
       "      <td>20111</td>\n",
       "      <td>180040634</td>\n",
       "      <td>316377</td>\n",
       "      <td>Fundamentos de Sistemas Computacionais        ...</td>\n",
       "      <td>MS</td>\n",
       "      <td>-13</td>\n",
       "    </tr>\n",
       "    <tr>\n",
       "      <th>82</th>\n",
       "      <td>20111</td>\n",
       "      <td>180061712</td>\n",
       "      <td>316547</td>\n",
       "      <td>Proficiência em Inglês                        ...</td>\n",
       "      <td>AP</td>\n",
       "      <td>-13</td>\n",
       "    </tr>\n",
       "    <tr>\n",
       "      <th>83</th>\n",
       "      <td>20111</td>\n",
       "      <td>180061712</td>\n",
       "      <td>316563</td>\n",
       "      <td>Sistemas Multiagentes                         ...</td>\n",
       "      <td>MS</td>\n",
       "      <td>-13</td>\n",
       "    </tr>\n",
       "    <tr>\n",
       "      <th>84</th>\n",
       "      <td>20111</td>\n",
       "      <td>190051582</td>\n",
       "      <td>316393</td>\n",
       "      <td>Projeto e Complexidade de Algoritmos          ...</td>\n",
       "      <td>MS</td>\n",
       "      <td>-15</td>\n",
       "    </tr>\n",
       "    <tr>\n",
       "      <th>85</th>\n",
       "      <td>20111</td>\n",
       "      <td>190071231</td>\n",
       "      <td>316393</td>\n",
       "      <td>Projeto e Complexidade de Algoritmos          ...</td>\n",
       "      <td>SS</td>\n",
       "      <td>-15</td>\n",
       "    </tr>\n",
       "    <tr>\n",
       "      <th>111</th>\n",
       "      <td>20112</td>\n",
       "      <td>120149796</td>\n",
       "      <td>316261</td>\n",
       "      <td>Tópicos em Engenharia de Software             ...</td>\n",
       "      <td>MS</td>\n",
       "      <td>-1</td>\n",
       "    </tr>\n",
       "    <tr>\n",
       "      <th>112</th>\n",
       "      <td>20112</td>\n",
       "      <td>120149796</td>\n",
       "      <td>316571</td>\n",
       "      <td>Tópicos de Pesquisa em Informática            ...</td>\n",
       "      <td>MS</td>\n",
       "      <td>-1</td>\n",
       "    </tr>\n",
       "    <tr>\n",
       "      <th>114</th>\n",
       "      <td>20112</td>\n",
       "      <td>130050652</td>\n",
       "      <td>316571</td>\n",
       "      <td>Tópicos de Pesquisa em Informática            ...</td>\n",
       "      <td>MS</td>\n",
       "      <td>-2</td>\n",
       "    </tr>\n",
       "    <tr>\n",
       "      <th>115</th>\n",
       "      <td>20112</td>\n",
       "      <td>130063126</td>\n",
       "      <td>316296</td>\n",
       "      <td>Teoria da Computação                          ...</td>\n",
       "      <td>MM</td>\n",
       "      <td>-2</td>\n",
       "    </tr>\n",
       "    <tr>\n",
       "      <th>116</th>\n",
       "      <td>20112</td>\n",
       "      <td>130063126</td>\n",
       "      <td>316598</td>\n",
       "      <td>Projeto e Complexidade de Algorítmos 2        ...</td>\n",
       "      <td>MS</td>\n",
       "      <td>-2</td>\n",
       "    </tr>\n",
       "    <tr>\n",
       "      <th>117</th>\n",
       "      <td>20112</td>\n",
       "      <td>130072222</td>\n",
       "      <td>316296</td>\n",
       "      <td>Teoria da Computação                          ...</td>\n",
       "      <td>MM</td>\n",
       "      <td>-2</td>\n",
       "    </tr>\n",
       "    <tr>\n",
       "      <th>118</th>\n",
       "      <td>20112</td>\n",
       "      <td>140069372</td>\n",
       "      <td>316296</td>\n",
       "      <td>Teoria da Computação                          ...</td>\n",
       "      <td>MS</td>\n",
       "      <td>-4</td>\n",
       "    </tr>\n",
       "    <tr>\n",
       "      <th>119</th>\n",
       "      <td>20112</td>\n",
       "      <td>140069372</td>\n",
       "      <td>316547</td>\n",
       "      <td>Proficiência em Inglês                        ...</td>\n",
       "      <td>AP</td>\n",
       "      <td>-4</td>\n",
       "    </tr>\n",
       "    <tr>\n",
       "      <th>120</th>\n",
       "      <td>20112</td>\n",
       "      <td>140069372</td>\n",
       "      <td>316598</td>\n",
       "      <td>Projeto e Complexidade de Algorítmos 2        ...</td>\n",
       "      <td>SS</td>\n",
       "      <td>-4</td>\n",
       "    </tr>\n",
       "    <tr>\n",
       "      <th>121</th>\n",
       "      <td>20112</td>\n",
       "      <td>140069381</td>\n",
       "      <td>316521</td>\n",
       "      <td>Trabalho Individual em Fundamentos e Métodos d...</td>\n",
       "      <td>SS</td>\n",
       "      <td>-4</td>\n",
       "    </tr>\n",
       "    <tr>\n",
       "      <th>122</th>\n",
       "      <td>20112</td>\n",
       "      <td>140089471</td>\n",
       "      <td>316296</td>\n",
       "      <td>Teoria da Computação                          ...</td>\n",
       "      <td>MM</td>\n",
       "      <td>-4</td>\n",
       "    </tr>\n",
       "    <tr>\n",
       "      <th>123</th>\n",
       "      <td>20112</td>\n",
       "      <td>140089489</td>\n",
       "      <td>316296</td>\n",
       "      <td>Teoria da Computação                          ...</td>\n",
       "      <td>MM</td>\n",
       "      <td>-4</td>\n",
       "    </tr>\n",
       "    <tr>\n",
       "      <th>124</th>\n",
       "      <td>20112</td>\n",
       "      <td>140089489</td>\n",
       "      <td>316385</td>\n",
       "      <td>Processamento de Imagens Digitais             ...</td>\n",
       "      <td>MM</td>\n",
       "      <td>-4</td>\n",
       "    </tr>\n",
       "    <tr>\n",
       "      <th>125</th>\n",
       "      <td>20112</td>\n",
       "      <td>140182713</td>\n",
       "      <td>316385</td>\n",
       "      <td>Processamento de Imagens Digitais             ...</td>\n",
       "      <td>MS</td>\n",
       "      <td>-5</td>\n",
       "    </tr>\n",
       "    <tr>\n",
       "      <th>126</th>\n",
       "      <td>20112</td>\n",
       "      <td>150055307</td>\n",
       "      <td>316261</td>\n",
       "      <td>Tópicos em Engenharia de Software             ...</td>\n",
       "      <td>MS</td>\n",
       "      <td>-6</td>\n",
       "    </tr>\n",
       "    <tr>\n",
       "      <th>127</th>\n",
       "      <td>20112</td>\n",
       "      <td>160062969</td>\n",
       "      <td>316296</td>\n",
       "      <td>Teoria da Computação                          ...</td>\n",
       "      <td>MS</td>\n",
       "      <td>-8</td>\n",
       "    </tr>\n",
       "    <tr>\n",
       "      <th>129</th>\n",
       "      <td>20112</td>\n",
       "      <td>180061712</td>\n",
       "      <td>316571</td>\n",
       "      <td>Tópicos de Pesquisa em Informática            ...</td>\n",
       "      <td>MS</td>\n",
       "      <td>-12</td>\n",
       "    </tr>\n",
       "    <tr>\n",
       "      <th>130</th>\n",
       "      <td>20112</td>\n",
       "      <td>190071231</td>\n",
       "      <td>316296</td>\n",
       "      <td>Teoria da Computação                          ...</td>\n",
       "      <td>MS</td>\n",
       "      <td>-14</td>\n",
       "    </tr>\n",
       "    <tr>\n",
       "      <th>131</th>\n",
       "      <td>20112</td>\n",
       "      <td>190071231</td>\n",
       "      <td>316598</td>\n",
       "      <td>Projeto e Complexidade de Algorítmos 2        ...</td>\n",
       "      <td>SS</td>\n",
       "      <td>-14</td>\n",
       "    </tr>\n",
       "    <tr>\n",
       "      <th>163</th>\n",
       "      <td>20121</td>\n",
       "      <td>130063126</td>\n",
       "      <td>316504</td>\n",
       "      <td>Tópicos em Fundamentos e Métodos de Computação...</td>\n",
       "      <td>SS</td>\n",
       "      <td>-1</td>\n",
       "    </tr>\n",
       "    <tr>\n",
       "      <th>164</th>\n",
       "      <td>20121</td>\n",
       "      <td>140069372</td>\n",
       "      <td>316377</td>\n",
       "      <td>Fundamentos de Sistemas Computacionais        ...</td>\n",
       "      <td>MS</td>\n",
       "      <td>-3</td>\n",
       "    </tr>\n",
       "    <tr>\n",
       "      <th>165</th>\n",
       "      <td>20121</td>\n",
       "      <td>140089471</td>\n",
       "      <td>316377</td>\n",
       "      <td>Fundamentos de Sistemas Computacionais        ...</td>\n",
       "      <td>MS</td>\n",
       "      <td>-3</td>\n",
       "    </tr>\n",
       "    <tr>\n",
       "      <th>166</th>\n",
       "      <td>20121</td>\n",
       "      <td>140089489</td>\n",
       "      <td>316377</td>\n",
       "      <td>Fundamentos de Sistemas Computacionais        ...</td>\n",
       "      <td>MS</td>\n",
       "      <td>-3</td>\n",
       "    </tr>\n",
       "    <tr>\n",
       "      <th>167</th>\n",
       "      <td>20121</td>\n",
       "      <td>140089489</td>\n",
       "      <td>316393</td>\n",
       "      <td>Projeto e Complexidade de Algoritmos          ...</td>\n",
       "      <td>MS</td>\n",
       "      <td>-3</td>\n",
       "    </tr>\n",
       "    <tr>\n",
       "      <th>169</th>\n",
       "      <td>20121</td>\n",
       "      <td>140182721</td>\n",
       "      <td>316024</td>\n",
       "      <td>Inteligência Artificial 1                     ...</td>\n",
       "      <td>SS</td>\n",
       "      <td>-4</td>\n",
       "    </tr>\n",
       "    <tr>\n",
       "      <th>170</th>\n",
       "      <td>20121</td>\n",
       "      <td>140187171</td>\n",
       "      <td>316377</td>\n",
       "      <td>Fundamentos de Sistemas Computacionais        ...</td>\n",
       "      <td>MS</td>\n",
       "      <td>-4</td>\n",
       "    </tr>\n",
       "    <tr>\n",
       "      <th>171</th>\n",
       "      <td>20121</td>\n",
       "      <td>140187171</td>\n",
       "      <td>316393</td>\n",
       "      <td>Projeto e Complexidade de Algoritmos          ...</td>\n",
       "      <td>MS</td>\n",
       "      <td>-4</td>\n",
       "    </tr>\n",
       "    <tr>\n",
       "      <th>172</th>\n",
       "      <td>20121</td>\n",
       "      <td>140195106</td>\n",
       "      <td>316377</td>\n",
       "      <td>Fundamentos de Sistemas Computacionais        ...</td>\n",
       "      <td>MS</td>\n",
       "      <td>-4</td>\n",
       "    </tr>\n",
       "    <tr>\n",
       "      <th>173</th>\n",
       "      <td>20121</td>\n",
       "      <td>140195106</td>\n",
       "      <td>316393</td>\n",
       "      <td>Projeto e Complexidade de Algoritmos          ...</td>\n",
       "      <td>MS</td>\n",
       "      <td>-4</td>\n",
       "    </tr>\n",
       "    <tr>\n",
       "      <th>175</th>\n",
       "      <td>20121</td>\n",
       "      <td>150055307</td>\n",
       "      <td>316377</td>\n",
       "      <td>Fundamentos de Sistemas Computacionais        ...</td>\n",
       "      <td>MS</td>\n",
       "      <td>-5</td>\n",
       "    </tr>\n",
       "    <tr>\n",
       "      <th>176</th>\n",
       "      <td>20121</td>\n",
       "      <td>150055307</td>\n",
       "      <td>316393</td>\n",
       "      <td>Projeto e Complexidade de Algoritmos          ...</td>\n",
       "      <td>MS</td>\n",
       "      <td>-5</td>\n",
       "    </tr>\n",
       "    <tr>\n",
       "      <th>177</th>\n",
       "      <td>20121</td>\n",
       "      <td>150055331</td>\n",
       "      <td>316491</td>\n",
       "      <td>Tópicos em Sistemas de Computação             ...</td>\n",
       "      <td>SS</td>\n",
       "      <td>-5</td>\n",
       "    </tr>\n",
       "    <tr>\n",
       "      <th>178</th>\n",
       "      <td>20121</td>\n",
       "      <td>160062969</td>\n",
       "      <td>316377</td>\n",
       "      <td>Fundamentos de Sistemas Computacionais        ...</td>\n",
       "      <td>MS</td>\n",
       "      <td>-7</td>\n",
       "    </tr>\n",
       "    <tr>\n",
       "      <th>179</th>\n",
       "      <td>20121</td>\n",
       "      <td>160062969</td>\n",
       "      <td>316415</td>\n",
       "      <td>Seminário                                     ...</td>\n",
       "      <td>SS</td>\n",
       "      <td>-7</td>\n",
       "    </tr>\n",
       "    <tr>\n",
       "      <th>180</th>\n",
       "      <td>20121</td>\n",
       "      <td>160062969</td>\n",
       "      <td>316491</td>\n",
       "      <td>Tópicos em Sistemas de Computação             ...</td>\n",
       "      <td>SS</td>\n",
       "      <td>-7</td>\n",
       "    </tr>\n",
       "    <tr>\n",
       "      <th>181</th>\n",
       "      <td>20121</td>\n",
       "      <td>160063027</td>\n",
       "      <td>316393</td>\n",
       "      <td>Projeto e Complexidade de Algoritmos          ...</td>\n",
       "      <td>MS</td>\n",
       "      <td>-7</td>\n",
       "    </tr>\n",
       "    <tr>\n",
       "      <th>182</th>\n",
       "      <td>20121</td>\n",
       "      <td>160063035</td>\n",
       "      <td>316563</td>\n",
       "      <td>Sistemas Multiagentes                         ...</td>\n",
       "      <td>SS</td>\n",
       "      <td>-7</td>\n",
       "    </tr>\n",
       "    <tr>\n",
       "      <th>183</th>\n",
       "      <td>20121</td>\n",
       "      <td>170178854</td>\n",
       "      <td>316296</td>\n",
       "      <td>Teoria da Computação                          ...</td>\n",
       "      <td>CC</td>\n",
       "      <td>-10</td>\n",
       "    </tr>\n",
       "    <tr>\n",
       "      <th>184</th>\n",
       "      <td>20121</td>\n",
       "      <td>170178854</td>\n",
       "      <td>316377</td>\n",
       "      <td>Fundamentos de Sistemas Computacionais        ...</td>\n",
       "      <td>CC</td>\n",
       "      <td>-10</td>\n",
       "    </tr>\n",
       "    <tr>\n",
       "      <th>185</th>\n",
       "      <td>20121</td>\n",
       "      <td>170178854</td>\n",
       "      <td>316385</td>\n",
       "      <td>Processamento de Imagens Digitais             ...</td>\n",
       "      <td>CC</td>\n",
       "      <td>-10</td>\n",
       "    </tr>\n",
       "    <tr>\n",
       "      <th>186</th>\n",
       "      <td>20121</td>\n",
       "      <td>170178854</td>\n",
       "      <td>316393</td>\n",
       "      <td>Projeto e Complexidade de Algoritmos          ...</td>\n",
       "      <td>MS</td>\n",
       "      <td>-10</td>\n",
       "    </tr>\n",
       "    <tr>\n",
       "      <th>187</th>\n",
       "      <td>20121</td>\n",
       "      <td>170178854</td>\n",
       "      <td>316474</td>\n",
       "      <td>Reconhecimento de Padrões                     ...</td>\n",
       "      <td>CC</td>\n",
       "      <td>-10</td>\n",
       "    </tr>\n",
       "    <tr>\n",
       "      <th>188</th>\n",
       "      <td>20121</td>\n",
       "      <td>170178854</td>\n",
       "      <td>316491</td>\n",
       "      <td>Tópicos em Sistemas de Computação             ...</td>\n",
       "      <td>MS</td>\n",
       "      <td>-10</td>\n",
       "    </tr>\n",
       "    <tr>\n",
       "      <th>189</th>\n",
       "      <td>20121</td>\n",
       "      <td>190051582</td>\n",
       "      <td>316377</td>\n",
       "      <td>Fundamentos de Sistemas Computacionais        ...</td>\n",
       "      <td>MM</td>\n",
       "      <td>-13</td>\n",
       "    </tr>\n",
       "    <tr>\n",
       "      <th>190</th>\n",
       "      <td>20121</td>\n",
       "      <td>190071231</td>\n",
       "      <td>316377</td>\n",
       "      <td>Fundamentos de Sistemas Computacionais        ...</td>\n",
       "      <td>MS</td>\n",
       "      <td>-13</td>\n",
       "    </tr>\n",
       "    <tr>\n",
       "      <th>191</th>\n",
       "      <td>20121</td>\n",
       "      <td>190150611</td>\n",
       "      <td>316377</td>\n",
       "      <td>Fundamentos de Sistemas Computacionais        ...</td>\n",
       "      <td>MS</td>\n",
       "      <td>-14</td>\n",
       "    </tr>\n",
       "    <tr>\n",
       "      <th>192</th>\n",
       "      <td>20121</td>\n",
       "      <td>190150611</td>\n",
       "      <td>316393</td>\n",
       "      <td>Projeto e Complexidade de Algoritmos          ...</td>\n",
       "      <td>MS</td>\n",
       "      <td>-14</td>\n",
       "    </tr>\n",
       "    <tr>\n",
       "      <th>220</th>\n",
       "      <td>20122</td>\n",
       "      <td>140069429</td>\n",
       "      <td>316296</td>\n",
       "      <td>Teoria da Computação                          ...</td>\n",
       "      <td>MS</td>\n",
       "      <td>-2</td>\n",
       "    </tr>\n",
       "    <tr>\n",
       "      <th>221</th>\n",
       "      <td>20122</td>\n",
       "      <td>140069429</td>\n",
       "      <td>316440</td>\n",
       "      <td>Sistemas Distribuídos                         ...</td>\n",
       "      <td>SS</td>\n",
       "      <td>-2</td>\n",
       "    </tr>\n",
       "    <tr>\n",
       "      <th>222</th>\n",
       "      <td>20122</td>\n",
       "      <td>140089471</td>\n",
       "      <td>316504</td>\n",
       "      <td>Tópicos em Fundamentos e Métodos de Computação...</td>\n",
       "      <td>MS</td>\n",
       "      <td>-2</td>\n",
       "    </tr>\n",
       "    <tr>\n",
       "      <th>223</th>\n",
       "      <td>20122</td>\n",
       "      <td>140089489</td>\n",
       "      <td>316032</td>\n",
       "      <td>Inteligência Artificial 2                     ...</td>\n",
       "      <td>MS</td>\n",
       "      <td>-2</td>\n",
       "    </tr>\n",
       "    <tr>\n",
       "      <th>224</th>\n",
       "      <td>20122</td>\n",
       "      <td>140187171</td>\n",
       "      <td>316296</td>\n",
       "      <td>Teoria da Computação                          ...</td>\n",
       "      <td>MS</td>\n",
       "      <td>-3</td>\n",
       "    </tr>\n",
       "    <tr>\n",
       "      <th>226</th>\n",
       "      <td>20122</td>\n",
       "      <td>140195106</td>\n",
       "      <td>316296</td>\n",
       "      <td>Teoria da Computação                          ...</td>\n",
       "      <td>MS</td>\n",
       "      <td>-3</td>\n",
       "    </tr>\n",
       "    <tr>\n",
       "      <th>227</th>\n",
       "      <td>20122</td>\n",
       "      <td>140195106</td>\n",
       "      <td>316385</td>\n",
       "      <td>Processamento de Imagens Digitais             ...</td>\n",
       "      <td>SS</td>\n",
       "      <td>-3</td>\n",
       "    </tr>\n",
       "    <tr>\n",
       "      <th>228</th>\n",
       "      <td>20122</td>\n",
       "      <td>150055307</td>\n",
       "      <td>316296</td>\n",
       "      <td>Teoria da Computação                          ...</td>\n",
       "      <td>MS</td>\n",
       "      <td>-4</td>\n",
       "    </tr>\n",
       "    <tr>\n",
       "      <th>229</th>\n",
       "      <td>20122</td>\n",
       "      <td>150055307</td>\n",
       "      <td>316504</td>\n",
       "      <td>Tópicos em Fundamentos e Métodos de Computação...</td>\n",
       "      <td>SS</td>\n",
       "      <td>-4</td>\n",
       "    </tr>\n",
       "    <tr>\n",
       "      <th>230</th>\n",
       "      <td>20122</td>\n",
       "      <td>160063035</td>\n",
       "      <td>316415</td>\n",
       "      <td>Seminário                                     ...</td>\n",
       "      <td>SS</td>\n",
       "      <td>-6</td>\n",
       "    </tr>\n",
       "    <tr>\n",
       "      <th>232</th>\n",
       "      <td>20122</td>\n",
       "      <td>170065961</td>\n",
       "      <td>316491</td>\n",
       "      <td>Tópicos em Sistemas de Computação             ...</td>\n",
       "      <td>SS</td>\n",
       "      <td>-8</td>\n",
       "    </tr>\n",
       "    <tr>\n",
       "      <th>234</th>\n",
       "      <td>20122</td>\n",
       "      <td>180040839</td>\n",
       "      <td>316504</td>\n",
       "      <td>Tópicos em Fundamentos e Métodos de Computação...</td>\n",
       "      <td>MS</td>\n",
       "      <td>-10</td>\n",
       "    </tr>\n",
       "    <tr>\n",
       "      <th>235</th>\n",
       "      <td>20122</td>\n",
       "      <td>180061712</td>\n",
       "      <td>316491</td>\n",
       "      <td>Tópicos em Sistemas de Computação             ...</td>\n",
       "      <td>MS</td>\n",
       "      <td>-10</td>\n",
       "    </tr>\n",
       "    <tr>\n",
       "      <th>236</th>\n",
       "      <td>20122</td>\n",
       "      <td>190150611</td>\n",
       "      <td>316296</td>\n",
       "      <td>Teoria da Computação                          ...</td>\n",
       "      <td>MS</td>\n",
       "      <td>-13</td>\n",
       "    </tr>\n",
       "    <tr>\n",
       "      <th>262</th>\n",
       "      <td>20131</td>\n",
       "      <td>140069381</td>\n",
       "      <td>316504</td>\n",
       "      <td>Tópicos em Fundamentos e Métodos de Computação...</td>\n",
       "      <td>MS</td>\n",
       "      <td>-1</td>\n",
       "    </tr>\n",
       "    <tr>\n",
       "      <th>263</th>\n",
       "      <td>20131</td>\n",
       "      <td>140069429</td>\n",
       "      <td>316377</td>\n",
       "      <td>Fundamentos de Sistemas Computacionais        ...</td>\n",
       "      <td>MS</td>\n",
       "      <td>-1</td>\n",
       "    </tr>\n",
       "    <tr>\n",
       "      <th>264</th>\n",
       "      <td>20131</td>\n",
       "      <td>140187171</td>\n",
       "      <td>316504</td>\n",
       "      <td>Tópicos em Fundamentos e Métodos de Computação...</td>\n",
       "      <td>SS</td>\n",
       "      <td>-2</td>\n",
       "    </tr>\n",
       "    <tr>\n",
       "      <th>265</th>\n",
       "      <td>20131</td>\n",
       "      <td>140195106</td>\n",
       "      <td>316415</td>\n",
       "      <td>Seminário                                     ...</td>\n",
       "      <td>SS</td>\n",
       "      <td>-2</td>\n",
       "    </tr>\n",
       "    <tr>\n",
       "      <th>266</th>\n",
       "      <td>20131</td>\n",
       "      <td>140195106</td>\n",
       "      <td>316491</td>\n",
       "      <td>Tópicos em Sistemas de Computação             ...</td>\n",
       "      <td>MS</td>\n",
       "      <td>-2</td>\n",
       "    </tr>\n",
       "    <tr>\n",
       "      <th>267</th>\n",
       "      <td>20131</td>\n",
       "      <td>150074603</td>\n",
       "      <td>316377</td>\n",
       "      <td>Fundamentos de Sistemas Computacionais        ...</td>\n",
       "      <td>MS</td>\n",
       "      <td>-3</td>\n",
       "    </tr>\n",
       "    <tr>\n",
       "      <th>268</th>\n",
       "      <td>20131</td>\n",
       "      <td>150074603</td>\n",
       "      <td>316393</td>\n",
       "      <td>Projeto e Complexidade de Algoritmos          ...</td>\n",
       "      <td>MS</td>\n",
       "      <td>-3</td>\n",
       "    </tr>\n",
       "    <tr>\n",
       "      <th>269</th>\n",
       "      <td>20131</td>\n",
       "      <td>160062993</td>\n",
       "      <td>316245</td>\n",
       "      <td>Engenharia de Software 2                      ...</td>\n",
       "      <td>SS</td>\n",
       "      <td>-5</td>\n",
       "    </tr>\n",
       "    <tr>\n",
       "      <th>270</th>\n",
       "      <td>20131</td>\n",
       "      <td>160062993</td>\n",
       "      <td>316504</td>\n",
       "      <td>Tópicos em Fundamentos e Métodos de Computação...</td>\n",
       "      <td>SS</td>\n",
       "      <td>-5</td>\n",
       "    </tr>\n",
       "    <tr>\n",
       "      <th>271</th>\n",
       "      <td>20131</td>\n",
       "      <td>160063027</td>\n",
       "      <td>316504</td>\n",
       "      <td>Tópicos em Fundamentos e Métodos de Computação...</td>\n",
       "      <td>SS</td>\n",
       "      <td>-5</td>\n",
       "    </tr>\n",
       "    <tr>\n",
       "      <th>272</th>\n",
       "      <td>20131</td>\n",
       "      <td>160063035</td>\n",
       "      <td>316377</td>\n",
       "      <td>Fundamentos de Sistemas Computacionais        ...</td>\n",
       "      <td>MS</td>\n",
       "      <td>-5</td>\n",
       "    </tr>\n",
       "    <tr>\n",
       "      <th>273</th>\n",
       "      <td>20131</td>\n",
       "      <td>160063035</td>\n",
       "      <td>316393</td>\n",
       "      <td>Projeto e Complexidade de Algoritmos          ...</td>\n",
       "      <td>MM</td>\n",
       "      <td>-5</td>\n",
       "    </tr>\n",
       "    <tr>\n",
       "      <th>274</th>\n",
       "      <td>20131</td>\n",
       "      <td>160068444</td>\n",
       "      <td>316377</td>\n",
       "      <td>Fundamentos de Sistemas Computacionais        ...</td>\n",
       "      <td>MM</td>\n",
       "      <td>-5</td>\n",
       "    </tr>\n",
       "    <tr>\n",
       "      <th>275</th>\n",
       "      <td>20131</td>\n",
       "      <td>160068444</td>\n",
       "      <td>316393</td>\n",
       "      <td>Projeto e Complexidade de Algoritmos          ...</td>\n",
       "      <td>MS</td>\n",
       "      <td>-5</td>\n",
       "    </tr>\n",
       "    <tr>\n",
       "      <th>276</th>\n",
       "      <td>20131</td>\n",
       "      <td>170065961</td>\n",
       "      <td>316377</td>\n",
       "      <td>Fundamentos de Sistemas Computacionais        ...</td>\n",
       "      <td>MS</td>\n",
       "      <td>-7</td>\n",
       "    </tr>\n",
       "    <tr>\n",
       "      <th>277</th>\n",
       "      <td>20131</td>\n",
       "      <td>170066002</td>\n",
       "      <td>316024</td>\n",
       "      <td>Inteligência Artificial 1                     ...</td>\n",
       "      <td>SS</td>\n",
       "      <td>-7</td>\n",
       "    </tr>\n",
       "    <tr>\n",
       "      <th>278</th>\n",
       "      <td>20131</td>\n",
       "      <td>170066002</td>\n",
       "      <td>316377</td>\n",
       "      <td>Fundamentos de Sistemas Computacionais        ...</td>\n",
       "      <td>SS</td>\n",
       "      <td>-7</td>\n",
       "    </tr>\n",
       "    <tr>\n",
       "      <th>279</th>\n",
       "      <td>20131</td>\n",
       "      <td>170066002</td>\n",
       "      <td>316393</td>\n",
       "      <td>Projeto e Complexidade de Algoritmos          ...</td>\n",
       "      <td>MM</td>\n",
       "      <td>-7</td>\n",
       "    </tr>\n",
       "    <tr>\n",
       "      <th>283</th>\n",
       "      <td>20131</td>\n",
       "      <td>170179869</td>\n",
       "      <td>316393</td>\n",
       "      <td>Projeto e Complexidade de Algoritmos          ...</td>\n",
       "      <td>MS</td>\n",
       "      <td>-8</td>\n",
       "    </tr>\n",
       "    <tr>\n",
       "      <th>284</th>\n",
       "      <td>20131</td>\n",
       "      <td>170179869</td>\n",
       "      <td>316491</td>\n",
       "      <td>Tópicos em Sistemas de Computação             ...</td>\n",
       "      <td>SS</td>\n",
       "      <td>-8</td>\n",
       "    </tr>\n",
       "    <tr>\n",
       "      <th>285</th>\n",
       "      <td>20131</td>\n",
       "      <td>190051582</td>\n",
       "      <td>316504</td>\n",
       "      <td>Tópicos em Fundamentos e Métodos de Computação...</td>\n",
       "      <td>SS</td>\n",
       "      <td>-11</td>\n",
       "    </tr>\n",
       "    <tr>\n",
       "      <th>286</th>\n",
       "      <td>20131</td>\n",
       "      <td>190150611</td>\n",
       "      <td>316504</td>\n",
       "      <td>Tópicos em Fundamentos e Métodos de Computação...</td>\n",
       "      <td>SS</td>\n",
       "      <td>-12</td>\n",
       "    </tr>\n",
       "    <tr>\n",
       "      <th>311</th>\n",
       "      <td>20132</td>\n",
       "      <td>150074603</td>\n",
       "      <td>316296</td>\n",
       "      <td>Teoria da Computação                          ...</td>\n",
       "      <td>MS</td>\n",
       "      <td>-2</td>\n",
       "    </tr>\n",
       "    <tr>\n",
       "      <th>312</th>\n",
       "      <td>20132</td>\n",
       "      <td>150074603</td>\n",
       "      <td>316504</td>\n",
       "      <td>Tópicos em Fundamentos e Métodos de Computação...</td>\n",
       "      <td>MS</td>\n",
       "      <td>-2</td>\n",
       "    </tr>\n",
       "    <tr>\n",
       "      <th>313</th>\n",
       "      <td>20132</td>\n",
       "      <td>150074603</td>\n",
       "      <td>316563</td>\n",
       "      <td>Sistemas Multiagentes                         ...</td>\n",
       "      <td>MS</td>\n",
       "      <td>-2</td>\n",
       "    </tr>\n",
       "    <tr>\n",
       "      <th>318</th>\n",
       "      <td>20132</td>\n",
       "      <td>160063027</td>\n",
       "      <td>316296</td>\n",
       "      <td>Teoria da Computação                          ...</td>\n",
       "      <td>MM</td>\n",
       "      <td>-4</td>\n",
       "    </tr>\n",
       "    <tr>\n",
       "      <th>319</th>\n",
       "      <td>20132</td>\n",
       "      <td>160063035</td>\n",
       "      <td>316296</td>\n",
       "      <td>Teoria da Computação                          ...</td>\n",
       "      <td>MM</td>\n",
       "      <td>-4</td>\n",
       "    </tr>\n",
       "    <tr>\n",
       "      <th>320</th>\n",
       "      <td>20132</td>\n",
       "      <td>160063035</td>\n",
       "      <td>316334</td>\n",
       "      <td>Estágio de Docência no Ensino de Graduação em ...</td>\n",
       "      <td>SS</td>\n",
       "      <td>-4</td>\n",
       "    </tr>\n",
       "    <tr>\n",
       "      <th>321</th>\n",
       "      <td>20132</td>\n",
       "      <td>160068444</td>\n",
       "      <td>316296</td>\n",
       "      <td>Teoria da Computação                          ...</td>\n",
       "      <td>SS</td>\n",
       "      <td>-4</td>\n",
       "    </tr>\n",
       "    <tr>\n",
       "      <th>322</th>\n",
       "      <td>20132</td>\n",
       "      <td>160074509</td>\n",
       "      <td>316296</td>\n",
       "      <td>Teoria da Computação                          ...</td>\n",
       "      <td>MM</td>\n",
       "      <td>-4</td>\n",
       "    </tr>\n",
       "    <tr>\n",
       "      <th>323</th>\n",
       "      <td>20132</td>\n",
       "      <td>170065961</td>\n",
       "      <td>316296</td>\n",
       "      <td>Teoria da Computação                          ...</td>\n",
       "      <td>MM</td>\n",
       "      <td>-6</td>\n",
       "    </tr>\n",
       "    <tr>\n",
       "      <th>324</th>\n",
       "      <td>20132</td>\n",
       "      <td>170066002</td>\n",
       "      <td>316032</td>\n",
       "      <td>Inteligência Artificial 2                     ...</td>\n",
       "      <td>SS</td>\n",
       "      <td>-6</td>\n",
       "    </tr>\n",
       "    <tr>\n",
       "      <th>325</th>\n",
       "      <td>20132</td>\n",
       "      <td>170066002</td>\n",
       "      <td>316296</td>\n",
       "      <td>Teoria da Computação                          ...</td>\n",
       "      <td>MM</td>\n",
       "      <td>-6</td>\n",
       "    </tr>\n",
       "    <tr>\n",
       "      <th>326</th>\n",
       "      <td>20132</td>\n",
       "      <td>170092275</td>\n",
       "      <td>316296</td>\n",
       "      <td>Teoria da Computação                          ...</td>\n",
       "      <td>SS</td>\n",
       "      <td>-6</td>\n",
       "    </tr>\n",
       "    <tr>\n",
       "      <th>327</th>\n",
       "      <td>20132</td>\n",
       "      <td>170092275</td>\n",
       "      <td>316601</td>\n",
       "      <td>Lógica Formal e Computacional                 ...</td>\n",
       "      <td>SS</td>\n",
       "      <td>-6</td>\n",
       "    </tr>\n",
       "    <tr>\n",
       "      <th>329</th>\n",
       "      <td>20132</td>\n",
       "      <td>170179869</td>\n",
       "      <td>316296</td>\n",
       "      <td>Teoria da Computação                          ...</td>\n",
       "      <td>MS</td>\n",
       "      <td>-7</td>\n",
       "    </tr>\n",
       "    <tr>\n",
       "      <th>330</th>\n",
       "      <td>20132</td>\n",
       "      <td>170179869</td>\n",
       "      <td>316385</td>\n",
       "      <td>Processamento de Imagens Digitais             ...</td>\n",
       "      <td>SS</td>\n",
       "      <td>-7</td>\n",
       "    </tr>\n",
       "    <tr>\n",
       "      <th>332</th>\n",
       "      <td>20132</td>\n",
       "      <td>180040839</td>\n",
       "      <td>316261</td>\n",
       "      <td>Tópicos em Engenharia de Software             ...</td>\n",
       "      <td>SS</td>\n",
       "      <td>-8</td>\n",
       "    </tr>\n",
       "    <tr>\n",
       "      <th>333</th>\n",
       "      <td>20132</td>\n",
       "      <td>180040961</td>\n",
       "      <td>316024</td>\n",
       "      <td>Inteligência Artificial 1                     ...</td>\n",
       "      <td>SS</td>\n",
       "      <td>-8</td>\n",
       "    </tr>\n",
       "    <tr>\n",
       "      <th>334</th>\n",
       "      <td>20132</td>\n",
       "      <td>180040961</td>\n",
       "      <td>316032</td>\n",
       "      <td>Inteligência Artificial 2                     ...</td>\n",
       "      <td>MS</td>\n",
       "      <td>-8</td>\n",
       "    </tr>\n",
       "    <tr>\n",
       "      <th>335</th>\n",
       "      <td>20132</td>\n",
       "      <td>190051582</td>\n",
       "      <td>316032</td>\n",
       "      <td>Inteligência Artificial 2                     ...</td>\n",
       "      <td>MS</td>\n",
       "      <td>-10</td>\n",
       "    </tr>\n",
       "    <tr>\n",
       "      <th>387</th>\n",
       "      <td>20141</td>\n",
       "      <td>150055307</td>\n",
       "      <td>316024</td>\n",
       "      <td>Inteligência Artificial 1                     ...</td>\n",
       "      <td>SS</td>\n",
       "      <td>-1</td>\n",
       "    </tr>\n",
       "    <tr>\n",
       "      <th>393</th>\n",
       "      <td>20141</td>\n",
       "      <td>160063027</td>\n",
       "      <td>316415</td>\n",
       "      <td>Seminário                                     ...</td>\n",
       "      <td>MS</td>\n",
       "      <td>-3</td>\n",
       "    </tr>\n",
       "    <tr>\n",
       "      <th>394</th>\n",
       "      <td>20141</td>\n",
       "      <td>160063086</td>\n",
       "      <td>316377</td>\n",
       "      <td>Fundamentos de Sistemas Computacionais        ...</td>\n",
       "      <td>MS</td>\n",
       "      <td>-3</td>\n",
       "    </tr>\n",
       "    <tr>\n",
       "      <th>395</th>\n",
       "      <td>20141</td>\n",
       "      <td>160068444</td>\n",
       "      <td>316415</td>\n",
       "      <td>Seminário                                     ...</td>\n",
       "      <td>SS</td>\n",
       "      <td>-3</td>\n",
       "    </tr>\n",
       "    <tr>\n",
       "      <th>396</th>\n",
       "      <td>20141</td>\n",
       "      <td>160068444</td>\n",
       "      <td>316563</td>\n",
       "      <td>Sistemas Multiagentes                         ...</td>\n",
       "      <td>SS</td>\n",
       "      <td>-3</td>\n",
       "    </tr>\n",
       "    <tr>\n",
       "      <th>397</th>\n",
       "      <td>20141</td>\n",
       "      <td>160074509</td>\n",
       "      <td>316377</td>\n",
       "      <td>Fundamentos de Sistemas Computacionais        ...</td>\n",
       "      <td>MS</td>\n",
       "      <td>-3</td>\n",
       "    </tr>\n",
       "    <tr>\n",
       "      <th>398</th>\n",
       "      <td>20141</td>\n",
       "      <td>160074509</td>\n",
       "      <td>316393</td>\n",
       "      <td>Projeto e Complexidade de Algoritmos          ...</td>\n",
       "      <td>MS</td>\n",
       "      <td>-3</td>\n",
       "    </tr>\n",
       "    <tr>\n",
       "      <th>399</th>\n",
       "      <td>20141</td>\n",
       "      <td>160074509</td>\n",
       "      <td>316491</td>\n",
       "      <td>Tópicos em Sistemas de Computação             ...</td>\n",
       "      <td>SS</td>\n",
       "      <td>-3</td>\n",
       "    </tr>\n",
       "    <tr>\n",
       "      <th>400</th>\n",
       "      <td>20141</td>\n",
       "      <td>160094518</td>\n",
       "      <td>316377</td>\n",
       "      <td>Fundamentos de Sistemas Computacionais        ...</td>\n",
       "      <td>MM</td>\n",
       "      <td>-3</td>\n",
       "    </tr>\n",
       "    <tr>\n",
       "      <th>401</th>\n",
       "      <td>20141</td>\n",
       "      <td>160094518</td>\n",
       "      <td>316393</td>\n",
       "      <td>Projeto e Complexidade de Algoritmos          ...</td>\n",
       "      <td>MS</td>\n",
       "      <td>-3</td>\n",
       "    </tr>\n",
       "    <tr>\n",
       "      <th>402</th>\n",
       "      <td>20141</td>\n",
       "      <td>170065961</td>\n",
       "      <td>316393</td>\n",
       "      <td>Projeto e Complexidade de Algoritmos          ...</td>\n",
       "      <td>MS</td>\n",
       "      <td>-5</td>\n",
       "    </tr>\n",
       "    <tr>\n",
       "      <th>403</th>\n",
       "      <td>20141</td>\n",
       "      <td>170066002</td>\n",
       "      <td>316521</td>\n",
       "      <td>Trabalho Individual em Fundamentos e Métodos d...</td>\n",
       "      <td>SS</td>\n",
       "      <td>-5</td>\n",
       "    </tr>\n",
       "    <tr>\n",
       "      <th>404</th>\n",
       "      <td>20141</td>\n",
       "      <td>170066011</td>\n",
       "      <td>316245</td>\n",
       "      <td>Engenharia de Software 2                      ...</td>\n",
       "      <td>SS</td>\n",
       "      <td>-5</td>\n",
       "    </tr>\n",
       "    <tr>\n",
       "      <th>405</th>\n",
       "      <td>20141</td>\n",
       "      <td>170066011</td>\n",
       "      <td>316377</td>\n",
       "      <td>Fundamentos de Sistemas Computacionais        ...</td>\n",
       "      <td>MS</td>\n",
       "      <td>-5</td>\n",
       "    </tr>\n",
       "    <tr>\n",
       "      <th>408</th>\n",
       "      <td>20141</td>\n",
       "      <td>180040839</td>\n",
       "      <td>316377</td>\n",
       "      <td>Fundamentos de Sistemas Computacionais        ...</td>\n",
       "      <td>MS</td>\n",
       "      <td>-7</td>\n",
       "    </tr>\n",
       "    <tr>\n",
       "      <th>409</th>\n",
       "      <td>20141</td>\n",
       "      <td>180040839</td>\n",
       "      <td>316393</td>\n",
       "      <td>Projeto e Complexidade de Algoritmos          ...</td>\n",
       "      <td>MS</td>\n",
       "      <td>-7</td>\n",
       "    </tr>\n",
       "    <tr>\n",
       "      <th>410</th>\n",
       "      <td>20141</td>\n",
       "      <td>190051264</td>\n",
       "      <td>316393</td>\n",
       "      <td>Projeto e Complexidade de Algoritmos          ...</td>\n",
       "      <td>MM</td>\n",
       "      <td>-9</td>\n",
       "    </tr>\n",
       "    <tr>\n",
       "      <th>411</th>\n",
       "      <td>20141</td>\n",
       "      <td>190051302</td>\n",
       "      <td>316377</td>\n",
       "      <td>Fundamentos de Sistemas Computacionais        ...</td>\n",
       "      <td>MS</td>\n",
       "      <td>-9</td>\n",
       "    </tr>\n",
       "    <tr>\n",
       "      <th>412</th>\n",
       "      <td>20141</td>\n",
       "      <td>190051302</td>\n",
       "      <td>316504</td>\n",
       "      <td>Tópicos em Fundamentos e Métodos de Computação...</td>\n",
       "      <td>SS</td>\n",
       "      <td>-9</td>\n",
       "    </tr>\n",
       "    <tr>\n",
       "      <th>413</th>\n",
       "      <td>20141</td>\n",
       "      <td>190051582</td>\n",
       "      <td>316024</td>\n",
       "      <td>Inteligência Artificial 1                     ...</td>\n",
       "      <td>MS</td>\n",
       "      <td>-9</td>\n",
       "    </tr>\n",
       "    <tr>\n",
       "      <th>414</th>\n",
       "      <td>20141</td>\n",
       "      <td>190071231</td>\n",
       "      <td>316601</td>\n",
       "      <td>Lógica Formal e Computacional                 ...</td>\n",
       "      <td>MS</td>\n",
       "      <td>-9</td>\n",
       "    </tr>\n",
       "    <tr>\n",
       "      <th>415</th>\n",
       "      <td>20141</td>\n",
       "      <td>190150611</td>\n",
       "      <td>316601</td>\n",
       "      <td>Lógica Formal e Computacional                 ...</td>\n",
       "      <td>MM</td>\n",
       "      <td>-10</td>\n",
       "    </tr>\n",
       "    <tr>\n",
       "      <th>454</th>\n",
       "      <td>20142</td>\n",
       "      <td>160062993</td>\n",
       "      <td>316504</td>\n",
       "      <td>Tópicos em Fundamentos e Métodos de Computação...</td>\n",
       "      <td>SS</td>\n",
       "      <td>-2</td>\n",
       "    </tr>\n",
       "    <tr>\n",
       "      <th>455</th>\n",
       "      <td>20142</td>\n",
       "      <td>160063086</td>\n",
       "      <td>316296</td>\n",
       "      <td>Teoria da Computação                          ...</td>\n",
       "      <td>MM</td>\n",
       "      <td>-2</td>\n",
       "    </tr>\n",
       "    <tr>\n",
       "      <th>456</th>\n",
       "      <td>20142</td>\n",
       "      <td>160063086</td>\n",
       "      <td>316407</td>\n",
       "      <td>Arquiteturas VLSI                             ...</td>\n",
       "      <td>MS</td>\n",
       "      <td>-2</td>\n",
       "    </tr>\n",
       "    <tr>\n",
       "      <th>457</th>\n",
       "      <td>20142</td>\n",
       "      <td>160068444</td>\n",
       "      <td>316342</td>\n",
       "      <td>Programação Paralela                          ...</td>\n",
       "      <td>SS</td>\n",
       "      <td>-2</td>\n",
       "    </tr>\n",
       "    <tr>\n",
       "      <th>458</th>\n",
       "      <td>20142</td>\n",
       "      <td>160074509</td>\n",
       "      <td>316334</td>\n",
       "      <td>Estágio de Docência no Ensino de Graduação em ...</td>\n",
       "      <td>SS</td>\n",
       "      <td>-2</td>\n",
       "    </tr>\n",
       "    <tr>\n",
       "      <th>459</th>\n",
       "      <td>20142</td>\n",
       "      <td>160074509</td>\n",
       "      <td>316415</td>\n",
       "      <td>Seminário                                     ...</td>\n",
       "      <td>SS</td>\n",
       "      <td>-2</td>\n",
       "    </tr>\n",
       "    <tr>\n",
       "      <th>460</th>\n",
       "      <td>20142</td>\n",
       "      <td>160074509</td>\n",
       "      <td>316504</td>\n",
       "      <td>Tópicos em Fundamentos e Métodos de Computação...</td>\n",
       "      <td>SS</td>\n",
       "      <td>-2</td>\n",
       "    </tr>\n",
       "    <tr>\n",
       "      <th>461</th>\n",
       "      <td>20142</td>\n",
       "      <td>160094518</td>\n",
       "      <td>316296</td>\n",
       "      <td>Teoria da Computação                          ...</td>\n",
       "      <td>MS</td>\n",
       "      <td>-2</td>\n",
       "    </tr>\n",
       "    <tr>\n",
       "      <th>462</th>\n",
       "      <td>20142</td>\n",
       "      <td>160094518</td>\n",
       "      <td>316547</td>\n",
       "      <td>Proficiência em Inglês                        ...</td>\n",
       "      <td>DP</td>\n",
       "      <td>-2</td>\n",
       "    </tr>\n",
       "    <tr>\n",
       "      <th>463</th>\n",
       "      <td>20142</td>\n",
       "      <td>170065961</td>\n",
       "      <td>316334</td>\n",
       "      <td>Estágio de Docência no Ensino de Graduação em ...</td>\n",
       "      <td>SS</td>\n",
       "      <td>-4</td>\n",
       "    </tr>\n",
       "    <tr>\n",
       "      <th>464</th>\n",
       "      <td>20142</td>\n",
       "      <td>170065961</td>\n",
       "      <td>316504</td>\n",
       "      <td>Tópicos em Fundamentos e Métodos de Computação...</td>\n",
       "      <td>SS</td>\n",
       "      <td>-4</td>\n",
       "    </tr>\n",
       "    <tr>\n",
       "      <th>465</th>\n",
       "      <td>20142</td>\n",
       "      <td>170066002</td>\n",
       "      <td>316547</td>\n",
       "      <td>Proficiência em Inglês                        ...</td>\n",
       "      <td>AP</td>\n",
       "      <td>-4</td>\n",
       "    </tr>\n",
       "    <tr>\n",
       "      <th>466</th>\n",
       "      <td>20142</td>\n",
       "      <td>170066011</td>\n",
       "      <td>316261</td>\n",
       "      <td>Tópicos em Engenharia de Software             ...</td>\n",
       "      <td>SS</td>\n",
       "      <td>-4</td>\n",
       "    </tr>\n",
       "    <tr>\n",
       "      <th>467</th>\n",
       "      <td>20142</td>\n",
       "      <td>170066011</td>\n",
       "      <td>316296</td>\n",
       "      <td>Teoria da Computação                          ...</td>\n",
       "      <td>SS</td>\n",
       "      <td>-4</td>\n",
       "    </tr>\n",
       "    <tr>\n",
       "      <th>468</th>\n",
       "      <td>20142</td>\n",
       "      <td>180040839</td>\n",
       "      <td>316415</td>\n",
       "      <td>Seminário                                     ...</td>\n",
       "      <td>MS</td>\n",
       "      <td>-6</td>\n",
       "    </tr>\n",
       "    <tr>\n",
       "      <th>469</th>\n",
       "      <td>20142</td>\n",
       "      <td>190051264</td>\n",
       "      <td>316415</td>\n",
       "      <td>Seminário                                     ...</td>\n",
       "      <td>SS</td>\n",
       "      <td>-8</td>\n",
       "    </tr>\n",
       "    <tr>\n",
       "      <th>470</th>\n",
       "      <td>20142</td>\n",
       "      <td>190051264</td>\n",
       "      <td>316440</td>\n",
       "      <td>Sistemas Distribuídos                         ...</td>\n",
       "      <td>MS</td>\n",
       "      <td>-8</td>\n",
       "    </tr>\n",
       "    <tr>\n",
       "      <th>471</th>\n",
       "      <td>20142</td>\n",
       "      <td>190051264</td>\n",
       "      <td>316504</td>\n",
       "      <td>Tópicos em Fundamentos e Métodos de Computação...</td>\n",
       "      <td>SS</td>\n",
       "      <td>-8</td>\n",
       "    </tr>\n",
       "    <tr>\n",
       "      <th>472</th>\n",
       "      <td>20142</td>\n",
       "      <td>190051302</td>\n",
       "      <td>316296</td>\n",
       "      <td>Teoria da Computação                          ...</td>\n",
       "      <td>MM</td>\n",
       "      <td>-8</td>\n",
       "    </tr>\n",
       "    <tr>\n",
       "      <th>473</th>\n",
       "      <td>20142</td>\n",
       "      <td>190051302</td>\n",
       "      <td>316334</td>\n",
       "      <td>Estágio de Docência no Ensino de Graduação em ...</td>\n",
       "      <td>SS</td>\n",
       "      <td>-8</td>\n",
       "    </tr>\n",
       "    <tr>\n",
       "      <th>474</th>\n",
       "      <td>20142</td>\n",
       "      <td>190051604</td>\n",
       "      <td>316504</td>\n",
       "      <td>Tópicos em Fundamentos e Métodos de Computação...</td>\n",
       "      <td>SS</td>\n",
       "      <td>-8</td>\n",
       "    </tr>\n",
       "    <tr>\n",
       "      <th>475</th>\n",
       "      <td>20142</td>\n",
       "      <td>190071231</td>\n",
       "      <td>316440</td>\n",
       "      <td>Sistemas Distribuídos                         ...</td>\n",
       "      <td>SS</td>\n",
       "      <td>-8</td>\n",
       "    </tr>\n",
       "    <tr>\n",
       "      <th>479</th>\n",
       "      <td>20142</td>\n",
       "      <td>200051750</td>\n",
       "      <td>316504</td>\n",
       "      <td>Tópicos em Fundamentos e Métodos de Computação...</td>\n",
       "      <td>SS</td>\n",
       "      <td>-10</td>\n",
       "    </tr>\n",
       "    <tr>\n",
       "      <th>518</th>\n",
       "      <td>20151</td>\n",
       "      <td>160062993</td>\n",
       "      <td>316296</td>\n",
       "      <td>Teoria da Computação                          ...</td>\n",
       "      <td>SS</td>\n",
       "      <td>-1</td>\n",
       "    </tr>\n",
       "    <tr>\n",
       "      <th>519</th>\n",
       "      <td>20151</td>\n",
       "      <td>160063086</td>\n",
       "      <td>316393</td>\n",
       "      <td>Projeto e Complexidade de Algoritmos          ...</td>\n",
       "      <td>MM</td>\n",
       "      <td>-1</td>\n",
       "    </tr>\n",
       "    <tr>\n",
       "      <th>520</th>\n",
       "      <td>20151</td>\n",
       "      <td>160063086</td>\n",
       "      <td>316491</td>\n",
       "      <td>Tópicos em Sistemas de Computação             ...</td>\n",
       "      <td>SS</td>\n",
       "      <td>-1</td>\n",
       "    </tr>\n",
       "    <tr>\n",
       "      <th>521</th>\n",
       "      <td>20151</td>\n",
       "      <td>160068444</td>\n",
       "      <td>316334</td>\n",
       "      <td>Estágio de Docência no Ensino de Graduação em ...</td>\n",
       "      <td>SS</td>\n",
       "      <td>-1</td>\n",
       "    </tr>\n",
       "    <tr>\n",
       "      <th>522</th>\n",
       "      <td>20151</td>\n",
       "      <td>170066011</td>\n",
       "      <td>316504</td>\n",
       "      <td>Tópicos em Fundamentos e Métodos de Computação...</td>\n",
       "      <td>SS</td>\n",
       "      <td>-3</td>\n",
       "    </tr>\n",
       "    <tr>\n",
       "      <th>523</th>\n",
       "      <td>20151</td>\n",
       "      <td>170092275</td>\n",
       "      <td>316393</td>\n",
       "      <td>Projeto e Complexidade de Algoritmos          ...</td>\n",
       "      <td>MS</td>\n",
       "      <td>-3</td>\n",
       "    </tr>\n",
       "    <tr>\n",
       "      <th>524</th>\n",
       "      <td>20151</td>\n",
       "      <td>170092275</td>\n",
       "      <td>316482</td>\n",
       "      <td>Tópicos em Formalismos de Computação          ...</td>\n",
       "      <td>MS</td>\n",
       "      <td>-3</td>\n",
       "    </tr>\n",
       "    <tr>\n",
       "      <th>525</th>\n",
       "      <td>20151</td>\n",
       "      <td>180040634</td>\n",
       "      <td>316393</td>\n",
       "      <td>Projeto e Complexidade de Algoritmos          ...</td>\n",
       "      <td>MS</td>\n",
       "      <td>-5</td>\n",
       "    </tr>\n",
       "    <tr>\n",
       "      <th>526</th>\n",
       "      <td>20151</td>\n",
       "      <td>190051256</td>\n",
       "      <td>316377</td>\n",
       "      <td>Fundamentos de Sistemas Computacionais        ...</td>\n",
       "      <td>MM</td>\n",
       "      <td>-7</td>\n",
       "    </tr>\n",
       "    <tr>\n",
       "      <th>527</th>\n",
       "      <td>20151</td>\n",
       "      <td>190051256</td>\n",
       "      <td>316393</td>\n",
       "      <td>Projeto e Complexidade de Algoritmos          ...</td>\n",
       "      <td>MM</td>\n",
       "      <td>-7</td>\n",
       "    </tr>\n",
       "    <tr>\n",
       "      <th>528</th>\n",
       "      <td>20151</td>\n",
       "      <td>190051256</td>\n",
       "      <td>316563</td>\n",
       "      <td>Sistemas Multiagentes                         ...</td>\n",
       "      <td>MS</td>\n",
       "      <td>-7</td>\n",
       "    </tr>\n",
       "    <tr>\n",
       "      <th>529</th>\n",
       "      <td>20151</td>\n",
       "      <td>190051264</td>\n",
       "      <td>316377</td>\n",
       "      <td>Fundamentos de Sistemas Computacionais        ...</td>\n",
       "      <td>MS</td>\n",
       "      <td>-7</td>\n",
       "    </tr>\n",
       "    <tr>\n",
       "      <th>530</th>\n",
       "      <td>20151</td>\n",
       "      <td>190051264</td>\n",
       "      <td>316563</td>\n",
       "      <td>Sistemas Multiagentes                         ...</td>\n",
       "      <td>MS</td>\n",
       "      <td>-7</td>\n",
       "    </tr>\n",
       "    <tr>\n",
       "      <th>531</th>\n",
       "      <td>20151</td>\n",
       "      <td>190051302</td>\n",
       "      <td>316491</td>\n",
       "      <td>Tópicos em Sistemas de Computação             ...</td>\n",
       "      <td>SS</td>\n",
       "      <td>-7</td>\n",
       "    </tr>\n",
       "    <tr>\n",
       "      <th>532</th>\n",
       "      <td>20151</td>\n",
       "      <td>190144645</td>\n",
       "      <td>316342</td>\n",
       "      <td>Programação Paralela                          ...</td>\n",
       "      <td>SS</td>\n",
       "      <td>-8</td>\n",
       "    </tr>\n",
       "    <tr>\n",
       "      <th>533</th>\n",
       "      <td>20151</td>\n",
       "      <td>190144645</td>\n",
       "      <td>316377</td>\n",
       "      <td>Fundamentos de Sistemas Computacionais        ...</td>\n",
       "      <td>MS</td>\n",
       "      <td>-8</td>\n",
       "    </tr>\n",
       "    <tr>\n",
       "      <th>534</th>\n",
       "      <td>20151</td>\n",
       "      <td>190144645</td>\n",
       "      <td>316393</td>\n",
       "      <td>Projeto e Complexidade de Algoritmos          ...</td>\n",
       "      <td>MM</td>\n",
       "      <td>-8</td>\n",
       "    </tr>\n",
       "    <tr>\n",
       "      <th>535</th>\n",
       "      <td>20151</td>\n",
       "      <td>190144645</td>\n",
       "      <td>316547</td>\n",
       "      <td>Proficiência em Inglês                        ...</td>\n",
       "      <td>AP</td>\n",
       "      <td>-8</td>\n",
       "    </tr>\n",
       "    <tr>\n",
       "      <th>536</th>\n",
       "      <td>20151</td>\n",
       "      <td>190150611</td>\n",
       "      <td>316482</td>\n",
       "      <td>Tópicos em Formalismos de Computação          ...</td>\n",
       "      <td>SS</td>\n",
       "      <td>-8</td>\n",
       "    </tr>\n",
       "    <tr>\n",
       "      <th>572</th>\n",
       "      <td>20152</td>\n",
       "      <td>170092275</td>\n",
       "      <td>316377</td>\n",
       "      <td>Fundamentos de Sistemas Computacionais        ...</td>\n",
       "      <td>MS</td>\n",
       "      <td>-2</td>\n",
       "    </tr>\n",
       "    <tr>\n",
       "      <th>578</th>\n",
       "      <td>20152</td>\n",
       "      <td>180040634</td>\n",
       "      <td>316504</td>\n",
       "      <td>Tópicos em Fundamentos e Métodos de Computação...</td>\n",
       "      <td>MS</td>\n",
       "      <td>-4</td>\n",
       "    </tr>\n",
       "    <tr>\n",
       "      <th>579</th>\n",
       "      <td>20152</td>\n",
       "      <td>180061712</td>\n",
       "      <td>316580</td>\n",
       "      <td>Exame de Qualificação                         ...</td>\n",
       "      <td>AP</td>\n",
       "      <td>-4</td>\n",
       "    </tr>\n",
       "    <tr>\n",
       "      <th>580</th>\n",
       "      <td>20152</td>\n",
       "      <td>190051256</td>\n",
       "      <td>316491</td>\n",
       "      <td>Tópicos em Sistemas de Computação             ...</td>\n",
       "      <td>SS</td>\n",
       "      <td>-6</td>\n",
       "    </tr>\n",
       "    <tr>\n",
       "      <th>581</th>\n",
       "      <td>20152</td>\n",
       "      <td>190051256</td>\n",
       "      <td>316504</td>\n",
       "      <td>Tópicos em Fundamentos e Métodos de Computação...</td>\n",
       "      <td>SS</td>\n",
       "      <td>-6</td>\n",
       "    </tr>\n",
       "    <tr>\n",
       "      <th>582</th>\n",
       "      <td>20152</td>\n",
       "      <td>190051591</td>\n",
       "      <td>316491</td>\n",
       "      <td>Tópicos em Sistemas de Computação             ...</td>\n",
       "      <td>SS</td>\n",
       "      <td>-6</td>\n",
       "    </tr>\n",
       "    <tr>\n",
       "      <th>583</th>\n",
       "      <td>20152</td>\n",
       "      <td>190051591</td>\n",
       "      <td>316504</td>\n",
       "      <td>Tópicos em Fundamentos e Métodos de Computação...</td>\n",
       "      <td>SS</td>\n",
       "      <td>-6</td>\n",
       "    </tr>\n",
       "    <tr>\n",
       "      <th>584</th>\n",
       "      <td>20152</td>\n",
       "      <td>190144645</td>\n",
       "      <td>316415</td>\n",
       "      <td>Seminário                                     ...</td>\n",
       "      <td>SS</td>\n",
       "      <td>-7</td>\n",
       "    </tr>\n",
       "    <tr>\n",
       "      <th>585</th>\n",
       "      <td>20152</td>\n",
       "      <td>190144645</td>\n",
       "      <td>316491</td>\n",
       "      <td>Tópicos em Sistemas de Computação             ...</td>\n",
       "      <td>SS</td>\n",
       "      <td>-7</td>\n",
       "    </tr>\n",
       "    <tr>\n",
       "      <th>644</th>\n",
       "      <td>20161</td>\n",
       "      <td>180040596</td>\n",
       "      <td>316377</td>\n",
       "      <td>Fundamentos de Sistemas Computacionais        ...</td>\n",
       "      <td>MS</td>\n",
       "      <td>-3</td>\n",
       "    </tr>\n",
       "    <tr>\n",
       "      <th>645</th>\n",
       "      <td>20161</td>\n",
       "      <td>180040596</td>\n",
       "      <td>316393</td>\n",
       "      <td>Projeto e Complexidade de Algoritmos          ...</td>\n",
       "      <td>MM</td>\n",
       "      <td>-3</td>\n",
       "    </tr>\n",
       "    <tr>\n",
       "      <th>646</th>\n",
       "      <td>20161</td>\n",
       "      <td>180040596</td>\n",
       "      <td>316547</td>\n",
       "      <td>Proficiência em Inglês                        ...</td>\n",
       "      <td>AP</td>\n",
       "      <td>-3</td>\n",
       "    </tr>\n",
       "    <tr>\n",
       "      <th>647</th>\n",
       "      <td>20161</td>\n",
       "      <td>180040634</td>\n",
       "      <td>316024</td>\n",
       "      <td>Inteligência Artificial 1                     ...</td>\n",
       "      <td>SS</td>\n",
       "      <td>-3</td>\n",
       "    </tr>\n",
       "    <tr>\n",
       "      <th>648</th>\n",
       "      <td>20161</td>\n",
       "      <td>180040634</td>\n",
       "      <td>316334</td>\n",
       "      <td>Estágio de Docência no Ensino de Graduação em ...</td>\n",
       "      <td>SS</td>\n",
       "      <td>-3</td>\n",
       "    </tr>\n",
       "    <tr>\n",
       "      <th>649</th>\n",
       "      <td>20161</td>\n",
       "      <td>180040634</td>\n",
       "      <td>316415</td>\n",
       "      <td>Seminário                                     ...</td>\n",
       "      <td>SS</td>\n",
       "      <td>-3</td>\n",
       "    </tr>\n",
       "    <tr>\n",
       "      <th>650</th>\n",
       "      <td>20161</td>\n",
       "      <td>180040812</td>\n",
       "      <td>316393</td>\n",
       "      <td>Projeto e Complexidade de Algoritmos          ...</td>\n",
       "      <td>MS</td>\n",
       "      <td>-3</td>\n",
       "    </tr>\n",
       "    <tr>\n",
       "      <th>651</th>\n",
       "      <td>20161</td>\n",
       "      <td>180040812</td>\n",
       "      <td>316563</td>\n",
       "      <td>Sistemas Multiagentes                         ...</td>\n",
       "      <td>SS</td>\n",
       "      <td>-3</td>\n",
       "    </tr>\n",
       "    <tr>\n",
       "      <th>652</th>\n",
       "      <td>20161</td>\n",
       "      <td>180040839</td>\n",
       "      <td>316024</td>\n",
       "      <td>Inteligência Artificial 1                     ...</td>\n",
       "      <td>SS</td>\n",
       "      <td>-3</td>\n",
       "    </tr>\n",
       "    <tr>\n",
       "      <th>654</th>\n",
       "      <td>20161</td>\n",
       "      <td>180040928</td>\n",
       "      <td>316377</td>\n",
       "      <td>Fundamentos de Sistemas Computacionais        ...</td>\n",
       "      <td>SS</td>\n",
       "      <td>-3</td>\n",
       "    </tr>\n",
       "    <tr>\n",
       "      <th>655</th>\n",
       "      <td>20161</td>\n",
       "      <td>180040928</td>\n",
       "      <td>316393</td>\n",
       "      <td>Projeto e Complexidade de Algoritmos          ...</td>\n",
       "      <td>MS</td>\n",
       "      <td>-3</td>\n",
       "    </tr>\n",
       "    <tr>\n",
       "      <th>656</th>\n",
       "      <td>20161</td>\n",
       "      <td>180040928</td>\n",
       "      <td>316563</td>\n",
       "      <td>Sistemas Multiagentes                         ...</td>\n",
       "      <td>SS</td>\n",
       "      <td>-3</td>\n",
       "    </tr>\n",
       "    <tr>\n",
       "      <th>657</th>\n",
       "      <td>20161</td>\n",
       "      <td>180061747</td>\n",
       "      <td>316393</td>\n",
       "      <td>Projeto e Complexidade de Algoritmos          ...</td>\n",
       "      <td>MM</td>\n",
       "      <td>-3</td>\n",
       "    </tr>\n",
       "    <tr>\n",
       "      <th>658</th>\n",
       "      <td>20161</td>\n",
       "      <td>180061747</td>\n",
       "      <td>316491</td>\n",
       "      <td>Tópicos em Sistemas de Computação             ...</td>\n",
       "      <td>MS</td>\n",
       "      <td>-3</td>\n",
       "    </tr>\n",
       "    <tr>\n",
       "      <th>659</th>\n",
       "      <td>20161</td>\n",
       "      <td>180061747</td>\n",
       "      <td>316547</td>\n",
       "      <td>Proficiência em Inglês                        ...</td>\n",
       "      <td>AP</td>\n",
       "      <td>-3</td>\n",
       "    </tr>\n",
       "    <tr>\n",
       "      <th>660</th>\n",
       "      <td>20161</td>\n",
       "      <td>180073508</td>\n",
       "      <td>316393</td>\n",
       "      <td>Projeto e Complexidade de Algoritmos          ...</td>\n",
       "      <td>MS</td>\n",
       "      <td>-3</td>\n",
       "    </tr>\n",
       "    <tr>\n",
       "      <th>661</th>\n",
       "      <td>20161</td>\n",
       "      <td>180073508</td>\n",
       "      <td>316491</td>\n",
       "      <td>Tópicos em Sistemas de Computação             ...</td>\n",
       "      <td>MS</td>\n",
       "      <td>-3</td>\n",
       "    </tr>\n",
       "    <tr>\n",
       "      <th>662</th>\n",
       "      <td>20161</td>\n",
       "      <td>180073516</td>\n",
       "      <td>316377</td>\n",
       "      <td>Fundamentos de Sistemas Computacionais        ...</td>\n",
       "      <td>MM</td>\n",
       "      <td>-3</td>\n",
       "    </tr>\n",
       "    <tr>\n",
       "      <th>663</th>\n",
       "      <td>20161</td>\n",
       "      <td>180073516</td>\n",
       "      <td>316440</td>\n",
       "      <td>Sistemas Distribuídos                         ...</td>\n",
       "      <td>MS</td>\n",
       "      <td>-3</td>\n",
       "    </tr>\n",
       "    <tr>\n",
       "      <th>664</th>\n",
       "      <td>20161</td>\n",
       "      <td>180084381</td>\n",
       "      <td>316377</td>\n",
       "      <td>Fundamentos de Sistemas Computacionais        ...</td>\n",
       "      <td>MS</td>\n",
       "      <td>-3</td>\n",
       "    </tr>\n",
       "    <tr>\n",
       "      <th>665</th>\n",
       "      <td>20161</td>\n",
       "      <td>180084381</td>\n",
       "      <td>316393</td>\n",
       "      <td>Projeto e Complexidade de Algoritmos          ...</td>\n",
       "      <td>MM</td>\n",
       "      <td>-3</td>\n",
       "    </tr>\n",
       "    <tr>\n",
       "      <th>666</th>\n",
       "      <td>20161</td>\n",
       "      <td>180084381</td>\n",
       "      <td>316415</td>\n",
       "      <td>Seminário                                     ...</td>\n",
       "      <td>SS</td>\n",
       "      <td>-3</td>\n",
       "    </tr>\n",
       "    <tr>\n",
       "      <th>667</th>\n",
       "      <td>20161</td>\n",
       "      <td>180084381</td>\n",
       "      <td>316504</td>\n",
       "      <td>Tópicos em Fundamentos e Métodos de Computação...</td>\n",
       "      <td>CC</td>\n",
       "      <td>-3</td>\n",
       "    </tr>\n",
       "    <tr>\n",
       "      <th>668</th>\n",
       "      <td>20161</td>\n",
       "      <td>190051256</td>\n",
       "      <td>316334</td>\n",
       "      <td>Estágio de Docência no Ensino de Graduação em ...</td>\n",
       "      <td>SS</td>\n",
       "      <td>-5</td>\n",
       "    </tr>\n",
       "    <tr>\n",
       "      <th>669</th>\n",
       "      <td>20161</td>\n",
       "      <td>190051256</td>\n",
       "      <td>316415</td>\n",
       "      <td>Seminário                                     ...</td>\n",
       "      <td>SS</td>\n",
       "      <td>-5</td>\n",
       "    </tr>\n",
       "    <tr>\n",
       "      <th>670</th>\n",
       "      <td>20161</td>\n",
       "      <td>190051256</td>\n",
       "      <td>316547</td>\n",
       "      <td>Proficiência em Inglês                        ...</td>\n",
       "      <td>AP</td>\n",
       "      <td>-5</td>\n",
       "    </tr>\n",
       "    <tr>\n",
       "      <th>671</th>\n",
       "      <td>20161</td>\n",
       "      <td>190051591</td>\n",
       "      <td>316377</td>\n",
       "      <td>Fundamentos de Sistemas Computacionais        ...</td>\n",
       "      <td>MM</td>\n",
       "      <td>-5</td>\n",
       "    </tr>\n",
       "    <tr>\n",
       "      <th>672</th>\n",
       "      <td>20161</td>\n",
       "      <td>190051591</td>\n",
       "      <td>316393</td>\n",
       "      <td>Projeto e Complexidade de Algoritmos          ...</td>\n",
       "      <td>MM</td>\n",
       "      <td>-5</td>\n",
       "    </tr>\n",
       "    <tr>\n",
       "      <th>673</th>\n",
       "      <td>20161</td>\n",
       "      <td>190144645</td>\n",
       "      <td>316334</td>\n",
       "      <td>Estágio de Docência no Ensino de Graduação em ...</td>\n",
       "      <td>SS</td>\n",
       "      <td>-6</td>\n",
       "    </tr>\n",
       "    <tr>\n",
       "      <th>674</th>\n",
       "      <td>20161</td>\n",
       "      <td>190144645</td>\n",
       "      <td>316512</td>\n",
       "      <td>Trabalho Individual em Sistemas de Computação ...</td>\n",
       "      <td>SS</td>\n",
       "      <td>-6</td>\n",
       "    </tr>\n",
       "    <tr>\n",
       "      <th>712</th>\n",
       "      <td>20162</td>\n",
       "      <td>180040596</td>\n",
       "      <td>316032</td>\n",
       "      <td>Inteligência Artificial 2                     ...</td>\n",
       "      <td>SS</td>\n",
       "      <td>-2</td>\n",
       "    </tr>\n",
       "    <tr>\n",
       "      <th>713</th>\n",
       "      <td>20162</td>\n",
       "      <td>180040596</td>\n",
       "      <td>316334</td>\n",
       "      <td>Estágio de Docência no Ensino de Graduação em ...</td>\n",
       "      <td>SS</td>\n",
       "      <td>-2</td>\n",
       "    </tr>\n",
       "    <tr>\n",
       "      <th>714</th>\n",
       "      <td>20162</td>\n",
       "      <td>180040596</td>\n",
       "      <td>316415</td>\n",
       "      <td>Seminário                                     ...</td>\n",
       "      <td>SS</td>\n",
       "      <td>-2</td>\n",
       "    </tr>\n",
       "    <tr>\n",
       "      <th>715</th>\n",
       "      <td>20162</td>\n",
       "      <td>180040596</td>\n",
       "      <td>316504</td>\n",
       "      <td>Tópicos em Fundamentos e Métodos de Computação...</td>\n",
       "      <td>SS</td>\n",
       "      <td>-2</td>\n",
       "    </tr>\n",
       "    <tr>\n",
       "      <th>716</th>\n",
       "      <td>20162</td>\n",
       "      <td>180040812</td>\n",
       "      <td>316377</td>\n",
       "      <td>Fundamentos de Sistemas Computacionais        ...</td>\n",
       "      <td>MS</td>\n",
       "      <td>-2</td>\n",
       "    </tr>\n",
       "    <tr>\n",
       "      <th>717</th>\n",
       "      <td>20162</td>\n",
       "      <td>180040928</td>\n",
       "      <td>316342</td>\n",
       "      <td>Programação Paralela                          ...</td>\n",
       "      <td>SS</td>\n",
       "      <td>-2</td>\n",
       "    </tr>\n",
       "    <tr>\n",
       "      <th>718</th>\n",
       "      <td>20162</td>\n",
       "      <td>180040928</td>\n",
       "      <td>316504</td>\n",
       "      <td>Tópicos em Fundamentos e Métodos de Computação...</td>\n",
       "      <td>SS</td>\n",
       "      <td>-2</td>\n",
       "    </tr>\n",
       "    <tr>\n",
       "      <th>719</th>\n",
       "      <td>20162</td>\n",
       "      <td>180061747</td>\n",
       "      <td>316377</td>\n",
       "      <td>Fundamentos de Sistemas Computacionais        ...</td>\n",
       "      <td>MM</td>\n",
       "      <td>-2</td>\n",
       "    </tr>\n",
       "    <tr>\n",
       "      <th>720</th>\n",
       "      <td>20162</td>\n",
       "      <td>180073508</td>\n",
       "      <td>316342</td>\n",
       "      <td>Programação Paralela                          ...</td>\n",
       "      <td>MS</td>\n",
       "      <td>-2</td>\n",
       "    </tr>\n",
       "    <tr>\n",
       "      <th>721</th>\n",
       "      <td>20162</td>\n",
       "      <td>180073508</td>\n",
       "      <td>316377</td>\n",
       "      <td>Fundamentos de Sistemas Computacionais        ...</td>\n",
       "      <td>MS</td>\n",
       "      <td>-2</td>\n",
       "    </tr>\n",
       "    <tr>\n",
       "      <th>722</th>\n",
       "      <td>20162</td>\n",
       "      <td>180073516</td>\n",
       "      <td>316296</td>\n",
       "      <td>Teoria da Computação                          ...</td>\n",
       "      <td>MM</td>\n",
       "      <td>-2</td>\n",
       "    </tr>\n",
       "    <tr>\n",
       "      <th>723</th>\n",
       "      <td>20162</td>\n",
       "      <td>180073516</td>\n",
       "      <td>316491</td>\n",
       "      <td>Tópicos em Sistemas de Computação             ...</td>\n",
       "      <td>MS</td>\n",
       "      <td>-2</td>\n",
       "    </tr>\n",
       "    <tr>\n",
       "      <th>724</th>\n",
       "      <td>20162</td>\n",
       "      <td>180084381</td>\n",
       "      <td>316032</td>\n",
       "      <td>Inteligência Artificial 2                     ...</td>\n",
       "      <td>SS</td>\n",
       "      <td>-2</td>\n",
       "    </tr>\n",
       "    <tr>\n",
       "      <th>725</th>\n",
       "      <td>20162</td>\n",
       "      <td>180084381</td>\n",
       "      <td>316334</td>\n",
       "      <td>Estágio de Docência no Ensino de Graduação em ...</td>\n",
       "      <td>SS</td>\n",
       "      <td>-2</td>\n",
       "    </tr>\n",
       "    <tr>\n",
       "      <th>732</th>\n",
       "      <td>20162</td>\n",
       "      <td>190051591</td>\n",
       "      <td>316334</td>\n",
       "      <td>Estágio de Docência no Ensino de Graduação em ...</td>\n",
       "      <td>SS</td>\n",
       "      <td>-4</td>\n",
       "    </tr>\n",
       "    <tr>\n",
       "      <th>733</th>\n",
       "      <td>20162</td>\n",
       "      <td>190051591</td>\n",
       "      <td>316415</td>\n",
       "      <td>Seminário                                     ...</td>\n",
       "      <td>SS</td>\n",
       "      <td>-4</td>\n",
       "    </tr>\n",
       "    <tr>\n",
       "      <th>734</th>\n",
       "      <td>20162</td>\n",
       "      <td>190071231</td>\n",
       "      <td>316342</td>\n",
       "      <td>Programação Paralela                          ...</td>\n",
       "      <td>SS</td>\n",
       "      <td>-4</td>\n",
       "    </tr>\n",
       "    <tr>\n",
       "      <th>765</th>\n",
       "      <td>20171</td>\n",
       "      <td>180040596</td>\n",
       "      <td>316512</td>\n",
       "      <td>Trabalho Individual em Sistemas de Computação ...</td>\n",
       "      <td>SS</td>\n",
       "      <td>-1</td>\n",
       "    </tr>\n",
       "    <tr>\n",
       "      <th>766</th>\n",
       "      <td>20171</td>\n",
       "      <td>180040723</td>\n",
       "      <td>316377</td>\n",
       "      <td>Fundamentos de Sistemas Computacionais        ...</td>\n",
       "      <td>MM</td>\n",
       "      <td>-1</td>\n",
       "    </tr>\n",
       "    <tr>\n",
       "      <th>767</th>\n",
       "      <td>20171</td>\n",
       "      <td>180040812</td>\n",
       "      <td>316440</td>\n",
       "      <td>Sistemas Distribuídos                         ...</td>\n",
       "      <td>MM</td>\n",
       "      <td>-1</td>\n",
       "    </tr>\n",
       "    <tr>\n",
       "      <th>768</th>\n",
       "      <td>20171</td>\n",
       "      <td>180040928</td>\n",
       "      <td>316440</td>\n",
       "      <td>Sistemas Distribuídos                         ...</td>\n",
       "      <td>MS</td>\n",
       "      <td>-1</td>\n",
       "    </tr>\n",
       "    <tr>\n",
       "      <th>769</th>\n",
       "      <td>20171</td>\n",
       "      <td>180061747</td>\n",
       "      <td>316415</td>\n",
       "      <td>Seminário                                     ...</td>\n",
       "      <td>MS</td>\n",
       "      <td>-1</td>\n",
       "    </tr>\n",
       "    <tr>\n",
       "      <th>770</th>\n",
       "      <td>20171</td>\n",
       "      <td>180061747</td>\n",
       "      <td>316440</td>\n",
       "      <td>Sistemas Distribuídos                         ...</td>\n",
       "      <td>MS</td>\n",
       "      <td>-1</td>\n",
       "    </tr>\n",
       "    <tr>\n",
       "      <th>771</th>\n",
       "      <td>20171</td>\n",
       "      <td>180073508</td>\n",
       "      <td>316415</td>\n",
       "      <td>Seminário                                     ...</td>\n",
       "      <td>SS</td>\n",
       "      <td>-1</td>\n",
       "    </tr>\n",
       "    <tr>\n",
       "      <th>772</th>\n",
       "      <td>20171</td>\n",
       "      <td>180073516</td>\n",
       "      <td>316334</td>\n",
       "      <td>Estágio de Docência no Ensino de Graduação em ...</td>\n",
       "      <td>SS</td>\n",
       "      <td>-1</td>\n",
       "    </tr>\n",
       "    <tr>\n",
       "      <th>773</th>\n",
       "      <td>20171</td>\n",
       "      <td>180073516</td>\n",
       "      <td>316415</td>\n",
       "      <td>Seminário                                     ...</td>\n",
       "      <td>MS</td>\n",
       "      <td>-1</td>\n",
       "    </tr>\n",
       "    <tr>\n",
       "      <th>780</th>\n",
       "      <td>20171</td>\n",
       "      <td>190051591</td>\n",
       "      <td>316521</td>\n",
       "      <td>Trabalho Individual em Fundamentos e Métodos d...</td>\n",
       "      <td>SS</td>\n",
       "      <td>-3</td>\n",
       "    </tr>\n",
       "    <tr>\n",
       "      <th>781</th>\n",
       "      <td>20171</td>\n",
       "      <td>190144688</td>\n",
       "      <td>316415</td>\n",
       "      <td>Seminário                                     ...</td>\n",
       "      <td>SS</td>\n",
       "      <td>-4</td>\n",
       "    </tr>\n",
       "    <tr>\n",
       "      <th>782</th>\n",
       "      <td>20171</td>\n",
       "      <td>190144688</td>\n",
       "      <td>316491</td>\n",
       "      <td>Tópicos em Sistemas de Computação             ...</td>\n",
       "      <td>MM</td>\n",
       "      <td>-4</td>\n",
       "    </tr>\n",
       "    <tr>\n",
       "      <th>842</th>\n",
       "      <td>20172</td>\n",
       "      <td>190144688</td>\n",
       "      <td>316032</td>\n",
       "      <td>Inteligência Artificial 2                     ...</td>\n",
       "      <td>SS</td>\n",
       "      <td>-3</td>\n",
       "    </tr>\n",
       "    <tr>\n",
       "      <th>843</th>\n",
       "      <td>20172</td>\n",
       "      <td>190144688</td>\n",
       "      <td>316041</td>\n",
       "      <td>Linguagens Declarativas                       ...</td>\n",
       "      <td>MS</td>\n",
       "      <td>-3</td>\n",
       "    </tr>\n",
       "    <tr>\n",
       "      <th>844</th>\n",
       "      <td>20172</td>\n",
       "      <td>190144688</td>\n",
       "      <td>316041</td>\n",
       "      <td>Linguagens Para Inteligencia Artificial       ...</td>\n",
       "      <td>MS</td>\n",
       "      <td>-3</td>\n",
       "    </tr>\n",
       "    <tr>\n",
       "      <th>845</th>\n",
       "      <td>20172</td>\n",
       "      <td>190144688</td>\n",
       "      <td>316377</td>\n",
       "      <td>Fundamentos de Sistemas Computacionais        ...</td>\n",
       "      <td>MM</td>\n",
       "      <td>-3</td>\n",
       "    </tr>\n",
       "    <tr>\n",
       "      <th>925</th>\n",
       "      <td>20181</td>\n",
       "      <td>190144688</td>\n",
       "      <td>316393</td>\n",
       "      <td>Projeto e Complexidade de Algoritmos          ...</td>\n",
       "      <td>MM</td>\n",
       "      <td>-2</td>\n",
       "    </tr>\n",
       "    <tr>\n",
       "      <th>926</th>\n",
       "      <td>20181</td>\n",
       "      <td>190144688</td>\n",
       "      <td>316521</td>\n",
       "      <td>Trabalho Individual em Fundamentos e Métodos d...</td>\n",
       "      <td>MS</td>\n",
       "      <td>-2</td>\n",
       "    </tr>\n",
       "    <tr>\n",
       "      <th>1080</th>\n",
       "      <td>20191</td>\n",
       "      <td>200051750</td>\n",
       "      <td>316393</td>\n",
       "      <td>Projeto e Complexidade de Algoritmos          ...</td>\n",
       "      <td>MM</td>\n",
       "      <td>-1</td>\n",
       "    </tr>\n",
       "  </tbody>\n",
       "</table>\n",
       "</div>"
      ],
      "text/plain": [
       "      Período  Matrícula  Código da Disciplina                                         Disciplina Menção  Tempo\n",
       "11      20102  120048582                316415  Seminário                                     ...     SS     -2\n",
       "12      20102  120048582                316504  Tópicos em Fundamentos e Métodos de Computação...     MS     -2\n",
       "13      20102  120048582                316547  Proficiência em Inglês                        ...     AP     -2\n",
       "14      20102  120099551                316032  Inteligência Artificial 2                     ...     MM     -2\n",
       "15      20102  120099551                316296  Teoria da Computação                          ...     MS     -2\n",
       "16      20102  120099551                316440  Sistemas Distribuídos                         ...     MM     -2\n",
       "17      20102  120149796                316547  Proficiência em Inglês                        ...     AP     -3\n",
       "20      20102  120178893                316296  Teoria da Computação                          ...     MS     -3\n",
       "21      20102  130050652                316504  Tópicos em Fundamentos e Métodos de Computação...     MS     -4\n",
       "22      20102  130051241                316296  Teoria da Computação                          ...     MM     -4\n",
       "23      20102  130051241                316504  Tópicos em Fundamentos e Métodos de Computação...     SS     -4\n",
       "24      20102  130051276                316296  Teoria da Computação                          ...     MM     -4\n",
       "26      20102  130072222                316385  Processamento de Imagens Digitais             ...     MS     -4\n",
       "27      20102  140069372                316504  Tópicos em Fundamentos e Métodos de Computação...     MS     -6\n",
       "28      20102  140069381                316261  Tópicos em Engenharia de Software             ...     SS     -6\n",
       "29      20102  140182713                316032  Inteligência Artificial 2                     ...     MM     -7\n",
       "30      20102  140182713                316296  Teoria da Computação                          ...     MM     -7\n",
       "31      20102  160063027                316440  Sistemas Distribuídos                         ...     MS    -10\n",
       "33      20102  180061712                316504  Tópicos em Fundamentos e Métodos de Computação...     MS    -14\n",
       "34      20102  190051582                316261  Tópicos em Engenharia de Software             ...     MS    -16\n",
       "35      20102  190051582                316296  Teoria da Computação                          ...     MM    -16\n",
       "62      20111  120149796                316393  Projeto e Complexidade de Algoritmos          ...     MM     -2\n",
       "65      20111  130050652                316547  Proficiência em Inglês                        ...     AP     -3\n",
       "66      20111  130050652                316563  Sistemas Multiagentes                         ...     MS     -3\n",
       "67      20111  130051241                316415  Seminário                                     ...     MS     -3\n",
       "68      20111  130051276                316563  Sistemas Multiagentes                         ...     SS     -3\n",
       "69      20111  130063126                316377  Fundamentos de Sistemas Computacionais        ...     MM     -3\n",
       "70      20111  130063126                316393  Projeto e Complexidade de Algoritmos          ...     MS     -3\n",
       "71      20111  130072222                316377  Fundamentos de Sistemas Computacionais        ...     MM     -3\n",
       "72      20111  130072222                316393  Projeto e Complexidade de Algoritmos          ...     MM     -3\n",
       "73      20111  140069372                316393  Projeto e Complexidade de Algoritmos          ...     SS     -5\n",
       "74      20111  140069372                316504  Tópicos em Fundamentos e Métodos de Computação...     SS     -5\n",
       "75      20111  140069381                316415  Seminário                                     ...     SS     -5\n",
       "76      20111  140069381                316547  Proficiência em Inglês                        ...     AP     -5\n",
       "77      20111  140089471                316393  Projeto e Complexidade de Algoritmos          ...     MS     -5\n",
       "78      20111  140182713                316377  Fundamentos de Sistemas Computacionais        ...     MM     -6\n",
       "79      20111  140182713                316393  Projeto e Complexidade de Algoritmos          ...     MS     -6\n",
       "80      20111  160062969                316393  Projeto e Complexidade de Algoritmos          ...     MS     -9\n",
       "81      20111  180040634                316377  Fundamentos de Sistemas Computacionais        ...     MS    -13\n",
       "82      20111  180061712                316547  Proficiência em Inglês                        ...     AP    -13\n",
       "83      20111  180061712                316563  Sistemas Multiagentes                         ...     MS    -13\n",
       "84      20111  190051582                316393  Projeto e Complexidade de Algoritmos          ...     MS    -15\n",
       "85      20111  190071231                316393  Projeto e Complexidade de Algoritmos          ...     SS    -15\n",
       "111     20112  120149796                316261  Tópicos em Engenharia de Software             ...     MS     -1\n",
       "112     20112  120149796                316571  Tópicos de Pesquisa em Informática            ...     MS     -1\n",
       "114     20112  130050652                316571  Tópicos de Pesquisa em Informática            ...     MS     -2\n",
       "115     20112  130063126                316296  Teoria da Computação                          ...     MM     -2\n",
       "116     20112  130063126                316598  Projeto e Complexidade de Algorítmos 2        ...     MS     -2\n",
       "117     20112  130072222                316296  Teoria da Computação                          ...     MM     -2\n",
       "118     20112  140069372                316296  Teoria da Computação                          ...     MS     -4\n",
       "119     20112  140069372                316547  Proficiência em Inglês                        ...     AP     -4\n",
       "120     20112  140069372                316598  Projeto e Complexidade de Algorítmos 2        ...     SS     -4\n",
       "121     20112  140069381                316521  Trabalho Individual em Fundamentos e Métodos d...     SS     -4\n",
       "122     20112  140089471                316296  Teoria da Computação                          ...     MM     -4\n",
       "123     20112  140089489                316296  Teoria da Computação                          ...     MM     -4\n",
       "124     20112  140089489                316385  Processamento de Imagens Digitais             ...     MM     -4\n",
       "125     20112  140182713                316385  Processamento de Imagens Digitais             ...     MS     -5\n",
       "126     20112  150055307                316261  Tópicos em Engenharia de Software             ...     MS     -6\n",
       "127     20112  160062969                316296  Teoria da Computação                          ...     MS     -8\n",
       "129     20112  180061712                316571  Tópicos de Pesquisa em Informática            ...     MS    -12\n",
       "130     20112  190071231                316296  Teoria da Computação                          ...     MS    -14\n",
       "131     20112  190071231                316598  Projeto e Complexidade de Algorítmos 2        ...     SS    -14\n",
       "163     20121  130063126                316504  Tópicos em Fundamentos e Métodos de Computação...     SS     -1\n",
       "164     20121  140069372                316377  Fundamentos de Sistemas Computacionais        ...     MS     -3\n",
       "165     20121  140089471                316377  Fundamentos de Sistemas Computacionais        ...     MS     -3\n",
       "166     20121  140089489                316377  Fundamentos de Sistemas Computacionais        ...     MS     -3\n",
       "167     20121  140089489                316393  Projeto e Complexidade de Algoritmos          ...     MS     -3\n",
       "169     20121  140182721                316024  Inteligência Artificial 1                     ...     SS     -4\n",
       "170     20121  140187171                316377  Fundamentos de Sistemas Computacionais        ...     MS     -4\n",
       "171     20121  140187171                316393  Projeto e Complexidade de Algoritmos          ...     MS     -4\n",
       "172     20121  140195106                316377  Fundamentos de Sistemas Computacionais        ...     MS     -4\n",
       "173     20121  140195106                316393  Projeto e Complexidade de Algoritmos          ...     MS     -4\n",
       "175     20121  150055307                316377  Fundamentos de Sistemas Computacionais        ...     MS     -5\n",
       "176     20121  150055307                316393  Projeto e Complexidade de Algoritmos          ...     MS     -5\n",
       "177     20121  150055331                316491  Tópicos em Sistemas de Computação             ...     SS     -5\n",
       "178     20121  160062969                316377  Fundamentos de Sistemas Computacionais        ...     MS     -7\n",
       "179     20121  160062969                316415  Seminário                                     ...     SS     -7\n",
       "180     20121  160062969                316491  Tópicos em Sistemas de Computação             ...     SS     -7\n",
       "181     20121  160063027                316393  Projeto e Complexidade de Algoritmos          ...     MS     -7\n",
       "182     20121  160063035                316563  Sistemas Multiagentes                         ...     SS     -7\n",
       "183     20121  170178854                316296  Teoria da Computação                          ...     CC    -10\n",
       "184     20121  170178854                316377  Fundamentos de Sistemas Computacionais        ...     CC    -10\n",
       "185     20121  170178854                316385  Processamento de Imagens Digitais             ...     CC    -10\n",
       "186     20121  170178854                316393  Projeto e Complexidade de Algoritmos          ...     MS    -10\n",
       "187     20121  170178854                316474  Reconhecimento de Padrões                     ...     CC    -10\n",
       "188     20121  170178854                316491  Tópicos em Sistemas de Computação             ...     MS    -10\n",
       "189     20121  190051582                316377  Fundamentos de Sistemas Computacionais        ...     MM    -13\n",
       "190     20121  190071231                316377  Fundamentos de Sistemas Computacionais        ...     MS    -13\n",
       "191     20121  190150611                316377  Fundamentos de Sistemas Computacionais        ...     MS    -14\n",
       "192     20121  190150611                316393  Projeto e Complexidade de Algoritmos          ...     MS    -14\n",
       "220     20122  140069429                316296  Teoria da Computação                          ...     MS     -2\n",
       "221     20122  140069429                316440  Sistemas Distribuídos                         ...     SS     -2\n",
       "222     20122  140089471                316504  Tópicos em Fundamentos e Métodos de Computação...     MS     -2\n",
       "223     20122  140089489                316032  Inteligência Artificial 2                     ...     MS     -2\n",
       "224     20122  140187171                316296  Teoria da Computação                          ...     MS     -3\n",
       "226     20122  140195106                316296  Teoria da Computação                          ...     MS     -3\n",
       "227     20122  140195106                316385  Processamento de Imagens Digitais             ...     SS     -3\n",
       "228     20122  150055307                316296  Teoria da Computação                          ...     MS     -4\n",
       "229     20122  150055307                316504  Tópicos em Fundamentos e Métodos de Computação...     SS     -4\n",
       "230     20122  160063035                316415  Seminário                                     ...     SS     -6\n",
       "232     20122  170065961                316491  Tópicos em Sistemas de Computação             ...     SS     -8\n",
       "234     20122  180040839                316504  Tópicos em Fundamentos e Métodos de Computação...     MS    -10\n",
       "235     20122  180061712                316491  Tópicos em Sistemas de Computação             ...     MS    -10\n",
       "236     20122  190150611                316296  Teoria da Computação                          ...     MS    -13\n",
       "262     20131  140069381                316504  Tópicos em Fundamentos e Métodos de Computação...     MS     -1\n",
       "263     20131  140069429                316377  Fundamentos de Sistemas Computacionais        ...     MS     -1\n",
       "264     20131  140187171                316504  Tópicos em Fundamentos e Métodos de Computação...     SS     -2\n",
       "265     20131  140195106                316415  Seminário                                     ...     SS     -2\n",
       "266     20131  140195106                316491  Tópicos em Sistemas de Computação             ...     MS     -2\n",
       "267     20131  150074603                316377  Fundamentos de Sistemas Computacionais        ...     MS     -3\n",
       "268     20131  150074603                316393  Projeto e Complexidade de Algoritmos          ...     MS     -3\n",
       "269     20131  160062993                316245  Engenharia de Software 2                      ...     SS     -5\n",
       "270     20131  160062993                316504  Tópicos em Fundamentos e Métodos de Computação...     SS     -5\n",
       "271     20131  160063027                316504  Tópicos em Fundamentos e Métodos de Computação...     SS     -5\n",
       "272     20131  160063035                316377  Fundamentos de Sistemas Computacionais        ...     MS     -5\n",
       "273     20131  160063035                316393  Projeto e Complexidade de Algoritmos          ...     MM     -5\n",
       "274     20131  160068444                316377  Fundamentos de Sistemas Computacionais        ...     MM     -5\n",
       "275     20131  160068444                316393  Projeto e Complexidade de Algoritmos          ...     MS     -5\n",
       "276     20131  170065961                316377  Fundamentos de Sistemas Computacionais        ...     MS     -7\n",
       "277     20131  170066002                316024  Inteligência Artificial 1                     ...     SS     -7\n",
       "278     20131  170066002                316377  Fundamentos de Sistemas Computacionais        ...     SS     -7\n",
       "279     20131  170066002                316393  Projeto e Complexidade de Algoritmos          ...     MM     -7\n",
       "283     20131  170179869                316393  Projeto e Complexidade de Algoritmos          ...     MS     -8\n",
       "284     20131  170179869                316491  Tópicos em Sistemas de Computação             ...     SS     -8\n",
       "285     20131  190051582                316504  Tópicos em Fundamentos e Métodos de Computação...     SS    -11\n",
       "286     20131  190150611                316504  Tópicos em Fundamentos e Métodos de Computação...     SS    -12\n",
       "311     20132  150074603                316296  Teoria da Computação                          ...     MS     -2\n",
       "312     20132  150074603                316504  Tópicos em Fundamentos e Métodos de Computação...     MS     -2\n",
       "313     20132  150074603                316563  Sistemas Multiagentes                         ...     MS     -2\n",
       "318     20132  160063027                316296  Teoria da Computação                          ...     MM     -4\n",
       "319     20132  160063035                316296  Teoria da Computação                          ...     MM     -4\n",
       "320     20132  160063035                316334  Estágio de Docência no Ensino de Graduação em ...     SS     -4\n",
       "321     20132  160068444                316296  Teoria da Computação                          ...     SS     -4\n",
       "322     20132  160074509                316296  Teoria da Computação                          ...     MM     -4\n",
       "323     20132  170065961                316296  Teoria da Computação                          ...     MM     -6\n",
       "324     20132  170066002                316032  Inteligência Artificial 2                     ...     SS     -6\n",
       "325     20132  170066002                316296  Teoria da Computação                          ...     MM     -6\n",
       "326     20132  170092275                316296  Teoria da Computação                          ...     SS     -6\n",
       "327     20132  170092275                316601  Lógica Formal e Computacional                 ...     SS     -6\n",
       "329     20132  170179869                316296  Teoria da Computação                          ...     MS     -7\n",
       "330     20132  170179869                316385  Processamento de Imagens Digitais             ...     SS     -7\n",
       "332     20132  180040839                316261  Tópicos em Engenharia de Software             ...     SS     -8\n",
       "333     20132  180040961                316024  Inteligência Artificial 1                     ...     SS     -8\n",
       "334     20132  180040961                316032  Inteligência Artificial 2                     ...     MS     -8\n",
       "335     20132  190051582                316032  Inteligência Artificial 2                     ...     MS    -10\n",
       "387     20141  150055307                316024  Inteligência Artificial 1                     ...     SS     -1\n",
       "393     20141  160063027                316415  Seminário                                     ...     MS     -3\n",
       "394     20141  160063086                316377  Fundamentos de Sistemas Computacionais        ...     MS     -3\n",
       "395     20141  160068444                316415  Seminário                                     ...     SS     -3\n",
       "396     20141  160068444                316563  Sistemas Multiagentes                         ...     SS     -3\n",
       "397     20141  160074509                316377  Fundamentos de Sistemas Computacionais        ...     MS     -3\n",
       "398     20141  160074509                316393  Projeto e Complexidade de Algoritmos          ...     MS     -3\n",
       "399     20141  160074509                316491  Tópicos em Sistemas de Computação             ...     SS     -3\n",
       "400     20141  160094518                316377  Fundamentos de Sistemas Computacionais        ...     MM     -3\n",
       "401     20141  160094518                316393  Projeto e Complexidade de Algoritmos          ...     MS     -3\n",
       "402     20141  170065961                316393  Projeto e Complexidade de Algoritmos          ...     MS     -5\n",
       "403     20141  170066002                316521  Trabalho Individual em Fundamentos e Métodos d...     SS     -5\n",
       "404     20141  170066011                316245  Engenharia de Software 2                      ...     SS     -5\n",
       "405     20141  170066011                316377  Fundamentos de Sistemas Computacionais        ...     MS     -5\n",
       "408     20141  180040839                316377  Fundamentos de Sistemas Computacionais        ...     MS     -7\n",
       "409     20141  180040839                316393  Projeto e Complexidade de Algoritmos          ...     MS     -7\n",
       "410     20141  190051264                316393  Projeto e Complexidade de Algoritmos          ...     MM     -9\n",
       "411     20141  190051302                316377  Fundamentos de Sistemas Computacionais        ...     MS     -9\n",
       "412     20141  190051302                316504  Tópicos em Fundamentos e Métodos de Computação...     SS     -9\n",
       "413     20141  190051582                316024  Inteligência Artificial 1                     ...     MS     -9\n",
       "414     20141  190071231                316601  Lógica Formal e Computacional                 ...     MS     -9\n",
       "415     20141  190150611                316601  Lógica Formal e Computacional                 ...     MM    -10\n",
       "454     20142  160062993                316504  Tópicos em Fundamentos e Métodos de Computação...     SS     -2\n",
       "455     20142  160063086                316296  Teoria da Computação                          ...     MM     -2\n",
       "456     20142  160063086                316407  Arquiteturas VLSI                             ...     MS     -2\n",
       "457     20142  160068444                316342  Programação Paralela                          ...     SS     -2\n",
       "458     20142  160074509                316334  Estágio de Docência no Ensino de Graduação em ...     SS     -2\n",
       "459     20142  160074509                316415  Seminário                                     ...     SS     -2\n",
       "460     20142  160074509                316504  Tópicos em Fundamentos e Métodos de Computação...     SS     -2\n",
       "461     20142  160094518                316296  Teoria da Computação                          ...     MS     -2\n",
       "462     20142  160094518                316547  Proficiência em Inglês                        ...     DP     -2\n",
       "463     20142  170065961                316334  Estágio de Docência no Ensino de Graduação em ...     SS     -4\n",
       "464     20142  170065961                316504  Tópicos em Fundamentos e Métodos de Computação...     SS     -4\n",
       "465     20142  170066002                316547  Proficiência em Inglês                        ...     AP     -4\n",
       "466     20142  170066011                316261  Tópicos em Engenharia de Software             ...     SS     -4\n",
       "467     20142  170066011                316296  Teoria da Computação                          ...     SS     -4\n",
       "468     20142  180040839                316415  Seminário                                     ...     MS     -6\n",
       "469     20142  190051264                316415  Seminário                                     ...     SS     -8\n",
       "470     20142  190051264                316440  Sistemas Distribuídos                         ...     MS     -8\n",
       "471     20142  190051264                316504  Tópicos em Fundamentos e Métodos de Computação...     SS     -8\n",
       "472     20142  190051302                316296  Teoria da Computação                          ...     MM     -8\n",
       "473     20142  190051302                316334  Estágio de Docência no Ensino de Graduação em ...     SS     -8\n",
       "474     20142  190051604                316504  Tópicos em Fundamentos e Métodos de Computação...     SS     -8\n",
       "475     20142  190071231                316440  Sistemas Distribuídos                         ...     SS     -8\n",
       "479     20142  200051750                316504  Tópicos em Fundamentos e Métodos de Computação...     SS    -10\n",
       "518     20151  160062993                316296  Teoria da Computação                          ...     SS     -1\n",
       "519     20151  160063086                316393  Projeto e Complexidade de Algoritmos          ...     MM     -1\n",
       "520     20151  160063086                316491  Tópicos em Sistemas de Computação             ...     SS     -1\n",
       "521     20151  160068444                316334  Estágio de Docência no Ensino de Graduação em ...     SS     -1\n",
       "522     20151  170066011                316504  Tópicos em Fundamentos e Métodos de Computação...     SS     -3\n",
       "523     20151  170092275                316393  Projeto e Complexidade de Algoritmos          ...     MS     -3\n",
       "524     20151  170092275                316482  Tópicos em Formalismos de Computação          ...     MS     -3\n",
       "525     20151  180040634                316393  Projeto e Complexidade de Algoritmos          ...     MS     -5\n",
       "526     20151  190051256                316377  Fundamentos de Sistemas Computacionais        ...     MM     -7\n",
       "527     20151  190051256                316393  Projeto e Complexidade de Algoritmos          ...     MM     -7\n",
       "528     20151  190051256                316563  Sistemas Multiagentes                         ...     MS     -7\n",
       "529     20151  190051264                316377  Fundamentos de Sistemas Computacionais        ...     MS     -7\n",
       "530     20151  190051264                316563  Sistemas Multiagentes                         ...     MS     -7\n",
       "531     20151  190051302                316491  Tópicos em Sistemas de Computação             ...     SS     -7\n",
       "532     20151  190144645                316342  Programação Paralela                          ...     SS     -8\n",
       "533     20151  190144645                316377  Fundamentos de Sistemas Computacionais        ...     MS     -8\n",
       "534     20151  190144645                316393  Projeto e Complexidade de Algoritmos          ...     MM     -8\n",
       "535     20151  190144645                316547  Proficiência em Inglês                        ...     AP     -8\n",
       "536     20151  190150611                316482  Tópicos em Formalismos de Computação          ...     SS     -8\n",
       "572     20152  170092275                316377  Fundamentos de Sistemas Computacionais        ...     MS     -2\n",
       "578     20152  180040634                316504  Tópicos em Fundamentos e Métodos de Computação...     MS     -4\n",
       "579     20152  180061712                316580  Exame de Qualificação                         ...     AP     -4\n",
       "580     20152  190051256                316491  Tópicos em Sistemas de Computação             ...     SS     -6\n",
       "581     20152  190051256                316504  Tópicos em Fundamentos e Métodos de Computação...     SS     -6\n",
       "582     20152  190051591                316491  Tópicos em Sistemas de Computação             ...     SS     -6\n",
       "583     20152  190051591                316504  Tópicos em Fundamentos e Métodos de Computação...     SS     -6\n",
       "584     20152  190144645                316415  Seminário                                     ...     SS     -7\n",
       "585     20152  190144645                316491  Tópicos em Sistemas de Computação             ...     SS     -7\n",
       "644     20161  180040596                316377  Fundamentos de Sistemas Computacionais        ...     MS     -3\n",
       "645     20161  180040596                316393  Projeto e Complexidade de Algoritmos          ...     MM     -3\n",
       "646     20161  180040596                316547  Proficiência em Inglês                        ...     AP     -3\n",
       "647     20161  180040634                316024  Inteligência Artificial 1                     ...     SS     -3\n",
       "648     20161  180040634                316334  Estágio de Docência no Ensino de Graduação em ...     SS     -3\n",
       "649     20161  180040634                316415  Seminário                                     ...     SS     -3\n",
       "650     20161  180040812                316393  Projeto e Complexidade de Algoritmos          ...     MS     -3\n",
       "651     20161  180040812                316563  Sistemas Multiagentes                         ...     SS     -3\n",
       "652     20161  180040839                316024  Inteligência Artificial 1                     ...     SS     -3\n",
       "654     20161  180040928                316377  Fundamentos de Sistemas Computacionais        ...     SS     -3\n",
       "655     20161  180040928                316393  Projeto e Complexidade de Algoritmos          ...     MS     -3\n",
       "656     20161  180040928                316563  Sistemas Multiagentes                         ...     SS     -3\n",
       "657     20161  180061747                316393  Projeto e Complexidade de Algoritmos          ...     MM     -3\n",
       "658     20161  180061747                316491  Tópicos em Sistemas de Computação             ...     MS     -3\n",
       "659     20161  180061747                316547  Proficiência em Inglês                        ...     AP     -3\n",
       "660     20161  180073508                316393  Projeto e Complexidade de Algoritmos          ...     MS     -3\n",
       "661     20161  180073508                316491  Tópicos em Sistemas de Computação             ...     MS     -3\n",
       "662     20161  180073516                316377  Fundamentos de Sistemas Computacionais        ...     MM     -3\n",
       "663     20161  180073516                316440  Sistemas Distribuídos                         ...     MS     -3\n",
       "664     20161  180084381                316377  Fundamentos de Sistemas Computacionais        ...     MS     -3\n",
       "665     20161  180084381                316393  Projeto e Complexidade de Algoritmos          ...     MM     -3\n",
       "666     20161  180084381                316415  Seminário                                     ...     SS     -3\n",
       "667     20161  180084381                316504  Tópicos em Fundamentos e Métodos de Computação...     CC     -3\n",
       "668     20161  190051256                316334  Estágio de Docência no Ensino de Graduação em ...     SS     -5\n",
       "669     20161  190051256                316415  Seminário                                     ...     SS     -5\n",
       "670     20161  190051256                316547  Proficiência em Inglês                        ...     AP     -5\n",
       "671     20161  190051591                316377  Fundamentos de Sistemas Computacionais        ...     MM     -5\n",
       "672     20161  190051591                316393  Projeto e Complexidade de Algoritmos          ...     MM     -5\n",
       "673     20161  190144645                316334  Estágio de Docência no Ensino de Graduação em ...     SS     -6\n",
       "674     20161  190144645                316512  Trabalho Individual em Sistemas de Computação ...     SS     -6\n",
       "712     20162  180040596                316032  Inteligência Artificial 2                     ...     SS     -2\n",
       "713     20162  180040596                316334  Estágio de Docência no Ensino de Graduação em ...     SS     -2\n",
       "714     20162  180040596                316415  Seminário                                     ...     SS     -2\n",
       "715     20162  180040596                316504  Tópicos em Fundamentos e Métodos de Computação...     SS     -2\n",
       "716     20162  180040812                316377  Fundamentos de Sistemas Computacionais        ...     MS     -2\n",
       "717     20162  180040928                316342  Programação Paralela                          ...     SS     -2\n",
       "718     20162  180040928                316504  Tópicos em Fundamentos e Métodos de Computação...     SS     -2\n",
       "719     20162  180061747                316377  Fundamentos de Sistemas Computacionais        ...     MM     -2\n",
       "720     20162  180073508                316342  Programação Paralela                          ...     MS     -2\n",
       "721     20162  180073508                316377  Fundamentos de Sistemas Computacionais        ...     MS     -2\n",
       "722     20162  180073516                316296  Teoria da Computação                          ...     MM     -2\n",
       "723     20162  180073516                316491  Tópicos em Sistemas de Computação             ...     MS     -2\n",
       "724     20162  180084381                316032  Inteligência Artificial 2                     ...     SS     -2\n",
       "725     20162  180084381                316334  Estágio de Docência no Ensino de Graduação em ...     SS     -2\n",
       "732     20162  190051591                316334  Estágio de Docência no Ensino de Graduação em ...     SS     -4\n",
       "733     20162  190051591                316415  Seminário                                     ...     SS     -4\n",
       "734     20162  190071231                316342  Programação Paralela                          ...     SS     -4\n",
       "765     20171  180040596                316512  Trabalho Individual em Sistemas de Computação ...     SS     -1\n",
       "766     20171  180040723                316377  Fundamentos de Sistemas Computacionais        ...     MM     -1\n",
       "767     20171  180040812                316440  Sistemas Distribuídos                         ...     MM     -1\n",
       "768     20171  180040928                316440  Sistemas Distribuídos                         ...     MS     -1\n",
       "769     20171  180061747                316415  Seminário                                     ...     MS     -1\n",
       "770     20171  180061747                316440  Sistemas Distribuídos                         ...     MS     -1\n",
       "771     20171  180073508                316415  Seminário                                     ...     SS     -1\n",
       "772     20171  180073516                316334  Estágio de Docência no Ensino de Graduação em ...     SS     -1\n",
       "773     20171  180073516                316415  Seminário                                     ...     MS     -1\n",
       "780     20171  190051591                316521  Trabalho Individual em Fundamentos e Métodos d...     SS     -3\n",
       "781     20171  190144688                316415  Seminário                                     ...     SS     -4\n",
       "782     20171  190144688                316491  Tópicos em Sistemas de Computação             ...     MM     -4\n",
       "842     20172  190144688                316032  Inteligência Artificial 2                     ...     SS     -3\n",
       "843     20172  190144688                316041  Linguagens Declarativas                       ...     MS     -3\n",
       "844     20172  190144688                316041  Linguagens Para Inteligencia Artificial       ...     MS     -3\n",
       "845     20172  190144688                316377  Fundamentos de Sistemas Computacionais        ...     MM     -3\n",
       "925     20181  190144688                316393  Projeto e Complexidade de Algoritmos          ...     MM     -2\n",
       "926     20181  190144688                316521  Trabalho Individual em Fundamentos e Métodos d...     MS     -2\n",
       "1080    20191  200051750                316393  Projeto e Complexidade de Algoritmos          ...     MM     -1"
      ]
     },
     "execution_count": 6,
     "metadata": {},
     "output_type": "execute_result"
    }
   ],
   "source": [
    "flag_tempo = df['Tempo'] < 0\n",
    "\n",
    "erros = df[flag_tempo]\n",
    "\n",
    "erros"
   ]
  },
  {
   "cell_type": "markdown",
   "metadata": {},
   "source": [
    "### Matrículas em todas as disciplinas do PPGI"
   ]
  },
  {
   "cell_type": "code",
   "execution_count": 9,
   "metadata": {},
   "outputs": [
    {
     "ename": "ValueError",
     "evalue": "\nThe orca executable is required in order to export figures as static images,\nbut the executable that was found at '/usr/local/bin/orca'\ndoes not seem to be a valid plotly orca executable. Please refer to the end of\nthis message for details on what went wrong.\n\nIf you haven't installed orca yet, you can do so using conda as follows:\n\n    $ conda install -c plotly plotly-orca\n\nAlternatively, see other installation methods in the orca project README at\nhttps://github.com/plotly/orca\n\nAfter installation is complete, no further configuration should be needed.\n\nIf you have installed orca, then for some reason plotly.py was unable to\nlocate it. In this case, set the `plotly.io.orca.config.executable`\nproperty to the full path of your orca executable. For example:\n\n    >>> plotly.io.orca.config.executable = '/path/to/orca'\n\nAfter updating this executable property, try the export operation again.\nIf it is successful then you may want to save this configuration so that it\nwill be applied automatically in future sessions. You can do this as follows:\n\n    >>> plotly.io.orca.config.save()\n\nIf you're still having trouble, feel free to ask for help on the forums at\nhttps://community.plot.ly/c/api/python\n\nHere is the error that was returned by the command\n    $ /usr/local/bin/orca --help\n\n[Return code: 1]\n/usr/local/lib/node_modules/orca/bin/orca.js:4\nconst { spawn } = require('child_process')\n      ^\n\nSyntaxError: Unexpected token {\n    at exports.runInThisContext (vm.js:53:16)\n    at Module._compile (module.js:374:25)\n    at Object.Module._extensions..js (module.js:417:10)\n    at Module.load (module.js:344:32)\n    at Function.Module._load (module.js:301:12)\n    at Function.Module.runMain (module.js:442:10)\n    at startup (node.js:136:18)\n    at node.js:966:3\n\n",
     "output_type": "error",
     "traceback": [
      "\u001b[0;31m---------------------------------------------------------------------------\u001b[0m",
      "\u001b[0;31mValueError\u001b[0m                                Traceback (most recent call last)",
      "\u001b[0;32m<ipython-input-9-785b4437fed8>\u001b[0m in \u001b[0;36m<module>\u001b[0;34m()\u001b[0m\n\u001b[1;32m      2\u001b[0m \u001b[0;34m\u001b[0m\u001b[0m\n\u001b[1;32m      3\u001b[0m \u001b[0mfig\u001b[0m \u001b[0;34m=\u001b[0m \u001b[0mpx\u001b[0m\u001b[0;34m.\u001b[0m\u001b[0mpie\u001b[0m\u001b[0;34m(\u001b[0m\u001b[0mdf\u001b[0m\u001b[0;34m,\u001b[0m \u001b[0mnames\u001b[0m\u001b[0;34m=\u001b[0m\u001b[0;34m'Disciplina'\u001b[0m\u001b[0;34m,\u001b[0m \u001b[0mtitle\u001b[0m\u001b[0;34m=\u001b[0m\u001b[0;34m'Matrículas em todas as disciplinas do PPGI'\u001b[0m\u001b[0;34m)\u001b[0m\u001b[0;34m\u001b[0m\u001b[0;34m\u001b[0m\u001b[0m\n\u001b[0;32m----> 4\u001b[0;31m \u001b[0mfig\u001b[0m\u001b[0;34m.\u001b[0m\u001b[0mshow\u001b[0m\u001b[0;34m(\u001b[0m\u001b[0;34m\"svg\"\u001b[0m\u001b[0;34m)\u001b[0m\u001b[0;34m\u001b[0m\u001b[0;34m\u001b[0m\u001b[0m\n\u001b[0m",
      "\u001b[0;32m/usr/local/lib/python3.6/dist-packages/plotly/basedatatypes.py\u001b[0m in \u001b[0;36mshow\u001b[0;34m(self, *args, **kwargs)\u001b[0m\n\u001b[1;32m   2792\u001b[0m         \u001b[0;32mimport\u001b[0m \u001b[0mplotly\u001b[0m\u001b[0;34m.\u001b[0m\u001b[0mio\u001b[0m \u001b[0;32mas\u001b[0m \u001b[0mpio\u001b[0m\u001b[0;34m\u001b[0m\u001b[0;34m\u001b[0m\u001b[0m\n\u001b[1;32m   2793\u001b[0m \u001b[0;34m\u001b[0m\u001b[0m\n\u001b[0;32m-> 2794\u001b[0;31m         \u001b[0;32mreturn\u001b[0m \u001b[0mpio\u001b[0m\u001b[0;34m.\u001b[0m\u001b[0mshow\u001b[0m\u001b[0;34m(\u001b[0m\u001b[0mself\u001b[0m\u001b[0;34m,\u001b[0m \u001b[0;34m*\u001b[0m\u001b[0margs\u001b[0m\u001b[0;34m,\u001b[0m \u001b[0;34m**\u001b[0m\u001b[0mkwargs\u001b[0m\u001b[0;34m)\u001b[0m\u001b[0;34m\u001b[0m\u001b[0;34m\u001b[0m\u001b[0m\n\u001b[0m\u001b[1;32m   2795\u001b[0m \u001b[0;34m\u001b[0m\u001b[0m\n\u001b[1;32m   2796\u001b[0m     \u001b[0;32mdef\u001b[0m \u001b[0mto_json\u001b[0m\u001b[0;34m(\u001b[0m\u001b[0mself\u001b[0m\u001b[0;34m,\u001b[0m \u001b[0;34m*\u001b[0m\u001b[0margs\u001b[0m\u001b[0;34m,\u001b[0m \u001b[0;34m**\u001b[0m\u001b[0mkwargs\u001b[0m\u001b[0;34m)\u001b[0m\u001b[0;34m:\u001b[0m\u001b[0;34m\u001b[0m\u001b[0;34m\u001b[0m\u001b[0m\n",
      "\u001b[0;32m/usr/local/lib/python3.6/dist-packages/plotly/io/_renderers.py\u001b[0m in \u001b[0;36mshow\u001b[0;34m(fig, renderer, validate, **kwargs)\u001b[0m\n\u001b[1;32m    374\u001b[0m \u001b[0;34m\u001b[0m\u001b[0m\n\u001b[1;32m    375\u001b[0m     \u001b[0;31m# Mimetype renderers\u001b[0m\u001b[0;34m\u001b[0m\u001b[0;34m\u001b[0m\u001b[0;34m\u001b[0m\u001b[0m\n\u001b[0;32m--> 376\u001b[0;31m     \u001b[0mbundle\u001b[0m \u001b[0;34m=\u001b[0m \u001b[0mrenderers\u001b[0m\u001b[0;34m.\u001b[0m\u001b[0m_build_mime_bundle\u001b[0m\u001b[0;34m(\u001b[0m\u001b[0mfig_dict\u001b[0m\u001b[0;34m,\u001b[0m \u001b[0mrenderers_string\u001b[0m\u001b[0;34m=\u001b[0m\u001b[0mrenderer\u001b[0m\u001b[0;34m,\u001b[0m \u001b[0;34m**\u001b[0m\u001b[0mkwargs\u001b[0m\u001b[0;34m)\u001b[0m\u001b[0;34m\u001b[0m\u001b[0;34m\u001b[0m\u001b[0m\n\u001b[0m\u001b[1;32m    377\u001b[0m     \u001b[0;32mif\u001b[0m \u001b[0mbundle\u001b[0m\u001b[0;34m:\u001b[0m\u001b[0;34m\u001b[0m\u001b[0;34m\u001b[0m\u001b[0m\n\u001b[1;32m    378\u001b[0m         \u001b[0;32mif\u001b[0m \u001b[0;32mnot\u001b[0m \u001b[0mipython_display\u001b[0m\u001b[0;34m:\u001b[0m\u001b[0;34m\u001b[0m\u001b[0;34m\u001b[0m\u001b[0m\n",
      "\u001b[0;32m/usr/local/lib/python3.6/dist-packages/plotly/io/_renderers.py\u001b[0m in \u001b[0;36m_build_mime_bundle\u001b[0;34m(self, fig_dict, renderers_string, **kwargs)\u001b[0m\n\u001b[1;32m    280\u001b[0m             \u001b[0;32mfor\u001b[0m \u001b[0mrenderer\u001b[0m \u001b[0;32min\u001b[0m \u001b[0mrenderers_list\u001b[0m\u001b[0;34m:\u001b[0m\u001b[0;34m\u001b[0m\u001b[0;34m\u001b[0m\u001b[0m\n\u001b[1;32m    281\u001b[0m                 \u001b[0;32mif\u001b[0m \u001b[0misinstance\u001b[0m\u001b[0;34m(\u001b[0m\u001b[0mrenderer\u001b[0m\u001b[0;34m,\u001b[0m \u001b[0mMimetypeRenderer\u001b[0m\u001b[0;34m)\u001b[0m\u001b[0;34m:\u001b[0m\u001b[0;34m\u001b[0m\u001b[0;34m\u001b[0m\u001b[0m\n\u001b[0;32m--> 282\u001b[0;31m                     \u001b[0mrenderer\u001b[0m\u001b[0;34m.\u001b[0m\u001b[0mactivate\u001b[0m\u001b[0;34m(\u001b[0m\u001b[0;34m)\u001b[0m\u001b[0;34m\u001b[0m\u001b[0;34m\u001b[0m\u001b[0m\n\u001b[0m\u001b[1;32m    283\u001b[0m         \u001b[0;32melse\u001b[0m\u001b[0;34m:\u001b[0m\u001b[0;34m\u001b[0m\u001b[0;34m\u001b[0m\u001b[0m\n\u001b[1;32m    284\u001b[0m             \u001b[0;31m# Activate any pending default renderers\u001b[0m\u001b[0;34m\u001b[0m\u001b[0;34m\u001b[0m\u001b[0;34m\u001b[0m\u001b[0m\n",
      "\u001b[0;32m/usr/local/lib/python3.6/dist-packages/plotly/io/_base_renderers.py\u001b[0m in \u001b[0;36mactivate\u001b[0;34m(self)\u001b[0m\n\u001b[1;32m    124\u001b[0m     \u001b[0;32mdef\u001b[0m \u001b[0mactivate\u001b[0m\u001b[0;34m(\u001b[0m\u001b[0mself\u001b[0m\u001b[0;34m)\u001b[0m\u001b[0;34m:\u001b[0m\u001b[0;34m\u001b[0m\u001b[0;34m\u001b[0m\u001b[0m\n\u001b[1;32m    125\u001b[0m         \u001b[0;31m# Start up orca server to reduce the delay on first render\u001b[0m\u001b[0;34m\u001b[0m\u001b[0;34m\u001b[0m\u001b[0;34m\u001b[0m\u001b[0m\n\u001b[0;32m--> 126\u001b[0;31m         \u001b[0mensure_server\u001b[0m\u001b[0;34m(\u001b[0m\u001b[0;34m)\u001b[0m\u001b[0;34m\u001b[0m\u001b[0;34m\u001b[0m\u001b[0m\n\u001b[0m\u001b[1;32m    127\u001b[0m \u001b[0;34m\u001b[0m\u001b[0m\n\u001b[1;32m    128\u001b[0m     \u001b[0;32mdef\u001b[0m \u001b[0mto_mimebundle\u001b[0m\u001b[0;34m(\u001b[0m\u001b[0mself\u001b[0m\u001b[0;34m,\u001b[0m \u001b[0mfig_dict\u001b[0m\u001b[0;34m)\u001b[0m\u001b[0;34m:\u001b[0m\u001b[0;34m\u001b[0m\u001b[0;34m\u001b[0m\u001b[0m\n",
      "\u001b[0;32m/usr/local/lib/python3.6/dist-packages/plotly/io/_orca.py\u001b[0m in \u001b[0;36mensure_server\u001b[0;34m()\u001b[0m\n\u001b[1;32m   1388\u001b[0m         \u001b[0;31m# Validate orca executable only if server_url is not provided\u001b[0m\u001b[0;34m\u001b[0m\u001b[0;34m\u001b[0m\u001b[0;34m\u001b[0m\u001b[0m\n\u001b[1;32m   1389\u001b[0m         \u001b[0;32mif\u001b[0m \u001b[0mstatus\u001b[0m\u001b[0;34m.\u001b[0m\u001b[0mstate\u001b[0m \u001b[0;34m==\u001b[0m \u001b[0;34m\"unvalidated\"\u001b[0m\u001b[0;34m:\u001b[0m\u001b[0;34m\u001b[0m\u001b[0;34m\u001b[0m\u001b[0m\n\u001b[0;32m-> 1390\u001b[0;31m             \u001b[0mvalidate_executable\u001b[0m\u001b[0;34m(\u001b[0m\u001b[0;34m)\u001b[0m\u001b[0;34m\u001b[0m\u001b[0;34m\u001b[0m\u001b[0m\n\u001b[0m\u001b[1;32m   1391\u001b[0m         \u001b[0;31m# Acquire lock to make sure that we keep the properties of orca_state\u001b[0m\u001b[0;34m\u001b[0m\u001b[0;34m\u001b[0m\u001b[0;34m\u001b[0m\u001b[0m\n\u001b[1;32m   1392\u001b[0m         \u001b[0;31m# consistent across threads\u001b[0m\u001b[0;34m\u001b[0m\u001b[0;34m\u001b[0m\u001b[0;34m\u001b[0m\u001b[0m\n",
      "\u001b[0;32m/usr/local/lib/python3.6/dist-packages/plotly/io/_orca.py\u001b[0m in \u001b[0;36mvalidate_executable\u001b[0;34m()\u001b[0m\n\u001b[1;32m   1182\u001b[0m \u001b[0;32mfor\u001b[0m \u001b[0mmore\u001b[0m \u001b[0minfo\u001b[0m \u001b[0mon\u001b[0m \u001b[0mXvfb\u001b[0m\u001b[0;34m\u001b[0m\u001b[0;34m\u001b[0m\u001b[0m\n\u001b[1;32m   1183\u001b[0m \"\"\"\n\u001b[0;32m-> 1184\u001b[0;31m         \u001b[0;32mraise\u001b[0m \u001b[0mValueError\u001b[0m\u001b[0;34m(\u001b[0m\u001b[0merr_msg\u001b[0m\u001b[0;34m)\u001b[0m\u001b[0;34m\u001b[0m\u001b[0;34m\u001b[0m\u001b[0m\n\u001b[0m\u001b[1;32m   1185\u001b[0m \u001b[0;34m\u001b[0m\u001b[0m\n\u001b[1;32m   1186\u001b[0m     \u001b[0;32mif\u001b[0m \u001b[0;32mnot\u001b[0m \u001b[0mhelp_result\u001b[0m\u001b[0;34m:\u001b[0m\u001b[0;34m\u001b[0m\u001b[0;34m\u001b[0m\u001b[0m\n",
      "\u001b[0;31mValueError\u001b[0m: \nThe orca executable is required in order to export figures as static images,\nbut the executable that was found at '/usr/local/bin/orca'\ndoes not seem to be a valid plotly orca executable. Please refer to the end of\nthis message for details on what went wrong.\n\nIf you haven't installed orca yet, you can do so using conda as follows:\n\n    $ conda install -c plotly plotly-orca\n\nAlternatively, see other installation methods in the orca project README at\nhttps://github.com/plotly/orca\n\nAfter installation is complete, no further configuration should be needed.\n\nIf you have installed orca, then for some reason plotly.py was unable to\nlocate it. In this case, set the `plotly.io.orca.config.executable`\nproperty to the full path of your orca executable. For example:\n\n    >>> plotly.io.orca.config.executable = '/path/to/orca'\n\nAfter updating this executable property, try the export operation again.\nIf it is successful then you may want to save this configuration so that it\nwill be applied automatically in future sessions. You can do this as follows:\n\n    >>> plotly.io.orca.config.save()\n\nIf you're still having trouble, feel free to ask for help on the forums at\nhttps://community.plot.ly/c/api/python\n\nHere is the error that was returned by the command\n    $ /usr/local/bin/orca --help\n\n[Return code: 1]\n/usr/local/lib/node_modules/orca/bin/orca.js:4\nconst { spawn } = require('child_process')\n      ^\n\nSyntaxError: Unexpected token {\n    at exports.runInThisContext (vm.js:53:16)\n    at Module._compile (module.js:374:25)\n    at Object.Module._extensions..js (module.js:417:10)\n    at Module.load (module.js:344:32)\n    at Function.Module._load (module.js:301:12)\n    at Function.Module.runMain (module.js:442:10)\n    at startup (node.js:136:18)\n    at node.js:966:3\n\n"
     ]
    }
   ],
   "source": [
    "disciplinas = df.groupby(['Disciplina', 'Código da Disciplina']).size()\n",
    "\n",
    "fig = px.pie(df, names='Disciplina', title='Matrículas em todas as disciplinas do PPGI')\n",
    "fig.show(\"svg\")"
   ]
  },
  {
   "cell_type": "code",
   "execution_count": 480,
   "metadata": {},
   "outputs": [
    {
     "data": {
      "application/vnd.plotly.v1+json": {
       "config": {
        "plotlyServerURL": "https://plot.ly"
       },
       "data": [
        {
         "domain": {
          "x": [
           0,
           1
          ],
          "y": [
           0,
           1
          ]
         },
         "hovertemplate": "Menção=%{label}<extra></extra>",
         "labels": [
          "SS",
          "MS",
          "SS",
          "MS",
          "MM",
          "MS",
          "MM",
          "MM",
          "MS",
          "MS",
          "SS",
          "MS",
          "AP",
          "MM",
          "MS",
          "MM",
          "AP",
          "MS",
          "MS",
          "MM",
          "SS",
          "MM",
          "MS",
          "MS",
          "SS",
          "MM",
          "MM",
          "MS",
          "MS",
          "MS",
          "MM",
          "SS",
          "SS",
          "CC",
          "CC",
          "MM",
          "MM",
          "CC",
          "CC",
          "CC",
          "MI",
          "CC",
          "AP",
          "MS",
          "MS",
          "CC",
          "CC",
          "CC",
          "SS",
          "MS",
          "MS",
          "SS",
          "MS",
          "MM",
          "AP",
          "MS",
          "MS",
          "SS",
          "MM",
          "MS",
          "MM",
          "MM",
          "SS",
          "SS",
          "SS",
          "AP",
          "MS",
          "MM",
          "MS",
          "MS",
          "MS",
          "AP",
          "MS",
          "MS",
          "SS",
          "SS",
          "CC",
          "MS",
          "SS",
          "CC",
          "TR",
          "SS",
          "SS",
          "AP",
          "MS",
          "CC",
          "SS",
          "SS",
          "SS",
          "CC",
          "MI",
          "CC",
          "CC",
          "CC",
          "MS",
          "MS",
          "MS",
          "MM",
          "MS",
          "MM",
          "MS",
          "AP",
          "SS",
          "SS",
          "MM",
          "MM",
          "MM",
          "MS",
          "MS",
          "MS",
          "MS",
          "MS",
          "SS",
          "AP",
          "AP",
          "SS",
          "MM",
          "SS",
          "AP",
          "SS",
          "MM",
          "SS",
          "DP",
          "SS",
          "MS",
          "SS",
          "AP",
          "AP",
          "CC",
          "SS",
          "SS",
          "CC",
          "CC",
          "CC",
          "MS",
          "CC",
          "MS",
          "SS",
          "MS",
          "MM",
          "SS",
          "MS",
          "MS",
          "MS",
          "MS",
          "SS",
          "MS",
          "MS",
          "MS",
          "MS",
          "MS",
          "MS",
          "SS",
          "MS",
          "SS",
          "SS",
          "MS",
          "SS",
          "CC",
          "CC",
          "CC",
          "MS",
          "CC",
          "MS",
          "MM",
          "MS",
          "MS",
          "MS",
          "SS",
          "MS",
          "SS",
          "AP",
          "SS",
          "SS",
          "SS",
          "SS",
          "SS",
          "AP",
          "SS",
          "MM",
          "MS",
          "SS",
          "MS",
          "MS",
          "CC",
          "CC",
          "SS",
          "MM",
          "SS",
          "CC",
          "SS",
          "SS",
          "SS",
          "MS",
          "MS",
          "SS",
          "MS",
          "MS",
          "MS",
          "MS",
          "SS",
          "MS",
          "SS",
          "SS",
          "SS",
          "MS",
          "MS",
          "MS",
          "SS",
          "MM",
          "MM",
          "AP",
          "SS",
          "SS",
          "SS",
          "SS",
          "MM",
          "SS",
          "AP",
          "MS",
          "SS",
          "SS",
          "SS",
          "MM",
          "SS",
          "SS",
          "SS",
          "AP",
          "SS",
          "SS",
          "MS",
          "MS",
          "SS",
          "SS",
          "MS",
          "MS",
          "MS",
          "SS",
          "SS",
          "SS",
          "MS",
          "MM",
          "MM",
          "MS",
          "MS",
          "SS",
          "SS",
          "MM",
          "MS",
          "SS",
          "SS",
          "SS",
          "AP",
          "SS",
          "AP",
          "SS",
          "AP",
          "SS",
          "SS",
          "SS",
          "SS",
          "MS",
          "MS",
          "SS",
          "MS",
          "SS",
          "SS",
          "SS",
          "SS",
          "AP",
          "SS",
          "MM",
          "SS",
          "SS",
          "MS",
          "MS",
          "MS",
          "MM",
          "MM",
          "SS",
          "SS",
          "MM",
          "MM",
          "SS",
          "MM",
          "SS",
          "SS",
          "MS",
          "SS",
          "SS",
          "SS",
          "MS",
          "MS",
          "DP",
          "SS",
          "AP",
          "SS",
          "TR",
          "AP",
          "MS",
          "AP",
          "SS",
          "MM",
          "MM",
          "MM",
          "SS",
          "DP",
          "SS",
          "SS",
          "AP",
          "MS",
          "SS",
          "MM",
          "AP",
          "MS",
          "SS",
          "SS",
          "SS",
          "MI",
          "MI",
          "CC",
          "CC",
          "CC",
          "SS",
          "AP",
          "CC",
          "CC",
          "SS",
          "MS",
          "AP",
          "MS",
          "SS",
          "AP",
          "MM",
          "AP",
          "SR",
          "SR",
          "MS",
          "AP",
          "MM",
          "SS",
          "MS",
          "MS",
          "SS",
          "SS",
          "MS",
          "MS",
          "SS",
          "MM",
          "MS",
          "MS",
          "SS",
          "SS",
          "MS",
          "MS",
          "MS",
          "MM",
          "MS",
          "SS",
          "MS",
          "MS",
          "MM",
          "SS",
          "DP",
          "MS",
          "SS",
          "AP",
          "SS",
          "AP",
          "MS",
          "AP",
          "MM",
          "SS",
          "SS",
          "MS",
          "MS",
          "MS",
          "TR",
          "SS",
          "MS",
          "SS",
          "MS",
          "SS",
          "DP",
          "SS",
          "SS",
          "CC",
          "CC",
          "CC",
          "SS",
          "SS",
          "MS",
          "CC",
          "SS",
          "SS",
          "MS",
          "MM",
          "MS",
          "SS",
          "MM",
          "MS",
          "SS",
          "SS",
          "SS",
          "SS",
          "MS",
          "DP",
          "SS",
          "SS",
          "AP",
          "SS",
          "SS",
          "MS",
          "SS",
          "MS",
          "SS",
          "MM",
          "SS",
          "SS",
          "SS",
          "SS",
          "MM",
          "MM",
          "AP",
          "SS",
          "SS",
          "SS",
          "SS",
          "SS",
          "AP",
          "SS",
          "SS",
          "DP",
          "SS",
          "SS",
          "SS",
          "SS",
          "SS",
          "SS",
          "AP",
          "MM",
          "AP",
          "SS",
          "MS",
          "CC",
          "CC",
          "CC",
          "SS",
          "MS",
          "CC",
          "SS",
          "DP",
          "SS",
          "SS",
          "SS",
          "SS",
          "CC",
          "SS",
          "MM",
          "SS",
          "SS",
          "SS",
          "MS",
          "MS",
          "MS",
          "MM",
          "MM",
          "MS",
          "MS",
          "MS",
          "SS",
          "SS",
          "MS",
          "MM",
          "AP",
          "SS",
          "AP",
          "AP",
          "SS",
          "AP",
          "SS",
          "SS",
          "AP",
          "MS",
          "SS",
          "AP",
          "SS",
          "SS",
          "MM",
          "SS",
          "SS",
          "SS",
          "MM",
          "SS",
          "SS",
          "SS",
          "MS",
          "SS",
          "SS",
          "SS",
          "MM",
          "SS",
          "MM",
          "SS",
          "SS",
          "MS",
          "MS",
          "MS",
          "MS",
          "MS",
          "AP",
          "SS",
          "SS",
          "SS",
          "SS",
          "SS",
          "SS",
          "DP",
          "SS",
          "SS",
          "AP",
          "SS",
          "AP",
          "AP",
          "AP",
          "SS",
          "AP",
          "MS",
          "MS",
          "MS",
          "SS",
          "SS",
          "MM",
          "TR",
          "MS",
          "SS",
          "SS",
          "MS",
          "MM",
          "SS",
          "MS",
          "AP",
          "SS",
          "MS",
          "MS",
          "MS",
          "CC",
          "MS",
          "MS",
          "MM",
          "CC",
          "CC",
          "MS",
          "CC",
          "MM",
          "CC",
          "AP",
          "II",
          "MM",
          "SS",
          "SS",
          "MI",
          "MS",
          "TR",
          "SS",
          "SS",
          "SS",
          "MS",
          "MS",
          "MM",
          "AP",
          "SS",
          "SS",
          "SS",
          "MS",
          "SS",
          "SS",
          "SS",
          "MS",
          "SS",
          "MM",
          "MS",
          "AP",
          "MS",
          "MS",
          "MM",
          "MS",
          "MS",
          "MM",
          "SS",
          "CC",
          "SS",
          "SS",
          "AP",
          "MM",
          "MM",
          "SS",
          "SS",
          "SS",
          "SS",
          "SS",
          "SS",
          "AP",
          "AP",
          "AP",
          "MS",
          "SS",
          "AP",
          "SS",
          "AP",
          "MS",
          "SS",
          "SR",
          "SS",
          "MS",
          "MS",
          "SS",
          "AP",
          "MS",
          "CC",
          "SS",
          "AP",
          "MS",
          "MS",
          "MM",
          "MM",
          "SS",
          "SS",
          "MI",
          "SS",
          "AP",
          "SS",
          "MS",
          "SS",
          "SS",
          "SS",
          "SS",
          "SS",
          "MS",
          "SS",
          "SS",
          "MM",
          "MS",
          "MS",
          "MM",
          "MS",
          "SS",
          "SS",
          "SS",
          "SS",
          "SS",
          "SS",
          "SS",
          "SS",
          "SS",
          "SS",
          "AP",
          "AP",
          "MM",
          "MS",
          "SS",
          "SS",
          "SS",
          "SS",
          "SS",
          "SS",
          "SS",
          "MM",
          "MM",
          "SS",
          "MM",
          "MS",
          "SS",
          "SS",
          "SS",
          "MM",
          "MM",
          "MS",
          "MS",
          "MS",
          "SS",
          "SS",
          "MS",
          "SS",
          "SS",
          "MM",
          "AP",
          "AP",
          "AP",
          "AP",
          "AP",
          "AP",
          "SS",
          "AP",
          "SS",
          "AP",
          "SS",
          "AP",
          "MS",
          "MS",
          "AP",
          "SS",
          "AP",
          "AP",
          "SS",
          "MM",
          "SS",
          "MS",
          "AP",
          "SS",
          "MS",
          "MS",
          "MS",
          "SS",
          "SS",
          "SS",
          "SS",
          "SS",
          "AP",
          "SS",
          "SS",
          "CC",
          "CC",
          "CC",
          "CC",
          "AP",
          "CC",
          "CC",
          "SS",
          "MS",
          "CC",
          "SS",
          "CC",
          "SS",
          "SS",
          "MS",
          "MS",
          "MS",
          "MS",
          "MS",
          "MM",
          "AP",
          "SS",
          "MS",
          "MS",
          "MM",
          "SS",
          "SS",
          "AP",
          "SS",
          "AP",
          "MS",
          "AP",
          "MS",
          "AP",
          "II",
          "MM",
          "MS",
          "SS",
          "SS",
          "SS",
          "TR",
          "SS",
          "SS",
          "SS",
          "MS",
          "SS",
          "SS",
          "SS",
          "SS",
          "SS",
          "SS",
          "AP",
          "MS",
          "MS",
          "SS",
          "SS",
          "MS",
          "SS",
          "II",
          "MS",
          "SS",
          "CC",
          "SS",
          "MS",
          "MM",
          "SS",
          "CC",
          "CC",
          "CC",
          "CC",
          "MS",
          "MS",
          "SS",
          "SR",
          "II",
          "SS",
          "SS",
          "MS",
          "SS",
          "MS",
          "SS",
          "CC",
          "SS",
          "CC",
          "CC",
          "SS",
          "CC",
          "SS",
          "CC",
          "SS",
          "MS",
          "SS",
          "SS",
          "MI",
          "MS",
          "MM",
          "MS",
          "AP",
          "AP",
          "MS",
          "MM",
          "MS",
          "AP",
          "SS",
          "MS",
          "SS",
          "SS",
          "SS",
          "AP",
          "SS",
          "MS",
          "SS",
          "SS",
          "MM",
          "MM",
          "CC",
          "SS",
          "SS",
          "AP",
          "MS",
          "SS",
          "SS",
          "AP",
          "MS",
          "SS",
          "SS",
          "AP",
          "SS",
          "MS",
          "SS",
          "SS",
          "AP",
          "MS",
          "MM",
          "AP",
          "SS",
          "SS",
          "MS",
          "SS",
          "MS",
          "SS",
          "MS",
          "SS",
          "MS",
          "SS",
          "SS",
          "SS",
          "MS",
          "MS",
          "AP",
          "AP",
          "RP",
          "AP",
          "AP",
          "MS",
          "SS",
          "SS",
          "SS",
          "SS",
          "MI",
          "MS",
          "SS",
          "SS",
          "MS",
          "MI",
          "SS",
          "II",
          "MM",
          "MS",
          "MS",
          "MS",
          "CC",
          "CC",
          "SS",
          "CC",
          "SS",
          "CC",
          "MM",
          "MS",
          "SS",
          "SS",
          "MS",
          "MS",
          "MI",
          "CC",
          "CC",
          "MS",
          "SS",
          "MM",
          "AP",
          "CC",
          "CC",
          "CC",
          "SS",
          "CC",
          "AP",
          "MM",
          "CC",
          "MM",
          "MM",
          "CC",
          "CC",
          "TR",
          "CC",
          "AP",
          "CC",
          "CC",
          "CC",
          "MS",
          "SS",
          "CC",
          "CC",
          "CC",
          "SS",
          "MM",
          "CC",
          "CC",
          "CC",
          "CC",
          "SS",
          "CC",
          "MS",
          "SR",
          "MM",
          "SS",
          "CC",
          "CC",
          "CC",
          "CC",
          "SS",
          "AP",
          "MM",
          "AP",
          "SS",
          "AP",
          "AP",
          "AP",
          "AP",
          "SS",
          "SS",
          "AP",
          "MS",
          "SS",
          "MS",
          "AP",
          "AP",
          "MM",
          "MS",
          "SS",
          "AP",
          "MS",
          "MS",
          "MS",
          "MS",
          "AP",
          "MS",
          "SS",
          "AP",
          "SS",
          "AP",
          "SS",
          "MS",
          "MM",
          "MM",
          "SS",
          "MS",
          "MM",
          "SS",
          "CC",
          "MI",
          "AP",
          "MM",
          "MS",
          "SS",
          "MS",
          "CC",
          "MS",
          "MM",
          "AP",
          "SS",
          "TR",
          "MS",
          "MS",
          "MS",
          "MM",
          "AP",
          "MS",
          "MS",
          "MS",
          "SS",
          "MM",
          "MS",
          "SS",
          "SR",
          "SS"
         ],
         "legendgroup": "",
         "name": "",
         "showlegend": true,
         "type": "pie"
        }
       ],
       "layout": {
        "legend": {
         "tracegroupgap": 0
        },
        "template": {
         "data": {
          "bar": [
           {
            "error_x": {
             "color": "#2a3f5f"
            },
            "error_y": {
             "color": "#2a3f5f"
            },
            "marker": {
             "line": {
              "color": "#E5ECF6",
              "width": 0.5
             }
            },
            "type": "bar"
           }
          ],
          "barpolar": [
           {
            "marker": {
             "line": {
              "color": "#E5ECF6",
              "width": 0.5
             }
            },
            "type": "barpolar"
           }
          ],
          "carpet": [
           {
            "aaxis": {
             "endlinecolor": "#2a3f5f",
             "gridcolor": "white",
             "linecolor": "white",
             "minorgridcolor": "white",
             "startlinecolor": "#2a3f5f"
            },
            "baxis": {
             "endlinecolor": "#2a3f5f",
             "gridcolor": "white",
             "linecolor": "white",
             "minorgridcolor": "white",
             "startlinecolor": "#2a3f5f"
            },
            "type": "carpet"
           }
          ],
          "choropleth": [
           {
            "colorbar": {
             "outlinewidth": 0,
             "ticks": ""
            },
            "type": "choropleth"
           }
          ],
          "contour": [
           {
            "colorbar": {
             "outlinewidth": 0,
             "ticks": ""
            },
            "colorscale": [
             [
              0,
              "#0d0887"
             ],
             [
              0.1111111111111111,
              "#46039f"
             ],
             [
              0.2222222222222222,
              "#7201a8"
             ],
             [
              0.3333333333333333,
              "#9c179e"
             ],
             [
              0.4444444444444444,
              "#bd3786"
             ],
             [
              0.5555555555555556,
              "#d8576b"
             ],
             [
              0.6666666666666666,
              "#ed7953"
             ],
             [
              0.7777777777777778,
              "#fb9f3a"
             ],
             [
              0.8888888888888888,
              "#fdca26"
             ],
             [
              1,
              "#f0f921"
             ]
            ],
            "type": "contour"
           }
          ],
          "contourcarpet": [
           {
            "colorbar": {
             "outlinewidth": 0,
             "ticks": ""
            },
            "type": "contourcarpet"
           }
          ],
          "heatmap": [
           {
            "colorbar": {
             "outlinewidth": 0,
             "ticks": ""
            },
            "colorscale": [
             [
              0,
              "#0d0887"
             ],
             [
              0.1111111111111111,
              "#46039f"
             ],
             [
              0.2222222222222222,
              "#7201a8"
             ],
             [
              0.3333333333333333,
              "#9c179e"
             ],
             [
              0.4444444444444444,
              "#bd3786"
             ],
             [
              0.5555555555555556,
              "#d8576b"
             ],
             [
              0.6666666666666666,
              "#ed7953"
             ],
             [
              0.7777777777777778,
              "#fb9f3a"
             ],
             [
              0.8888888888888888,
              "#fdca26"
             ],
             [
              1,
              "#f0f921"
             ]
            ],
            "type": "heatmap"
           }
          ],
          "heatmapgl": [
           {
            "colorbar": {
             "outlinewidth": 0,
             "ticks": ""
            },
            "colorscale": [
             [
              0,
              "#0d0887"
             ],
             [
              0.1111111111111111,
              "#46039f"
             ],
             [
              0.2222222222222222,
              "#7201a8"
             ],
             [
              0.3333333333333333,
              "#9c179e"
             ],
             [
              0.4444444444444444,
              "#bd3786"
             ],
             [
              0.5555555555555556,
              "#d8576b"
             ],
             [
              0.6666666666666666,
              "#ed7953"
             ],
             [
              0.7777777777777778,
              "#fb9f3a"
             ],
             [
              0.8888888888888888,
              "#fdca26"
             ],
             [
              1,
              "#f0f921"
             ]
            ],
            "type": "heatmapgl"
           }
          ],
          "histogram": [
           {
            "marker": {
             "colorbar": {
              "outlinewidth": 0,
              "ticks": ""
             }
            },
            "type": "histogram"
           }
          ],
          "histogram2d": [
           {
            "colorbar": {
             "outlinewidth": 0,
             "ticks": ""
            },
            "colorscale": [
             [
              0,
              "#0d0887"
             ],
             [
              0.1111111111111111,
              "#46039f"
             ],
             [
              0.2222222222222222,
              "#7201a8"
             ],
             [
              0.3333333333333333,
              "#9c179e"
             ],
             [
              0.4444444444444444,
              "#bd3786"
             ],
             [
              0.5555555555555556,
              "#d8576b"
             ],
             [
              0.6666666666666666,
              "#ed7953"
             ],
             [
              0.7777777777777778,
              "#fb9f3a"
             ],
             [
              0.8888888888888888,
              "#fdca26"
             ],
             [
              1,
              "#f0f921"
             ]
            ],
            "type": "histogram2d"
           }
          ],
          "histogram2dcontour": [
           {
            "colorbar": {
             "outlinewidth": 0,
             "ticks": ""
            },
            "colorscale": [
             [
              0,
              "#0d0887"
             ],
             [
              0.1111111111111111,
              "#46039f"
             ],
             [
              0.2222222222222222,
              "#7201a8"
             ],
             [
              0.3333333333333333,
              "#9c179e"
             ],
             [
              0.4444444444444444,
              "#bd3786"
             ],
             [
              0.5555555555555556,
              "#d8576b"
             ],
             [
              0.6666666666666666,
              "#ed7953"
             ],
             [
              0.7777777777777778,
              "#fb9f3a"
             ],
             [
              0.8888888888888888,
              "#fdca26"
             ],
             [
              1,
              "#f0f921"
             ]
            ],
            "type": "histogram2dcontour"
           }
          ],
          "mesh3d": [
           {
            "colorbar": {
             "outlinewidth": 0,
             "ticks": ""
            },
            "type": "mesh3d"
           }
          ],
          "parcoords": [
           {
            "line": {
             "colorbar": {
              "outlinewidth": 0,
              "ticks": ""
             }
            },
            "type": "parcoords"
           }
          ],
          "pie": [
           {
            "automargin": true,
            "type": "pie"
           }
          ],
          "scatter": [
           {
            "marker": {
             "colorbar": {
              "outlinewidth": 0,
              "ticks": ""
             }
            },
            "type": "scatter"
           }
          ],
          "scatter3d": [
           {
            "line": {
             "colorbar": {
              "outlinewidth": 0,
              "ticks": ""
             }
            },
            "marker": {
             "colorbar": {
              "outlinewidth": 0,
              "ticks": ""
             }
            },
            "type": "scatter3d"
           }
          ],
          "scattercarpet": [
           {
            "marker": {
             "colorbar": {
              "outlinewidth": 0,
              "ticks": ""
             }
            },
            "type": "scattercarpet"
           }
          ],
          "scattergeo": [
           {
            "marker": {
             "colorbar": {
              "outlinewidth": 0,
              "ticks": ""
             }
            },
            "type": "scattergeo"
           }
          ],
          "scattergl": [
           {
            "marker": {
             "colorbar": {
              "outlinewidth": 0,
              "ticks": ""
             }
            },
            "type": "scattergl"
           }
          ],
          "scattermapbox": [
           {
            "marker": {
             "colorbar": {
              "outlinewidth": 0,
              "ticks": ""
             }
            },
            "type": "scattermapbox"
           }
          ],
          "scatterpolar": [
           {
            "marker": {
             "colorbar": {
              "outlinewidth": 0,
              "ticks": ""
             }
            },
            "type": "scatterpolar"
           }
          ],
          "scatterpolargl": [
           {
            "marker": {
             "colorbar": {
              "outlinewidth": 0,
              "ticks": ""
             }
            },
            "type": "scatterpolargl"
           }
          ],
          "scatterternary": [
           {
            "marker": {
             "colorbar": {
              "outlinewidth": 0,
              "ticks": ""
             }
            },
            "type": "scatterternary"
           }
          ],
          "surface": [
           {
            "colorbar": {
             "outlinewidth": 0,
             "ticks": ""
            },
            "colorscale": [
             [
              0,
              "#0d0887"
             ],
             [
              0.1111111111111111,
              "#46039f"
             ],
             [
              0.2222222222222222,
              "#7201a8"
             ],
             [
              0.3333333333333333,
              "#9c179e"
             ],
             [
              0.4444444444444444,
              "#bd3786"
             ],
             [
              0.5555555555555556,
              "#d8576b"
             ],
             [
              0.6666666666666666,
              "#ed7953"
             ],
             [
              0.7777777777777778,
              "#fb9f3a"
             ],
             [
              0.8888888888888888,
              "#fdca26"
             ],
             [
              1,
              "#f0f921"
             ]
            ],
            "type": "surface"
           }
          ],
          "table": [
           {
            "cells": {
             "fill": {
              "color": "#EBF0F8"
             },
             "line": {
              "color": "white"
             }
            },
            "header": {
             "fill": {
              "color": "#C8D4E3"
             },
             "line": {
              "color": "white"
             }
            },
            "type": "table"
           }
          ]
         },
         "layout": {
          "annotationdefaults": {
           "arrowcolor": "#2a3f5f",
           "arrowhead": 0,
           "arrowwidth": 1
          },
          "coloraxis": {
           "colorbar": {
            "outlinewidth": 0,
            "ticks": ""
           }
          },
          "colorscale": {
           "diverging": [
            [
             0,
             "#8e0152"
            ],
            [
             0.1,
             "#c51b7d"
            ],
            [
             0.2,
             "#de77ae"
            ],
            [
             0.3,
             "#f1b6da"
            ],
            [
             0.4,
             "#fde0ef"
            ],
            [
             0.5,
             "#f7f7f7"
            ],
            [
             0.6,
             "#e6f5d0"
            ],
            [
             0.7,
             "#b8e186"
            ],
            [
             0.8,
             "#7fbc41"
            ],
            [
             0.9,
             "#4d9221"
            ],
            [
             1,
             "#276419"
            ]
           ],
           "sequential": [
            [
             0,
             "#0d0887"
            ],
            [
             0.1111111111111111,
             "#46039f"
            ],
            [
             0.2222222222222222,
             "#7201a8"
            ],
            [
             0.3333333333333333,
             "#9c179e"
            ],
            [
             0.4444444444444444,
             "#bd3786"
            ],
            [
             0.5555555555555556,
             "#d8576b"
            ],
            [
             0.6666666666666666,
             "#ed7953"
            ],
            [
             0.7777777777777778,
             "#fb9f3a"
            ],
            [
             0.8888888888888888,
             "#fdca26"
            ],
            [
             1,
             "#f0f921"
            ]
           ],
           "sequentialminus": [
            [
             0,
             "#0d0887"
            ],
            [
             0.1111111111111111,
             "#46039f"
            ],
            [
             0.2222222222222222,
             "#7201a8"
            ],
            [
             0.3333333333333333,
             "#9c179e"
            ],
            [
             0.4444444444444444,
             "#bd3786"
            ],
            [
             0.5555555555555556,
             "#d8576b"
            ],
            [
             0.6666666666666666,
             "#ed7953"
            ],
            [
             0.7777777777777778,
             "#fb9f3a"
            ],
            [
             0.8888888888888888,
             "#fdca26"
            ],
            [
             1,
             "#f0f921"
            ]
           ]
          },
          "colorway": [
           "#636efa",
           "#EF553B",
           "#00cc96",
           "#ab63fa",
           "#FFA15A",
           "#19d3f3",
           "#FF6692",
           "#B6E880",
           "#FF97FF",
           "#FECB52"
          ],
          "font": {
           "color": "#2a3f5f"
          },
          "geo": {
           "bgcolor": "white",
           "lakecolor": "white",
           "landcolor": "#E5ECF6",
           "showlakes": true,
           "showland": true,
           "subunitcolor": "white"
          },
          "hoverlabel": {
           "align": "left"
          },
          "hovermode": "closest",
          "mapbox": {
           "style": "light"
          },
          "paper_bgcolor": "white",
          "plot_bgcolor": "#E5ECF6",
          "polar": {
           "angularaxis": {
            "gridcolor": "white",
            "linecolor": "white",
            "ticks": ""
           },
           "bgcolor": "#E5ECF6",
           "radialaxis": {
            "gridcolor": "white",
            "linecolor": "white",
            "ticks": ""
           }
          },
          "scene": {
           "xaxis": {
            "backgroundcolor": "#E5ECF6",
            "gridcolor": "white",
            "gridwidth": 2,
            "linecolor": "white",
            "showbackground": true,
            "ticks": "",
            "zerolinecolor": "white"
           },
           "yaxis": {
            "backgroundcolor": "#E5ECF6",
            "gridcolor": "white",
            "gridwidth": 2,
            "linecolor": "white",
            "showbackground": true,
            "ticks": "",
            "zerolinecolor": "white"
           },
           "zaxis": {
            "backgroundcolor": "#E5ECF6",
            "gridcolor": "white",
            "gridwidth": 2,
            "linecolor": "white",
            "showbackground": true,
            "ticks": "",
            "zerolinecolor": "white"
           }
          },
          "shapedefaults": {
           "line": {
            "color": "#2a3f5f"
           }
          },
          "ternary": {
           "aaxis": {
            "gridcolor": "white",
            "linecolor": "white",
            "ticks": ""
           },
           "baxis": {
            "gridcolor": "white",
            "linecolor": "white",
            "ticks": ""
           },
           "bgcolor": "#E5ECF6",
           "caxis": {
            "gridcolor": "white",
            "linecolor": "white",
            "ticks": ""
           }
          },
          "title": {
           "x": 0.05
          },
          "xaxis": {
           "automargin": true,
           "gridcolor": "white",
           "linecolor": "white",
           "ticks": "",
           "title": {
            "standoff": 15
           },
           "zerolinecolor": "white",
           "zerolinewidth": 2
          },
          "yaxis": {
           "automargin": true,
           "gridcolor": "white",
           "linecolor": "white",
           "ticks": "",
           "title": {
            "standoff": 15
           },
           "zerolinecolor": "white",
           "zerolinewidth": 2
          }
         }
        },
        "title": {
         "text": "Menções obtidas pelos alunos em todas as disciplinas cursadas"
        }
       }
      },
      "text/html": [
       "<div>\n",
       "        \n",
       "        \n",
       "            <div id=\"600ff483-5192-41b4-9b67-333c4d84abe3\" class=\"plotly-graph-div\" style=\"height:525px; width:100%;\"></div>\n",
       "            <script type=\"text/javascript\">\n",
       "                require([\"plotly\"], function(Plotly) {\n",
       "                    window.PLOTLYENV=window.PLOTLYENV || {};\n",
       "                    \n",
       "                if (document.getElementById(\"600ff483-5192-41b4-9b67-333c4d84abe3\")) {\n",
       "                    Plotly.newPlot(\n",
       "                        '600ff483-5192-41b4-9b67-333c4d84abe3',\n",
       "                        [{\"domain\": {\"x\": [0.0, 1.0], \"y\": [0.0, 1.0]}, \"hovertemplate\": \"Men\\u00e7\\u00e3o=%{label}<extra></extra>\", \"labels\": [\"SS\", \"MS\", \"SS\", \"MS\", \"MM\", \"MS\", \"MM\", \"MM\", \"MS\", \"MS\", \"SS\", \"MS\", \"AP\", \"MM\", \"MS\", \"MM\", \"AP\", \"MS\", \"MS\", \"MM\", \"SS\", \"MM\", \"MS\", \"MS\", \"SS\", \"MM\", \"MM\", \"MS\", \"MS\", \"MS\", \"MM\", \"SS\", \"SS\", \"CC\", \"CC\", \"MM\", \"MM\", \"CC\", \"CC\", \"CC\", \"MI\", \"CC\", \"AP\", \"MS\", \"MS\", \"CC\", \"CC\", \"CC\", \"SS\", \"MS\", \"MS\", \"SS\", \"MS\", \"MM\", \"AP\", \"MS\", \"MS\", \"SS\", \"MM\", \"MS\", \"MM\", \"MM\", \"SS\", \"SS\", \"SS\", \"AP\", \"MS\", \"MM\", \"MS\", \"MS\", \"MS\", \"AP\", \"MS\", \"MS\", \"SS\", \"SS\", \"CC\", \"MS\", \"SS\", \"CC\", \"TR\", \"SS\", \"SS\", \"AP\", \"MS\", \"CC\", \"SS\", \"SS\", \"SS\", \"CC\", \"MI\", \"CC\", \"CC\", \"CC\", \"MS\", \"MS\", \"MS\", \"MM\", \"MS\", \"MM\", \"MS\", \"AP\", \"SS\", \"SS\", \"MM\", \"MM\", \"MM\", \"MS\", \"MS\", \"MS\", \"MS\", \"MS\", \"SS\", \"AP\", \"AP\", \"SS\", \"MM\", \"SS\", \"AP\", \"SS\", \"MM\", \"SS\", \"DP\", \"SS\", \"MS\", \"SS\", \"AP\", \"AP\", \"CC\", \"SS\", \"SS\", \"CC\", \"CC\", \"CC\", \"MS\", \"CC\", \"MS\", \"SS\", \"MS\", \"MM\", \"SS\", \"MS\", \"MS\", \"MS\", \"MS\", \"SS\", \"MS\", \"MS\", \"MS\", \"MS\", \"MS\", \"MS\", \"SS\", \"MS\", \"SS\", \"SS\", \"MS\", \"SS\", \"CC\", \"CC\", \"CC\", \"MS\", \"CC\", \"MS\", \"MM\", \"MS\", \"MS\", \"MS\", \"SS\", \"MS\", \"SS\", \"AP\", \"SS\", \"SS\", \"SS\", \"SS\", \"SS\", \"AP\", \"SS\", \"MM\", \"MS\", \"SS\", \"MS\", \"MS\", \"CC\", \"CC\", \"SS\", \"MM\", \"SS\", \"CC\", \"SS\", \"SS\", \"SS\", \"MS\", \"MS\", \"SS\", \"MS\", \"MS\", \"MS\", \"MS\", \"SS\", \"MS\", \"SS\", \"SS\", \"SS\", \"MS\", \"MS\", \"MS\", \"SS\", \"MM\", \"MM\", \"AP\", \"SS\", \"SS\", \"SS\", \"SS\", \"MM\", \"SS\", \"AP\", \"MS\", \"SS\", \"SS\", \"SS\", \"MM\", \"SS\", \"SS\", \"SS\", \"AP\", \"SS\", \"SS\", \"MS\", \"MS\", \"SS\", \"SS\", \"MS\", \"MS\", \"MS\", \"SS\", \"SS\", \"SS\", \"MS\", \"MM\", \"MM\", \"MS\", \"MS\", \"SS\", \"SS\", \"MM\", \"MS\", \"SS\", \"SS\", \"SS\", \"AP\", \"SS\", \"AP\", \"SS\", \"AP\", \"SS\", \"SS\", \"SS\", \"SS\", \"MS\", \"MS\", \"SS\", \"MS\", \"SS\", \"SS\", \"SS\", \"SS\", \"AP\", \"SS\", \"MM\", \"SS\", \"SS\", \"MS\", \"MS\", \"MS\", \"MM\", \"MM\", \"SS\", \"SS\", \"MM\", \"MM\", \"SS\", \"MM\", \"SS\", \"SS\", \"MS\", \"SS\", \"SS\", \"SS\", \"MS\", \"MS\", \"DP\", \"SS\", \"AP\", \"SS\", \"TR\", \"AP\", \"MS\", \"AP\", \"SS\", \"MM\", \"MM\", \"MM\", \"SS\", \"DP\", \"SS\", \"SS\", \"AP\", \"MS\", \"SS\", \"MM\", \"AP\", \"MS\", \"SS\", \"SS\", \"SS\", \"MI\", \"MI\", \"CC\", \"CC\", \"CC\", \"SS\", \"AP\", \"CC\", \"CC\", \"SS\", \"MS\", \"AP\", \"MS\", \"SS\", \"AP\", \"MM\", \"AP\", \"SR\", \"SR\", \"MS\", \"AP\", \"MM\", \"SS\", \"MS\", \"MS\", \"SS\", \"SS\", \"MS\", \"MS\", \"SS\", \"MM\", \"MS\", \"MS\", \"SS\", \"SS\", \"MS\", \"MS\", \"MS\", \"MM\", \"MS\", \"SS\", \"MS\", \"MS\", \"MM\", \"SS\", \"DP\", \"MS\", \"SS\", \"AP\", \"SS\", \"AP\", \"MS\", \"AP\", \"MM\", \"SS\", \"SS\", \"MS\", \"MS\", \"MS\", \"TR\", \"SS\", \"MS\", \"SS\", \"MS\", \"SS\", \"DP\", \"SS\", \"SS\", \"CC\", \"CC\", \"CC\", \"SS\", \"SS\", \"MS\", \"CC\", \"SS\", \"SS\", \"MS\", \"MM\", \"MS\", \"SS\", \"MM\", \"MS\", \"SS\", \"SS\", \"SS\", \"SS\", \"MS\", \"DP\", \"SS\", \"SS\", \"AP\", \"SS\", \"SS\", \"MS\", \"SS\", \"MS\", \"SS\", \"MM\", \"SS\", \"SS\", \"SS\", \"SS\", \"MM\", \"MM\", \"AP\", \"SS\", \"SS\", \"SS\", \"SS\", \"SS\", \"AP\", \"SS\", \"SS\", \"DP\", \"SS\", \"SS\", \"SS\", \"SS\", \"SS\", \"SS\", \"AP\", \"MM\", \"AP\", \"SS\", \"MS\", \"CC\", \"CC\", \"CC\", \"SS\", \"MS\", \"CC\", \"SS\", \"DP\", \"SS\", \"SS\", \"SS\", \"SS\", \"CC\", \"SS\", \"MM\", \"SS\", \"SS\", \"SS\", \"MS\", \"MS\", \"MS\", \"MM\", \"MM\", \"MS\", \"MS\", \"MS\", \"SS\", \"SS\", \"MS\", \"MM\", \"AP\", \"SS\", \"AP\", \"AP\", \"SS\", \"AP\", \"SS\", \"SS\", \"AP\", \"MS\", \"SS\", \"AP\", \"SS\", \"SS\", \"MM\", \"SS\", \"SS\", \"SS\", \"MM\", \"SS\", \"SS\", \"SS\", \"MS\", \"SS\", \"SS\", \"SS\", \"MM\", \"SS\", \"MM\", \"SS\", \"SS\", \"MS\", \"MS\", \"MS\", \"MS\", \"MS\", \"AP\", \"SS\", \"SS\", \"SS\", \"SS\", \"SS\", \"SS\", \"DP\", \"SS\", \"SS\", \"AP\", \"SS\", \"AP\", \"AP\", \"AP\", \"SS\", \"AP\", \"MS\", \"MS\", \"MS\", \"SS\", \"SS\", \"MM\", \"TR\", \"MS\", \"SS\", \"SS\", \"MS\", \"MM\", \"SS\", \"MS\", \"AP\", \"SS\", \"MS\", \"MS\", \"MS\", \"CC\", \"MS\", \"MS\", \"MM\", \"CC\", \"CC\", \"MS\", \"CC\", \"MM\", \"CC\", \"AP\", \"II\", \"MM\", \"SS\", \"SS\", \"MI\", \"MS\", \"TR\", \"SS\", \"SS\", \"SS\", \"MS\", \"MS\", \"MM\", \"AP\", \"SS\", \"SS\", \"SS\", \"MS\", \"SS\", \"SS\", \"SS\", \"MS\", \"SS\", \"MM\", \"MS\", \"AP\", \"MS\", \"MS\", \"MM\", \"MS\", \"MS\", \"MM\", \"SS\", \"CC\", \"SS\", \"SS\", \"AP\", \"MM\", \"MM\", \"SS\", \"SS\", \"SS\", \"SS\", \"SS\", \"SS\", \"AP\", \"AP\", \"AP\", \"MS\", \"SS\", \"AP\", \"SS\", \"AP\", \"MS\", \"SS\", \"SR\", \"SS\", \"MS\", \"MS\", \"SS\", \"AP\", \"MS\", \"CC\", \"SS\", \"AP\", \"MS\", \"MS\", \"MM\", \"MM\", \"SS\", \"SS\", \"MI\", \"SS\", \"AP\", \"SS\", \"MS\", \"SS\", \"SS\", \"SS\", \"SS\", \"SS\", \"MS\", \"SS\", \"SS\", \"MM\", \"MS\", \"MS\", \"MM\", \"MS\", \"SS\", \"SS\", \"SS\", \"SS\", \"SS\", \"SS\", \"SS\", \"SS\", \"SS\", \"SS\", \"AP\", \"AP\", \"MM\", \"MS\", \"SS\", \"SS\", \"SS\", \"SS\", \"SS\", \"SS\", \"SS\", \"MM\", \"MM\", \"SS\", \"MM\", \"MS\", \"SS\", \"SS\", \"SS\", \"MM\", \"MM\", \"MS\", \"MS\", \"MS\", \"SS\", \"SS\", \"MS\", \"SS\", \"SS\", \"MM\", \"AP\", \"AP\", \"AP\", \"AP\", \"AP\", \"AP\", \"SS\", \"AP\", \"SS\", \"AP\", \"SS\", \"AP\", \"MS\", \"MS\", \"AP\", \"SS\", \"AP\", \"AP\", \"SS\", \"MM\", \"SS\", \"MS\", \"AP\", \"SS\", \"MS\", \"MS\", \"MS\", \"SS\", \"SS\", \"SS\", \"SS\", \"SS\", \"AP\", \"SS\", \"SS\", \"CC\", \"CC\", \"CC\", \"CC\", \"AP\", \"CC\", \"CC\", \"SS\", \"MS\", \"CC\", \"SS\", \"CC\", \"SS\", \"SS\", \"MS\", \"MS\", \"MS\", \"MS\", \"MS\", \"MM\", \"AP\", \"SS\", \"MS\", \"MS\", \"MM\", \"SS\", \"SS\", \"AP\", \"SS\", \"AP\", \"MS\", \"AP\", \"MS\", \"AP\", \"II\", \"MM\", \"MS\", \"SS\", \"SS\", \"SS\", \"TR\", \"SS\", \"SS\", \"SS\", \"MS\", \"SS\", \"SS\", \"SS\", \"SS\", \"SS\", \"SS\", \"AP\", \"MS\", \"MS\", \"SS\", \"SS\", \"MS\", \"SS\", \"II\", \"MS\", \"SS\", \"CC\", \"SS\", \"MS\", \"MM\", \"SS\", \"CC\", \"CC\", \"CC\", \"CC\", \"MS\", \"MS\", \"SS\", \"SR\", \"II\", \"SS\", \"SS\", \"MS\", \"SS\", \"MS\", \"SS\", \"CC\", \"SS\", \"CC\", \"CC\", \"SS\", \"CC\", \"SS\", \"CC\", \"SS\", \"MS\", \"SS\", \"SS\", \"MI\", \"MS\", \"MM\", \"MS\", \"AP\", \"AP\", \"MS\", \"MM\", \"MS\", \"AP\", \"SS\", \"MS\", \"SS\", \"SS\", \"SS\", \"AP\", \"SS\", \"MS\", \"SS\", \"SS\", \"MM\", \"MM\", \"CC\", \"SS\", \"SS\", \"AP\", \"MS\", \"SS\", \"SS\", \"AP\", \"MS\", \"SS\", \"SS\", \"AP\", \"SS\", \"MS\", \"SS\", \"SS\", \"AP\", \"MS\", \"MM\", \"AP\", \"SS\", \"SS\", \"MS\", \"SS\", \"MS\", \"SS\", \"MS\", \"SS\", \"MS\", \"SS\", \"SS\", \"SS\", \"MS\", \"MS\", \"AP\", \"AP\", \"RP\", \"AP\", \"AP\", \"MS\", \"SS\", \"SS\", \"SS\", \"SS\", \"MI\", \"MS\", \"SS\", \"SS\", \"MS\", \"MI\", \"SS\", \"II\", \"MM\", \"MS\", \"MS\", \"MS\", \"CC\", \"CC\", \"SS\", \"CC\", \"SS\", \"CC\", \"MM\", \"MS\", \"SS\", \"SS\", \"MS\", \"MS\", \"MI\", \"CC\", \"CC\", \"MS\", \"SS\", \"MM\", \"AP\", \"CC\", \"CC\", \"CC\", \"SS\", \"CC\", \"AP\", \"MM\", \"CC\", \"MM\", \"MM\", \"CC\", \"CC\", \"TR\", \"CC\", \"AP\", \"CC\", \"CC\", \"CC\", \"MS\", \"SS\", \"CC\", \"CC\", \"CC\", \"SS\", \"MM\", \"CC\", \"CC\", \"CC\", \"CC\", \"SS\", \"CC\", \"MS\", \"SR\", \"MM\", \"SS\", \"CC\", \"CC\", \"CC\", \"CC\", \"SS\", \"AP\", \"MM\", \"AP\", \"SS\", \"AP\", \"AP\", \"AP\", \"AP\", \"SS\", \"SS\", \"AP\", \"MS\", \"SS\", \"MS\", \"AP\", \"AP\", \"MM\", \"MS\", \"SS\", \"AP\", \"MS\", \"MS\", \"MS\", \"MS\", \"AP\", \"MS\", \"SS\", \"AP\", \"SS\", \"AP\", \"SS\", \"MS\", \"MM\", \"MM\", \"SS\", \"MS\", \"MM\", \"SS\", \"CC\", \"MI\", \"AP\", \"MM\", \"MS\", \"SS\", \"MS\", \"CC\", \"MS\", \"MM\", \"AP\", \"SS\", \"TR\", \"MS\", \"MS\", \"MS\", \"MM\", \"AP\", \"MS\", \"MS\", \"MS\", \"SS\", \"MM\", \"MS\", \"SS\", \"SR\", \"SS\"], \"legendgroup\": \"\", \"name\": \"\", \"showlegend\": true, \"type\": \"pie\"}],\n",
       "                        {\"legend\": {\"tracegroupgap\": 0}, \"template\": {\"data\": {\"bar\": [{\"error_x\": {\"color\": \"#2a3f5f\"}, \"error_y\": {\"color\": \"#2a3f5f\"}, \"marker\": {\"line\": {\"color\": \"#E5ECF6\", \"width\": 0.5}}, \"type\": \"bar\"}], \"barpolar\": [{\"marker\": {\"line\": {\"color\": \"#E5ECF6\", \"width\": 0.5}}, \"type\": \"barpolar\"}], \"carpet\": [{\"aaxis\": {\"endlinecolor\": \"#2a3f5f\", \"gridcolor\": \"white\", \"linecolor\": \"white\", \"minorgridcolor\": \"white\", \"startlinecolor\": \"#2a3f5f\"}, \"baxis\": {\"endlinecolor\": \"#2a3f5f\", \"gridcolor\": \"white\", \"linecolor\": \"white\", \"minorgridcolor\": \"white\", \"startlinecolor\": \"#2a3f5f\"}, \"type\": \"carpet\"}], \"choropleth\": [{\"colorbar\": {\"outlinewidth\": 0, \"ticks\": \"\"}, \"type\": \"choropleth\"}], \"contour\": [{\"colorbar\": {\"outlinewidth\": 0, \"ticks\": \"\"}, \"colorscale\": [[0.0, \"#0d0887\"], [0.1111111111111111, \"#46039f\"], [0.2222222222222222, \"#7201a8\"], [0.3333333333333333, \"#9c179e\"], [0.4444444444444444, \"#bd3786\"], [0.5555555555555556, \"#d8576b\"], [0.6666666666666666, \"#ed7953\"], [0.7777777777777778, \"#fb9f3a\"], [0.8888888888888888, \"#fdca26\"], [1.0, \"#f0f921\"]], \"type\": \"contour\"}], \"contourcarpet\": [{\"colorbar\": {\"outlinewidth\": 0, \"ticks\": \"\"}, \"type\": \"contourcarpet\"}], \"heatmap\": [{\"colorbar\": {\"outlinewidth\": 0, \"ticks\": \"\"}, \"colorscale\": [[0.0, \"#0d0887\"], [0.1111111111111111, \"#46039f\"], [0.2222222222222222, \"#7201a8\"], [0.3333333333333333, \"#9c179e\"], [0.4444444444444444, \"#bd3786\"], [0.5555555555555556, \"#d8576b\"], [0.6666666666666666, \"#ed7953\"], [0.7777777777777778, \"#fb9f3a\"], [0.8888888888888888, \"#fdca26\"], [1.0, \"#f0f921\"]], \"type\": \"heatmap\"}], \"heatmapgl\": [{\"colorbar\": {\"outlinewidth\": 0, \"ticks\": \"\"}, \"colorscale\": [[0.0, \"#0d0887\"], [0.1111111111111111, \"#46039f\"], [0.2222222222222222, \"#7201a8\"], [0.3333333333333333, \"#9c179e\"], [0.4444444444444444, \"#bd3786\"], [0.5555555555555556, \"#d8576b\"], [0.6666666666666666, \"#ed7953\"], [0.7777777777777778, \"#fb9f3a\"], [0.8888888888888888, \"#fdca26\"], [1.0, \"#f0f921\"]], \"type\": \"heatmapgl\"}], \"histogram\": [{\"marker\": {\"colorbar\": {\"outlinewidth\": 0, \"ticks\": \"\"}}, \"type\": \"histogram\"}], \"histogram2d\": [{\"colorbar\": {\"outlinewidth\": 0, \"ticks\": \"\"}, \"colorscale\": [[0.0, \"#0d0887\"], [0.1111111111111111, \"#46039f\"], [0.2222222222222222, \"#7201a8\"], [0.3333333333333333, \"#9c179e\"], [0.4444444444444444, \"#bd3786\"], [0.5555555555555556, \"#d8576b\"], [0.6666666666666666, \"#ed7953\"], [0.7777777777777778, \"#fb9f3a\"], [0.8888888888888888, \"#fdca26\"], [1.0, \"#f0f921\"]], \"type\": \"histogram2d\"}], \"histogram2dcontour\": [{\"colorbar\": {\"outlinewidth\": 0, \"ticks\": \"\"}, \"colorscale\": [[0.0, \"#0d0887\"], [0.1111111111111111, \"#46039f\"], [0.2222222222222222, \"#7201a8\"], [0.3333333333333333, \"#9c179e\"], [0.4444444444444444, \"#bd3786\"], [0.5555555555555556, \"#d8576b\"], [0.6666666666666666, \"#ed7953\"], [0.7777777777777778, \"#fb9f3a\"], [0.8888888888888888, \"#fdca26\"], [1.0, \"#f0f921\"]], \"type\": \"histogram2dcontour\"}], \"mesh3d\": [{\"colorbar\": {\"outlinewidth\": 0, \"ticks\": \"\"}, \"type\": \"mesh3d\"}], \"parcoords\": [{\"line\": {\"colorbar\": {\"outlinewidth\": 0, \"ticks\": \"\"}}, \"type\": \"parcoords\"}], \"pie\": [{\"automargin\": true, \"type\": \"pie\"}], \"scatter\": [{\"marker\": {\"colorbar\": {\"outlinewidth\": 0, \"ticks\": \"\"}}, \"type\": \"scatter\"}], \"scatter3d\": [{\"line\": {\"colorbar\": {\"outlinewidth\": 0, \"ticks\": \"\"}}, \"marker\": {\"colorbar\": {\"outlinewidth\": 0, \"ticks\": \"\"}}, \"type\": \"scatter3d\"}], \"scattercarpet\": [{\"marker\": {\"colorbar\": {\"outlinewidth\": 0, \"ticks\": \"\"}}, \"type\": \"scattercarpet\"}], \"scattergeo\": [{\"marker\": {\"colorbar\": {\"outlinewidth\": 0, \"ticks\": \"\"}}, \"type\": \"scattergeo\"}], \"scattergl\": [{\"marker\": {\"colorbar\": {\"outlinewidth\": 0, \"ticks\": \"\"}}, \"type\": \"scattergl\"}], \"scattermapbox\": [{\"marker\": {\"colorbar\": {\"outlinewidth\": 0, \"ticks\": \"\"}}, \"type\": \"scattermapbox\"}], \"scatterpolar\": [{\"marker\": {\"colorbar\": {\"outlinewidth\": 0, \"ticks\": \"\"}}, \"type\": \"scatterpolar\"}], \"scatterpolargl\": [{\"marker\": {\"colorbar\": {\"outlinewidth\": 0, \"ticks\": \"\"}}, \"type\": \"scatterpolargl\"}], \"scatterternary\": [{\"marker\": {\"colorbar\": {\"outlinewidth\": 0, \"ticks\": \"\"}}, \"type\": \"scatterternary\"}], \"surface\": [{\"colorbar\": {\"outlinewidth\": 0, \"ticks\": \"\"}, \"colorscale\": [[0.0, \"#0d0887\"], [0.1111111111111111, \"#46039f\"], [0.2222222222222222, \"#7201a8\"], [0.3333333333333333, \"#9c179e\"], [0.4444444444444444, \"#bd3786\"], [0.5555555555555556, \"#d8576b\"], [0.6666666666666666, \"#ed7953\"], [0.7777777777777778, \"#fb9f3a\"], [0.8888888888888888, \"#fdca26\"], [1.0, \"#f0f921\"]], \"type\": \"surface\"}], \"table\": [{\"cells\": {\"fill\": {\"color\": \"#EBF0F8\"}, \"line\": {\"color\": \"white\"}}, \"header\": {\"fill\": {\"color\": \"#C8D4E3\"}, \"line\": {\"color\": \"white\"}}, \"type\": \"table\"}]}, \"layout\": {\"annotationdefaults\": {\"arrowcolor\": \"#2a3f5f\", \"arrowhead\": 0, \"arrowwidth\": 1}, \"coloraxis\": {\"colorbar\": {\"outlinewidth\": 0, \"ticks\": \"\"}}, \"colorscale\": {\"diverging\": [[0, \"#8e0152\"], [0.1, \"#c51b7d\"], [0.2, \"#de77ae\"], [0.3, \"#f1b6da\"], [0.4, \"#fde0ef\"], [0.5, \"#f7f7f7\"], [0.6, \"#e6f5d0\"], [0.7, \"#b8e186\"], [0.8, \"#7fbc41\"], [0.9, \"#4d9221\"], [1, \"#276419\"]], \"sequential\": [[0.0, \"#0d0887\"], [0.1111111111111111, \"#46039f\"], [0.2222222222222222, \"#7201a8\"], [0.3333333333333333, \"#9c179e\"], [0.4444444444444444, \"#bd3786\"], [0.5555555555555556, \"#d8576b\"], [0.6666666666666666, \"#ed7953\"], [0.7777777777777778, \"#fb9f3a\"], [0.8888888888888888, \"#fdca26\"], [1.0, \"#f0f921\"]], \"sequentialminus\": [[0.0, \"#0d0887\"], [0.1111111111111111, \"#46039f\"], [0.2222222222222222, \"#7201a8\"], [0.3333333333333333, \"#9c179e\"], [0.4444444444444444, \"#bd3786\"], [0.5555555555555556, \"#d8576b\"], [0.6666666666666666, \"#ed7953\"], [0.7777777777777778, \"#fb9f3a\"], [0.8888888888888888, \"#fdca26\"], [1.0, \"#f0f921\"]]}, \"colorway\": [\"#636efa\", \"#EF553B\", \"#00cc96\", \"#ab63fa\", \"#FFA15A\", \"#19d3f3\", \"#FF6692\", \"#B6E880\", \"#FF97FF\", \"#FECB52\"], \"font\": {\"color\": \"#2a3f5f\"}, \"geo\": {\"bgcolor\": \"white\", \"lakecolor\": \"white\", \"landcolor\": \"#E5ECF6\", \"showlakes\": true, \"showland\": true, \"subunitcolor\": \"white\"}, \"hoverlabel\": {\"align\": \"left\"}, \"hovermode\": \"closest\", \"mapbox\": {\"style\": \"light\"}, \"paper_bgcolor\": \"white\", \"plot_bgcolor\": \"#E5ECF6\", \"polar\": {\"angularaxis\": {\"gridcolor\": \"white\", \"linecolor\": \"white\", \"ticks\": \"\"}, \"bgcolor\": \"#E5ECF6\", \"radialaxis\": {\"gridcolor\": \"white\", \"linecolor\": \"white\", \"ticks\": \"\"}}, \"scene\": {\"xaxis\": {\"backgroundcolor\": \"#E5ECF6\", \"gridcolor\": \"white\", \"gridwidth\": 2, \"linecolor\": \"white\", \"showbackground\": true, \"ticks\": \"\", \"zerolinecolor\": \"white\"}, \"yaxis\": {\"backgroundcolor\": \"#E5ECF6\", \"gridcolor\": \"white\", \"gridwidth\": 2, \"linecolor\": \"white\", \"showbackground\": true, \"ticks\": \"\", \"zerolinecolor\": \"white\"}, \"zaxis\": {\"backgroundcolor\": \"#E5ECF6\", \"gridcolor\": \"white\", \"gridwidth\": 2, \"linecolor\": \"white\", \"showbackground\": true, \"ticks\": \"\", \"zerolinecolor\": \"white\"}}, \"shapedefaults\": {\"line\": {\"color\": \"#2a3f5f\"}}, \"ternary\": {\"aaxis\": {\"gridcolor\": \"white\", \"linecolor\": \"white\", \"ticks\": \"\"}, \"baxis\": {\"gridcolor\": \"white\", \"linecolor\": \"white\", \"ticks\": \"\"}, \"bgcolor\": \"#E5ECF6\", \"caxis\": {\"gridcolor\": \"white\", \"linecolor\": \"white\", \"ticks\": \"\"}}, \"title\": {\"x\": 0.05}, \"xaxis\": {\"automargin\": true, \"gridcolor\": \"white\", \"linecolor\": \"white\", \"ticks\": \"\", \"title\": {\"standoff\": 15}, \"zerolinecolor\": \"white\", \"zerolinewidth\": 2}, \"yaxis\": {\"automargin\": true, \"gridcolor\": \"white\", \"linecolor\": \"white\", \"ticks\": \"\", \"title\": {\"standoff\": 15}, \"zerolinecolor\": \"white\", \"zerolinewidth\": 2}}}, \"title\": {\"text\": \"Men\\u00e7\\u00f5es obtidas pelos alunos em todas as disciplinas cursadas\"}},\n",
       "                        {\"responsive\": true}\n",
       "                    ).then(function(){\n",
       "                            \n",
       "var gd = document.getElementById('600ff483-5192-41b4-9b67-333c4d84abe3');\n",
       "var x = new MutationObserver(function (mutations, observer) {{\n",
       "        var display = window.getComputedStyle(gd).display;\n",
       "        if (!display || display === 'none') {{\n",
       "            console.log([gd, 'removed!']);\n",
       "            Plotly.purge(gd);\n",
       "            observer.disconnect();\n",
       "        }}\n",
       "}});\n",
       "\n",
       "// Listen for the removal of the full notebook cells\n",
       "var notebookContainer = gd.closest('#notebook-container');\n",
       "if (notebookContainer) {{\n",
       "    x.observe(notebookContainer, {childList: true});\n",
       "}}\n",
       "\n",
       "// Listen for the clearing of the current output cell\n",
       "var outputEl = gd.closest('.output');\n",
       "if (outputEl) {{\n",
       "    x.observe(outputEl, {childList: true});\n",
       "}}\n",
       "\n",
       "                        })\n",
       "                };\n",
       "                });\n",
       "            </script>\n",
       "        </div>"
      ]
     },
     "metadata": {},
     "output_type": "display_data"
    }
   ],
   "source": [
    "fig = px.pie(df, names='Menção', title='Menções obtidas pelos alunos em todas as disciplinas cursadas')\n",
    "fig.show()"
   ]
  },
  {
   "cell_type": "code",
   "execution_count": 481,
   "metadata": {},
   "outputs": [
    {
     "data": {
      "application/vnd.plotly.v1+json": {
       "config": {
        "plotlyServerURL": "https://plot.ly"
       },
       "data": [
        {
         "domain": {
          "x": [
           0,
           1
          ],
          "y": [
           0,
           1
          ]
         },
         "hovertemplate": "Disciplina=%{label}<extra></extra>",
         "labels": [
          "Inteligência Artificial 1                                             ",
          "Sistemas Multiagentes                                                 ",
          "Engenharia de Software 1                                              ",
          "Engenharia de Software 2                                              ",
          "Tópicos em Engenharia de Software                                     ",
          "Tópicos em Fundamentos e Métodos de Computação                        ",
          "Tópicos em Sistemas de Computação                                     ",
          "Tópicos em Fundamentos e Métodos de Computação                        ",
          "Tópicos de Pesquisa em Informática                                    ",
          "Inteligência Artificial 2                                             ",
          "Sistemas Multiagentes                                                 ",
          "Tópicos em Fundamentos e Métodos de Computação                        ",
          "Lógica Formal Aplicada                                                ",
          "Processamento de Imagens Digitais                                     ",
          "Tópicos em Sistemas de Computação                                     ",
          "Tópicos em Fundamentos e Métodos de Computação                        ",
          "Teoria da Computação                                                  ",
          "Teoria da Computação                                                  ",
          "Fundamentos de Sistemas Computacionais                                ",
          "Processamento de Imagens Digitais                                     ",
          "Reconhecimento de Padrões                                             ",
          "Teoria da Computação                                                  ",
          "Fundamentos de Sistemas Computacionais                                ",
          "Processamento de Imagens Digitais                                     ",
          "Reconhecimento de Padrões                                             ",
          "Inteligência Artificial 2                                             ",
          "Engenharia de Software 1                                              ",
          "Sistemas Distribuídos                                                 ",
          "Teoria da Computação                                                  ",
          "Programação Paralela                                                  ",
          "Projeto e Complexidade de Algoritmos                                  ",
          "Tópicos Avançados em Sistemas de Computação                           ",
          "Inteligência Artificial 1                                             ",
          "Engenharia de Software 1                                              ",
          "Engenharia de Software 2                                              ",
          "Tópicos em Engenharia de Software                                     ",
          "Tópicos em Fundamentos e Métodos de Computação                        ",
          "Projeto e Complexidade de Algoritmos                                  ",
          "Tópicos em Fundamentos e Métodos de Computação                        ",
          "Proficiência em Inglês                                                ",
          "Proficiência em Inglês                                                ",
          "Proficiência em Inglês                                                ",
          "Projeto e Complexidade de Algoritmos                                  ",
          "Teoria da Computação                                                  ",
          "Programação Paralela                                                  ",
          "Projeto e Complexidade de Algoritmos                                  ",
          "Tópicos em Fundamentos e Métodos de Computação                        ",
          "Tópicos em Fundamentos e Métodos de Computação                        ",
          "Tópicos em Sistemas de Computação                                     ",
          "Teoria da Computação                                                  ",
          "Fundamentos de Sistemas Computacionais                                ",
          "Projeto e Complexidade de Algoritmos                                  ",
          "Tópicos em Fundamentos e Métodos de Computação                        ",
          "Inteligência Artificial 1                                             ",
          "Teoria da Computação                                                  ",
          "Projeto e Complexidade de Algoritmos                                  ",
          "Tópicos em Sistemas de Computação                                     ",
          "Tópicos em Sistemas de Computação                                     ",
          "Tópicos em Sistemas de Computação                                     ",
          "Tópicos em Fundamentos e Métodos de Computação                        ",
          "Tópicos de Pesquisa em Informática                                    ",
          "Tópicos Avançados em Sistemas de Computação                           ",
          "Teoria da Computação                                                  ",
          "Projeto e Complexidade de Algoritmos                                  ",
          "Arquiteturas VLSI                                                     ",
          "Processamento de Imagens                                              ",
          "Tópicos Avançados em Sistemas de Computação                           ",
          "Projeto e Complexidade de Algoritmos                                  ",
          "Tópicos em Engenharia de Software                                     ",
          "Teoria da Computação                                                  ",
          "Projeto e Complexidade de Algoritmos                                  ",
          "Tópicos em Sistemas de Computação                                     ",
          "Projeto e Complexidade de Algoritmos                                  ",
          "Projeto e Complexidade de Algorítmos 2                                ",
          "Teoria da Computação                                                  ",
          "Projeto e Complexidade de Algoritmos                                  ",
          "Arquiteturas VLSI                                                     ",
          "Processamento de Imagens                                              ",
          "Tópicos Avançados em Sistemas de Computação                           ",
          "Sistemas Distribuídos                                                 ",
          "Tópicos em Formalismos de Computação                                  ",
          "Tópicos em Fundamentos e Métodos de Computação                        ",
          "Tópicos Avançados em Sistemas de Computação                           ",
          "Inteligência Artificial 1                                             ",
          "Teoria da Computação                                                  ",
          "Tópicos em Sistemas de Computação                                     ",
          "Tópicos em Fundamentos e Métodos de Computação                        ",
          "Tópicos Avançados em Sistemas de Computação                           ",
          "Inteligência Artificial 1                                             ",
          "Inteligência Artificial 2                                             ",
          "Teoria da Computação                                                  ",
          "Projeto e Complexidade de Algoritmos                                  ",
          "Processamento de Imagens                                              ",
          "Processamento de Imagens                                              ",
          "Tópicos em Fundamentos e Métodos de Computação                        ",
          "Tópicos de Pesquisa em Informática                                    ",
          "Tópicos Avançados em Sistemas de Computação                           ",
          "Tópicos em Sistemas de Computação                                     ",
          "Proficiência em Inglês                                                "
         ],
         "legendgroup": "",
         "name": "",
         "showlegend": true,
         "type": "pie"
        }
       ],
       "layout": {
        "legend": {
         "tracegroupgap": 0
        },
        "template": {
         "data": {
          "bar": [
           {
            "error_x": {
             "color": "#2a3f5f"
            },
            "error_y": {
             "color": "#2a3f5f"
            },
            "marker": {
             "line": {
              "color": "#E5ECF6",
              "width": 0.5
             }
            },
            "type": "bar"
           }
          ],
          "barpolar": [
           {
            "marker": {
             "line": {
              "color": "#E5ECF6",
              "width": 0.5
             }
            },
            "type": "barpolar"
           }
          ],
          "carpet": [
           {
            "aaxis": {
             "endlinecolor": "#2a3f5f",
             "gridcolor": "white",
             "linecolor": "white",
             "minorgridcolor": "white",
             "startlinecolor": "#2a3f5f"
            },
            "baxis": {
             "endlinecolor": "#2a3f5f",
             "gridcolor": "white",
             "linecolor": "white",
             "minorgridcolor": "white",
             "startlinecolor": "#2a3f5f"
            },
            "type": "carpet"
           }
          ],
          "choropleth": [
           {
            "colorbar": {
             "outlinewidth": 0,
             "ticks": ""
            },
            "type": "choropleth"
           }
          ],
          "contour": [
           {
            "colorbar": {
             "outlinewidth": 0,
             "ticks": ""
            },
            "colorscale": [
             [
              0,
              "#0d0887"
             ],
             [
              0.1111111111111111,
              "#46039f"
             ],
             [
              0.2222222222222222,
              "#7201a8"
             ],
             [
              0.3333333333333333,
              "#9c179e"
             ],
             [
              0.4444444444444444,
              "#bd3786"
             ],
             [
              0.5555555555555556,
              "#d8576b"
             ],
             [
              0.6666666666666666,
              "#ed7953"
             ],
             [
              0.7777777777777778,
              "#fb9f3a"
             ],
             [
              0.8888888888888888,
              "#fdca26"
             ],
             [
              1,
              "#f0f921"
             ]
            ],
            "type": "contour"
           }
          ],
          "contourcarpet": [
           {
            "colorbar": {
             "outlinewidth": 0,
             "ticks": ""
            },
            "type": "contourcarpet"
           }
          ],
          "heatmap": [
           {
            "colorbar": {
             "outlinewidth": 0,
             "ticks": ""
            },
            "colorscale": [
             [
              0,
              "#0d0887"
             ],
             [
              0.1111111111111111,
              "#46039f"
             ],
             [
              0.2222222222222222,
              "#7201a8"
             ],
             [
              0.3333333333333333,
              "#9c179e"
             ],
             [
              0.4444444444444444,
              "#bd3786"
             ],
             [
              0.5555555555555556,
              "#d8576b"
             ],
             [
              0.6666666666666666,
              "#ed7953"
             ],
             [
              0.7777777777777778,
              "#fb9f3a"
             ],
             [
              0.8888888888888888,
              "#fdca26"
             ],
             [
              1,
              "#f0f921"
             ]
            ],
            "type": "heatmap"
           }
          ],
          "heatmapgl": [
           {
            "colorbar": {
             "outlinewidth": 0,
             "ticks": ""
            },
            "colorscale": [
             [
              0,
              "#0d0887"
             ],
             [
              0.1111111111111111,
              "#46039f"
             ],
             [
              0.2222222222222222,
              "#7201a8"
             ],
             [
              0.3333333333333333,
              "#9c179e"
             ],
             [
              0.4444444444444444,
              "#bd3786"
             ],
             [
              0.5555555555555556,
              "#d8576b"
             ],
             [
              0.6666666666666666,
              "#ed7953"
             ],
             [
              0.7777777777777778,
              "#fb9f3a"
             ],
             [
              0.8888888888888888,
              "#fdca26"
             ],
             [
              1,
              "#f0f921"
             ]
            ],
            "type": "heatmapgl"
           }
          ],
          "histogram": [
           {
            "marker": {
             "colorbar": {
              "outlinewidth": 0,
              "ticks": ""
             }
            },
            "type": "histogram"
           }
          ],
          "histogram2d": [
           {
            "colorbar": {
             "outlinewidth": 0,
             "ticks": ""
            },
            "colorscale": [
             [
              0,
              "#0d0887"
             ],
             [
              0.1111111111111111,
              "#46039f"
             ],
             [
              0.2222222222222222,
              "#7201a8"
             ],
             [
              0.3333333333333333,
              "#9c179e"
             ],
             [
              0.4444444444444444,
              "#bd3786"
             ],
             [
              0.5555555555555556,
              "#d8576b"
             ],
             [
              0.6666666666666666,
              "#ed7953"
             ],
             [
              0.7777777777777778,
              "#fb9f3a"
             ],
             [
              0.8888888888888888,
              "#fdca26"
             ],
             [
              1,
              "#f0f921"
             ]
            ],
            "type": "histogram2d"
           }
          ],
          "histogram2dcontour": [
           {
            "colorbar": {
             "outlinewidth": 0,
             "ticks": ""
            },
            "colorscale": [
             [
              0,
              "#0d0887"
             ],
             [
              0.1111111111111111,
              "#46039f"
             ],
             [
              0.2222222222222222,
              "#7201a8"
             ],
             [
              0.3333333333333333,
              "#9c179e"
             ],
             [
              0.4444444444444444,
              "#bd3786"
             ],
             [
              0.5555555555555556,
              "#d8576b"
             ],
             [
              0.6666666666666666,
              "#ed7953"
             ],
             [
              0.7777777777777778,
              "#fb9f3a"
             ],
             [
              0.8888888888888888,
              "#fdca26"
             ],
             [
              1,
              "#f0f921"
             ]
            ],
            "type": "histogram2dcontour"
           }
          ],
          "mesh3d": [
           {
            "colorbar": {
             "outlinewidth": 0,
             "ticks": ""
            },
            "type": "mesh3d"
           }
          ],
          "parcoords": [
           {
            "line": {
             "colorbar": {
              "outlinewidth": 0,
              "ticks": ""
             }
            },
            "type": "parcoords"
           }
          ],
          "pie": [
           {
            "automargin": true,
            "type": "pie"
           }
          ],
          "scatter": [
           {
            "marker": {
             "colorbar": {
              "outlinewidth": 0,
              "ticks": ""
             }
            },
            "type": "scatter"
           }
          ],
          "scatter3d": [
           {
            "line": {
             "colorbar": {
              "outlinewidth": 0,
              "ticks": ""
             }
            },
            "marker": {
             "colorbar": {
              "outlinewidth": 0,
              "ticks": ""
             }
            },
            "type": "scatter3d"
           }
          ],
          "scattercarpet": [
           {
            "marker": {
             "colorbar": {
              "outlinewidth": 0,
              "ticks": ""
             }
            },
            "type": "scattercarpet"
           }
          ],
          "scattergeo": [
           {
            "marker": {
             "colorbar": {
              "outlinewidth": 0,
              "ticks": ""
             }
            },
            "type": "scattergeo"
           }
          ],
          "scattergl": [
           {
            "marker": {
             "colorbar": {
              "outlinewidth": 0,
              "ticks": ""
             }
            },
            "type": "scattergl"
           }
          ],
          "scattermapbox": [
           {
            "marker": {
             "colorbar": {
              "outlinewidth": 0,
              "ticks": ""
             }
            },
            "type": "scattermapbox"
           }
          ],
          "scatterpolar": [
           {
            "marker": {
             "colorbar": {
              "outlinewidth": 0,
              "ticks": ""
             }
            },
            "type": "scatterpolar"
           }
          ],
          "scatterpolargl": [
           {
            "marker": {
             "colorbar": {
              "outlinewidth": 0,
              "ticks": ""
             }
            },
            "type": "scatterpolargl"
           }
          ],
          "scatterternary": [
           {
            "marker": {
             "colorbar": {
              "outlinewidth": 0,
              "ticks": ""
             }
            },
            "type": "scatterternary"
           }
          ],
          "surface": [
           {
            "colorbar": {
             "outlinewidth": 0,
             "ticks": ""
            },
            "colorscale": [
             [
              0,
              "#0d0887"
             ],
             [
              0.1111111111111111,
              "#46039f"
             ],
             [
              0.2222222222222222,
              "#7201a8"
             ],
             [
              0.3333333333333333,
              "#9c179e"
             ],
             [
              0.4444444444444444,
              "#bd3786"
             ],
             [
              0.5555555555555556,
              "#d8576b"
             ],
             [
              0.6666666666666666,
              "#ed7953"
             ],
             [
              0.7777777777777778,
              "#fb9f3a"
             ],
             [
              0.8888888888888888,
              "#fdca26"
             ],
             [
              1,
              "#f0f921"
             ]
            ],
            "type": "surface"
           }
          ],
          "table": [
           {
            "cells": {
             "fill": {
              "color": "#EBF0F8"
             },
             "line": {
              "color": "white"
             }
            },
            "header": {
             "fill": {
              "color": "#C8D4E3"
             },
             "line": {
              "color": "white"
             }
            },
            "type": "table"
           }
          ]
         },
         "layout": {
          "annotationdefaults": {
           "arrowcolor": "#2a3f5f",
           "arrowhead": 0,
           "arrowwidth": 1
          },
          "coloraxis": {
           "colorbar": {
            "outlinewidth": 0,
            "ticks": ""
           }
          },
          "colorscale": {
           "diverging": [
            [
             0,
             "#8e0152"
            ],
            [
             0.1,
             "#c51b7d"
            ],
            [
             0.2,
             "#de77ae"
            ],
            [
             0.3,
             "#f1b6da"
            ],
            [
             0.4,
             "#fde0ef"
            ],
            [
             0.5,
             "#f7f7f7"
            ],
            [
             0.6,
             "#e6f5d0"
            ],
            [
             0.7,
             "#b8e186"
            ],
            [
             0.8,
             "#7fbc41"
            ],
            [
             0.9,
             "#4d9221"
            ],
            [
             1,
             "#276419"
            ]
           ],
           "sequential": [
            [
             0,
             "#0d0887"
            ],
            [
             0.1111111111111111,
             "#46039f"
            ],
            [
             0.2222222222222222,
             "#7201a8"
            ],
            [
             0.3333333333333333,
             "#9c179e"
            ],
            [
             0.4444444444444444,
             "#bd3786"
            ],
            [
             0.5555555555555556,
             "#d8576b"
            ],
            [
             0.6666666666666666,
             "#ed7953"
            ],
            [
             0.7777777777777778,
             "#fb9f3a"
            ],
            [
             0.8888888888888888,
             "#fdca26"
            ],
            [
             1,
             "#f0f921"
            ]
           ],
           "sequentialminus": [
            [
             0,
             "#0d0887"
            ],
            [
             0.1111111111111111,
             "#46039f"
            ],
            [
             0.2222222222222222,
             "#7201a8"
            ],
            [
             0.3333333333333333,
             "#9c179e"
            ],
            [
             0.4444444444444444,
             "#bd3786"
            ],
            [
             0.5555555555555556,
             "#d8576b"
            ],
            [
             0.6666666666666666,
             "#ed7953"
            ],
            [
             0.7777777777777778,
             "#fb9f3a"
            ],
            [
             0.8888888888888888,
             "#fdca26"
            ],
            [
             1,
             "#f0f921"
            ]
           ]
          },
          "colorway": [
           "#636efa",
           "#EF553B",
           "#00cc96",
           "#ab63fa",
           "#FFA15A",
           "#19d3f3",
           "#FF6692",
           "#B6E880",
           "#FF97FF",
           "#FECB52"
          ],
          "font": {
           "color": "#2a3f5f"
          },
          "geo": {
           "bgcolor": "white",
           "lakecolor": "white",
           "landcolor": "#E5ECF6",
           "showlakes": true,
           "showland": true,
           "subunitcolor": "white"
          },
          "hoverlabel": {
           "align": "left"
          },
          "hovermode": "closest",
          "mapbox": {
           "style": "light"
          },
          "paper_bgcolor": "white",
          "plot_bgcolor": "#E5ECF6",
          "polar": {
           "angularaxis": {
            "gridcolor": "white",
            "linecolor": "white",
            "ticks": ""
           },
           "bgcolor": "#E5ECF6",
           "radialaxis": {
            "gridcolor": "white",
            "linecolor": "white",
            "ticks": ""
           }
          },
          "scene": {
           "xaxis": {
            "backgroundcolor": "#E5ECF6",
            "gridcolor": "white",
            "gridwidth": 2,
            "linecolor": "white",
            "showbackground": true,
            "ticks": "",
            "zerolinecolor": "white"
           },
           "yaxis": {
            "backgroundcolor": "#E5ECF6",
            "gridcolor": "white",
            "gridwidth": 2,
            "linecolor": "white",
            "showbackground": true,
            "ticks": "",
            "zerolinecolor": "white"
           },
           "zaxis": {
            "backgroundcolor": "#E5ECF6",
            "gridcolor": "white",
            "gridwidth": 2,
            "linecolor": "white",
            "showbackground": true,
            "ticks": "",
            "zerolinecolor": "white"
           }
          },
          "shapedefaults": {
           "line": {
            "color": "#2a3f5f"
           }
          },
          "ternary": {
           "aaxis": {
            "gridcolor": "white",
            "linecolor": "white",
            "ticks": ""
           },
           "baxis": {
            "gridcolor": "white",
            "linecolor": "white",
            "ticks": ""
           },
           "bgcolor": "#E5ECF6",
           "caxis": {
            "gridcolor": "white",
            "linecolor": "white",
            "ticks": ""
           }
          },
          "title": {
           "x": 0.05
          },
          "xaxis": {
           "automargin": true,
           "gridcolor": "white",
           "linecolor": "white",
           "ticks": "",
           "title": {
            "standoff": 15
           },
           "zerolinecolor": "white",
           "zerolinewidth": 2
          },
          "yaxis": {
           "automargin": true,
           "gridcolor": "white",
           "linecolor": "white",
           "ticks": "",
           "title": {
            "standoff": 15
           },
           "zerolinecolor": "white",
           "zerolinewidth": 2
          }
         }
        },
        "title": {
         "text": "Menções Crédito Concedido nas disciplinas do PPGI"
        }
       }
      },
      "text/html": [
       "<div>\n",
       "        \n",
       "        \n",
       "            <div id=\"f048eea0-0d21-402e-8567-5cb40e0c3980\" class=\"plotly-graph-div\" style=\"height:525px; width:100%;\"></div>\n",
       "            <script type=\"text/javascript\">\n",
       "                require([\"plotly\"], function(Plotly) {\n",
       "                    window.PLOTLYENV=window.PLOTLYENV || {};\n",
       "                    \n",
       "                if (document.getElementById(\"f048eea0-0d21-402e-8567-5cb40e0c3980\")) {\n",
       "                    Plotly.newPlot(\n",
       "                        'f048eea0-0d21-402e-8567-5cb40e0c3980',\n",
       "                        [{\"domain\": {\"x\": [0.0, 1.0], \"y\": [0.0, 1.0]}, \"hovertemplate\": \"Disciplina=%{label}<extra></extra>\", \"labels\": [\"Intelig\\u00eancia Artificial 1                                             \", \"Sistemas Multiagentes                                                 \", \"Engenharia de Software 1                                              \", \"Engenharia de Software 2                                              \", \"T\\u00f3picos em Engenharia de Software                                     \", \"T\\u00f3picos em Fundamentos e M\\u00e9todos de Computa\\u00e7\\u00e3o                        \", \"T\\u00f3picos em Sistemas de Computa\\u00e7\\u00e3o                                     \", \"T\\u00f3picos em Fundamentos e M\\u00e9todos de Computa\\u00e7\\u00e3o                        \", \"T\\u00f3picos de Pesquisa em Inform\\u00e1tica                                    \", \"Intelig\\u00eancia Artificial 2                                             \", \"Sistemas Multiagentes                                                 \", \"T\\u00f3picos em Fundamentos e M\\u00e9todos de Computa\\u00e7\\u00e3o                        \", \"L\\u00f3gica Formal Aplicada                                                \", \"Processamento de Imagens Digitais                                     \", \"T\\u00f3picos em Sistemas de Computa\\u00e7\\u00e3o                                     \", \"T\\u00f3picos em Fundamentos e M\\u00e9todos de Computa\\u00e7\\u00e3o                        \", \"Teoria da Computa\\u00e7\\u00e3o                                                  \", \"Teoria da Computa\\u00e7\\u00e3o                                                  \", \"Fundamentos de Sistemas Computacionais                                \", \"Processamento de Imagens Digitais                                     \", \"Reconhecimento de Padr\\u00f5es                                             \", \"Teoria da Computa\\u00e7\\u00e3o                                                  \", \"Fundamentos de Sistemas Computacionais                                \", \"Processamento de Imagens Digitais                                     \", \"Reconhecimento de Padr\\u00f5es                                             \", \"Intelig\\u00eancia Artificial 2                                             \", \"Engenharia de Software 1                                              \", \"Sistemas Distribu\\u00eddos                                                 \", \"Teoria da Computa\\u00e7\\u00e3o                                                  \", \"Programa\\u00e7\\u00e3o Paralela                                                  \", \"Projeto e Complexidade de Algoritmos                                  \", \"T\\u00f3picos Avan\\u00e7ados em Sistemas de Computa\\u00e7\\u00e3o                           \", \"Intelig\\u00eancia Artificial 1                                             \", \"Engenharia de Software 1                                              \", \"Engenharia de Software 2                                              \", \"T\\u00f3picos em Engenharia de Software                                     \", \"T\\u00f3picos em Fundamentos e M\\u00e9todos de Computa\\u00e7\\u00e3o                        \", \"Projeto e Complexidade de Algoritmos                                  \", \"T\\u00f3picos em Fundamentos e M\\u00e9todos de Computa\\u00e7\\u00e3o                        \", \"Profici\\u00eancia em Ingl\\u00eas                                                \", \"Profici\\u00eancia em Ingl\\u00eas                                                \", \"Profici\\u00eancia em Ingl\\u00eas                                                \", \"Projeto e Complexidade de Algoritmos                                  \", \"Teoria da Computa\\u00e7\\u00e3o                                                  \", \"Programa\\u00e7\\u00e3o Paralela                                                  \", \"Projeto e Complexidade de Algoritmos                                  \", \"T\\u00f3picos em Fundamentos e M\\u00e9todos de Computa\\u00e7\\u00e3o                        \", \"T\\u00f3picos em Fundamentos e M\\u00e9todos de Computa\\u00e7\\u00e3o                        \", \"T\\u00f3picos em Sistemas de Computa\\u00e7\\u00e3o                                     \", \"Teoria da Computa\\u00e7\\u00e3o                                                  \", \"Fundamentos de Sistemas Computacionais                                \", \"Projeto e Complexidade de Algoritmos                                  \", \"T\\u00f3picos em Fundamentos e M\\u00e9todos de Computa\\u00e7\\u00e3o                        \", \"Intelig\\u00eancia Artificial 1                                             \", \"Teoria da Computa\\u00e7\\u00e3o                                                  \", \"Projeto e Complexidade de Algoritmos                                  \", \"T\\u00f3picos em Sistemas de Computa\\u00e7\\u00e3o                                     \", \"T\\u00f3picos em Sistemas de Computa\\u00e7\\u00e3o                                     \", \"T\\u00f3picos em Sistemas de Computa\\u00e7\\u00e3o                                     \", \"T\\u00f3picos em Fundamentos e M\\u00e9todos de Computa\\u00e7\\u00e3o                        \", \"T\\u00f3picos de Pesquisa em Inform\\u00e1tica                                    \", \"T\\u00f3picos Avan\\u00e7ados em Sistemas de Computa\\u00e7\\u00e3o                           \", \"Teoria da Computa\\u00e7\\u00e3o                                                  \", \"Projeto e Complexidade de Algoritmos                                  \", \"Arquiteturas VLSI                                                     \", \"Processamento de Imagens                                              \", \"T\\u00f3picos Avan\\u00e7ados em Sistemas de Computa\\u00e7\\u00e3o                           \", \"Projeto e Complexidade de Algoritmos                                  \", \"T\\u00f3picos em Engenharia de Software                                     \", \"Teoria da Computa\\u00e7\\u00e3o                                                  \", \"Projeto e Complexidade de Algoritmos                                  \", \"T\\u00f3picos em Sistemas de Computa\\u00e7\\u00e3o                                     \", \"Projeto e Complexidade de Algoritmos                                  \", \"Projeto e Complexidade de Algor\\u00edtmos 2                                \", \"Teoria da Computa\\u00e7\\u00e3o                                                  \", \"Projeto e Complexidade de Algoritmos                                  \", \"Arquiteturas VLSI                                                     \", \"Processamento de Imagens                                              \", \"T\\u00f3picos Avan\\u00e7ados em Sistemas de Computa\\u00e7\\u00e3o                           \", \"Sistemas Distribu\\u00eddos                                                 \", \"T\\u00f3picos em Formalismos de Computa\\u00e7\\u00e3o                                  \", \"T\\u00f3picos em Fundamentos e M\\u00e9todos de Computa\\u00e7\\u00e3o                        \", \"T\\u00f3picos Avan\\u00e7ados em Sistemas de Computa\\u00e7\\u00e3o                           \", \"Intelig\\u00eancia Artificial 1                                             \", \"Teoria da Computa\\u00e7\\u00e3o                                                  \", \"T\\u00f3picos em Sistemas de Computa\\u00e7\\u00e3o                                     \", \"T\\u00f3picos em Fundamentos e M\\u00e9todos de Computa\\u00e7\\u00e3o                        \", \"T\\u00f3picos Avan\\u00e7ados em Sistemas de Computa\\u00e7\\u00e3o                           \", \"Intelig\\u00eancia Artificial 1                                             \", \"Intelig\\u00eancia Artificial 2                                             \", \"Teoria da Computa\\u00e7\\u00e3o                                                  \", \"Projeto e Complexidade de Algoritmos                                  \", \"Processamento de Imagens                                              \", \"Processamento de Imagens                                              \", \"T\\u00f3picos em Fundamentos e M\\u00e9todos de Computa\\u00e7\\u00e3o                        \", \"T\\u00f3picos de Pesquisa em Inform\\u00e1tica                                    \", \"T\\u00f3picos Avan\\u00e7ados em Sistemas de Computa\\u00e7\\u00e3o                           \", \"T\\u00f3picos em Sistemas de Computa\\u00e7\\u00e3o                                     \", \"Profici\\u00eancia em Ingl\\u00eas                                                \"], \"legendgroup\": \"\", \"name\": \"\", \"showlegend\": true, \"type\": \"pie\"}],\n",
       "                        {\"legend\": {\"tracegroupgap\": 0}, \"template\": {\"data\": {\"bar\": [{\"error_x\": {\"color\": \"#2a3f5f\"}, \"error_y\": {\"color\": \"#2a3f5f\"}, \"marker\": {\"line\": {\"color\": \"#E5ECF6\", \"width\": 0.5}}, \"type\": \"bar\"}], \"barpolar\": [{\"marker\": {\"line\": {\"color\": \"#E5ECF6\", \"width\": 0.5}}, \"type\": \"barpolar\"}], \"carpet\": [{\"aaxis\": {\"endlinecolor\": \"#2a3f5f\", \"gridcolor\": \"white\", \"linecolor\": \"white\", \"minorgridcolor\": \"white\", \"startlinecolor\": \"#2a3f5f\"}, \"baxis\": {\"endlinecolor\": \"#2a3f5f\", \"gridcolor\": \"white\", \"linecolor\": \"white\", \"minorgridcolor\": \"white\", \"startlinecolor\": \"#2a3f5f\"}, \"type\": \"carpet\"}], \"choropleth\": [{\"colorbar\": {\"outlinewidth\": 0, \"ticks\": \"\"}, \"type\": \"choropleth\"}], \"contour\": [{\"colorbar\": {\"outlinewidth\": 0, \"ticks\": \"\"}, \"colorscale\": [[0.0, \"#0d0887\"], [0.1111111111111111, \"#46039f\"], [0.2222222222222222, \"#7201a8\"], [0.3333333333333333, \"#9c179e\"], [0.4444444444444444, \"#bd3786\"], [0.5555555555555556, \"#d8576b\"], [0.6666666666666666, \"#ed7953\"], [0.7777777777777778, \"#fb9f3a\"], [0.8888888888888888, \"#fdca26\"], [1.0, \"#f0f921\"]], \"type\": \"contour\"}], \"contourcarpet\": [{\"colorbar\": {\"outlinewidth\": 0, \"ticks\": \"\"}, \"type\": \"contourcarpet\"}], \"heatmap\": [{\"colorbar\": {\"outlinewidth\": 0, \"ticks\": \"\"}, \"colorscale\": [[0.0, \"#0d0887\"], [0.1111111111111111, \"#46039f\"], [0.2222222222222222, \"#7201a8\"], [0.3333333333333333, \"#9c179e\"], [0.4444444444444444, \"#bd3786\"], [0.5555555555555556, \"#d8576b\"], [0.6666666666666666, \"#ed7953\"], [0.7777777777777778, \"#fb9f3a\"], [0.8888888888888888, \"#fdca26\"], [1.0, \"#f0f921\"]], \"type\": \"heatmap\"}], \"heatmapgl\": [{\"colorbar\": {\"outlinewidth\": 0, \"ticks\": \"\"}, \"colorscale\": [[0.0, \"#0d0887\"], [0.1111111111111111, \"#46039f\"], [0.2222222222222222, \"#7201a8\"], [0.3333333333333333, \"#9c179e\"], [0.4444444444444444, \"#bd3786\"], [0.5555555555555556, \"#d8576b\"], [0.6666666666666666, \"#ed7953\"], [0.7777777777777778, \"#fb9f3a\"], [0.8888888888888888, \"#fdca26\"], [1.0, \"#f0f921\"]], \"type\": \"heatmapgl\"}], \"histogram\": [{\"marker\": {\"colorbar\": {\"outlinewidth\": 0, \"ticks\": \"\"}}, \"type\": \"histogram\"}], \"histogram2d\": [{\"colorbar\": {\"outlinewidth\": 0, \"ticks\": \"\"}, \"colorscale\": [[0.0, \"#0d0887\"], [0.1111111111111111, \"#46039f\"], [0.2222222222222222, \"#7201a8\"], [0.3333333333333333, \"#9c179e\"], [0.4444444444444444, \"#bd3786\"], [0.5555555555555556, \"#d8576b\"], [0.6666666666666666, \"#ed7953\"], [0.7777777777777778, \"#fb9f3a\"], [0.8888888888888888, \"#fdca26\"], [1.0, \"#f0f921\"]], \"type\": \"histogram2d\"}], \"histogram2dcontour\": [{\"colorbar\": {\"outlinewidth\": 0, \"ticks\": \"\"}, \"colorscale\": [[0.0, \"#0d0887\"], [0.1111111111111111, \"#46039f\"], [0.2222222222222222, \"#7201a8\"], [0.3333333333333333, \"#9c179e\"], [0.4444444444444444, \"#bd3786\"], [0.5555555555555556, \"#d8576b\"], [0.6666666666666666, \"#ed7953\"], [0.7777777777777778, \"#fb9f3a\"], [0.8888888888888888, \"#fdca26\"], [1.0, \"#f0f921\"]], \"type\": \"histogram2dcontour\"}], \"mesh3d\": [{\"colorbar\": {\"outlinewidth\": 0, \"ticks\": \"\"}, \"type\": \"mesh3d\"}], \"parcoords\": [{\"line\": {\"colorbar\": {\"outlinewidth\": 0, \"ticks\": \"\"}}, \"type\": \"parcoords\"}], \"pie\": [{\"automargin\": true, \"type\": \"pie\"}], \"scatter\": [{\"marker\": {\"colorbar\": {\"outlinewidth\": 0, \"ticks\": \"\"}}, \"type\": \"scatter\"}], \"scatter3d\": [{\"line\": {\"colorbar\": {\"outlinewidth\": 0, \"ticks\": \"\"}}, \"marker\": {\"colorbar\": {\"outlinewidth\": 0, \"ticks\": \"\"}}, \"type\": \"scatter3d\"}], \"scattercarpet\": [{\"marker\": {\"colorbar\": {\"outlinewidth\": 0, \"ticks\": \"\"}}, \"type\": \"scattercarpet\"}], \"scattergeo\": [{\"marker\": {\"colorbar\": {\"outlinewidth\": 0, \"ticks\": \"\"}}, \"type\": \"scattergeo\"}], \"scattergl\": [{\"marker\": {\"colorbar\": {\"outlinewidth\": 0, \"ticks\": \"\"}}, \"type\": \"scattergl\"}], \"scattermapbox\": [{\"marker\": {\"colorbar\": {\"outlinewidth\": 0, \"ticks\": \"\"}}, \"type\": \"scattermapbox\"}], \"scatterpolar\": [{\"marker\": {\"colorbar\": {\"outlinewidth\": 0, \"ticks\": \"\"}}, \"type\": \"scatterpolar\"}], \"scatterpolargl\": [{\"marker\": {\"colorbar\": {\"outlinewidth\": 0, \"ticks\": \"\"}}, \"type\": \"scatterpolargl\"}], \"scatterternary\": [{\"marker\": {\"colorbar\": {\"outlinewidth\": 0, \"ticks\": \"\"}}, \"type\": \"scatterternary\"}], \"surface\": [{\"colorbar\": {\"outlinewidth\": 0, \"ticks\": \"\"}, \"colorscale\": [[0.0, \"#0d0887\"], [0.1111111111111111, \"#46039f\"], [0.2222222222222222, \"#7201a8\"], [0.3333333333333333, \"#9c179e\"], [0.4444444444444444, \"#bd3786\"], [0.5555555555555556, \"#d8576b\"], [0.6666666666666666, \"#ed7953\"], [0.7777777777777778, \"#fb9f3a\"], [0.8888888888888888, \"#fdca26\"], [1.0, \"#f0f921\"]], \"type\": \"surface\"}], \"table\": [{\"cells\": {\"fill\": {\"color\": \"#EBF0F8\"}, \"line\": {\"color\": \"white\"}}, \"header\": {\"fill\": {\"color\": \"#C8D4E3\"}, \"line\": {\"color\": \"white\"}}, \"type\": \"table\"}]}, \"layout\": {\"annotationdefaults\": {\"arrowcolor\": \"#2a3f5f\", \"arrowhead\": 0, \"arrowwidth\": 1}, \"coloraxis\": {\"colorbar\": {\"outlinewidth\": 0, \"ticks\": \"\"}}, \"colorscale\": {\"diverging\": [[0, \"#8e0152\"], [0.1, \"#c51b7d\"], [0.2, \"#de77ae\"], [0.3, \"#f1b6da\"], [0.4, \"#fde0ef\"], [0.5, \"#f7f7f7\"], [0.6, \"#e6f5d0\"], [0.7, \"#b8e186\"], [0.8, \"#7fbc41\"], [0.9, \"#4d9221\"], [1, \"#276419\"]], \"sequential\": [[0.0, \"#0d0887\"], [0.1111111111111111, \"#46039f\"], [0.2222222222222222, \"#7201a8\"], [0.3333333333333333, \"#9c179e\"], [0.4444444444444444, \"#bd3786\"], [0.5555555555555556, \"#d8576b\"], [0.6666666666666666, \"#ed7953\"], [0.7777777777777778, \"#fb9f3a\"], [0.8888888888888888, \"#fdca26\"], [1.0, \"#f0f921\"]], \"sequentialminus\": [[0.0, \"#0d0887\"], [0.1111111111111111, \"#46039f\"], [0.2222222222222222, \"#7201a8\"], [0.3333333333333333, \"#9c179e\"], [0.4444444444444444, \"#bd3786\"], [0.5555555555555556, \"#d8576b\"], [0.6666666666666666, \"#ed7953\"], [0.7777777777777778, \"#fb9f3a\"], [0.8888888888888888, \"#fdca26\"], [1.0, \"#f0f921\"]]}, \"colorway\": [\"#636efa\", \"#EF553B\", \"#00cc96\", \"#ab63fa\", \"#FFA15A\", \"#19d3f3\", \"#FF6692\", \"#B6E880\", \"#FF97FF\", \"#FECB52\"], \"font\": {\"color\": \"#2a3f5f\"}, \"geo\": {\"bgcolor\": \"white\", \"lakecolor\": \"white\", \"landcolor\": \"#E5ECF6\", \"showlakes\": true, \"showland\": true, \"subunitcolor\": \"white\"}, \"hoverlabel\": {\"align\": \"left\"}, \"hovermode\": \"closest\", \"mapbox\": {\"style\": \"light\"}, \"paper_bgcolor\": \"white\", \"plot_bgcolor\": \"#E5ECF6\", \"polar\": {\"angularaxis\": {\"gridcolor\": \"white\", \"linecolor\": \"white\", \"ticks\": \"\"}, \"bgcolor\": \"#E5ECF6\", \"radialaxis\": {\"gridcolor\": \"white\", \"linecolor\": \"white\", \"ticks\": \"\"}}, \"scene\": {\"xaxis\": {\"backgroundcolor\": \"#E5ECF6\", \"gridcolor\": \"white\", \"gridwidth\": 2, \"linecolor\": \"white\", \"showbackground\": true, \"ticks\": \"\", \"zerolinecolor\": \"white\"}, \"yaxis\": {\"backgroundcolor\": \"#E5ECF6\", \"gridcolor\": \"white\", \"gridwidth\": 2, \"linecolor\": \"white\", \"showbackground\": true, \"ticks\": \"\", \"zerolinecolor\": \"white\"}, \"zaxis\": {\"backgroundcolor\": \"#E5ECF6\", \"gridcolor\": \"white\", \"gridwidth\": 2, \"linecolor\": \"white\", \"showbackground\": true, \"ticks\": \"\", \"zerolinecolor\": \"white\"}}, \"shapedefaults\": {\"line\": {\"color\": \"#2a3f5f\"}}, \"ternary\": {\"aaxis\": {\"gridcolor\": \"white\", \"linecolor\": \"white\", \"ticks\": \"\"}, \"baxis\": {\"gridcolor\": \"white\", \"linecolor\": \"white\", \"ticks\": \"\"}, \"bgcolor\": \"#E5ECF6\", \"caxis\": {\"gridcolor\": \"white\", \"linecolor\": \"white\", \"ticks\": \"\"}}, \"title\": {\"x\": 0.05}, \"xaxis\": {\"automargin\": true, \"gridcolor\": \"white\", \"linecolor\": \"white\", \"ticks\": \"\", \"title\": {\"standoff\": 15}, \"zerolinecolor\": \"white\", \"zerolinewidth\": 2}, \"yaxis\": {\"automargin\": true, \"gridcolor\": \"white\", \"linecolor\": \"white\", \"ticks\": \"\", \"title\": {\"standoff\": 15}, \"zerolinecolor\": \"white\", \"zerolinewidth\": 2}}}, \"title\": {\"text\": \"Men\\u00e7\\u00f5es Cr\\u00e9dito Concedido nas disciplinas do PPGI\"}},\n",
       "                        {\"responsive\": true}\n",
       "                    ).then(function(){\n",
       "                            \n",
       "var gd = document.getElementById('f048eea0-0d21-402e-8567-5cb40e0c3980');\n",
       "var x = new MutationObserver(function (mutations, observer) {{\n",
       "        var display = window.getComputedStyle(gd).display;\n",
       "        if (!display || display === 'none') {{\n",
       "            console.log([gd, 'removed!']);\n",
       "            Plotly.purge(gd);\n",
       "            observer.disconnect();\n",
       "        }}\n",
       "}});\n",
       "\n",
       "// Listen for the removal of the full notebook cells\n",
       "var notebookContainer = gd.closest('#notebook-container');\n",
       "if (notebookContainer) {{\n",
       "    x.observe(notebookContainer, {childList: true});\n",
       "}}\n",
       "\n",
       "// Listen for the clearing of the current output cell\n",
       "var outputEl = gd.closest('.output');\n",
       "if (outputEl) {{\n",
       "    x.observe(outputEl, {childList: true});\n",
       "}}\n",
       "\n",
       "                        })\n",
       "                };\n",
       "                });\n",
       "            </script>\n",
       "        </div>"
      ]
     },
     "metadata": {},
     "output_type": "display_data"
    }
   ],
   "source": [
    "fig = px.pie(df[df.Menção == 'CC'], names='Disciplina', title='Menções Crédito Concedido nas disciplinas do PPGI')\n",
    "fig.show()"
   ]
  },
  {
   "cell_type": "markdown",
   "metadata": {},
   "source": [
    "## Análise das matrículas resultantes em reprovações e desistências"
   ]
  },
  {
   "cell_type": "code",
   "execution_count": 482,
   "metadata": {},
   "outputs": [
    {
     "data": {
      "application/vnd.plotly.v1+json": {
       "config": {
        "plotlyServerURL": "https://plot.ly"
       },
       "data": [
        {
         "domain": {
          "x": [
           0,
           1
          ],
          "y": [
           0,
           1
          ]
         },
         "hovertemplate": "Disciplina=%{label}<extra></extra>",
         "labels": [
          "Fundamentos de Sistemas Computacionais                                ",
          "Teoria da Computação                                                  ",
          "Fundamentos de Sistemas Computacionais                                ",
          "Tópicos em Fundamentos e Métodos de Computação                        ",
          "Projeto e Complexidade de Algoritmos                                  ",
          "Sistemas Multiagentes                                                 ",
          "Teoria da Computação                                                  ",
          "Fundamentos de Sistemas Computacionais                                ",
          "Tópicos em Fundamentos e Métodos de Computação                        ",
          "Fundamentos de Sistemas Computacionais                                ",
          "Projeto e Complexidade de Algoritmos                                  ",
          "Projeto e Complexidade de Algoritmos                                  ",
          "Fundamentos de Sistemas Computacionais                                ",
          "Projeto e Complexidade de Algoritmos                                  ",
          "Projeto e Complexidade de Algoritmos                                  ",
          "Sistemas Distribuídos                                                 ",
          "Trabalho Individual em Sistemas de Computação                         ",
          "Teoria da Computação                                                  ",
          "Teoria da Computação                                                  ",
          "Projeto e Complexidade de Algoritmos                                  ",
          "Fundamentos de Sistemas Computacionais                                ",
          "Teoria da Computação                                                  "
         ],
         "legendgroup": "",
         "name": "",
         "showlegend": true,
         "type": "pie"
        }
       ],
       "layout": {
        "legend": {
         "tracegroupgap": 0
        },
        "template": {
         "data": {
          "bar": [
           {
            "error_x": {
             "color": "#2a3f5f"
            },
            "error_y": {
             "color": "#2a3f5f"
            },
            "marker": {
             "line": {
              "color": "#E5ECF6",
              "width": 0.5
             }
            },
            "type": "bar"
           }
          ],
          "barpolar": [
           {
            "marker": {
             "line": {
              "color": "#E5ECF6",
              "width": 0.5
             }
            },
            "type": "barpolar"
           }
          ],
          "carpet": [
           {
            "aaxis": {
             "endlinecolor": "#2a3f5f",
             "gridcolor": "white",
             "linecolor": "white",
             "minorgridcolor": "white",
             "startlinecolor": "#2a3f5f"
            },
            "baxis": {
             "endlinecolor": "#2a3f5f",
             "gridcolor": "white",
             "linecolor": "white",
             "minorgridcolor": "white",
             "startlinecolor": "#2a3f5f"
            },
            "type": "carpet"
           }
          ],
          "choropleth": [
           {
            "colorbar": {
             "outlinewidth": 0,
             "ticks": ""
            },
            "type": "choropleth"
           }
          ],
          "contour": [
           {
            "colorbar": {
             "outlinewidth": 0,
             "ticks": ""
            },
            "colorscale": [
             [
              0,
              "#0d0887"
             ],
             [
              0.1111111111111111,
              "#46039f"
             ],
             [
              0.2222222222222222,
              "#7201a8"
             ],
             [
              0.3333333333333333,
              "#9c179e"
             ],
             [
              0.4444444444444444,
              "#bd3786"
             ],
             [
              0.5555555555555556,
              "#d8576b"
             ],
             [
              0.6666666666666666,
              "#ed7953"
             ],
             [
              0.7777777777777778,
              "#fb9f3a"
             ],
             [
              0.8888888888888888,
              "#fdca26"
             ],
             [
              1,
              "#f0f921"
             ]
            ],
            "type": "contour"
           }
          ],
          "contourcarpet": [
           {
            "colorbar": {
             "outlinewidth": 0,
             "ticks": ""
            },
            "type": "contourcarpet"
           }
          ],
          "heatmap": [
           {
            "colorbar": {
             "outlinewidth": 0,
             "ticks": ""
            },
            "colorscale": [
             [
              0,
              "#0d0887"
             ],
             [
              0.1111111111111111,
              "#46039f"
             ],
             [
              0.2222222222222222,
              "#7201a8"
             ],
             [
              0.3333333333333333,
              "#9c179e"
             ],
             [
              0.4444444444444444,
              "#bd3786"
             ],
             [
              0.5555555555555556,
              "#d8576b"
             ],
             [
              0.6666666666666666,
              "#ed7953"
             ],
             [
              0.7777777777777778,
              "#fb9f3a"
             ],
             [
              0.8888888888888888,
              "#fdca26"
             ],
             [
              1,
              "#f0f921"
             ]
            ],
            "type": "heatmap"
           }
          ],
          "heatmapgl": [
           {
            "colorbar": {
             "outlinewidth": 0,
             "ticks": ""
            },
            "colorscale": [
             [
              0,
              "#0d0887"
             ],
             [
              0.1111111111111111,
              "#46039f"
             ],
             [
              0.2222222222222222,
              "#7201a8"
             ],
             [
              0.3333333333333333,
              "#9c179e"
             ],
             [
              0.4444444444444444,
              "#bd3786"
             ],
             [
              0.5555555555555556,
              "#d8576b"
             ],
             [
              0.6666666666666666,
              "#ed7953"
             ],
             [
              0.7777777777777778,
              "#fb9f3a"
             ],
             [
              0.8888888888888888,
              "#fdca26"
             ],
             [
              1,
              "#f0f921"
             ]
            ],
            "type": "heatmapgl"
           }
          ],
          "histogram": [
           {
            "marker": {
             "colorbar": {
              "outlinewidth": 0,
              "ticks": ""
             }
            },
            "type": "histogram"
           }
          ],
          "histogram2d": [
           {
            "colorbar": {
             "outlinewidth": 0,
             "ticks": ""
            },
            "colorscale": [
             [
              0,
              "#0d0887"
             ],
             [
              0.1111111111111111,
              "#46039f"
             ],
             [
              0.2222222222222222,
              "#7201a8"
             ],
             [
              0.3333333333333333,
              "#9c179e"
             ],
             [
              0.4444444444444444,
              "#bd3786"
             ],
             [
              0.5555555555555556,
              "#d8576b"
             ],
             [
              0.6666666666666666,
              "#ed7953"
             ],
             [
              0.7777777777777778,
              "#fb9f3a"
             ],
             [
              0.8888888888888888,
              "#fdca26"
             ],
             [
              1,
              "#f0f921"
             ]
            ],
            "type": "histogram2d"
           }
          ],
          "histogram2dcontour": [
           {
            "colorbar": {
             "outlinewidth": 0,
             "ticks": ""
            },
            "colorscale": [
             [
              0,
              "#0d0887"
             ],
             [
              0.1111111111111111,
              "#46039f"
             ],
             [
              0.2222222222222222,
              "#7201a8"
             ],
             [
              0.3333333333333333,
              "#9c179e"
             ],
             [
              0.4444444444444444,
              "#bd3786"
             ],
             [
              0.5555555555555556,
              "#d8576b"
             ],
             [
              0.6666666666666666,
              "#ed7953"
             ],
             [
              0.7777777777777778,
              "#fb9f3a"
             ],
             [
              0.8888888888888888,
              "#fdca26"
             ],
             [
              1,
              "#f0f921"
             ]
            ],
            "type": "histogram2dcontour"
           }
          ],
          "mesh3d": [
           {
            "colorbar": {
             "outlinewidth": 0,
             "ticks": ""
            },
            "type": "mesh3d"
           }
          ],
          "parcoords": [
           {
            "line": {
             "colorbar": {
              "outlinewidth": 0,
              "ticks": ""
             }
            },
            "type": "parcoords"
           }
          ],
          "pie": [
           {
            "automargin": true,
            "type": "pie"
           }
          ],
          "scatter": [
           {
            "marker": {
             "colorbar": {
              "outlinewidth": 0,
              "ticks": ""
             }
            },
            "type": "scatter"
           }
          ],
          "scatter3d": [
           {
            "line": {
             "colorbar": {
              "outlinewidth": 0,
              "ticks": ""
             }
            },
            "marker": {
             "colorbar": {
              "outlinewidth": 0,
              "ticks": ""
             }
            },
            "type": "scatter3d"
           }
          ],
          "scattercarpet": [
           {
            "marker": {
             "colorbar": {
              "outlinewidth": 0,
              "ticks": ""
             }
            },
            "type": "scattercarpet"
           }
          ],
          "scattergeo": [
           {
            "marker": {
             "colorbar": {
              "outlinewidth": 0,
              "ticks": ""
             }
            },
            "type": "scattergeo"
           }
          ],
          "scattergl": [
           {
            "marker": {
             "colorbar": {
              "outlinewidth": 0,
              "ticks": ""
             }
            },
            "type": "scattergl"
           }
          ],
          "scattermapbox": [
           {
            "marker": {
             "colorbar": {
              "outlinewidth": 0,
              "ticks": ""
             }
            },
            "type": "scattermapbox"
           }
          ],
          "scatterpolar": [
           {
            "marker": {
             "colorbar": {
              "outlinewidth": 0,
              "ticks": ""
             }
            },
            "type": "scatterpolar"
           }
          ],
          "scatterpolargl": [
           {
            "marker": {
             "colorbar": {
              "outlinewidth": 0,
              "ticks": ""
             }
            },
            "type": "scatterpolargl"
           }
          ],
          "scatterternary": [
           {
            "marker": {
             "colorbar": {
              "outlinewidth": 0,
              "ticks": ""
             }
            },
            "type": "scatterternary"
           }
          ],
          "surface": [
           {
            "colorbar": {
             "outlinewidth": 0,
             "ticks": ""
            },
            "colorscale": [
             [
              0,
              "#0d0887"
             ],
             [
              0.1111111111111111,
              "#46039f"
             ],
             [
              0.2222222222222222,
              "#7201a8"
             ],
             [
              0.3333333333333333,
              "#9c179e"
             ],
             [
              0.4444444444444444,
              "#bd3786"
             ],
             [
              0.5555555555555556,
              "#d8576b"
             ],
             [
              0.6666666666666666,
              "#ed7953"
             ],
             [
              0.7777777777777778,
              "#fb9f3a"
             ],
             [
              0.8888888888888888,
              "#fdca26"
             ],
             [
              1,
              "#f0f921"
             ]
            ],
            "type": "surface"
           }
          ],
          "table": [
           {
            "cells": {
             "fill": {
              "color": "#EBF0F8"
             },
             "line": {
              "color": "white"
             }
            },
            "header": {
             "fill": {
              "color": "#C8D4E3"
             },
             "line": {
              "color": "white"
             }
            },
            "type": "table"
           }
          ]
         },
         "layout": {
          "annotationdefaults": {
           "arrowcolor": "#2a3f5f",
           "arrowhead": 0,
           "arrowwidth": 1
          },
          "coloraxis": {
           "colorbar": {
            "outlinewidth": 0,
            "ticks": ""
           }
          },
          "colorscale": {
           "diverging": [
            [
             0,
             "#8e0152"
            ],
            [
             0.1,
             "#c51b7d"
            ],
            [
             0.2,
             "#de77ae"
            ],
            [
             0.3,
             "#f1b6da"
            ],
            [
             0.4,
             "#fde0ef"
            ],
            [
             0.5,
             "#f7f7f7"
            ],
            [
             0.6,
             "#e6f5d0"
            ],
            [
             0.7,
             "#b8e186"
            ],
            [
             0.8,
             "#7fbc41"
            ],
            [
             0.9,
             "#4d9221"
            ],
            [
             1,
             "#276419"
            ]
           ],
           "sequential": [
            [
             0,
             "#0d0887"
            ],
            [
             0.1111111111111111,
             "#46039f"
            ],
            [
             0.2222222222222222,
             "#7201a8"
            ],
            [
             0.3333333333333333,
             "#9c179e"
            ],
            [
             0.4444444444444444,
             "#bd3786"
            ],
            [
             0.5555555555555556,
             "#d8576b"
            ],
            [
             0.6666666666666666,
             "#ed7953"
            ],
            [
             0.7777777777777778,
             "#fb9f3a"
            ],
            [
             0.8888888888888888,
             "#fdca26"
            ],
            [
             1,
             "#f0f921"
            ]
           ],
           "sequentialminus": [
            [
             0,
             "#0d0887"
            ],
            [
             0.1111111111111111,
             "#46039f"
            ],
            [
             0.2222222222222222,
             "#7201a8"
            ],
            [
             0.3333333333333333,
             "#9c179e"
            ],
            [
             0.4444444444444444,
             "#bd3786"
            ],
            [
             0.5555555555555556,
             "#d8576b"
            ],
            [
             0.6666666666666666,
             "#ed7953"
            ],
            [
             0.7777777777777778,
             "#fb9f3a"
            ],
            [
             0.8888888888888888,
             "#fdca26"
            ],
            [
             1,
             "#f0f921"
            ]
           ]
          },
          "colorway": [
           "#636efa",
           "#EF553B",
           "#00cc96",
           "#ab63fa",
           "#FFA15A",
           "#19d3f3",
           "#FF6692",
           "#B6E880",
           "#FF97FF",
           "#FECB52"
          ],
          "font": {
           "color": "#2a3f5f"
          },
          "geo": {
           "bgcolor": "white",
           "lakecolor": "white",
           "landcolor": "#E5ECF6",
           "showlakes": true,
           "showland": true,
           "subunitcolor": "white"
          },
          "hoverlabel": {
           "align": "left"
          },
          "hovermode": "closest",
          "mapbox": {
           "style": "light"
          },
          "paper_bgcolor": "white",
          "plot_bgcolor": "#E5ECF6",
          "polar": {
           "angularaxis": {
            "gridcolor": "white",
            "linecolor": "white",
            "ticks": ""
           },
           "bgcolor": "#E5ECF6",
           "radialaxis": {
            "gridcolor": "white",
            "linecolor": "white",
            "ticks": ""
           }
          },
          "scene": {
           "xaxis": {
            "backgroundcolor": "#E5ECF6",
            "gridcolor": "white",
            "gridwidth": 2,
            "linecolor": "white",
            "showbackground": true,
            "ticks": "",
            "zerolinecolor": "white"
           },
           "yaxis": {
            "backgroundcolor": "#E5ECF6",
            "gridcolor": "white",
            "gridwidth": 2,
            "linecolor": "white",
            "showbackground": true,
            "ticks": "",
            "zerolinecolor": "white"
           },
           "zaxis": {
            "backgroundcolor": "#E5ECF6",
            "gridcolor": "white",
            "gridwidth": 2,
            "linecolor": "white",
            "showbackground": true,
            "ticks": "",
            "zerolinecolor": "white"
           }
          },
          "shapedefaults": {
           "line": {
            "color": "#2a3f5f"
           }
          },
          "ternary": {
           "aaxis": {
            "gridcolor": "white",
            "linecolor": "white",
            "ticks": ""
           },
           "baxis": {
            "gridcolor": "white",
            "linecolor": "white",
            "ticks": ""
           },
           "bgcolor": "#E5ECF6",
           "caxis": {
            "gridcolor": "white",
            "linecolor": "white",
            "ticks": ""
           }
          },
          "title": {
           "x": 0.05
          },
          "xaxis": {
           "automargin": true,
           "gridcolor": "white",
           "linecolor": "white",
           "ticks": "",
           "title": {
            "standoff": 15
           },
           "zerolinecolor": "white",
           "zerolinewidth": 2
          },
          "yaxis": {
           "automargin": true,
           "gridcolor": "white",
           "linecolor": "white",
           "ticks": "",
           "title": {
            "standoff": 15
           },
           "zerolinecolor": "white",
           "zerolinewidth": 2
          }
         }
        },
        "title": {
         "text": "Números absolutos das reprovações e desistências nas disciplinas do PPGI"
        }
       }
      },
      "text/html": [
       "<div>\n",
       "        \n",
       "        \n",
       "            <div id=\"0923d169-9248-4d8b-a4cc-a4f0ff9cd53f\" class=\"plotly-graph-div\" style=\"height:525px; width:100%;\"></div>\n",
       "            <script type=\"text/javascript\">\n",
       "                require([\"plotly\"], function(Plotly) {\n",
       "                    window.PLOTLYENV=window.PLOTLYENV || {};\n",
       "                    \n",
       "                if (document.getElementById(\"0923d169-9248-4d8b-a4cc-a4f0ff9cd53f\")) {\n",
       "                    Plotly.newPlot(\n",
       "                        '0923d169-9248-4d8b-a4cc-a4f0ff9cd53f',\n",
       "                        [{\"domain\": {\"x\": [0.0, 1.0], \"y\": [0.0, 1.0]}, \"hovertemplate\": \"Disciplina=%{label}<extra></extra>\", \"labels\": [\"Fundamentos de Sistemas Computacionais                                \", \"Teoria da Computa\\u00e7\\u00e3o                                                  \", \"Fundamentos de Sistemas Computacionais                                \", \"T\\u00f3picos em Fundamentos e M\\u00e9todos de Computa\\u00e7\\u00e3o                        \", \"Projeto e Complexidade de Algoritmos                                  \", \"Sistemas Multiagentes                                                 \", \"Teoria da Computa\\u00e7\\u00e3o                                                  \", \"Fundamentos de Sistemas Computacionais                                \", \"T\\u00f3picos em Fundamentos e M\\u00e9todos de Computa\\u00e7\\u00e3o                        \", \"Fundamentos de Sistemas Computacionais                                \", \"Projeto e Complexidade de Algoritmos                                  \", \"Projeto e Complexidade de Algoritmos                                  \", \"Fundamentos de Sistemas Computacionais                                \", \"Projeto e Complexidade de Algoritmos                                  \", \"Projeto e Complexidade de Algoritmos                                  \", \"Sistemas Distribu\\u00eddos                                                 \", \"Trabalho Individual em Sistemas de Computa\\u00e7\\u00e3o                         \", \"Teoria da Computa\\u00e7\\u00e3o                                                  \", \"Teoria da Computa\\u00e7\\u00e3o                                                  \", \"Projeto e Complexidade de Algoritmos                                  \", \"Fundamentos de Sistemas Computacionais                                \", \"Teoria da Computa\\u00e7\\u00e3o                                                  \"], \"legendgroup\": \"\", \"name\": \"\", \"showlegend\": true, \"type\": \"pie\"}],\n",
       "                        {\"legend\": {\"tracegroupgap\": 0}, \"template\": {\"data\": {\"bar\": [{\"error_x\": {\"color\": \"#2a3f5f\"}, \"error_y\": {\"color\": \"#2a3f5f\"}, \"marker\": {\"line\": {\"color\": \"#E5ECF6\", \"width\": 0.5}}, \"type\": \"bar\"}], \"barpolar\": [{\"marker\": {\"line\": {\"color\": \"#E5ECF6\", \"width\": 0.5}}, \"type\": \"barpolar\"}], \"carpet\": [{\"aaxis\": {\"endlinecolor\": \"#2a3f5f\", \"gridcolor\": \"white\", \"linecolor\": \"white\", \"minorgridcolor\": \"white\", \"startlinecolor\": \"#2a3f5f\"}, \"baxis\": {\"endlinecolor\": \"#2a3f5f\", \"gridcolor\": \"white\", \"linecolor\": \"white\", \"minorgridcolor\": \"white\", \"startlinecolor\": \"#2a3f5f\"}, \"type\": \"carpet\"}], \"choropleth\": [{\"colorbar\": {\"outlinewidth\": 0, \"ticks\": \"\"}, \"type\": \"choropleth\"}], \"contour\": [{\"colorbar\": {\"outlinewidth\": 0, \"ticks\": \"\"}, \"colorscale\": [[0.0, \"#0d0887\"], [0.1111111111111111, \"#46039f\"], [0.2222222222222222, \"#7201a8\"], [0.3333333333333333, \"#9c179e\"], [0.4444444444444444, \"#bd3786\"], [0.5555555555555556, \"#d8576b\"], [0.6666666666666666, \"#ed7953\"], [0.7777777777777778, \"#fb9f3a\"], [0.8888888888888888, \"#fdca26\"], [1.0, \"#f0f921\"]], \"type\": \"contour\"}], \"contourcarpet\": [{\"colorbar\": {\"outlinewidth\": 0, \"ticks\": \"\"}, \"type\": \"contourcarpet\"}], \"heatmap\": [{\"colorbar\": {\"outlinewidth\": 0, \"ticks\": \"\"}, \"colorscale\": [[0.0, \"#0d0887\"], [0.1111111111111111, \"#46039f\"], [0.2222222222222222, \"#7201a8\"], [0.3333333333333333, \"#9c179e\"], [0.4444444444444444, \"#bd3786\"], [0.5555555555555556, \"#d8576b\"], [0.6666666666666666, \"#ed7953\"], [0.7777777777777778, \"#fb9f3a\"], [0.8888888888888888, \"#fdca26\"], [1.0, \"#f0f921\"]], \"type\": \"heatmap\"}], \"heatmapgl\": [{\"colorbar\": {\"outlinewidth\": 0, \"ticks\": \"\"}, \"colorscale\": [[0.0, \"#0d0887\"], [0.1111111111111111, \"#46039f\"], [0.2222222222222222, \"#7201a8\"], [0.3333333333333333, \"#9c179e\"], [0.4444444444444444, \"#bd3786\"], [0.5555555555555556, \"#d8576b\"], [0.6666666666666666, \"#ed7953\"], [0.7777777777777778, \"#fb9f3a\"], [0.8888888888888888, \"#fdca26\"], [1.0, \"#f0f921\"]], \"type\": \"heatmapgl\"}], \"histogram\": [{\"marker\": {\"colorbar\": {\"outlinewidth\": 0, \"ticks\": \"\"}}, \"type\": \"histogram\"}], \"histogram2d\": [{\"colorbar\": {\"outlinewidth\": 0, \"ticks\": \"\"}, \"colorscale\": [[0.0, \"#0d0887\"], [0.1111111111111111, \"#46039f\"], [0.2222222222222222, \"#7201a8\"], [0.3333333333333333, \"#9c179e\"], [0.4444444444444444, \"#bd3786\"], [0.5555555555555556, \"#d8576b\"], [0.6666666666666666, \"#ed7953\"], [0.7777777777777778, \"#fb9f3a\"], [0.8888888888888888, \"#fdca26\"], [1.0, \"#f0f921\"]], \"type\": \"histogram2d\"}], \"histogram2dcontour\": [{\"colorbar\": {\"outlinewidth\": 0, \"ticks\": \"\"}, \"colorscale\": [[0.0, \"#0d0887\"], [0.1111111111111111, \"#46039f\"], [0.2222222222222222, \"#7201a8\"], [0.3333333333333333, \"#9c179e\"], [0.4444444444444444, \"#bd3786\"], [0.5555555555555556, \"#d8576b\"], [0.6666666666666666, \"#ed7953\"], [0.7777777777777778, \"#fb9f3a\"], [0.8888888888888888, \"#fdca26\"], [1.0, \"#f0f921\"]], \"type\": \"histogram2dcontour\"}], \"mesh3d\": [{\"colorbar\": {\"outlinewidth\": 0, \"ticks\": \"\"}, \"type\": \"mesh3d\"}], \"parcoords\": [{\"line\": {\"colorbar\": {\"outlinewidth\": 0, \"ticks\": \"\"}}, \"type\": \"parcoords\"}], \"pie\": [{\"automargin\": true, \"type\": \"pie\"}], \"scatter\": [{\"marker\": {\"colorbar\": {\"outlinewidth\": 0, \"ticks\": \"\"}}, \"type\": \"scatter\"}], \"scatter3d\": [{\"line\": {\"colorbar\": {\"outlinewidth\": 0, \"ticks\": \"\"}}, \"marker\": {\"colorbar\": {\"outlinewidth\": 0, \"ticks\": \"\"}}, \"type\": \"scatter3d\"}], \"scattercarpet\": [{\"marker\": {\"colorbar\": {\"outlinewidth\": 0, \"ticks\": \"\"}}, \"type\": \"scattercarpet\"}], \"scattergeo\": [{\"marker\": {\"colorbar\": {\"outlinewidth\": 0, \"ticks\": \"\"}}, \"type\": \"scattergeo\"}], \"scattergl\": [{\"marker\": {\"colorbar\": {\"outlinewidth\": 0, \"ticks\": \"\"}}, \"type\": \"scattergl\"}], \"scattermapbox\": [{\"marker\": {\"colorbar\": {\"outlinewidth\": 0, \"ticks\": \"\"}}, \"type\": \"scattermapbox\"}], \"scatterpolar\": [{\"marker\": {\"colorbar\": {\"outlinewidth\": 0, \"ticks\": \"\"}}, \"type\": \"scatterpolar\"}], \"scatterpolargl\": [{\"marker\": {\"colorbar\": {\"outlinewidth\": 0, \"ticks\": \"\"}}, \"type\": \"scatterpolargl\"}], \"scatterternary\": [{\"marker\": {\"colorbar\": {\"outlinewidth\": 0, \"ticks\": \"\"}}, \"type\": \"scatterternary\"}], \"surface\": [{\"colorbar\": {\"outlinewidth\": 0, \"ticks\": \"\"}, \"colorscale\": [[0.0, \"#0d0887\"], [0.1111111111111111, \"#46039f\"], [0.2222222222222222, \"#7201a8\"], [0.3333333333333333, \"#9c179e\"], [0.4444444444444444, \"#bd3786\"], [0.5555555555555556, \"#d8576b\"], [0.6666666666666666, \"#ed7953\"], [0.7777777777777778, \"#fb9f3a\"], [0.8888888888888888, \"#fdca26\"], [1.0, \"#f0f921\"]], \"type\": \"surface\"}], \"table\": [{\"cells\": {\"fill\": {\"color\": \"#EBF0F8\"}, \"line\": {\"color\": \"white\"}}, \"header\": {\"fill\": {\"color\": \"#C8D4E3\"}, \"line\": {\"color\": \"white\"}}, \"type\": \"table\"}]}, \"layout\": {\"annotationdefaults\": {\"arrowcolor\": \"#2a3f5f\", \"arrowhead\": 0, \"arrowwidth\": 1}, \"coloraxis\": {\"colorbar\": {\"outlinewidth\": 0, \"ticks\": \"\"}}, \"colorscale\": {\"diverging\": [[0, \"#8e0152\"], [0.1, \"#c51b7d\"], [0.2, \"#de77ae\"], [0.3, \"#f1b6da\"], [0.4, \"#fde0ef\"], [0.5, \"#f7f7f7\"], [0.6, \"#e6f5d0\"], [0.7, \"#b8e186\"], [0.8, \"#7fbc41\"], [0.9, \"#4d9221\"], [1, \"#276419\"]], \"sequential\": [[0.0, \"#0d0887\"], [0.1111111111111111, \"#46039f\"], [0.2222222222222222, \"#7201a8\"], [0.3333333333333333, \"#9c179e\"], [0.4444444444444444, \"#bd3786\"], [0.5555555555555556, \"#d8576b\"], [0.6666666666666666, \"#ed7953\"], [0.7777777777777778, \"#fb9f3a\"], [0.8888888888888888, \"#fdca26\"], [1.0, \"#f0f921\"]], \"sequentialminus\": [[0.0, \"#0d0887\"], [0.1111111111111111, \"#46039f\"], [0.2222222222222222, \"#7201a8\"], [0.3333333333333333, \"#9c179e\"], [0.4444444444444444, \"#bd3786\"], [0.5555555555555556, \"#d8576b\"], [0.6666666666666666, \"#ed7953\"], [0.7777777777777778, \"#fb9f3a\"], [0.8888888888888888, \"#fdca26\"], [1.0, \"#f0f921\"]]}, \"colorway\": [\"#636efa\", \"#EF553B\", \"#00cc96\", \"#ab63fa\", \"#FFA15A\", \"#19d3f3\", \"#FF6692\", \"#B6E880\", \"#FF97FF\", \"#FECB52\"], \"font\": {\"color\": \"#2a3f5f\"}, \"geo\": {\"bgcolor\": \"white\", \"lakecolor\": \"white\", \"landcolor\": \"#E5ECF6\", \"showlakes\": true, \"showland\": true, \"subunitcolor\": \"white\"}, \"hoverlabel\": {\"align\": \"left\"}, \"hovermode\": \"closest\", \"mapbox\": {\"style\": \"light\"}, \"paper_bgcolor\": \"white\", \"plot_bgcolor\": \"#E5ECF6\", \"polar\": {\"angularaxis\": {\"gridcolor\": \"white\", \"linecolor\": \"white\", \"ticks\": \"\"}, \"bgcolor\": \"#E5ECF6\", \"radialaxis\": {\"gridcolor\": \"white\", \"linecolor\": \"white\", \"ticks\": \"\"}}, \"scene\": {\"xaxis\": {\"backgroundcolor\": \"#E5ECF6\", \"gridcolor\": \"white\", \"gridwidth\": 2, \"linecolor\": \"white\", \"showbackground\": true, \"ticks\": \"\", \"zerolinecolor\": \"white\"}, \"yaxis\": {\"backgroundcolor\": \"#E5ECF6\", \"gridcolor\": \"white\", \"gridwidth\": 2, \"linecolor\": \"white\", \"showbackground\": true, \"ticks\": \"\", \"zerolinecolor\": \"white\"}, \"zaxis\": {\"backgroundcolor\": \"#E5ECF6\", \"gridcolor\": \"white\", \"gridwidth\": 2, \"linecolor\": \"white\", \"showbackground\": true, \"ticks\": \"\", \"zerolinecolor\": \"white\"}}, \"shapedefaults\": {\"line\": {\"color\": \"#2a3f5f\"}}, \"ternary\": {\"aaxis\": {\"gridcolor\": \"white\", \"linecolor\": \"white\", \"ticks\": \"\"}, \"baxis\": {\"gridcolor\": \"white\", \"linecolor\": \"white\", \"ticks\": \"\"}, \"bgcolor\": \"#E5ECF6\", \"caxis\": {\"gridcolor\": \"white\", \"linecolor\": \"white\", \"ticks\": \"\"}}, \"title\": {\"x\": 0.05}, \"xaxis\": {\"automargin\": true, \"gridcolor\": \"white\", \"linecolor\": \"white\", \"ticks\": \"\", \"title\": {\"standoff\": 15}, \"zerolinecolor\": \"white\", \"zerolinewidth\": 2}, \"yaxis\": {\"automargin\": true, \"gridcolor\": \"white\", \"linecolor\": \"white\", \"ticks\": \"\", \"title\": {\"standoff\": 15}, \"zerolinecolor\": \"white\", \"zerolinewidth\": 2}}}, \"title\": {\"text\": \"N\\u00fameros absolutos das reprova\\u00e7\\u00f5es e desist\\u00eancias nas disciplinas do PPGI\"}},\n",
       "                        {\"responsive\": true}\n",
       "                    ).then(function(){\n",
       "                            \n",
       "var gd = document.getElementById('0923d169-9248-4d8b-a4cc-a4f0ff9cd53f');\n",
       "var x = new MutationObserver(function (mutations, observer) {{\n",
       "        var display = window.getComputedStyle(gd).display;\n",
       "        if (!display || display === 'none') {{\n",
       "            console.log([gd, 'removed!']);\n",
       "            Plotly.purge(gd);\n",
       "            observer.disconnect();\n",
       "        }}\n",
       "}});\n",
       "\n",
       "// Listen for the removal of the full notebook cells\n",
       "var notebookContainer = gd.closest('#notebook-container');\n",
       "if (notebookContainer) {{\n",
       "    x.observe(notebookContainer, {childList: true});\n",
       "}}\n",
       "\n",
       "// Listen for the clearing of the current output cell\n",
       "var outputEl = gd.closest('.output');\n",
       "if (outputEl) {{\n",
       "    x.observe(outputEl, {childList: true});\n",
       "}}\n",
       "\n",
       "                        })\n",
       "                };\n",
       "                });\n",
       "            </script>\n",
       "        </div>"
      ]
     },
     "metadata": {},
     "output_type": "display_data"
    }
   ],
   "source": [
    "mi = df['Menção'] == \"MI\"\n",
    "\n",
    "ii = df['Menção'] == \"II\"\n",
    "\n",
    "sr = df['Menção'] == \"SR\"\n",
    "\n",
    "dfrep = df[mi | ii | sr ]\n",
    "\n",
    "fig = px.pie(dfrep, names='Disciplina', title='Números absolutos das reprovações e desistências nas disciplinas do PPGI')\n",
    "fig.show()"
   ]
  },
  {
   "cell_type": "code",
   "execution_count": 483,
   "metadata": {},
   "outputs": [
    {
     "data": {
      "application/vnd.plotly.v1+json": {
       "config": {
        "plotlyServerURL": "https://plot.ly"
       },
       "data": [
        {
         "domain": {
          "x": [
           0,
           1
          ],
          "y": [
           0,
           1
          ]
         },
         "hovertemplate": "Disciplina=%{label}<extra></extra>",
         "labels": [
          "Teoria da Computação                                                  ",
          "Teoria da Computação                                                  ",
          "Tópicos em Sistemas de Computação                                     ",
          "Inteligência Artificial 2                                             ",
          "Sistemas Distribuídos                                                 ",
          "Teoria da Computação                                                  ",
          "Teoria da Computação                                                  ",
          "Inteligência Artificial 2                                             ",
          "Teoria da Computação                                                  ",
          "Teoria da Computação                                                  ",
          "Inteligência Artificial 1                                             ",
          "Projeto e Complexidade de Algoritmos                                  ",
          "Projeto e Complexidade de Algoritmos                                  ",
          "Fundamentos de Sistemas Computacionais                                ",
          "Fundamentos de Sistemas Computacionais                                ",
          "Projeto e Complexidade de Algoritmos                                  ",
          "Fundamentos de Sistemas Computacionais                                ",
          "Teoria da Computação                                                  ",
          "Teoria da Computação                                                  ",
          "Teoria da Computação                                                  ",
          "Teoria da Computação                                                  ",
          "Processamento de Imagens Digitais                                     ",
          "Fundamentos de Sistemas Computacionais                                ",
          "Projeto e Complexidade de Algoritmos                                  ",
          "Projeto e Complexidade de Algoritmos                                  ",
          "Fundamentos de Sistemas Computacionais                                ",
          "Sistemas Distribuídos                                                 ",
          "Teoria da Computação                                                  ",
          "Fundamentos de Sistemas Computacionais                                ",
          "Projeto e Complexidade de Algoritmos                                  ",
          "Fundamentos de Sistemas Computacionais                                ",
          "Projeto e Complexidade de Algoritmos                                  ",
          "Projeto e Complexidade de Algoritmos                                  ",
          "Fundamentos de Sistemas Computacionais                                ",
          "Projeto e Complexidade de Algoritmos                                  ",
          "Tópicos em Fundamentos e Métodos de Computação                        ",
          "Teoria da Computação                                                  ",
          "Teoria da Computação                                                  ",
          "Teoria da Computação                                                  ",
          "Teoria da Computação                                                  ",
          "Teoria da Computação                                                  ",
          "Trabalho Individual em Fundamentos e Métodos de Computação            ",
          "Fundamentos de Sistemas Computacionais                                ",
          "Tópicos em Fundamentos e Métodos de Computação                        ",
          "Seminário                                                             ",
          "Inteligência Artificial 1                                             ",
          "Lógica Formal e Computacional                                         ",
          "Fundamentos de Sistemas Computacionais                                ",
          "Projeto e Complexidade de Algoritmos                                  ",
          "Lógica Formal e Computacional                                         ",
          "Sistemas Distribuídos                                                 ",
          "Teoria da Computação                                                  ",
          "Teoria da Computação                                                  ",
          "Teoria da Computação                                                  ",
          "Fundamentos de Sistemas Computacionais                                ",
          "Projeto e Complexidade de Algoritmos                                  ",
          "Teoria da Computação                                                  ",
          "Projeto e Complexidade de Algoritmos                                  ",
          "Fundamentos de Sistemas Computacionais                                ",
          "Projeto e Complexidade de Algoritmos                                  ",
          "Projeto e Complexidade de Algoritmos                                  ",
          "Tópicos em Sistemas de Computação                                     ",
          "Fundamentos de Sistemas Computacionais                                ",
          "Fundamentos de Sistemas Computacionais                                ",
          "Sistemas Multiagentes                                                 ",
          "Trabalho Individual em Fundamentos e Métodos de Computação            ",
          "Projeto e Complexidade de Algoritmos                                  ",
          "Tópicos em Sistemas de Computação                                     ",
          "Sistemas Distribuídos                                                 ",
          "Fundamentos de Sistemas Computacionais                                ",
          "Projeto e Complexidade de Algoritmos                                  ",
          "Projeto e Complexidade de Algoritmos                                  ",
          "Fundamentos de Sistemas Computacionais                                ",
          "Projeto e Complexidade de Algoritmos                                  ",
          "Fundamentos de Sistemas Computacionais                                ",
          "Projeto e Complexidade de Algoritmos                                  ",
          "Teoria da Computação                                                  ",
          "Tópicos em Fundamentos e Métodos de Computação                        ",
          "Fundamentos de Sistemas Computacionais                                ",
          "Teoria da Computação                                                  ",
          "Trabalho Individual em Fundamentos e Métodos de Computação            ",
          "Estágio de Docência no Ensino de Graduação em Ciência da Computação   ",
          "Lógica Formal e Computacional                                         ",
          "Sistemas Distribuídos                                                 ",
          "Fundamentos de Sistemas Computacionais                                ",
          "Sistemas Distribuídos                                                 ",
          "Tópicos em Sistemas de Computação                                     ",
          "Fundamentos de Sistemas Computacionais                                ",
          "Fundamentos de Sistemas Computacionais                                ",
          "Fundamentos de Sistemas Computacionais                                ",
          "Fundamentos de Sistemas Computacionais                                ",
          "Projeto e Complexidade de Algoritmos                                  ",
          "Projeto e Complexidade de Algoritmos                                  ",
          "Projeto e Complexidade de Algoritmos                                  ",
          "Trabalho Individual em Fundamentos e Métodos de Computação            ",
          "Teoria da Computação                                                  ",
          "Teoria da Computação                                                  ",
          "Teoria da Computação                                                  ",
          "Inteligência Artificial 1                                             ",
          "Processamento de Imagens                                              ",
          "Modelagem e Verificação de Sistemas Integrados em Silício             ",
          "Teoria da Computação                                                  ",
          "Projeto e Complexidade de Algoritmos                                  ",
          "Sistemas Distribuídos                                                 ",
          "Projeto e Complexidade de Algoritmos                                  ",
          "Projeto e Complexidade de Algoritmos                                  ",
          "Teoria da Computação                                                  ",
          "Fundamentos de Sistemas Computacionais                                ",
          "Tópicos em Sistemas de Computação                                     ",
          "Fundamentos de Sistemas Computacionais                                ",
          "Teoria da Computação                                                  ",
          "Fundamentos de Sistemas Computacionais                                ",
          "Fundamentos de Sistemas Computacionais                                ",
          "Fundamentos de Sistemas Computacionais                                "
         ],
         "legendgroup": "",
         "name": "",
         "showlegend": true,
         "type": "pie"
        }
       ],
       "layout": {
        "legend": {
         "tracegroupgap": 0
        },
        "template": {
         "data": {
          "bar": [
           {
            "error_x": {
             "color": "#2a3f5f"
            },
            "error_y": {
             "color": "#2a3f5f"
            },
            "marker": {
             "line": {
              "color": "#E5ECF6",
              "width": 0.5
             }
            },
            "type": "bar"
           }
          ],
          "barpolar": [
           {
            "marker": {
             "line": {
              "color": "#E5ECF6",
              "width": 0.5
             }
            },
            "type": "barpolar"
           }
          ],
          "carpet": [
           {
            "aaxis": {
             "endlinecolor": "#2a3f5f",
             "gridcolor": "white",
             "linecolor": "white",
             "minorgridcolor": "white",
             "startlinecolor": "#2a3f5f"
            },
            "baxis": {
             "endlinecolor": "#2a3f5f",
             "gridcolor": "white",
             "linecolor": "white",
             "minorgridcolor": "white",
             "startlinecolor": "#2a3f5f"
            },
            "type": "carpet"
           }
          ],
          "choropleth": [
           {
            "colorbar": {
             "outlinewidth": 0,
             "ticks": ""
            },
            "type": "choropleth"
           }
          ],
          "contour": [
           {
            "colorbar": {
             "outlinewidth": 0,
             "ticks": ""
            },
            "colorscale": [
             [
              0,
              "#0d0887"
             ],
             [
              0.1111111111111111,
              "#46039f"
             ],
             [
              0.2222222222222222,
              "#7201a8"
             ],
             [
              0.3333333333333333,
              "#9c179e"
             ],
             [
              0.4444444444444444,
              "#bd3786"
             ],
             [
              0.5555555555555556,
              "#d8576b"
             ],
             [
              0.6666666666666666,
              "#ed7953"
             ],
             [
              0.7777777777777778,
              "#fb9f3a"
             ],
             [
              0.8888888888888888,
              "#fdca26"
             ],
             [
              1,
              "#f0f921"
             ]
            ],
            "type": "contour"
           }
          ],
          "contourcarpet": [
           {
            "colorbar": {
             "outlinewidth": 0,
             "ticks": ""
            },
            "type": "contourcarpet"
           }
          ],
          "heatmap": [
           {
            "colorbar": {
             "outlinewidth": 0,
             "ticks": ""
            },
            "colorscale": [
             [
              0,
              "#0d0887"
             ],
             [
              0.1111111111111111,
              "#46039f"
             ],
             [
              0.2222222222222222,
              "#7201a8"
             ],
             [
              0.3333333333333333,
              "#9c179e"
             ],
             [
              0.4444444444444444,
              "#bd3786"
             ],
             [
              0.5555555555555556,
              "#d8576b"
             ],
             [
              0.6666666666666666,
              "#ed7953"
             ],
             [
              0.7777777777777778,
              "#fb9f3a"
             ],
             [
              0.8888888888888888,
              "#fdca26"
             ],
             [
              1,
              "#f0f921"
             ]
            ],
            "type": "heatmap"
           }
          ],
          "heatmapgl": [
           {
            "colorbar": {
             "outlinewidth": 0,
             "ticks": ""
            },
            "colorscale": [
             [
              0,
              "#0d0887"
             ],
             [
              0.1111111111111111,
              "#46039f"
             ],
             [
              0.2222222222222222,
              "#7201a8"
             ],
             [
              0.3333333333333333,
              "#9c179e"
             ],
             [
              0.4444444444444444,
              "#bd3786"
             ],
             [
              0.5555555555555556,
              "#d8576b"
             ],
             [
              0.6666666666666666,
              "#ed7953"
             ],
             [
              0.7777777777777778,
              "#fb9f3a"
             ],
             [
              0.8888888888888888,
              "#fdca26"
             ],
             [
              1,
              "#f0f921"
             ]
            ],
            "type": "heatmapgl"
           }
          ],
          "histogram": [
           {
            "marker": {
             "colorbar": {
              "outlinewidth": 0,
              "ticks": ""
             }
            },
            "type": "histogram"
           }
          ],
          "histogram2d": [
           {
            "colorbar": {
             "outlinewidth": 0,
             "ticks": ""
            },
            "colorscale": [
             [
              0,
              "#0d0887"
             ],
             [
              0.1111111111111111,
              "#46039f"
             ],
             [
              0.2222222222222222,
              "#7201a8"
             ],
             [
              0.3333333333333333,
              "#9c179e"
             ],
             [
              0.4444444444444444,
              "#bd3786"
             ],
             [
              0.5555555555555556,
              "#d8576b"
             ],
             [
              0.6666666666666666,
              "#ed7953"
             ],
             [
              0.7777777777777778,
              "#fb9f3a"
             ],
             [
              0.8888888888888888,
              "#fdca26"
             ],
             [
              1,
              "#f0f921"
             ]
            ],
            "type": "histogram2d"
           }
          ],
          "histogram2dcontour": [
           {
            "colorbar": {
             "outlinewidth": 0,
             "ticks": ""
            },
            "colorscale": [
             [
              0,
              "#0d0887"
             ],
             [
              0.1111111111111111,
              "#46039f"
             ],
             [
              0.2222222222222222,
              "#7201a8"
             ],
             [
              0.3333333333333333,
              "#9c179e"
             ],
             [
              0.4444444444444444,
              "#bd3786"
             ],
             [
              0.5555555555555556,
              "#d8576b"
             ],
             [
              0.6666666666666666,
              "#ed7953"
             ],
             [
              0.7777777777777778,
              "#fb9f3a"
             ],
             [
              0.8888888888888888,
              "#fdca26"
             ],
             [
              1,
              "#f0f921"
             ]
            ],
            "type": "histogram2dcontour"
           }
          ],
          "mesh3d": [
           {
            "colorbar": {
             "outlinewidth": 0,
             "ticks": ""
            },
            "type": "mesh3d"
           }
          ],
          "parcoords": [
           {
            "line": {
             "colorbar": {
              "outlinewidth": 0,
              "ticks": ""
             }
            },
            "type": "parcoords"
           }
          ],
          "pie": [
           {
            "automargin": true,
            "type": "pie"
           }
          ],
          "scatter": [
           {
            "marker": {
             "colorbar": {
              "outlinewidth": 0,
              "ticks": ""
             }
            },
            "type": "scatter"
           }
          ],
          "scatter3d": [
           {
            "line": {
             "colorbar": {
              "outlinewidth": 0,
              "ticks": ""
             }
            },
            "marker": {
             "colorbar": {
              "outlinewidth": 0,
              "ticks": ""
             }
            },
            "type": "scatter3d"
           }
          ],
          "scattercarpet": [
           {
            "marker": {
             "colorbar": {
              "outlinewidth": 0,
              "ticks": ""
             }
            },
            "type": "scattercarpet"
           }
          ],
          "scattergeo": [
           {
            "marker": {
             "colorbar": {
              "outlinewidth": 0,
              "ticks": ""
             }
            },
            "type": "scattergeo"
           }
          ],
          "scattergl": [
           {
            "marker": {
             "colorbar": {
              "outlinewidth": 0,
              "ticks": ""
             }
            },
            "type": "scattergl"
           }
          ],
          "scattermapbox": [
           {
            "marker": {
             "colorbar": {
              "outlinewidth": 0,
              "ticks": ""
             }
            },
            "type": "scattermapbox"
           }
          ],
          "scatterpolar": [
           {
            "marker": {
             "colorbar": {
              "outlinewidth": 0,
              "ticks": ""
             }
            },
            "type": "scatterpolar"
           }
          ],
          "scatterpolargl": [
           {
            "marker": {
             "colorbar": {
              "outlinewidth": 0,
              "ticks": ""
             }
            },
            "type": "scatterpolargl"
           }
          ],
          "scatterternary": [
           {
            "marker": {
             "colorbar": {
              "outlinewidth": 0,
              "ticks": ""
             }
            },
            "type": "scatterternary"
           }
          ],
          "surface": [
           {
            "colorbar": {
             "outlinewidth": 0,
             "ticks": ""
            },
            "colorscale": [
             [
              0,
              "#0d0887"
             ],
             [
              0.1111111111111111,
              "#46039f"
             ],
             [
              0.2222222222222222,
              "#7201a8"
             ],
             [
              0.3333333333333333,
              "#9c179e"
             ],
             [
              0.4444444444444444,
              "#bd3786"
             ],
             [
              0.5555555555555556,
              "#d8576b"
             ],
             [
              0.6666666666666666,
              "#ed7953"
             ],
             [
              0.7777777777777778,
              "#fb9f3a"
             ],
             [
              0.8888888888888888,
              "#fdca26"
             ],
             [
              1,
              "#f0f921"
             ]
            ],
            "type": "surface"
           }
          ],
          "table": [
           {
            "cells": {
             "fill": {
              "color": "#EBF0F8"
             },
             "line": {
              "color": "white"
             }
            },
            "header": {
             "fill": {
              "color": "#C8D4E3"
             },
             "line": {
              "color": "white"
             }
            },
            "type": "table"
           }
          ]
         },
         "layout": {
          "annotationdefaults": {
           "arrowcolor": "#2a3f5f",
           "arrowhead": 0,
           "arrowwidth": 1
          },
          "coloraxis": {
           "colorbar": {
            "outlinewidth": 0,
            "ticks": ""
           }
          },
          "colorscale": {
           "diverging": [
            [
             0,
             "#8e0152"
            ],
            [
             0.1,
             "#c51b7d"
            ],
            [
             0.2,
             "#de77ae"
            ],
            [
             0.3,
             "#f1b6da"
            ],
            [
             0.4,
             "#fde0ef"
            ],
            [
             0.5,
             "#f7f7f7"
            ],
            [
             0.6,
             "#e6f5d0"
            ],
            [
             0.7,
             "#b8e186"
            ],
            [
             0.8,
             "#7fbc41"
            ],
            [
             0.9,
             "#4d9221"
            ],
            [
             1,
             "#276419"
            ]
           ],
           "sequential": [
            [
             0,
             "#0d0887"
            ],
            [
             0.1111111111111111,
             "#46039f"
            ],
            [
             0.2222222222222222,
             "#7201a8"
            ],
            [
             0.3333333333333333,
             "#9c179e"
            ],
            [
             0.4444444444444444,
             "#bd3786"
            ],
            [
             0.5555555555555556,
             "#d8576b"
            ],
            [
             0.6666666666666666,
             "#ed7953"
            ],
            [
             0.7777777777777778,
             "#fb9f3a"
            ],
            [
             0.8888888888888888,
             "#fdca26"
            ],
            [
             1,
             "#f0f921"
            ]
           ],
           "sequentialminus": [
            [
             0,
             "#0d0887"
            ],
            [
             0.1111111111111111,
             "#46039f"
            ],
            [
             0.2222222222222222,
             "#7201a8"
            ],
            [
             0.3333333333333333,
             "#9c179e"
            ],
            [
             0.4444444444444444,
             "#bd3786"
            ],
            [
             0.5555555555555556,
             "#d8576b"
            ],
            [
             0.6666666666666666,
             "#ed7953"
            ],
            [
             0.7777777777777778,
             "#fb9f3a"
            ],
            [
             0.8888888888888888,
             "#fdca26"
            ],
            [
             1,
             "#f0f921"
            ]
           ]
          },
          "colorway": [
           "#636efa",
           "#EF553B",
           "#00cc96",
           "#ab63fa",
           "#FFA15A",
           "#19d3f3",
           "#FF6692",
           "#B6E880",
           "#FF97FF",
           "#FECB52"
          ],
          "font": {
           "color": "#2a3f5f"
          },
          "geo": {
           "bgcolor": "white",
           "lakecolor": "white",
           "landcolor": "#E5ECF6",
           "showlakes": true,
           "showland": true,
           "subunitcolor": "white"
          },
          "hoverlabel": {
           "align": "left"
          },
          "hovermode": "closest",
          "mapbox": {
           "style": "light"
          },
          "paper_bgcolor": "white",
          "plot_bgcolor": "#E5ECF6",
          "polar": {
           "angularaxis": {
            "gridcolor": "white",
            "linecolor": "white",
            "ticks": ""
           },
           "bgcolor": "#E5ECF6",
           "radialaxis": {
            "gridcolor": "white",
            "linecolor": "white",
            "ticks": ""
           }
          },
          "scene": {
           "xaxis": {
            "backgroundcolor": "#E5ECF6",
            "gridcolor": "white",
            "gridwidth": 2,
            "linecolor": "white",
            "showbackground": true,
            "ticks": "",
            "zerolinecolor": "white"
           },
           "yaxis": {
            "backgroundcolor": "#E5ECF6",
            "gridcolor": "white",
            "gridwidth": 2,
            "linecolor": "white",
            "showbackground": true,
            "ticks": "",
            "zerolinecolor": "white"
           },
           "zaxis": {
            "backgroundcolor": "#E5ECF6",
            "gridcolor": "white",
            "gridwidth": 2,
            "linecolor": "white",
            "showbackground": true,
            "ticks": "",
            "zerolinecolor": "white"
           }
          },
          "shapedefaults": {
           "line": {
            "color": "#2a3f5f"
           }
          },
          "ternary": {
           "aaxis": {
            "gridcolor": "white",
            "linecolor": "white",
            "ticks": ""
           },
           "baxis": {
            "gridcolor": "white",
            "linecolor": "white",
            "ticks": ""
           },
           "bgcolor": "#E5ECF6",
           "caxis": {
            "gridcolor": "white",
            "linecolor": "white",
            "ticks": ""
           }
          },
          "title": {
           "x": 0.05
          },
          "xaxis": {
           "automargin": true,
           "gridcolor": "white",
           "linecolor": "white",
           "ticks": "",
           "title": {
            "standoff": 15
           },
           "zerolinecolor": "white",
           "zerolinewidth": 2
          },
          "yaxis": {
           "automargin": true,
           "gridcolor": "white",
           "linecolor": "white",
           "ticks": "",
           "title": {
            "standoff": 15
           },
           "zerolinecolor": "white",
           "zerolinewidth": 2
          }
         }
        },
        "title": {
         "text": "Matrículas em disciplinas que obtiveram menção MM"
        }
       }
      },
      "text/html": [
       "<div>\n",
       "        \n",
       "        \n",
       "            <div id=\"e41daacd-4304-4066-9cf5-6ed515886d90\" class=\"plotly-graph-div\" style=\"height:525px; width:100%;\"></div>\n",
       "            <script type=\"text/javascript\">\n",
       "                require([\"plotly\"], function(Plotly) {\n",
       "                    window.PLOTLYENV=window.PLOTLYENV || {};\n",
       "                    \n",
       "                if (document.getElementById(\"e41daacd-4304-4066-9cf5-6ed515886d90\")) {\n",
       "                    Plotly.newPlot(\n",
       "                        'e41daacd-4304-4066-9cf5-6ed515886d90',\n",
       "                        [{\"domain\": {\"x\": [0.0, 1.0], \"y\": [0.0, 1.0]}, \"hovertemplate\": \"Disciplina=%{label}<extra></extra>\", \"labels\": [\"Teoria da Computa\\u00e7\\u00e3o                                                  \", \"Teoria da Computa\\u00e7\\u00e3o                                                  \", \"T\\u00f3picos em Sistemas de Computa\\u00e7\\u00e3o                                     \", \"Intelig\\u00eancia Artificial 2                                             \", \"Sistemas Distribu\\u00eddos                                                 \", \"Teoria da Computa\\u00e7\\u00e3o                                                  \", \"Teoria da Computa\\u00e7\\u00e3o                                                  \", \"Intelig\\u00eancia Artificial 2                                             \", \"Teoria da Computa\\u00e7\\u00e3o                                                  \", \"Teoria da Computa\\u00e7\\u00e3o                                                  \", \"Intelig\\u00eancia Artificial 1                                             \", \"Projeto e Complexidade de Algoritmos                                  \", \"Projeto e Complexidade de Algoritmos                                  \", \"Fundamentos de Sistemas Computacionais                                \", \"Fundamentos de Sistemas Computacionais                                \", \"Projeto e Complexidade de Algoritmos                                  \", \"Fundamentos de Sistemas Computacionais                                \", \"Teoria da Computa\\u00e7\\u00e3o                                                  \", \"Teoria da Computa\\u00e7\\u00e3o                                                  \", \"Teoria da Computa\\u00e7\\u00e3o                                                  \", \"Teoria da Computa\\u00e7\\u00e3o                                                  \", \"Processamento de Imagens Digitais                                     \", \"Fundamentos de Sistemas Computacionais                                \", \"Projeto e Complexidade de Algoritmos                                  \", \"Projeto e Complexidade de Algoritmos                                  \", \"Fundamentos de Sistemas Computacionais                                \", \"Sistemas Distribu\\u00eddos                                                 \", \"Teoria da Computa\\u00e7\\u00e3o                                                  \", \"Fundamentos de Sistemas Computacionais                                \", \"Projeto e Complexidade de Algoritmos                                  \", \"Fundamentos de Sistemas Computacionais                                \", \"Projeto e Complexidade de Algoritmos                                  \", \"Projeto e Complexidade de Algoritmos                                  \", \"Fundamentos de Sistemas Computacionais                                \", \"Projeto e Complexidade de Algoritmos                                  \", \"T\\u00f3picos em Fundamentos e M\\u00e9todos de Computa\\u00e7\\u00e3o                        \", \"Teoria da Computa\\u00e7\\u00e3o                                                  \", \"Teoria da Computa\\u00e7\\u00e3o                                                  \", \"Teoria da Computa\\u00e7\\u00e3o                                                  \", \"Teoria da Computa\\u00e7\\u00e3o                                                  \", \"Teoria da Computa\\u00e7\\u00e3o                                                  \", \"Trabalho Individual em Fundamentos e M\\u00e9todos de Computa\\u00e7\\u00e3o            \", \"Fundamentos de Sistemas Computacionais                                \", \"T\\u00f3picos em Fundamentos e M\\u00e9todos de Computa\\u00e7\\u00e3o                        \", \"Semin\\u00e1rio                                                             \", \"Intelig\\u00eancia Artificial 1                                             \", \"L\\u00f3gica Formal e Computacional                                         \", \"Fundamentos de Sistemas Computacionais                                \", \"Projeto e Complexidade de Algoritmos                                  \", \"L\\u00f3gica Formal e Computacional                                         \", \"Sistemas Distribu\\u00eddos                                                 \", \"Teoria da Computa\\u00e7\\u00e3o                                                  \", \"Teoria da Computa\\u00e7\\u00e3o                                                  \", \"Teoria da Computa\\u00e7\\u00e3o                                                  \", \"Fundamentos de Sistemas Computacionais                                \", \"Projeto e Complexidade de Algoritmos                                  \", \"Teoria da Computa\\u00e7\\u00e3o                                                  \", \"Projeto e Complexidade de Algoritmos                                  \", \"Fundamentos de Sistemas Computacionais                                \", \"Projeto e Complexidade de Algoritmos                                  \", \"Projeto e Complexidade de Algoritmos                                  \", \"T\\u00f3picos em Sistemas de Computa\\u00e7\\u00e3o                                     \", \"Fundamentos de Sistemas Computacionais                                \", \"Fundamentos de Sistemas Computacionais                                \", \"Sistemas Multiagentes                                                 \", \"Trabalho Individual em Fundamentos e M\\u00e9todos de Computa\\u00e7\\u00e3o            \", \"Projeto e Complexidade de Algoritmos                                  \", \"T\\u00f3picos em Sistemas de Computa\\u00e7\\u00e3o                                     \", \"Sistemas Distribu\\u00eddos                                                 \", \"Fundamentos de Sistemas Computacionais                                \", \"Projeto e Complexidade de Algoritmos                                  \", \"Projeto e Complexidade de Algoritmos                                  \", \"Fundamentos de Sistemas Computacionais                                \", \"Projeto e Complexidade de Algoritmos                                  \", \"Fundamentos de Sistemas Computacionais                                \", \"Projeto e Complexidade de Algoritmos                                  \", \"Teoria da Computa\\u00e7\\u00e3o                                                  \", \"T\\u00f3picos em Fundamentos e M\\u00e9todos de Computa\\u00e7\\u00e3o                        \", \"Fundamentos de Sistemas Computacionais                                \", \"Teoria da Computa\\u00e7\\u00e3o                                                  \", \"Trabalho Individual em Fundamentos e M\\u00e9todos de Computa\\u00e7\\u00e3o            \", \"Est\\u00e1gio de Doc\\u00eancia no Ensino de Gradua\\u00e7\\u00e3o em Ci\\u00eancia da Computa\\u00e7\\u00e3o   \", \"L\\u00f3gica Formal e Computacional                                         \", \"Sistemas Distribu\\u00eddos                                                 \", \"Fundamentos de Sistemas Computacionais                                \", \"Sistemas Distribu\\u00eddos                                                 \", \"T\\u00f3picos em Sistemas de Computa\\u00e7\\u00e3o                                     \", \"Fundamentos de Sistemas Computacionais                                \", \"Fundamentos de Sistemas Computacionais                                \", \"Fundamentos de Sistemas Computacionais                                \", \"Fundamentos de Sistemas Computacionais                                \", \"Projeto e Complexidade de Algoritmos                                  \", \"Projeto e Complexidade de Algoritmos                                  \", \"Projeto e Complexidade de Algoritmos                                  \", \"Trabalho Individual em Fundamentos e M\\u00e9todos de Computa\\u00e7\\u00e3o            \", \"Teoria da Computa\\u00e7\\u00e3o                                                  \", \"Teoria da Computa\\u00e7\\u00e3o                                                  \", \"Teoria da Computa\\u00e7\\u00e3o                                                  \", \"Intelig\\u00eancia Artificial 1                                             \", \"Processamento de Imagens                                              \", \"Modelagem e Verifica\\u00e7\\u00e3o de Sistemas Integrados em Sil\\u00edcio             \", \"Teoria da Computa\\u00e7\\u00e3o                                                  \", \"Projeto e Complexidade de Algoritmos                                  \", \"Sistemas Distribu\\u00eddos                                                 \", \"Projeto e Complexidade de Algoritmos                                  \", \"Projeto e Complexidade de Algoritmos                                  \", \"Teoria da Computa\\u00e7\\u00e3o                                                  \", \"Fundamentos de Sistemas Computacionais                                \", \"T\\u00f3picos em Sistemas de Computa\\u00e7\\u00e3o                                     \", \"Fundamentos de Sistemas Computacionais                                \", \"Teoria da Computa\\u00e7\\u00e3o                                                  \", \"Fundamentos de Sistemas Computacionais                                \", \"Fundamentos de Sistemas Computacionais                                \", \"Fundamentos de Sistemas Computacionais                                \"], \"legendgroup\": \"\", \"name\": \"\", \"showlegend\": true, \"type\": \"pie\"}],\n",
       "                        {\"legend\": {\"tracegroupgap\": 0}, \"template\": {\"data\": {\"bar\": [{\"error_x\": {\"color\": \"#2a3f5f\"}, \"error_y\": {\"color\": \"#2a3f5f\"}, \"marker\": {\"line\": {\"color\": \"#E5ECF6\", \"width\": 0.5}}, \"type\": \"bar\"}], \"barpolar\": [{\"marker\": {\"line\": {\"color\": \"#E5ECF6\", \"width\": 0.5}}, \"type\": \"barpolar\"}], \"carpet\": [{\"aaxis\": {\"endlinecolor\": \"#2a3f5f\", \"gridcolor\": \"white\", \"linecolor\": \"white\", \"minorgridcolor\": \"white\", \"startlinecolor\": \"#2a3f5f\"}, \"baxis\": {\"endlinecolor\": \"#2a3f5f\", \"gridcolor\": \"white\", \"linecolor\": \"white\", \"minorgridcolor\": \"white\", \"startlinecolor\": \"#2a3f5f\"}, \"type\": \"carpet\"}], \"choropleth\": [{\"colorbar\": {\"outlinewidth\": 0, \"ticks\": \"\"}, \"type\": \"choropleth\"}], \"contour\": [{\"colorbar\": {\"outlinewidth\": 0, \"ticks\": \"\"}, \"colorscale\": [[0.0, \"#0d0887\"], [0.1111111111111111, \"#46039f\"], [0.2222222222222222, \"#7201a8\"], [0.3333333333333333, \"#9c179e\"], [0.4444444444444444, \"#bd3786\"], [0.5555555555555556, \"#d8576b\"], [0.6666666666666666, \"#ed7953\"], [0.7777777777777778, \"#fb9f3a\"], [0.8888888888888888, \"#fdca26\"], [1.0, \"#f0f921\"]], \"type\": \"contour\"}], \"contourcarpet\": [{\"colorbar\": {\"outlinewidth\": 0, \"ticks\": \"\"}, \"type\": \"contourcarpet\"}], \"heatmap\": [{\"colorbar\": {\"outlinewidth\": 0, \"ticks\": \"\"}, \"colorscale\": [[0.0, \"#0d0887\"], [0.1111111111111111, \"#46039f\"], [0.2222222222222222, \"#7201a8\"], [0.3333333333333333, \"#9c179e\"], [0.4444444444444444, \"#bd3786\"], [0.5555555555555556, \"#d8576b\"], [0.6666666666666666, \"#ed7953\"], [0.7777777777777778, \"#fb9f3a\"], [0.8888888888888888, \"#fdca26\"], [1.0, \"#f0f921\"]], \"type\": \"heatmap\"}], \"heatmapgl\": [{\"colorbar\": {\"outlinewidth\": 0, \"ticks\": \"\"}, \"colorscale\": [[0.0, \"#0d0887\"], [0.1111111111111111, \"#46039f\"], [0.2222222222222222, \"#7201a8\"], [0.3333333333333333, \"#9c179e\"], [0.4444444444444444, \"#bd3786\"], [0.5555555555555556, \"#d8576b\"], [0.6666666666666666, \"#ed7953\"], [0.7777777777777778, \"#fb9f3a\"], [0.8888888888888888, \"#fdca26\"], [1.0, \"#f0f921\"]], \"type\": \"heatmapgl\"}], \"histogram\": [{\"marker\": {\"colorbar\": {\"outlinewidth\": 0, \"ticks\": \"\"}}, \"type\": \"histogram\"}], \"histogram2d\": [{\"colorbar\": {\"outlinewidth\": 0, \"ticks\": \"\"}, \"colorscale\": [[0.0, \"#0d0887\"], [0.1111111111111111, \"#46039f\"], [0.2222222222222222, \"#7201a8\"], [0.3333333333333333, \"#9c179e\"], [0.4444444444444444, \"#bd3786\"], [0.5555555555555556, \"#d8576b\"], [0.6666666666666666, \"#ed7953\"], [0.7777777777777778, \"#fb9f3a\"], [0.8888888888888888, \"#fdca26\"], [1.0, \"#f0f921\"]], \"type\": \"histogram2d\"}], \"histogram2dcontour\": [{\"colorbar\": {\"outlinewidth\": 0, \"ticks\": \"\"}, \"colorscale\": [[0.0, \"#0d0887\"], [0.1111111111111111, \"#46039f\"], [0.2222222222222222, \"#7201a8\"], [0.3333333333333333, \"#9c179e\"], [0.4444444444444444, \"#bd3786\"], [0.5555555555555556, \"#d8576b\"], [0.6666666666666666, \"#ed7953\"], [0.7777777777777778, \"#fb9f3a\"], [0.8888888888888888, \"#fdca26\"], [1.0, \"#f0f921\"]], \"type\": \"histogram2dcontour\"}], \"mesh3d\": [{\"colorbar\": {\"outlinewidth\": 0, \"ticks\": \"\"}, \"type\": \"mesh3d\"}], \"parcoords\": [{\"line\": {\"colorbar\": {\"outlinewidth\": 0, \"ticks\": \"\"}}, \"type\": \"parcoords\"}], \"pie\": [{\"automargin\": true, \"type\": \"pie\"}], \"scatter\": [{\"marker\": {\"colorbar\": {\"outlinewidth\": 0, \"ticks\": \"\"}}, \"type\": \"scatter\"}], \"scatter3d\": [{\"line\": {\"colorbar\": {\"outlinewidth\": 0, \"ticks\": \"\"}}, \"marker\": {\"colorbar\": {\"outlinewidth\": 0, \"ticks\": \"\"}}, \"type\": \"scatter3d\"}], \"scattercarpet\": [{\"marker\": {\"colorbar\": {\"outlinewidth\": 0, \"ticks\": \"\"}}, \"type\": \"scattercarpet\"}], \"scattergeo\": [{\"marker\": {\"colorbar\": {\"outlinewidth\": 0, \"ticks\": \"\"}}, \"type\": \"scattergeo\"}], \"scattergl\": [{\"marker\": {\"colorbar\": {\"outlinewidth\": 0, \"ticks\": \"\"}}, \"type\": \"scattergl\"}], \"scattermapbox\": [{\"marker\": {\"colorbar\": {\"outlinewidth\": 0, \"ticks\": \"\"}}, \"type\": \"scattermapbox\"}], \"scatterpolar\": [{\"marker\": {\"colorbar\": {\"outlinewidth\": 0, \"ticks\": \"\"}}, \"type\": \"scatterpolar\"}], \"scatterpolargl\": [{\"marker\": {\"colorbar\": {\"outlinewidth\": 0, \"ticks\": \"\"}}, \"type\": \"scatterpolargl\"}], \"scatterternary\": [{\"marker\": {\"colorbar\": {\"outlinewidth\": 0, \"ticks\": \"\"}}, \"type\": \"scatterternary\"}], \"surface\": [{\"colorbar\": {\"outlinewidth\": 0, \"ticks\": \"\"}, \"colorscale\": [[0.0, \"#0d0887\"], [0.1111111111111111, \"#46039f\"], [0.2222222222222222, \"#7201a8\"], [0.3333333333333333, \"#9c179e\"], [0.4444444444444444, \"#bd3786\"], [0.5555555555555556, \"#d8576b\"], [0.6666666666666666, \"#ed7953\"], [0.7777777777777778, \"#fb9f3a\"], [0.8888888888888888, \"#fdca26\"], [1.0, \"#f0f921\"]], \"type\": \"surface\"}], \"table\": [{\"cells\": {\"fill\": {\"color\": \"#EBF0F8\"}, \"line\": {\"color\": \"white\"}}, \"header\": {\"fill\": {\"color\": \"#C8D4E3\"}, \"line\": {\"color\": \"white\"}}, \"type\": \"table\"}]}, \"layout\": {\"annotationdefaults\": {\"arrowcolor\": \"#2a3f5f\", \"arrowhead\": 0, \"arrowwidth\": 1}, \"coloraxis\": {\"colorbar\": {\"outlinewidth\": 0, \"ticks\": \"\"}}, \"colorscale\": {\"diverging\": [[0, \"#8e0152\"], [0.1, \"#c51b7d\"], [0.2, \"#de77ae\"], [0.3, \"#f1b6da\"], [0.4, \"#fde0ef\"], [0.5, \"#f7f7f7\"], [0.6, \"#e6f5d0\"], [0.7, \"#b8e186\"], [0.8, \"#7fbc41\"], [0.9, \"#4d9221\"], [1, \"#276419\"]], \"sequential\": [[0.0, \"#0d0887\"], [0.1111111111111111, \"#46039f\"], [0.2222222222222222, \"#7201a8\"], [0.3333333333333333, \"#9c179e\"], [0.4444444444444444, \"#bd3786\"], [0.5555555555555556, \"#d8576b\"], [0.6666666666666666, \"#ed7953\"], [0.7777777777777778, \"#fb9f3a\"], [0.8888888888888888, \"#fdca26\"], [1.0, \"#f0f921\"]], \"sequentialminus\": [[0.0, \"#0d0887\"], [0.1111111111111111, \"#46039f\"], [0.2222222222222222, \"#7201a8\"], [0.3333333333333333, \"#9c179e\"], [0.4444444444444444, \"#bd3786\"], [0.5555555555555556, \"#d8576b\"], [0.6666666666666666, \"#ed7953\"], [0.7777777777777778, \"#fb9f3a\"], [0.8888888888888888, \"#fdca26\"], [1.0, \"#f0f921\"]]}, \"colorway\": [\"#636efa\", \"#EF553B\", \"#00cc96\", \"#ab63fa\", \"#FFA15A\", \"#19d3f3\", \"#FF6692\", \"#B6E880\", \"#FF97FF\", \"#FECB52\"], \"font\": {\"color\": \"#2a3f5f\"}, \"geo\": {\"bgcolor\": \"white\", \"lakecolor\": \"white\", \"landcolor\": \"#E5ECF6\", \"showlakes\": true, \"showland\": true, \"subunitcolor\": \"white\"}, \"hoverlabel\": {\"align\": \"left\"}, \"hovermode\": \"closest\", \"mapbox\": {\"style\": \"light\"}, \"paper_bgcolor\": \"white\", \"plot_bgcolor\": \"#E5ECF6\", \"polar\": {\"angularaxis\": {\"gridcolor\": \"white\", \"linecolor\": \"white\", \"ticks\": \"\"}, \"bgcolor\": \"#E5ECF6\", \"radialaxis\": {\"gridcolor\": \"white\", \"linecolor\": \"white\", \"ticks\": \"\"}}, \"scene\": {\"xaxis\": {\"backgroundcolor\": \"#E5ECF6\", \"gridcolor\": \"white\", \"gridwidth\": 2, \"linecolor\": \"white\", \"showbackground\": true, \"ticks\": \"\", \"zerolinecolor\": \"white\"}, \"yaxis\": {\"backgroundcolor\": \"#E5ECF6\", \"gridcolor\": \"white\", \"gridwidth\": 2, \"linecolor\": \"white\", \"showbackground\": true, \"ticks\": \"\", \"zerolinecolor\": \"white\"}, \"zaxis\": {\"backgroundcolor\": \"#E5ECF6\", \"gridcolor\": \"white\", \"gridwidth\": 2, \"linecolor\": \"white\", \"showbackground\": true, \"ticks\": \"\", \"zerolinecolor\": \"white\"}}, \"shapedefaults\": {\"line\": {\"color\": \"#2a3f5f\"}}, \"ternary\": {\"aaxis\": {\"gridcolor\": \"white\", \"linecolor\": \"white\", \"ticks\": \"\"}, \"baxis\": {\"gridcolor\": \"white\", \"linecolor\": \"white\", \"ticks\": \"\"}, \"bgcolor\": \"#E5ECF6\", \"caxis\": {\"gridcolor\": \"white\", \"linecolor\": \"white\", \"ticks\": \"\"}}, \"title\": {\"x\": 0.05}, \"xaxis\": {\"automargin\": true, \"gridcolor\": \"white\", \"linecolor\": \"white\", \"ticks\": \"\", \"title\": {\"standoff\": 15}, \"zerolinecolor\": \"white\", \"zerolinewidth\": 2}, \"yaxis\": {\"automargin\": true, \"gridcolor\": \"white\", \"linecolor\": \"white\", \"ticks\": \"\", \"title\": {\"standoff\": 15}, \"zerolinecolor\": \"white\", \"zerolinewidth\": 2}}}, \"title\": {\"text\": \"Matr\\u00edculas em disciplinas que obtiveram men\\u00e7\\u00e3o MM\"}},\n",
       "                        {\"responsive\": true}\n",
       "                    ).then(function(){\n",
       "                            \n",
       "var gd = document.getElementById('e41daacd-4304-4066-9cf5-6ed515886d90');\n",
       "var x = new MutationObserver(function (mutations, observer) {{\n",
       "        var display = window.getComputedStyle(gd).display;\n",
       "        if (!display || display === 'none') {{\n",
       "            console.log([gd, 'removed!']);\n",
       "            Plotly.purge(gd);\n",
       "            observer.disconnect();\n",
       "        }}\n",
       "}});\n",
       "\n",
       "// Listen for the removal of the full notebook cells\n",
       "var notebookContainer = gd.closest('#notebook-container');\n",
       "if (notebookContainer) {{\n",
       "    x.observe(notebookContainer, {childList: true});\n",
       "}}\n",
       "\n",
       "// Listen for the clearing of the current output cell\n",
       "var outputEl = gd.closest('.output');\n",
       "if (outputEl) {{\n",
       "    x.observe(outputEl, {childList: true});\n",
       "}}\n",
       "\n",
       "                        })\n",
       "                };\n",
       "                });\n",
       "            </script>\n",
       "        </div>"
      ]
     },
     "metadata": {},
     "output_type": "display_data"
    }
   ],
   "source": [
    "fig = px.pie(df[df.Menção == 'MM'], names='Disciplina', title='Matrículas em disciplinas que obtiveram menção MM')\n",
    "fig.show()"
   ]
  },
  {
   "cell_type": "markdown",
   "metadata": {},
   "source": [
    "## Menções dos exames de qualificação"
   ]
  },
  {
   "cell_type": "code",
   "execution_count": 484,
   "metadata": {},
   "outputs": [
    {
     "data": {
      "application/vnd.plotly.v1+json": {
       "config": {
        "plotlyServerURL": "https://plot.ly"
       },
       "data": [
        {
         "domain": {
          "x": [
           0,
           1
          ],
          "y": [
           0,
           1
          ]
         },
         "hovertemplate": "Menção=%{label}<extra></extra>",
         "labels": [
          "AP",
          "AP",
          "AP",
          "AP",
          "AP",
          "AP",
          "AP",
          "AP",
          "AP",
          "AP",
          "AP",
          "AP",
          "AP",
          "AP",
          "AP",
          "AP",
          "AP",
          "AP",
          "AP",
          "AP",
          "AP",
          "AP",
          "AP",
          "AP",
          "AP",
          "AP",
          "AP",
          "AP",
          "AP",
          "AP",
          "AP",
          "AP",
          "AP",
          "AP",
          "AP",
          "AP",
          "AP",
          "AP",
          "AP",
          "AP",
          "AP",
          "AP",
          "AP",
          "AP",
          "AP",
          "AP",
          "AP",
          "RP",
          "AP",
          "AP",
          "AP",
          "AP",
          "AP",
          "AP",
          "AP",
          "AP",
          "AP",
          "AP",
          "AP"
         ],
         "legendgroup": "",
         "name": "",
         "showlegend": true,
         "type": "pie"
        }
       ],
       "layout": {
        "legend": {
         "tracegroupgap": 0
        },
        "template": {
         "data": {
          "bar": [
           {
            "error_x": {
             "color": "#2a3f5f"
            },
            "error_y": {
             "color": "#2a3f5f"
            },
            "marker": {
             "line": {
              "color": "#E5ECF6",
              "width": 0.5
             }
            },
            "type": "bar"
           }
          ],
          "barpolar": [
           {
            "marker": {
             "line": {
              "color": "#E5ECF6",
              "width": 0.5
             }
            },
            "type": "barpolar"
           }
          ],
          "carpet": [
           {
            "aaxis": {
             "endlinecolor": "#2a3f5f",
             "gridcolor": "white",
             "linecolor": "white",
             "minorgridcolor": "white",
             "startlinecolor": "#2a3f5f"
            },
            "baxis": {
             "endlinecolor": "#2a3f5f",
             "gridcolor": "white",
             "linecolor": "white",
             "minorgridcolor": "white",
             "startlinecolor": "#2a3f5f"
            },
            "type": "carpet"
           }
          ],
          "choropleth": [
           {
            "colorbar": {
             "outlinewidth": 0,
             "ticks": ""
            },
            "type": "choropleth"
           }
          ],
          "contour": [
           {
            "colorbar": {
             "outlinewidth": 0,
             "ticks": ""
            },
            "colorscale": [
             [
              0,
              "#0d0887"
             ],
             [
              0.1111111111111111,
              "#46039f"
             ],
             [
              0.2222222222222222,
              "#7201a8"
             ],
             [
              0.3333333333333333,
              "#9c179e"
             ],
             [
              0.4444444444444444,
              "#bd3786"
             ],
             [
              0.5555555555555556,
              "#d8576b"
             ],
             [
              0.6666666666666666,
              "#ed7953"
             ],
             [
              0.7777777777777778,
              "#fb9f3a"
             ],
             [
              0.8888888888888888,
              "#fdca26"
             ],
             [
              1,
              "#f0f921"
             ]
            ],
            "type": "contour"
           }
          ],
          "contourcarpet": [
           {
            "colorbar": {
             "outlinewidth": 0,
             "ticks": ""
            },
            "type": "contourcarpet"
           }
          ],
          "heatmap": [
           {
            "colorbar": {
             "outlinewidth": 0,
             "ticks": ""
            },
            "colorscale": [
             [
              0,
              "#0d0887"
             ],
             [
              0.1111111111111111,
              "#46039f"
             ],
             [
              0.2222222222222222,
              "#7201a8"
             ],
             [
              0.3333333333333333,
              "#9c179e"
             ],
             [
              0.4444444444444444,
              "#bd3786"
             ],
             [
              0.5555555555555556,
              "#d8576b"
             ],
             [
              0.6666666666666666,
              "#ed7953"
             ],
             [
              0.7777777777777778,
              "#fb9f3a"
             ],
             [
              0.8888888888888888,
              "#fdca26"
             ],
             [
              1,
              "#f0f921"
             ]
            ],
            "type": "heatmap"
           }
          ],
          "heatmapgl": [
           {
            "colorbar": {
             "outlinewidth": 0,
             "ticks": ""
            },
            "colorscale": [
             [
              0,
              "#0d0887"
             ],
             [
              0.1111111111111111,
              "#46039f"
             ],
             [
              0.2222222222222222,
              "#7201a8"
             ],
             [
              0.3333333333333333,
              "#9c179e"
             ],
             [
              0.4444444444444444,
              "#bd3786"
             ],
             [
              0.5555555555555556,
              "#d8576b"
             ],
             [
              0.6666666666666666,
              "#ed7953"
             ],
             [
              0.7777777777777778,
              "#fb9f3a"
             ],
             [
              0.8888888888888888,
              "#fdca26"
             ],
             [
              1,
              "#f0f921"
             ]
            ],
            "type": "heatmapgl"
           }
          ],
          "histogram": [
           {
            "marker": {
             "colorbar": {
              "outlinewidth": 0,
              "ticks": ""
             }
            },
            "type": "histogram"
           }
          ],
          "histogram2d": [
           {
            "colorbar": {
             "outlinewidth": 0,
             "ticks": ""
            },
            "colorscale": [
             [
              0,
              "#0d0887"
             ],
             [
              0.1111111111111111,
              "#46039f"
             ],
             [
              0.2222222222222222,
              "#7201a8"
             ],
             [
              0.3333333333333333,
              "#9c179e"
             ],
             [
              0.4444444444444444,
              "#bd3786"
             ],
             [
              0.5555555555555556,
              "#d8576b"
             ],
             [
              0.6666666666666666,
              "#ed7953"
             ],
             [
              0.7777777777777778,
              "#fb9f3a"
             ],
             [
              0.8888888888888888,
              "#fdca26"
             ],
             [
              1,
              "#f0f921"
             ]
            ],
            "type": "histogram2d"
           }
          ],
          "histogram2dcontour": [
           {
            "colorbar": {
             "outlinewidth": 0,
             "ticks": ""
            },
            "colorscale": [
             [
              0,
              "#0d0887"
             ],
             [
              0.1111111111111111,
              "#46039f"
             ],
             [
              0.2222222222222222,
              "#7201a8"
             ],
             [
              0.3333333333333333,
              "#9c179e"
             ],
             [
              0.4444444444444444,
              "#bd3786"
             ],
             [
              0.5555555555555556,
              "#d8576b"
             ],
             [
              0.6666666666666666,
              "#ed7953"
             ],
             [
              0.7777777777777778,
              "#fb9f3a"
             ],
             [
              0.8888888888888888,
              "#fdca26"
             ],
             [
              1,
              "#f0f921"
             ]
            ],
            "type": "histogram2dcontour"
           }
          ],
          "mesh3d": [
           {
            "colorbar": {
             "outlinewidth": 0,
             "ticks": ""
            },
            "type": "mesh3d"
           }
          ],
          "parcoords": [
           {
            "line": {
             "colorbar": {
              "outlinewidth": 0,
              "ticks": ""
             }
            },
            "type": "parcoords"
           }
          ],
          "pie": [
           {
            "automargin": true,
            "type": "pie"
           }
          ],
          "scatter": [
           {
            "marker": {
             "colorbar": {
              "outlinewidth": 0,
              "ticks": ""
             }
            },
            "type": "scatter"
           }
          ],
          "scatter3d": [
           {
            "line": {
             "colorbar": {
              "outlinewidth": 0,
              "ticks": ""
             }
            },
            "marker": {
             "colorbar": {
              "outlinewidth": 0,
              "ticks": ""
             }
            },
            "type": "scatter3d"
           }
          ],
          "scattercarpet": [
           {
            "marker": {
             "colorbar": {
              "outlinewidth": 0,
              "ticks": ""
             }
            },
            "type": "scattercarpet"
           }
          ],
          "scattergeo": [
           {
            "marker": {
             "colorbar": {
              "outlinewidth": 0,
              "ticks": ""
             }
            },
            "type": "scattergeo"
           }
          ],
          "scattergl": [
           {
            "marker": {
             "colorbar": {
              "outlinewidth": 0,
              "ticks": ""
             }
            },
            "type": "scattergl"
           }
          ],
          "scattermapbox": [
           {
            "marker": {
             "colorbar": {
              "outlinewidth": 0,
              "ticks": ""
             }
            },
            "type": "scattermapbox"
           }
          ],
          "scatterpolar": [
           {
            "marker": {
             "colorbar": {
              "outlinewidth": 0,
              "ticks": ""
             }
            },
            "type": "scatterpolar"
           }
          ],
          "scatterpolargl": [
           {
            "marker": {
             "colorbar": {
              "outlinewidth": 0,
              "ticks": ""
             }
            },
            "type": "scatterpolargl"
           }
          ],
          "scatterternary": [
           {
            "marker": {
             "colorbar": {
              "outlinewidth": 0,
              "ticks": ""
             }
            },
            "type": "scatterternary"
           }
          ],
          "surface": [
           {
            "colorbar": {
             "outlinewidth": 0,
             "ticks": ""
            },
            "colorscale": [
             [
              0,
              "#0d0887"
             ],
             [
              0.1111111111111111,
              "#46039f"
             ],
             [
              0.2222222222222222,
              "#7201a8"
             ],
             [
              0.3333333333333333,
              "#9c179e"
             ],
             [
              0.4444444444444444,
              "#bd3786"
             ],
             [
              0.5555555555555556,
              "#d8576b"
             ],
             [
              0.6666666666666666,
              "#ed7953"
             ],
             [
              0.7777777777777778,
              "#fb9f3a"
             ],
             [
              0.8888888888888888,
              "#fdca26"
             ],
             [
              1,
              "#f0f921"
             ]
            ],
            "type": "surface"
           }
          ],
          "table": [
           {
            "cells": {
             "fill": {
              "color": "#EBF0F8"
             },
             "line": {
              "color": "white"
             }
            },
            "header": {
             "fill": {
              "color": "#C8D4E3"
             },
             "line": {
              "color": "white"
             }
            },
            "type": "table"
           }
          ]
         },
         "layout": {
          "annotationdefaults": {
           "arrowcolor": "#2a3f5f",
           "arrowhead": 0,
           "arrowwidth": 1
          },
          "coloraxis": {
           "colorbar": {
            "outlinewidth": 0,
            "ticks": ""
           }
          },
          "colorscale": {
           "diverging": [
            [
             0,
             "#8e0152"
            ],
            [
             0.1,
             "#c51b7d"
            ],
            [
             0.2,
             "#de77ae"
            ],
            [
             0.3,
             "#f1b6da"
            ],
            [
             0.4,
             "#fde0ef"
            ],
            [
             0.5,
             "#f7f7f7"
            ],
            [
             0.6,
             "#e6f5d0"
            ],
            [
             0.7,
             "#b8e186"
            ],
            [
             0.8,
             "#7fbc41"
            ],
            [
             0.9,
             "#4d9221"
            ],
            [
             1,
             "#276419"
            ]
           ],
           "sequential": [
            [
             0,
             "#0d0887"
            ],
            [
             0.1111111111111111,
             "#46039f"
            ],
            [
             0.2222222222222222,
             "#7201a8"
            ],
            [
             0.3333333333333333,
             "#9c179e"
            ],
            [
             0.4444444444444444,
             "#bd3786"
            ],
            [
             0.5555555555555556,
             "#d8576b"
            ],
            [
             0.6666666666666666,
             "#ed7953"
            ],
            [
             0.7777777777777778,
             "#fb9f3a"
            ],
            [
             0.8888888888888888,
             "#fdca26"
            ],
            [
             1,
             "#f0f921"
            ]
           ],
           "sequentialminus": [
            [
             0,
             "#0d0887"
            ],
            [
             0.1111111111111111,
             "#46039f"
            ],
            [
             0.2222222222222222,
             "#7201a8"
            ],
            [
             0.3333333333333333,
             "#9c179e"
            ],
            [
             0.4444444444444444,
             "#bd3786"
            ],
            [
             0.5555555555555556,
             "#d8576b"
            ],
            [
             0.6666666666666666,
             "#ed7953"
            ],
            [
             0.7777777777777778,
             "#fb9f3a"
            ],
            [
             0.8888888888888888,
             "#fdca26"
            ],
            [
             1,
             "#f0f921"
            ]
           ]
          },
          "colorway": [
           "#636efa",
           "#EF553B",
           "#00cc96",
           "#ab63fa",
           "#FFA15A",
           "#19d3f3",
           "#FF6692",
           "#B6E880",
           "#FF97FF",
           "#FECB52"
          ],
          "font": {
           "color": "#2a3f5f"
          },
          "geo": {
           "bgcolor": "white",
           "lakecolor": "white",
           "landcolor": "#E5ECF6",
           "showlakes": true,
           "showland": true,
           "subunitcolor": "white"
          },
          "hoverlabel": {
           "align": "left"
          },
          "hovermode": "closest",
          "mapbox": {
           "style": "light"
          },
          "paper_bgcolor": "white",
          "plot_bgcolor": "#E5ECF6",
          "polar": {
           "angularaxis": {
            "gridcolor": "white",
            "linecolor": "white",
            "ticks": ""
           },
           "bgcolor": "#E5ECF6",
           "radialaxis": {
            "gridcolor": "white",
            "linecolor": "white",
            "ticks": ""
           }
          },
          "scene": {
           "xaxis": {
            "backgroundcolor": "#E5ECF6",
            "gridcolor": "white",
            "gridwidth": 2,
            "linecolor": "white",
            "showbackground": true,
            "ticks": "",
            "zerolinecolor": "white"
           },
           "yaxis": {
            "backgroundcolor": "#E5ECF6",
            "gridcolor": "white",
            "gridwidth": 2,
            "linecolor": "white",
            "showbackground": true,
            "ticks": "",
            "zerolinecolor": "white"
           },
           "zaxis": {
            "backgroundcolor": "#E5ECF6",
            "gridcolor": "white",
            "gridwidth": 2,
            "linecolor": "white",
            "showbackground": true,
            "ticks": "",
            "zerolinecolor": "white"
           }
          },
          "shapedefaults": {
           "line": {
            "color": "#2a3f5f"
           }
          },
          "ternary": {
           "aaxis": {
            "gridcolor": "white",
            "linecolor": "white",
            "ticks": ""
           },
           "baxis": {
            "gridcolor": "white",
            "linecolor": "white",
            "ticks": ""
           },
           "bgcolor": "#E5ECF6",
           "caxis": {
            "gridcolor": "white",
            "linecolor": "white",
            "ticks": ""
           }
          },
          "title": {
           "x": 0.05
          },
          "xaxis": {
           "automargin": true,
           "gridcolor": "white",
           "linecolor": "white",
           "ticks": "",
           "title": {
            "standoff": 15
           },
           "zerolinecolor": "white",
           "zerolinewidth": 2
          },
          "yaxis": {
           "automargin": true,
           "gridcolor": "white",
           "linecolor": "white",
           "ticks": "",
           "title": {
            "standoff": 15
           },
           "zerolinecolor": "white",
           "zerolinewidth": 2
          }
         }
        },
        "title": {
         "text": "Menções em Exame de Qualificação"
        }
       }
      },
      "text/html": [
       "<div>\n",
       "        \n",
       "        \n",
       "            <div id=\"0cec82ae-f111-404c-976e-cfdf2d633f3c\" class=\"plotly-graph-div\" style=\"height:525px; width:100%;\"></div>\n",
       "            <script type=\"text/javascript\">\n",
       "                require([\"plotly\"], function(Plotly) {\n",
       "                    window.PLOTLYENV=window.PLOTLYENV || {};\n",
       "                    \n",
       "                if (document.getElementById(\"0cec82ae-f111-404c-976e-cfdf2d633f3c\")) {\n",
       "                    Plotly.newPlot(\n",
       "                        '0cec82ae-f111-404c-976e-cfdf2d633f3c',\n",
       "                        [{\"domain\": {\"x\": [0.0, 1.0], \"y\": [0.0, 1.0]}, \"hovertemplate\": \"Men\\u00e7\\u00e3o=%{label}<extra></extra>\", \"labels\": [\"AP\", \"AP\", \"AP\", \"AP\", \"AP\", \"AP\", \"AP\", \"AP\", \"AP\", \"AP\", \"AP\", \"AP\", \"AP\", \"AP\", \"AP\", \"AP\", \"AP\", \"AP\", \"AP\", \"AP\", \"AP\", \"AP\", \"AP\", \"AP\", \"AP\", \"AP\", \"AP\", \"AP\", \"AP\", \"AP\", \"AP\", \"AP\", \"AP\", \"AP\", \"AP\", \"AP\", \"AP\", \"AP\", \"AP\", \"AP\", \"AP\", \"AP\", \"AP\", \"AP\", \"AP\", \"AP\", \"AP\", \"RP\", \"AP\", \"AP\", \"AP\", \"AP\", \"AP\", \"AP\", \"AP\", \"AP\", \"AP\", \"AP\", \"AP\"], \"legendgroup\": \"\", \"name\": \"\", \"showlegend\": true, \"type\": \"pie\"}],\n",
       "                        {\"legend\": {\"tracegroupgap\": 0}, \"template\": {\"data\": {\"bar\": [{\"error_x\": {\"color\": \"#2a3f5f\"}, \"error_y\": {\"color\": \"#2a3f5f\"}, \"marker\": {\"line\": {\"color\": \"#E5ECF6\", \"width\": 0.5}}, \"type\": \"bar\"}], \"barpolar\": [{\"marker\": {\"line\": {\"color\": \"#E5ECF6\", \"width\": 0.5}}, \"type\": \"barpolar\"}], \"carpet\": [{\"aaxis\": {\"endlinecolor\": \"#2a3f5f\", \"gridcolor\": \"white\", \"linecolor\": \"white\", \"minorgridcolor\": \"white\", \"startlinecolor\": \"#2a3f5f\"}, \"baxis\": {\"endlinecolor\": \"#2a3f5f\", \"gridcolor\": \"white\", \"linecolor\": \"white\", \"minorgridcolor\": \"white\", \"startlinecolor\": \"#2a3f5f\"}, \"type\": \"carpet\"}], \"choropleth\": [{\"colorbar\": {\"outlinewidth\": 0, \"ticks\": \"\"}, \"type\": \"choropleth\"}], \"contour\": [{\"colorbar\": {\"outlinewidth\": 0, \"ticks\": \"\"}, \"colorscale\": [[0.0, \"#0d0887\"], [0.1111111111111111, \"#46039f\"], [0.2222222222222222, \"#7201a8\"], [0.3333333333333333, \"#9c179e\"], [0.4444444444444444, \"#bd3786\"], [0.5555555555555556, \"#d8576b\"], [0.6666666666666666, \"#ed7953\"], [0.7777777777777778, \"#fb9f3a\"], [0.8888888888888888, \"#fdca26\"], [1.0, \"#f0f921\"]], \"type\": \"contour\"}], \"contourcarpet\": [{\"colorbar\": {\"outlinewidth\": 0, \"ticks\": \"\"}, \"type\": \"contourcarpet\"}], \"heatmap\": [{\"colorbar\": {\"outlinewidth\": 0, \"ticks\": \"\"}, \"colorscale\": [[0.0, \"#0d0887\"], [0.1111111111111111, \"#46039f\"], [0.2222222222222222, \"#7201a8\"], [0.3333333333333333, \"#9c179e\"], [0.4444444444444444, \"#bd3786\"], [0.5555555555555556, \"#d8576b\"], [0.6666666666666666, \"#ed7953\"], [0.7777777777777778, \"#fb9f3a\"], [0.8888888888888888, \"#fdca26\"], [1.0, \"#f0f921\"]], \"type\": \"heatmap\"}], \"heatmapgl\": [{\"colorbar\": {\"outlinewidth\": 0, \"ticks\": \"\"}, \"colorscale\": [[0.0, \"#0d0887\"], [0.1111111111111111, \"#46039f\"], [0.2222222222222222, \"#7201a8\"], [0.3333333333333333, \"#9c179e\"], [0.4444444444444444, \"#bd3786\"], [0.5555555555555556, \"#d8576b\"], [0.6666666666666666, \"#ed7953\"], [0.7777777777777778, \"#fb9f3a\"], [0.8888888888888888, \"#fdca26\"], [1.0, \"#f0f921\"]], \"type\": \"heatmapgl\"}], \"histogram\": [{\"marker\": {\"colorbar\": {\"outlinewidth\": 0, \"ticks\": \"\"}}, \"type\": \"histogram\"}], \"histogram2d\": [{\"colorbar\": {\"outlinewidth\": 0, \"ticks\": \"\"}, \"colorscale\": [[0.0, \"#0d0887\"], [0.1111111111111111, \"#46039f\"], [0.2222222222222222, \"#7201a8\"], [0.3333333333333333, \"#9c179e\"], [0.4444444444444444, \"#bd3786\"], [0.5555555555555556, \"#d8576b\"], [0.6666666666666666, \"#ed7953\"], [0.7777777777777778, \"#fb9f3a\"], [0.8888888888888888, \"#fdca26\"], [1.0, \"#f0f921\"]], \"type\": \"histogram2d\"}], \"histogram2dcontour\": [{\"colorbar\": {\"outlinewidth\": 0, \"ticks\": \"\"}, \"colorscale\": [[0.0, \"#0d0887\"], [0.1111111111111111, \"#46039f\"], [0.2222222222222222, \"#7201a8\"], [0.3333333333333333, \"#9c179e\"], [0.4444444444444444, \"#bd3786\"], [0.5555555555555556, \"#d8576b\"], [0.6666666666666666, \"#ed7953\"], [0.7777777777777778, \"#fb9f3a\"], [0.8888888888888888, \"#fdca26\"], [1.0, \"#f0f921\"]], \"type\": \"histogram2dcontour\"}], \"mesh3d\": [{\"colorbar\": {\"outlinewidth\": 0, \"ticks\": \"\"}, \"type\": \"mesh3d\"}], \"parcoords\": [{\"line\": {\"colorbar\": {\"outlinewidth\": 0, \"ticks\": \"\"}}, \"type\": \"parcoords\"}], \"pie\": [{\"automargin\": true, \"type\": \"pie\"}], \"scatter\": [{\"marker\": {\"colorbar\": {\"outlinewidth\": 0, \"ticks\": \"\"}}, \"type\": \"scatter\"}], \"scatter3d\": [{\"line\": {\"colorbar\": {\"outlinewidth\": 0, \"ticks\": \"\"}}, \"marker\": {\"colorbar\": {\"outlinewidth\": 0, \"ticks\": \"\"}}, \"type\": \"scatter3d\"}], \"scattercarpet\": [{\"marker\": {\"colorbar\": {\"outlinewidth\": 0, \"ticks\": \"\"}}, \"type\": \"scattercarpet\"}], \"scattergeo\": [{\"marker\": {\"colorbar\": {\"outlinewidth\": 0, \"ticks\": \"\"}}, \"type\": \"scattergeo\"}], \"scattergl\": [{\"marker\": {\"colorbar\": {\"outlinewidth\": 0, \"ticks\": \"\"}}, \"type\": \"scattergl\"}], \"scattermapbox\": [{\"marker\": {\"colorbar\": {\"outlinewidth\": 0, \"ticks\": \"\"}}, \"type\": \"scattermapbox\"}], \"scatterpolar\": [{\"marker\": {\"colorbar\": {\"outlinewidth\": 0, \"ticks\": \"\"}}, \"type\": \"scatterpolar\"}], \"scatterpolargl\": [{\"marker\": {\"colorbar\": {\"outlinewidth\": 0, \"ticks\": \"\"}}, \"type\": \"scatterpolargl\"}], \"scatterternary\": [{\"marker\": {\"colorbar\": {\"outlinewidth\": 0, \"ticks\": \"\"}}, \"type\": \"scatterternary\"}], \"surface\": [{\"colorbar\": {\"outlinewidth\": 0, \"ticks\": \"\"}, \"colorscale\": [[0.0, \"#0d0887\"], [0.1111111111111111, \"#46039f\"], [0.2222222222222222, \"#7201a8\"], [0.3333333333333333, \"#9c179e\"], [0.4444444444444444, \"#bd3786\"], [0.5555555555555556, \"#d8576b\"], [0.6666666666666666, \"#ed7953\"], [0.7777777777777778, \"#fb9f3a\"], [0.8888888888888888, \"#fdca26\"], [1.0, \"#f0f921\"]], \"type\": \"surface\"}], \"table\": [{\"cells\": {\"fill\": {\"color\": \"#EBF0F8\"}, \"line\": {\"color\": \"white\"}}, \"header\": {\"fill\": {\"color\": \"#C8D4E3\"}, \"line\": {\"color\": \"white\"}}, \"type\": \"table\"}]}, \"layout\": {\"annotationdefaults\": {\"arrowcolor\": \"#2a3f5f\", \"arrowhead\": 0, \"arrowwidth\": 1}, \"coloraxis\": {\"colorbar\": {\"outlinewidth\": 0, \"ticks\": \"\"}}, \"colorscale\": {\"diverging\": [[0, \"#8e0152\"], [0.1, \"#c51b7d\"], [0.2, \"#de77ae\"], [0.3, \"#f1b6da\"], [0.4, \"#fde0ef\"], [0.5, \"#f7f7f7\"], [0.6, \"#e6f5d0\"], [0.7, \"#b8e186\"], [0.8, \"#7fbc41\"], [0.9, \"#4d9221\"], [1, \"#276419\"]], \"sequential\": [[0.0, \"#0d0887\"], [0.1111111111111111, \"#46039f\"], [0.2222222222222222, \"#7201a8\"], [0.3333333333333333, \"#9c179e\"], [0.4444444444444444, \"#bd3786\"], [0.5555555555555556, \"#d8576b\"], [0.6666666666666666, \"#ed7953\"], [0.7777777777777778, \"#fb9f3a\"], [0.8888888888888888, \"#fdca26\"], [1.0, \"#f0f921\"]], \"sequentialminus\": [[0.0, \"#0d0887\"], [0.1111111111111111, \"#46039f\"], [0.2222222222222222, \"#7201a8\"], [0.3333333333333333, \"#9c179e\"], [0.4444444444444444, \"#bd3786\"], [0.5555555555555556, \"#d8576b\"], [0.6666666666666666, \"#ed7953\"], [0.7777777777777778, \"#fb9f3a\"], [0.8888888888888888, \"#fdca26\"], [1.0, \"#f0f921\"]]}, \"colorway\": [\"#636efa\", \"#EF553B\", \"#00cc96\", \"#ab63fa\", \"#FFA15A\", \"#19d3f3\", \"#FF6692\", \"#B6E880\", \"#FF97FF\", \"#FECB52\"], \"font\": {\"color\": \"#2a3f5f\"}, \"geo\": {\"bgcolor\": \"white\", \"lakecolor\": \"white\", \"landcolor\": \"#E5ECF6\", \"showlakes\": true, \"showland\": true, \"subunitcolor\": \"white\"}, \"hoverlabel\": {\"align\": \"left\"}, \"hovermode\": \"closest\", \"mapbox\": {\"style\": \"light\"}, \"paper_bgcolor\": \"white\", \"plot_bgcolor\": \"#E5ECF6\", \"polar\": {\"angularaxis\": {\"gridcolor\": \"white\", \"linecolor\": \"white\", \"ticks\": \"\"}, \"bgcolor\": \"#E5ECF6\", \"radialaxis\": {\"gridcolor\": \"white\", \"linecolor\": \"white\", \"ticks\": \"\"}}, \"scene\": {\"xaxis\": {\"backgroundcolor\": \"#E5ECF6\", \"gridcolor\": \"white\", \"gridwidth\": 2, \"linecolor\": \"white\", \"showbackground\": true, \"ticks\": \"\", \"zerolinecolor\": \"white\"}, \"yaxis\": {\"backgroundcolor\": \"#E5ECF6\", \"gridcolor\": \"white\", \"gridwidth\": 2, \"linecolor\": \"white\", \"showbackground\": true, \"ticks\": \"\", \"zerolinecolor\": \"white\"}, \"zaxis\": {\"backgroundcolor\": \"#E5ECF6\", \"gridcolor\": \"white\", \"gridwidth\": 2, \"linecolor\": \"white\", \"showbackground\": true, \"ticks\": \"\", \"zerolinecolor\": \"white\"}}, \"shapedefaults\": {\"line\": {\"color\": \"#2a3f5f\"}}, \"ternary\": {\"aaxis\": {\"gridcolor\": \"white\", \"linecolor\": \"white\", \"ticks\": \"\"}, \"baxis\": {\"gridcolor\": \"white\", \"linecolor\": \"white\", \"ticks\": \"\"}, \"bgcolor\": \"#E5ECF6\", \"caxis\": {\"gridcolor\": \"white\", \"linecolor\": \"white\", \"ticks\": \"\"}}, \"title\": {\"x\": 0.05}, \"xaxis\": {\"automargin\": true, \"gridcolor\": \"white\", \"linecolor\": \"white\", \"ticks\": \"\", \"title\": {\"standoff\": 15}, \"zerolinecolor\": \"white\", \"zerolinewidth\": 2}, \"yaxis\": {\"automargin\": true, \"gridcolor\": \"white\", \"linecolor\": \"white\", \"ticks\": \"\", \"title\": {\"standoff\": 15}, \"zerolinecolor\": \"white\", \"zerolinewidth\": 2}}}, \"title\": {\"text\": \"Men\\u00e7\\u00f5es em Exame de Qualifica\\u00e7\\u00e3o\"}},\n",
       "                        {\"responsive\": true}\n",
       "                    ).then(function(){\n",
       "                            \n",
       "var gd = document.getElementById('0cec82ae-f111-404c-976e-cfdf2d633f3c');\n",
       "var x = new MutationObserver(function (mutations, observer) {{\n",
       "        var display = window.getComputedStyle(gd).display;\n",
       "        if (!display || display === 'none') {{\n",
       "            console.log([gd, 'removed!']);\n",
       "            Plotly.purge(gd);\n",
       "            observer.disconnect();\n",
       "        }}\n",
       "}});\n",
       "\n",
       "// Listen for the removal of the full notebook cells\n",
       "var notebookContainer = gd.closest('#notebook-container');\n",
       "if (notebookContainer) {{\n",
       "    x.observe(notebookContainer, {childList: true});\n",
       "}}\n",
       "\n",
       "// Listen for the clearing of the current output cell\n",
       "var outputEl = gd.closest('.output');\n",
       "if (outputEl) {{\n",
       "    x.observe(outputEl, {childList: true});\n",
       "}}\n",
       "\n",
       "                        })\n",
       "                };\n",
       "                });\n",
       "            </script>\n",
       "        </div>"
      ]
     },
     "metadata": {},
     "output_type": "display_data"
    }
   ],
   "source": [
    "fig = px.pie(df[df['Código da Disciplina'] == 316580], names='Menção', title='Menções em Exame de Qualificação')\n",
    "fig.show()"
   ]
  },
  {
   "cell_type": "markdown",
   "metadata": {},
   "source": [
    "## Gerar um gráfico do tempo que leva para concluir o exame de qualificação"
   ]
  },
  {
   "cell_type": "code",
   "execution_count": 485,
   "metadata": {},
   "outputs": [
    {
     "name": "stderr",
     "output_type": "stream",
     "text": [
      "/home/vinicius/.local/lib/python3.6/site-packages/ipykernel_launcher.py:9: SettingWithCopyWarning:\n",
      "\n",
      "\n",
      "A value is trying to be set on a copy of a slice from a DataFrame.\n",
      "Try using .loc[row_indexer,col_indexer] = value instead\n",
      "\n",
      "See the caveats in the documentation: https://pandas.pydata.org/pandas-docs/stable/user_guide/indexing.html#returning-a-view-versus-a-copy\n",
      "\n"
     ]
    },
    {
     "data": {
      "application/vnd.plotly.v1+json": {
       "config": {
        "plotlyServerURL": "https://plot.ly"
       },
       "data": [
        {
         "alignmentgroup": "True",
         "hovertemplate": "Tempo=%{x}<br>id=%{y}<extra></extra>",
         "legendgroup": "",
         "marker": {
          "color": "#636efa"
         },
         "name": "",
         "offsetgroup": "",
         "orientation": "h",
         "showlegend": false,
         "textposition": "auto",
         "type": "bar",
         "x": [
          3,
          5,
          4,
          4,
          3,
          4,
          5,
          7,
          4,
          3,
          7,
          5,
          3,
          5,
          5,
          4,
          8,
          5,
          8,
          7,
          6,
          6,
          4,
          -4,
          5,
          5,
          5,
          5,
          5,
          5,
          5,
          5,
          5,
          5,
          7,
          7,
          6,
          6,
          4,
          4,
          5,
          5,
          5,
          5,
          6,
          6,
          7,
          5,
          5,
          5,
          8,
          6,
          6,
          5,
          5,
          4,
          4,
          4,
          2
         ],
         "xaxis": "x",
         "y": [
          1,
          2,
          3,
          4,
          5,
          6,
          7,
          8,
          9,
          10,
          11,
          12,
          13,
          14,
          15,
          16,
          17,
          18,
          19,
          20,
          21,
          22,
          23,
          24,
          25,
          26,
          27,
          28,
          29,
          30,
          31,
          32,
          33,
          34,
          35,
          36,
          37,
          38,
          39,
          40,
          41,
          42,
          43,
          44,
          45,
          46,
          47,
          48,
          49,
          50,
          51,
          52,
          53,
          54,
          55,
          56,
          57,
          58,
          59
         ],
         "yaxis": "y"
        }
       ],
       "layout": {
        "barmode": "relative",
        "legend": {
         "tracegroupgap": 0
        },
        "margin": {
         "t": 60
        },
        "template": {
         "data": {
          "bar": [
           {
            "error_x": {
             "color": "#2a3f5f"
            },
            "error_y": {
             "color": "#2a3f5f"
            },
            "marker": {
             "line": {
              "color": "#E5ECF6",
              "width": 0.5
             }
            },
            "type": "bar"
           }
          ],
          "barpolar": [
           {
            "marker": {
             "line": {
              "color": "#E5ECF6",
              "width": 0.5
             }
            },
            "type": "barpolar"
           }
          ],
          "carpet": [
           {
            "aaxis": {
             "endlinecolor": "#2a3f5f",
             "gridcolor": "white",
             "linecolor": "white",
             "minorgridcolor": "white",
             "startlinecolor": "#2a3f5f"
            },
            "baxis": {
             "endlinecolor": "#2a3f5f",
             "gridcolor": "white",
             "linecolor": "white",
             "minorgridcolor": "white",
             "startlinecolor": "#2a3f5f"
            },
            "type": "carpet"
           }
          ],
          "choropleth": [
           {
            "colorbar": {
             "outlinewidth": 0,
             "ticks": ""
            },
            "type": "choropleth"
           }
          ],
          "contour": [
           {
            "colorbar": {
             "outlinewidth": 0,
             "ticks": ""
            },
            "colorscale": [
             [
              0,
              "#0d0887"
             ],
             [
              0.1111111111111111,
              "#46039f"
             ],
             [
              0.2222222222222222,
              "#7201a8"
             ],
             [
              0.3333333333333333,
              "#9c179e"
             ],
             [
              0.4444444444444444,
              "#bd3786"
             ],
             [
              0.5555555555555556,
              "#d8576b"
             ],
             [
              0.6666666666666666,
              "#ed7953"
             ],
             [
              0.7777777777777778,
              "#fb9f3a"
             ],
             [
              0.8888888888888888,
              "#fdca26"
             ],
             [
              1,
              "#f0f921"
             ]
            ],
            "type": "contour"
           }
          ],
          "contourcarpet": [
           {
            "colorbar": {
             "outlinewidth": 0,
             "ticks": ""
            },
            "type": "contourcarpet"
           }
          ],
          "heatmap": [
           {
            "colorbar": {
             "outlinewidth": 0,
             "ticks": ""
            },
            "colorscale": [
             [
              0,
              "#0d0887"
             ],
             [
              0.1111111111111111,
              "#46039f"
             ],
             [
              0.2222222222222222,
              "#7201a8"
             ],
             [
              0.3333333333333333,
              "#9c179e"
             ],
             [
              0.4444444444444444,
              "#bd3786"
             ],
             [
              0.5555555555555556,
              "#d8576b"
             ],
             [
              0.6666666666666666,
              "#ed7953"
             ],
             [
              0.7777777777777778,
              "#fb9f3a"
             ],
             [
              0.8888888888888888,
              "#fdca26"
             ],
             [
              1,
              "#f0f921"
             ]
            ],
            "type": "heatmap"
           }
          ],
          "heatmapgl": [
           {
            "colorbar": {
             "outlinewidth": 0,
             "ticks": ""
            },
            "colorscale": [
             [
              0,
              "#0d0887"
             ],
             [
              0.1111111111111111,
              "#46039f"
             ],
             [
              0.2222222222222222,
              "#7201a8"
             ],
             [
              0.3333333333333333,
              "#9c179e"
             ],
             [
              0.4444444444444444,
              "#bd3786"
             ],
             [
              0.5555555555555556,
              "#d8576b"
             ],
             [
              0.6666666666666666,
              "#ed7953"
             ],
             [
              0.7777777777777778,
              "#fb9f3a"
             ],
             [
              0.8888888888888888,
              "#fdca26"
             ],
             [
              1,
              "#f0f921"
             ]
            ],
            "type": "heatmapgl"
           }
          ],
          "histogram": [
           {
            "marker": {
             "colorbar": {
              "outlinewidth": 0,
              "ticks": ""
             }
            },
            "type": "histogram"
           }
          ],
          "histogram2d": [
           {
            "colorbar": {
             "outlinewidth": 0,
             "ticks": ""
            },
            "colorscale": [
             [
              0,
              "#0d0887"
             ],
             [
              0.1111111111111111,
              "#46039f"
             ],
             [
              0.2222222222222222,
              "#7201a8"
             ],
             [
              0.3333333333333333,
              "#9c179e"
             ],
             [
              0.4444444444444444,
              "#bd3786"
             ],
             [
              0.5555555555555556,
              "#d8576b"
             ],
             [
              0.6666666666666666,
              "#ed7953"
             ],
             [
              0.7777777777777778,
              "#fb9f3a"
             ],
             [
              0.8888888888888888,
              "#fdca26"
             ],
             [
              1,
              "#f0f921"
             ]
            ],
            "type": "histogram2d"
           }
          ],
          "histogram2dcontour": [
           {
            "colorbar": {
             "outlinewidth": 0,
             "ticks": ""
            },
            "colorscale": [
             [
              0,
              "#0d0887"
             ],
             [
              0.1111111111111111,
              "#46039f"
             ],
             [
              0.2222222222222222,
              "#7201a8"
             ],
             [
              0.3333333333333333,
              "#9c179e"
             ],
             [
              0.4444444444444444,
              "#bd3786"
             ],
             [
              0.5555555555555556,
              "#d8576b"
             ],
             [
              0.6666666666666666,
              "#ed7953"
             ],
             [
              0.7777777777777778,
              "#fb9f3a"
             ],
             [
              0.8888888888888888,
              "#fdca26"
             ],
             [
              1,
              "#f0f921"
             ]
            ],
            "type": "histogram2dcontour"
           }
          ],
          "mesh3d": [
           {
            "colorbar": {
             "outlinewidth": 0,
             "ticks": ""
            },
            "type": "mesh3d"
           }
          ],
          "parcoords": [
           {
            "line": {
             "colorbar": {
              "outlinewidth": 0,
              "ticks": ""
             }
            },
            "type": "parcoords"
           }
          ],
          "pie": [
           {
            "automargin": true,
            "type": "pie"
           }
          ],
          "scatter": [
           {
            "marker": {
             "colorbar": {
              "outlinewidth": 0,
              "ticks": ""
             }
            },
            "type": "scatter"
           }
          ],
          "scatter3d": [
           {
            "line": {
             "colorbar": {
              "outlinewidth": 0,
              "ticks": ""
             }
            },
            "marker": {
             "colorbar": {
              "outlinewidth": 0,
              "ticks": ""
             }
            },
            "type": "scatter3d"
           }
          ],
          "scattercarpet": [
           {
            "marker": {
             "colorbar": {
              "outlinewidth": 0,
              "ticks": ""
             }
            },
            "type": "scattercarpet"
           }
          ],
          "scattergeo": [
           {
            "marker": {
             "colorbar": {
              "outlinewidth": 0,
              "ticks": ""
             }
            },
            "type": "scattergeo"
           }
          ],
          "scattergl": [
           {
            "marker": {
             "colorbar": {
              "outlinewidth": 0,
              "ticks": ""
             }
            },
            "type": "scattergl"
           }
          ],
          "scattermapbox": [
           {
            "marker": {
             "colorbar": {
              "outlinewidth": 0,
              "ticks": ""
             }
            },
            "type": "scattermapbox"
           }
          ],
          "scatterpolar": [
           {
            "marker": {
             "colorbar": {
              "outlinewidth": 0,
              "ticks": ""
             }
            },
            "type": "scatterpolar"
           }
          ],
          "scatterpolargl": [
           {
            "marker": {
             "colorbar": {
              "outlinewidth": 0,
              "ticks": ""
             }
            },
            "type": "scatterpolargl"
           }
          ],
          "scatterternary": [
           {
            "marker": {
             "colorbar": {
              "outlinewidth": 0,
              "ticks": ""
             }
            },
            "type": "scatterternary"
           }
          ],
          "surface": [
           {
            "colorbar": {
             "outlinewidth": 0,
             "ticks": ""
            },
            "colorscale": [
             [
              0,
              "#0d0887"
             ],
             [
              0.1111111111111111,
              "#46039f"
             ],
             [
              0.2222222222222222,
              "#7201a8"
             ],
             [
              0.3333333333333333,
              "#9c179e"
             ],
             [
              0.4444444444444444,
              "#bd3786"
             ],
             [
              0.5555555555555556,
              "#d8576b"
             ],
             [
              0.6666666666666666,
              "#ed7953"
             ],
             [
              0.7777777777777778,
              "#fb9f3a"
             ],
             [
              0.8888888888888888,
              "#fdca26"
             ],
             [
              1,
              "#f0f921"
             ]
            ],
            "type": "surface"
           }
          ],
          "table": [
           {
            "cells": {
             "fill": {
              "color": "#EBF0F8"
             },
             "line": {
              "color": "white"
             }
            },
            "header": {
             "fill": {
              "color": "#C8D4E3"
             },
             "line": {
              "color": "white"
             }
            },
            "type": "table"
           }
          ]
         },
         "layout": {
          "annotationdefaults": {
           "arrowcolor": "#2a3f5f",
           "arrowhead": 0,
           "arrowwidth": 1
          },
          "coloraxis": {
           "colorbar": {
            "outlinewidth": 0,
            "ticks": ""
           }
          },
          "colorscale": {
           "diverging": [
            [
             0,
             "#8e0152"
            ],
            [
             0.1,
             "#c51b7d"
            ],
            [
             0.2,
             "#de77ae"
            ],
            [
             0.3,
             "#f1b6da"
            ],
            [
             0.4,
             "#fde0ef"
            ],
            [
             0.5,
             "#f7f7f7"
            ],
            [
             0.6,
             "#e6f5d0"
            ],
            [
             0.7,
             "#b8e186"
            ],
            [
             0.8,
             "#7fbc41"
            ],
            [
             0.9,
             "#4d9221"
            ],
            [
             1,
             "#276419"
            ]
           ],
           "sequential": [
            [
             0,
             "#0d0887"
            ],
            [
             0.1111111111111111,
             "#46039f"
            ],
            [
             0.2222222222222222,
             "#7201a8"
            ],
            [
             0.3333333333333333,
             "#9c179e"
            ],
            [
             0.4444444444444444,
             "#bd3786"
            ],
            [
             0.5555555555555556,
             "#d8576b"
            ],
            [
             0.6666666666666666,
             "#ed7953"
            ],
            [
             0.7777777777777778,
             "#fb9f3a"
            ],
            [
             0.8888888888888888,
             "#fdca26"
            ],
            [
             1,
             "#f0f921"
            ]
           ],
           "sequentialminus": [
            [
             0,
             "#0d0887"
            ],
            [
             0.1111111111111111,
             "#46039f"
            ],
            [
             0.2222222222222222,
             "#7201a8"
            ],
            [
             0.3333333333333333,
             "#9c179e"
            ],
            [
             0.4444444444444444,
             "#bd3786"
            ],
            [
             0.5555555555555556,
             "#d8576b"
            ],
            [
             0.6666666666666666,
             "#ed7953"
            ],
            [
             0.7777777777777778,
             "#fb9f3a"
            ],
            [
             0.8888888888888888,
             "#fdca26"
            ],
            [
             1,
             "#f0f921"
            ]
           ]
          },
          "colorway": [
           "#636efa",
           "#EF553B",
           "#00cc96",
           "#ab63fa",
           "#FFA15A",
           "#19d3f3",
           "#FF6692",
           "#B6E880",
           "#FF97FF",
           "#FECB52"
          ],
          "font": {
           "color": "#2a3f5f"
          },
          "geo": {
           "bgcolor": "white",
           "lakecolor": "white",
           "landcolor": "#E5ECF6",
           "showlakes": true,
           "showland": true,
           "subunitcolor": "white"
          },
          "hoverlabel": {
           "align": "left"
          },
          "hovermode": "closest",
          "mapbox": {
           "style": "light"
          },
          "paper_bgcolor": "white",
          "plot_bgcolor": "#E5ECF6",
          "polar": {
           "angularaxis": {
            "gridcolor": "white",
            "linecolor": "white",
            "ticks": ""
           },
           "bgcolor": "#E5ECF6",
           "radialaxis": {
            "gridcolor": "white",
            "linecolor": "white",
            "ticks": ""
           }
          },
          "scene": {
           "xaxis": {
            "backgroundcolor": "#E5ECF6",
            "gridcolor": "white",
            "gridwidth": 2,
            "linecolor": "white",
            "showbackground": true,
            "ticks": "",
            "zerolinecolor": "white"
           },
           "yaxis": {
            "backgroundcolor": "#E5ECF6",
            "gridcolor": "white",
            "gridwidth": 2,
            "linecolor": "white",
            "showbackground": true,
            "ticks": "",
            "zerolinecolor": "white"
           },
           "zaxis": {
            "backgroundcolor": "#E5ECF6",
            "gridcolor": "white",
            "gridwidth": 2,
            "linecolor": "white",
            "showbackground": true,
            "ticks": "",
            "zerolinecolor": "white"
           }
          },
          "shapedefaults": {
           "line": {
            "color": "#2a3f5f"
           }
          },
          "ternary": {
           "aaxis": {
            "gridcolor": "white",
            "linecolor": "white",
            "ticks": ""
           },
           "baxis": {
            "gridcolor": "white",
            "linecolor": "white",
            "ticks": ""
           },
           "bgcolor": "#E5ECF6",
           "caxis": {
            "gridcolor": "white",
            "linecolor": "white",
            "ticks": ""
           }
          },
          "title": {
           "x": 0.05
          },
          "xaxis": {
           "automargin": true,
           "gridcolor": "white",
           "linecolor": "white",
           "ticks": "",
           "title": {
            "standoff": 15
           },
           "zerolinecolor": "white",
           "zerolinewidth": 2
          },
          "yaxis": {
           "automargin": true,
           "gridcolor": "white",
           "linecolor": "white",
           "ticks": "",
           "title": {
            "standoff": 15
           },
           "zerolinecolor": "white",
           "zerolinewidth": 2
          }
         }
        },
        "xaxis": {
         "anchor": "y",
         "domain": [
          0,
          1
         ],
         "title": {
          "text": "Tempo"
         }
        },
        "yaxis": {
         "anchor": "x",
         "domain": [
          0,
          1
         ],
         "title": {
          "text": "id"
         }
        }
       }
      },
      "text/html": [
       "<div>\n",
       "        \n",
       "        \n",
       "            <div id=\"ab97cc3f-df1b-4e73-a115-717a34dbc035\" class=\"plotly-graph-div\" style=\"height:525px; width:100%;\"></div>\n",
       "            <script type=\"text/javascript\">\n",
       "                require([\"plotly\"], function(Plotly) {\n",
       "                    window.PLOTLYENV=window.PLOTLYENV || {};\n",
       "                    \n",
       "                if (document.getElementById(\"ab97cc3f-df1b-4e73-a115-717a34dbc035\")) {\n",
       "                    Plotly.newPlot(\n",
       "                        'ab97cc3f-df1b-4e73-a115-717a34dbc035',\n",
       "                        [{\"alignmentgroup\": \"True\", \"hovertemplate\": \"Tempo=%{x}<br>id=%{y}<extra></extra>\", \"legendgroup\": \"\", \"marker\": {\"color\": \"#636efa\"}, \"name\": \"\", \"offsetgroup\": \"\", \"orientation\": \"h\", \"showlegend\": false, \"textposition\": \"auto\", \"type\": \"bar\", \"x\": [3, 5, 4, 4, 3, 4, 5, 7, 4, 3, 7, 5, 3, 5, 5, 4, 8, 5, 8, 7, 6, 6, 4, -4, 5, 5, 5, 5, 5, 5, 5, 5, 5, 5, 7, 7, 6, 6, 4, 4, 5, 5, 5, 5, 6, 6, 7, 5, 5, 5, 8, 6, 6, 5, 5, 4, 4, 4, 2], \"xaxis\": \"x\", \"y\": [1, 2, 3, 4, 5, 6, 7, 8, 9, 10, 11, 12, 13, 14, 15, 16, 17, 18, 19, 20, 21, 22, 23, 24, 25, 26, 27, 28, 29, 30, 31, 32, 33, 34, 35, 36, 37, 38, 39, 40, 41, 42, 43, 44, 45, 46, 47, 48, 49, 50, 51, 52, 53, 54, 55, 56, 57, 58, 59], \"yaxis\": \"y\"}],\n",
       "                        {\"barmode\": \"relative\", \"legend\": {\"tracegroupgap\": 0}, \"margin\": {\"t\": 60}, \"template\": {\"data\": {\"bar\": [{\"error_x\": {\"color\": \"#2a3f5f\"}, \"error_y\": {\"color\": \"#2a3f5f\"}, \"marker\": {\"line\": {\"color\": \"#E5ECF6\", \"width\": 0.5}}, \"type\": \"bar\"}], \"barpolar\": [{\"marker\": {\"line\": {\"color\": \"#E5ECF6\", \"width\": 0.5}}, \"type\": \"barpolar\"}], \"carpet\": [{\"aaxis\": {\"endlinecolor\": \"#2a3f5f\", \"gridcolor\": \"white\", \"linecolor\": \"white\", \"minorgridcolor\": \"white\", \"startlinecolor\": \"#2a3f5f\"}, \"baxis\": {\"endlinecolor\": \"#2a3f5f\", \"gridcolor\": \"white\", \"linecolor\": \"white\", \"minorgridcolor\": \"white\", \"startlinecolor\": \"#2a3f5f\"}, \"type\": \"carpet\"}], \"choropleth\": [{\"colorbar\": {\"outlinewidth\": 0, \"ticks\": \"\"}, \"type\": \"choropleth\"}], \"contour\": [{\"colorbar\": {\"outlinewidth\": 0, \"ticks\": \"\"}, \"colorscale\": [[0.0, \"#0d0887\"], [0.1111111111111111, \"#46039f\"], [0.2222222222222222, \"#7201a8\"], [0.3333333333333333, \"#9c179e\"], [0.4444444444444444, \"#bd3786\"], [0.5555555555555556, \"#d8576b\"], [0.6666666666666666, \"#ed7953\"], [0.7777777777777778, \"#fb9f3a\"], [0.8888888888888888, \"#fdca26\"], [1.0, \"#f0f921\"]], \"type\": \"contour\"}], \"contourcarpet\": [{\"colorbar\": {\"outlinewidth\": 0, \"ticks\": \"\"}, \"type\": \"contourcarpet\"}], \"heatmap\": [{\"colorbar\": {\"outlinewidth\": 0, \"ticks\": \"\"}, \"colorscale\": [[0.0, \"#0d0887\"], [0.1111111111111111, \"#46039f\"], [0.2222222222222222, \"#7201a8\"], [0.3333333333333333, \"#9c179e\"], [0.4444444444444444, \"#bd3786\"], [0.5555555555555556, \"#d8576b\"], [0.6666666666666666, \"#ed7953\"], [0.7777777777777778, \"#fb9f3a\"], [0.8888888888888888, \"#fdca26\"], [1.0, \"#f0f921\"]], \"type\": \"heatmap\"}], \"heatmapgl\": [{\"colorbar\": {\"outlinewidth\": 0, \"ticks\": \"\"}, \"colorscale\": [[0.0, \"#0d0887\"], [0.1111111111111111, \"#46039f\"], [0.2222222222222222, \"#7201a8\"], [0.3333333333333333, \"#9c179e\"], [0.4444444444444444, \"#bd3786\"], [0.5555555555555556, \"#d8576b\"], [0.6666666666666666, \"#ed7953\"], [0.7777777777777778, \"#fb9f3a\"], [0.8888888888888888, \"#fdca26\"], [1.0, \"#f0f921\"]], \"type\": \"heatmapgl\"}], \"histogram\": [{\"marker\": {\"colorbar\": {\"outlinewidth\": 0, \"ticks\": \"\"}}, \"type\": \"histogram\"}], \"histogram2d\": [{\"colorbar\": {\"outlinewidth\": 0, \"ticks\": \"\"}, \"colorscale\": [[0.0, \"#0d0887\"], [0.1111111111111111, \"#46039f\"], [0.2222222222222222, \"#7201a8\"], [0.3333333333333333, \"#9c179e\"], [0.4444444444444444, \"#bd3786\"], [0.5555555555555556, \"#d8576b\"], [0.6666666666666666, \"#ed7953\"], [0.7777777777777778, \"#fb9f3a\"], [0.8888888888888888, \"#fdca26\"], [1.0, \"#f0f921\"]], \"type\": \"histogram2d\"}], \"histogram2dcontour\": [{\"colorbar\": {\"outlinewidth\": 0, \"ticks\": \"\"}, \"colorscale\": [[0.0, \"#0d0887\"], [0.1111111111111111, \"#46039f\"], [0.2222222222222222, \"#7201a8\"], [0.3333333333333333, \"#9c179e\"], [0.4444444444444444, \"#bd3786\"], [0.5555555555555556, \"#d8576b\"], [0.6666666666666666, \"#ed7953\"], [0.7777777777777778, \"#fb9f3a\"], [0.8888888888888888, \"#fdca26\"], [1.0, \"#f0f921\"]], \"type\": \"histogram2dcontour\"}], \"mesh3d\": [{\"colorbar\": {\"outlinewidth\": 0, \"ticks\": \"\"}, \"type\": \"mesh3d\"}], \"parcoords\": [{\"line\": {\"colorbar\": {\"outlinewidth\": 0, \"ticks\": \"\"}}, \"type\": \"parcoords\"}], \"pie\": [{\"automargin\": true, \"type\": \"pie\"}], \"scatter\": [{\"marker\": {\"colorbar\": {\"outlinewidth\": 0, \"ticks\": \"\"}}, \"type\": \"scatter\"}], \"scatter3d\": [{\"line\": {\"colorbar\": {\"outlinewidth\": 0, \"ticks\": \"\"}}, \"marker\": {\"colorbar\": {\"outlinewidth\": 0, \"ticks\": \"\"}}, \"type\": \"scatter3d\"}], \"scattercarpet\": [{\"marker\": {\"colorbar\": {\"outlinewidth\": 0, \"ticks\": \"\"}}, \"type\": \"scattercarpet\"}], \"scattergeo\": [{\"marker\": {\"colorbar\": {\"outlinewidth\": 0, \"ticks\": \"\"}}, \"type\": \"scattergeo\"}], \"scattergl\": [{\"marker\": {\"colorbar\": {\"outlinewidth\": 0, \"ticks\": \"\"}}, \"type\": \"scattergl\"}], \"scattermapbox\": [{\"marker\": {\"colorbar\": {\"outlinewidth\": 0, \"ticks\": \"\"}}, \"type\": \"scattermapbox\"}], \"scatterpolar\": [{\"marker\": {\"colorbar\": {\"outlinewidth\": 0, \"ticks\": \"\"}}, \"type\": \"scatterpolar\"}], \"scatterpolargl\": [{\"marker\": {\"colorbar\": {\"outlinewidth\": 0, \"ticks\": \"\"}}, \"type\": \"scatterpolargl\"}], \"scatterternary\": [{\"marker\": {\"colorbar\": {\"outlinewidth\": 0, \"ticks\": \"\"}}, \"type\": \"scatterternary\"}], \"surface\": [{\"colorbar\": {\"outlinewidth\": 0, \"ticks\": \"\"}, \"colorscale\": [[0.0, \"#0d0887\"], [0.1111111111111111, \"#46039f\"], [0.2222222222222222, \"#7201a8\"], [0.3333333333333333, \"#9c179e\"], [0.4444444444444444, \"#bd3786\"], [0.5555555555555556, \"#d8576b\"], [0.6666666666666666, \"#ed7953\"], [0.7777777777777778, \"#fb9f3a\"], [0.8888888888888888, \"#fdca26\"], [1.0, \"#f0f921\"]], \"type\": \"surface\"}], \"table\": [{\"cells\": {\"fill\": {\"color\": \"#EBF0F8\"}, \"line\": {\"color\": \"white\"}}, \"header\": {\"fill\": {\"color\": \"#C8D4E3\"}, \"line\": {\"color\": \"white\"}}, \"type\": \"table\"}]}, \"layout\": {\"annotationdefaults\": {\"arrowcolor\": \"#2a3f5f\", \"arrowhead\": 0, \"arrowwidth\": 1}, \"coloraxis\": {\"colorbar\": {\"outlinewidth\": 0, \"ticks\": \"\"}}, \"colorscale\": {\"diverging\": [[0, \"#8e0152\"], [0.1, \"#c51b7d\"], [0.2, \"#de77ae\"], [0.3, \"#f1b6da\"], [0.4, \"#fde0ef\"], [0.5, \"#f7f7f7\"], [0.6, \"#e6f5d0\"], [0.7, \"#b8e186\"], [0.8, \"#7fbc41\"], [0.9, \"#4d9221\"], [1, \"#276419\"]], \"sequential\": [[0.0, \"#0d0887\"], [0.1111111111111111, \"#46039f\"], [0.2222222222222222, \"#7201a8\"], [0.3333333333333333, \"#9c179e\"], [0.4444444444444444, \"#bd3786\"], [0.5555555555555556, \"#d8576b\"], [0.6666666666666666, \"#ed7953\"], [0.7777777777777778, \"#fb9f3a\"], [0.8888888888888888, \"#fdca26\"], [1.0, \"#f0f921\"]], \"sequentialminus\": [[0.0, \"#0d0887\"], [0.1111111111111111, \"#46039f\"], [0.2222222222222222, \"#7201a8\"], [0.3333333333333333, \"#9c179e\"], [0.4444444444444444, \"#bd3786\"], [0.5555555555555556, \"#d8576b\"], [0.6666666666666666, \"#ed7953\"], [0.7777777777777778, \"#fb9f3a\"], [0.8888888888888888, \"#fdca26\"], [1.0, \"#f0f921\"]]}, \"colorway\": [\"#636efa\", \"#EF553B\", \"#00cc96\", \"#ab63fa\", \"#FFA15A\", \"#19d3f3\", \"#FF6692\", \"#B6E880\", \"#FF97FF\", \"#FECB52\"], \"font\": {\"color\": \"#2a3f5f\"}, \"geo\": {\"bgcolor\": \"white\", \"lakecolor\": \"white\", \"landcolor\": \"#E5ECF6\", \"showlakes\": true, \"showland\": true, \"subunitcolor\": \"white\"}, \"hoverlabel\": {\"align\": \"left\"}, \"hovermode\": \"closest\", \"mapbox\": {\"style\": \"light\"}, \"paper_bgcolor\": \"white\", \"plot_bgcolor\": \"#E5ECF6\", \"polar\": {\"angularaxis\": {\"gridcolor\": \"white\", \"linecolor\": \"white\", \"ticks\": \"\"}, \"bgcolor\": \"#E5ECF6\", \"radialaxis\": {\"gridcolor\": \"white\", \"linecolor\": \"white\", \"ticks\": \"\"}}, \"scene\": {\"xaxis\": {\"backgroundcolor\": \"#E5ECF6\", \"gridcolor\": \"white\", \"gridwidth\": 2, \"linecolor\": \"white\", \"showbackground\": true, \"ticks\": \"\", \"zerolinecolor\": \"white\"}, \"yaxis\": {\"backgroundcolor\": \"#E5ECF6\", \"gridcolor\": \"white\", \"gridwidth\": 2, \"linecolor\": \"white\", \"showbackground\": true, \"ticks\": \"\", \"zerolinecolor\": \"white\"}, \"zaxis\": {\"backgroundcolor\": \"#E5ECF6\", \"gridcolor\": \"white\", \"gridwidth\": 2, \"linecolor\": \"white\", \"showbackground\": true, \"ticks\": \"\", \"zerolinecolor\": \"white\"}}, \"shapedefaults\": {\"line\": {\"color\": \"#2a3f5f\"}}, \"ternary\": {\"aaxis\": {\"gridcolor\": \"white\", \"linecolor\": \"white\", \"ticks\": \"\"}, \"baxis\": {\"gridcolor\": \"white\", \"linecolor\": \"white\", \"ticks\": \"\"}, \"bgcolor\": \"#E5ECF6\", \"caxis\": {\"gridcolor\": \"white\", \"linecolor\": \"white\", \"ticks\": \"\"}}, \"title\": {\"x\": 0.05}, \"xaxis\": {\"automargin\": true, \"gridcolor\": \"white\", \"linecolor\": \"white\", \"ticks\": \"\", \"title\": {\"standoff\": 15}, \"zerolinecolor\": \"white\", \"zerolinewidth\": 2}, \"yaxis\": {\"automargin\": true, \"gridcolor\": \"white\", \"linecolor\": \"white\", \"ticks\": \"\", \"title\": {\"standoff\": 15}, \"zerolinecolor\": \"white\", \"zerolinewidth\": 2}}}, \"xaxis\": {\"anchor\": \"y\", \"domain\": [0.0, 1.0], \"title\": {\"text\": \"Tempo\"}}, \"yaxis\": {\"anchor\": \"x\", \"domain\": [0.0, 1.0], \"title\": {\"text\": \"id\"}}},\n",
       "                        {\"responsive\": true}\n",
       "                    ).then(function(){\n",
       "                            \n",
       "var gd = document.getElementById('ab97cc3f-df1b-4e73-a115-717a34dbc035');\n",
       "var x = new MutationObserver(function (mutations, observer) {{\n",
       "        var display = window.getComputedStyle(gd).display;\n",
       "        if (!display || display === 'none') {{\n",
       "            console.log([gd, 'removed!']);\n",
       "            Plotly.purge(gd);\n",
       "            observer.disconnect();\n",
       "        }}\n",
       "}});\n",
       "\n",
       "// Listen for the removal of the full notebook cells\n",
       "var notebookContainer = gd.closest('#notebook-container');\n",
       "if (notebookContainer) {{\n",
       "    x.observe(notebookContainer, {childList: true});\n",
       "}}\n",
       "\n",
       "// Listen for the clearing of the current output cell\n",
       "var outputEl = gd.closest('.output');\n",
       "if (outputEl) {{\n",
       "    x.observe(outputEl, {childList: true});\n",
       "}}\n",
       "\n",
       "                        })\n",
       "                };\n",
       "                });\n",
       "            </script>\n",
       "        </div>"
      ]
     },
     "metadata": {},
     "output_type": "display_data"
    }
   ],
   "source": [
    "quali = df[df['Código da Disciplina'] == 316580]\n",
    "\n",
    "#ferro = quali[quali['Matrícula'] == 180061712]\n",
    "\n",
    "#ferro\n",
    "tempoQualificar = quali[['Matrícula','Tempo']]\n",
    "\n",
    "#print()\n",
    "tempoQualificar['id'] = np.arange(len(tempoQualificar)) + 1\n",
    "\n",
    "fig = px.bar(tempoQualificar, x=\"Tempo\", y=\"id\", orientation='h')\n",
    "fig.show()\n",
    "\n"
   ]
  },
  {
   "cell_type": "markdown",
   "metadata": {},
   "source": [
    "## Disciplinas cursadas com maior quantidade de matrículas"
   ]
  },
  {
   "cell_type": "code",
   "execution_count": 486,
   "metadata": {},
   "outputs": [],
   "source": [
    "propdf = df;\n",
    "\n",
    "propdf = propdf.drop(['Código da Disciplina'], axis=1)\n",
    "\n",
    "propdf = propdf[propdf.Menção != 'AP']\n",
    "\n",
    "propdf = propdf[propdf.Menção != 'CC']\n",
    "\n",
    "propdf = propdf[propdf.Menção != 'DP']\n",
    "\n",
    "propdf = propdf[propdf.Menção != 'RP']\n",
    "\n",
    "totalDisc = propdf.groupby(['Disciplina']).size()\n",
    "\n",
    "#print(totalDisc)"
   ]
  },
  {
   "cell_type": "markdown",
   "metadata": {},
   "source": [
    "## Resposta: Q2"
   ]
  },
  {
   "cell_type": "code",
   "execution_count": 487,
   "metadata": {},
   "outputs": [
    {
     "name": "stdout",
     "output_type": "stream",
     "text": [
      "Disciplina                                                              Menção\n",
      "Arquiteturas VLSI                                                       MS        0.800000\n",
      "                                                                        SS        0.200000\n",
      "Engenharia de Software 1                                                SS        1.000000\n",
      "Engenharia de Software 2                                                MS        0.125000\n",
      "                                                                        SS        0.875000\n",
      "Estágio de Docência no Ensino de Graduação em Ciência da Computação     MM        0.012195\n",
      "                                                                        MS        0.012195\n",
      "                                                                        SS        0.963415\n",
      "                                                                        TR        0.012195\n",
      "Fundamentos de Sistemas Computacionais                                  MI        0.060241\n",
      "                                                                        MM        0.337349\n",
      "                                                                        MS        0.530120\n",
      "                                                                        SR        0.012048\n",
      "                                                                        SS        0.048193\n",
      "                                                                        TR        0.012048\n",
      "Inteligência Artificial 1                                               MM        0.103448\n",
      "                                                                        MS        0.275862\n",
      "                                                                        SS        0.586207\n",
      "                                                                        TR        0.034483\n",
      "Inteligência Artificial 2                                               MM        0.062500\n",
      "                                                                        MS        0.375000\n",
      "                                                                        SS        0.562500\n",
      "Linguagens Declarativas                                                 MS        0.666667\n",
      "                                                                        SS        0.333333\n",
      "Linguagens Para Inteligencia Artificial                                 MS        0.666667\n",
      "                                                                        SS        0.333333\n",
      "Lógica Formal e Computacional                                           MM        0.375000\n",
      "                                                                        MS        0.375000\n",
      "                                                                        SS        0.250000\n",
      "Modelagem e Verificação de Sistemas Integrados em Silício               MM        0.500000\n",
      "                                                                        SS        0.500000\n",
      "Processamento de Imagens                                                MM        0.333333\n",
      "                                                                        MS        0.666667\n",
      "Processamento de Imagens Digitais                                       MM        0.200000\n",
      "                                                                        MS        0.400000\n",
      "                                                                        SS        0.400000\n",
      "Programação Paralela                                                    MS        0.357143\n",
      "                                                                        SS        0.571429\n",
      "                                                                        TR        0.071429\n",
      "Projeto e Complexidade de Algoritmos                                    II        0.042254\n",
      "                                                                        MI        0.014085\n",
      "                                                                        MM        0.352113\n",
      "                                                                        MS        0.507042\n",
      "                                                                        SR        0.028169\n",
      "                                                                        SS        0.056338\n",
      "Projeto e Complexidade de Algorítmos 2                                  MS        0.333333\n",
      "                                                                        SS        0.666667\n",
      "Seminário                                                               MM        0.011905\n",
      "                                                                        MS        0.226190\n",
      "                                                                        SS        0.750000\n",
      "                                                                        TR        0.011905\n",
      "Sistemas Distribuídos                                                   MI        0.032258\n",
      "                                                                        MM        0.225806\n",
      "                                                                        MS        0.612903\n",
      "                                                                        SS        0.129032\n",
      "Sistemas Multiagentes                                                   MM        0.047619\n",
      "                                                                        MS        0.428571\n",
      "                                                                        SR        0.047619\n",
      "                                                                        SS        0.428571\n",
      "                                                                        TR        0.047619\n",
      "Teoria da Computação                                                    II        0.028986\n",
      "                                                                        MI        0.028986\n",
      "                                                                        MM        0.405797\n",
      "                                                                        MS        0.405797\n",
      "                                                                        SR        0.014493\n",
      "                                                                        SS        0.101449\n",
      "                                                                        TR        0.014493\n",
      "Trabalho Individual em Fundamentos e Métodos de Computação              MM        0.102564\n",
      "                                                                        MS        0.076923\n",
      "                                                                        SS        0.820513\n",
      "Trabalho Individual em Sistemas de Computação                           MI        0.028571\n",
      "                                                                        MS        0.057143\n",
      "                                                                        SS        0.914286\n",
      "Tópicos de Pesquisa em Informática                                      MS        0.600000\n",
      "                                                                        SS        0.400000\n",
      "Tópicos em Engenharia de Software                                       MS        0.470588\n",
      "                                                                        SS        0.529412\n",
      "Tópicos em Formalismos de Computação                                    MS        0.555556\n",
      "                                                                        SS        0.444444\n",
      "Tópicos em Fundamentos e Métodos de Computação                          MI        0.015152\n",
      "                                                                        MM        0.045455\n",
      "                                                                        MS        0.287879\n",
      "                                                                        SR        0.015152\n",
      "                                                                        SS        0.636364\n",
      "Tópicos em Sistemas de Computação                                       MM        0.096154\n",
      "                                                                        MS        0.307692\n",
      "                                                                        SS        0.576923\n",
      "                                                                        TR        0.019231\n",
      "dtype: float64\n"
     ]
    }
   ],
   "source": [
    "prop = propdf.groupby(['Disciplina','Menção']).size() / propdf.groupby(['Disciplina']).size()\n",
    "\n",
    "print(prop)"
   ]
  },
  {
   "cell_type": "markdown",
   "metadata": {},
   "source": [
    "### Drop course's name attribute (we refer them by their own IDs)"
   ]
  },
  {
   "cell_type": "code",
   "execution_count": 488,
   "metadata": {},
   "outputs": [],
   "source": [
    "precdf = df\n",
    "\n",
    "precdf = precdf[precdf.Menção != 'AP']\n",
    "\n",
    "precdf = precdf[precdf.Menção != 'CC']\n",
    "\n",
    "precdf = precdf[precdf.Menção != 'DP']\n",
    "\n",
    "precdf = precdf[precdf.Menção != 'RP']"
   ]
  },
  {
   "cell_type": "code",
   "execution_count": 489,
   "metadata": {},
   "outputs": [
    {
     "data": {
      "application/vnd.plotly.v1+json": {
       "config": {
        "plotlyServerURL": "https://plot.ly"
       },
       "data": [
        {
         "domain": {
          "x": [
           0,
           1
          ],
          "y": [
           0,
           1
          ]
         },
         "hovertemplate": "Menção=%{label}<extra></extra>",
         "labels": [
          "SS",
          "MS",
          "SS",
          "MS",
          "MM",
          "MS",
          "MM",
          "MM",
          "MS",
          "MS",
          "SS",
          "MS",
          "MM",
          "MS",
          "MM",
          "MS",
          "MS",
          "MM",
          "SS",
          "MM",
          "MS",
          "MS",
          "SS",
          "MM",
          "MM",
          "MS",
          "MS",
          "MS",
          "MM",
          "SS",
          "SS",
          "MM",
          "MM",
          "MI",
          "MS",
          "MS",
          "SS",
          "MS",
          "MS",
          "SS",
          "MS",
          "MM",
          "MS",
          "MS",
          "SS",
          "MM",
          "MS",
          "MM",
          "MM",
          "SS",
          "SS",
          "SS",
          "MS",
          "MM",
          "MS",
          "MS",
          "MS",
          "MS",
          "MS",
          "SS",
          "SS",
          "MS",
          "SS",
          "TR",
          "SS",
          "SS",
          "MS",
          "SS",
          "SS",
          "SS",
          "MI",
          "MS",
          "MS",
          "MS",
          "MM",
          "MS",
          "MM",
          "MS",
          "SS",
          "SS",
          "MM",
          "MM",
          "MM",
          "MS",
          "MS",
          "MS",
          "MS",
          "MS",
          "SS",
          "SS",
          "MM",
          "SS",
          "SS",
          "MM",
          "SS",
          "SS",
          "MS",
          "SS",
          "SS",
          "SS",
          "MS",
          "MS",
          "SS",
          "MS",
          "MM",
          "SS",
          "MS",
          "MS",
          "MS",
          "MS",
          "SS",
          "MS",
          "MS",
          "MS",
          "MS",
          "MS",
          "MS",
          "SS",
          "MS",
          "SS",
          "SS",
          "MS",
          "SS",
          "MS",
          "MS",
          "MM",
          "MS",
          "MS",
          "MS",
          "SS",
          "MS",
          "SS",
          "SS",
          "SS",
          "SS",
          "SS",
          "SS",
          "SS",
          "MM",
          "MS",
          "SS",
          "MS",
          "MS",
          "SS",
          "MM",
          "SS",
          "SS",
          "SS",
          "SS",
          "MS",
          "MS",
          "SS",
          "MS",
          "MS",
          "MS",
          "MS",
          "SS",
          "MS",
          "SS",
          "SS",
          "SS",
          "MS",
          "MS",
          "MS",
          "SS",
          "MM",
          "MM",
          "SS",
          "SS",
          "SS",
          "SS",
          "MM",
          "SS",
          "MS",
          "SS",
          "SS",
          "SS",
          "MM",
          "SS",
          "SS",
          "SS",
          "SS",
          "SS",
          "MS",
          "MS",
          "SS",
          "SS",
          "MS",
          "MS",
          "MS",
          "SS",
          "SS",
          "SS",
          "MS",
          "MM",
          "MM",
          "MS",
          "MS",
          "SS",
          "SS",
          "MM",
          "MS",
          "SS",
          "SS",
          "SS",
          "SS",
          "SS",
          "SS",
          "SS",
          "SS",
          "SS",
          "MS",
          "MS",
          "SS",
          "MS",
          "SS",
          "SS",
          "SS",
          "SS",
          "SS",
          "MM",
          "SS",
          "SS",
          "MS",
          "MS",
          "MS",
          "MM",
          "MM",
          "SS",
          "SS",
          "MM",
          "MM",
          "SS",
          "MM",
          "SS",
          "SS",
          "MS",
          "SS",
          "SS",
          "SS",
          "MS",
          "MS",
          "SS",
          "SS",
          "TR",
          "MS",
          "SS",
          "MM",
          "MM",
          "MM",
          "SS",
          "SS",
          "SS",
          "MS",
          "SS",
          "MM",
          "MS",
          "SS",
          "SS",
          "SS",
          "MI",
          "MI",
          "SS",
          "SS",
          "MS",
          "MS",
          "SS",
          "MM",
          "SR",
          "SR",
          "MS",
          "MM",
          "SS",
          "MS",
          "MS",
          "SS",
          "SS",
          "MS",
          "MS",
          "SS",
          "MM",
          "MS",
          "MS",
          "SS",
          "SS",
          "MS",
          "MS",
          "MS",
          "MM",
          "MS",
          "SS",
          "MS",
          "MS",
          "MM",
          "SS",
          "MS",
          "SS",
          "SS",
          "MS",
          "MM",
          "SS",
          "SS",
          "MS",
          "MS",
          "MS",
          "TR",
          "SS",
          "MS",
          "SS",
          "MS",
          "SS",
          "SS",
          "SS",
          "SS",
          "SS",
          "MS",
          "SS",
          "SS",
          "MS",
          "MM",
          "MS",
          "SS",
          "MM",
          "MS",
          "SS",
          "SS",
          "SS",
          "SS",
          "MS",
          "SS",
          "SS",
          "SS",
          "SS",
          "MS",
          "SS",
          "MS",
          "SS",
          "MM",
          "SS",
          "SS",
          "SS",
          "SS",
          "MM",
          "MM",
          "SS",
          "SS",
          "SS",
          "SS",
          "SS",
          "SS",
          "SS",
          "SS",
          "SS",
          "SS",
          "SS",
          "SS",
          "SS",
          "MM",
          "SS",
          "MS",
          "SS",
          "MS",
          "SS",
          "SS",
          "SS",
          "SS",
          "SS",
          "SS",
          "MM",
          "SS",
          "SS",
          "SS",
          "MS",
          "MS",
          "MS",
          "MM",
          "MM",
          "MS",
          "MS",
          "MS",
          "SS",
          "SS",
          "MS",
          "MM",
          "SS",
          "SS",
          "SS",
          "SS",
          "MS",
          "SS",
          "SS",
          "SS",
          "MM",
          "SS",
          "SS",
          "SS",
          "MM",
          "SS",
          "SS",
          "SS",
          "MS",
          "SS",
          "SS",
          "SS",
          "MM",
          "SS",
          "MM",
          "SS",
          "SS",
          "MS",
          "MS",
          "MS",
          "MS",
          "MS",
          "SS",
          "SS",
          "SS",
          "SS",
          "SS",
          "SS",
          "SS",
          "SS",
          "SS",
          "SS",
          "MS",
          "MS",
          "MS",
          "SS",
          "SS",
          "MM",
          "TR",
          "MS",
          "SS",
          "SS",
          "MS",
          "MM",
          "SS",
          "MS",
          "SS",
          "MS",
          "MS",
          "MS",
          "MS",
          "MS",
          "MM",
          "MS",
          "MM",
          "II",
          "MM",
          "SS",
          "SS",
          "MI",
          "MS",
          "TR",
          "SS",
          "SS",
          "SS",
          "MS",
          "MS",
          "MM",
          "SS",
          "SS",
          "SS",
          "MS",
          "SS",
          "SS",
          "SS",
          "MS",
          "SS",
          "MM",
          "MS",
          "MS",
          "MS",
          "MM",
          "MS",
          "MS",
          "MM",
          "SS",
          "SS",
          "SS",
          "MM",
          "MM",
          "SS",
          "SS",
          "SS",
          "SS",
          "SS",
          "SS",
          "MS",
          "SS",
          "SS",
          "MS",
          "SS",
          "SR",
          "SS",
          "MS",
          "MS",
          "SS",
          "MS",
          "SS",
          "MS",
          "MS",
          "MM",
          "MM",
          "SS",
          "SS",
          "MI",
          "SS",
          "SS",
          "MS",
          "SS",
          "SS",
          "SS",
          "SS",
          "SS",
          "MS",
          "SS",
          "SS",
          "MM",
          "MS",
          "MS",
          "MM",
          "MS",
          "SS",
          "SS",
          "SS",
          "SS",
          "SS",
          "SS",
          "SS",
          "SS",
          "SS",
          "SS",
          "MM",
          "MS",
          "SS",
          "SS",
          "SS",
          "SS",
          "SS",
          "SS",
          "SS",
          "MM",
          "MM",
          "SS",
          "MM",
          "MS",
          "SS",
          "SS",
          "SS",
          "MM",
          "MM",
          "MS",
          "MS",
          "MS",
          "SS",
          "SS",
          "MS",
          "SS",
          "SS",
          "MM",
          "SS",
          "SS",
          "SS",
          "MS",
          "MS",
          "SS",
          "SS",
          "MM",
          "SS",
          "MS",
          "SS",
          "MS",
          "MS",
          "MS",
          "SS",
          "SS",
          "SS",
          "SS",
          "SS",
          "SS",
          "SS",
          "SS",
          "MS",
          "SS",
          "SS",
          "SS",
          "MS",
          "MS",
          "MS",
          "MS",
          "MS",
          "MM",
          "SS",
          "MS",
          "MS",
          "MM",
          "SS",
          "SS",
          "SS",
          "MS",
          "MS",
          "II",
          "MM",
          "MS",
          "SS",
          "SS",
          "SS",
          "TR",
          "SS",
          "SS",
          "SS",
          "MS",
          "SS",
          "SS",
          "SS",
          "SS",
          "SS",
          "SS",
          "MS",
          "MS",
          "SS",
          "SS",
          "MS",
          "SS",
          "II",
          "MS",
          "SS",
          "SS",
          "MS",
          "MM",
          "SS",
          "MS",
          "MS",
          "SS",
          "SR",
          "II",
          "SS",
          "SS",
          "MS",
          "SS",
          "MS",
          "SS",
          "SS",
          "SS",
          "SS",
          "SS",
          "MS",
          "SS",
          "SS",
          "MI",
          "MS",
          "MM",
          "MS",
          "MS",
          "MM",
          "MS",
          "SS",
          "MS",
          "SS",
          "SS",
          "SS",
          "SS",
          "MS",
          "SS",
          "SS",
          "MM",
          "MM",
          "SS",
          "SS",
          "MS",
          "SS",
          "SS",
          "MS",
          "SS",
          "SS",
          "SS",
          "MS",
          "SS",
          "SS",
          "MS",
          "MM",
          "SS",
          "SS",
          "MS",
          "SS",
          "MS",
          "SS",
          "MS",
          "SS",
          "MS",
          "SS",
          "SS",
          "SS",
          "MS",
          "MS",
          "MS",
          "SS",
          "SS",
          "SS",
          "SS",
          "MI",
          "MS",
          "SS",
          "SS",
          "MS",
          "MI",
          "SS",
          "II",
          "MM",
          "MS",
          "MS",
          "MS",
          "SS",
          "SS",
          "MM",
          "MS",
          "SS",
          "SS",
          "MS",
          "MS",
          "MI",
          "MS",
          "SS",
          "MM",
          "SS",
          "MM",
          "MM",
          "MM",
          "TR",
          "MS",
          "SS",
          "SS",
          "MM",
          "SS",
          "MS",
          "SR",
          "MM",
          "SS",
          "SS",
          "MM",
          "SS",
          "SS",
          "SS",
          "MS",
          "SS",
          "MS",
          "MM",
          "MS",
          "SS",
          "MS",
          "MS",
          "MS",
          "MS",
          "MS",
          "SS",
          "SS",
          "SS",
          "MS",
          "MM",
          "MM",
          "SS",
          "MS",
          "MM",
          "SS",
          "MI",
          "MM",
          "MS",
          "SS",
          "MS",
          "MS",
          "MM",
          "SS",
          "TR",
          "MS",
          "MS",
          "MS",
          "MM",
          "MS",
          "MS",
          "MS",
          "SS",
          "MM",
          "MS",
          "SS",
          "SR",
          "SS"
         ],
         "legendgroup": "",
         "name": "",
         "showlegend": true,
         "type": "pie"
        }
       ],
       "layout": {
        "legend": {
         "tracegroupgap": 0
        },
        "template": {
         "data": {
          "bar": [
           {
            "error_x": {
             "color": "#2a3f5f"
            },
            "error_y": {
             "color": "#2a3f5f"
            },
            "marker": {
             "line": {
              "color": "#E5ECF6",
              "width": 0.5
             }
            },
            "type": "bar"
           }
          ],
          "barpolar": [
           {
            "marker": {
             "line": {
              "color": "#E5ECF6",
              "width": 0.5
             }
            },
            "type": "barpolar"
           }
          ],
          "carpet": [
           {
            "aaxis": {
             "endlinecolor": "#2a3f5f",
             "gridcolor": "white",
             "linecolor": "white",
             "minorgridcolor": "white",
             "startlinecolor": "#2a3f5f"
            },
            "baxis": {
             "endlinecolor": "#2a3f5f",
             "gridcolor": "white",
             "linecolor": "white",
             "minorgridcolor": "white",
             "startlinecolor": "#2a3f5f"
            },
            "type": "carpet"
           }
          ],
          "choropleth": [
           {
            "colorbar": {
             "outlinewidth": 0,
             "ticks": ""
            },
            "type": "choropleth"
           }
          ],
          "contour": [
           {
            "colorbar": {
             "outlinewidth": 0,
             "ticks": ""
            },
            "colorscale": [
             [
              0,
              "#0d0887"
             ],
             [
              0.1111111111111111,
              "#46039f"
             ],
             [
              0.2222222222222222,
              "#7201a8"
             ],
             [
              0.3333333333333333,
              "#9c179e"
             ],
             [
              0.4444444444444444,
              "#bd3786"
             ],
             [
              0.5555555555555556,
              "#d8576b"
             ],
             [
              0.6666666666666666,
              "#ed7953"
             ],
             [
              0.7777777777777778,
              "#fb9f3a"
             ],
             [
              0.8888888888888888,
              "#fdca26"
             ],
             [
              1,
              "#f0f921"
             ]
            ],
            "type": "contour"
           }
          ],
          "contourcarpet": [
           {
            "colorbar": {
             "outlinewidth": 0,
             "ticks": ""
            },
            "type": "contourcarpet"
           }
          ],
          "heatmap": [
           {
            "colorbar": {
             "outlinewidth": 0,
             "ticks": ""
            },
            "colorscale": [
             [
              0,
              "#0d0887"
             ],
             [
              0.1111111111111111,
              "#46039f"
             ],
             [
              0.2222222222222222,
              "#7201a8"
             ],
             [
              0.3333333333333333,
              "#9c179e"
             ],
             [
              0.4444444444444444,
              "#bd3786"
             ],
             [
              0.5555555555555556,
              "#d8576b"
             ],
             [
              0.6666666666666666,
              "#ed7953"
             ],
             [
              0.7777777777777778,
              "#fb9f3a"
             ],
             [
              0.8888888888888888,
              "#fdca26"
             ],
             [
              1,
              "#f0f921"
             ]
            ],
            "type": "heatmap"
           }
          ],
          "heatmapgl": [
           {
            "colorbar": {
             "outlinewidth": 0,
             "ticks": ""
            },
            "colorscale": [
             [
              0,
              "#0d0887"
             ],
             [
              0.1111111111111111,
              "#46039f"
             ],
             [
              0.2222222222222222,
              "#7201a8"
             ],
             [
              0.3333333333333333,
              "#9c179e"
             ],
             [
              0.4444444444444444,
              "#bd3786"
             ],
             [
              0.5555555555555556,
              "#d8576b"
             ],
             [
              0.6666666666666666,
              "#ed7953"
             ],
             [
              0.7777777777777778,
              "#fb9f3a"
             ],
             [
              0.8888888888888888,
              "#fdca26"
             ],
             [
              1,
              "#f0f921"
             ]
            ],
            "type": "heatmapgl"
           }
          ],
          "histogram": [
           {
            "marker": {
             "colorbar": {
              "outlinewidth": 0,
              "ticks": ""
             }
            },
            "type": "histogram"
           }
          ],
          "histogram2d": [
           {
            "colorbar": {
             "outlinewidth": 0,
             "ticks": ""
            },
            "colorscale": [
             [
              0,
              "#0d0887"
             ],
             [
              0.1111111111111111,
              "#46039f"
             ],
             [
              0.2222222222222222,
              "#7201a8"
             ],
             [
              0.3333333333333333,
              "#9c179e"
             ],
             [
              0.4444444444444444,
              "#bd3786"
             ],
             [
              0.5555555555555556,
              "#d8576b"
             ],
             [
              0.6666666666666666,
              "#ed7953"
             ],
             [
              0.7777777777777778,
              "#fb9f3a"
             ],
             [
              0.8888888888888888,
              "#fdca26"
             ],
             [
              1,
              "#f0f921"
             ]
            ],
            "type": "histogram2d"
           }
          ],
          "histogram2dcontour": [
           {
            "colorbar": {
             "outlinewidth": 0,
             "ticks": ""
            },
            "colorscale": [
             [
              0,
              "#0d0887"
             ],
             [
              0.1111111111111111,
              "#46039f"
             ],
             [
              0.2222222222222222,
              "#7201a8"
             ],
             [
              0.3333333333333333,
              "#9c179e"
             ],
             [
              0.4444444444444444,
              "#bd3786"
             ],
             [
              0.5555555555555556,
              "#d8576b"
             ],
             [
              0.6666666666666666,
              "#ed7953"
             ],
             [
              0.7777777777777778,
              "#fb9f3a"
             ],
             [
              0.8888888888888888,
              "#fdca26"
             ],
             [
              1,
              "#f0f921"
             ]
            ],
            "type": "histogram2dcontour"
           }
          ],
          "mesh3d": [
           {
            "colorbar": {
             "outlinewidth": 0,
             "ticks": ""
            },
            "type": "mesh3d"
           }
          ],
          "parcoords": [
           {
            "line": {
             "colorbar": {
              "outlinewidth": 0,
              "ticks": ""
             }
            },
            "type": "parcoords"
           }
          ],
          "pie": [
           {
            "automargin": true,
            "type": "pie"
           }
          ],
          "scatter": [
           {
            "marker": {
             "colorbar": {
              "outlinewidth": 0,
              "ticks": ""
             }
            },
            "type": "scatter"
           }
          ],
          "scatter3d": [
           {
            "line": {
             "colorbar": {
              "outlinewidth": 0,
              "ticks": ""
             }
            },
            "marker": {
             "colorbar": {
              "outlinewidth": 0,
              "ticks": ""
             }
            },
            "type": "scatter3d"
           }
          ],
          "scattercarpet": [
           {
            "marker": {
             "colorbar": {
              "outlinewidth": 0,
              "ticks": ""
             }
            },
            "type": "scattercarpet"
           }
          ],
          "scattergeo": [
           {
            "marker": {
             "colorbar": {
              "outlinewidth": 0,
              "ticks": ""
             }
            },
            "type": "scattergeo"
           }
          ],
          "scattergl": [
           {
            "marker": {
             "colorbar": {
              "outlinewidth": 0,
              "ticks": ""
             }
            },
            "type": "scattergl"
           }
          ],
          "scattermapbox": [
           {
            "marker": {
             "colorbar": {
              "outlinewidth": 0,
              "ticks": ""
             }
            },
            "type": "scattermapbox"
           }
          ],
          "scatterpolar": [
           {
            "marker": {
             "colorbar": {
              "outlinewidth": 0,
              "ticks": ""
             }
            },
            "type": "scatterpolar"
           }
          ],
          "scatterpolargl": [
           {
            "marker": {
             "colorbar": {
              "outlinewidth": 0,
              "ticks": ""
             }
            },
            "type": "scatterpolargl"
           }
          ],
          "scatterternary": [
           {
            "marker": {
             "colorbar": {
              "outlinewidth": 0,
              "ticks": ""
             }
            },
            "type": "scatterternary"
           }
          ],
          "surface": [
           {
            "colorbar": {
             "outlinewidth": 0,
             "ticks": ""
            },
            "colorscale": [
             [
              0,
              "#0d0887"
             ],
             [
              0.1111111111111111,
              "#46039f"
             ],
             [
              0.2222222222222222,
              "#7201a8"
             ],
             [
              0.3333333333333333,
              "#9c179e"
             ],
             [
              0.4444444444444444,
              "#bd3786"
             ],
             [
              0.5555555555555556,
              "#d8576b"
             ],
             [
              0.6666666666666666,
              "#ed7953"
             ],
             [
              0.7777777777777778,
              "#fb9f3a"
             ],
             [
              0.8888888888888888,
              "#fdca26"
             ],
             [
              1,
              "#f0f921"
             ]
            ],
            "type": "surface"
           }
          ],
          "table": [
           {
            "cells": {
             "fill": {
              "color": "#EBF0F8"
             },
             "line": {
              "color": "white"
             }
            },
            "header": {
             "fill": {
              "color": "#C8D4E3"
             },
             "line": {
              "color": "white"
             }
            },
            "type": "table"
           }
          ]
         },
         "layout": {
          "annotationdefaults": {
           "arrowcolor": "#2a3f5f",
           "arrowhead": 0,
           "arrowwidth": 1
          },
          "coloraxis": {
           "colorbar": {
            "outlinewidth": 0,
            "ticks": ""
           }
          },
          "colorscale": {
           "diverging": [
            [
             0,
             "#8e0152"
            ],
            [
             0.1,
             "#c51b7d"
            ],
            [
             0.2,
             "#de77ae"
            ],
            [
             0.3,
             "#f1b6da"
            ],
            [
             0.4,
             "#fde0ef"
            ],
            [
             0.5,
             "#f7f7f7"
            ],
            [
             0.6,
             "#e6f5d0"
            ],
            [
             0.7,
             "#b8e186"
            ],
            [
             0.8,
             "#7fbc41"
            ],
            [
             0.9,
             "#4d9221"
            ],
            [
             1,
             "#276419"
            ]
           ],
           "sequential": [
            [
             0,
             "#0d0887"
            ],
            [
             0.1111111111111111,
             "#46039f"
            ],
            [
             0.2222222222222222,
             "#7201a8"
            ],
            [
             0.3333333333333333,
             "#9c179e"
            ],
            [
             0.4444444444444444,
             "#bd3786"
            ],
            [
             0.5555555555555556,
             "#d8576b"
            ],
            [
             0.6666666666666666,
             "#ed7953"
            ],
            [
             0.7777777777777778,
             "#fb9f3a"
            ],
            [
             0.8888888888888888,
             "#fdca26"
            ],
            [
             1,
             "#f0f921"
            ]
           ],
           "sequentialminus": [
            [
             0,
             "#0d0887"
            ],
            [
             0.1111111111111111,
             "#46039f"
            ],
            [
             0.2222222222222222,
             "#7201a8"
            ],
            [
             0.3333333333333333,
             "#9c179e"
            ],
            [
             0.4444444444444444,
             "#bd3786"
            ],
            [
             0.5555555555555556,
             "#d8576b"
            ],
            [
             0.6666666666666666,
             "#ed7953"
            ],
            [
             0.7777777777777778,
             "#fb9f3a"
            ],
            [
             0.8888888888888888,
             "#fdca26"
            ],
            [
             1,
             "#f0f921"
            ]
           ]
          },
          "colorway": [
           "#636efa",
           "#EF553B",
           "#00cc96",
           "#ab63fa",
           "#FFA15A",
           "#19d3f3",
           "#FF6692",
           "#B6E880",
           "#FF97FF",
           "#FECB52"
          ],
          "font": {
           "color": "#2a3f5f"
          },
          "geo": {
           "bgcolor": "white",
           "lakecolor": "white",
           "landcolor": "#E5ECF6",
           "showlakes": true,
           "showland": true,
           "subunitcolor": "white"
          },
          "hoverlabel": {
           "align": "left"
          },
          "hovermode": "closest",
          "mapbox": {
           "style": "light"
          },
          "paper_bgcolor": "white",
          "plot_bgcolor": "#E5ECF6",
          "polar": {
           "angularaxis": {
            "gridcolor": "white",
            "linecolor": "white",
            "ticks": ""
           },
           "bgcolor": "#E5ECF6",
           "radialaxis": {
            "gridcolor": "white",
            "linecolor": "white",
            "ticks": ""
           }
          },
          "scene": {
           "xaxis": {
            "backgroundcolor": "#E5ECF6",
            "gridcolor": "white",
            "gridwidth": 2,
            "linecolor": "white",
            "showbackground": true,
            "ticks": "",
            "zerolinecolor": "white"
           },
           "yaxis": {
            "backgroundcolor": "#E5ECF6",
            "gridcolor": "white",
            "gridwidth": 2,
            "linecolor": "white",
            "showbackground": true,
            "ticks": "",
            "zerolinecolor": "white"
           },
           "zaxis": {
            "backgroundcolor": "#E5ECF6",
            "gridcolor": "white",
            "gridwidth": 2,
            "linecolor": "white",
            "showbackground": true,
            "ticks": "",
            "zerolinecolor": "white"
           }
          },
          "shapedefaults": {
           "line": {
            "color": "#2a3f5f"
           }
          },
          "ternary": {
           "aaxis": {
            "gridcolor": "white",
            "linecolor": "white",
            "ticks": ""
           },
           "baxis": {
            "gridcolor": "white",
            "linecolor": "white",
            "ticks": ""
           },
           "bgcolor": "#E5ECF6",
           "caxis": {
            "gridcolor": "white",
            "linecolor": "white",
            "ticks": ""
           }
          },
          "title": {
           "x": 0.05
          },
          "xaxis": {
           "automargin": true,
           "gridcolor": "white",
           "linecolor": "white",
           "ticks": "",
           "title": {
            "standoff": 15
           },
           "zerolinecolor": "white",
           "zerolinewidth": 2
          },
          "yaxis": {
           "automargin": true,
           "gridcolor": "white",
           "linecolor": "white",
           "ticks": "",
           "title": {
            "standoff": 15
           },
           "zerolinecolor": "white",
           "zerolinewidth": 2
          }
         }
        },
        "title": {
         "text": "Contabilização e Proporção das Menções em relação ao total de matrículas em disciplinas"
        }
       }
      },
      "text/html": [
       "<div>\n",
       "        \n",
       "        \n",
       "            <div id=\"8327e3f0-30e3-4148-91cf-54ab4ce8418b\" class=\"plotly-graph-div\" style=\"height:525px; width:100%;\"></div>\n",
       "            <script type=\"text/javascript\">\n",
       "                require([\"plotly\"], function(Plotly) {\n",
       "                    window.PLOTLYENV=window.PLOTLYENV || {};\n",
       "                    \n",
       "                if (document.getElementById(\"8327e3f0-30e3-4148-91cf-54ab4ce8418b\")) {\n",
       "                    Plotly.newPlot(\n",
       "                        '8327e3f0-30e3-4148-91cf-54ab4ce8418b',\n",
       "                        [{\"domain\": {\"x\": [0.0, 1.0], \"y\": [0.0, 1.0]}, \"hovertemplate\": \"Men\\u00e7\\u00e3o=%{label}<extra></extra>\", \"labels\": [\"SS\", \"MS\", \"SS\", \"MS\", \"MM\", \"MS\", \"MM\", \"MM\", \"MS\", \"MS\", \"SS\", \"MS\", \"MM\", \"MS\", \"MM\", \"MS\", \"MS\", \"MM\", \"SS\", \"MM\", \"MS\", \"MS\", \"SS\", \"MM\", \"MM\", \"MS\", \"MS\", \"MS\", \"MM\", \"SS\", \"SS\", \"MM\", \"MM\", \"MI\", \"MS\", \"MS\", \"SS\", \"MS\", \"MS\", \"SS\", \"MS\", \"MM\", \"MS\", \"MS\", \"SS\", \"MM\", \"MS\", \"MM\", \"MM\", \"SS\", \"SS\", \"SS\", \"MS\", \"MM\", \"MS\", \"MS\", \"MS\", \"MS\", \"MS\", \"SS\", \"SS\", \"MS\", \"SS\", \"TR\", \"SS\", \"SS\", \"MS\", \"SS\", \"SS\", \"SS\", \"MI\", \"MS\", \"MS\", \"MS\", \"MM\", \"MS\", \"MM\", \"MS\", \"SS\", \"SS\", \"MM\", \"MM\", \"MM\", \"MS\", \"MS\", \"MS\", \"MS\", \"MS\", \"SS\", \"SS\", \"MM\", \"SS\", \"SS\", \"MM\", \"SS\", \"SS\", \"MS\", \"SS\", \"SS\", \"SS\", \"MS\", \"MS\", \"SS\", \"MS\", \"MM\", \"SS\", \"MS\", \"MS\", \"MS\", \"MS\", \"SS\", \"MS\", \"MS\", \"MS\", \"MS\", \"MS\", \"MS\", \"SS\", \"MS\", \"SS\", \"SS\", \"MS\", \"SS\", \"MS\", \"MS\", \"MM\", \"MS\", \"MS\", \"MS\", \"SS\", \"MS\", \"SS\", \"SS\", \"SS\", \"SS\", \"SS\", \"SS\", \"SS\", \"MM\", \"MS\", \"SS\", \"MS\", \"MS\", \"SS\", \"MM\", \"SS\", \"SS\", \"SS\", \"SS\", \"MS\", \"MS\", \"SS\", \"MS\", \"MS\", \"MS\", \"MS\", \"SS\", \"MS\", \"SS\", \"SS\", \"SS\", \"MS\", \"MS\", \"MS\", \"SS\", \"MM\", \"MM\", \"SS\", \"SS\", \"SS\", \"SS\", \"MM\", \"SS\", \"MS\", \"SS\", \"SS\", \"SS\", \"MM\", \"SS\", \"SS\", \"SS\", \"SS\", \"SS\", \"MS\", \"MS\", \"SS\", \"SS\", \"MS\", \"MS\", \"MS\", \"SS\", \"SS\", \"SS\", \"MS\", \"MM\", \"MM\", \"MS\", \"MS\", \"SS\", \"SS\", \"MM\", \"MS\", \"SS\", \"SS\", \"SS\", \"SS\", \"SS\", \"SS\", \"SS\", \"SS\", \"SS\", \"MS\", \"MS\", \"SS\", \"MS\", \"SS\", \"SS\", \"SS\", \"SS\", \"SS\", \"MM\", \"SS\", \"SS\", \"MS\", \"MS\", \"MS\", \"MM\", \"MM\", \"SS\", \"SS\", \"MM\", \"MM\", \"SS\", \"MM\", \"SS\", \"SS\", \"MS\", \"SS\", \"SS\", \"SS\", \"MS\", \"MS\", \"SS\", \"SS\", \"TR\", \"MS\", \"SS\", \"MM\", \"MM\", \"MM\", \"SS\", \"SS\", \"SS\", \"MS\", \"SS\", \"MM\", \"MS\", \"SS\", \"SS\", \"SS\", \"MI\", \"MI\", \"SS\", \"SS\", \"MS\", \"MS\", \"SS\", \"MM\", \"SR\", \"SR\", \"MS\", \"MM\", \"SS\", \"MS\", \"MS\", \"SS\", \"SS\", \"MS\", \"MS\", \"SS\", \"MM\", \"MS\", \"MS\", \"SS\", \"SS\", \"MS\", \"MS\", \"MS\", \"MM\", \"MS\", \"SS\", \"MS\", \"MS\", \"MM\", \"SS\", \"MS\", \"SS\", \"SS\", \"MS\", \"MM\", \"SS\", \"SS\", \"MS\", \"MS\", \"MS\", \"TR\", \"SS\", \"MS\", \"SS\", \"MS\", \"SS\", \"SS\", \"SS\", \"SS\", \"SS\", \"MS\", \"SS\", \"SS\", \"MS\", \"MM\", \"MS\", \"SS\", \"MM\", \"MS\", \"SS\", \"SS\", \"SS\", \"SS\", \"MS\", \"SS\", \"SS\", \"SS\", \"SS\", \"MS\", \"SS\", \"MS\", \"SS\", \"MM\", \"SS\", \"SS\", \"SS\", \"SS\", \"MM\", \"MM\", \"SS\", \"SS\", \"SS\", \"SS\", \"SS\", \"SS\", \"SS\", \"SS\", \"SS\", \"SS\", \"SS\", \"SS\", \"SS\", \"MM\", \"SS\", \"MS\", \"SS\", \"MS\", \"SS\", \"SS\", \"SS\", \"SS\", \"SS\", \"SS\", \"MM\", \"SS\", \"SS\", \"SS\", \"MS\", \"MS\", \"MS\", \"MM\", \"MM\", \"MS\", \"MS\", \"MS\", \"SS\", \"SS\", \"MS\", \"MM\", \"SS\", \"SS\", \"SS\", \"SS\", \"MS\", \"SS\", \"SS\", \"SS\", \"MM\", \"SS\", \"SS\", \"SS\", \"MM\", \"SS\", \"SS\", \"SS\", \"MS\", \"SS\", \"SS\", \"SS\", \"MM\", \"SS\", \"MM\", \"SS\", \"SS\", \"MS\", \"MS\", \"MS\", \"MS\", \"MS\", \"SS\", \"SS\", \"SS\", \"SS\", \"SS\", \"SS\", \"SS\", \"SS\", \"SS\", \"SS\", \"MS\", \"MS\", \"MS\", \"SS\", \"SS\", \"MM\", \"TR\", \"MS\", \"SS\", \"SS\", \"MS\", \"MM\", \"SS\", \"MS\", \"SS\", \"MS\", \"MS\", \"MS\", \"MS\", \"MS\", \"MM\", \"MS\", \"MM\", \"II\", \"MM\", \"SS\", \"SS\", \"MI\", \"MS\", \"TR\", \"SS\", \"SS\", \"SS\", \"MS\", \"MS\", \"MM\", \"SS\", \"SS\", \"SS\", \"MS\", \"SS\", \"SS\", \"SS\", \"MS\", \"SS\", \"MM\", \"MS\", \"MS\", \"MS\", \"MM\", \"MS\", \"MS\", \"MM\", \"SS\", \"SS\", \"SS\", \"MM\", \"MM\", \"SS\", \"SS\", \"SS\", \"SS\", \"SS\", \"SS\", \"MS\", \"SS\", \"SS\", \"MS\", \"SS\", \"SR\", \"SS\", \"MS\", \"MS\", \"SS\", \"MS\", \"SS\", \"MS\", \"MS\", \"MM\", \"MM\", \"SS\", \"SS\", \"MI\", \"SS\", \"SS\", \"MS\", \"SS\", \"SS\", \"SS\", \"SS\", \"SS\", \"MS\", \"SS\", \"SS\", \"MM\", \"MS\", \"MS\", \"MM\", \"MS\", \"SS\", \"SS\", \"SS\", \"SS\", \"SS\", \"SS\", \"SS\", \"SS\", \"SS\", \"SS\", \"MM\", \"MS\", \"SS\", \"SS\", \"SS\", \"SS\", \"SS\", \"SS\", \"SS\", \"MM\", \"MM\", \"SS\", \"MM\", \"MS\", \"SS\", \"SS\", \"SS\", \"MM\", \"MM\", \"MS\", \"MS\", \"MS\", \"SS\", \"SS\", \"MS\", \"SS\", \"SS\", \"MM\", \"SS\", \"SS\", \"SS\", \"MS\", \"MS\", \"SS\", \"SS\", \"MM\", \"SS\", \"MS\", \"SS\", \"MS\", \"MS\", \"MS\", \"SS\", \"SS\", \"SS\", \"SS\", \"SS\", \"SS\", \"SS\", \"SS\", \"MS\", \"SS\", \"SS\", \"SS\", \"MS\", \"MS\", \"MS\", \"MS\", \"MS\", \"MM\", \"SS\", \"MS\", \"MS\", \"MM\", \"SS\", \"SS\", \"SS\", \"MS\", \"MS\", \"II\", \"MM\", \"MS\", \"SS\", \"SS\", \"SS\", \"TR\", \"SS\", \"SS\", \"SS\", \"MS\", \"SS\", \"SS\", \"SS\", \"SS\", \"SS\", \"SS\", \"MS\", \"MS\", \"SS\", \"SS\", \"MS\", \"SS\", \"II\", \"MS\", \"SS\", \"SS\", \"MS\", \"MM\", \"SS\", \"MS\", \"MS\", \"SS\", \"SR\", \"II\", \"SS\", \"SS\", \"MS\", \"SS\", \"MS\", \"SS\", \"SS\", \"SS\", \"SS\", \"SS\", \"MS\", \"SS\", \"SS\", \"MI\", \"MS\", \"MM\", \"MS\", \"MS\", \"MM\", \"MS\", \"SS\", \"MS\", \"SS\", \"SS\", \"SS\", \"SS\", \"MS\", \"SS\", \"SS\", \"MM\", \"MM\", \"SS\", \"SS\", \"MS\", \"SS\", \"SS\", \"MS\", \"SS\", \"SS\", \"SS\", \"MS\", \"SS\", \"SS\", \"MS\", \"MM\", \"SS\", \"SS\", \"MS\", \"SS\", \"MS\", \"SS\", \"MS\", \"SS\", \"MS\", \"SS\", \"SS\", \"SS\", \"MS\", \"MS\", \"MS\", \"SS\", \"SS\", \"SS\", \"SS\", \"MI\", \"MS\", \"SS\", \"SS\", \"MS\", \"MI\", \"SS\", \"II\", \"MM\", \"MS\", \"MS\", \"MS\", \"SS\", \"SS\", \"MM\", \"MS\", \"SS\", \"SS\", \"MS\", \"MS\", \"MI\", \"MS\", \"SS\", \"MM\", \"SS\", \"MM\", \"MM\", \"MM\", \"TR\", \"MS\", \"SS\", \"SS\", \"MM\", \"SS\", \"MS\", \"SR\", \"MM\", \"SS\", \"SS\", \"MM\", \"SS\", \"SS\", \"SS\", \"MS\", \"SS\", \"MS\", \"MM\", \"MS\", \"SS\", \"MS\", \"MS\", \"MS\", \"MS\", \"MS\", \"SS\", \"SS\", \"SS\", \"MS\", \"MM\", \"MM\", \"SS\", \"MS\", \"MM\", \"SS\", \"MI\", \"MM\", \"MS\", \"SS\", \"MS\", \"MS\", \"MM\", \"SS\", \"TR\", \"MS\", \"MS\", \"MS\", \"MM\", \"MS\", \"MS\", \"MS\", \"SS\", \"MM\", \"MS\", \"SS\", \"SR\", \"SS\"], \"legendgroup\": \"\", \"name\": \"\", \"showlegend\": true, \"type\": \"pie\"}],\n",
       "                        {\"legend\": {\"tracegroupgap\": 0}, \"template\": {\"data\": {\"bar\": [{\"error_x\": {\"color\": \"#2a3f5f\"}, \"error_y\": {\"color\": \"#2a3f5f\"}, \"marker\": {\"line\": {\"color\": \"#E5ECF6\", \"width\": 0.5}}, \"type\": \"bar\"}], \"barpolar\": [{\"marker\": {\"line\": {\"color\": \"#E5ECF6\", \"width\": 0.5}}, \"type\": \"barpolar\"}], \"carpet\": [{\"aaxis\": {\"endlinecolor\": \"#2a3f5f\", \"gridcolor\": \"white\", \"linecolor\": \"white\", \"minorgridcolor\": \"white\", \"startlinecolor\": \"#2a3f5f\"}, \"baxis\": {\"endlinecolor\": \"#2a3f5f\", \"gridcolor\": \"white\", \"linecolor\": \"white\", \"minorgridcolor\": \"white\", \"startlinecolor\": \"#2a3f5f\"}, \"type\": \"carpet\"}], \"choropleth\": [{\"colorbar\": {\"outlinewidth\": 0, \"ticks\": \"\"}, \"type\": \"choropleth\"}], \"contour\": [{\"colorbar\": {\"outlinewidth\": 0, \"ticks\": \"\"}, \"colorscale\": [[0.0, \"#0d0887\"], [0.1111111111111111, \"#46039f\"], [0.2222222222222222, \"#7201a8\"], [0.3333333333333333, \"#9c179e\"], [0.4444444444444444, \"#bd3786\"], [0.5555555555555556, \"#d8576b\"], [0.6666666666666666, \"#ed7953\"], [0.7777777777777778, \"#fb9f3a\"], [0.8888888888888888, \"#fdca26\"], [1.0, \"#f0f921\"]], \"type\": \"contour\"}], \"contourcarpet\": [{\"colorbar\": {\"outlinewidth\": 0, \"ticks\": \"\"}, \"type\": \"contourcarpet\"}], \"heatmap\": [{\"colorbar\": {\"outlinewidth\": 0, \"ticks\": \"\"}, \"colorscale\": [[0.0, \"#0d0887\"], [0.1111111111111111, \"#46039f\"], [0.2222222222222222, \"#7201a8\"], [0.3333333333333333, \"#9c179e\"], [0.4444444444444444, \"#bd3786\"], [0.5555555555555556, \"#d8576b\"], [0.6666666666666666, \"#ed7953\"], [0.7777777777777778, \"#fb9f3a\"], [0.8888888888888888, \"#fdca26\"], [1.0, \"#f0f921\"]], \"type\": \"heatmap\"}], \"heatmapgl\": [{\"colorbar\": {\"outlinewidth\": 0, \"ticks\": \"\"}, \"colorscale\": [[0.0, \"#0d0887\"], [0.1111111111111111, \"#46039f\"], [0.2222222222222222, \"#7201a8\"], [0.3333333333333333, \"#9c179e\"], [0.4444444444444444, \"#bd3786\"], [0.5555555555555556, \"#d8576b\"], [0.6666666666666666, \"#ed7953\"], [0.7777777777777778, \"#fb9f3a\"], [0.8888888888888888, \"#fdca26\"], [1.0, \"#f0f921\"]], \"type\": \"heatmapgl\"}], \"histogram\": [{\"marker\": {\"colorbar\": {\"outlinewidth\": 0, \"ticks\": \"\"}}, \"type\": \"histogram\"}], \"histogram2d\": [{\"colorbar\": {\"outlinewidth\": 0, \"ticks\": \"\"}, \"colorscale\": [[0.0, \"#0d0887\"], [0.1111111111111111, \"#46039f\"], [0.2222222222222222, \"#7201a8\"], [0.3333333333333333, \"#9c179e\"], [0.4444444444444444, \"#bd3786\"], [0.5555555555555556, \"#d8576b\"], [0.6666666666666666, \"#ed7953\"], [0.7777777777777778, \"#fb9f3a\"], [0.8888888888888888, \"#fdca26\"], [1.0, \"#f0f921\"]], \"type\": \"histogram2d\"}], \"histogram2dcontour\": [{\"colorbar\": {\"outlinewidth\": 0, \"ticks\": \"\"}, \"colorscale\": [[0.0, \"#0d0887\"], [0.1111111111111111, \"#46039f\"], [0.2222222222222222, \"#7201a8\"], [0.3333333333333333, \"#9c179e\"], [0.4444444444444444, \"#bd3786\"], [0.5555555555555556, \"#d8576b\"], [0.6666666666666666, \"#ed7953\"], [0.7777777777777778, \"#fb9f3a\"], [0.8888888888888888, \"#fdca26\"], [1.0, \"#f0f921\"]], \"type\": \"histogram2dcontour\"}], \"mesh3d\": [{\"colorbar\": {\"outlinewidth\": 0, \"ticks\": \"\"}, \"type\": \"mesh3d\"}], \"parcoords\": [{\"line\": {\"colorbar\": {\"outlinewidth\": 0, \"ticks\": \"\"}}, \"type\": \"parcoords\"}], \"pie\": [{\"automargin\": true, \"type\": \"pie\"}], \"scatter\": [{\"marker\": {\"colorbar\": {\"outlinewidth\": 0, \"ticks\": \"\"}}, \"type\": \"scatter\"}], \"scatter3d\": [{\"line\": {\"colorbar\": {\"outlinewidth\": 0, \"ticks\": \"\"}}, \"marker\": {\"colorbar\": {\"outlinewidth\": 0, \"ticks\": \"\"}}, \"type\": \"scatter3d\"}], \"scattercarpet\": [{\"marker\": {\"colorbar\": {\"outlinewidth\": 0, \"ticks\": \"\"}}, \"type\": \"scattercarpet\"}], \"scattergeo\": [{\"marker\": {\"colorbar\": {\"outlinewidth\": 0, \"ticks\": \"\"}}, \"type\": \"scattergeo\"}], \"scattergl\": [{\"marker\": {\"colorbar\": {\"outlinewidth\": 0, \"ticks\": \"\"}}, \"type\": \"scattergl\"}], \"scattermapbox\": [{\"marker\": {\"colorbar\": {\"outlinewidth\": 0, \"ticks\": \"\"}}, \"type\": \"scattermapbox\"}], \"scatterpolar\": [{\"marker\": {\"colorbar\": {\"outlinewidth\": 0, \"ticks\": \"\"}}, \"type\": \"scatterpolar\"}], \"scatterpolargl\": [{\"marker\": {\"colorbar\": {\"outlinewidth\": 0, \"ticks\": \"\"}}, \"type\": \"scatterpolargl\"}], \"scatterternary\": [{\"marker\": {\"colorbar\": {\"outlinewidth\": 0, \"ticks\": \"\"}}, \"type\": \"scatterternary\"}], \"surface\": [{\"colorbar\": {\"outlinewidth\": 0, \"ticks\": \"\"}, \"colorscale\": [[0.0, \"#0d0887\"], [0.1111111111111111, \"#46039f\"], [0.2222222222222222, \"#7201a8\"], [0.3333333333333333, \"#9c179e\"], [0.4444444444444444, \"#bd3786\"], [0.5555555555555556, \"#d8576b\"], [0.6666666666666666, \"#ed7953\"], [0.7777777777777778, \"#fb9f3a\"], [0.8888888888888888, \"#fdca26\"], [1.0, \"#f0f921\"]], \"type\": \"surface\"}], \"table\": [{\"cells\": {\"fill\": {\"color\": \"#EBF0F8\"}, \"line\": {\"color\": \"white\"}}, \"header\": {\"fill\": {\"color\": \"#C8D4E3\"}, \"line\": {\"color\": \"white\"}}, \"type\": \"table\"}]}, \"layout\": {\"annotationdefaults\": {\"arrowcolor\": \"#2a3f5f\", \"arrowhead\": 0, \"arrowwidth\": 1}, \"coloraxis\": {\"colorbar\": {\"outlinewidth\": 0, \"ticks\": \"\"}}, \"colorscale\": {\"diverging\": [[0, \"#8e0152\"], [0.1, \"#c51b7d\"], [0.2, \"#de77ae\"], [0.3, \"#f1b6da\"], [0.4, \"#fde0ef\"], [0.5, \"#f7f7f7\"], [0.6, \"#e6f5d0\"], [0.7, \"#b8e186\"], [0.8, \"#7fbc41\"], [0.9, \"#4d9221\"], [1, \"#276419\"]], \"sequential\": [[0.0, \"#0d0887\"], [0.1111111111111111, \"#46039f\"], [0.2222222222222222, \"#7201a8\"], [0.3333333333333333, \"#9c179e\"], [0.4444444444444444, \"#bd3786\"], [0.5555555555555556, \"#d8576b\"], [0.6666666666666666, \"#ed7953\"], [0.7777777777777778, \"#fb9f3a\"], [0.8888888888888888, \"#fdca26\"], [1.0, \"#f0f921\"]], \"sequentialminus\": [[0.0, \"#0d0887\"], [0.1111111111111111, \"#46039f\"], [0.2222222222222222, \"#7201a8\"], [0.3333333333333333, \"#9c179e\"], [0.4444444444444444, \"#bd3786\"], [0.5555555555555556, \"#d8576b\"], [0.6666666666666666, \"#ed7953\"], [0.7777777777777778, \"#fb9f3a\"], [0.8888888888888888, \"#fdca26\"], [1.0, \"#f0f921\"]]}, \"colorway\": [\"#636efa\", \"#EF553B\", \"#00cc96\", \"#ab63fa\", \"#FFA15A\", \"#19d3f3\", \"#FF6692\", \"#B6E880\", \"#FF97FF\", \"#FECB52\"], \"font\": {\"color\": \"#2a3f5f\"}, \"geo\": {\"bgcolor\": \"white\", \"lakecolor\": \"white\", \"landcolor\": \"#E5ECF6\", \"showlakes\": true, \"showland\": true, \"subunitcolor\": \"white\"}, \"hoverlabel\": {\"align\": \"left\"}, \"hovermode\": \"closest\", \"mapbox\": {\"style\": \"light\"}, \"paper_bgcolor\": \"white\", \"plot_bgcolor\": \"#E5ECF6\", \"polar\": {\"angularaxis\": {\"gridcolor\": \"white\", \"linecolor\": \"white\", \"ticks\": \"\"}, \"bgcolor\": \"#E5ECF6\", \"radialaxis\": {\"gridcolor\": \"white\", \"linecolor\": \"white\", \"ticks\": \"\"}}, \"scene\": {\"xaxis\": {\"backgroundcolor\": \"#E5ECF6\", \"gridcolor\": \"white\", \"gridwidth\": 2, \"linecolor\": \"white\", \"showbackground\": true, \"ticks\": \"\", \"zerolinecolor\": \"white\"}, \"yaxis\": {\"backgroundcolor\": \"#E5ECF6\", \"gridcolor\": \"white\", \"gridwidth\": 2, \"linecolor\": \"white\", \"showbackground\": true, \"ticks\": \"\", \"zerolinecolor\": \"white\"}, \"zaxis\": {\"backgroundcolor\": \"#E5ECF6\", \"gridcolor\": \"white\", \"gridwidth\": 2, \"linecolor\": \"white\", \"showbackground\": true, \"ticks\": \"\", \"zerolinecolor\": \"white\"}}, \"shapedefaults\": {\"line\": {\"color\": \"#2a3f5f\"}}, \"ternary\": {\"aaxis\": {\"gridcolor\": \"white\", \"linecolor\": \"white\", \"ticks\": \"\"}, \"baxis\": {\"gridcolor\": \"white\", \"linecolor\": \"white\", \"ticks\": \"\"}, \"bgcolor\": \"#E5ECF6\", \"caxis\": {\"gridcolor\": \"white\", \"linecolor\": \"white\", \"ticks\": \"\"}}, \"title\": {\"x\": 0.05}, \"xaxis\": {\"automargin\": true, \"gridcolor\": \"white\", \"linecolor\": \"white\", \"ticks\": \"\", \"title\": {\"standoff\": 15}, \"zerolinecolor\": \"white\", \"zerolinewidth\": 2}, \"yaxis\": {\"automargin\": true, \"gridcolor\": \"white\", \"linecolor\": \"white\", \"ticks\": \"\", \"title\": {\"standoff\": 15}, \"zerolinecolor\": \"white\", \"zerolinewidth\": 2}}}, \"title\": {\"text\": \"Contabiliza\\u00e7\\u00e3o e Propor\\u00e7\\u00e3o das Men\\u00e7\\u00f5es em rela\\u00e7\\u00e3o ao total de matr\\u00edculas em disciplinas\"}},\n",
       "                        {\"responsive\": true}\n",
       "                    ).then(function(){\n",
       "                            \n",
       "var gd = document.getElementById('8327e3f0-30e3-4148-91cf-54ab4ce8418b');\n",
       "var x = new MutationObserver(function (mutations, observer) {{\n",
       "        var display = window.getComputedStyle(gd).display;\n",
       "        if (!display || display === 'none') {{\n",
       "            console.log([gd, 'removed!']);\n",
       "            Plotly.purge(gd);\n",
       "            observer.disconnect();\n",
       "        }}\n",
       "}});\n",
       "\n",
       "// Listen for the removal of the full notebook cells\n",
       "var notebookContainer = gd.closest('#notebook-container');\n",
       "if (notebookContainer) {{\n",
       "    x.observe(notebookContainer, {childList: true});\n",
       "}}\n",
       "\n",
       "// Listen for the clearing of the current output cell\n",
       "var outputEl = gd.closest('.output');\n",
       "if (outputEl) {{\n",
       "    x.observe(outputEl, {childList: true});\n",
       "}}\n",
       "\n",
       "                        })\n",
       "                };\n",
       "                });\n",
       "            </script>\n",
       "        </div>"
      ]
     },
     "metadata": {},
     "output_type": "display_data"
    }
   ],
   "source": [
    "mencoes = precdf.groupby(['Menção']).size()\n",
    "\n",
    "fig = px.pie(precdf, names='Menção', title='Contabilização e Proporção das Menções em relação ao total de matrículas em disciplinas')\n",
    "fig.show()"
   ]
  },
  {
   "cell_type": "code",
   "execution_count": 490,
   "metadata": {},
   "outputs": [],
   "source": [
    "precdf = precdf.rename(columns={'Período':'periodo', 'Código da Disciplina': 'codigo_disciplina','Menção' : 'mencao'})\n",
    "\n",
    "precdf['mencao'] = precdf['mencao'].astype('category')\n",
    "\n",
    "cat_columns = precdf.select_dtypes(['category']).columns\n",
    "\n",
    "precdf[cat_columns] = precdf[cat_columns].apply(lambda x: x.cat.codes)\n",
    "\n",
    "#print(precdf)\n",
    "\n",
    "#print(cat_columns)"
   ]
  },
  {
   "cell_type": "markdown",
   "metadata": {},
   "source": [
    "### Dummy variables"
   ]
  },
  {
   "cell_type": "code",
   "execution_count": 491,
   "metadata": {},
   "outputs": [
    {
     "name": "stdout",
     "output_type": "stream",
     "text": [
      "mencao\n",
      "0      5\n",
      "1     11\n",
      "2    114\n",
      "3    258\n",
      "4      6\n",
      "5    385\n",
      "6      8\n",
      "dtype: int64\n",
      "Menção\n",
      "AP    120\n",
      "CC     99\n",
      "DP      9\n",
      "II      5\n",
      "MI     11\n",
      "MM    114\n",
      "MS    258\n",
      "RP      1\n",
      "SR      6\n",
      "SS    385\n",
      "TR      8\n",
      "dtype: int64\n"
     ]
    }
   ],
   "source": [
    "#pd.get_dummies(df, prefix=['Código da Disciplina'])\n",
    "mencoes = precdf.groupby(['mencao']).size()\n",
    "\n",
    "print(mencoes)\n",
    "\n",
    "mencoes = df.groupby(['Menção']).size()\n",
    "\n",
    "print(mencoes)"
   ]
  },
  {
   "cell_type": "markdown",
   "metadata": {},
   "source": [
    "### Visualization based on Parallel Coordinates"
   ]
  },
  {
   "cell_type": "code",
   "execution_count": 492,
   "metadata": {},
   "outputs": [
    {
     "data": {
      "application/vnd.plotly.v1+json": {
       "config": {
        "plotlyServerURL": "https://plot.ly"
       },
       "data": [
        {
         "dimensions": [
          {
           "label": "Período",
           "range": [
            20102,
            20192
           ],
           "values": [
            20102,
            20102,
            20102,
            20102,
            20102,
            20102,
            20102,
            20102,
            20102,
            20102,
            20102,
            20102,
            20102,
            20102,
            20102,
            20102,
            20102,
            20102,
            20102,
            20102,
            20102,
            20102,
            20102,
            20102,
            20102,
            20102,
            20102,
            20102,
            20102,
            20111,
            20111,
            20111,
            20111,
            20111,
            20111,
            20111,
            20111,
            20111,
            20111,
            20111,
            20111,
            20111,
            20111,
            20111,
            20111,
            20111,
            20111,
            20111,
            20111,
            20111,
            20111,
            20111,
            20111,
            20111,
            20111,
            20111,
            20111,
            20111,
            20111,
            20111,
            20112,
            20112,
            20112,
            20112,
            20112,
            20112,
            20112,
            20112,
            20112,
            20112,
            20112,
            20112,
            20112,
            20112,
            20112,
            20112,
            20112,
            20112,
            20112,
            20112,
            20112,
            20112,
            20112,
            20112,
            20112,
            20112,
            20112,
            20112,
            20112,
            20121,
            20121,
            20121,
            20121,
            20121,
            20121,
            20121,
            20121,
            20121,
            20121,
            20121,
            20121,
            20121,
            20121,
            20121,
            20121,
            20121,
            20121,
            20121,
            20121,
            20121,
            20121,
            20121,
            20121,
            20121,
            20121,
            20121,
            20121,
            20121,
            20121,
            20121,
            20121,
            20121,
            20121,
            20121,
            20121,
            20121,
            20121,
            20121,
            20121,
            20122,
            20122,
            20122,
            20122,
            20122,
            20122,
            20122,
            20122,
            20122,
            20122,
            20122,
            20122,
            20122,
            20122,
            20122,
            20122,
            20122,
            20122,
            20122,
            20122,
            20122,
            20122,
            20122,
            20122,
            20122,
            20122,
            20122,
            20122,
            20122,
            20122,
            20122,
            20122,
            20122,
            20122,
            20122,
            20131,
            20131,
            20131,
            20131,
            20131,
            20131,
            20131,
            20131,
            20131,
            20131,
            20131,
            20131,
            20131,
            20131,
            20131,
            20131,
            20131,
            20131,
            20131,
            20131,
            20131,
            20131,
            20131,
            20131,
            20131,
            20131,
            20131,
            20131,
            20131,
            20131,
            20131,
            20131,
            20131,
            20131,
            20131,
            20131,
            20131,
            20131,
            20131,
            20131,
            20131,
            20132,
            20132,
            20132,
            20132,
            20132,
            20132,
            20132,
            20132,
            20132,
            20132,
            20132,
            20132,
            20132,
            20132,
            20132,
            20132,
            20132,
            20132,
            20132,
            20132,
            20132,
            20132,
            20132,
            20132,
            20132,
            20132,
            20132,
            20132,
            20132,
            20132,
            20132,
            20132,
            20132,
            20132,
            20132,
            20132,
            20132,
            20141,
            20141,
            20141,
            20141,
            20141,
            20141,
            20141,
            20141,
            20141,
            20141,
            20141,
            20141,
            20141,
            20141,
            20141,
            20141,
            20141,
            20141,
            20141,
            20141,
            20141,
            20141,
            20141,
            20141,
            20141,
            20141,
            20141,
            20141,
            20141,
            20141,
            20141,
            20141,
            20141,
            20141,
            20141,
            20141,
            20141,
            20141,
            20141,
            20141,
            20141,
            20141,
            20141,
            20141,
            20141,
            20141,
            20141,
            20141,
            20141,
            20141,
            20141,
            20141,
            20142,
            20142,
            20142,
            20142,
            20142,
            20142,
            20142,
            20142,
            20142,
            20142,
            20142,
            20142,
            20142,
            20142,
            20142,
            20142,
            20142,
            20142,
            20142,
            20142,
            20142,
            20142,
            20142,
            20142,
            20142,
            20142,
            20142,
            20142,
            20142,
            20142,
            20142,
            20142,
            20142,
            20142,
            20142,
            20142,
            20142,
            20142,
            20142,
            20142,
            20142,
            20142,
            20142,
            20142,
            20142,
            20142,
            20142,
            20142,
            20151,
            20151,
            20151,
            20151,
            20151,
            20151,
            20151,
            20151,
            20151,
            20151,
            20151,
            20151,
            20151,
            20151,
            20151,
            20151,
            20151,
            20151,
            20151,
            20151,
            20151,
            20151,
            20151,
            20151,
            20151,
            20151,
            20151,
            20151,
            20151,
            20151,
            20151,
            20151,
            20151,
            20151,
            20151,
            20151,
            20151,
            20151,
            20151,
            20151,
            20151,
            20151,
            20151,
            20152,
            20152,
            20152,
            20152,
            20152,
            20152,
            20152,
            20152,
            20152,
            20152,
            20152,
            20152,
            20152,
            20152,
            20152,
            20152,
            20152,
            20152,
            20152,
            20152,
            20152,
            20152,
            20152,
            20152,
            20152,
            20152,
            20152,
            20152,
            20152,
            20152,
            20152,
            20152,
            20152,
            20152,
            20152,
            20161,
            20161,
            20161,
            20161,
            20161,
            20161,
            20161,
            20161,
            20161,
            20161,
            20161,
            20161,
            20161,
            20161,
            20161,
            20161,
            20161,
            20161,
            20161,
            20161,
            20161,
            20161,
            20161,
            20161,
            20161,
            20161,
            20161,
            20161,
            20161,
            20161,
            20161,
            20161,
            20161,
            20161,
            20161,
            20161,
            20161,
            20161,
            20161,
            20161,
            20161,
            20161,
            20161,
            20161,
            20161,
            20161,
            20161,
            20161,
            20161,
            20161,
            20161,
            20161,
            20161,
            20161,
            20161,
            20161,
            20161,
            20161,
            20161,
            20161,
            20161,
            20161,
            20161,
            20161,
            20162,
            20162,
            20162,
            20162,
            20162,
            20162,
            20162,
            20162,
            20162,
            20162,
            20162,
            20162,
            20162,
            20162,
            20162,
            20162,
            20162,
            20162,
            20162,
            20162,
            20162,
            20162,
            20162,
            20162,
            20162,
            20162,
            20162,
            20162,
            20162,
            20162,
            20162,
            20162,
            20162,
            20162,
            20162,
            20162,
            20162,
            20162,
            20162,
            20162,
            20162,
            20162,
            20162,
            20162,
            20171,
            20171,
            20171,
            20171,
            20171,
            20171,
            20171,
            20171,
            20171,
            20171,
            20171,
            20171,
            20171,
            20171,
            20171,
            20171,
            20171,
            20171,
            20171,
            20171,
            20171,
            20171,
            20171,
            20171,
            20171,
            20171,
            20171,
            20171,
            20171,
            20171,
            20171,
            20171,
            20171,
            20172,
            20172,
            20172,
            20172,
            20172,
            20172,
            20172,
            20172,
            20172,
            20172,
            20172,
            20172,
            20172,
            20172,
            20172,
            20172,
            20172,
            20172,
            20172,
            20172,
            20172,
            20172,
            20172,
            20172,
            20172,
            20172,
            20172,
            20172,
            20172,
            20172,
            20172,
            20172,
            20172,
            20172,
            20172,
            20172,
            20181,
            20181,
            20181,
            20181,
            20181,
            20181,
            20181,
            20181,
            20181,
            20181,
            20181,
            20181,
            20181,
            20181,
            20181,
            20181,
            20181,
            20181,
            20181,
            20181,
            20181,
            20181,
            20181,
            20181,
            20181,
            20181,
            20181,
            20181,
            20181,
            20181,
            20181,
            20181,
            20181,
            20181,
            20181,
            20181,
            20181,
            20181,
            20181,
            20181,
            20181,
            20181,
            20181,
            20181,
            20181,
            20181,
            20181,
            20181,
            20181,
            20181,
            20181,
            20181,
            20181,
            20181,
            20181,
            20181,
            20181,
            20182,
            20182,
            20182,
            20182,
            20182,
            20182,
            20182,
            20182,
            20182,
            20182,
            20182,
            20182,
            20182,
            20182,
            20182,
            20182,
            20182,
            20182,
            20182,
            20182,
            20182,
            20182,
            20182,
            20182,
            20182,
            20182,
            20182,
            20182,
            20182,
            20182,
            20182,
            20182,
            20182,
            20182,
            20182,
            20182,
            20182,
            20182,
            20182,
            20182,
            20182,
            20182,
            20191,
            20191,
            20191,
            20191,
            20191,
            20191,
            20191,
            20191,
            20191,
            20191,
            20191,
            20191,
            20191,
            20191,
            20191,
            20191,
            20191,
            20191,
            20191,
            20191,
            20191,
            20191,
            20191,
            20191,
            20191,
            20191,
            20191,
            20191,
            20191,
            20191,
            20191,
            20191,
            20191,
            20191,
            20191,
            20191,
            20191,
            20191,
            20191,
            20191,
            20191,
            20191,
            20191,
            20191,
            20191,
            20192,
            20192,
            20192,
            20192,
            20192,
            20192,
            20192,
            20192,
            20192,
            20192,
            20192,
            20192,
            20192,
            20192,
            20192,
            20192,
            20192,
            20192,
            20192,
            20192,
            20192,
            20192,
            20192,
            20192,
            20192,
            20192,
            20192,
            20192,
            20192,
            20192,
            20192,
            20192,
            20192,
            20192,
            20192,
            20192,
            20192,
            20192,
            20192,
            20192,
            20192,
            20192,
            20192,
            20192,
            20192,
            20192
           ]
          },
          {
           "label": "Código da Disciplina",
           "range": [
            316000,
            316700
           ],
           "values": [
            316261,
            316440,
            316032,
            316504,
            316296,
            316504,
            316296,
            316491,
            316296,
            316261,
            316415,
            316504,
            316032,
            316296,
            316440,
            316296,
            316504,
            316296,
            316504,
            316296,
            316385,
            316504,
            316261,
            316032,
            316296,
            316440,
            316504,
            316261,
            316296,
            316245,
            316563,
            316024,
            316393,
            316377,
            316563,
            316377,
            316563,
            316377,
            316393,
            316415,
            316415,
            316393,
            316563,
            316415,
            316563,
            316377,
            316393,
            316377,
            316393,
            316393,
            316504,
            316415,
            316393,
            316377,
            316393,
            316393,
            316377,
            316563,
            316393,
            316393,
            316571,
            316261,
            316415,
            316334,
            316415,
            316521,
            316407,
            316521,
            316296,
            316334,
            316296,
            316261,
            316571,
            316571,
            316296,
            316598,
            316296,
            316296,
            316598,
            316521,
            316296,
            316296,
            316385,
            316385,
            316261,
            316296,
            316571,
            316296,
            316598,
            316334,
            316377,
            316521,
            316024,
            316393,
            316415,
            316491,
            316563,
            316504,
            316024,
            316563,
            316393,
            316491,
            316024,
            316261,
            316393,
            316504,
            316377,
            316377,
            316377,
            316393,
            316024,
            316377,
            316393,
            316377,
            316393,
            316377,
            316393,
            316491,
            316377,
            316415,
            316491,
            316393,
            316563,
            316393,
            316491,
            316377,
            316377,
            316377,
            316393,
            316512,
            316440,
            316504,
            316512,
            316334,
            316521,
            316571,
            316512,
            316521,
            316440,
            316491,
            316504,
            316032,
            316504,
            316261,
            316296,
            316334,
            316334,
            316504,
            316504,
            316491,
            316296,
            316440,
            316504,
            316032,
            316296,
            316296,
            316385,
            316296,
            316504,
            316415,
            316491,
            316504,
            316491,
            316296,
            316334,
            316377,
            316393,
            316491,
            316521,
            316334,
            316245,
            316377,
            316504,
            316393,
            316504,
            316245,
            316334,
            316393,
            316334,
            316024,
            316491,
            316024,
            316491,
            316504,
            316377,
            316504,
            316415,
            316491,
            316377,
            316393,
            316245,
            316504,
            316504,
            316377,
            316393,
            316377,
            316393,
            316377,
            316024,
            316377,
            316393,
            316393,
            316491,
            316504,
            316504,
            316334,
            316334,
            316415,
            316521,
            316334,
            316415,
            316563,
            316296,
            316415,
            316512,
            316032,
            316407,
            316032,
            316334,
            316032,
            316504,
            316415,
            316504,
            316296,
            316504,
            316563,
            316296,
            316296,
            316334,
            316296,
            316296,
            316296,
            316032,
            316296,
            316296,
            316601,
            316296,
            316385,
            316261,
            316024,
            316032,
            316032,
            316334,
            316334,
            316377,
            316377,
            316601,
            316521,
            316377,
            316504,
            316334,
            316415,
            316521,
            316334,
            316334,
            316415,
            316601,
            316245,
            316334,
            316504,
            316377,
            316504,
            316491,
            316334,
            316393,
            316601,
            316334,
            316024,
            316393,
            316563,
            316563,
            316601,
            316024,
            316415,
            316377,
            316415,
            316563,
            316377,
            316393,
            316491,
            316377,
            316393,
            316393,
            316521,
            316245,
            316377,
            316377,
            316393,
            316393,
            316377,
            316504,
            316024,
            316601,
            316601,
            316032,
            316504,
            316504,
            316521,
            316342,
            316440,
            316440,
            316334,
            316407,
            316466,
            316504,
            316342,
            316504,
            316440,
            316334,
            316491,
            316024,
            316512,
            316024,
            316334,
            316415,
            316440,
            316334,
            316334,
            316504,
            316296,
            316440,
            316504,
            316296,
            316407,
            316342,
            316334,
            316415,
            316504,
            316296,
            316334,
            316504,
            316261,
            316296,
            316415,
            316415,
            316440,
            316504,
            316296,
            316334,
            316504,
            316440,
            316504,
            316377,
            316393,
            316415,
            316334,
            316521,
            316491,
            316521,
            316512,
            316521,
            316041,
            316041,
            316415,
            316512,
            316342,
            316504,
            316296,
            316482,
            316377,
            316334,
            316415,
            316512,
            316342,
            316334,
            316415,
            316504,
            316296,
            316393,
            316491,
            316334,
            316504,
            316393,
            316482,
            316393,
            316377,
            316393,
            316563,
            316377,
            316563,
            316491,
            316342,
            316377,
            316393,
            316482,
            316415,
            316334,
            316512,
            316377,
            316415,
            316415,
            316415,
            316491,
            316504,
            316521,
            316261,
            316377,
            316334,
            316415,
            316032,
            316296,
            316334,
            316504,
            316334,
            316377,
            316504,
            316563,
            316504,
            316521,
            316342,
            316377,
            316342,
            316377,
            316504,
            316491,
            316504,
            316491,
            316504,
            316415,
            316491,
            316415,
            316521,
            316334,
            316521,
            316440,
            316393,
            316521,
            316334,
            316491,
            316521,
            316415,
            316415,
            316334,
            316024,
            316393,
            316393,
            316491,
            316440,
            316415,
            316440,
            316491,
            316377,
            316415,
            316466,
            316491,
            316377,
            316440,
            316296,
            316377,
            316491,
            316563,
            316377,
            316415,
            316563,
            316440,
            316334,
            316491,
            316440,
            316377,
            316393,
            316024,
            316334,
            316415,
            316393,
            316563,
            316024,
            316377,
            316393,
            316563,
            316393,
            316491,
            316393,
            316491,
            316377,
            316440,
            316377,
            316393,
            316415,
            316334,
            316415,
            316377,
            316393,
            316334,
            316512,
            316512,
            316342,
            316334,
            316521,
            316415,
            316512,
            316032,
            316377,
            316415,
            316504,
            316342,
            316032,
            316504,
            316512,
            316342,
            316504,
            316407,
            316504,
            316296,
            316504,
            316415,
            316491,
            316377,
            316491,
            316334,
            316504,
            316491,
            316032,
            316334,
            316415,
            316504,
            316377,
            316342,
            316504,
            316377,
            316342,
            316377,
            316296,
            316491,
            316032,
            316334,
            316334,
            316415,
            316342,
            316415,
            316512,
            316521,
            316521,
            316512,
            316521,
            316440,
            316512,
            316024,
            316636,
            316512,
            316334,
            316334,
            316512,
            316334,
            316601,
            316334,
            316440,
            316491,
            316504,
            316521,
            316512,
            316377,
            316440,
            316440,
            316415,
            316440,
            316415,
            316334,
            316415,
            316521,
            316415,
            316491,
            316512,
            316032,
            316521,
            316296,
            316512,
            316512,
            316415,
            316377,
            316415,
            316296,
            316334,
            316041,
            316041,
            316415,
            316334,
            316415,
            316041,
            316041,
            316334,
            316512,
            316032,
            316334,
            316377,
            316415,
            316032,
            316415,
            316041,
            316041,
            316041,
            316041,
            316296,
            316377,
            316032,
            316041,
            316041,
            316377,
            316415,
            316334,
            316512,
            316415,
            316024,
            316393,
            316377,
            316482,
            316334,
            316393,
            316261,
            316024,
            316415,
            316024,
            316334,
            316415,
            316512,
            316334,
            316491,
            316512,
            316334,
            316491,
            316024,
            316377,
            316491,
            316024,
            316482,
            316482,
            316393,
            316415,
            316482,
            316334,
            316377,
            316393,
            316415,
            316024,
            316482,
            316334,
            316377,
            316393,
            316261,
            316377,
            316393,
            316415,
            316482,
            316415,
            316377,
            316415,
            316491,
            316512,
            316024,
            316334,
            316512,
            316393,
            316024,
            316393,
            316521,
            316032,
            316393,
            316415,
            316334,
            316415,
            316334,
            316296,
            316393,
            316237,
            316296,
            316521,
            316032,
            316521,
            316296,
            316521,
            316032,
            316296,
            316334,
            316415,
            316296,
            316334,
            316504,
            316245,
            316296,
            316415,
            316521,
            316245,
            316296,
            316334,
            316512,
            316296,
            316491,
            316296,
            316334,
            316393,
            316491,
            316296,
            316334,
            316504,
            316296,
            316032,
            316032,
            316440,
            316512,
            316512,
            316521,
            316521,
            316440,
            316440,
            316334,
            316491,
            316491,
            316512,
            316521,
            316296,
            316296,
            316393,
            316440,
            316024,
            316334,
            316415,
            316024,
            316393,
            316334,
            316415,
            316440,
            316491,
            316296,
            316024,
            316415,
            316466,
            316415,
            316636,
            316296,
            316393,
            316491,
            316393,
            316415,
            316415,
            316440,
            316415,
            316491,
            316393,
            316393,
            316415,
            316521,
            316393,
            316512,
            316415,
            316512,
            316261,
            316334,
            316521,
            316296,
            316032,
            316261,
            316296,
            316415,
            316377,
            316504,
            316032,
            316237,
            316521,
            316512,
            316377,
            316377,
            316491,
            316032,
            316377,
            316377,
            316415,
            316377,
            316296,
            316377,
            316334,
            316377,
            316032,
            316377,
            316334,
            316296,
            316377,
            316415,
            316032,
            316377,
            316393,
            316491,
            316296,
            316032,
            316377,
            316261,
            316415,
            316296,
            316334
           ]
          },
          {
           "label": "Tempo",
           "range": [
            0,
            9
           ],
           "values": [
            2,
            2,
            1,
            1,
            1,
            1,
            1,
            1,
            0,
            0,
            -2,
            -2,
            -2,
            -2,
            -2,
            -3,
            -4,
            -4,
            -4,
            -4,
            -4,
            -6,
            -6,
            -7,
            -7,
            -10,
            -14,
            -16,
            -16,
            3,
            3,
            2,
            2,
            2,
            2,
            1,
            1,
            1,
            1,
            1,
            0,
            -2,
            -3,
            -3,
            -3,
            -3,
            -3,
            -3,
            -3,
            -5,
            -5,
            -5,
            -5,
            -6,
            -6,
            -9,
            -13,
            -13,
            -15,
            -15,
            4,
            3,
            3,
            3,
            3,
            3,
            3,
            2,
            2,
            2,
            1,
            -1,
            -1,
            -2,
            -2,
            -2,
            -2,
            -4,
            -4,
            -4,
            -4,
            -4,
            -4,
            -5,
            -6,
            -8,
            -12,
            -14,
            -14,
            4,
            4,
            4,
            3,
            3,
            3,
            3,
            3,
            3,
            1,
            1,
            1,
            1,
            1,
            1,
            0,
            -1,
            -3,
            -3,
            -3,
            -3,
            -4,
            -4,
            -4,
            -4,
            -4,
            -5,
            -5,
            -5,
            -7,
            -7,
            -7,
            -7,
            -7,
            -10,
            -10,
            -13,
            -13,
            -14,
            -14,
            5,
            4,
            4,
            3,
            2,
            2,
            2,
            2,
            2,
            1,
            1,
            1,
            1,
            1,
            1,
            1,
            1,
            1,
            1,
            0,
            0,
            -2,
            -2,
            -2,
            -2,
            -3,
            -3,
            -3,
            -4,
            -4,
            -6,
            -8,
            -10,
            -10,
            -13,
            6,
            6,
            6,
            5,
            2,
            2,
            2,
            2,
            2,
            2,
            2,
            1,
            1,
            1,
            1,
            1,
            1,
            1,
            1,
            -1,
            -1,
            -2,
            -2,
            -2,
            -3,
            -3,
            -5,
            -5,
            -5,
            -5,
            -5,
            -5,
            -5,
            -7,
            -7,
            -7,
            -7,
            -8,
            -8,
            -11,
            -12,
            6,
            4,
            3,
            3,
            3,
            3,
            2,
            2,
            2,
            2,
            2,
            2,
            2,
            2,
            2,
            2,
            0,
            0,
            -2,
            -2,
            -2,
            -4,
            -4,
            -4,
            -4,
            -4,
            -6,
            -6,
            -6,
            -6,
            -6,
            -7,
            -7,
            -8,
            -8,
            -8,
            -10,
            8,
            7,
            6,
            4,
            4,
            3,
            3,
            3,
            3,
            3,
            3,
            3,
            3,
            3,
            1,
            1,
            1,
            1,
            1,
            1,
            1,
            1,
            1,
            1,
            1,
            1,
            1,
            1,
            0,
            0,
            -1,
            -3,
            -3,
            -3,
            -3,
            -3,
            -3,
            -3,
            -3,
            -3,
            -5,
            -5,
            -5,
            -5,
            -7,
            -7,
            -9,
            -9,
            -9,
            -9,
            -9,
            -10,
            7,
            6,
            5,
            5,
            4,
            4,
            2,
            2,
            2,
            2,
            2,
            2,
            2,
            2,
            2,
            2,
            1,
            1,
            1,
            1,
            1,
            1,
            1,
            1,
            0,
            0,
            0,
            -2,
            -2,
            -2,
            -2,
            -2,
            -2,
            -2,
            -2,
            -4,
            -4,
            -4,
            -4,
            -6,
            -8,
            -8,
            -8,
            -8,
            -8,
            -8,
            -8,
            -10,
            8,
            8,
            7,
            6,
            6,
            5,
            5,
            3,
            3,
            3,
            3,
            3,
            3,
            2,
            2,
            2,
            2,
            1,
            1,
            1,
            1,
            1,
            1,
            1,
            1,
            -1,
            -1,
            -1,
            -1,
            -3,
            -3,
            -3,
            -5,
            -7,
            -7,
            -7,
            -7,
            -7,
            -7,
            -8,
            -8,
            -8,
            -8,
            7,
            6,
            6,
            4,
            4,
            4,
            4,
            4,
            4,
            4,
            3,
            3,
            3,
            3,
            2,
            2,
            2,
            2,
            2,
            2,
            2,
            2,
            2,
            2,
            0,
            0,
            0,
            -2,
            -4,
            -6,
            -6,
            -6,
            -6,
            -7,
            -7,
            7,
            5,
            5,
            5,
            4,
            4,
            4,
            3,
            3,
            3,
            3,
            3,
            3,
            1,
            1,
            1,
            1,
            1,
            1,
            1,
            1,
            1,
            1,
            1,
            1,
            1,
            1,
            1,
            1,
            1,
            1,
            1,
            1,
            1,
            1,
            1,
            1,
            1,
            -3,
            -3,
            -3,
            -3,
            -3,
            -3,
            -3,
            -3,
            -3,
            -3,
            -3,
            -3,
            -3,
            -3,
            -3,
            -3,
            -3,
            -3,
            -3,
            -3,
            -5,
            -5,
            -5,
            -5,
            -6,
            -6,
            8,
            6,
            6,
            6,
            4,
            4,
            2,
            2,
            2,
            2,
            2,
            2,
            2,
            2,
            2,
            2,
            2,
            2,
            2,
            2,
            2,
            2,
            2,
            2,
            2,
            2,
            0,
            -2,
            -2,
            -2,
            -2,
            -2,
            -2,
            -2,
            -2,
            -2,
            -2,
            -2,
            -2,
            -2,
            -2,
            -4,
            -4,
            -4,
            7,
            7,
            6,
            6,
            6,
            5,
            3,
            3,
            3,
            3,
            3,
            3,
            3,
            3,
            3,
            1,
            1,
            1,
            1,
            1,
            1,
            -1,
            -1,
            -1,
            -1,
            -1,
            -1,
            -1,
            -1,
            -1,
            -3,
            -4,
            -4,
            4,
            4,
            4,
            4,
            4,
            4,
            4,
            2,
            2,
            2,
            2,
            2,
            2,
            2,
            2,
            2,
            2,
            2,
            2,
            1,
            1,
            1,
            1,
            1,
            1,
            1,
            0,
            0,
            0,
            0,
            0,
            0,
            -3,
            -3,
            -3,
            -3,
            8,
            5,
            5,
            5,
            5,
            3,
            3,
            3,
            3,
            3,
            3,
            2,
            2,
            2,
            2,
            2,
            2,
            2,
            2,
            2,
            2,
            2,
            1,
            1,
            1,
            1,
            1,
            1,
            1,
            1,
            1,
            1,
            1,
            1,
            1,
            1,
            1,
            1,
            1,
            1,
            1,
            1,
            1,
            1,
            1,
            1,
            1,
            1,
            1,
            1,
            1,
            1,
            1,
            1,
            1,
            -2,
            -2,
            6,
            4,
            4,
            4,
            4,
            3,
            2,
            2,
            2,
            2,
            2,
            2,
            2,
            2,
            2,
            2,
            2,
            2,
            2,
            2,
            2,
            2,
            2,
            2,
            2,
            2,
            2,
            2,
            2,
            2,
            2,
            2,
            2,
            2,
            2,
            2,
            2,
            2,
            2,
            0,
            0,
            0,
            4,
            3,
            3,
            3,
            3,
            3,
            3,
            3,
            3,
            3,
            3,
            3,
            1,
            1,
            1,
            1,
            1,
            1,
            1,
            1,
            1,
            1,
            1,
            1,
            1,
            1,
            1,
            1,
            1,
            1,
            1,
            1,
            1,
            1,
            1,
            1,
            1,
            1,
            1,
            1,
            1,
            1,
            1,
            1,
            -1,
            8,
            4,
            4,
            4,
            4,
            4,
            2,
            2,
            2,
            2,
            2,
            2,
            2,
            2,
            2,
            2,
            2,
            2,
            2,
            2,
            2,
            2,
            2,
            2,
            2,
            2,
            2,
            2,
            2,
            2,
            2,
            2,
            1,
            1,
            1,
            1,
            1,
            1,
            1,
            1,
            1,
            1,
            1,
            1,
            1,
            1
           ]
          }
         ],
         "line": {
          "color": [
           5,
           3,
           5,
           3,
           2,
           3,
           2,
           2,
           3,
           3,
           5,
           3,
           2,
           3,
           2,
           3,
           3,
           2,
           5,
           2,
           3,
           3,
           5,
           2,
           2,
           3,
           3,
           3,
           2,
           5,
           5,
           2,
           2,
           1,
           3,
           3,
           5,
           3,
           3,
           5,
           3,
           2,
           3,
           3,
           5,
           2,
           3,
           2,
           2,
           5,
           5,
           5,
           3,
           2,
           3,
           3,
           3,
           3,
           3,
           5,
           5,
           3,
           5,
           6,
           5,
           5,
           3,
           5,
           5,
           5,
           1,
           3,
           3,
           3,
           2,
           3,
           2,
           3,
           5,
           5,
           2,
           2,
           2,
           3,
           3,
           3,
           3,
           3,
           5,
           5,
           2,
           5,
           5,
           2,
           5,
           5,
           3,
           5,
           5,
           5,
           3,
           3,
           5,
           3,
           2,
           5,
           3,
           3,
           3,
           3,
           5,
           3,
           3,
           3,
           3,
           3,
           3,
           5,
           3,
           5,
           5,
           3,
           5,
           3,
           3,
           2,
           3,
           3,
           3,
           5,
           3,
           5,
           5,
           5,
           5,
           5,
           5,
           5,
           2,
           3,
           5,
           3,
           3,
           5,
           2,
           5,
           5,
           5,
           5,
           3,
           3,
           5,
           3,
           3,
           3,
           3,
           5,
           3,
           5,
           5,
           5,
           3,
           3,
           3,
           5,
           2,
           2,
           5,
           5,
           5,
           5,
           2,
           5,
           3,
           5,
           5,
           5,
           2,
           5,
           5,
           5,
           5,
           5,
           3,
           3,
           5,
           5,
           3,
           3,
           3,
           5,
           5,
           5,
           3,
           2,
           2,
           3,
           3,
           5,
           5,
           2,
           3,
           5,
           5,
           5,
           5,
           5,
           5,
           5,
           5,
           5,
           3,
           3,
           5,
           3,
           5,
           5,
           5,
           5,
           5,
           2,
           5,
           5,
           3,
           3,
           3,
           2,
           2,
           5,
           5,
           2,
           2,
           5,
           2,
           5,
           5,
           3,
           5,
           5,
           5,
           3,
           3,
           5,
           5,
           6,
           3,
           5,
           2,
           2,
           2,
           5,
           5,
           5,
           3,
           5,
           2,
           3,
           5,
           5,
           5,
           1,
           1,
           5,
           5,
           3,
           3,
           5,
           2,
           4,
           4,
           3,
           2,
           5,
           3,
           3,
           5,
           5,
           3,
           3,
           5,
           2,
           3,
           3,
           5,
           5,
           3,
           3,
           3,
           2,
           3,
           5,
           3,
           3,
           2,
           5,
           3,
           5,
           5,
           3,
           2,
           5,
           5,
           3,
           3,
           3,
           6,
           5,
           3,
           5,
           3,
           5,
           5,
           5,
           5,
           5,
           3,
           5,
           5,
           3,
           2,
           3,
           5,
           2,
           3,
           5,
           5,
           5,
           5,
           3,
           5,
           5,
           5,
           5,
           3,
           5,
           3,
           5,
           2,
           5,
           5,
           5,
           5,
           2,
           2,
           5,
           5,
           5,
           5,
           5,
           5,
           5,
           5,
           5,
           5,
           5,
           5,
           5,
           2,
           5,
           3,
           5,
           3,
           5,
           5,
           5,
           5,
           5,
           5,
           2,
           5,
           5,
           5,
           3,
           3,
           3,
           2,
           2,
           3,
           3,
           3,
           5,
           5,
           3,
           2,
           5,
           5,
           5,
           5,
           3,
           5,
           5,
           5,
           2,
           5,
           5,
           5,
           2,
           5,
           5,
           5,
           3,
           5,
           5,
           5,
           2,
           5,
           2,
           5,
           5,
           3,
           3,
           3,
           3,
           3,
           5,
           5,
           5,
           5,
           5,
           5,
           5,
           5,
           5,
           5,
           3,
           3,
           3,
           5,
           5,
           2,
           6,
           3,
           5,
           5,
           3,
           2,
           5,
           3,
           5,
           3,
           3,
           3,
           3,
           3,
           2,
           3,
           2,
           0,
           2,
           5,
           5,
           1,
           3,
           6,
           5,
           5,
           5,
           3,
           3,
           2,
           5,
           5,
           5,
           3,
           5,
           5,
           5,
           3,
           5,
           2,
           3,
           3,
           3,
           2,
           3,
           3,
           2,
           5,
           5,
           5,
           2,
           2,
           5,
           5,
           5,
           5,
           5,
           5,
           3,
           5,
           5,
           3,
           5,
           4,
           5,
           3,
           3,
           5,
           3,
           5,
           3,
           3,
           2,
           2,
           5,
           5,
           1,
           5,
           5,
           3,
           5,
           5,
           5,
           5,
           5,
           3,
           5,
           5,
           2,
           3,
           3,
           2,
           3,
           5,
           5,
           5,
           5,
           5,
           5,
           5,
           5,
           5,
           5,
           2,
           3,
           5,
           5,
           5,
           5,
           5,
           5,
           5,
           2,
           2,
           5,
           2,
           3,
           5,
           5,
           5,
           2,
           2,
           3,
           3,
           3,
           5,
           5,
           3,
           5,
           5,
           2,
           5,
           5,
           5,
           3,
           3,
           5,
           5,
           2,
           5,
           3,
           5,
           3,
           3,
           3,
           5,
           5,
           5,
           5,
           5,
           5,
           5,
           5,
           3,
           5,
           5,
           5,
           3,
           3,
           3,
           3,
           3,
           2,
           5,
           3,
           3,
           2,
           5,
           5,
           5,
           3,
           3,
           0,
           2,
           3,
           5,
           5,
           5,
           6,
           5,
           5,
           5,
           3,
           5,
           5,
           5,
           5,
           5,
           5,
           3,
           3,
           5,
           5,
           3,
           5,
           0,
           3,
           5,
           5,
           3,
           2,
           5,
           3,
           3,
           5,
           4,
           0,
           5,
           5,
           3,
           5,
           3,
           5,
           5,
           5,
           5,
           5,
           3,
           5,
           5,
           1,
           3,
           2,
           3,
           3,
           2,
           3,
           5,
           3,
           5,
           5,
           5,
           5,
           3,
           5,
           5,
           2,
           2,
           5,
           5,
           3,
           5,
           5,
           3,
           5,
           5,
           5,
           3,
           5,
           5,
           3,
           2,
           5,
           5,
           3,
           5,
           3,
           5,
           3,
           5,
           3,
           5,
           5,
           5,
           3,
           3,
           3,
           5,
           5,
           5,
           5,
           1,
           3,
           5,
           5,
           3,
           1,
           5,
           0,
           2,
           3,
           3,
           3,
           5,
           5,
           2,
           3,
           5,
           5,
           3,
           3,
           1,
           3,
           5,
           2,
           5,
           2,
           2,
           2,
           6,
           3,
           5,
           5,
           2,
           5,
           3,
           4,
           2,
           5,
           5,
           2,
           5,
           5,
           5,
           3,
           5,
           3,
           2,
           3,
           5,
           3,
           3,
           3,
           3,
           3,
           5,
           5,
           5,
           3,
           2,
           2,
           5,
           3,
           2,
           5,
           1,
           2,
           3,
           5,
           3,
           3,
           2,
           5,
           6,
           3,
           3,
           3,
           2,
           3,
           3,
           3,
           5,
           2,
           3,
           5,
           4,
           5
          ],
          "colorscale": [
           [
            0,
            "orange"
           ],
           [
            0.16666666666666666,
            "red"
           ],
           [
            0.3333333333333333,
            "pink"
           ],
           [
            0.5,
            "green"
           ],
           [
            0.6666666666666666,
            "purple"
           ],
           [
            0.8333333333333334,
            "blue"
           ],
           [
            1,
            "black"
           ]
          ]
         },
         "type": "parcoords"
        }
       ],
       "layout": {
        "paper_bgcolor": "white",
        "plot_bgcolor": "white",
        "template": {
         "data": {
          "bar": [
           {
            "error_x": {
             "color": "#2a3f5f"
            },
            "error_y": {
             "color": "#2a3f5f"
            },
            "marker": {
             "line": {
              "color": "#E5ECF6",
              "width": 0.5
             }
            },
            "type": "bar"
           }
          ],
          "barpolar": [
           {
            "marker": {
             "line": {
              "color": "#E5ECF6",
              "width": 0.5
             }
            },
            "type": "barpolar"
           }
          ],
          "carpet": [
           {
            "aaxis": {
             "endlinecolor": "#2a3f5f",
             "gridcolor": "white",
             "linecolor": "white",
             "minorgridcolor": "white",
             "startlinecolor": "#2a3f5f"
            },
            "baxis": {
             "endlinecolor": "#2a3f5f",
             "gridcolor": "white",
             "linecolor": "white",
             "minorgridcolor": "white",
             "startlinecolor": "#2a3f5f"
            },
            "type": "carpet"
           }
          ],
          "choropleth": [
           {
            "colorbar": {
             "outlinewidth": 0,
             "ticks": ""
            },
            "type": "choropleth"
           }
          ],
          "contour": [
           {
            "colorbar": {
             "outlinewidth": 0,
             "ticks": ""
            },
            "colorscale": [
             [
              0,
              "#0d0887"
             ],
             [
              0.1111111111111111,
              "#46039f"
             ],
             [
              0.2222222222222222,
              "#7201a8"
             ],
             [
              0.3333333333333333,
              "#9c179e"
             ],
             [
              0.4444444444444444,
              "#bd3786"
             ],
             [
              0.5555555555555556,
              "#d8576b"
             ],
             [
              0.6666666666666666,
              "#ed7953"
             ],
             [
              0.7777777777777778,
              "#fb9f3a"
             ],
             [
              0.8888888888888888,
              "#fdca26"
             ],
             [
              1,
              "#f0f921"
             ]
            ],
            "type": "contour"
           }
          ],
          "contourcarpet": [
           {
            "colorbar": {
             "outlinewidth": 0,
             "ticks": ""
            },
            "type": "contourcarpet"
           }
          ],
          "heatmap": [
           {
            "colorbar": {
             "outlinewidth": 0,
             "ticks": ""
            },
            "colorscale": [
             [
              0,
              "#0d0887"
             ],
             [
              0.1111111111111111,
              "#46039f"
             ],
             [
              0.2222222222222222,
              "#7201a8"
             ],
             [
              0.3333333333333333,
              "#9c179e"
             ],
             [
              0.4444444444444444,
              "#bd3786"
             ],
             [
              0.5555555555555556,
              "#d8576b"
             ],
             [
              0.6666666666666666,
              "#ed7953"
             ],
             [
              0.7777777777777778,
              "#fb9f3a"
             ],
             [
              0.8888888888888888,
              "#fdca26"
             ],
             [
              1,
              "#f0f921"
             ]
            ],
            "type": "heatmap"
           }
          ],
          "heatmapgl": [
           {
            "colorbar": {
             "outlinewidth": 0,
             "ticks": ""
            },
            "colorscale": [
             [
              0,
              "#0d0887"
             ],
             [
              0.1111111111111111,
              "#46039f"
             ],
             [
              0.2222222222222222,
              "#7201a8"
             ],
             [
              0.3333333333333333,
              "#9c179e"
             ],
             [
              0.4444444444444444,
              "#bd3786"
             ],
             [
              0.5555555555555556,
              "#d8576b"
             ],
             [
              0.6666666666666666,
              "#ed7953"
             ],
             [
              0.7777777777777778,
              "#fb9f3a"
             ],
             [
              0.8888888888888888,
              "#fdca26"
             ],
             [
              1,
              "#f0f921"
             ]
            ],
            "type": "heatmapgl"
           }
          ],
          "histogram": [
           {
            "marker": {
             "colorbar": {
              "outlinewidth": 0,
              "ticks": ""
             }
            },
            "type": "histogram"
           }
          ],
          "histogram2d": [
           {
            "colorbar": {
             "outlinewidth": 0,
             "ticks": ""
            },
            "colorscale": [
             [
              0,
              "#0d0887"
             ],
             [
              0.1111111111111111,
              "#46039f"
             ],
             [
              0.2222222222222222,
              "#7201a8"
             ],
             [
              0.3333333333333333,
              "#9c179e"
             ],
             [
              0.4444444444444444,
              "#bd3786"
             ],
             [
              0.5555555555555556,
              "#d8576b"
             ],
             [
              0.6666666666666666,
              "#ed7953"
             ],
             [
              0.7777777777777778,
              "#fb9f3a"
             ],
             [
              0.8888888888888888,
              "#fdca26"
             ],
             [
              1,
              "#f0f921"
             ]
            ],
            "type": "histogram2d"
           }
          ],
          "histogram2dcontour": [
           {
            "colorbar": {
             "outlinewidth": 0,
             "ticks": ""
            },
            "colorscale": [
             [
              0,
              "#0d0887"
             ],
             [
              0.1111111111111111,
              "#46039f"
             ],
             [
              0.2222222222222222,
              "#7201a8"
             ],
             [
              0.3333333333333333,
              "#9c179e"
             ],
             [
              0.4444444444444444,
              "#bd3786"
             ],
             [
              0.5555555555555556,
              "#d8576b"
             ],
             [
              0.6666666666666666,
              "#ed7953"
             ],
             [
              0.7777777777777778,
              "#fb9f3a"
             ],
             [
              0.8888888888888888,
              "#fdca26"
             ],
             [
              1,
              "#f0f921"
             ]
            ],
            "type": "histogram2dcontour"
           }
          ],
          "mesh3d": [
           {
            "colorbar": {
             "outlinewidth": 0,
             "ticks": ""
            },
            "type": "mesh3d"
           }
          ],
          "parcoords": [
           {
            "line": {
             "colorbar": {
              "outlinewidth": 0,
              "ticks": ""
             }
            },
            "type": "parcoords"
           }
          ],
          "pie": [
           {
            "automargin": true,
            "type": "pie"
           }
          ],
          "scatter": [
           {
            "marker": {
             "colorbar": {
              "outlinewidth": 0,
              "ticks": ""
             }
            },
            "type": "scatter"
           }
          ],
          "scatter3d": [
           {
            "line": {
             "colorbar": {
              "outlinewidth": 0,
              "ticks": ""
             }
            },
            "marker": {
             "colorbar": {
              "outlinewidth": 0,
              "ticks": ""
             }
            },
            "type": "scatter3d"
           }
          ],
          "scattercarpet": [
           {
            "marker": {
             "colorbar": {
              "outlinewidth": 0,
              "ticks": ""
             }
            },
            "type": "scattercarpet"
           }
          ],
          "scattergeo": [
           {
            "marker": {
             "colorbar": {
              "outlinewidth": 0,
              "ticks": ""
             }
            },
            "type": "scattergeo"
           }
          ],
          "scattergl": [
           {
            "marker": {
             "colorbar": {
              "outlinewidth": 0,
              "ticks": ""
             }
            },
            "type": "scattergl"
           }
          ],
          "scattermapbox": [
           {
            "marker": {
             "colorbar": {
              "outlinewidth": 0,
              "ticks": ""
             }
            },
            "type": "scattermapbox"
           }
          ],
          "scatterpolar": [
           {
            "marker": {
             "colorbar": {
              "outlinewidth": 0,
              "ticks": ""
             }
            },
            "type": "scatterpolar"
           }
          ],
          "scatterpolargl": [
           {
            "marker": {
             "colorbar": {
              "outlinewidth": 0,
              "ticks": ""
             }
            },
            "type": "scatterpolargl"
           }
          ],
          "scatterternary": [
           {
            "marker": {
             "colorbar": {
              "outlinewidth": 0,
              "ticks": ""
             }
            },
            "type": "scatterternary"
           }
          ],
          "surface": [
           {
            "colorbar": {
             "outlinewidth": 0,
             "ticks": ""
            },
            "colorscale": [
             [
              0,
              "#0d0887"
             ],
             [
              0.1111111111111111,
              "#46039f"
             ],
             [
              0.2222222222222222,
              "#7201a8"
             ],
             [
              0.3333333333333333,
              "#9c179e"
             ],
             [
              0.4444444444444444,
              "#bd3786"
             ],
             [
              0.5555555555555556,
              "#d8576b"
             ],
             [
              0.6666666666666666,
              "#ed7953"
             ],
             [
              0.7777777777777778,
              "#fb9f3a"
             ],
             [
              0.8888888888888888,
              "#fdca26"
             ],
             [
              1,
              "#f0f921"
             ]
            ],
            "type": "surface"
           }
          ],
          "table": [
           {
            "cells": {
             "fill": {
              "color": "#EBF0F8"
             },
             "line": {
              "color": "white"
             }
            },
            "header": {
             "fill": {
              "color": "#C8D4E3"
             },
             "line": {
              "color": "white"
             }
            },
            "type": "table"
           }
          ]
         },
         "layout": {
          "annotationdefaults": {
           "arrowcolor": "#2a3f5f",
           "arrowhead": 0,
           "arrowwidth": 1
          },
          "coloraxis": {
           "colorbar": {
            "outlinewidth": 0,
            "ticks": ""
           }
          },
          "colorscale": {
           "diverging": [
            [
             0,
             "#8e0152"
            ],
            [
             0.1,
             "#c51b7d"
            ],
            [
             0.2,
             "#de77ae"
            ],
            [
             0.3,
             "#f1b6da"
            ],
            [
             0.4,
             "#fde0ef"
            ],
            [
             0.5,
             "#f7f7f7"
            ],
            [
             0.6,
             "#e6f5d0"
            ],
            [
             0.7,
             "#b8e186"
            ],
            [
             0.8,
             "#7fbc41"
            ],
            [
             0.9,
             "#4d9221"
            ],
            [
             1,
             "#276419"
            ]
           ],
           "sequential": [
            [
             0,
             "#0d0887"
            ],
            [
             0.1111111111111111,
             "#46039f"
            ],
            [
             0.2222222222222222,
             "#7201a8"
            ],
            [
             0.3333333333333333,
             "#9c179e"
            ],
            [
             0.4444444444444444,
             "#bd3786"
            ],
            [
             0.5555555555555556,
             "#d8576b"
            ],
            [
             0.6666666666666666,
             "#ed7953"
            ],
            [
             0.7777777777777778,
             "#fb9f3a"
            ],
            [
             0.8888888888888888,
             "#fdca26"
            ],
            [
             1,
             "#f0f921"
            ]
           ],
           "sequentialminus": [
            [
             0,
             "#0d0887"
            ],
            [
             0.1111111111111111,
             "#46039f"
            ],
            [
             0.2222222222222222,
             "#7201a8"
            ],
            [
             0.3333333333333333,
             "#9c179e"
            ],
            [
             0.4444444444444444,
             "#bd3786"
            ],
            [
             0.5555555555555556,
             "#d8576b"
            ],
            [
             0.6666666666666666,
             "#ed7953"
            ],
            [
             0.7777777777777778,
             "#fb9f3a"
            ],
            [
             0.8888888888888888,
             "#fdca26"
            ],
            [
             1,
             "#f0f921"
            ]
           ]
          },
          "colorway": [
           "#636efa",
           "#EF553B",
           "#00cc96",
           "#ab63fa",
           "#FFA15A",
           "#19d3f3",
           "#FF6692",
           "#B6E880",
           "#FF97FF",
           "#FECB52"
          ],
          "font": {
           "color": "#2a3f5f"
          },
          "geo": {
           "bgcolor": "white",
           "lakecolor": "white",
           "landcolor": "#E5ECF6",
           "showlakes": true,
           "showland": true,
           "subunitcolor": "white"
          },
          "hoverlabel": {
           "align": "left"
          },
          "hovermode": "closest",
          "mapbox": {
           "style": "light"
          },
          "paper_bgcolor": "white",
          "plot_bgcolor": "#E5ECF6",
          "polar": {
           "angularaxis": {
            "gridcolor": "white",
            "linecolor": "white",
            "ticks": ""
           },
           "bgcolor": "#E5ECF6",
           "radialaxis": {
            "gridcolor": "white",
            "linecolor": "white",
            "ticks": ""
           }
          },
          "scene": {
           "xaxis": {
            "backgroundcolor": "#E5ECF6",
            "gridcolor": "white",
            "gridwidth": 2,
            "linecolor": "white",
            "showbackground": true,
            "ticks": "",
            "zerolinecolor": "white"
           },
           "yaxis": {
            "backgroundcolor": "#E5ECF6",
            "gridcolor": "white",
            "gridwidth": 2,
            "linecolor": "white",
            "showbackground": true,
            "ticks": "",
            "zerolinecolor": "white"
           },
           "zaxis": {
            "backgroundcolor": "#E5ECF6",
            "gridcolor": "white",
            "gridwidth": 2,
            "linecolor": "white",
            "showbackground": true,
            "ticks": "",
            "zerolinecolor": "white"
           }
          },
          "shapedefaults": {
           "line": {
            "color": "#2a3f5f"
           }
          },
          "ternary": {
           "aaxis": {
            "gridcolor": "white",
            "linecolor": "white",
            "ticks": ""
           },
           "baxis": {
            "gridcolor": "white",
            "linecolor": "white",
            "ticks": ""
           },
           "bgcolor": "#E5ECF6",
           "caxis": {
            "gridcolor": "white",
            "linecolor": "white",
            "ticks": ""
           }
          },
          "title": {
           "x": 0.05
          },
          "xaxis": {
           "automargin": true,
           "gridcolor": "white",
           "linecolor": "white",
           "ticks": "",
           "title": {
            "standoff": 15
           },
           "zerolinecolor": "white",
           "zerolinewidth": 2
          },
          "yaxis": {
           "automargin": true,
           "gridcolor": "white",
           "linecolor": "white",
           "ticks": "",
           "title": {
            "standoff": 15
           },
           "zerolinecolor": "white",
           "zerolinewidth": 2
          }
         }
        }
       }
      },
      "text/html": [
       "<div>\n",
       "        \n",
       "        \n",
       "            <div id=\"cc0d9d62-5e7f-4233-858b-0c02be958a45\" class=\"plotly-graph-div\" style=\"height:525px; width:100%;\"></div>\n",
       "            <script type=\"text/javascript\">\n",
       "                require([\"plotly\"], function(Plotly) {\n",
       "                    window.PLOTLYENV=window.PLOTLYENV || {};\n",
       "                    \n",
       "                if (document.getElementById(\"cc0d9d62-5e7f-4233-858b-0c02be958a45\")) {\n",
       "                    Plotly.newPlot(\n",
       "                        'cc0d9d62-5e7f-4233-858b-0c02be958a45',\n",
       "                        [{\"dimensions\": [{\"label\": \"Per\\u00edodo\", \"range\": [20102, 20192], \"values\": [20102, 20102, 20102, 20102, 20102, 20102, 20102, 20102, 20102, 20102, 20102, 20102, 20102, 20102, 20102, 20102, 20102, 20102, 20102, 20102, 20102, 20102, 20102, 20102, 20102, 20102, 20102, 20102, 20102, 20111, 20111, 20111, 20111, 20111, 20111, 20111, 20111, 20111, 20111, 20111, 20111, 20111, 20111, 20111, 20111, 20111, 20111, 20111, 20111, 20111, 20111, 20111, 20111, 20111, 20111, 20111, 20111, 20111, 20111, 20111, 20112, 20112, 20112, 20112, 20112, 20112, 20112, 20112, 20112, 20112, 20112, 20112, 20112, 20112, 20112, 20112, 20112, 20112, 20112, 20112, 20112, 20112, 20112, 20112, 20112, 20112, 20112, 20112, 20112, 20121, 20121, 20121, 20121, 20121, 20121, 20121, 20121, 20121, 20121, 20121, 20121, 20121, 20121, 20121, 20121, 20121, 20121, 20121, 20121, 20121, 20121, 20121, 20121, 20121, 20121, 20121, 20121, 20121, 20121, 20121, 20121, 20121, 20121, 20121, 20121, 20121, 20121, 20121, 20121, 20122, 20122, 20122, 20122, 20122, 20122, 20122, 20122, 20122, 20122, 20122, 20122, 20122, 20122, 20122, 20122, 20122, 20122, 20122, 20122, 20122, 20122, 20122, 20122, 20122, 20122, 20122, 20122, 20122, 20122, 20122, 20122, 20122, 20122, 20122, 20131, 20131, 20131, 20131, 20131, 20131, 20131, 20131, 20131, 20131, 20131, 20131, 20131, 20131, 20131, 20131, 20131, 20131, 20131, 20131, 20131, 20131, 20131, 20131, 20131, 20131, 20131, 20131, 20131, 20131, 20131, 20131, 20131, 20131, 20131, 20131, 20131, 20131, 20131, 20131, 20131, 20132, 20132, 20132, 20132, 20132, 20132, 20132, 20132, 20132, 20132, 20132, 20132, 20132, 20132, 20132, 20132, 20132, 20132, 20132, 20132, 20132, 20132, 20132, 20132, 20132, 20132, 20132, 20132, 20132, 20132, 20132, 20132, 20132, 20132, 20132, 20132, 20132, 20141, 20141, 20141, 20141, 20141, 20141, 20141, 20141, 20141, 20141, 20141, 20141, 20141, 20141, 20141, 20141, 20141, 20141, 20141, 20141, 20141, 20141, 20141, 20141, 20141, 20141, 20141, 20141, 20141, 20141, 20141, 20141, 20141, 20141, 20141, 20141, 20141, 20141, 20141, 20141, 20141, 20141, 20141, 20141, 20141, 20141, 20141, 20141, 20141, 20141, 20141, 20141, 20142, 20142, 20142, 20142, 20142, 20142, 20142, 20142, 20142, 20142, 20142, 20142, 20142, 20142, 20142, 20142, 20142, 20142, 20142, 20142, 20142, 20142, 20142, 20142, 20142, 20142, 20142, 20142, 20142, 20142, 20142, 20142, 20142, 20142, 20142, 20142, 20142, 20142, 20142, 20142, 20142, 20142, 20142, 20142, 20142, 20142, 20142, 20142, 20151, 20151, 20151, 20151, 20151, 20151, 20151, 20151, 20151, 20151, 20151, 20151, 20151, 20151, 20151, 20151, 20151, 20151, 20151, 20151, 20151, 20151, 20151, 20151, 20151, 20151, 20151, 20151, 20151, 20151, 20151, 20151, 20151, 20151, 20151, 20151, 20151, 20151, 20151, 20151, 20151, 20151, 20151, 20152, 20152, 20152, 20152, 20152, 20152, 20152, 20152, 20152, 20152, 20152, 20152, 20152, 20152, 20152, 20152, 20152, 20152, 20152, 20152, 20152, 20152, 20152, 20152, 20152, 20152, 20152, 20152, 20152, 20152, 20152, 20152, 20152, 20152, 20152, 20161, 20161, 20161, 20161, 20161, 20161, 20161, 20161, 20161, 20161, 20161, 20161, 20161, 20161, 20161, 20161, 20161, 20161, 20161, 20161, 20161, 20161, 20161, 20161, 20161, 20161, 20161, 20161, 20161, 20161, 20161, 20161, 20161, 20161, 20161, 20161, 20161, 20161, 20161, 20161, 20161, 20161, 20161, 20161, 20161, 20161, 20161, 20161, 20161, 20161, 20161, 20161, 20161, 20161, 20161, 20161, 20161, 20161, 20161, 20161, 20161, 20161, 20161, 20161, 20162, 20162, 20162, 20162, 20162, 20162, 20162, 20162, 20162, 20162, 20162, 20162, 20162, 20162, 20162, 20162, 20162, 20162, 20162, 20162, 20162, 20162, 20162, 20162, 20162, 20162, 20162, 20162, 20162, 20162, 20162, 20162, 20162, 20162, 20162, 20162, 20162, 20162, 20162, 20162, 20162, 20162, 20162, 20162, 20171, 20171, 20171, 20171, 20171, 20171, 20171, 20171, 20171, 20171, 20171, 20171, 20171, 20171, 20171, 20171, 20171, 20171, 20171, 20171, 20171, 20171, 20171, 20171, 20171, 20171, 20171, 20171, 20171, 20171, 20171, 20171, 20171, 20172, 20172, 20172, 20172, 20172, 20172, 20172, 20172, 20172, 20172, 20172, 20172, 20172, 20172, 20172, 20172, 20172, 20172, 20172, 20172, 20172, 20172, 20172, 20172, 20172, 20172, 20172, 20172, 20172, 20172, 20172, 20172, 20172, 20172, 20172, 20172, 20181, 20181, 20181, 20181, 20181, 20181, 20181, 20181, 20181, 20181, 20181, 20181, 20181, 20181, 20181, 20181, 20181, 20181, 20181, 20181, 20181, 20181, 20181, 20181, 20181, 20181, 20181, 20181, 20181, 20181, 20181, 20181, 20181, 20181, 20181, 20181, 20181, 20181, 20181, 20181, 20181, 20181, 20181, 20181, 20181, 20181, 20181, 20181, 20181, 20181, 20181, 20181, 20181, 20181, 20181, 20181, 20181, 20182, 20182, 20182, 20182, 20182, 20182, 20182, 20182, 20182, 20182, 20182, 20182, 20182, 20182, 20182, 20182, 20182, 20182, 20182, 20182, 20182, 20182, 20182, 20182, 20182, 20182, 20182, 20182, 20182, 20182, 20182, 20182, 20182, 20182, 20182, 20182, 20182, 20182, 20182, 20182, 20182, 20182, 20191, 20191, 20191, 20191, 20191, 20191, 20191, 20191, 20191, 20191, 20191, 20191, 20191, 20191, 20191, 20191, 20191, 20191, 20191, 20191, 20191, 20191, 20191, 20191, 20191, 20191, 20191, 20191, 20191, 20191, 20191, 20191, 20191, 20191, 20191, 20191, 20191, 20191, 20191, 20191, 20191, 20191, 20191, 20191, 20191, 20192, 20192, 20192, 20192, 20192, 20192, 20192, 20192, 20192, 20192, 20192, 20192, 20192, 20192, 20192, 20192, 20192, 20192, 20192, 20192, 20192, 20192, 20192, 20192, 20192, 20192, 20192, 20192, 20192, 20192, 20192, 20192, 20192, 20192, 20192, 20192, 20192, 20192, 20192, 20192, 20192, 20192, 20192, 20192, 20192, 20192]}, {\"label\": \"C\\u00f3digo da Disciplina\", \"range\": [316000, 316700], \"values\": [316261, 316440, 316032, 316504, 316296, 316504, 316296, 316491, 316296, 316261, 316415, 316504, 316032, 316296, 316440, 316296, 316504, 316296, 316504, 316296, 316385, 316504, 316261, 316032, 316296, 316440, 316504, 316261, 316296, 316245, 316563, 316024, 316393, 316377, 316563, 316377, 316563, 316377, 316393, 316415, 316415, 316393, 316563, 316415, 316563, 316377, 316393, 316377, 316393, 316393, 316504, 316415, 316393, 316377, 316393, 316393, 316377, 316563, 316393, 316393, 316571, 316261, 316415, 316334, 316415, 316521, 316407, 316521, 316296, 316334, 316296, 316261, 316571, 316571, 316296, 316598, 316296, 316296, 316598, 316521, 316296, 316296, 316385, 316385, 316261, 316296, 316571, 316296, 316598, 316334, 316377, 316521, 316024, 316393, 316415, 316491, 316563, 316504, 316024, 316563, 316393, 316491, 316024, 316261, 316393, 316504, 316377, 316377, 316377, 316393, 316024, 316377, 316393, 316377, 316393, 316377, 316393, 316491, 316377, 316415, 316491, 316393, 316563, 316393, 316491, 316377, 316377, 316377, 316393, 316512, 316440, 316504, 316512, 316334, 316521, 316571, 316512, 316521, 316440, 316491, 316504, 316032, 316504, 316261, 316296, 316334, 316334, 316504, 316504, 316491, 316296, 316440, 316504, 316032, 316296, 316296, 316385, 316296, 316504, 316415, 316491, 316504, 316491, 316296, 316334, 316377, 316393, 316491, 316521, 316334, 316245, 316377, 316504, 316393, 316504, 316245, 316334, 316393, 316334, 316024, 316491, 316024, 316491, 316504, 316377, 316504, 316415, 316491, 316377, 316393, 316245, 316504, 316504, 316377, 316393, 316377, 316393, 316377, 316024, 316377, 316393, 316393, 316491, 316504, 316504, 316334, 316334, 316415, 316521, 316334, 316415, 316563, 316296, 316415, 316512, 316032, 316407, 316032, 316334, 316032, 316504, 316415, 316504, 316296, 316504, 316563, 316296, 316296, 316334, 316296, 316296, 316296, 316032, 316296, 316296, 316601, 316296, 316385, 316261, 316024, 316032, 316032, 316334, 316334, 316377, 316377, 316601, 316521, 316377, 316504, 316334, 316415, 316521, 316334, 316334, 316415, 316601, 316245, 316334, 316504, 316377, 316504, 316491, 316334, 316393, 316601, 316334, 316024, 316393, 316563, 316563, 316601, 316024, 316415, 316377, 316415, 316563, 316377, 316393, 316491, 316377, 316393, 316393, 316521, 316245, 316377, 316377, 316393, 316393, 316377, 316504, 316024, 316601, 316601, 316032, 316504, 316504, 316521, 316342, 316440, 316440, 316334, 316407, 316466, 316504, 316342, 316504, 316440, 316334, 316491, 316024, 316512, 316024, 316334, 316415, 316440, 316334, 316334, 316504, 316296, 316440, 316504, 316296, 316407, 316342, 316334, 316415, 316504, 316296, 316334, 316504, 316261, 316296, 316415, 316415, 316440, 316504, 316296, 316334, 316504, 316440, 316504, 316377, 316393, 316415, 316334, 316521, 316491, 316521, 316512, 316521, 316041, 316041, 316415, 316512, 316342, 316504, 316296, 316482, 316377, 316334, 316415, 316512, 316342, 316334, 316415, 316504, 316296, 316393, 316491, 316334, 316504, 316393, 316482, 316393, 316377, 316393, 316563, 316377, 316563, 316491, 316342, 316377, 316393, 316482, 316415, 316334, 316512, 316377, 316415, 316415, 316415, 316491, 316504, 316521, 316261, 316377, 316334, 316415, 316032, 316296, 316334, 316504, 316334, 316377, 316504, 316563, 316504, 316521, 316342, 316377, 316342, 316377, 316504, 316491, 316504, 316491, 316504, 316415, 316491, 316415, 316521, 316334, 316521, 316440, 316393, 316521, 316334, 316491, 316521, 316415, 316415, 316334, 316024, 316393, 316393, 316491, 316440, 316415, 316440, 316491, 316377, 316415, 316466, 316491, 316377, 316440, 316296, 316377, 316491, 316563, 316377, 316415, 316563, 316440, 316334, 316491, 316440, 316377, 316393, 316024, 316334, 316415, 316393, 316563, 316024, 316377, 316393, 316563, 316393, 316491, 316393, 316491, 316377, 316440, 316377, 316393, 316415, 316334, 316415, 316377, 316393, 316334, 316512, 316512, 316342, 316334, 316521, 316415, 316512, 316032, 316377, 316415, 316504, 316342, 316032, 316504, 316512, 316342, 316504, 316407, 316504, 316296, 316504, 316415, 316491, 316377, 316491, 316334, 316504, 316491, 316032, 316334, 316415, 316504, 316377, 316342, 316504, 316377, 316342, 316377, 316296, 316491, 316032, 316334, 316334, 316415, 316342, 316415, 316512, 316521, 316521, 316512, 316521, 316440, 316512, 316024, 316636, 316512, 316334, 316334, 316512, 316334, 316601, 316334, 316440, 316491, 316504, 316521, 316512, 316377, 316440, 316440, 316415, 316440, 316415, 316334, 316415, 316521, 316415, 316491, 316512, 316032, 316521, 316296, 316512, 316512, 316415, 316377, 316415, 316296, 316334, 316041, 316041, 316415, 316334, 316415, 316041, 316041, 316334, 316512, 316032, 316334, 316377, 316415, 316032, 316415, 316041, 316041, 316041, 316041, 316296, 316377, 316032, 316041, 316041, 316377, 316415, 316334, 316512, 316415, 316024, 316393, 316377, 316482, 316334, 316393, 316261, 316024, 316415, 316024, 316334, 316415, 316512, 316334, 316491, 316512, 316334, 316491, 316024, 316377, 316491, 316024, 316482, 316482, 316393, 316415, 316482, 316334, 316377, 316393, 316415, 316024, 316482, 316334, 316377, 316393, 316261, 316377, 316393, 316415, 316482, 316415, 316377, 316415, 316491, 316512, 316024, 316334, 316512, 316393, 316024, 316393, 316521, 316032, 316393, 316415, 316334, 316415, 316334, 316296, 316393, 316237, 316296, 316521, 316032, 316521, 316296, 316521, 316032, 316296, 316334, 316415, 316296, 316334, 316504, 316245, 316296, 316415, 316521, 316245, 316296, 316334, 316512, 316296, 316491, 316296, 316334, 316393, 316491, 316296, 316334, 316504, 316296, 316032, 316032, 316440, 316512, 316512, 316521, 316521, 316440, 316440, 316334, 316491, 316491, 316512, 316521, 316296, 316296, 316393, 316440, 316024, 316334, 316415, 316024, 316393, 316334, 316415, 316440, 316491, 316296, 316024, 316415, 316466, 316415, 316636, 316296, 316393, 316491, 316393, 316415, 316415, 316440, 316415, 316491, 316393, 316393, 316415, 316521, 316393, 316512, 316415, 316512, 316261, 316334, 316521, 316296, 316032, 316261, 316296, 316415, 316377, 316504, 316032, 316237, 316521, 316512, 316377, 316377, 316491, 316032, 316377, 316377, 316415, 316377, 316296, 316377, 316334, 316377, 316032, 316377, 316334, 316296, 316377, 316415, 316032, 316377, 316393, 316491, 316296, 316032, 316377, 316261, 316415, 316296, 316334]}, {\"label\": \"Tempo\", \"range\": [0, 9], \"values\": [2, 2, 1, 1, 1, 1, 1, 1, 0, 0, -2, -2, -2, -2, -2, -3, -4, -4, -4, -4, -4, -6, -6, -7, -7, -10, -14, -16, -16, 3, 3, 2, 2, 2, 2, 1, 1, 1, 1, 1, 0, -2, -3, -3, -3, -3, -3, -3, -3, -5, -5, -5, -5, -6, -6, -9, -13, -13, -15, -15, 4, 3, 3, 3, 3, 3, 3, 2, 2, 2, 1, -1, -1, -2, -2, -2, -2, -4, -4, -4, -4, -4, -4, -5, -6, -8, -12, -14, -14, 4, 4, 4, 3, 3, 3, 3, 3, 3, 1, 1, 1, 1, 1, 1, 0, -1, -3, -3, -3, -3, -4, -4, -4, -4, -4, -5, -5, -5, -7, -7, -7, -7, -7, -10, -10, -13, -13, -14, -14, 5, 4, 4, 3, 2, 2, 2, 2, 2, 1, 1, 1, 1, 1, 1, 1, 1, 1, 1, 0, 0, -2, -2, -2, -2, -3, -3, -3, -4, -4, -6, -8, -10, -10, -13, 6, 6, 6, 5, 2, 2, 2, 2, 2, 2, 2, 1, 1, 1, 1, 1, 1, 1, 1, -1, -1, -2, -2, -2, -3, -3, -5, -5, -5, -5, -5, -5, -5, -7, -7, -7, -7, -8, -8, -11, -12, 6, 4, 3, 3, 3, 3, 2, 2, 2, 2, 2, 2, 2, 2, 2, 2, 0, 0, -2, -2, -2, -4, -4, -4, -4, -4, -6, -6, -6, -6, -6, -7, -7, -8, -8, -8, -10, 8, 7, 6, 4, 4, 3, 3, 3, 3, 3, 3, 3, 3, 3, 1, 1, 1, 1, 1, 1, 1, 1, 1, 1, 1, 1, 1, 1, 0, 0, -1, -3, -3, -3, -3, -3, -3, -3, -3, -3, -5, -5, -5, -5, -7, -7, -9, -9, -9, -9, -9, -10, 7, 6, 5, 5, 4, 4, 2, 2, 2, 2, 2, 2, 2, 2, 2, 2, 1, 1, 1, 1, 1, 1, 1, 1, 0, 0, 0, -2, -2, -2, -2, -2, -2, -2, -2, -4, -4, -4, -4, -6, -8, -8, -8, -8, -8, -8, -8, -10, 8, 8, 7, 6, 6, 5, 5, 3, 3, 3, 3, 3, 3, 2, 2, 2, 2, 1, 1, 1, 1, 1, 1, 1, 1, -1, -1, -1, -1, -3, -3, -3, -5, -7, -7, -7, -7, -7, -7, -8, -8, -8, -8, 7, 6, 6, 4, 4, 4, 4, 4, 4, 4, 3, 3, 3, 3, 2, 2, 2, 2, 2, 2, 2, 2, 2, 2, 0, 0, 0, -2, -4, -6, -6, -6, -6, -7, -7, 7, 5, 5, 5, 4, 4, 4, 3, 3, 3, 3, 3, 3, 1, 1, 1, 1, 1, 1, 1, 1, 1, 1, 1, 1, 1, 1, 1, 1, 1, 1, 1, 1, 1, 1, 1, 1, 1, -3, -3, -3, -3, -3, -3, -3, -3, -3, -3, -3, -3, -3, -3, -3, -3, -3, -3, -3, -3, -5, -5, -5, -5, -6, -6, 8, 6, 6, 6, 4, 4, 2, 2, 2, 2, 2, 2, 2, 2, 2, 2, 2, 2, 2, 2, 2, 2, 2, 2, 2, 2, 0, -2, -2, -2, -2, -2, -2, -2, -2, -2, -2, -2, -2, -2, -2, -4, -4, -4, 7, 7, 6, 6, 6, 5, 3, 3, 3, 3, 3, 3, 3, 3, 3, 1, 1, 1, 1, 1, 1, -1, -1, -1, -1, -1, -1, -1, -1, -1, -3, -4, -4, 4, 4, 4, 4, 4, 4, 4, 2, 2, 2, 2, 2, 2, 2, 2, 2, 2, 2, 2, 1, 1, 1, 1, 1, 1, 1, 0, 0, 0, 0, 0, 0, -3, -3, -3, -3, 8, 5, 5, 5, 5, 3, 3, 3, 3, 3, 3, 2, 2, 2, 2, 2, 2, 2, 2, 2, 2, 2, 1, 1, 1, 1, 1, 1, 1, 1, 1, 1, 1, 1, 1, 1, 1, 1, 1, 1, 1, 1, 1, 1, 1, 1, 1, 1, 1, 1, 1, 1, 1, 1, 1, -2, -2, 6, 4, 4, 4, 4, 3, 2, 2, 2, 2, 2, 2, 2, 2, 2, 2, 2, 2, 2, 2, 2, 2, 2, 2, 2, 2, 2, 2, 2, 2, 2, 2, 2, 2, 2, 2, 2, 2, 2, 0, 0, 0, 4, 3, 3, 3, 3, 3, 3, 3, 3, 3, 3, 3, 1, 1, 1, 1, 1, 1, 1, 1, 1, 1, 1, 1, 1, 1, 1, 1, 1, 1, 1, 1, 1, 1, 1, 1, 1, 1, 1, 1, 1, 1, 1, 1, -1, 8, 4, 4, 4, 4, 4, 2, 2, 2, 2, 2, 2, 2, 2, 2, 2, 2, 2, 2, 2, 2, 2, 2, 2, 2, 2, 2, 2, 2, 2, 2, 2, 1, 1, 1, 1, 1, 1, 1, 1, 1, 1, 1, 1, 1, 1]}], \"line\": {\"color\": [5, 3, 5, 3, 2, 3, 2, 2, 3, 3, 5, 3, 2, 3, 2, 3, 3, 2, 5, 2, 3, 3, 5, 2, 2, 3, 3, 3, 2, 5, 5, 2, 2, 1, 3, 3, 5, 3, 3, 5, 3, 2, 3, 3, 5, 2, 3, 2, 2, 5, 5, 5, 3, 2, 3, 3, 3, 3, 3, 5, 5, 3, 5, 6, 5, 5, 3, 5, 5, 5, 1, 3, 3, 3, 2, 3, 2, 3, 5, 5, 2, 2, 2, 3, 3, 3, 3, 3, 5, 5, 2, 5, 5, 2, 5, 5, 3, 5, 5, 5, 3, 3, 5, 3, 2, 5, 3, 3, 3, 3, 5, 3, 3, 3, 3, 3, 3, 5, 3, 5, 5, 3, 5, 3, 3, 2, 3, 3, 3, 5, 3, 5, 5, 5, 5, 5, 5, 5, 2, 3, 5, 3, 3, 5, 2, 5, 5, 5, 5, 3, 3, 5, 3, 3, 3, 3, 5, 3, 5, 5, 5, 3, 3, 3, 5, 2, 2, 5, 5, 5, 5, 2, 5, 3, 5, 5, 5, 2, 5, 5, 5, 5, 5, 3, 3, 5, 5, 3, 3, 3, 5, 5, 5, 3, 2, 2, 3, 3, 5, 5, 2, 3, 5, 5, 5, 5, 5, 5, 5, 5, 5, 3, 3, 5, 3, 5, 5, 5, 5, 5, 2, 5, 5, 3, 3, 3, 2, 2, 5, 5, 2, 2, 5, 2, 5, 5, 3, 5, 5, 5, 3, 3, 5, 5, 6, 3, 5, 2, 2, 2, 5, 5, 5, 3, 5, 2, 3, 5, 5, 5, 1, 1, 5, 5, 3, 3, 5, 2, 4, 4, 3, 2, 5, 3, 3, 5, 5, 3, 3, 5, 2, 3, 3, 5, 5, 3, 3, 3, 2, 3, 5, 3, 3, 2, 5, 3, 5, 5, 3, 2, 5, 5, 3, 3, 3, 6, 5, 3, 5, 3, 5, 5, 5, 5, 5, 3, 5, 5, 3, 2, 3, 5, 2, 3, 5, 5, 5, 5, 3, 5, 5, 5, 5, 3, 5, 3, 5, 2, 5, 5, 5, 5, 2, 2, 5, 5, 5, 5, 5, 5, 5, 5, 5, 5, 5, 5, 5, 2, 5, 3, 5, 3, 5, 5, 5, 5, 5, 5, 2, 5, 5, 5, 3, 3, 3, 2, 2, 3, 3, 3, 5, 5, 3, 2, 5, 5, 5, 5, 3, 5, 5, 5, 2, 5, 5, 5, 2, 5, 5, 5, 3, 5, 5, 5, 2, 5, 2, 5, 5, 3, 3, 3, 3, 3, 5, 5, 5, 5, 5, 5, 5, 5, 5, 5, 3, 3, 3, 5, 5, 2, 6, 3, 5, 5, 3, 2, 5, 3, 5, 3, 3, 3, 3, 3, 2, 3, 2, 0, 2, 5, 5, 1, 3, 6, 5, 5, 5, 3, 3, 2, 5, 5, 5, 3, 5, 5, 5, 3, 5, 2, 3, 3, 3, 2, 3, 3, 2, 5, 5, 5, 2, 2, 5, 5, 5, 5, 5, 5, 3, 5, 5, 3, 5, 4, 5, 3, 3, 5, 3, 5, 3, 3, 2, 2, 5, 5, 1, 5, 5, 3, 5, 5, 5, 5, 5, 3, 5, 5, 2, 3, 3, 2, 3, 5, 5, 5, 5, 5, 5, 5, 5, 5, 5, 2, 3, 5, 5, 5, 5, 5, 5, 5, 2, 2, 5, 2, 3, 5, 5, 5, 2, 2, 3, 3, 3, 5, 5, 3, 5, 5, 2, 5, 5, 5, 3, 3, 5, 5, 2, 5, 3, 5, 3, 3, 3, 5, 5, 5, 5, 5, 5, 5, 5, 3, 5, 5, 5, 3, 3, 3, 3, 3, 2, 5, 3, 3, 2, 5, 5, 5, 3, 3, 0, 2, 3, 5, 5, 5, 6, 5, 5, 5, 3, 5, 5, 5, 5, 5, 5, 3, 3, 5, 5, 3, 5, 0, 3, 5, 5, 3, 2, 5, 3, 3, 5, 4, 0, 5, 5, 3, 5, 3, 5, 5, 5, 5, 5, 3, 5, 5, 1, 3, 2, 3, 3, 2, 3, 5, 3, 5, 5, 5, 5, 3, 5, 5, 2, 2, 5, 5, 3, 5, 5, 3, 5, 5, 5, 3, 5, 5, 3, 2, 5, 5, 3, 5, 3, 5, 3, 5, 3, 5, 5, 5, 3, 3, 3, 5, 5, 5, 5, 1, 3, 5, 5, 3, 1, 5, 0, 2, 3, 3, 3, 5, 5, 2, 3, 5, 5, 3, 3, 1, 3, 5, 2, 5, 2, 2, 2, 6, 3, 5, 5, 2, 5, 3, 4, 2, 5, 5, 2, 5, 5, 5, 3, 5, 3, 2, 3, 5, 3, 3, 3, 3, 3, 5, 5, 5, 3, 2, 2, 5, 3, 2, 5, 1, 2, 3, 5, 3, 3, 2, 5, 6, 3, 3, 3, 2, 3, 3, 3, 5, 2, 3, 5, 4, 5], \"colorscale\": [[0.0, \"orange\"], [0.16666666666666666, \"red\"], [0.3333333333333333, \"pink\"], [0.5, \"green\"], [0.6666666666666666, \"purple\"], [0.8333333333333334, \"blue\"], [1.0, \"black\"]]}, \"type\": \"parcoords\"}],\n",
       "                        {\"paper_bgcolor\": \"white\", \"plot_bgcolor\": \"white\", \"template\": {\"data\": {\"bar\": [{\"error_x\": {\"color\": \"#2a3f5f\"}, \"error_y\": {\"color\": \"#2a3f5f\"}, \"marker\": {\"line\": {\"color\": \"#E5ECF6\", \"width\": 0.5}}, \"type\": \"bar\"}], \"barpolar\": [{\"marker\": {\"line\": {\"color\": \"#E5ECF6\", \"width\": 0.5}}, \"type\": \"barpolar\"}], \"carpet\": [{\"aaxis\": {\"endlinecolor\": \"#2a3f5f\", \"gridcolor\": \"white\", \"linecolor\": \"white\", \"minorgridcolor\": \"white\", \"startlinecolor\": \"#2a3f5f\"}, \"baxis\": {\"endlinecolor\": \"#2a3f5f\", \"gridcolor\": \"white\", \"linecolor\": \"white\", \"minorgridcolor\": \"white\", \"startlinecolor\": \"#2a3f5f\"}, \"type\": \"carpet\"}], \"choropleth\": [{\"colorbar\": {\"outlinewidth\": 0, \"ticks\": \"\"}, \"type\": \"choropleth\"}], \"contour\": [{\"colorbar\": {\"outlinewidth\": 0, \"ticks\": \"\"}, \"colorscale\": [[0.0, \"#0d0887\"], [0.1111111111111111, \"#46039f\"], [0.2222222222222222, \"#7201a8\"], [0.3333333333333333, \"#9c179e\"], [0.4444444444444444, \"#bd3786\"], [0.5555555555555556, \"#d8576b\"], [0.6666666666666666, \"#ed7953\"], [0.7777777777777778, \"#fb9f3a\"], [0.8888888888888888, \"#fdca26\"], [1.0, \"#f0f921\"]], \"type\": \"contour\"}], \"contourcarpet\": [{\"colorbar\": {\"outlinewidth\": 0, \"ticks\": \"\"}, \"type\": \"contourcarpet\"}], \"heatmap\": [{\"colorbar\": {\"outlinewidth\": 0, \"ticks\": \"\"}, \"colorscale\": [[0.0, \"#0d0887\"], [0.1111111111111111, \"#46039f\"], [0.2222222222222222, \"#7201a8\"], [0.3333333333333333, \"#9c179e\"], [0.4444444444444444, \"#bd3786\"], [0.5555555555555556, \"#d8576b\"], [0.6666666666666666, \"#ed7953\"], [0.7777777777777778, \"#fb9f3a\"], [0.8888888888888888, \"#fdca26\"], [1.0, \"#f0f921\"]], \"type\": \"heatmap\"}], \"heatmapgl\": [{\"colorbar\": {\"outlinewidth\": 0, \"ticks\": \"\"}, \"colorscale\": [[0.0, \"#0d0887\"], [0.1111111111111111, \"#46039f\"], [0.2222222222222222, \"#7201a8\"], [0.3333333333333333, \"#9c179e\"], [0.4444444444444444, \"#bd3786\"], [0.5555555555555556, \"#d8576b\"], [0.6666666666666666, \"#ed7953\"], [0.7777777777777778, \"#fb9f3a\"], [0.8888888888888888, \"#fdca26\"], [1.0, \"#f0f921\"]], \"type\": \"heatmapgl\"}], \"histogram\": [{\"marker\": {\"colorbar\": {\"outlinewidth\": 0, \"ticks\": \"\"}}, \"type\": \"histogram\"}], \"histogram2d\": [{\"colorbar\": {\"outlinewidth\": 0, \"ticks\": \"\"}, \"colorscale\": [[0.0, \"#0d0887\"], [0.1111111111111111, \"#46039f\"], [0.2222222222222222, \"#7201a8\"], [0.3333333333333333, \"#9c179e\"], [0.4444444444444444, \"#bd3786\"], [0.5555555555555556, \"#d8576b\"], [0.6666666666666666, \"#ed7953\"], [0.7777777777777778, \"#fb9f3a\"], [0.8888888888888888, \"#fdca26\"], [1.0, \"#f0f921\"]], \"type\": \"histogram2d\"}], \"histogram2dcontour\": [{\"colorbar\": {\"outlinewidth\": 0, \"ticks\": \"\"}, \"colorscale\": [[0.0, \"#0d0887\"], [0.1111111111111111, \"#46039f\"], [0.2222222222222222, \"#7201a8\"], [0.3333333333333333, \"#9c179e\"], [0.4444444444444444, \"#bd3786\"], [0.5555555555555556, \"#d8576b\"], [0.6666666666666666, \"#ed7953\"], [0.7777777777777778, \"#fb9f3a\"], [0.8888888888888888, \"#fdca26\"], [1.0, \"#f0f921\"]], \"type\": \"histogram2dcontour\"}], \"mesh3d\": [{\"colorbar\": {\"outlinewidth\": 0, \"ticks\": \"\"}, \"type\": \"mesh3d\"}], \"parcoords\": [{\"line\": {\"colorbar\": {\"outlinewidth\": 0, \"ticks\": \"\"}}, \"type\": \"parcoords\"}], \"pie\": [{\"automargin\": true, \"type\": \"pie\"}], \"scatter\": [{\"marker\": {\"colorbar\": {\"outlinewidth\": 0, \"ticks\": \"\"}}, \"type\": \"scatter\"}], \"scatter3d\": [{\"line\": {\"colorbar\": {\"outlinewidth\": 0, \"ticks\": \"\"}}, \"marker\": {\"colorbar\": {\"outlinewidth\": 0, \"ticks\": \"\"}}, \"type\": \"scatter3d\"}], \"scattercarpet\": [{\"marker\": {\"colorbar\": {\"outlinewidth\": 0, \"ticks\": \"\"}}, \"type\": \"scattercarpet\"}], \"scattergeo\": [{\"marker\": {\"colorbar\": {\"outlinewidth\": 0, \"ticks\": \"\"}}, \"type\": \"scattergeo\"}], \"scattergl\": [{\"marker\": {\"colorbar\": {\"outlinewidth\": 0, \"ticks\": \"\"}}, \"type\": \"scattergl\"}], \"scattermapbox\": [{\"marker\": {\"colorbar\": {\"outlinewidth\": 0, \"ticks\": \"\"}}, \"type\": \"scattermapbox\"}], \"scatterpolar\": [{\"marker\": {\"colorbar\": {\"outlinewidth\": 0, \"ticks\": \"\"}}, \"type\": \"scatterpolar\"}], \"scatterpolargl\": [{\"marker\": {\"colorbar\": {\"outlinewidth\": 0, \"ticks\": \"\"}}, \"type\": \"scatterpolargl\"}], \"scatterternary\": [{\"marker\": {\"colorbar\": {\"outlinewidth\": 0, \"ticks\": \"\"}}, \"type\": \"scatterternary\"}], \"surface\": [{\"colorbar\": {\"outlinewidth\": 0, \"ticks\": \"\"}, \"colorscale\": [[0.0, \"#0d0887\"], [0.1111111111111111, \"#46039f\"], [0.2222222222222222, \"#7201a8\"], [0.3333333333333333, \"#9c179e\"], [0.4444444444444444, \"#bd3786\"], [0.5555555555555556, \"#d8576b\"], [0.6666666666666666, \"#ed7953\"], [0.7777777777777778, \"#fb9f3a\"], [0.8888888888888888, \"#fdca26\"], [1.0, \"#f0f921\"]], \"type\": \"surface\"}], \"table\": [{\"cells\": {\"fill\": {\"color\": \"#EBF0F8\"}, \"line\": {\"color\": \"white\"}}, \"header\": {\"fill\": {\"color\": \"#C8D4E3\"}, \"line\": {\"color\": \"white\"}}, \"type\": \"table\"}]}, \"layout\": {\"annotationdefaults\": {\"arrowcolor\": \"#2a3f5f\", \"arrowhead\": 0, \"arrowwidth\": 1}, \"coloraxis\": {\"colorbar\": {\"outlinewidth\": 0, \"ticks\": \"\"}}, \"colorscale\": {\"diverging\": [[0, \"#8e0152\"], [0.1, \"#c51b7d\"], [0.2, \"#de77ae\"], [0.3, \"#f1b6da\"], [0.4, \"#fde0ef\"], [0.5, \"#f7f7f7\"], [0.6, \"#e6f5d0\"], [0.7, \"#b8e186\"], [0.8, \"#7fbc41\"], [0.9, \"#4d9221\"], [1, \"#276419\"]], \"sequential\": [[0.0, \"#0d0887\"], [0.1111111111111111, \"#46039f\"], [0.2222222222222222, \"#7201a8\"], [0.3333333333333333, \"#9c179e\"], [0.4444444444444444, \"#bd3786\"], [0.5555555555555556, \"#d8576b\"], [0.6666666666666666, \"#ed7953\"], [0.7777777777777778, \"#fb9f3a\"], [0.8888888888888888, \"#fdca26\"], [1.0, \"#f0f921\"]], \"sequentialminus\": [[0.0, \"#0d0887\"], [0.1111111111111111, \"#46039f\"], [0.2222222222222222, \"#7201a8\"], [0.3333333333333333, \"#9c179e\"], [0.4444444444444444, \"#bd3786\"], [0.5555555555555556, \"#d8576b\"], [0.6666666666666666, \"#ed7953\"], [0.7777777777777778, \"#fb9f3a\"], [0.8888888888888888, \"#fdca26\"], [1.0, \"#f0f921\"]]}, \"colorway\": [\"#636efa\", \"#EF553B\", \"#00cc96\", \"#ab63fa\", \"#FFA15A\", \"#19d3f3\", \"#FF6692\", \"#B6E880\", \"#FF97FF\", \"#FECB52\"], \"font\": {\"color\": \"#2a3f5f\"}, \"geo\": {\"bgcolor\": \"white\", \"lakecolor\": \"white\", \"landcolor\": \"#E5ECF6\", \"showlakes\": true, \"showland\": true, \"subunitcolor\": \"white\"}, \"hoverlabel\": {\"align\": \"left\"}, \"hovermode\": \"closest\", \"mapbox\": {\"style\": \"light\"}, \"paper_bgcolor\": \"white\", \"plot_bgcolor\": \"#E5ECF6\", \"polar\": {\"angularaxis\": {\"gridcolor\": \"white\", \"linecolor\": \"white\", \"ticks\": \"\"}, \"bgcolor\": \"#E5ECF6\", \"radialaxis\": {\"gridcolor\": \"white\", \"linecolor\": \"white\", \"ticks\": \"\"}}, \"scene\": {\"xaxis\": {\"backgroundcolor\": \"#E5ECF6\", \"gridcolor\": \"white\", \"gridwidth\": 2, \"linecolor\": \"white\", \"showbackground\": true, \"ticks\": \"\", \"zerolinecolor\": \"white\"}, \"yaxis\": {\"backgroundcolor\": \"#E5ECF6\", \"gridcolor\": \"white\", \"gridwidth\": 2, \"linecolor\": \"white\", \"showbackground\": true, \"ticks\": \"\", \"zerolinecolor\": \"white\"}, \"zaxis\": {\"backgroundcolor\": \"#E5ECF6\", \"gridcolor\": \"white\", \"gridwidth\": 2, \"linecolor\": \"white\", \"showbackground\": true, \"ticks\": \"\", \"zerolinecolor\": \"white\"}}, \"shapedefaults\": {\"line\": {\"color\": \"#2a3f5f\"}}, \"ternary\": {\"aaxis\": {\"gridcolor\": \"white\", \"linecolor\": \"white\", \"ticks\": \"\"}, \"baxis\": {\"gridcolor\": \"white\", \"linecolor\": \"white\", \"ticks\": \"\"}, \"bgcolor\": \"#E5ECF6\", \"caxis\": {\"gridcolor\": \"white\", \"linecolor\": \"white\", \"ticks\": \"\"}}, \"title\": {\"x\": 0.05}, \"xaxis\": {\"automargin\": true, \"gridcolor\": \"white\", \"linecolor\": \"white\", \"ticks\": \"\", \"title\": {\"standoff\": 15}, \"zerolinecolor\": \"white\", \"zerolinewidth\": 2}, \"yaxis\": {\"automargin\": true, \"gridcolor\": \"white\", \"linecolor\": \"white\", \"ticks\": \"\", \"title\": {\"standoff\": 15}, \"zerolinecolor\": \"white\", \"zerolinewidth\": 2}}}},\n",
       "                        {\"responsive\": true}\n",
       "                    ).then(function(){\n",
       "                            \n",
       "var gd = document.getElementById('cc0d9d62-5e7f-4233-858b-0c02be958a45');\n",
       "var x = new MutationObserver(function (mutations, observer) {{\n",
       "        var display = window.getComputedStyle(gd).display;\n",
       "        if (!display || display === 'none') {{\n",
       "            console.log([gd, 'removed!']);\n",
       "            Plotly.purge(gd);\n",
       "            observer.disconnect();\n",
       "        }}\n",
       "}});\n",
       "\n",
       "// Listen for the removal of the full notebook cells\n",
       "var notebookContainer = gd.closest('#notebook-container');\n",
       "if (notebookContainer) {{\n",
       "    x.observe(notebookContainer, {childList: true});\n",
       "}}\n",
       "\n",
       "// Listen for the clearing of the current output cell\n",
       "var outputEl = gd.closest('.output');\n",
       "if (outputEl) {{\n",
       "    x.observe(outputEl, {childList: true});\n",
       "}}\n",
       "\n",
       "                        })\n",
       "                };\n",
       "                });\n",
       "            </script>\n",
       "        </div>"
      ]
     },
     "metadata": {},
     "output_type": "display_data"
    }
   ],
   "source": [
    "fig = go.Figure(data=\n",
    "    go.Parcoords(\n",
    "        line = dict(color = precdf['mencao'],\n",
    "                     colorscale=[\"orange\",\"red\",\"pink\",\"green\",\"purple\",\"blue\",\"black\"]),\n",
    "        dimensions = list([\n",
    "            dict(range = [20102,20192],\n",
    "                label = 'Período', values = precdf['periodo']),\n",
    "            dict(range = [316000,316700],\n",
    "                label = 'Código da Disciplina', values = precdf['codigo_disciplina']),\n",
    "            dict(range = [0,9],\n",
    "                label = 'Tempo', values = precdf['Tempo'])\n",
    "        ])\n",
    "    )\n",
    ")\n",
    "\n",
    "fig.update_layout(\n",
    "    plot_bgcolor = 'white',\n",
    "    paper_bgcolor = 'white'\n",
    ")\n",
    "fig.show()\n"
   ]
  },
  {
   "cell_type": "code",
   "execution_count": 493,
   "metadata": {},
   "outputs": [],
   "source": [
    "#coursesArray = pd.unique(df['Disciplina'].values)\n",
    "#courses = coursesArray.tolist()\n",
    "\n",
    "#discNames = {}\n",
    "\n",
    "#invdict = {}\n",
    "#for i in range(0,len(courses)):\n",
    "#    discNames[i] = courses[i]\n",
    "#    invdict[courses[i]] = i\n",
    "\n",
    "#print(discNomes)\n",
    "\n",
    "#codesArray = pd.unique(df['Código da Disciplina'].values)\n",
    "#codes = codesArray.tolist()\n",
    "\n",
    "#discCodes = {}\n",
    "\n",
    "#invdict2 = {}\n",
    "#for i in range(0,len(codes)):\n",
    "#    discCodes[i] = codes[i]\n",
    "#    invdict2[codes[i]] = i\n",
    "\n",
    "\n",
    "#for i in range(0,len(courses)):\n",
    "#    print(str(discCodes[i])+' '+str(discNames[i]))\n"
   ]
  },
  {
   "cell_type": "code",
   "execution_count": null,
   "metadata": {},
   "outputs": [],
   "source": []
  }
 ],
 "metadata": {
  "kernelspec": {
   "display_name": "Python 3",
   "language": "python",
   "name": "python3"
  },
  "language_info": {
   "codemirror_mode": {
    "name": "ipython",
    "version": 3
   },
   "file_extension": ".py",
   "mimetype": "text/x-python",
   "name": "python",
   "nbconvert_exporter": "python",
   "pygments_lexer": "ipython3",
   "version": "3.6.10"
  }
 },
 "nbformat": 4,
 "nbformat_minor": 2
}
